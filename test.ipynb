{
 "cells": [
  {
   "cell_type": "code",
   "execution_count": 1,
   "id": "014f811b",
   "metadata": {},
   "outputs": [],
   "source": [
    "import argparse\n",
    "import os\n",
    "os.umask(0)\n",
    "# os.environ[\"MKL_NUM_THREADS\"] = \"1\"\n",
    "# os.environ[\"NUMEXPR_NUM_THREADS\"] = \"1\"\n",
    "# os.environ[\"OMP_NUM_THREADS\"] = \"1\"\n",
    "import pickle\n",
    "import sys\n",
    "from importlib import import_module\n",
    "\n",
    "import torch\n",
    "from torch.utils.data import DataLoader, Sampler\n",
    "from torch.utils.data.distributed import DistributedSampler\n",
    "from tqdm import tqdm\n",
    "\n",
    "from data import ArgoTestDataset\n",
    "from torch.utils.data import Sampler, DataLoader\n",
    "from utils import Logger, load_pretrain\n",
    "\n",
    "\n"
   ]
  },
  {
   "cell_type": "code",
   "execution_count": 2,
   "id": "f44dcf48",
   "metadata": {},
   "outputs": [
    {
     "data": {
      "text/plain": [
       "<All keys matched successfully>"
      ]
     },
     "execution_count": 2,
     "metadata": {},
     "output_type": "execute_result"
    }
   ],
   "source": [
    "\n",
    "\n",
    "# Import all settings for experiment.\n",
    "\n",
    "model = import_module(\"lanegcn\")\n",
    "config, _, collate_fn, net, loss, post_process, opt = model.get_model()\n",
    "\n",
    "# load pretrain model\n",
    "# ckpt_path = \"/mnt/lustre/tangxiaqiang/Code/LaneGCN/36.000.ckpt\"\n",
    "# if not os.path.isabs(ckpt_path):\n",
    "#     ckpt_path = os.path.join(config[\"save_dir\"], ckpt_path)\n",
    "# ckpt = torch.load(ckpt_path, map_location=lambda storage, loc: storage)\n",
    "\n",
    "# # load a ddp model \n",
    "# from collections import OrderedDict\n",
    "# new_state_dict = OrderedDict()  \n",
    "# for k, v in ckpt[\"state_dict\"].items():\n",
    "#     name = k[7:] # remove `module.`\n",
    "#     new_state_dict[name] = v\n",
    "# net.load_state_dict(new_state_dict,strict=True)\n",
    "\n",
    "\n",
    "ckpt_path = \"/mnt/lustre/tangxiaqiang/Code/LaneGCN/pretrain.ckpt\"\n",
    "if not os.path.isabs(ckpt_path):\n",
    "    ckpt_path = os.path.join(config[\"save_dir\"], ckpt_path)\n",
    "ckpt = torch.load(ckpt_path, map_location=lambda storage, loc: storage)\n",
    "net.load_state_dict(ckpt[\"state_dict\"],strict=True)\n",
    "\n",
    "# from collections import OrderedDict\n",
    "# new_state_dict = OrderedDict()  \n",
    "# ckpt_path = \"/mnt/lustre/tangxiaqiang/Code/LaneGCN/model.ckpt\"\n",
    "# ckpt = torch.load(ckpt_path, map_location=lambda storage, loc: storage)\n",
    "# for k, v in ckpt.items():\n",
    "#     name = k[7:] # remove `module.`\n",
    "#     new_state_dict[name] = v\n",
    "# net.load_state_dict(new_state_dict,strict=True)"
   ]
  },
  {
   "cell_type": "code",
   "execution_count": 5,
   "id": "f7b2bbc8-fd74-4857-85cf-e82c4d90a0a6",
   "metadata": {},
   "outputs": [
    {
     "data": {
      "text/plain": [
       "{'display_iters': 400,\n",
       " 'val_iters': 1608,\n",
       " 'save_freq': 1.0,\n",
       " 'epoch': 0,\n",
       " 'horovod': True,\n",
       " 'opt': 'adam',\n",
       " 'num_epochs': 36,\n",
       " 'lr': [0.004, 0.0004],\n",
       " 'lr_epochs': [32],\n",
       " 'lr_func': <utils.StepLR at 0x7fe007a49a10>,\n",
       " 'save_dir': '/mnt/lustre/tangxiaqiang/Code/LaneGCN/results/lanegcn',\n",
       " 'batch_size': 128,\n",
       " 'val_batch_size': 32,\n",
       " 'workers': 0,\n",
       " 'val_workers': 0,\n",
       " 'train_split': '/mnt/lustre/tangxiaqiang/Code/LaneGCN/dataset/train/data',\n",
       " 'val_split': '/mnt/lustre/tangxiaqiang/Code/LaneGCN/dataset/val/data',\n",
       " 'test_split': '/mnt/lustre/tangxiaqiang/Code/LaneGCN/dataset/test_obs/data',\n",
       " 'preprocess': True,\n",
       " 'preprocess_train': '/mnt/lustre/tangxiaqiang/Code/LaneGCN/dataset/preprocess/train_crs_dist6_angle90.p',\n",
       " 'preprocess_val': '/mnt/lustre/tangxiaqiang/Code/LaneGCN/dataset/preprocess/val_crs_dist6_angle90.p',\n",
       " 'preprocess_test': '/mnt/lustre/tangxiaqiang/Code/LaneGCN/dataset/preprocess/test_test.p',\n",
       " 'rot_aug': False,\n",
       " 'pred_range': [-100.0, 100.0, -100.0, 100.0],\n",
       " 'num_scales': 6,\n",
       " 'n_actor': 128,\n",
       " 'n_map': 128,\n",
       " 'actor2map_dist': 7.0,\n",
       " 'map2actor_dist': 6.0,\n",
       " 'actor2actor_dist': 100.0,\n",
       " 'pred_size': 30,\n",
       " 'pred_step': 1,\n",
       " 'num_preds': 30,\n",
       " 'num_mods': 6,\n",
       " 'cls_coef': 1.0,\n",
       " 'reg_coef': 1.0,\n",
       " 'mgn': 0.2,\n",
       " 'cls_th': 2.0,\n",
       " 'cls_ignore': 0.2}"
      ]
     },
     "execution_count": 5,
     "metadata": {},
     "output_type": "execute_result"
    }
   ],
   "source": [
    "config\n"
   ]
  },
  {
   "cell_type": "code",
   "execution_count": 3,
   "id": "c6363a56-3361-49fc-b230-1babbeef6f9a",
   "metadata": {},
   "outputs": [],
   "source": [
    "config['preprocess']=True\n",
    "# Data loader for evaluation\n",
    "\n",
    "Dataset=_\n",
    "dataset = Dataset(config[\"val_split\"], config, train=False)\n",
    "val_loader = DataLoader(\n",
    "    dataset,\n",
    "    batch_size=config[\"val_batch_size\"],\n",
    "    num_workers=config[\"val_workers\"],\n",
    "    collate_fn=collate_fn,\n",
    "    shuffle=True,\n",
    "    pin_memory=True,\n",
    ")\n",
    "\n",
    "# batch=next(iter(val_loader))\n",
    "# batch\n",
    "##test dataloader\n",
    "# dataset = ArgoTestDataset(\"test\", config, train=False)\n",
    "# test_loader = DataLoader(\n",
    "#     dataset,\n",
    "#     batch_size=128,#config[\"val_batch_size\"],\n",
    "#     num_workers=config[\"val_workers\"],\n",
    "#     collate_fn=collate_fn,\n",
    "#     shuffle=True,\n",
    "#     pin_memory=True,\n",
    "# )\n"
   ]
  },
  {
   "cell_type": "code",
   "execution_count": 4,
   "id": "95a734dd-9d9d-452f-a8ad-c6ade43ab5f8",
   "metadata": {},
   "outputs": [
    {
     "name": "stderr",
     "output_type": "stream",
     "text": [
      "1it [01:43, 103.92s/it]"
     ]
    },
    {
     "name": "stdout",
     "output_type": "stream",
     "text": [
      "{'cls_loss': tensor(211.7278, device='cuda:0'), 'num_cls': 797, 'reg_loss': tensor(61167.3672, device='cuda:0'), 'num_reg': 12306, 'loss': tensor(5.2362, device='cuda:0')}\n",
      "Epoch 0.000, lr 0.00000, time 0.00\n",
      "Wed Jul 27 08:46:15 2022\n",
      "loss 5.2362 0.2657 4.9705, ade1 10.7087, fde1 19.6735, ade 8.4153, fde 13.9891\n",
      "\n"
     ]
    },
    {
     "name": "stderr",
     "output_type": "stream",
     "text": [
      "2it [01:44, 42.95s/it] "
     ]
    },
    {
     "name": "stdout",
     "output_type": "stream",
     "text": [
      "{'cls_loss': tensor(134.3954, device='cuda:0'), 'num_cls': 720, 'reg_loss': tensor(70207.8438, device='cuda:0'), 'num_reg': 11848, 'loss': tensor(6.1124, device='cuda:0')}\n",
      "Epoch 0.000, lr 0.00000, time 0.00\n",
      "Wed Jul 27 08:46:15 2022\n",
      "loss 5.6672 0.2282 5.4391, ade1 12.1658, fde1 23.2308, ade 8.3240, fde 14.0980\n",
      "\n"
     ]
    },
    {
     "name": "stderr",
     "output_type": "stream",
     "text": [
      "3it [01:44, 23.70s/it]"
     ]
    },
    {
     "name": "stdout",
     "output_type": "stream",
     "text": [
      "{'cls_loss': tensor(90.6802, device='cuda:0'), 'num_cls': 529, 'reg_loss': tensor(53667.6953, device='cuda:0'), 'num_reg': 10078, 'loss': tensor(5.4967, device='cuda:0')}\n",
      "Epoch 0.000, lr 0.00000, time 0.00\n",
      "Wed Jul 27 08:46:16 2022\n",
      "loss 5.6190 0.2135 5.4056, ade1 12.6947, fde1 24.2027, ade 8.3762, fde 14.3169\n",
      "\n"
     ]
    },
    {
     "name": "stderr",
     "output_type": "stream",
     "text": [
      "4it [01:45, 14.45s/it]"
     ]
    },
    {
     "name": "stdout",
     "output_type": "stream",
     "text": [
      "{'cls_loss': tensor(112.7256, device='cuda:0'), 'num_cls': 645, 'reg_loss': tensor(54280.5312, device='cuda:0'), 'num_reg': 10881, 'loss': tensor(5.1633, device='cuda:0')}\n",
      "Epoch 0.000, lr 0.00000, time 0.00\n",
      "Wed Jul 27 08:46:16 2022\n",
      "loss 5.5092 0.2042 5.3050, ade1 12.8227, fde1 24.6109, ade 8.0853, fde 13.8089\n",
      "\n"
     ]
    },
    {
     "name": "stderr",
     "output_type": "stream",
     "text": [
      "5it [01:45,  9.33s/it]"
     ]
    },
    {
     "name": "stdout",
     "output_type": "stream",
     "text": [
      "{'cls_loss': tensor(83.0545, device='cuda:0'), 'num_cls': 438, 'reg_loss': tensor(64558.1016, device='cuda:0'), 'num_reg': 9644, 'loss': tensor(6.8837, device='cuda:0')}\n",
      "Epoch 0.000, lr 0.00000, time 0.00\n",
      "Wed Jul 27 08:46:17 2022\n",
      "loss 5.7518 0.2022 5.5496, ade1 12.8971, fde1 24.9858, ade 7.7549, fde 13.1935\n",
      "\n"
     ]
    },
    {
     "name": "stderr",
     "output_type": "stream",
     "text": [
      "6it [01:45,  6.23s/it]"
     ]
    },
    {
     "name": "stdout",
     "output_type": "stream",
     "text": [
      "{'cls_loss': tensor(77.2971, device='cuda:0'), 'num_cls': 457, 'reg_loss': tensor(83232.3125, device='cuda:0'), 'num_reg': 11598, 'loss': tensor(7.3456, device='cuda:0')}\n",
      "Epoch 0.000, lr 0.00000, time 0.00\n",
      "Wed Jul 27 08:46:17 2022\n",
      "loss 6.0319 0.1980 5.8340, ade1 13.3384, fde1 25.6577, ade 8.0802, fde 13.5979\n",
      "\n"
     ]
    },
    {
     "name": "stderr",
     "output_type": "stream",
     "text": [
      "7it [01:46,  4.59s/it]"
     ]
    },
    {
     "name": "stdout",
     "output_type": "stream",
     "text": [
      "{'cls_loss': tensor(113.2933, device='cuda:0'), 'num_cls': 641, 'reg_loss': tensor(69376.8125, device='cuda:0'), 'num_reg': 11301, 'loss': tensor(6.3157, device='cuda:0')}\n",
      "Epoch 0.000, lr 0.00000, time 0.00\n",
      "Wed Jul 27 08:46:18 2022\n",
      "loss 6.0731 0.1947 5.8784, ade1 13.5469, fde1 26.0998, ade 8.1815, fde 13.8521\n",
      "\n"
     ]
    },
    {
     "name": "stderr",
     "output_type": "stream",
     "text": [
      "8it [01:47,  3.20s/it]"
     ]
    },
    {
     "name": "stdout",
     "output_type": "stream",
     "text": [
      "{'cls_loss': tensor(94.1642, device='cuda:0'), 'num_cls': 504, 'reg_loss': tensor(62395.0312, device='cuda:0'), 'num_reg': 9511, 'loss': tensor(6.7471, device='cuda:0')}\n",
      "Epoch 0.000, lr 0.00000, time 0.00\n",
      "Wed Jul 27 08:46:18 2022\n",
      "loss 6.1467 0.1939 5.9528, ade1 13.7549, fde1 26.5677, ade 8.1469, fde 13.8205\n",
      "\n"
     ]
    },
    {
     "name": "stderr",
     "output_type": "stream",
     "text": [
      "9it [01:47,  2.27s/it]"
     ]
    },
    {
     "name": "stdout",
     "output_type": "stream",
     "text": [
      "{'cls_loss': tensor(104.5871, device='cuda:0'), 'num_cls': 597, 'reg_loss': tensor(56950.2617, device='cuda:0'), 'num_reg': 10017, 'loss': tensor(5.8605, device='cuda:0')}\n",
      "Epoch 0.000, lr 0.00000, time 0.00\n",
      "Wed Jul 27 08:46:18 2022\n",
      "loss 6.1170 0.1918 5.9252, ade1 13.9667, fde1 27.0345, ade 8.0979, fde 13.8472\n",
      "\n"
     ]
    },
    {
     "name": "stderr",
     "output_type": "stream",
     "text": [
      "10it [01:47,  1.63s/it]"
     ]
    },
    {
     "name": "stdout",
     "output_type": "stream",
     "text": [
      "{'cls_loss': tensor(93.1006, device='cuda:0'), 'num_cls': 440, 'reg_loss': tensor(67503.1641, device='cuda:0'), 'num_reg': 9429, 'loss': tensor(7.3707, device='cuda:0')}\n",
      "Epoch 0.000, lr 0.00000, time 0.00\n",
      "Wed Jul 27 08:46:19 2022\n",
      "loss 6.2277 0.1933 6.0343, ade1 14.1299, fde1 27.4111, ade 8.3011, fde 14.2771\n",
      "\n"
     ]
    },
    {
     "name": "stderr",
     "output_type": "stream",
     "text": [
      "11it [01:47,  1.21s/it]"
     ]
    },
    {
     "name": "stdout",
     "output_type": "stream",
     "text": [
      "{'cls_loss': tensor(164.8007, device='cuda:0'), 'num_cls': 883, 'reg_loss': tensor(54110.5273, device='cuda:0'), 'num_reg': 13478, 'loss': tensor(4.2014, device='cuda:0')}\n",
      "Epoch 0.000, lr 0.00000, time 0.00\n",
      "Wed Jul 27 08:46:19 2022\n",
      "loss 6.0001 0.1924 5.8077, ade1 13.8619, fde1 26.9808, ade 7.9878, fde 13.5511\n",
      "\n"
     ]
    },
    {
     "name": "stderr",
     "output_type": "stream",
     "text": [
      "12it [01:48,  1.10it/s]"
     ]
    },
    {
     "name": "stdout",
     "output_type": "stream",
     "text": [
      "{'cls_loss': tensor(105.4965, device='cuda:0'), 'num_cls': 475, 'reg_loss': tensor(65854.8516, device='cuda:0'), 'num_reg': 10698, 'loss': tensor(6.3779, device='cuda:0')}\n",
      "Epoch 0.000, lr 0.00000, time 0.00\n",
      "Wed Jul 27 08:46:19 2022\n",
      "loss 6.0306 0.1944 5.8362, ade1 13.9999, fde1 27.3839, ade 7.9802, fde 13.5602\n",
      "\n"
     ]
    },
    {
     "name": "stderr",
     "output_type": "stream",
     "text": [
      "13it [01:48,  1.26it/s]"
     ]
    },
    {
     "name": "stdout",
     "output_type": "stream",
     "text": [
      "{'cls_loss': tensor(69.7804, device='cuda:0'), 'num_cls': 327, 'reg_loss': tensor(64891.5391, device='cuda:0'), 'num_reg': 12515, 'loss': tensor(5.3985, device='cuda:0')}\n",
      "Epoch 0.000, lr 0.00000, time 0.00\n",
      "Wed Jul 27 08:46:20 2022\n",
      "loss 5.9745 0.1952 5.7793, ade1 14.1017, fde1 27.6160, ade 7.8350, fde 13.2449\n",
      "\n"
     ]
    },
    {
     "name": "stderr",
     "output_type": "stream",
     "text": [
      "14it [01:48,  1.61it/s]"
     ]
    },
    {
     "name": "stdout",
     "output_type": "stream",
     "text": [
      "{'cls_loss': tensor(87.9907, device='cuda:0'), 'num_cls': 491, 'reg_loss': tensor(54643.5078, device='cuda:0'), 'num_reg': 10331, 'loss': tensor(5.4685, device='cuda:0')}\n",
      "Epoch 0.000, lr 0.00000, time 0.00\n",
      "Wed Jul 27 08:46:20 2022\n",
      "loss 5.9406 0.1942 5.7463, ade1 13.9516, fde1 27.3107, ade 7.7234, fde 13.0478\n",
      "\n"
     ]
    },
    {
     "name": "stderr",
     "output_type": "stream",
     "text": [
      "15it [01:49,  1.99it/s]"
     ]
    },
    {
     "name": "stdout",
     "output_type": "stream",
     "text": [
      "{'cls_loss': tensor(112.2550, device='cuda:0'), 'num_cls': 581, 'reg_loss': tensor(66416.2031, device='cuda:0'), 'num_reg': 10031, 'loss': tensor(6.8143, device='cuda:0')}\n",
      "Epoch 0.000, lr 0.00000, time 0.00\n",
      "Wed Jul 27 08:46:20 2022\n",
      "loss 5.9941 0.1942 5.8000, ade1 14.1979, fde1 27.7690, ade 7.9657, fde 13.5117\n",
      "\n"
     ]
    },
    {
     "name": "stderr",
     "output_type": "stream",
     "text": [
      "16it [01:49,  2.41it/s]"
     ]
    },
    {
     "name": "stdout",
     "output_type": "stream",
     "text": [
      "{'cls_loss': tensor(128.9337, device='cuda:0'), 'num_cls': 568, 'reg_loss': tensor(54572.4883, device='cuda:0'), 'num_reg': 11099, 'loss': tensor(5.1439, device='cuda:0')}\n",
      "Epoch 0.000, lr 0.00000, time 0.00\n",
      "Wed Jul 27 08:46:20 2022\n",
      "loss 5.9401 0.1962 5.7439, ade1 14.1194, fde1 27.6374, ade 7.9260, fde 13.4085\n",
      "\n"
     ]
    },
    {
     "name": "stderr",
     "output_type": "stream",
     "text": [
      "17it [01:49,  2.77it/s]"
     ]
    },
    {
     "name": "stdout",
     "output_type": "stream",
     "text": [
      "{'cls_loss': tensor(96.7863, device='cuda:0'), 'num_cls': 511, 'reg_loss': tensor(78995.1875, device='cuda:0'), 'num_reg': 11299, 'loss': tensor(7.1807, device='cuda:0')}\n",
      "Epoch 0.000, lr 0.00000, time 0.00\n",
      "Wed Jul 27 08:46:21 2022\n",
      "loss 6.0155 0.1959 5.8196, ade1 14.1936, fde1 27.7553, ade 8.0884, fde 13.6432\n",
      "\n"
     ]
    },
    {
     "name": "stderr",
     "output_type": "stream",
     "text": [
      "19it [01:49,  3.67it/s]"
     ]
    },
    {
     "name": "stdout",
     "output_type": "stream",
     "text": [
      "{'cls_loss': tensor(127.3294, device='cuda:0'), 'num_cls': 702, 'reg_loss': tensor(54954.6016, device='cuda:0'), 'num_reg': 11734, 'loss': tensor(4.8647, device='cuda:0')}\n",
      "Epoch 0.000, lr 0.00000, time 0.00\n",
      "Wed Jul 27 08:46:21 2022\n",
      "loss 5.9471 0.1949 5.7522, ade1 14.0849, fde1 27.5413, ade 8.0312, fde 13.5572\n",
      "\n",
      "{'cls_loss': tensor(141.3457, device='cuda:0'), 'num_cls': 768, 'reg_loss': tensor(46907.7969, device='cuda:0'), 'num_reg': 10658, 'loss': tensor(4.5852, device='cuda:0')}\n",
      "Epoch 0.000, lr 0.00000, time 0.00\n",
      "Wed Jul 27 08:46:21 2022\n",
      "loss 5.8773 0.1941 5.6831, ade1 13.9574, fde1 27.3017, ade 7.9444, fde 13.4390\n",
      "\n"
     ]
    },
    {
     "name": "stderr",
     "output_type": "stream",
     "text": [
      "20it [01:50,  3.89it/s]"
     ]
    },
    {
     "name": "stdout",
     "output_type": "stream",
     "text": [
      "{'cls_loss': tensor(101.1037, device='cuda:0'), 'num_cls': 565, 'reg_loss': tensor(53636.5000, device='cuda:0'), 'num_reg': 10137, 'loss': tensor(5.4701, device='cuda:0')}\n",
      "Epoch 0.000, lr 0.00000, time 0.00\n",
      "Wed Jul 27 08:46:21 2022\n",
      "loss 5.8584 0.1934 5.6650, ade1 13.9304, fde1 27.2315, ade 7.8620, fde 13.3198\n",
      "\n"
     ]
    },
    {
     "name": "stderr",
     "output_type": "stream",
     "text": [
      "21it [01:50,  3.44it/s]"
     ]
    },
    {
     "name": "stdout",
     "output_type": "stream",
     "text": [
      "{'cls_loss': tensor(114.5002, device='cuda:0'), 'num_cls': 615, 'reg_loss': tensor(56960.7812, device='cuda:0'), 'num_reg': 12353, 'loss': tensor(4.7973, device='cuda:0')}\n",
      "Epoch 0.000, lr 0.00000, time 0.00\n",
      "Wed Jul 27 08:46:22 2022\n",
      "loss 5.8016 0.1930 5.6086, ade1 13.8499, fde1 27.0987, ade 7.8165, fde 13.2209\n",
      "\n"
     ]
    },
    {
     "name": "stderr",
     "output_type": "stream",
     "text": [
      "22it [01:50,  3.67it/s]"
     ]
    },
    {
     "name": "stdout",
     "output_type": "stream",
     "text": [
      "{'cls_loss': tensor(91.9233, device='cuda:0'), 'num_cls': 514, 'reg_loss': tensor(65331.9102, device='cuda:0'), 'num_reg': 10601, 'loss': tensor(6.3416, device='cuda:0')}\n",
      "Epoch 0.000, lr 0.00000, time 0.00\n",
      "Wed Jul 27 08:46:22 2022\n",
      "loss 5.8254 0.1925 5.6329, ade1 13.9270, fde1 27.2448, ade 7.9041, fde 13.3971\n",
      "\n"
     ]
    },
    {
     "name": "stderr",
     "output_type": "stream",
     "text": [
      "24it [01:51,  4.40it/s]"
     ]
    },
    {
     "name": "stdout",
     "output_type": "stream",
     "text": [
      "{'cls_loss': tensor(126.9879, device='cuda:0'), 'num_cls': 660, 'reg_loss': tensor(57058.9297, device='cuda:0'), 'num_reg': 11430, 'loss': tensor(5.1844, device='cuda:0')}\n",
      "Epoch 0.000, lr 0.00000, time 0.00\n",
      "Wed Jul 27 08:46:22 2022\n",
      "loss 5.7964 0.1925 5.6040, ade1 13.8887, fde1 27.1833, ade 7.8059, fde 13.2330\n",
      "\n",
      "{'cls_loss': tensor(99.4241, device='cuda:0'), 'num_cls': 507, 'reg_loss': tensor(65117.6328, device='cuda:0'), 'num_reg': 10068, 'loss': tensor(6.6639, device='cuda:0')}\n",
      "Epoch 0.000, lr 0.00000, time 0.00\n",
      "Wed Jul 27 08:46:22 2022\n",
      "loss 5.8296 0.1926 5.6370, ade1 13.9247, fde1 27.2811, ade 7.8127, fde 13.2368\n",
      "\n"
     ]
    },
    {
     "name": "stderr",
     "output_type": "stream",
     "text": [
      "25it [01:51,  4.41it/s]"
     ]
    },
    {
     "name": "stdout",
     "output_type": "stream",
     "text": [
      "{'cls_loss': tensor(90.0360, device='cuda:0'), 'num_cls': 481, 'reg_loss': tensor(64871.7383, device='cuda:0'), 'num_reg': 9604, 'loss': tensor(6.9418, device='cuda:0')}\n",
      "Epoch 0.000, lr 0.00000, time 0.00\n",
      "Wed Jul 27 08:46:22 2022\n",
      "loss 5.8688 0.1924 5.6764, ade1 13.9675, fde1 27.3609, ade 7.8089, fde 13.1951\n",
      "\n"
     ]
    },
    {
     "name": "stderr",
     "output_type": "stream",
     "text": [
      "26it [01:51,  4.41it/s]"
     ]
    },
    {
     "name": "stdout",
     "output_type": "stream",
     "text": [
      "{'cls_loss': tensor(93.4741, device='cuda:0'), 'num_cls': 511, 'reg_loss': tensor(68256.0781, device='cuda:0'), 'num_reg': 11352, 'loss': tensor(6.1956, device='cuda:0')}\n",
      "Epoch 0.000, lr 0.00000, time 0.00\n",
      "Wed Jul 27 08:46:23 2022\n",
      "loss 5.8819 0.1921 5.6898, ade1 13.9453, fde1 27.3239, ade 7.8274, fde 13.2726\n",
      "\n"
     ]
    },
    {
     "name": "stderr",
     "output_type": "stream",
     "text": [
      "27it [01:51,  4.34it/s]"
     ]
    },
    {
     "name": "stdout",
     "output_type": "stream",
     "text": [
      "{'cls_loss': tensor(165.5384, device='cuda:0'), 'num_cls': 897, 'reg_loss': tensor(45323.3203, device='cuda:0'), 'num_reg': 13288, 'loss': tensor(3.5954, device='cuda:0')}\n",
      "Epoch 0.000, lr 0.00000, time 0.00\n",
      "Wed Jul 27 08:46:23 2022\n",
      "loss 5.7796 0.1917 5.5880, ade1 13.7868, fde1 27.0594, ade 7.7119, fde 13.0372\n",
      "\n"
     ]
    },
    {
     "name": "stderr",
     "output_type": "stream",
     "text": [
      "28it [01:51,  4.42it/s]"
     ]
    },
    {
     "name": "stdout",
     "output_type": "stream",
     "text": [
      "{'cls_loss': tensor(74.9056, device='cuda:0'), 'num_cls': 429, 'reg_loss': tensor(68531.7500, device='cuda:0'), 'num_reg': 10920, 'loss': tensor(6.4504, device='cuda:0')}\n",
      "Epoch 0.000, lr 0.00000, time 0.00\n",
      "Wed Jul 27 08:46:23 2022\n",
      "loss 5.8035 0.1912 5.6123, ade1 13.8898, fde1 27.2754, ade 7.7237, fde 13.0095\n",
      "\n"
     ]
    },
    {
     "name": "stderr",
     "output_type": "stream",
     "text": [
      "29it [01:52,  4.39it/s]"
     ]
    },
    {
     "name": "stdout",
     "output_type": "stream",
     "text": [
      "{'cls_loss': tensor(109.7386, device='cuda:0'), 'num_cls': 624, 'reg_loss': tensor(68274.1875, device='cuda:0'), 'num_reg': 12125, 'loss': tensor(5.8067, device='cuda:0')}\n",
      "Epoch 0.000, lr 0.00000, time 0.00\n",
      "Wed Jul 27 08:46:23 2022\n",
      "loss 5.8037 0.1906 5.6130, ade1 13.9444, fde1 27.3594, ade 7.7877, fde 13.1149\n",
      "\n"
     ]
    },
    {
     "name": "stderr",
     "output_type": "stream",
     "text": [
      "30it [01:52,  4.33it/s]"
     ]
    },
    {
     "name": "stdout",
     "output_type": "stream",
     "text": [
      "{'cls_loss': tensor(106.8440, device='cuda:0'), 'num_cls': 579, 'reg_loss': tensor(53587.2734, device='cuda:0'), 'num_reg': 10413, 'loss': tensor(5.3307, device='cuda:0')}\n",
      "Epoch 0.000, lr 0.00000, time 0.00\n",
      "Wed Jul 27 08:46:24 2022\n",
      "loss 5.7888 0.1904 5.5983, ade1 13.9231, fde1 27.3040, ade 7.7559, fde 13.0662\n",
      "\n"
     ]
    },
    {
     "name": "stderr",
     "output_type": "stream",
     "text": [
      "31it [01:52,  4.35it/s]"
     ]
    },
    {
     "name": "stdout",
     "output_type": "stream",
     "text": [
      "{'cls_loss': tensor(100.7960, device='cuda:0'), 'num_cls': 575, 'reg_loss': tensor(48643.5859, device='cuda:0'), 'num_reg': 9990, 'loss': tensor(5.0445, device='cuda:0')}\n",
      "Epoch 0.000, lr 0.00000, time 0.00\n",
      "Wed Jul 27 08:46:24 2022\n",
      "loss 5.7669 0.1900 5.5770, ade1 13.9185, fde1 27.3030, ade 7.7394, fde 13.0508\n",
      "\n"
     ]
    },
    {
     "name": "stderr",
     "output_type": "stream",
     "text": [
      "32it [01:52,  4.44it/s]"
     ]
    },
    {
     "name": "stdout",
     "output_type": "stream",
     "text": [
      "{'cls_loss': tensor(70.2882, device='cuda:0'), 'num_cls': 395, 'reg_loss': tensor(40664.2305, device='cuda:0'), 'num_reg': 8921, 'loss': tensor(4.7362, device='cuda:0')}\n",
      "Epoch 0.000, lr 0.00000, time 0.00\n",
      "Wed Jul 27 08:46:24 2022\n",
      "loss 5.7407 0.1897 5.5510, ade1 13.9653, fde1 27.3871, ade 7.6627, fde 12.9232\n",
      "\n"
     ]
    },
    {
     "name": "stderr",
     "output_type": "stream",
     "text": [
      "33it [01:53,  3.12it/s]"
     ]
    },
    {
     "name": "stdout",
     "output_type": "stream",
     "text": [
      "{'cls_loss': tensor(115.9861, device='cuda:0'), 'num_cls': 741, 'reg_loss': tensor(49102.7266, device='cuda:0'), 'num_reg': 13361, 'loss': tensor(3.8316, device='cuda:0')}\n",
      "Epoch 0.000, lr 0.00000, time 0.00\n",
      "Wed Jul 27 08:46:25 2022\n",
      "loss 5.6703 0.1884 5.4819, ade1 13.8891, fde1 27.2580, ade 7.5981, fde 12.7944\n",
      "\n"
     ]
    },
    {
     "name": "stderr",
     "output_type": "stream",
     "text": [
      "34it [01:53,  3.43it/s]"
     ]
    },
    {
     "name": "stdout",
     "output_type": "stream",
     "text": [
      "{'cls_loss': tensor(115.9313, device='cuda:0'), 'num_cls': 630, 'reg_loss': tensor(71314.1562, device='cuda:0'), 'num_reg': 10571, 'loss': tensor(6.9302, device='cuda:0')}\n",
      "Epoch 0.000, lr 0.00000, time 0.00\n",
      "Wed Jul 27 08:46:25 2022\n",
      "loss 5.7060 0.1883 5.5177, ade1 13.8886, fde1 27.2599, ade 7.5951, fde 12.8190\n",
      "\n"
     ]
    },
    {
     "name": "stderr",
     "output_type": "stream",
     "text": [
      "35it [01:53,  3.67it/s]"
     ]
    },
    {
     "name": "stdout",
     "output_type": "stream",
     "text": [
      "{'cls_loss': tensor(154.4724, device='cuda:0'), 'num_cls': 736, 'reg_loss': tensor(53401.6484, device='cuda:0'), 'num_reg': 11997, 'loss': tensor(4.6611, device='cuda:0')}\n",
      "Epoch 0.000, lr 0.00000, time 0.00\n",
      "Wed Jul 27 08:46:25 2022\n",
      "loss 5.6736 0.1890 5.4845, ade1 13.8310, fde1 27.1187, ade 7.5567, fde 12.7252\n",
      "\n"
     ]
    },
    {
     "name": "stderr",
     "output_type": "stream",
     "text": [
      "36it [01:54,  3.90it/s]"
     ]
    },
    {
     "name": "stdout",
     "output_type": "stream",
     "text": [
      "{'cls_loss': tensor(103.1983, device='cuda:0'), 'num_cls': 585, 'reg_loss': tensor(66199.3906, device='cuda:0'), 'num_reg': 9749, 'loss': tensor(6.9668, device='cuda:0')}\n",
      "Epoch 0.000, lr 0.00000, time 0.00\n",
      "Wed Jul 27 08:46:25 2022\n",
      "loss 5.7054 0.1887 5.5167, ade1 13.8484, fde1 27.1521, ade 7.5392, fde 12.7269\n",
      "\n"
     ]
    },
    {
     "name": "stderr",
     "output_type": "stream",
     "text": [
      "37it [01:54,  3.99it/s]"
     ]
    },
    {
     "name": "stdout",
     "output_type": "stream",
     "text": [
      "{'cls_loss': tensor(115.8984, device='cuda:0'), 'num_cls': 611, 'reg_loss': tensor(56778.9375, device='cuda:0'), 'num_reg': 10776, 'loss': tensor(5.4587, device='cuda:0')}\n",
      "Epoch 0.000, lr 0.00000, time 0.00\n",
      "Wed Jul 27 08:46:25 2022\n",
      "loss 5.6989 0.1887 5.5102, ade1 13.9017, fde1 27.2669, ade 7.5952, fde 12.8417\n",
      "\n"
     ]
    },
    {
     "name": "stderr",
     "output_type": "stream",
     "text": [
      "39it [01:54,  4.52it/s]"
     ]
    },
    {
     "name": "stdout",
     "output_type": "stream",
     "text": [
      "{'cls_loss': tensor(121.4608, device='cuda:0'), 'num_cls': 682, 'reg_loss': tensor(46623.9922, device='cuda:0'), 'num_reg': 11390, 'loss': tensor(4.2715, device='cuda:0')}\n",
      "Epoch 0.000, lr 0.00000, time 0.00\n",
      "Wed Jul 27 08:46:26 2022\n",
      "loss 5.6599 0.1884 5.4715, ade1 13.8612, fde1 27.1871, ade 7.5625, fde 12.7802\n",
      "\n",
      "{'cls_loss': tensor(120.4233, device='cuda:0'), 'num_cls': 649, 'reg_loss': tensor(57156.2812, device='cuda:0'), 'num_reg': 11629, 'loss': tensor(5.1005, device='cuda:0')}\n",
      "Epoch 0.000, lr 0.00000, time 0.00\n",
      "Wed Jul 27 08:46:26 2022\n",
      "loss 5.6447 0.1883 5.4564, ade1 13.8557, fde1 27.1639, ade 7.5581, fde 12.7781\n",
      "\n"
     ]
    },
    {
     "name": "stderr",
     "output_type": "stream",
     "text": [
      "40it [01:54,  4.42it/s]"
     ]
    },
    {
     "name": "stdout",
     "output_type": "stream",
     "text": [
      "{'cls_loss': tensor(119.3260, device='cuda:0'), 'num_cls': 686, 'reg_loss': tensor(42727.8477, device='cuda:0'), 'num_reg': 10254, 'loss': tensor(4.3409, device='cuda:0')}\n",
      "Epoch 0.000, lr 0.00000, time 0.00\n",
      "Wed Jul 27 08:46:26 2022\n",
      "loss 5.6142 0.1879 5.4263, ade1 13.8531, fde1 27.1570, ade 7.5392, fde 12.7610\n",
      "\n"
     ]
    },
    {
     "name": "stderr",
     "output_type": "stream",
     "text": [
      "41it [01:55,  4.34it/s]"
     ]
    },
    {
     "name": "stdout",
     "output_type": "stream",
     "text": [
      "{'cls_loss': tensor(113.9341, device='cuda:0'), 'num_cls': 622, 'reg_loss': tensor(74943.7891, device='cuda:0'), 'num_reg': 12769, 'loss': tensor(6.0524, device='cuda:0')}\n",
      "Epoch 0.000, lr 0.00000, time 0.00\n",
      "Wed Jul 27 08:46:26 2022\n",
      "loss 5.6266 0.1878 5.4388, ade1 13.8604, fde1 27.1726, ade 7.5366, fde 12.7616\n",
      "\n"
     ]
    },
    {
     "name": "stderr",
     "output_type": "stream",
     "text": [
      "42it [01:55,  4.38it/s]"
     ]
    },
    {
     "name": "stdout",
     "output_type": "stream",
     "text": [
      "{'cls_loss': tensor(98.7720, device='cuda:0'), 'num_cls': 507, 'reg_loss': tensor(51250.1562, device='cuda:0'), 'num_reg': 9210, 'loss': tensor(5.7594, device='cuda:0')}\n",
      "Epoch 0.000, lr 0.00000, time 0.00\n",
      "Wed Jul 27 08:46:27 2022\n",
      "loss 5.6293 0.1879 5.4413, ade1 13.8253, fde1 27.0731, ade 7.5559, fde 12.7549\n",
      "\n"
     ]
    },
    {
     "name": "stderr",
     "output_type": "stream",
     "text": [
      "43it [01:55,  3.49it/s]"
     ]
    },
    {
     "name": "stdout",
     "output_type": "stream",
     "text": [
      "{'cls_loss': tensor(103.3885, device='cuda:0'), 'num_cls': 629, 'reg_loss': tensor(64548.1016, device='cuda:0'), 'num_reg': 11714, 'loss': tensor(5.6747, device='cuda:0')}\n",
      "Epoch 0.000, lr 0.00000, time 0.00\n",
      "Wed Jul 27 08:46:27 2022\n",
      "loss 5.6304 0.1873 5.4431, ade1 13.8260, fde1 27.0790, ade 7.5868, fde 12.8258\n",
      "\n"
     ]
    },
    {
     "name": "stderr",
     "output_type": "stream",
     "text": [
      "44it [01:56,  2.42it/s]"
     ]
    },
    {
     "name": "stdout",
     "output_type": "stream",
     "text": [
      "{'cls_loss': tensor(100.0997, device='cuda:0'), 'num_cls': 615, 'reg_loss': tensor(56408.2734, device='cuda:0'), 'num_reg': 11081, 'loss': tensor(5.2533, device='cuda:0')}\n",
      "Epoch 0.000, lr 0.00000, time 0.00\n",
      "Wed Jul 27 08:46:28 2022\n",
      "loss 5.6218 0.1868 5.4350, ade1 13.8219, fde1 27.0642, ade 7.5864, fde 12.8277\n",
      "\n"
     ]
    },
    {
     "name": "stderr",
     "output_type": "stream",
     "text": [
      "45it [01:56,  2.76it/s]"
     ]
    },
    {
     "name": "stdout",
     "output_type": "stream",
     "text": [
      "{'cls_loss': tensor(89.0756, device='cuda:0'), 'num_cls': 535, 'reg_loss': tensor(65260.4570, device='cuda:0'), 'num_reg': 10680, 'loss': tensor(6.2770, device='cuda:0')}\n",
      "Epoch 0.000, lr 0.00000, time 0.00\n",
      "Wed Jul 27 08:46:28 2022\n",
      "loss 5.6359 0.1864 5.4496, ade1 13.8271, fde1 27.0682, ade 7.5828, fde 12.8344\n",
      "\n"
     ]
    },
    {
     "name": "stderr",
     "output_type": "stream",
     "text": [
      "46it [01:57,  2.03it/s]"
     ]
    },
    {
     "name": "stdout",
     "output_type": "stream",
     "text": [
      "{'cls_loss': tensor(128.9277, device='cuda:0'), 'num_cls': 597, 'reg_loss': tensor(48610.3906, device='cuda:0'), 'num_reg': 10509, 'loss': tensor(4.8416, device='cuda:0')}\n",
      "Epoch 0.000, lr 0.00000, time 0.00\n",
      "Wed Jul 27 08:46:29 2022\n",
      "loss 5.6194 0.1870 5.4324, ade1 13.7945, fde1 27.0172, ade 7.5798, fde 12.8403\n",
      "\n"
     ]
    },
    {
     "name": "stderr",
     "output_type": "stream",
     "text": [
      "47it [01:57,  2.38it/s]"
     ]
    },
    {
     "name": "stdout",
     "output_type": "stream",
     "text": [
      "{'cls_loss': tensor(108.7443, device='cuda:0'), 'num_cls': 600, 'reg_loss': tensor(62197.2266, device='cuda:0'), 'num_reg': 12168, 'loss': tensor(5.2928, device='cuda:0')}\n",
      "Epoch 0.000, lr 0.00000, time 0.00\n",
      "Wed Jul 27 08:46:29 2022\n",
      "loss 5.6118 0.1869 5.4249, ade1 13.7645, fde1 26.9552, ade 7.5428, fde 12.7572\n",
      "\n"
     ]
    },
    {
     "name": "stderr",
     "output_type": "stream",
     "text": [
      "48it [01:58,  2.69it/s]"
     ]
    },
    {
     "name": "stdout",
     "output_type": "stream",
     "text": [
      "{'cls_loss': tensor(154.0215, device='cuda:0'), 'num_cls': 836, 'reg_loss': tensor(55301.3359, device='cuda:0'), 'num_reg': 12885, 'loss': tensor(4.4762, device='cuda:0')}\n",
      "Epoch 0.000, lr 0.00000, time 0.00\n",
      "Wed Jul 27 08:46:29 2022\n",
      "loss 5.5842 0.1868 5.3974, ade1 13.7532, fde1 26.9336, ade 7.5354, fde 12.7699\n",
      "\n"
     ]
    },
    {
     "name": "stderr",
     "output_type": "stream",
     "text": [
      "50it [01:58,  3.59it/s]"
     ]
    },
    {
     "name": "stdout",
     "output_type": "stream",
     "text": [
      "{'cls_loss': tensor(104.7474, device='cuda:0'), 'num_cls': 579, 'reg_loss': tensor(57300.2852, device='cuda:0'), 'num_reg': 9724, 'loss': tensor(6.0736, device='cuda:0')}\n",
      "Epoch 0.000, lr 0.00000, time 0.00\n",
      "Wed Jul 27 08:46:29 2022\n",
      "loss 5.5930 0.1867 5.4063, ade1 13.7881, fde1 27.0064, ade 7.5509, fde 12.7852\n",
      "\n",
      "{'cls_loss': tensor(89.9511, device='cuda:0'), 'num_cls': 424, 'reg_loss': tensor(68335.0078, device='cuda:0'), 'num_reg': 10942, 'loss': tensor(6.4574, device='cuda:0')}\n",
      "Epoch 0.000, lr 0.00000, time 0.00\n",
      "Wed Jul 27 08:46:30 2022\n",
      "loss 5.6100 0.1871 5.4229, ade1 13.7682, fde1 26.9957, ade 7.5185, fde 12.7246\n",
      "\n"
     ]
    },
    {
     "name": "stderr",
     "output_type": "stream",
     "text": [
      "51it [01:59,  2.72it/s]"
     ]
    },
    {
     "name": "stdout",
     "output_type": "stream",
     "text": [
      "{'cls_loss': tensor(136.5075, device='cuda:0'), 'num_cls': 716, 'reg_loss': tensor(58086.2734, device='cuda:0'), 'num_reg': 11888, 'loss': tensor(5.0768, device='cuda:0')}\n",
      "Epoch 0.000, lr 0.00000, time 0.00\n",
      "Wed Jul 27 08:46:30 2022\n",
      "loss 5.5987 0.1871 5.4116, ade1 13.7619, fde1 26.9707, ade 7.5185, fde 12.7168\n",
      "\n"
     ]
    },
    {
     "name": "stderr",
     "output_type": "stream",
     "text": [
      "52it [01:59,  3.06it/s]"
     ]
    },
    {
     "name": "stdout",
     "output_type": "stream",
     "text": [
      "{'cls_loss': tensor(137.7652, device='cuda:0'), 'num_cls': 706, 'reg_loss': tensor(63526.6016, device='cuda:0'), 'num_reg': 11353, 'loss': tensor(5.7907, device='cuda:0')}\n",
      "Epoch 0.000, lr 0.00000, time 0.00\n",
      "Wed Jul 27 08:46:30 2022\n",
      "loss 5.6026 0.1873 5.4152, ade1 13.7628, fde1 26.9712, ade 7.5428, fde 12.7673\n",
      "\n"
     ]
    },
    {
     "name": "stderr",
     "output_type": "stream",
     "text": [
      "53it [01:59,  3.34it/s]"
     ]
    },
    {
     "name": "stdout",
     "output_type": "stream",
     "text": [
      "{'cls_loss': tensor(119.1383, device='cuda:0'), 'num_cls': 674, 'reg_loss': tensor(62065.1953, device='cuda:0'), 'num_reg': 11425, 'loss': tensor(5.6092, device='cuda:0')}\n",
      "Epoch 0.000, lr 0.00000, time 0.00\n",
      "Wed Jul 27 08:46:31 2022\n",
      "loss 5.6027 0.1871 5.4156, ade1 13.7907, fde1 27.0251, ade 7.5610, fde 12.8104\n",
      "\n"
     ]
    },
    {
     "name": "stderr",
     "output_type": "stream",
     "text": [
      "54it [01:59,  3.52it/s]"
     ]
    },
    {
     "name": "stdout",
     "output_type": "stream",
     "text": [
      "{'cls_loss': tensor(126.3977, device='cuda:0'), 'num_cls': 722, 'reg_loss': tensor(60934.3594, device='cuda:0'), 'num_reg': 12401, 'loss': tensor(5.0887, device='cuda:0')}\n",
      "Epoch 0.000, lr 0.00000, time 0.00\n",
      "Wed Jul 27 08:46:31 2022\n",
      "loss 5.5920 0.1868 5.4052, ade1 13.8036, fde1 27.0436, ade 7.5588, fde 12.8001\n",
      "\n"
     ]
    },
    {
     "name": "stderr",
     "output_type": "stream",
     "text": [
      "56it [02:00,  4.25it/s]"
     ]
    },
    {
     "name": "stdout",
     "output_type": "stream",
     "text": [
      "{'cls_loss': tensor(81.8438, device='cuda:0'), 'num_cls': 463, 'reg_loss': tensor(58616.4844, device='cuda:0'), 'num_reg': 9253, 'loss': tensor(6.5116, device='cuda:0')}\n",
      "Epoch 0.000, lr 0.00000, time 0.00\n",
      "Wed Jul 27 08:46:31 2022\n",
      "loss 5.6060 0.1867 5.4193, ade1 13.7956, fde1 27.0326, ade 7.5854, fde 12.8456\n",
      "\n",
      "{'cls_loss': tensor(125.2280, device='cuda:0'), 'num_cls': 699, 'reg_loss': tensor(50404.9844, device='cuda:0'), 'num_reg': 12516, 'loss': tensor(4.2064, device='cuda:0')}\n",
      "Epoch 0.000, lr 0.00000, time 0.00\n",
      "Wed Jul 27 08:46:31 2022\n",
      "loss 5.5778 0.1865 5.3912, ade1 13.8092, fde1 27.0518, ade 7.5984, fde 12.8750\n",
      "\n"
     ]
    },
    {
     "name": "stderr",
     "output_type": "stream",
     "text": [
      "58it [02:00,  4.53it/s]"
     ]
    },
    {
     "name": "stdout",
     "output_type": "stream",
     "text": [
      "{'cls_loss': tensor(100.2045, device='cuda:0'), 'num_cls': 552, 'reg_loss': tensor(63055.5547, device='cuda:0'), 'num_reg': 11009, 'loss': tensor(5.9092, device='cuda:0')}\n",
      "Epoch 0.000, lr 0.00000, time 0.00\n",
      "Wed Jul 27 08:46:32 2022\n",
      "loss 5.5835 0.1865 5.3971, ade1 13.8303, fde1 27.0868, ade 7.5905, fde 12.8587\n",
      "\n",
      "{'cls_loss': tensor(143.4530, device='cuda:0'), 'num_cls': 799, 'reg_loss': tensor(55578.6016, device='cuda:0'), 'num_reg': 11930, 'loss': tensor(4.8383, device='cuda:0')}\n",
      "Epoch 0.000, lr 0.00000, time 0.00\n",
      "Wed Jul 27 08:46:32 2022\n",
      "loss 5.5697 0.1863 5.3834, ade1 13.8294, fde1 27.0951, ade 7.5727, fde 12.8304\n",
      "\n"
     ]
    },
    {
     "name": "stderr",
     "output_type": "stream",
     "text": [
      "59it [02:00,  4.35it/s]"
     ]
    },
    {
     "name": "stdout",
     "output_type": "stream",
     "text": [
      "{'cls_loss': tensor(59.5132, device='cuda:0'), 'num_cls': 360, 'reg_loss': tensor(39768.4453, device='cuda:0'), 'num_reg': 7692, 'loss': tensor(5.3354, device='cuda:0')}\n",
      "Epoch 0.000, lr 0.00000, time 0.00\n",
      "Wed Jul 27 08:46:32 2022\n",
      "loss 5.5670 0.1861 5.3809, ade1 13.8053, fde1 27.0344, ade 7.5450, fde 12.7455\n",
      "\n",
      "{'cls_loss': tensor(101.7126, device='cuda:0'), 'num_cls': 604, 'reg_loss': tensor(60995.0391, device='cuda:0'), 'num_reg': 9875, 'loss': tensor(6.3451, device='cuda:0')}\n",
      "Epoch 0.000, lr 0.00000, time 0.00\n",
      "Wed Jul 27 08:46:32 2022\n",
      "loss 5.5786 0.1858 5.3928, ade1 13.8603, fde1 27.1186, ade 7.5810, fde 12.7858\n",
      "\n"
     ]
    },
    {
     "name": "stderr",
     "output_type": "stream",
     "text": [
      "61it [02:01,  2.95it/s]"
     ]
    },
    {
     "name": "stdout",
     "output_type": "stream",
     "text": [
      "{'cls_loss': tensor(121.5652, device='cuda:0'), 'num_cls': 647, 'reg_loss': tensor(54831.7500, device='cuda:0'), 'num_reg': 10877, 'loss': tensor(5.2290, device='cuda:0')}\n",
      "Epoch 0.000, lr 0.00000, time 0.00\n",
      "Wed Jul 27 08:46:33 2022\n",
      "loss 5.5729 0.1858 5.3871, ade1 13.8396, fde1 27.0776, ade 7.5519, fde 12.7287\n",
      "\n"
     ]
    },
    {
     "name": "stderr",
     "output_type": "stream",
     "text": [
      "62it [02:01,  3.18it/s]"
     ]
    },
    {
     "name": "stdout",
     "output_type": "stream",
     "text": [
      "{'cls_loss': tensor(109.2079, device='cuda:0'), 'num_cls': 549, 'reg_loss': tensor(45837.8242, device='cuda:0'), 'num_reg': 8625, 'loss': tensor(5.5135, device='cuda:0')}\n",
      "Epoch 0.000, lr 0.00000, time 0.00\n",
      "Wed Jul 27 08:46:33 2022\n",
      "loss 5.5722 0.1860 5.3862, ade1 13.8371, fde1 27.0513, ade 7.5553, fde 12.7127\n",
      "\n"
     ]
    },
    {
     "name": "stderr",
     "output_type": "stream",
     "text": [
      "63it [02:02,  3.44it/s]"
     ]
    },
    {
     "name": "stdout",
     "output_type": "stream",
     "text": [
      "{'cls_loss': tensor(85.0415, device='cuda:0'), 'num_cls': 426, 'reg_loss': tensor(48195.4062, device='cuda:0'), 'num_reg': 8889, 'loss': tensor(5.6215, device='cuda:0')}\n",
      "Epoch 0.000, lr 0.00000, time 0.00\n",
      "Wed Jul 27 08:46:33 2022\n",
      "loss 5.5728 0.1862 5.3866, ade1 13.8583, fde1 27.0993, ade 7.5403, fde 12.6914\n",
      "\n"
     ]
    },
    {
     "name": "stderr",
     "output_type": "stream",
     "text": [
      "64it [02:02,  3.69it/s]"
     ]
    },
    {
     "name": "stdout",
     "output_type": "stream",
     "text": [
      "{'cls_loss': tensor(132.3239, device='cuda:0'), 'num_cls': 793, 'reg_loss': tensor(49395.4141, device='cuda:0'), 'num_reg': 13269, 'loss': tensor(3.8895, device='cuda:0')}\n",
      "Epoch 0.000, lr 0.00000, time 0.00\n",
      "Wed Jul 27 08:46:34 2022\n",
      "loss 5.5409 0.1858 5.3552, ade1 13.8140, fde1 27.0350, ade 7.5043, fde 12.6104\n",
      "\n"
     ]
    },
    {
     "name": "stderr",
     "output_type": "stream",
     "text": [
      "66it [02:02,  4.25it/s]"
     ]
    },
    {
     "name": "stdout",
     "output_type": "stream",
     "text": [
      "{'cls_loss': tensor(150.5979, device='cuda:0'), 'num_cls': 753, 'reg_loss': tensor(45776.8984, device='cuda:0'), 'num_reg': 11875, 'loss': tensor(4.0549, device='cuda:0')}\n",
      "Epoch 0.000, lr 0.00000, time 0.00\n",
      "Wed Jul 27 08:46:34 2022\n",
      "loss 5.5163 0.1860 5.3302, ade1 13.7869, fde1 27.0108, ade 7.4645, fde 12.5479\n",
      "\n",
      "{'cls_loss': tensor(99.1323, device='cuda:0'), 'num_cls': 507, 'reg_loss': tensor(56890.9375, device='cuda:0'), 'num_reg': 10061, 'loss': tensor(5.8501, device='cuda:0')}\n",
      "Epoch 0.000, lr 0.00000, time 0.00\n",
      "Wed Jul 27 08:46:34 2022\n",
      "loss 5.5209 0.1862 5.3347, ade1 13.7961, fde1 27.0253, ade 7.4619, fde 12.5522\n",
      "\n"
     ]
    },
    {
     "name": "stderr",
     "output_type": "stream",
     "text": [
      "67it [02:03,  4.54it/s]"
     ]
    },
    {
     "name": "stdout",
     "output_type": "stream",
     "text": [
      "{'cls_loss': tensor(113.6220, device='cuda:0'), 'num_cls': 646, 'reg_loss': tensor(57053.8281, device='cuda:0'), 'num_reg': 11295, 'loss': tensor(5.2271, device='cuda:0')}\n",
      "Epoch 0.000, lr 0.00000, time 0.00\n",
      "Wed Jul 27 08:46:34 2022\n",
      "loss 5.5164 0.1860 5.3304, ade1 13.7960, fde1 27.0181, ade 7.4649, fde 12.5451\n",
      "\n"
     ]
    },
    {
     "name": "stderr",
     "output_type": "stream",
     "text": [
      "68it [02:03,  4.51it/s]"
     ]
    },
    {
     "name": "stdout",
     "output_type": "stream",
     "text": [
      "{'cls_loss': tensor(106.0934, device='cuda:0'), 'num_cls': 602, 'reg_loss': tensor(62894.8945, device='cuda:0'), 'num_reg': 10308, 'loss': tensor(6.2778, device='cuda:0')}\n",
      "Epoch 0.000, lr 0.00000, time 0.00\n",
      "Wed Jul 27 08:46:34 2022\n",
      "loss 5.5269 0.1859 5.3410, ade1 13.7903, fde1 26.9906, ade 7.4740, fde 12.5681\n",
      "\n"
     ]
    },
    {
     "name": "stderr",
     "output_type": "stream",
     "text": [
      "69it [02:03,  4.43it/s]"
     ]
    },
    {
     "name": "stdout",
     "output_type": "stream",
     "text": [
      "{'cls_loss': tensor(120.9079, device='cuda:0'), 'num_cls': 620, 'reg_loss': tensor(58514.2500, device='cuda:0'), 'num_reg': 11729, 'loss': tensor(5.1839, device='cuda:0')}\n",
      "Epoch 0.000, lr 0.00000, time 0.00\n",
      "Wed Jul 27 08:46:35 2022\n",
      "loss 5.5216 0.1860 5.3356, ade1 13.8117, fde1 27.0395, ade 7.4872, fde 12.5901\n",
      "\n"
     ]
    },
    {
     "name": "stderr",
     "output_type": "stream",
     "text": [
      "70it [02:03,  4.41it/s]"
     ]
    },
    {
     "name": "stdout",
     "output_type": "stream",
     "text": [
      "{'cls_loss': tensor(117.1095, device='cuda:0'), 'num_cls': 636, 'reg_loss': tensor(61141.9453, device='cuda:0'), 'num_reg': 9853, 'loss': tensor(6.3895, device='cuda:0')}\n",
      "Epoch 0.000, lr 0.00000, time 0.00\n",
      "Wed Jul 27 08:46:35 2022\n",
      "loss 5.5327 0.1860 5.3467, ade1 13.8195, fde1 27.0444, ade 7.4877, fde 12.5997\n",
      "\n"
     ]
    },
    {
     "name": "stderr",
     "output_type": "stream",
     "text": [
      "71it [02:03,  4.58it/s]"
     ]
    },
    {
     "name": "stdout",
     "output_type": "stream",
     "text": [
      "{'cls_loss': tensor(114.5005, device='cuda:0'), 'num_cls': 620, 'reg_loss': tensor(63072.8242, device='cuda:0'), 'num_reg': 11134, 'loss': tensor(5.8496, device='cuda:0')}\n",
      "Epoch 0.000, lr 0.00000, time 0.00\n",
      "Wed Jul 27 08:46:35 2022\n",
      "loss 5.5372 0.1859 5.3513, ade1 13.8395, fde1 27.0926, ade 7.4941, fde 12.6186\n",
      "\n"
     ]
    },
    {
     "name": "stderr",
     "output_type": "stream",
     "text": [
      "73it [02:04,  4.94it/s]"
     ]
    },
    {
     "name": "stdout",
     "output_type": "stream",
     "text": [
      "{'cls_loss': tensor(113.7728, device='cuda:0'), 'num_cls': 617, 'reg_loss': tensor(58905.2969, device='cuda:0'), 'num_reg': 10556, 'loss': tensor(5.7647, device='cuda:0')}\n",
      "Epoch 0.000, lr 0.00000, time 0.00\n",
      "Wed Jul 27 08:46:35 2022\n",
      "loss 5.5403 0.1859 5.3544, ade1 13.8394, fde1 27.0911, ade 7.4995, fde 12.6306\n",
      "\n",
      "{'cls_loss': tensor(106.4265, device='cuda:0'), 'num_cls': 550, 'reg_loss': tensor(57653.1641, device='cuda:0'), 'num_reg': 11668, 'loss': tensor(5.1346, device='cuda:0')}\n",
      "Epoch 0.000, lr 0.00000, time 0.00\n",
      "Wed Jul 27 08:46:35 2022\n",
      "loss 5.5344 0.1860 5.3483, ade1 13.8076, fde1 27.0361, ade 7.4897, fde 12.6139\n",
      "\n"
     ]
    },
    {
     "name": "stderr",
     "output_type": "stream",
     "text": [
      "74it [02:04,  5.27it/s]"
     ]
    },
    {
     "name": "stdout",
     "output_type": "stream",
     "text": [
      "{'cls_loss': tensor(125.9069, device='cuda:0'), 'num_cls': 729, 'reg_loss': tensor(62585.9609, device='cuda:0'), 'num_reg': 13236, 'loss': tensor(4.9012, device='cuda:0')}\n",
      "Epoch 0.000, lr 0.00000, time 0.00\n",
      "Wed Jul 27 08:46:36 2022\n",
      "loss 5.5241 0.1858 5.3383, ade1 13.7988, fde1 27.0237, ade 7.4972, fde 12.6438\n",
      "\n"
     ]
    },
    {
     "name": "stderr",
     "output_type": "stream",
     "text": [
      "75it [02:04,  4.51it/s]"
     ]
    },
    {
     "name": "stdout",
     "output_type": "stream",
     "text": [
      "{'cls_loss': tensor(101.6614, device='cuda:0'), 'num_cls': 585, 'reg_loss': tensor(50188.8867, device='cuda:0'), 'num_reg': 10229, 'loss': tensor(5.0803, device='cuda:0')}\n",
      "Epoch 0.000, lr 0.00000, time 0.00\n",
      "Wed Jul 27 08:46:36 2022\n",
      "loss 5.5185 0.1856 5.3329, ade1 13.7978, fde1 27.0155, ade 7.4879, fde 12.6332\n",
      "\n"
     ]
    },
    {
     "name": "stderr",
     "output_type": "stream",
     "text": [
      "77it [02:05,  4.75it/s]"
     ]
    },
    {
     "name": "stdout",
     "output_type": "stream",
     "text": [
      "{'cls_loss': tensor(111.5435, device='cuda:0'), 'num_cls': 658, 'reg_loss': tensor(53310.7812, device='cuda:0'), 'num_reg': 11570, 'loss': tensor(4.7772, device='cuda:0')}\n",
      "Epoch 0.000, lr 0.00000, time 0.00\n",
      "Wed Jul 27 08:46:36 2022\n",
      "loss 5.5083 0.1854 5.3229, ade1 13.7908, fde1 26.9940, ade 7.4756, fde 12.6118\n",
      "\n",
      "{'cls_loss': tensor(99.8859, device='cuda:0'), 'num_cls': 644, 'reg_loss': tensor(48818.0625, device='cuda:0'), 'num_reg': 10931, 'loss': tensor(4.6211, device='cuda:0')}\n",
      "Epoch 0.000, lr 0.00000, time 0.00\n",
      "Wed Jul 27 08:46:36 2022\n",
      "loss 5.4968 0.1850 5.3118, ade1 13.7800, fde1 26.9740, ade 7.4667, fde 12.6018\n",
      "\n"
     ]
    },
    {
     "name": "stderr",
     "output_type": "stream",
     "text": [
      "79it [02:05,  5.02it/s]"
     ]
    },
    {
     "name": "stdout",
     "output_type": "stream",
     "text": [
      "{'cls_loss': tensor(100.6851, device='cuda:0'), 'num_cls': 515, 'reg_loss': tensor(48291.8594, device='cuda:0'), 'num_reg': 10026, 'loss': tensor(5.0122, device='cuda:0')}\n",
      "Epoch 0.000, lr 0.00000, time 0.00\n",
      "Wed Jul 27 08:46:36 2022\n",
      "loss 5.4911 0.1851 5.3060, ade1 13.7655, fde1 26.9469, ade 7.4570, fde 12.5789\n",
      "\n",
      "{'cls_loss': tensor(92.9566, device='cuda:0'), 'num_cls': 469, 'reg_loss': tensor(58168.3398, device='cuda:0'), 'num_reg': 10322, 'loss': tensor(5.8336, device='cuda:0')}\n",
      "Epoch 0.000, lr 0.00000, time 0.00\n",
      "Wed Jul 27 08:46:37 2022\n",
      "loss 5.4952 0.1852 5.3099, ade1 13.7545, fde1 26.9208, ade 7.4539, fde 12.5663\n",
      "\n"
     ]
    },
    {
     "name": "stderr",
     "output_type": "stream",
     "text": [
      "80it [02:05,  4.54it/s]"
     ]
    },
    {
     "name": "stdout",
     "output_type": "stream",
     "text": [
      "{'cls_loss': tensor(85.7395, device='cuda:0'), 'num_cls': 490, 'reg_loss': tensor(83171.0234, device='cuda:0'), 'num_reg': 11659, 'loss': tensor(7.3086, device='cuda:0')}\n",
      "Epoch 0.000, lr 0.00000, time 0.00\n",
      "Wed Jul 27 08:46:37 2022\n",
      "loss 5.5193 0.1851 5.3341, ade1 13.7746, fde1 26.9600, ade 7.4816, fde 12.6130\n",
      "\n"
     ]
    },
    {
     "name": "stderr",
     "output_type": "stream",
     "text": [
      "81it [02:06,  2.86it/s]"
     ]
    },
    {
     "name": "stdout",
     "output_type": "stream",
     "text": [
      "{'cls_loss': tensor(114.3184, device='cuda:0'), 'num_cls': 670, 'reg_loss': tensor(59660.4609, device='cuda:0'), 'num_reg': 11218, 'loss': tensor(5.4889, device='cuda:0')}\n",
      "Epoch 0.000, lr 0.00000, time 0.00\n",
      "Wed Jul 27 08:46:38 2022\n",
      "loss 5.5189 0.1849 5.3339, ade1 13.7601, fde1 26.9281, ade 7.4662, fde 12.5799\n",
      "\n"
     ]
    },
    {
     "name": "stderr",
     "output_type": "stream",
     "text": [
      "82it [02:06,  3.09it/s]"
     ]
    },
    {
     "name": "stdout",
     "output_type": "stream",
     "text": [
      "{'cls_loss': tensor(101.0300, device='cuda:0'), 'num_cls': 610, 'reg_loss': tensor(55493.4766, device='cuda:0'), 'num_reg': 10480, 'loss': tensor(5.4608, device='cuda:0')}\n",
      "Epoch 0.000, lr 0.00000, time 0.00\n",
      "Wed Jul 27 08:46:38 2022\n",
      "loss 5.5182 0.1847 5.3335, ade1 13.7445, fde1 26.9019, ade 7.4612, fde 12.5786\n",
      "\n"
     ]
    },
    {
     "name": "stderr",
     "output_type": "stream",
     "text": [
      "83it [02:06,  3.34it/s]"
     ]
    },
    {
     "name": "stdout",
     "output_type": "stream",
     "text": [
      "{'cls_loss': tensor(110.2771, device='cuda:0'), 'num_cls': 628, 'reg_loss': tensor(66880.9531, device='cuda:0'), 'num_reg': 10424, 'loss': tensor(6.5917, device='cuda:0')}\n",
      "Epoch 0.000, lr 0.00000, time 0.00\n",
      "Wed Jul 27 08:46:38 2022\n",
      "loss 5.5304 0.1846 5.3459, ade1 13.7655, fde1 26.9437, ade 7.4829, fde 12.6154\n",
      "\n"
     ]
    },
    {
     "name": "stderr",
     "output_type": "stream",
     "text": [
      "84it [02:07,  3.60it/s]"
     ]
    },
    {
     "name": "stdout",
     "output_type": "stream",
     "text": [
      "{'cls_loss': tensor(118.9565, device='cuda:0'), 'num_cls': 668, 'reg_loss': tensor(72485.5156, device='cuda:0'), 'num_reg': 11102, 'loss': tensor(6.7071, device='cuda:0')}\n",
      "Epoch 0.000, lr 0.00000, time 0.00\n",
      "Wed Jul 27 08:46:38 2022\n",
      "loss 5.5446 0.1845 5.3601, ade1 13.7859, fde1 26.9929, ade 7.5092, fde 12.6797\n",
      "\n"
     ]
    },
    {
     "name": "stderr",
     "output_type": "stream",
     "text": [
      "86it [02:07,  4.21it/s]"
     ]
    },
    {
     "name": "stdout",
     "output_type": "stream",
     "text": [
      "{'cls_loss': tensor(111.3485, device='cuda:0'), 'num_cls': 597, 'reg_loss': tensor(61395.0156, device='cuda:0'), 'num_reg': 10660, 'loss': tensor(5.9459, device='cuda:0')}\n",
      "Epoch 0.000, lr 0.00000, time 0.00\n",
      "Wed Jul 27 08:46:39 2022\n",
      "loss 5.5492 0.1845 5.3647, ade1 13.7840, fde1 26.9883, ade 7.5184, fde 12.7027\n",
      "\n",
      "{'cls_loss': tensor(126.6129, device='cuda:0'), 'num_cls': 721, 'reg_loss': tensor(44975.1250, device='cuda:0'), 'num_reg': 11108, 'loss': tensor(4.2245, device='cuda:0')}\n",
      "Epoch 0.000, lr 0.00000, time 0.00\n",
      "Wed Jul 27 08:46:39 2022\n",
      "loss 5.5336 0.1844 5.3492, ade1 13.7560, fde1 26.9369, ade 7.4975, fde 12.6600\n",
      "\n"
     ]
    },
    {
     "name": "stderr",
     "output_type": "stream",
     "text": [
      "88it [02:07,  4.64it/s]"
     ]
    },
    {
     "name": "stdout",
     "output_type": "stream",
     "text": [
      "{'cls_loss': tensor(121.1429, device='cuda:0'), 'num_cls': 711, 'reg_loss': tensor(53781.1875, device='cuda:0'), 'num_reg': 12030, 'loss': tensor(4.6410, device='cuda:0')}\n",
      "Epoch 0.000, lr 0.00000, time 0.00\n",
      "Wed Jul 27 08:46:39 2022\n",
      "loss 5.5223 0.1842 5.3381, ade1 13.7330, fde1 26.8947, ade 7.4813, fde 12.6423\n",
      "\n",
      "{'cls_loss': tensor(132.4263, device='cuda:0'), 'num_cls': 753, 'reg_loss': tensor(49743.6055, device='cuda:0'), 'num_reg': 11981, 'loss': tensor(4.3277, device='cuda:0')}\n",
      "Epoch 0.000, lr 0.00000, time 0.00\n",
      "Wed Jul 27 08:46:39 2022\n",
      "loss 5.5075 0.1841 5.3234, ade1 13.7313, fde1 26.8913, ade 7.4746, fde 12.6364\n",
      "\n"
     ]
    },
    {
     "name": "stderr",
     "output_type": "stream",
     "text": [
      "89it [02:08,  3.91it/s]"
     ]
    },
    {
     "name": "stdout",
     "output_type": "stream",
     "text": [
      "{'cls_loss': tensor(125.2262, device='cuda:0'), 'num_cls': 736, 'reg_loss': tensor(51500.7266, device='cuda:0'), 'num_reg': 12465, 'loss': tensor(4.3018, device='cuda:0')}\n",
      "Epoch 0.000, lr 0.00000, time 0.00\n",
      "Wed Jul 27 08:46:39 2022\n",
      "loss 5.4922 0.1839 5.3083, ade1 13.7240, fde1 26.8867, ade 7.4562, fde 12.5903\n",
      "\n"
     ]
    },
    {
     "name": "stderr",
     "output_type": "stream",
     "text": [
      "90it [02:08,  3.90it/s]"
     ]
    },
    {
     "name": "stdout",
     "output_type": "stream",
     "text": [
      "{'cls_loss': tensor(74.7480, device='cuda:0'), 'num_cls': 426, 'reg_loss': tensor(54613.0898, device='cuda:0'), 'num_reg': 9316, 'loss': tensor(6.0378, device='cuda:0')}\n",
      "Epoch 0.000, lr 0.00000, time 0.00\n",
      "Wed Jul 27 08:46:40 2022\n",
      "loss 5.4973 0.1838 5.3135, ade1 13.7242, fde1 26.8835, ade 7.4624, fde 12.5835\n",
      "\n"
     ]
    },
    {
     "name": "stderr",
     "output_type": "stream",
     "text": [
      "91it [02:08,  3.98it/s]"
     ]
    },
    {
     "name": "stdout",
     "output_type": "stream",
     "text": [
      "{'cls_loss': tensor(125.5585, device='cuda:0'), 'num_cls': 606, 'reg_loss': tensor(74822.3984, device='cuda:0'), 'num_reg': 12104, 'loss': tensor(6.3888, device='cuda:0')}\n",
      "Epoch 0.000, lr 0.00000, time 0.00\n",
      "Wed Jul 27 08:46:40 2022\n",
      "loss 5.5081 0.1841 5.3240, ade1 13.7433, fde1 26.9171, ade 7.4802, fde 12.6165\n",
      "\n"
     ]
    },
    {
     "name": "stderr",
     "output_type": "stream",
     "text": [
      "93it [02:09,  4.50it/s]"
     ]
    },
    {
     "name": "stdout",
     "output_type": "stream",
     "text": [
      "{'cls_loss': tensor(131.0707, device='cuda:0'), 'num_cls': 751, 'reg_loss': tensor(54133.0391, device='cuda:0'), 'num_reg': 11876, 'loss': tensor(4.7327, device='cuda:0')}\n",
      "Epoch 0.000, lr 0.00000, time 0.00\n",
      "Wed Jul 27 08:46:40 2022\n",
      "loss 5.4990 0.1840 5.3150, ade1 13.7410, fde1 26.9173, ade 7.4787, fde 12.6217\n",
      "\n",
      "{'cls_loss': tensor(114.9931, device='cuda:0'), 'num_cls': 662, 'reg_loss': tensor(65994.1094, device='cuda:0'), 'num_reg': 11430, 'loss': tensor(5.9475, device='cuda:0')}\n",
      "Epoch 0.000, lr 0.00000, time 0.00\n",
      "Wed Jul 27 08:46:40 2022\n",
      "loss 5.5040 0.1838 5.3201, ade1 13.7556, fde1 26.9456, ade 7.4892, fde 12.6520\n",
      "\n"
     ]
    },
    {
     "name": "stderr",
     "output_type": "stream",
     "text": [
      "94it [02:09,  4.71it/s]"
     ]
    },
    {
     "name": "stdout",
     "output_type": "stream",
     "text": [
      "{'cls_loss': tensor(111.1272, device='cuda:0'), 'num_cls': 582, 'reg_loss': tensor(57086.2812, device='cuda:0'), 'num_reg': 11632, 'loss': tensor(5.0986, device='cuda:0')}\n",
      "Epoch 0.000, lr 0.00000, time 0.00\n",
      "Wed Jul 27 08:46:41 2022\n",
      "loss 5.4994 0.1839 5.3155, ade1 13.7625, fde1 26.9537, ade 7.4889, fde 12.6535\n",
      "\n",
      "{'cls_loss': tensor(125.7243, device='cuda:0'), 'num_cls': 681, 'reg_loss': tensor(63291.0469, device='cuda:0'), 'num_reg': 11592, 'loss': tensor(5.6445, device='cuda:0')}\n",
      "Epoch 0.000, lr 0.00000, time 0.00\n"
     ]
    },
    {
     "name": "stderr",
     "output_type": "stream",
     "text": [
      "95it [02:09,  4.90it/s]"
     ]
    },
    {
     "name": "stdout",
     "output_type": "stream",
     "text": [
      "Wed Jul 27 08:46:41 2022\n",
      "loss 5.5010 0.1839 5.3171, ade1 13.7523, fde1 26.9338, ade 7.4916, fde 12.6693\n",
      "\n"
     ]
    },
    {
     "name": "stderr",
     "output_type": "stream",
     "text": [
      "96it [02:09,  4.71it/s]"
     ]
    },
    {
     "name": "stdout",
     "output_type": "stream",
     "text": [
      "{'cls_loss': tensor(111.0510, device='cuda:0'), 'num_cls': 634, 'reg_loss': tensor(53815.8398, device='cuda:0'), 'num_reg': 10460, 'loss': tensor(5.3201, device='cuda:0')}\n",
      "Epoch 0.000, lr 0.00000, time 0.00\n",
      "Wed Jul 27 08:46:41 2022\n",
      "loss 5.4992 0.1838 5.3154, ade1 13.7611, fde1 26.9439, ade 7.4962, fde 12.6799\n",
      "\n"
     ]
    },
    {
     "name": "stderr",
     "output_type": "stream",
     "text": [
      "97it [02:10,  4.50it/s]"
     ]
    },
    {
     "name": "stdout",
     "output_type": "stream",
     "text": [
      "{'cls_loss': tensor(137.4846, device='cuda:0'), 'num_cls': 632, 'reg_loss': tensor(63843.9766, device='cuda:0'), 'num_reg': 11815, 'loss': tensor(5.6212, device='cuda:0')}\n",
      "Epoch 0.000, lr 0.00000, time 0.00\n",
      "Wed Jul 27 08:46:41 2022\n",
      "loss 5.5006 0.1842 5.3164, ade1 13.7559, fde1 26.9419, ade 7.4842, fde 12.6584\n",
      "\n"
     ]
    },
    {
     "name": "stderr",
     "output_type": "stream",
     "text": [
      "98it [02:10,  4.40it/s]"
     ]
    },
    {
     "name": "stdout",
     "output_type": "stream",
     "text": [
      "{'cls_loss': tensor(111.0312, device='cuda:0'), 'num_cls': 606, 'reg_loss': tensor(57618.6523, device='cuda:0'), 'num_reg': 11329, 'loss': tensor(5.2692, device='cuda:0')}\n",
      "Epoch 0.000, lr 0.00000, time 0.00\n",
      "Wed Jul 27 08:46:41 2022\n",
      "loss 5.4981 0.1842 5.3140, ade1 13.7658, fde1 26.9593, ade 7.4886, fde 12.6696\n",
      "\n"
     ]
    },
    {
     "name": "stderr",
     "output_type": "stream",
     "text": [
      "100it [02:10,  4.73it/s]"
     ]
    },
    {
     "name": "stdout",
     "output_type": "stream",
     "text": [
      "{'cls_loss': tensor(106.5649, device='cuda:0'), 'num_cls': 572, 'reg_loss': tensor(60150.5938, device='cuda:0'), 'num_reg': 10619, 'loss': tensor(5.8507, device='cuda:0')}\n",
      "Epoch 0.000, lr 0.00000, time 0.00\n",
      "Wed Jul 27 08:46:42 2022\n",
      "loss 5.5016 0.1842 5.3174, ade1 13.7664, fde1 26.9667, ade 7.5031, fde 12.7114\n",
      "\n",
      "{'cls_loss': tensor(142.1139, device='cuda:0'), 'num_cls': 706, 'reg_loss': tensor(54174.6016, device='cuda:0'), 'num_reg': 11742, 'loss': tensor(4.8150, device='cuda:0')}\n",
      "Epoch 0.000, lr 0.00000, time 0.00\n",
      "Wed Jul 27 08:46:42 2022\n",
      "loss 5.4943 0.1844 5.3099, ade1 13.7564, fde1 26.9590, ade 7.4919, fde 12.7056\n",
      "\n"
     ]
    },
    {
     "name": "stderr",
     "output_type": "stream",
     "text": [
      "101it [02:11,  3.21it/s]"
     ]
    },
    {
     "name": "stdout",
     "output_type": "stream",
     "text": [
      "{'cls_loss': tensor(152.2635, device='cuda:0'), 'num_cls': 848, 'reg_loss': tensor(47995.8242, device='cuda:0'), 'num_reg': 12880, 'loss': tensor(3.9059, device='cuda:0')}\n",
      "Epoch 0.000, lr 0.00000, time 0.00\n",
      "Wed Jul 27 08:46:42 2022\n",
      "loss 5.4759 0.1843 5.2916, ade1 13.7418, fde1 26.9456, ade 7.4703, fde 12.6552\n",
      "\n"
     ]
    },
    {
     "name": "stderr",
     "output_type": "stream",
     "text": [
      "103it [02:11,  4.18it/s]"
     ]
    },
    {
     "name": "stdout",
     "output_type": "stream",
     "text": [
      "{'cls_loss': tensor(78.1690, device='cuda:0'), 'num_cls': 456, 'reg_loss': tensor(59692.6641, device='cuda:0'), 'num_reg': 10551, 'loss': tensor(5.8290, device='cuda:0')}\n",
      "Epoch 0.000, lr 0.00000, time 0.00\n",
      "Wed Jul 27 08:46:43 2022\n",
      "loss 5.4793 0.1842 5.2950, ade1 13.7505, fde1 26.9735, ade 7.4721, fde 12.6673\n",
      "\n",
      "{'cls_loss': tensor(81.5282, device='cuda:0'), 'num_cls': 390, 'reg_loss': tensor(64653.3672, device='cuda:0'), 'num_reg': 11753, 'loss': tensor(5.7101, device='cuda:0')}\n",
      "Epoch 0.000, lr 0.00000, time 0.00\n",
      "Wed Jul 27 08:46:43 2022\n",
      "loss 5.4816 0.1844 5.2972, ade1 13.7445, fde1 26.9652, ade 7.4605, fde 12.6524\n",
      "\n"
     ]
    },
    {
     "name": "stderr",
     "output_type": "stream",
     "text": [
      "105it [02:12,  4.59it/s]"
     ]
    },
    {
     "name": "stdout",
     "output_type": "stream",
     "text": [
      "{'cls_loss': tensor(133.1111, device='cuda:0'), 'num_cls': 733, 'reg_loss': tensor(58915.9453, device='cuda:0'), 'num_reg': 12563, 'loss': tensor(4.8712, device='cuda:0')}\n",
      "Epoch 0.000, lr 0.00000, time 0.00\n",
      "Wed Jul 27 08:46:43 2022\n",
      "loss 5.4749 0.1844 5.2905, ade1 13.7330, fde1 26.9381, ade 7.4489, fde 12.6370\n",
      "\n",
      "{'cls_loss': tensor(73.4425, device='cuda:0'), 'num_cls': 445, 'reg_loss': tensor(69174.4062, device='cuda:0'), 'num_reg': 10336, 'loss': tensor(6.8576, device='cuda:0')}\n",
      "Epoch 0.000, lr 0.00000, time 0.00\n",
      "Wed Jul 27 08:46:43 2022\n",
      "loss 5.4872 0.1842 5.3030, ade1 13.7454, fde1 26.9626, ade 7.4659, fde 12.6733\n",
      "\n"
     ]
    },
    {
     "name": "stderr",
     "output_type": "stream",
     "text": [
      "106it [02:12,  4.82it/s]"
     ]
    },
    {
     "name": "stdout",
     "output_type": "stream",
     "text": [
      "{'cls_loss': tensor(120.9775, device='cuda:0'), 'num_cls': 677, 'reg_loss': tensor(66569.2109, device='cuda:0'), 'num_reg': 11441, 'loss': tensor(5.9972, device='cuda:0')}\n",
      "Epoch 0.000, lr 0.00000, time 0.00\n",
      "Wed Jul 27 08:46:43 2022\n",
      "loss 5.4922 0.1842 5.3080, ade1 13.7467, fde1 26.9719, ade 7.4627, fde 12.6730\n",
      "\n",
      "{'cls_loss': tensor(111.1547, device='cuda:0'), 'num_cls': 645, 'reg_loss': tensor(52420.6016, device='cuda:0'), 'num_reg': 11932, 'loss': tensor(4.5656, device='cuda:0')}\n",
      "Epoch 0.000, lr 0.00000, time 0.00\n"
     ]
    },
    {
     "name": "stderr",
     "output_type": "stream",
     "text": [
      "108it [02:12,  5.36it/s]"
     ]
    },
    {
     "name": "stdout",
     "output_type": "stream",
     "text": [
      "Wed Jul 27 08:46:44 2022\n",
      "loss 5.4829 0.1840 5.2988, ade1 13.7367, fde1 26.9584, ade 7.4530, fde 12.6647\n",
      "\n",
      "{'cls_loss': tensor(111.9043, device='cuda:0'), 'num_cls': 637, 'reg_loss': tensor(56513.8164, device='cuda:0'), 'num_reg': 11761, 'loss': tensor(4.9809, device='cuda:0')}\n",
      "Epoch 0.000, lr 0.00000, time 0.00\n",
      "Wed Jul 27 08:46:44 2022\n",
      "loss 5.4779 0.1840 5.2940, ade1 13.7349, fde1 26.9560, ade 7.4507, fde 12.6645\n",
      "\n"
     ]
    },
    {
     "name": "stderr",
     "output_type": "stream",
     "text": [
      "109it [02:12,  4.87it/s]"
     ]
    },
    {
     "name": "stdout",
     "output_type": "stream",
     "text": [
      "{'cls_loss': tensor(134.5262, device='cuda:0'), 'num_cls': 673, 'reg_loss': tensor(59925.9297, device='cuda:0'), 'num_reg': 12080, 'loss': tensor(5.1606, device='cuda:0')}\n",
      "Epoch 0.000, lr 0.00000, time 0.00\n",
      "Wed Jul 27 08:46:44 2022\n",
      "loss 5.4748 0.1841 5.2906, ade1 13.7150, fde1 26.9229, ade 7.4374, fde 12.6349\n",
      "\n"
     ]
    },
    {
     "name": "stderr",
     "output_type": "stream",
     "text": [
      "110it [02:13,  4.56it/s]"
     ]
    },
    {
     "name": "stdout",
     "output_type": "stream",
     "text": [
      "{'cls_loss': tensor(93.2093, device='cuda:0'), 'num_cls': 545, 'reg_loss': tensor(47811.9922, device='cuda:0'), 'num_reg': 9633, 'loss': tensor(5.1344, device='cuda:0')}\n",
      "Epoch 0.000, lr 0.00000, time 0.00\n",
      "Wed Jul 27 08:46:44 2022\n",
      "loss 5.4721 0.1840 5.2881, ade1 13.7112, fde1 26.9091, ade 7.4153, fde 12.5950\n",
      "\n"
     ]
    },
    {
     "name": "stderr",
     "output_type": "stream",
     "text": [
      "112it [02:13,  3.69it/s]"
     ]
    },
    {
     "name": "stdout",
     "output_type": "stream",
     "text": [
      "{'cls_loss': tensor(118.6437, device='cuda:0'), 'num_cls': 611, 'reg_loss': tensor(54870.9180, device='cuda:0'), 'num_reg': 11450, 'loss': tensor(4.9864, device='cuda:0')}\n",
      "Epoch 0.000, lr 0.00000, time 0.00\n",
      "Wed Jul 27 08:46:45 2022\n",
      "loss 5.4676 0.1841 5.2834, ade1 13.7086, fde1 26.9031, ade 7.4228, fde 12.6101\n",
      "\n",
      "{'cls_loss': tensor(76.0989, device='cuda:0'), 'num_cls': 420, 'reg_loss': tensor(70997.1797, device='cuda:0'), 'num_reg': 11926, 'loss': tensor(6.1343, device='cuda:0')}\n",
      "Epoch 0.000, lr 0.00000, time 0.00\n",
      "Wed Jul 27 08:46:45 2022\n",
      "loss 5.4740 0.1841 5.2899, ade1 13.7073, fde1 26.9029, ade 7.4255, fde 12.6011\n",
      "\n"
     ]
    },
    {
     "name": "stderr",
     "output_type": "stream",
     "text": [
      "114it [02:14,  4.15it/s]"
     ]
    },
    {
     "name": "stdout",
     "output_type": "stream",
     "text": [
      "{'cls_loss': tensor(122.9043, device='cuda:0'), 'num_cls': 727, 'reg_loss': tensor(64345.5703, device='cuda:0'), 'num_reg': 11476, 'loss': tensor(5.7760, device='cuda:0')}\n",
      "Epoch 0.000, lr 0.00000, time 0.00\n",
      "Wed Jul 27 08:46:45 2022\n",
      "loss 5.4767 0.1839 5.2928, ade1 13.7038, fde1 26.8897, ade 7.4149, fde 12.5899\n",
      "\n",
      "{'cls_loss': tensor(109.3061, device='cuda:0'), 'num_cls': 616, 'reg_loss': tensor(52720.1484, device='cuda:0'), 'num_reg': 10729, 'loss': tensor(5.0912, device='cuda:0')}\n",
      "Epoch 0.000, lr 0.00000, time 0.00\n",
      "Wed Jul 27 08:46:45 2022\n",
      "loss 5.4734 0.1839 5.2896, ade1 13.7008, fde1 26.8845, ade 7.4170, fde 12.6057\n",
      "\n"
     ]
    },
    {
     "name": "stderr",
     "output_type": "stream",
     "text": [
      "116it [02:14,  4.99it/s]"
     ]
    },
    {
     "name": "stdout",
     "output_type": "stream",
     "text": [
      "{'cls_loss': tensor(115.1567, device='cuda:0'), 'num_cls': 607, 'reg_loss': tensor(60425.0234, device='cuda:0'), 'num_reg': 11103, 'loss': tensor(5.6319, device='cuda:0')}\n",
      "Epoch 0.000, lr 0.00000, time 0.00\n",
      "Wed Jul 27 08:46:45 2022\n",
      "loss 5.4748 0.1839 5.2909, ade1 13.7025, fde1 26.8897, ade 7.4236, fde 12.6266\n",
      "\n",
      "{'cls_loss': tensor(104.8532, device='cuda:0'), 'num_cls': 573, 'reg_loss': tensor(52552.7891, device='cuda:0'), 'num_reg': 10452, 'loss': tensor(5.2110, device='cuda:0')}\n",
      "Epoch 0.000, lr 0.00000, time 0.00\n",
      "Wed Jul 27 08:46:46 2022\n",
      "loss 5.4727 0.1839 5.2888, ade1 13.6941, fde1 26.8694, ade 7.4163, fde 12.6176\n",
      "\n"
     ]
    },
    {
     "name": "stderr",
     "output_type": "stream",
     "text": [
      "117it [02:14,  4.68it/s]"
     ]
    },
    {
     "name": "stdout",
     "output_type": "stream",
     "text": [
      "{'cls_loss': tensor(112.2601, device='cuda:0'), 'num_cls': 586, 'reg_loss': tensor(65516.3477, device='cuda:0'), 'num_reg': 10371, 'loss': tensor(6.5088, device='cuda:0')}\n",
      "Epoch 0.000, lr 0.00000, time 0.00\n",
      "Wed Jul 27 08:46:46 2022\n",
      "loss 5.4810 0.1840 5.2970, ade1 13.6996, fde1 26.8761, ade 7.4303, fde 12.6441\n",
      "\n"
     ]
    },
    {
     "name": "stderr",
     "output_type": "stream",
     "text": [
      "118it [02:15,  4.34it/s]"
     ]
    },
    {
     "name": "stdout",
     "output_type": "stream",
     "text": [
      "{'cls_loss': tensor(110.7533, device='cuda:0'), 'num_cls': 636, 'reg_loss': tensor(55721.0273, device='cuda:0'), 'num_reg': 11021, 'loss': tensor(5.2300, device='cuda:0')}\n",
      "Epoch 0.000, lr 0.00000, time 0.00\n",
      "Wed Jul 27 08:46:46 2022\n",
      "loss 5.4788 0.1839 5.2950, ade1 13.6990, fde1 26.8678, ade 7.4356, fde 12.6535\n",
      "\n"
     ]
    },
    {
     "name": "stderr",
     "output_type": "stream",
     "text": [
      "120it [02:15,  3.36it/s]"
     ]
    },
    {
     "name": "stdout",
     "output_type": "stream",
     "text": [
      "{'cls_loss': tensor(97.0348, device='cuda:0'), 'num_cls': 538, 'reg_loss': tensor(59847.7539, device='cuda:0'), 'num_reg': 9595, 'loss': tensor(6.4178, device='cuda:0')}\n",
      "Epoch 0.000, lr 0.00000, time 0.00\n",
      "Wed Jul 27 08:46:47 2022\n",
      "loss 5.4857 0.1839 5.3018, ade1 13.7055, fde1 26.8773, ade 7.4491, fde 12.6763\n",
      "\n",
      "{'cls_loss': tensor(152.5004, device='cuda:0'), 'num_cls': 814, 'reg_loss': tensor(56699.7891, device='cuda:0'), 'num_reg': 11956, 'loss': tensor(4.9297, device='cuda:0')}\n",
      "Epoch 0.000, lr 0.00000, time 0.00\n",
      "Wed Jul 27 08:46:47 2022\n",
      "loss 5.4807 0.1839 5.2968, ade1 13.6978, fde1 26.8672, ade 7.4468, fde 12.6683\n",
      "\n"
     ]
    },
    {
     "name": "stderr",
     "output_type": "stream",
     "text": [
      "121it [02:16,  3.76it/s]"
     ]
    },
    {
     "name": "stdout",
     "output_type": "stream",
     "text": [
      "{'cls_loss': tensor(92.8536, device='cuda:0'), 'num_cls': 511, 'reg_loss': tensor(57576.9180, device='cuda:0'), 'num_reg': 9864, 'loss': tensor(6.0188, device='cuda:0')}\n",
      "Epoch 0.000, lr 0.00000, time 0.00\n",
      "Wed Jul 27 08:46:47 2022\n",
      "loss 5.4847 0.1839 5.3008, ade1 13.6952, fde1 26.8566, ade 7.4450, fde 12.6652\n",
      "\n"
     ]
    },
    {
     "name": "stderr",
     "output_type": "stream",
     "text": [
      "123it [02:16,  4.36it/s]"
     ]
    },
    {
     "name": "stdout",
     "output_type": "stream",
     "text": [
      "{'cls_loss': tensor(99.2186, device='cuda:0'), 'num_cls': 588, 'reg_loss': tensor(59350.4453, device='cuda:0'), 'num_reg': 10693, 'loss': tensor(5.7191, device='cuda:0')}\n",
      "Epoch 0.000, lr 0.00000, time 0.00\n",
      "Wed Jul 27 08:46:47 2022\n",
      "loss 5.4865 0.1838 5.3027, ade1 13.7037, fde1 26.8721, ade 7.4513, fde 12.6777\n",
      "\n",
      "{'cls_loss': tensor(99.4022, device='cuda:0'), 'num_cls': 548, 'reg_loss': tensor(61190.9062, device='cuda:0'), 'num_reg': 9604, 'loss': tensor(6.5528, device='cuda:0')}\n",
      "Epoch 0.000, lr 0.00000, time 0.00\n",
      "Wed Jul 27 08:46:48 2022\n",
      "loss 5.4941 0.1838 5.3103, ade1 13.7104, fde1 26.8824, ade 7.4529, fde 12.6847\n",
      "\n"
     ]
    },
    {
     "name": "stderr",
     "output_type": "stream",
     "text": [
      "124it [02:16,  4.29it/s]"
     ]
    },
    {
     "name": "stdout",
     "output_type": "stream",
     "text": [
      "{'cls_loss': tensor(129.0013, device='cuda:0'), 'num_cls': 723, 'reg_loss': tensor(62604.8555, device='cuda:0'), 'num_reg': 11711, 'loss': tensor(5.5242, device='cuda:0')}\n",
      "Epoch 0.000, lr 0.00000, time 0.00\n",
      "Wed Jul 27 08:46:48 2022\n",
      "loss 5.4943 0.1837 5.3106, ade1 13.7025, fde1 26.8685, ade 7.4514, fde 12.6780\n",
      "\n"
     ]
    },
    {
     "name": "stderr",
     "output_type": "stream",
     "text": [
      "126it [02:17,  4.22it/s]"
     ]
    },
    {
     "name": "stdout",
     "output_type": "stream",
     "text": [
      "{'cls_loss': tensor(111.2295, device='cuda:0'), 'num_cls': 648, 'reg_loss': tensor(64918.9766, device='cuda:0'), 'num_reg': 11408, 'loss': tensor(5.8623, device='cuda:0')}\n",
      "Epoch 0.000, lr 0.00000, time 0.00\n",
      "Wed Jul 27 08:46:48 2022\n",
      "loss 5.4973 0.1836 5.3137, ade1 13.7027, fde1 26.8687, ade 7.4515, fde 12.6814\n",
      "\n",
      "{'cls_loss': tensor(98.2668, device='cuda:0'), 'num_cls': 517, 'reg_loss': tensor(60342.8281, device='cuda:0'), 'num_reg': 10387, 'loss': tensor(5.9995, device='cuda:0')}\n",
      "Epoch 0.000, lr 0.00000, time 0.00\n",
      "Wed Jul 27 08:46:48 2022\n",
      "loss 5.5011 0.1836 5.3174, ade1 13.7052, fde1 26.8702, ade 7.4515, fde 12.6821\n",
      "\n"
     ]
    },
    {
     "name": "stderr",
     "output_type": "stream",
     "text": [
      "127it [02:17,  4.63it/s]"
     ]
    },
    {
     "name": "stdout",
     "output_type": "stream",
     "text": [
      "{'cls_loss': tensor(86.0406, device='cuda:0'), 'num_cls': 476, 'reg_loss': tensor(65226.4375, device='cuda:0'), 'num_reg': 9965, 'loss': tensor(6.7263, device='cuda:0')}\n",
      "Epoch 0.000, lr 0.00000, time 0.00\n",
      "Wed Jul 27 08:46:48 2022\n",
      "loss 5.5098 0.1836 5.3262, ade1 13.7214, fde1 26.9048, ade 7.4564, fde 12.6859\n",
      "\n"
     ]
    },
    {
     "name": "stderr",
     "output_type": "stream",
     "text": [
      "128it [02:17,  4.49it/s]"
     ]
    },
    {
     "name": "stdout",
     "output_type": "stream",
     "text": [
      "{'cls_loss': tensor(110.0543, device='cuda:0'), 'num_cls': 584, 'reg_loss': tensor(59092.3008, device='cuda:0'), 'num_reg': 10154, 'loss': tensor(6.0081, device='cuda:0')}\n",
      "Epoch 0.000, lr 0.00000, time 0.00\n",
      "Wed Jul 27 08:46:49 2022\n",
      "loss 5.5134 0.1837 5.3297, ade1 13.7095, fde1 26.8817, ade 7.4500, fde 12.6738\n",
      "\n"
     ]
    },
    {
     "name": "stderr",
     "output_type": "stream",
     "text": [
      "129it [02:17,  4.13it/s]"
     ]
    },
    {
     "name": "stdout",
     "output_type": "stream",
     "text": [
      "{'cls_loss': tensor(144.7456, device='cuda:0'), 'num_cls': 825, 'reg_loss': tensor(51772.6328, device='cuda:0'), 'num_reg': 13438, 'loss': tensor(4.0282, device='cuda:0')}\n",
      "Epoch 0.000, lr 0.00000, time 0.00\n",
      "Wed Jul 27 08:46:49 2022\n",
      "loss 5.4994 0.1836 5.3158, ade1 13.6866, fde1 26.8401, ade 7.4283, fde 12.6205\n",
      "\n"
     ]
    },
    {
     "name": "stderr",
     "output_type": "stream",
     "text": [
      "130it [02:18,  4.19it/s]"
     ]
    },
    {
     "name": "stdout",
     "output_type": "stream",
     "text": [
      "{'cls_loss': tensor(106.8517, device='cuda:0'), 'num_cls': 490, 'reg_loss': tensor(57928.6406, device='cuda:0'), 'num_reg': 9401, 'loss': tensor(6.3800, device='cuda:0')}\n",
      "Epoch 0.000, lr 0.00000, time 0.00\n",
      "Wed Jul 27 08:46:49 2022\n",
      "loss 5.5051 0.1838 5.3213, ade1 13.6912, fde1 26.8490, ade 7.4293, fde 12.6182\n",
      "\n"
     ]
    },
    {
     "name": "stderr",
     "output_type": "stream",
     "text": [
      "131it [02:18,  4.15it/s]"
     ]
    },
    {
     "name": "stdout",
     "output_type": "stream",
     "text": [
      "{'cls_loss': tensor(105.6924, device='cuda:0'), 'num_cls': 609, 'reg_loss': tensor(53660.9922, device='cuda:0'), 'num_reg': 10813, 'loss': tensor(5.1362, device='cuda:0')}\n",
      "Epoch 0.000, lr 0.00000, time 0.00\n",
      "Wed Jul 27 08:46:49 2022\n",
      "loss 5.5024 0.1837 5.3186, ade1 13.6960, fde1 26.8542, ade 7.4368, fde 12.6320\n",
      "\n"
     ]
    },
    {
     "name": "stderr",
     "output_type": "stream",
     "text": [
      "132it [02:18,  4.09it/s]"
     ]
    },
    {
     "name": "stdout",
     "output_type": "stream",
     "text": [
      "{'cls_loss': tensor(91.9928, device='cuda:0'), 'num_cls': 380, 'reg_loss': tensor(62568.2344, device='cuda:0'), 'num_reg': 10167, 'loss': tensor(6.3961, device='cuda:0')}\n",
      "Epoch 0.000, lr 0.00000, time 0.00\n",
      "Wed Jul 27 08:46:50 2022\n",
      "loss 5.5085 0.1840 5.3245, ade1 13.6888, fde1 26.8463, ade 7.4276, fde 12.6066\n",
      "\n"
     ]
    },
    {
     "name": "stderr",
     "output_type": "stream",
     "text": [
      "133it [02:18,  3.99it/s]"
     ]
    },
    {
     "name": "stdout",
     "output_type": "stream",
     "text": [
      "{'cls_loss': tensor(85.8468, device='cuda:0'), 'num_cls': 413, 'reg_loss': tensor(48269.0781, device='cuda:0'), 'num_reg': 8643, 'loss': tensor(5.7926, device='cuda:0')}\n",
      "Epoch 0.000, lr 0.00000, time 0.00\n",
      "Wed Jul 27 08:46:50 2022\n",
      "loss 5.5101 0.1841 5.3260, ade1 13.6912, fde1 26.8511, ade 7.4138, fde 12.5775\n",
      "\n"
     ]
    },
    {
     "name": "stderr",
     "output_type": "stream",
     "text": [
      "135it [02:19,  4.44it/s]"
     ]
    },
    {
     "name": "stdout",
     "output_type": "stream",
     "text": [
      "{'cls_loss': tensor(129.6494, device='cuda:0'), 'num_cls': 686, 'reg_loss': tensor(66691.3438, device='cuda:0'), 'num_reg': 11649, 'loss': tensor(5.9141, device='cuda:0')}\n",
      "Epoch 0.000, lr 0.00000, time 0.00\n",
      "Wed Jul 27 08:46:50 2022\n",
      "loss 5.5133 0.1842 5.3292, ade1 13.6883, fde1 26.8430, ade 7.4143, fde 12.5773\n",
      "\n",
      "{'cls_loss': tensor(129.7785, device='cuda:0'), 'num_cls': 672, 'reg_loss': tensor(50930.2422, device='cuda:0'), 'num_reg': 12801, 'loss': tensor(4.1717, device='cuda:0')}\n",
      "Epoch 0.000, lr 0.00000, time 0.00\n",
      "Wed Jul 27 08:46:50 2022\n",
      "loss 5.5018 0.1842 5.3176, ade1 13.6718, fde1 26.8141, ade 7.4015, fde 12.5569\n",
      "\n"
     ]
    },
    {
     "name": "stderr",
     "output_type": "stream",
     "text": [
      "136it [02:19,  4.79it/s]"
     ]
    },
    {
     "name": "stdout",
     "output_type": "stream",
     "text": [
      "{'cls_loss': tensor(114.3218, device='cuda:0'), 'num_cls': 677, 'reg_loss': tensor(49258.1523, device='cuda:0'), 'num_reg': 10998, 'loss': tensor(4.6477, device='cuda:0')}\n",
      "Epoch 0.000, lr 0.00000, time 0.00\n",
      "Wed Jul 27 08:46:51 2022\n",
      "loss 5.4955 0.1841 5.3114, ade1 13.6638, fde1 26.8019, ade 7.3969, fde 12.5596\n",
      "\n"
     ]
    },
    {
     "name": "stderr",
     "output_type": "stream",
     "text": [
      "137it [02:19,  3.53it/s]"
     ]
    },
    {
     "name": "stdout",
     "output_type": "stream",
     "text": [
      "{'cls_loss': tensor(106.5600, device='cuda:0'), 'num_cls': 614, 'reg_loss': tensor(58989.3359, device='cuda:0'), 'num_reg': 10902, 'loss': tensor(5.5844, device='cuda:0')}\n",
      "Epoch 0.000, lr 0.00000, time 0.00\n",
      "Wed Jul 27 08:46:51 2022\n",
      "loss 5.4962 0.1840 5.3121, ade1 13.6638, fde1 26.8030, ade 7.4044, fde 12.5771\n",
      "\n"
     ]
    },
    {
     "name": "stderr",
     "output_type": "stream",
     "text": [
      "139it [02:20,  4.17it/s]"
     ]
    },
    {
     "name": "stdout",
     "output_type": "stream",
     "text": [
      "{'cls_loss': tensor(124.7435, device='cuda:0'), 'num_cls': 605, 'reg_loss': tensor(64331.9219, device='cuda:0'), 'num_reg': 12344, 'loss': tensor(5.4178, device='cuda:0')}\n",
      "Epoch 0.000, lr 0.00000, time 0.00\n",
      "Wed Jul 27 08:46:51 2022\n",
      "loss 5.4955 0.1842 5.3113, ade1 13.6642, fde1 26.8084, ade 7.3943, fde 12.5611\n",
      "\n",
      "{'cls_loss': tensor(128.0069, device='cuda:0'), 'num_cls': 706, 'reg_loss': tensor(48883.7930, device='cuda:0'), 'num_reg': 11378, 'loss': tensor(4.4777, device='cuda:0')}\n",
      "Epoch 0.000, lr 0.00000, time 0.00\n",
      "Wed Jul 27 08:46:51 2022\n",
      "loss 5.4880 0.1842 5.3038, ade1 13.6450, fde1 26.7687, ade 7.3863, fde 12.5487\n",
      "\n"
     ]
    },
    {
     "name": "stderr",
     "output_type": "stream",
     "text": [
      "140it [02:20,  4.02it/s]"
     ]
    },
    {
     "name": "stdout",
     "output_type": "stream",
     "text": [
      "{'cls_loss': tensor(115.3775, device='cuda:0'), 'num_cls': 554, 'reg_loss': tensor(58054.0625, device='cuda:0'), 'num_reg': 10630, 'loss': tensor(5.6696, device='cuda:0')}\n",
      "Epoch 0.000, lr 0.00000, time 0.00\n",
      "Wed Jul 27 08:46:52 2022\n",
      "loss 5.4892 0.1843 5.3049, ade1 13.6450, fde1 26.7727, ade 7.3872, fde 12.5449\n",
      "\n"
     ]
    },
    {
     "name": "stderr",
     "output_type": "stream",
     "text": [
      "141it [02:20,  3.99it/s]"
     ]
    },
    {
     "name": "stdout",
     "output_type": "stream",
     "text": [
      "{'cls_loss': tensor(107.5240, device='cuda:0'), 'num_cls': 564, 'reg_loss': tensor(52620.2656, device='cuda:0'), 'num_reg': 9413, 'loss': tensor(5.7808, device='cuda:0')}\n",
      "Epoch 0.000, lr 0.00000, time 0.00\n",
      "Wed Jul 27 08:46:52 2022\n",
      "loss 5.4910 0.1844 5.3066, ade1 13.6426, fde1 26.7621, ade 7.3919, fde 12.5439\n",
      "\n"
     ]
    },
    {
     "name": "stderr",
     "output_type": "stream",
     "text": [
      "142it [02:21,  2.87it/s]"
     ]
    },
    {
     "name": "stdout",
     "output_type": "stream",
     "text": [
      "{'cls_loss': tensor(76.5195, device='cuda:0'), 'num_cls': 412, 'reg_loss': tensor(57752.4219, device='cuda:0'), 'num_reg': 10455, 'loss': tensor(5.7096, device='cuda:0')}\n",
      "Epoch 0.000, lr 0.00000, time 0.00\n",
      "Wed Jul 27 08:46:53 2022\n",
      "loss 5.4924 0.1844 5.3081, ade1 13.6368, fde1 26.7437, ade 7.3942, fde 12.5422\n",
      "\n"
     ]
    },
    {
     "name": "stderr",
     "output_type": "stream",
     "text": [
      "143it [02:21,  3.07it/s]"
     ]
    },
    {
     "name": "stdout",
     "output_type": "stream",
     "text": [
      "{'cls_loss': tensor(68.3857, device='cuda:0'), 'num_cls': 415, 'reg_loss': tensor(69181.1094, device='cuda:0'), 'num_reg': 10280, 'loss': tensor(6.8945, device='cuda:0')}\n",
      "Epoch 0.000, lr 0.00000, time 0.00\n",
      "Wed Jul 27 08:46:53 2022\n",
      "loss 5.5016 0.1843 5.3173, ade1 13.6493, fde1 26.7594, ade 7.4113, fde 12.5672\n",
      "\n"
     ]
    },
    {
     "name": "stderr",
     "output_type": "stream",
     "text": [
      "144it [02:22,  3.02it/s]"
     ]
    },
    {
     "name": "stdout",
     "output_type": "stream",
     "text": [
      "{'cls_loss': tensor(71.8471, device='cuda:0'), 'num_cls': 427, 'reg_loss': tensor(96993., device='cuda:0'), 'num_reg': 11477, 'loss': tensor(8.6193, device='cuda:0')}\n",
      "Epoch 0.000, lr 0.00000, time 0.00\n",
      "Wed Jul 27 08:46:53 2022\n",
      "loss 5.5242 0.1842 5.3400, ade1 13.6733, fde1 26.8015, ade 7.4492, fde 12.6239\n",
      "\n"
     ]
    },
    {
     "name": "stderr",
     "output_type": "stream",
     "text": [
      "145it [02:22,  3.25it/s]"
     ]
    },
    {
     "name": "stdout",
     "output_type": "stream",
     "text": [
      "{'cls_loss': tensor(118.1641, device='cuda:0'), 'num_cls': 737, 'reg_loss': tensor(60913.5391, device='cuda:0'), 'num_reg': 12686, 'loss': tensor(4.9620, device='cuda:0')}\n",
      "Epoch 0.000, lr 0.00000, time 0.00\n",
      "Wed Jul 27 08:46:53 2022\n",
      "loss 5.5197 0.1840 5.3357, ade1 13.6627, fde1 26.7795, ade 7.4383, fde 12.6050\n",
      "\n"
     ]
    },
    {
     "name": "stderr",
     "output_type": "stream",
     "text": [
      "146it [02:22,  3.50it/s]"
     ]
    },
    {
     "name": "stdout",
     "output_type": "stream",
     "text": [
      "{'cls_loss': tensor(78.0611, device='cuda:0'), 'num_cls': 501, 'reg_loss': tensor(59077.4219, device='cuda:0'), 'num_reg': 10246, 'loss': tensor(5.9217, device='cuda:0')}\n",
      "Epoch 0.000, lr 0.00000, time 0.00\n",
      "Wed Jul 27 08:46:54 2022\n",
      "loss 5.5223 0.1838 5.3384, ade1 13.6716, fde1 26.7967, ade 7.4461, fde 12.6284\n",
      "\n",
      "{'cls_loss': tensor(111.7269, device='cuda:0'), 'num_cls': 605, 'reg_loss': tensor(49168.3281, device='cuda:0'), 'num_reg': 11016, 'loss': tensor(4.6480, device='cuda:0')}\n",
      "Epoch 0.000, lr 0.00000, time 0.00\n"
     ]
    },
    {
     "name": "stderr",
     "output_type": "stream",
     "text": [
      "148it [02:22,  4.38it/s]"
     ]
    },
    {
     "name": "stdout",
     "output_type": "stream",
     "text": [
      "Wed Jul 27 08:46:54 2022\n",
      "loss 5.5163 0.1838 5.3325, ade1 13.6785, fde1 26.8093, ade 7.4489, fde 12.6267\n",
      "\n",
      "{'cls_loss': tensor(101.1509, device='cuda:0'), 'num_cls': 472, 'reg_loss': tensor(63992.8359, device='cuda:0'), 'num_reg': 10627, 'loss': tensor(6.2360, device='cuda:0')}\n",
      "Epoch 0.000, lr 0.00000, time 0.00\n",
      "Wed Jul 27 08:46:54 2022\n",
      "loss 5.5210 0.1840 5.3370, ade1 13.6758, fde1 26.8070, ade 7.4460, fde 12.6192\n",
      "\n"
     ]
    },
    {
     "name": "stderr",
     "output_type": "stream",
     "text": [
      "150it [02:23,  4.94it/s]"
     ]
    },
    {
     "name": "stdout",
     "output_type": "stream",
     "text": [
      "{'cls_loss': tensor(121.9622, device='cuda:0'), 'num_cls': 612, 'reg_loss': tensor(50982.7695, device='cuda:0'), 'num_reg': 11346, 'loss': tensor(4.6927, device='cuda:0')}\n",
      "Epoch 0.000, lr 0.00000, time 0.00\n",
      "Wed Jul 27 08:46:54 2022\n",
      "loss 5.5153 0.1841 5.3312, ade1 13.6688, fde1 26.7937, ade 7.4421, fde 12.6064\n",
      "\n",
      "{'cls_loss': tensor(124.5067, device='cuda:0'), 'num_cls': 668, 'reg_loss': tensor(53723.2812, device='cuda:0'), 'num_reg': 11854, 'loss': tensor(4.7185, device='cuda:0')}\n",
      "Epoch 0.000, lr 0.00000, time 0.00\n",
      "Wed Jul 27 08:46:54 2022\n",
      "loss 5.5096 0.1841 5.3254, ade1 13.6568, fde1 26.7737, ade 7.4331, fde 12.5970\n",
      "\n"
     ]
    },
    {
     "name": "stderr",
     "output_type": "stream",
     "text": [
      "151it [02:23,  4.48it/s]"
     ]
    },
    {
     "name": "stdout",
     "output_type": "stream",
     "text": [
      "{'cls_loss': tensor(109.9314, device='cuda:0'), 'num_cls': 669, 'reg_loss': tensor(56611.0430, device='cuda:0'), 'num_reg': 11331, 'loss': tensor(5.1604, device='cuda:0')}\n",
      "Epoch 0.000, lr 0.00000, time 0.00\n",
      "Wed Jul 27 08:46:55 2022\n",
      "loss 5.5072 0.1840 5.3232, ade1 13.6570, fde1 26.7752, ade 7.4362, fde 12.6009\n",
      "\n"
     ]
    },
    {
     "name": "stderr",
     "output_type": "stream",
     "text": [
      "153it [02:23,  4.64it/s]"
     ]
    },
    {
     "name": "stdout",
     "output_type": "stream",
     "text": [
      "{'cls_loss': tensor(101.1277, device='cuda:0'), 'num_cls': 544, 'reg_loss': tensor(42722.2539, device='cuda:0'), 'num_reg': 8693, 'loss': tensor(5.1005, device='cuda:0')}\n",
      "Epoch 0.000, lr 0.00000, time 0.00\n",
      "Wed Jul 27 08:46:55 2022\n",
      "loss 5.5051 0.1840 5.3211, ade1 13.6468, fde1 26.7478, ade 7.4299, fde 12.5781\n",
      "\n",
      "{'cls_loss': tensor(82.6664, device='cuda:0'), 'num_cls': 456, 'reg_loss': tensor(75310.1016, device='cuda:0'), 'num_reg': 9897, 'loss': tensor(7.7907, device='cuda:0')}\n",
      "Epoch 0.000, lr 0.00000, time 0.00\n",
      "Wed Jul 27 08:46:55 2022\n",
      "loss 5.5185 0.1840 5.3345, ade1 13.6613, fde1 26.7760, ade 7.4370, fde 12.5926\n",
      "\n"
     ]
    },
    {
     "name": "stderr",
     "output_type": "stream",
     "text": [
      "155it [02:24,  5.26it/s]"
     ]
    },
    {
     "name": "stdout",
     "output_type": "stream",
     "text": [
      "{'cls_loss': tensor(72.9885, device='cuda:0'), 'num_cls': 383, 'reg_loss': tensor(61058.3711, device='cuda:0'), 'num_reg': 10613, 'loss': tensor(5.9437, device='cuda:0')}\n",
      "Epoch 0.000, lr 0.00000, time 0.00\n",
      "Wed Jul 27 08:46:55 2022\n",
      "loss 5.5211 0.1840 5.3371, ade1 13.6605, fde1 26.7741, ade 7.4362, fde 12.5920\n",
      "\n",
      "{'cls_loss': tensor(72.5546, device='cuda:0'), 'num_cls': 396, 'reg_loss': tensor(69671.7500, device='cuda:0'), 'num_reg': 10159, 'loss': tensor(7.0413, device='cuda:0')}\n",
      "Epoch 0.000, lr 0.00000, time 0.00\n",
      "Wed Jul 27 08:46:55 2022\n",
      "loss 5.5302 0.1840 5.3462, ade1 13.6591, fde1 26.7692, ade 7.4354, fde 12.5913\n",
      "\n"
     ]
    },
    {
     "name": "stderr",
     "output_type": "stream",
     "text": [
      "156it [02:24,  5.34it/s]"
     ]
    },
    {
     "name": "stdout",
     "output_type": "stream",
     "text": [
      "{'cls_loss': tensor(90.1372, device='cuda:0'), 'num_cls': 496, 'reg_loss': tensor(66117.5703, device='cuda:0'), 'num_reg': 10485, 'loss': tensor(6.4876, device='cuda:0')}\n",
      "Epoch 0.000, lr 0.00000, time 0.00\n",
      "Wed Jul 27 08:46:56 2022\n",
      "loss 5.5360 0.1840 5.3521, ade1 13.6659, fde1 26.7798, ade 7.4464, fde 12.6082\n",
      "\n"
     ]
    },
    {
     "name": "stderr",
     "output_type": "stream",
     "text": [
      "157it [02:25,  2.21it/s]"
     ]
    },
    {
     "name": "stdout",
     "output_type": "stream",
     "text": [
      "{'cls_loss': tensor(77.4452, device='cuda:0'), 'num_cls': 400, 'reg_loss': tensor(59149.0938, device='cuda:0'), 'num_reg': 9917, 'loss': tensor(6.1580, device='cuda:0')}\n",
      "Epoch 0.000, lr 0.00000, time 0.00\n",
      "Wed Jul 27 08:46:57 2022\n",
      "loss 5.5396 0.1840 5.3556, ade1 13.6757, fde1 26.8001, ade 7.4412, fde 12.5995\n",
      "\n"
     ]
    },
    {
     "name": "stderr",
     "output_type": "stream",
     "text": [
      "159it [02:25,  3.11it/s]"
     ]
    },
    {
     "name": "stdout",
     "output_type": "stream",
     "text": [
      "{'cls_loss': tensor(106.3544, device='cuda:0'), 'num_cls': 583, 'reg_loss': tensor(57612.1016, device='cuda:0'), 'num_reg': 11732, 'loss': tensor(5.0931, device='cuda:0')}\n",
      "Epoch 0.000, lr 0.00000, time 0.00\n",
      "Wed Jul 27 08:46:57 2022\n",
      "loss 5.5366 0.1840 5.3526, ade1 13.6825, fde1 26.8116, ade 7.4431, fde 12.5971\n",
      "\n",
      "{'cls_loss': tensor(99.8498, device='cuda:0'), 'num_cls': 527, 'reg_loss': tensor(63681.4375, device='cuda:0'), 'num_reg': 8784, 'loss': tensor(7.4392, device='cuda:0')}\n",
      "Epoch 0.000, lr 0.00000, time 0.00\n",
      "Wed Jul 27 08:46:57 2022\n",
      "loss 5.5462 0.1840 5.3621, ade1 13.6781, fde1 26.7908, ade 7.4565, fde 12.6126\n",
      "\n"
     ]
    },
    {
     "name": "stderr",
     "output_type": "stream",
     "text": [
      "160it [02:26,  3.63it/s]"
     ]
    },
    {
     "name": "stdout",
     "output_type": "stream",
     "text": [
      "{'cls_loss': tensor(108.6779, device='cuda:0'), 'num_cls': 625, 'reg_loss': tensor(71462.8281, device='cuda:0'), 'num_reg': 11195, 'loss': tensor(6.5573, device='cuda:0')}\n",
      "Epoch 0.000, lr 0.00000, time 0.00\n",
      "Wed Jul 27 08:46:57 2022\n",
      "loss 5.5526 0.1840 5.3686, ade1 13.6835, fde1 26.7955, ade 7.4664, fde 12.6341\n",
      "\n",
      "{'cls_loss': tensor(98.1652, device='cuda:0'), 'num_cls': 632, 'reg_loss': tensor(60071.3594, device='cuda:0'), 'num_reg': 10142, 'loss': tensor(6.0784, device='cuda:0')}\n",
      "Epoch 0.000, lr 0.00000, time 0.00\n"
     ]
    },
    {
     "name": "stderr",
     "output_type": "stream",
     "text": [
      "161it [02:26,  3.94it/s]"
     ]
    },
    {
     "name": "stdout",
     "output_type": "stream",
     "text": [
      "Wed Jul 27 08:46:57 2022\n",
      "loss 5.5556 0.1838 5.3718, ade1 13.6808, fde1 26.7877, ade 7.4660, fde 12.6346\n",
      "\n"
     ]
    },
    {
     "name": "stderr",
     "output_type": "stream",
     "text": [
      "162it [02:26,  3.92it/s]"
     ]
    },
    {
     "name": "stdout",
     "output_type": "stream",
     "text": [
      "{'cls_loss': tensor(121.6901, device='cuda:0'), 'num_cls': 628, 'reg_loss': tensor(54771.3242, device='cuda:0'), 'num_reg': 11532, 'loss': tensor(4.9433, device='cuda:0')}\n",
      "Epoch 0.000, lr 0.00000, time 0.00\n",
      "Wed Jul 27 08:46:58 2022\n",
      "loss 5.5516 0.1839 5.3678, ade1 13.6620, fde1 26.7548, ade 7.4545, fde 12.6151\n",
      "\n",
      "{'cls_loss': tensor(118.9560, device='cuda:0'), 'num_cls': 634, 'reg_loss': tensor(62637.9922, device='cuda:0'), 'num_reg': 10648, 'loss': tensor(6.0702, device='cuda:0')}\n",
      "Epoch 0.000, lr 0.00000, time 0.00\n"
     ]
    },
    {
     "name": "stderr",
     "output_type": "stream",
     "text": [
      "164it [02:26,  4.69it/s]"
     ]
    },
    {
     "name": "stdout",
     "output_type": "stream",
     "text": [
      "Wed Jul 27 08:46:58 2022\n",
      "loss 5.5547 0.1839 5.3708, ade1 13.6651, fde1 26.7594, ade 7.4626, fde 12.6259\n",
      "\n",
      "{'cls_loss': tensor(113.3359, device='cuda:0'), 'num_cls': 678, 'reg_loss': tensor(54333.0664, device='cuda:0'), 'num_reg': 11836, 'loss': tensor(4.7577, device='cuda:0')}\n",
      "Epoch 0.000, lr 0.00000, time 0.00\n",
      "Wed Jul 27 08:46:58 2022\n",
      "loss 5.5495 0.1838 5.3657, ade1 13.6568, fde1 26.7458, ade 7.4528, fde 12.6069\n",
      "\n"
     ]
    },
    {
     "name": "stderr",
     "output_type": "stream",
     "text": [
      "165it [02:27,  4.94it/s]"
     ]
    },
    {
     "name": "stdout",
     "output_type": "stream",
     "text": [
      "{'cls_loss': tensor(94.9407, device='cuda:0'), 'num_cls': 582, 'reg_loss': tensor(58081.4844, device='cuda:0'), 'num_reg': 10858, 'loss': tensor(5.5123, device='cuda:0')}\n",
      "Epoch 0.000, lr 0.00000, time 0.00\n",
      "Wed Jul 27 08:46:58 2022\n",
      "loss 5.5493 0.1836 5.3656, ade1 13.6592, fde1 26.7465, ade 7.4643, fde 12.6302\n",
      "\n"
     ]
    },
    {
     "name": "stderr",
     "output_type": "stream",
     "text": [
      "166it [02:27,  4.49it/s]"
     ]
    },
    {
     "name": "stdout",
     "output_type": "stream",
     "text": [
      "{'cls_loss': tensor(72.7532, device='cuda:0'), 'num_cls': 436, 'reg_loss': tensor(46635.6562, device='cuda:0'), 'num_reg': 10077, 'loss': tensor(4.7948, device='cuda:0')}\n",
      "Epoch 0.000, lr 0.00000, time 0.00\n",
      "Wed Jul 27 08:46:58 2022\n",
      "loss 5.5451 0.1836 5.3615, ade1 13.6572, fde1 26.7383, ade 7.4584, fde 12.6127\n",
      "\n"
     ]
    },
    {
     "name": "stderr",
     "output_type": "stream",
     "text": [
      "167it [02:27,  4.31it/s]"
     ]
    },
    {
     "name": "stdout",
     "output_type": "stream",
     "text": [
      "{'cls_loss': tensor(95.0815, device='cuda:0'), 'num_cls': 576, 'reg_loss': tensor(71121.2344, device='cuda:0'), 'num_reg': 12032, 'loss': tensor(6.0761, device='cuda:0')}\n",
      "Epoch 0.000, lr 0.00000, time 0.00\n",
      "Wed Jul 27 08:46:59 2022\n",
      "loss 5.5486 0.1835 5.3651, ade1 13.6580, fde1 26.7380, ade 7.4617, fde 12.6197\n",
      "\n"
     ]
    },
    {
     "name": "stderr",
     "output_type": "stream",
     "text": [
      "168it [02:27,  4.28it/s]"
     ]
    },
    {
     "name": "stdout",
     "output_type": "stream",
     "text": [
      "{'cls_loss': tensor(112.3754, device='cuda:0'), 'num_cls': 617, 'reg_loss': tensor(68356.4062, device='cuda:0'), 'num_reg': 11108, 'loss': tensor(6.3359, device='cuda:0')}\n",
      "Epoch 0.000, lr 0.00000, time 0.00\n",
      "Wed Jul 27 08:46:59 2022\n",
      "loss 5.5533 0.1835 5.3699, ade1 13.6601, fde1 26.7441, ade 7.4626, fde 12.6278\n",
      "\n",
      "{'cls_loss': tensor(117.7192, device='cuda:0'), 'num_cls': 608, 'reg_loss': tensor(62800.1875, device='cuda:0'), 'num_reg': 10033, 'loss': tensor(6.4530, device='cuda:0')}\n",
      "Epoch 0.000, lr 0.00000, time 0.00\n"
     ]
    },
    {
     "name": "stderr",
     "output_type": "stream",
     "text": [
      "169it [02:28,  4.59it/s]"
     ]
    },
    {
     "name": "stdout",
     "output_type": "stream",
     "text": [
      "Wed Jul 27 08:46:59 2022\n",
      "loss 5.5582 0.1835 5.3747, ade1 13.6664, fde1 26.7513, ade 7.4562, fde 12.6145\n",
      "\n"
     ]
    },
    {
     "name": "stderr",
     "output_type": "stream",
     "text": [
      "170it [02:28,  4.27it/s]"
     ]
    },
    {
     "name": "stdout",
     "output_type": "stream",
     "text": [
      "{'cls_loss': tensor(86.9018, device='cuda:0'), 'num_cls': 441, 'reg_loss': tensor(64511.5312, device='cuda:0'), 'num_reg': 10681, 'loss': tensor(6.2369, device='cuda:0')}\n",
      "Epoch 0.000, lr 0.00000, time 0.00\n",
      "Wed Jul 27 08:46:59 2022\n",
      "loss 5.5621 0.1836 5.3785, ade1 13.6683, fde1 26.7588, ade 7.4551, fde 12.6109\n",
      "\n"
     ]
    },
    {
     "name": "stderr",
     "output_type": "stream",
     "text": [
      "172it [02:28,  4.52it/s]"
     ]
    },
    {
     "name": "stdout",
     "output_type": "stream",
     "text": [
      "{'cls_loss': tensor(115.7703, device='cuda:0'), 'num_cls': 644, 'reg_loss': tensor(64604.3008, device='cuda:0'), 'num_reg': 11914, 'loss': tensor(5.6023, device='cuda:0')}\n",
      "Epoch 0.000, lr 0.00000, time 0.00\n",
      "Wed Jul 27 08:47:00 2022\n",
      "loss 5.5623 0.1836 5.3788, ade1 13.6666, fde1 26.7532, ade 7.4546, fde 12.6006\n",
      "\n",
      "{'cls_loss': tensor(128.4926, device='cuda:0'), 'num_cls': 782, 'reg_loss': tensor(46842.9609, device='cuda:0'), 'num_reg': 12703, 'loss': tensor(3.8519, device='cuda:0')}\n",
      "Epoch 0.000, lr 0.00000, time 0.00\n",
      "Wed Jul 27 08:47:00 2022\n",
      "loss 5.5508 0.1834 5.3674, ade1 13.6698, fde1 26.7565, ade 7.4537, fde 12.5995\n",
      "\n"
     ]
    },
    {
     "name": "stderr",
     "output_type": "stream",
     "text": [
      "173it [02:28,  4.71it/s]"
     ]
    },
    {
     "name": "stdout",
     "output_type": "stream",
     "text": [
      "{'cls_loss': tensor(93.0370, device='cuda:0'), 'num_cls': 560, 'reg_loss': tensor(61099.2031, device='cuda:0'), 'num_reg': 10914, 'loss': tensor(5.7644, device='cuda:0')}\n",
      "Epoch 0.000, lr 0.00000, time 0.00\n",
      "Wed Jul 27 08:47:00 2022\n",
      "loss 5.5520 0.1833 5.3687, ade1 13.6726, fde1 26.7545, ade 7.4539, fde 12.5979\n",
      "\n",
      "{'cls_loss': tensor(107.1525, device='cuda:0'), 'num_cls': 584, 'reg_loss': tensor(60027.8984, device='cuda:0'), 'num_reg': 10467, 'loss': tensor(5.9184, device='cuda:0')}\n",
      "Epoch 0.000, lr 0.00000, time 0.00\n"
     ]
    },
    {
     "name": "stderr",
     "output_type": "stream",
     "text": [
      "174it [02:29,  4.87it/s]"
     ]
    },
    {
     "name": "stdout",
     "output_type": "stream",
     "text": [
      "Wed Jul 27 08:47:00 2022\n",
      "loss 5.5541 0.1833 5.3707, ade1 13.6847, fde1 26.7823, ade 7.4667, fde 12.6217\n",
      "\n"
     ]
    },
    {
     "name": "stderr",
     "output_type": "stream",
     "text": [
      "176it [02:29,  4.80it/s]"
     ]
    },
    {
     "name": "stdout",
     "output_type": "stream",
     "text": [
      "{'cls_loss': tensor(132.5274, device='cuda:0'), 'num_cls': 707, 'reg_loss': tensor(53986.2148, device='cuda:0'), 'num_reg': 12579, 'loss': tensor(4.4792, device='cuda:0')}\n",
      "Epoch 0.000, lr 0.00000, time 0.00\n",
      "Wed Jul 27 08:47:01 2022\n",
      "loss 5.5470 0.1833 5.3637, ade1 13.6779, fde1 26.7676, ade 7.4601, fde 12.6139\n",
      "\n",
      "{'cls_loss': tensor(108.4309, device='cuda:0'), 'num_cls': 610, 'reg_loss': tensor(63961.5781, device='cuda:0'), 'num_reg': 10654, 'loss': tensor(6.1813, device='cuda:0')}\n",
      "Epoch 0.000, lr 0.00000, time 0.00\n",
      "Wed Jul 27 08:47:01 2022\n",
      "loss 5.5505 0.1833 5.3672, ade1 13.6801, fde1 26.7724, ade 7.4632, fde 12.6223\n",
      "\n"
     ]
    },
    {
     "name": "stderr",
     "output_type": "stream",
     "text": [
      "177it [02:29,  4.47it/s]"
     ]
    },
    {
     "name": "stdout",
     "output_type": "stream",
     "text": [
      "{'cls_loss': tensor(155.3084, device='cuda:0'), 'num_cls': 796, 'reg_loss': tensor(55970.5078, device='cuda:0'), 'num_reg': 12337, 'loss': tensor(4.7319, device='cuda:0')}\n",
      "Epoch 0.000, lr 0.00000, time 0.00\n",
      "Wed Jul 27 08:47:01 2022\n",
      "loss 5.5454 0.1834 5.3620, ade1 13.6736, fde1 26.7574, ade 7.4602, fde 12.6170\n",
      "\n",
      "{'cls_loss': tensor(87.7135, device='cuda:0'), 'num_cls': 449, 'reg_loss': tensor(55980.9492, device='cuda:0'), 'num_reg': 9949, 'loss': tensor(5.8221, device='cuda:0')}\n",
      "Epoch 0.000, lr 0.00000, time 0.00\n"
     ]
    },
    {
     "name": "stderr",
     "output_type": "stream",
     "text": [
      "178it [02:30,  4.70it/s]"
     ]
    },
    {
     "name": "stdout",
     "output_type": "stream",
     "text": [
      "Wed Jul 27 08:47:01 2022\n",
      "loss 5.5467 0.1834 5.3633, ade1 13.6739, fde1 26.7604, ade 7.4621, fde 12.6173\n",
      "\n"
     ]
    },
    {
     "name": "stderr",
     "output_type": "stream",
     "text": [
      "179it [02:30,  4.26it/s]"
     ]
    },
    {
     "name": "stdout",
     "output_type": "stream",
     "text": [
      "{'cls_loss': tensor(91.9136, device='cuda:0'), 'num_cls': 561, 'reg_loss': tensor(58577.0781, device='cuda:0'), 'num_reg': 10151, 'loss': tensor(5.9344, device='cuda:0')}\n",
      "Epoch 0.000, lr 0.00000, time 0.00\n",
      "Wed Jul 27 08:47:01 2022\n",
      "loss 5.5487 0.1833 5.3654, ade1 13.6826, fde1 26.7758, ade 7.4675, fde 12.6218\n",
      "\n",
      "{'cls_loss': tensor(111.9365, device='cuda:0'), 'num_cls': 561, 'reg_loss': tensor(59145.2891, device='cuda:0'), 'num_reg': 10939, 'loss': tensor(5.6064, device='cuda:0')}\n",
      "Epoch 0.000, lr 0.00000, time 0.00\n"
     ]
    },
    {
     "name": "stderr",
     "output_type": "stream",
     "text": [
      "180it [02:30,  4.61it/s]"
     ]
    },
    {
     "name": "stdout",
     "output_type": "stream",
     "text": [
      "Wed Jul 27 08:47:02 2022\n",
      "loss 5.5491 0.1834 5.3656, ade1 13.6787, fde1 26.7635, ade 7.4695, fde 12.6249\n",
      "\n"
     ]
    },
    {
     "name": "stderr",
     "output_type": "stream",
     "text": [
      "181it [02:30,  4.37it/s]"
     ]
    },
    {
     "name": "stdout",
     "output_type": "stream",
     "text": [
      "{'cls_loss': tensor(115.3259, device='cuda:0'), 'num_cls': 594, 'reg_loss': tensor(52678.4297, device='cuda:0'), 'num_reg': 9832, 'loss': tensor(5.5520, device='cuda:0')}\n",
      "Epoch 0.000, lr 0.00000, time 0.00\n",
      "Wed Jul 27 08:47:02 2022\n",
      "loss 5.5491 0.1835 5.3656, ade1 13.6859, fde1 26.7763, ade 7.4630, fde 12.6055\n",
      "\n",
      "{'cls_loss': tensor(114.6293, device='cuda:0'), 'num_cls': 607, 'reg_loss': tensor(63367.2734, device='cuda:0'), 'num_reg': 11308, 'loss': tensor(5.7926, device='cuda:0')}\n",
      "Epoch 0.000, lr 0.00000, time 0.00\n"
     ]
    },
    {
     "name": "stderr",
     "output_type": "stream",
     "text": [
      "182it [02:30,  4.69it/s]"
     ]
    },
    {
     "name": "stdout",
     "output_type": "stream",
     "text": [
      "Wed Jul 27 08:47:02 2022\n",
      "loss 5.5505 0.1835 5.3669, ade1 13.6802, fde1 26.7660, ade 7.4580, fde 12.5958\n",
      "\n",
      "{'cls_loss': tensor(101.7079, device='cuda:0'), 'num_cls': 599, 'reg_loss': tensor(62583.6836, device='cuda:0'), 'num_reg': 10556, 'loss': tensor(6.0985, device='cuda:0')}\n",
      "Epoch 0.000, lr 0.00000, time 0.00\n"
     ]
    },
    {
     "name": "stderr",
     "output_type": "stream",
     "text": [
      "183it [02:31,  4.74it/s]"
     ]
    },
    {
     "name": "stdout",
     "output_type": "stream",
     "text": [
      "Wed Jul 27 08:47:02 2022\n",
      "loss 5.5533 0.1834 5.3699, ade1 13.6887, fde1 26.7841, ade 7.4589, fde 12.6037\n",
      "\n"
     ]
    },
    {
     "name": "stderr",
     "output_type": "stream",
     "text": [
      "184it [02:31,  4.48it/s]"
     ]
    },
    {
     "name": "stdout",
     "output_type": "stream",
     "text": [
      "{'cls_loss': tensor(134.1673, device='cuda:0'), 'num_cls': 756, 'reg_loss': tensor(60398.6797, device='cuda:0'), 'num_reg': 12111, 'loss': tensor(5.1646, device='cuda:0')}\n",
      "Epoch 0.000, lr 0.00000, time 0.00\n",
      "Wed Jul 27 08:47:02 2022\n",
      "loss 5.5510 0.1834 5.3676, ade1 13.6976, fde1 26.7984, ade 7.4675, fde 12.6151\n",
      "\n"
     ]
    },
    {
     "name": "stderr",
     "output_type": "stream",
     "text": [
      "186it [02:31,  4.66it/s]"
     ]
    },
    {
     "name": "stdout",
     "output_type": "stream",
     "text": [
      "{'cls_loss': tensor(117.8094, device='cuda:0'), 'num_cls': 662, 'reg_loss': tensor(56979.5469, device='cuda:0'), 'num_reg': 11380, 'loss': tensor(5.1849, device='cuda:0')}\n",
      "Epoch 0.000, lr 0.00000, time 0.00\n",
      "Wed Jul 27 08:47:03 2022\n",
      "loss 5.5489 0.1834 5.3656, ade1 13.6911, fde1 26.7843, ade 7.4667, fde 12.6162\n",
      "\n",
      "{'cls_loss': tensor(109.1116, device='cuda:0'), 'num_cls': 601, 'reg_loss': tensor(60064.5234, device='cuda:0'), 'num_reg': 10216, 'loss': tensor(6.0610, device='cuda:0')}\n",
      "Epoch 0.000, lr 0.00000, time 0.00\n",
      "Wed Jul 27 08:47:03 2022\n",
      "loss 5.5515 0.1834 5.3681, ade1 13.6947, fde1 26.7943, ade 7.4675, fde 12.6265\n",
      "\n"
     ]
    },
    {
     "name": "stderr",
     "output_type": "stream",
     "text": [
      "188it [02:32,  4.72it/s]"
     ]
    },
    {
     "name": "stdout",
     "output_type": "stream",
     "text": [
      "{'cls_loss': tensor(80.4396, device='cuda:0'), 'num_cls': 505, 'reg_loss': tensor(44607.6250, device='cuda:0'), 'num_reg': 9843, 'loss': tensor(4.6912, device='cuda:0')}\n",
      "Epoch 0.000, lr 0.00000, time 0.00\n",
      "Wed Jul 27 08:47:03 2022\n",
      "loss 5.5474 0.1833 5.3641, ade1 13.6918, fde1 26.7875, ade 7.4640, fde 12.6150\n",
      "\n",
      "{'cls_loss': tensor(124.3033, device='cuda:0'), 'num_cls': 655, 'reg_loss': tensor(57895.1406, device='cuda:0'), 'num_reg': 12709, 'loss': tensor(4.7452, device='cuda:0')}\n",
      "Epoch 0.000, lr 0.00000, time 0.00\n",
      "Wed Jul 27 08:47:03 2022\n",
      "loss 5.5425 0.1833 5.3592, ade1 13.6880, fde1 26.7824, ade 7.4642, fde 12.6167\n",
      "\n"
     ]
    },
    {
     "name": "stderr",
     "output_type": "stream",
     "text": [
      "190it [02:32,  4.85it/s]"
     ]
    },
    {
     "name": "stdout",
     "output_type": "stream",
     "text": [
      "{'cls_loss': tensor(102.2260, device='cuda:0'), 'num_cls': 618, 'reg_loss': tensor(55271.5391, device='cuda:0'), 'num_reg': 10801, 'loss': tensor(5.2827, device='cuda:0')}\n",
      "Epoch 0.000, lr 0.00000, time 0.00\n",
      "Wed Jul 27 08:47:04 2022\n",
      "loss 5.5411 0.1832 5.3579, ade1 13.6890, fde1 26.7801, ade 7.4601, fde 12.6052\n",
      "\n",
      "{'cls_loss': tensor(83.2208, device='cuda:0'), 'num_cls': 431, 'reg_loss': tensor(62259.1797, device='cuda:0'), 'num_reg': 10323, 'loss': tensor(6.2242, device='cuda:0')}\n",
      "Epoch 0.000, lr 0.00000, time 0.00\n",
      "Wed Jul 27 08:47:04 2022\n",
      "loss 5.5445 0.1832 5.3612, ade1 13.6930, fde1 26.7891, ade 7.4675, fde 12.6214\n",
      "\n"
     ]
    },
    {
     "name": "stderr",
     "output_type": "stream",
     "text": [
      "191it [02:32,  4.52it/s]"
     ]
    },
    {
     "name": "stdout",
     "output_type": "stream",
     "text": [
      "{'cls_loss': tensor(63.6349, device='cuda:0'), 'num_cls': 369, 'reg_loss': tensor(46142.5000, device='cuda:0'), 'num_reg': 8418, 'loss': tensor(5.6539, device='cuda:0')}\n",
      "Epoch 0.000, lr 0.00000, time 0.00\n",
      "Wed Jul 27 08:47:04 2022\n",
      "loss 5.5449 0.1832 5.3617, ade1 13.7097, fde1 26.8227, ade 7.4734, fde 12.6268\n",
      "\n"
     ]
    },
    {
     "name": "stderr",
     "output_type": "stream",
     "text": [
      "192it [02:33,  4.42it/s]"
     ]
    },
    {
     "name": "stdout",
     "output_type": "stream",
     "text": [
      "{'cls_loss': tensor(108.8298, device='cuda:0'), 'num_cls': 725, 'reg_loss': tensor(43546.0938, device='cuda:0'), 'num_reg': 11625, 'loss': tensor(3.8960, device='cuda:0')}\n",
      "Epoch 0.000, lr 0.00000, time 0.00\n",
      "Wed Jul 27 08:47:04 2022\n",
      "loss 5.5358 0.1830 5.3528, ade1 13.7171, fde1 26.8271, ade 7.4673, fde 12.6108\n",
      "\n",
      "{'cls_loss': tensor(163.6661, device='cuda:0'), 'num_cls': 886, 'reg_loss': tensor(43774.2969, device='cuda:0'), 'num_reg': 12996, 'loss': tensor(3.5530, device='cuda:0')}\n",
      "Epoch 0.000, lr 0.00000, time 0.00\n"
     ]
    },
    {
     "name": "stderr",
     "output_type": "stream",
     "text": [
      "194it [02:33,  4.96it/s]"
     ]
    },
    {
     "name": "stdout",
     "output_type": "stream",
     "text": [
      "Wed Jul 27 08:47:04 2022\n",
      "loss 5.5237 0.1830 5.3407, ade1 13.7000, fde1 26.7962, ade 7.4474, fde 12.5695\n",
      "\n",
      "{'cls_loss': tensor(125.7107, device='cuda:0'), 'num_cls': 671, 'reg_loss': tensor(57630.9844, device='cuda:0'), 'num_reg': 10507, 'loss': tensor(5.6724, device='cuda:0')}\n",
      "Epoch 0.000, lr 0.00000, time 0.00\n",
      "Wed Jul 27 08:47:05 2022\n",
      "loss 5.5244 0.1830 5.3414, ade1 13.6997, fde1 26.7936, ade 7.4448, fde 12.5673\n",
      "\n"
     ]
    },
    {
     "name": "stderr",
     "output_type": "stream",
     "text": [
      "195it [02:34,  3.42it/s]"
     ]
    },
    {
     "name": "stdout",
     "output_type": "stream",
     "text": [
      "{'cls_loss': tensor(139.2763, device='cuda:0'), 'num_cls': 746, 'reg_loss': tensor(56860.2109, device='cuda:0'), 'num_reg': 10858, 'loss': tensor(5.4234, device='cuda:0')}\n",
      "Epoch 0.000, lr 0.00000, time 0.00\n",
      "Wed Jul 27 08:47:05 2022\n",
      "loss 5.5239 0.1830 5.3408, ade1 13.7008, fde1 26.7956, ade 7.4503, fde 12.5767\n",
      "\n"
     ]
    },
    {
     "name": "stderr",
     "output_type": "stream",
     "text": [
      "196it [02:34,  3.58it/s]"
     ]
    },
    {
     "name": "stdout",
     "output_type": "stream",
     "text": [
      "{'cls_loss': tensor(105.6679, device='cuda:0'), 'num_cls': 630, 'reg_loss': tensor(53732.4688, device='cuda:0'), 'num_reg': 10851, 'loss': tensor(5.1196, device='cuda:0')}\n",
      "Epoch 0.000, lr 0.00000, time 0.00\n",
      "Wed Jul 27 08:47:05 2022\n",
      "loss 5.5218 0.1830 5.3389, ade1 13.6931, fde1 26.7772, ade 7.4449, fde 12.5648\n",
      "\n",
      "{'cls_loss': tensor(115.3334, device='cuda:0'), 'num_cls': 551, 'reg_loss': tensor(59137.9219, device='cuda:0'), 'num_reg': 10016, 'loss': tensor(6.1137, device='cuda:0')}\n",
      "Epoch 0.000, lr 0.00000, time 0.00\n"
     ]
    },
    {
     "name": "stderr",
     "output_type": "stream",
     "text": [
      "197it [02:34,  4.00it/s]"
     ]
    },
    {
     "name": "stdout",
     "output_type": "stream",
     "text": [
      "Wed Jul 27 08:47:06 2022\n",
      "loss 5.5246 0.1831 5.3415, ade1 13.6899, fde1 26.7731, ade 7.4389, fde 12.5546\n",
      "\n"
     ]
    },
    {
     "name": "stderr",
     "output_type": "stream",
     "text": [
      "198it [02:34,  4.01it/s]"
     ]
    },
    {
     "name": "stdout",
     "output_type": "stream",
     "text": [
      "{'cls_loss': tensor(68.2749, device='cuda:0'), 'num_cls': 394, 'reg_loss': tensor(81003.3281, device='cuda:0'), 'num_reg': 11520, 'loss': tensor(7.2048, device='cuda:0')}\n",
      "Epoch 0.000, lr 0.00000, time 0.00\n",
      "Wed Jul 27 08:47:06 2022\n",
      "loss 5.5335 0.1831 5.3504, ade1 13.6983, fde1 26.7887, ade 7.4433, fde 12.5581\n",
      "\n",
      "{'cls_loss': tensor(119.1616, device='cuda:0'), 'num_cls': 635, 'reg_loss': tensor(60332.8086, device='cuda:0'), 'num_reg': 9662, 'loss': tensor(6.4320, device='cuda:0')}\n",
      "Epoch 0.000, lr 0.00000, time 0.00\n"
     ]
    },
    {
     "name": "stderr",
     "output_type": "stream",
     "text": [
      "199it [02:34,  4.37it/s]"
     ]
    },
    {
     "name": "stdout",
     "output_type": "stream",
     "text": [
      "Wed Jul 27 08:47:06 2022\n",
      "loss 5.5375 0.1831 5.3544, ade1 13.7061, fde1 26.8055, ade 7.4475, fde 12.5696\n",
      "\n"
     ]
    },
    {
     "name": "stderr",
     "output_type": "stream",
     "text": [
      "200it [02:35,  4.30it/s]"
     ]
    },
    {
     "name": "stdout",
     "output_type": "stream",
     "text": [
      "{'cls_loss': tensor(128.7782, device='cuda:0'), 'num_cls': 682, 'reg_loss': tensor(50931.3047, device='cuda:0'), 'num_reg': 11159, 'loss': tensor(4.7530, device='cuda:0')}\n",
      "Epoch 0.000, lr 0.00000, time 0.00\n",
      "Wed Jul 27 08:47:06 2022\n",
      "loss 5.5335 0.1831 5.3504, ade1 13.7036, fde1 26.8007, ade 7.4492, fde 12.5729\n",
      "\n",
      "{'cls_loss': tensor(83.4220, device='cuda:0'), 'num_cls': 418, 'reg_loss': tensor(56132.9844, device='cuda:0'), 'num_reg': 9977, 'loss': tensor(5.8258, device='cuda:0')}\n",
      "Epoch 0.000, lr 0.00000, time 0.00\n"
     ]
    },
    {
     "name": "stderr",
     "output_type": "stream",
     "text": [
      "202it [02:35,  4.91it/s]"
     ]
    },
    {
     "name": "stdout",
     "output_type": "stream",
     "text": [
      "Wed Jul 27 08:47:06 2022\n",
      "loss 5.5348 0.1832 5.3516, ade1 13.6946, fde1 26.7842, ade 7.4437, fde 12.5621\n",
      "\n",
      "{'cls_loss': tensor(96.1800, device='cuda:0'), 'num_cls': 562, 'reg_loss': tensor(67809.0156, device='cuda:0'), 'num_reg': 10588, 'loss': tensor(6.5755, device='cuda:0')}\n",
      "Epoch 0.000, lr 0.00000, time 0.00\n",
      "Wed Jul 27 08:47:07 2022\n",
      "loss 5.5398 0.1831 5.3567, ade1 13.6978, fde1 26.7852, ade 7.4548, fde 12.5772\n",
      "\n"
     ]
    },
    {
     "name": "stderr",
     "output_type": "stream",
     "text": [
      "203it [02:35,  4.36it/s]"
     ]
    },
    {
     "name": "stdout",
     "output_type": "stream",
     "text": [
      "{'cls_loss': tensor(109.6007, device='cuda:0'), 'num_cls': 612, 'reg_loss': tensor(58184.3750, device='cuda:0'), 'num_reg': 10808, 'loss': tensor(5.5625, device='cuda:0')}\n",
      "Epoch 0.000, lr 0.00000, time 0.00\n",
      "Wed Jul 27 08:47:07 2022\n",
      "loss 5.5399 0.1831 5.3568, ade1 13.7044, fde1 26.7975, ade 7.4567, fde 12.5807\n",
      "\n",
      "{'cls_loss': tensor(127.3414, device='cuda:0'), 'num_cls': 662, 'reg_loss': tensor(55672.0273, device='cuda:0'), 'num_reg': 11620, 'loss': tensor(4.9834, device='cuda:0')}\n",
      "Epoch 0.000, lr 0.00000, time 0.00\n"
     ]
    },
    {
     "name": "stderr",
     "output_type": "stream",
     "text": [
      "204it [02:35,  4.71it/s]"
     ]
    },
    {
     "name": "stdout",
     "output_type": "stream",
     "text": [
      "Wed Jul 27 08:47:07 2022\n",
      "loss 5.5370 0.1831 5.3539, ade1 13.6891, fde1 26.7619, ade 7.4534, fde 12.5742\n",
      "\n"
     ]
    },
    {
     "name": "stderr",
     "output_type": "stream",
     "text": [
      "205it [02:36,  3.45it/s]"
     ]
    },
    {
     "name": "stdout",
     "output_type": "stream",
     "text": [
      "{'cls_loss': tensor(93.3116, device='cuda:0'), 'num_cls': 482, 'reg_loss': tensor(48071.8203, device='cuda:0'), 'num_reg': 9653, 'loss': tensor(5.1736, device='cuda:0')}\n",
      "Epoch 0.000, lr 0.00000, time 0.00\n",
      "Wed Jul 27 08:47:08 2022\n",
      "loss 5.5354 0.1832 5.3522, ade1 13.6814, fde1 26.7477, ade 7.4479, fde 12.5588\n",
      "\n",
      "{'cls_loss': tensor(101.8873, device='cuda:0'), 'num_cls': 551, 'reg_loss': tensor(59453.0820, device='cuda:0'), 'num_reg': 10950, 'loss': tensor(5.6144, device='cuda:0')}\n",
      "Epoch 0.000, lr 0.00000, time 0.00\n"
     ]
    },
    {
     "name": "stderr",
     "output_type": "stream",
     "text": [
      "207it [02:36,  4.22it/s]"
     ]
    },
    {
     "name": "stdout",
     "output_type": "stream",
     "text": [
      "Wed Jul 27 08:47:08 2022\n",
      "loss 5.5358 0.1832 5.3526, ade1 13.6797, fde1 26.7454, ade 7.4492, fde 12.5586\n",
      "\n",
      "{'cls_loss': tensor(116.0657, device='cuda:0'), 'num_cls': 635, 'reg_loss': tensor(62630.1562, device='cuda:0'), 'num_reg': 11580, 'loss': tensor(5.5913, device='cuda:0')}\n",
      "Epoch 0.000, lr 0.00000, time 0.00\n",
      "Wed Jul 27 08:47:08 2022\n",
      "loss 5.5361 0.1832 5.3529, ade1 13.6797, fde1 26.7472, ade 7.4460, fde 12.5532\n",
      "\n"
     ]
    },
    {
     "name": "stderr",
     "output_type": "stream",
     "text": [
      "208it [02:37,  4.18it/s]"
     ]
    },
    {
     "name": "stdout",
     "output_type": "stream",
     "text": [
      "{'cls_loss': tensor(92.4951, device='cuda:0'), 'num_cls': 497, 'reg_loss': tensor(51817.8594, device='cuda:0'), 'num_reg': 9499, 'loss': tensor(5.6412, device='cuda:0')}\n",
      "Epoch 0.000, lr 0.00000, time 0.00\n",
      "Wed Jul 27 08:47:08 2022\n",
      "loss 5.5365 0.1832 5.3533, ade1 13.6784, fde1 26.7438, ade 7.4474, fde 12.5522\n",
      "\n",
      "{'cls_loss': tensor(126.2922, device='cuda:0'), 'num_cls': 691, 'reg_loss': tensor(52444.8359, device='cuda:0'), 'num_reg': 11269, 'loss': tensor(4.8367, device='cuda:0')}\n",
      "Epoch 0.000, lr 0.00000, time 0.00\n"
     ]
    },
    {
     "name": "stderr",
     "output_type": "stream",
     "text": [
      "210it [02:37,  4.75it/s]"
     ]
    },
    {
     "name": "stdout",
     "output_type": "stream",
     "text": [
      "Wed Jul 27 08:47:08 2022\n",
      "loss 5.5331 0.1832 5.3499, ade1 13.6793, fde1 26.7470, ade 7.4431, fde 12.5449\n",
      "\n",
      "{'cls_loss': tensor(99.1641, device='cuda:0'), 'num_cls': 562, 'reg_loss': tensor(50906.3984, device='cuda:0'), 'num_reg': 10919, 'loss': tensor(4.8386, device='cuda:0')}\n",
      "Epoch 0.000, lr 0.00000, time 0.00\n",
      "Wed Jul 27 08:47:08 2022\n",
      "loss 5.5298 0.1832 5.3466, ade1 13.6690, fde1 26.7253, ade 7.4360, fde 12.5333\n",
      "\n"
     ]
    },
    {
     "name": "stderr",
     "output_type": "stream",
     "text": [
      "211it [02:37,  4.87it/s]"
     ]
    },
    {
     "name": "stdout",
     "output_type": "stream",
     "text": [
      "{'cls_loss': tensor(105.5104, device='cuda:0'), 'num_cls': 663, 'reg_loss': tensor(58944.9570, device='cuda:0'), 'num_reg': 12211, 'loss': tensor(4.9863, device='cuda:0')}\n",
      "Epoch 0.000, lr 0.00000, time 0.00\n",
      "Wed Jul 27 08:47:09 2022\n",
      "loss 5.5269 0.1830 5.3439, ade1 13.6664, fde1 26.7234, ade 7.4392, fde 12.5461\n",
      "\n"
     ]
    },
    {
     "name": "stderr",
     "output_type": "stream",
     "text": [
      "212it [02:37,  3.76it/s]"
     ]
    },
    {
     "name": "stdout",
     "output_type": "stream",
     "text": [
      "{'cls_loss': tensor(156.5350, device='cuda:0'), 'num_cls': 904, 'reg_loss': tensor(53334.5508, device='cuda:0'), 'num_reg': 14136, 'loss': tensor(3.9461, device='cuda:0')}\n",
      "Epoch 0.000, lr 0.00000, time 0.00\n",
      "Wed Jul 27 08:47:09 2022\n",
      "loss 5.5173 0.1830 5.3344, ade1 13.6544, fde1 26.6990, ade 7.4255, fde 12.5207\n",
      "\n",
      "{'cls_loss': tensor(105.2789, device='cuda:0'), 'num_cls': 582, 'reg_loss': tensor(44644.2031, device='cuda:0'), 'num_reg': 11559, 'loss': tensor(4.0432, device='cuda:0')}\n",
      "Epoch 0.000, lr 0.00000, time 0.00\n"
     ]
    },
    {
     "name": "stderr",
     "output_type": "stream",
     "text": [
      "214it [02:38,  4.37it/s]"
     ]
    },
    {
     "name": "stdout",
     "output_type": "stream",
     "text": [
      "Wed Jul 27 08:47:09 2022\n",
      "loss 5.5101 0.1830 5.3271, ade1 13.6522, fde1 26.6953, ade 7.4175, fde 12.5117\n",
      "\n",
      "{'cls_loss': tensor(103.9999, device='cuda:0'), 'num_cls': 617, 'reg_loss': tensor(48514.8047, device='cuda:0'), 'num_reg': 10789, 'loss': tensor(4.6652, device='cuda:0')}\n",
      "Epoch 0.000, lr 0.00000, time 0.00\n",
      "Wed Jul 27 08:47:09 2022\n",
      "loss 5.5062 0.1829 5.3233, ade1 13.6536, fde1 26.6964, ade 7.4203, fde 12.5178\n",
      "\n"
     ]
    },
    {
     "name": "stderr",
     "output_type": "stream",
     "text": [
      "216it [02:38,  4.83it/s]"
     ]
    },
    {
     "name": "stdout",
     "output_type": "stream",
     "text": [
      "{'cls_loss': tensor(114.5504, device='cuda:0'), 'num_cls': 618, 'reg_loss': tensor(59824.2344, device='cuda:0'), 'num_reg': 11065, 'loss': tensor(5.5920, device='cuda:0')}\n",
      "Epoch 0.000, lr 0.00000, time 0.00\n",
      "Wed Jul 27 08:47:10 2022\n",
      "loss 5.5066 0.1829 5.3237, ade1 13.6513, fde1 26.6931, ade 7.4196, fde 12.5141\n",
      "\n",
      "{'cls_loss': tensor(115.2496, device='cuda:0'), 'num_cls': 549, 'reg_loss': tensor(56687.7188, device='cuda:0'), 'num_reg': 12323, 'loss': tensor(4.8101, device='cuda:0')}\n",
      "Epoch 0.000, lr 0.00000, time 0.00\n",
      "Wed Jul 27 08:47:10 2022\n",
      "loss 5.5029 0.1830 5.3199, ade1 13.6466, fde1 26.6835, ade 7.4161, fde 12.5043\n",
      "\n"
     ]
    },
    {
     "name": "stderr",
     "output_type": "stream",
     "text": [
      "218it [02:39,  5.22it/s]"
     ]
    },
    {
     "name": "stdout",
     "output_type": "stream",
     "text": [
      "{'cls_loss': tensor(108.1921, device='cuda:0'), 'num_cls': 580, 'reg_loss': tensor(60470.4023, device='cuda:0'), 'num_reg': 10321, 'loss': tensor(6.0455, device='cuda:0')}\n",
      "Epoch 0.000, lr 0.00000, time 0.00\n",
      "Wed Jul 27 08:47:10 2022\n",
      "loss 5.5053 0.1830 5.3223, ade1 13.6539, fde1 26.6974, ade 7.4307, fde 12.5370\n",
      "\n",
      "{'cls_loss': tensor(138.9361, device='cuda:0'), 'num_cls': 727, 'reg_loss': tensor(46169.0078, device='cuda:0'), 'num_reg': 10602, 'loss': tensor(4.5459, device='cuda:0')}\n",
      "Epoch 0.000, lr 0.00000, time 0.00\n",
      "Wed Jul 27 08:47:10 2022\n",
      "loss 5.5011 0.1831 5.3180, ade1 13.6551, fde1 26.7005, ade 7.4283, fde 12.5318\n",
      "\n"
     ]
    },
    {
     "name": "stderr",
     "output_type": "stream",
     "text": [
      "219it [02:39,  4.47it/s]"
     ]
    },
    {
     "name": "stdout",
     "output_type": "stream",
     "text": [
      "{'cls_loss': tensor(146.3547, device='cuda:0'), 'num_cls': 859, 'reg_loss': tensor(51158.1328, device='cuda:0'), 'num_reg': 13009, 'loss': tensor(4.1029, device='cuda:0')}\n",
      "Epoch 0.000, lr 0.00000, time 0.00\n",
      "Wed Jul 27 08:47:11 2022\n",
      "loss 5.4935 0.1830 5.3105, ade1 13.6441, fde1 26.6820, ade 7.4197, fde 12.5090\n",
      "\n",
      "{'cls_loss': tensor(93.0742, device='cuda:0'), 'num_cls': 524, 'reg_loss': tensor(56448.9570, device='cuda:0'), 'num_reg': 10074, 'loss': tensor(5.7811, device='cuda:0')}\n",
      "Epoch 0.000, lr 0.00000, time 0.00\n"
     ]
    },
    {
     "name": "stderr",
     "output_type": "stream",
     "text": [
      "221it [02:39,  5.00it/s]"
     ]
    },
    {
     "name": "stdout",
     "output_type": "stream",
     "text": [
      "Wed Jul 27 08:47:11 2022\n",
      "loss 5.4947 0.1830 5.3117, ade1 13.6452, fde1 26.6872, ade 7.4172, fde 12.5039\n",
      "\n",
      "{'cls_loss': tensor(88.2142, device='cuda:0'), 'num_cls': 447, 'reg_loss': tensor(76567.7578, device='cuda:0'), 'num_reg': 10393, 'loss': tensor(7.5646, device='cuda:0')}\n",
      "Epoch 0.000, lr 0.00000, time 0.00\n",
      "Wed Jul 27 08:47:11 2022\n",
      "loss 5.5035 0.1830 5.3205, ade1 13.6562, fde1 26.7064, ade 7.4223, fde 12.5103\n",
      "\n"
     ]
    },
    {
     "name": "stderr",
     "output_type": "stream",
     "text": [
      "222it [02:39,  5.31it/s]"
     ]
    },
    {
     "name": "stdout",
     "output_type": "stream",
     "text": [
      "{'cls_loss': tensor(103.0161, device='cuda:0'), 'num_cls': 562, 'reg_loss': tensor(34524.4766, device='cuda:0'), 'num_reg': 8955, 'loss': tensor(4.0386, device='cuda:0')}\n",
      "Epoch 0.000, lr 0.00000, time 0.00\n",
      "Wed Jul 27 08:47:11 2022\n",
      "loss 5.4981 0.1830 5.3151, ade1 13.6515, fde1 26.6950, ade 7.4123, fde 12.4925\n",
      "\n",
      "{'cls_loss': tensor(107.8239, device='cuda:0'), 'num_cls': 626, 'reg_loss': tensor(49397.7812, device='cuda:0'), 'num_reg': 11422, 'loss': tensor(4.4970, device='cuda:0')}\n",
      "Epoch 0.000, lr 0.00000, time 0.00\n"
     ]
    },
    {
     "name": "stderr",
     "output_type": "stream",
     "text": [
      "223it [02:40,  5.28it/s]"
     ]
    },
    {
     "name": "stdout",
     "output_type": "stream",
     "text": [
      "Wed Jul 27 08:47:11 2022\n",
      "loss 5.4935 0.1830 5.3105, ade1 13.6489, fde1 26.6895, ade 7.4095, fde 12.4901\n",
      "\n",
      "{'cls_loss': tensor(129.2071, device='cuda:0'), 'num_cls': 709, 'reg_loss': tensor(57793.0625, device='cuda:0'), 'num_reg': 11590, 'loss': tensor(5.1687, device='cuda:0')}\n",
      "Epoch 0.000, lr 0.00000, time 0.00\n"
     ]
    },
    {
     "name": "stderr",
     "output_type": "stream",
     "text": [
      "225it [02:40,  5.12it/s]"
     ]
    },
    {
     "name": "stdout",
     "output_type": "stream",
     "text": [
      "Wed Jul 27 08:47:11 2022\n",
      "loss 5.4920 0.1830 5.3090, ade1 13.6471, fde1 26.6876, ade 7.4141, fde 12.5043\n",
      "\n",
      "{'cls_loss': tensor(106.3991, device='cuda:0'), 'num_cls': 632, 'reg_loss': tensor(65574.7188, device='cuda:0'), 'num_reg': 12540, 'loss': tensor(5.3976, device='cuda:0')}\n",
      "Epoch 0.000, lr 0.00000, time 0.00\n",
      "Wed Jul 27 08:47:12 2022\n",
      "loss 5.4915 0.1829 5.3086, ade1 13.6422, fde1 26.6750, ade 7.4110, fde 12.5015\n",
      "\n"
     ]
    },
    {
     "name": "stderr",
     "output_type": "stream",
     "text": [
      "226it [02:40,  5.30it/s]"
     ]
    },
    {
     "name": "stdout",
     "output_type": "stream",
     "text": [
      "{'cls_loss': tensor(112.1617, device='cuda:0'), 'num_cls': 680, 'reg_loss': tensor(59871.0898, device='cuda:0'), 'num_reg': 10564, 'loss': tensor(5.8324, device='cuda:0')}\n",
      "Epoch 0.000, lr 0.00000, time 0.00\n",
      "Wed Jul 27 08:47:12 2022\n",
      "loss 5.4929 0.1828 5.3101, ade1 13.6399, fde1 26.6698, ade 7.4118, fde 12.5054\n",
      "\n",
      "{'cls_loss': tensor(113.9228, device='cuda:0'), 'num_cls': 581, 'reg_loss': tensor(50316.8555, device='cuda:0'), 'num_reg': 10317, 'loss': tensor(5.0732, device='cuda:0')}\n",
      "Epoch 0.000, lr 0.00000, time 0.00\n"
     ]
    },
    {
     "name": "stderr",
     "output_type": "stream",
     "text": [
      "228it [02:41,  5.37it/s]"
     ]
    },
    {
     "name": "stdout",
     "output_type": "stream",
     "text": [
      "Wed Jul 27 08:47:12 2022\n",
      "loss 5.4912 0.1829 5.3083, ade1 13.6392, fde1 26.6666, ade 7.4130, fde 12.5063\n",
      "\n",
      "{'cls_loss': tensor(110.4906, device='cuda:0'), 'num_cls': 573, 'reg_loss': tensor(57617.0508, device='cuda:0'), 'num_reg': 12265, 'loss': tensor(4.8905, device='cuda:0')}\n",
      "Epoch 0.000, lr 0.00000, time 0.00\n",
      "Wed Jul 27 08:47:12 2022\n",
      "loss 5.4882 0.1829 5.3053, ade1 13.6342, fde1 26.6588, ade 7.4119, fde 12.5043\n",
      "\n"
     ]
    },
    {
     "name": "stderr",
     "output_type": "stream",
     "text": [
      "229it [02:42,  2.22it/s]"
     ]
    },
    {
     "name": "stdout",
     "output_type": "stream",
     "text": [
      "{'cls_loss': tensor(106.9004, device='cuda:0'), 'num_cls': 638, 'reg_loss': tensor(66166., device='cuda:0'), 'num_reg': 11112, 'loss': tensor(6.1220, device='cuda:0')}\n",
      "Epoch 0.000, lr 0.00000, time 0.00\n",
      "Wed Jul 27 08:47:13 2022\n",
      "loss 5.4910 0.1828 5.3082, ade1 13.6368, fde1 26.6630, ade 7.4203, fde 12.5224\n",
      "\n"
     ]
    },
    {
     "name": "stderr",
     "output_type": "stream",
     "text": [
      "230it [02:42,  2.48it/s]"
     ]
    },
    {
     "name": "stdout",
     "output_type": "stream",
     "text": [
      "{'cls_loss': tensor(120.9321, device='cuda:0'), 'num_cls': 682, 'reg_loss': tensor(73589.0547, device='cuda:0'), 'num_reg': 12694, 'loss': tensor(5.9745, device='cuda:0')}\n",
      "Epoch 0.000, lr 0.00000, time 0.00\n",
      "Wed Jul 27 08:47:14 2022\n",
      "loss 5.4935 0.1828 5.3106, ade1 13.6314, fde1 26.6518, ade 7.4179, fde 12.5211\n",
      "\n"
     ]
    },
    {
     "name": "stderr",
     "output_type": "stream",
     "text": [
      "231it [02:42,  2.76it/s]"
     ]
    },
    {
     "name": "stdout",
     "output_type": "stream",
     "text": [
      "{'cls_loss': tensor(99.6507, device='cuda:0'), 'num_cls': 586, 'reg_loss': tensor(52635.2344, device='cuda:0'), 'num_reg': 9972, 'loss': tensor(5.4484, device='cuda:0')}\n",
      "Epoch 0.000, lr 0.00000, time 0.00\n",
      "Wed Jul 27 08:47:14 2022\n",
      "loss 5.4933 0.1828 5.3105, ade1 13.6310, fde1 26.6512, ade 7.4184, fde 12.5246\n",
      "\n"
     ]
    },
    {
     "name": "stderr",
     "output_type": "stream",
     "text": [
      "232it [02:42,  3.03it/s]"
     ]
    },
    {
     "name": "stdout",
     "output_type": "stream",
     "text": [
      "{'cls_loss': tensor(131.0598, device='cuda:0'), 'num_cls': 826, 'reg_loss': tensor(42137.1445, device='cuda:0'), 'num_reg': 13033, 'loss': tensor(3.3918, device='cuda:0')}\n",
      "Epoch 0.000, lr 0.00000, time 0.00\n",
      "Wed Jul 27 08:47:14 2022\n",
      "loss 5.4825 0.1826 5.2999, ade1 13.6197, fde1 26.6333, ade 7.4091, fde 12.5029\n",
      "\n"
     ]
    },
    {
     "name": "stderr",
     "output_type": "stream",
     "text": [
      "233it [02:43,  3.22it/s]"
     ]
    },
    {
     "name": "stdout",
     "output_type": "stream",
     "text": [
      "{'cls_loss': tensor(114.2884, device='cuda:0'), 'num_cls': 650, 'reg_loss': tensor(49843.9688, device='cuda:0'), 'num_reg': 11849, 'loss': tensor(4.3824, device='cuda:0')}\n",
      "Epoch 0.000, lr 0.00000, time 0.00\n",
      "Wed Jul 27 08:47:14 2022\n",
      "loss 5.4775 0.1826 5.2949, ade1 13.6097, fde1 26.6172, ade 7.4002, fde 12.4891\n",
      "\n",
      "{'cls_loss': tensor(115.8142, device='cuda:0'), 'num_cls': 646, 'reg_loss': tensor(56504.8984, device='cuda:0'), 'num_reg': 11868, 'loss': tensor(4.9404, device='cuda:0')}\n",
      "Epoch 0.000, lr 0.00000, time 0.00\n"
     ]
    },
    {
     "name": "stderr",
     "output_type": "stream",
     "text": [
      "234it [02:43,  3.67it/s]"
     ]
    },
    {
     "name": "stdout",
     "output_type": "stream",
     "text": [
      "Wed Jul 27 08:47:14 2022\n",
      "loss 5.4750 0.1826 5.2924, ade1 13.5999, fde1 26.5986, ade 7.3990, fde 12.4902\n",
      "\n"
     ]
    },
    {
     "name": "stderr",
     "output_type": "stream",
     "text": [
      "235it [02:43,  2.70it/s]"
     ]
    },
    {
     "name": "stdout",
     "output_type": "stream",
     "text": [
      "{'cls_loss': tensor(106.2058, device='cuda:0'), 'num_cls': 568, 'reg_loss': tensor(57974.9219, device='cuda:0'), 'num_reg': 11499, 'loss': tensor(5.2287, device='cuda:0')}\n",
      "Epoch 0.000, lr 0.00000, time 0.00\n",
      "Wed Jul 27 08:47:15 2022\n",
      "loss 5.4739 0.1826 5.2913, ade1 13.5899, fde1 26.5809, ade 7.3909, fde 12.4772\n",
      "\n"
     ]
    },
    {
     "name": "stderr",
     "output_type": "stream",
     "text": [
      "236it [02:44,  2.92it/s]"
     ]
    },
    {
     "name": "stdout",
     "output_type": "stream",
     "text": [
      "{'cls_loss': tensor(173.5589, device='cuda:0'), 'num_cls': 961, 'reg_loss': tensor(42277.4922, device='cuda:0'), 'num_reg': 13443, 'loss': tensor(3.3255, device='cuda:0')}\n",
      "Epoch 0.000, lr 0.00000, time 0.00\n",
      "Wed Jul 27 08:47:15 2022\n",
      "loss 5.4628 0.1826 5.2802, ade1 13.5753, fde1 26.5581, ade 7.3771, fde 12.4481\n",
      "\n"
     ]
    },
    {
     "name": "stderr",
     "output_type": "stream",
     "text": [
      "237it [02:44,  3.33it/s]"
     ]
    },
    {
     "name": "stdout",
     "output_type": "stream",
     "text": [
      "{'cls_loss': tensor(81.9643, device='cuda:0'), 'num_cls': 418, 'reg_loss': tensor(64083.7266, device='cuda:0'), 'num_reg': 10488, 'loss': tensor(6.3063, device='cuda:0')}\n",
      "Epoch 0.000, lr 0.00000, time 0.00\n",
      "Wed Jul 27 08:47:16 2022\n",
      "loss 5.4662 0.1826 5.2835, ade1 13.5796, fde1 26.5733, ade 7.3750, fde 12.4489\n",
      "\n",
      "{'cls_loss': tensor(87.6812, device='cuda:0'), 'num_cls': 480, 'reg_loss': tensor(62092.1719, device='cuda:0'), 'num_reg': 10556, 'loss': tensor(6.0648, device='cuda:0')}\n",
      "Epoch 0.000, lr 0.00000, time 0.00\n"
     ]
    },
    {
     "name": "stderr",
     "output_type": "stream",
     "text": [
      "238it [02:44,  3.81it/s]"
     ]
    },
    {
     "name": "stdout",
     "output_type": "stream",
     "text": [
      "Wed Jul 27 08:47:16 2022\n",
      "loss 5.4686 0.1826 5.2859, ade1 13.5879, fde1 26.5880, ade 7.3810, fde 12.4573\n",
      "\n"
     ]
    },
    {
     "name": "stderr",
     "output_type": "stream",
     "text": [
      "239it [02:45,  3.02it/s]"
     ]
    },
    {
     "name": "stdout",
     "output_type": "stream",
     "text": [
      "{'cls_loss': tensor(91.2268, device='cuda:0'), 'num_cls': 548, 'reg_loss': tensor(48083.9219, device='cuda:0'), 'num_reg': 10756, 'loss': tensor(4.6369, device='cuda:0')}\n",
      "Epoch 0.000, lr 0.00000, time 0.00\n",
      "Wed Jul 27 08:47:16 2022\n",
      "loss 5.4652 0.1826 5.2826, ade1 13.5866, fde1 26.5860, ade 7.3742, fde 12.4453\n",
      "\n",
      "{'cls_loss': tensor(102.9308, device='cuda:0'), 'num_cls': 462, 'reg_loss': tensor(70057.1562, device='cuda:0'), 'num_reg': 11357, 'loss': tensor(6.3914, device='cuda:0')}\n",
      "Epoch 0.000, lr 0.00000, time 0.00\n"
     ]
    },
    {
     "name": "stderr",
     "output_type": "stream",
     "text": [
      "240it [02:45,  3.48it/s]"
     ]
    },
    {
     "name": "stdout",
     "output_type": "stream",
     "text": [
      "Wed Jul 27 08:47:16 2022\n",
      "loss 5.4691 0.1827 5.2864, ade1 13.5793, fde1 26.5736, ade 7.3760, fde 12.4485\n",
      "\n",
      "{'cls_loss': tensor(147.0027, device='cuda:0'), 'num_cls': 877, 'reg_loss': tensor(54679.9062, device='cuda:0'), 'num_reg': 12960, 'loss': tensor(4.3867, device='cuda:0')}\n",
      "Epoch 0.000, lr 0.00000, time 0.00\n"
     ]
    },
    {
     "name": "stderr",
     "output_type": "stream",
     "text": [
      "242it [02:45,  4.18it/s]"
     ]
    },
    {
     "name": "stdout",
     "output_type": "stream",
     "text": [
      "Wed Jul 27 08:47:17 2022\n",
      "loss 5.4638 0.1826 5.2812, ade1 13.5770, fde1 26.5704, ade 7.3720, fde 12.4350\n",
      "\n",
      "{'cls_loss': tensor(105.2302, device='cuda:0'), 'num_cls': 570, 'reg_loss': tensor(60515.1484, device='cuda:0'), 'num_reg': 11802, 'loss': tensor(5.3121, device='cuda:0')}\n",
      "Epoch 0.000, lr 0.00000, time 0.00\n",
      "Wed Jul 27 08:47:17 2022\n",
      "loss 5.4631 0.1826 5.2805, ade1 13.5691, fde1 26.5599, ade 7.3602, fde 12.4133\n",
      "\n"
     ]
    },
    {
     "name": "stderr",
     "output_type": "stream",
     "text": [
      "243it [02:45,  4.03it/s]"
     ]
    },
    {
     "name": "stdout",
     "output_type": "stream",
     "text": [
      "{'cls_loss': tensor(165.5863, device='cuda:0'), 'num_cls': 962, 'reg_loss': tensor(51150.0078, device='cuda:0'), 'num_reg': 12914, 'loss': tensor(4.1329, device='cuda:0')}\n",
      "Epoch 0.000, lr 0.00000, time 0.00\n",
      "Wed Jul 27 08:47:17 2022\n",
      "loss 5.4567 0.1825 5.2742, ade1 13.5616, fde1 26.5498, ade 7.3517, fde 12.3929\n",
      "\n"
     ]
    },
    {
     "name": "stderr",
     "output_type": "stream",
     "text": [
      "244it [02:46,  4.03it/s]"
     ]
    },
    {
     "name": "stdout",
     "output_type": "stream",
     "text": [
      "{'cls_loss': tensor(nan, device='cuda:0'), 'num_cls': 367, 'reg_loss': tensor(nan, device='cuda:0'), 'num_reg': 9515, 'loss': tensor(nan, device='cuda:0')}\n",
      "Epoch 0.000, lr 0.00000, time 0.00\n",
      "Wed Jul 27 08:47:17 2022\n",
      "loss nan nan nan, ade1 nan, fde1 nan, ade nan, fde nan\n",
      "\n",
      "{'cls_loss': tensor(nan, device='cuda:0'), 'num_cls': 274, 'reg_loss': tensor(nan, device='cuda:0'), 'num_reg': 11149, 'loss': tensor(nan, device='cuda:0')}\n",
      "Epoch 0.000, lr 0.00000, time 0.00\n"
     ]
    },
    {
     "name": "stderr",
     "output_type": "stream",
     "text": [
      "245it [02:46,  4.28it/s]"
     ]
    },
    {
     "name": "stdout",
     "output_type": "stream",
     "text": [
      "Wed Jul 27 08:47:18 2022\n",
      "loss nan nan nan, ade1 nan, fde1 nan, ade nan, fde nan\n",
      "\n"
     ]
    },
    {
     "name": "stderr",
     "output_type": "stream",
     "text": [
      "246it [02:46,  4.20it/s]"
     ]
    },
    {
     "name": "stdout",
     "output_type": "stream",
     "text": [
      "{'cls_loss': tensor(nan, device='cuda:0'), 'num_cls': 110, 'reg_loss': tensor(nan, device='cuda:0'), 'num_reg': 12621, 'loss': tensor(nan, device='cuda:0')}\n",
      "Epoch 0.000, lr 0.00000, time 0.00\n",
      "Wed Jul 27 08:47:18 2022\n",
      "loss nan nan nan, ade1 nan, fde1 nan, ade nan, fde nan\n",
      "\n"
     ]
    },
    {
     "name": "stderr",
     "output_type": "stream",
     "text": [
      "247it [02:46,  4.04it/s]"
     ]
    },
    {
     "name": "stdout",
     "output_type": "stream",
     "text": [
      "{'cls_loss': tensor(nan, device='cuda:0'), 'num_cls': 0, 'reg_loss': tensor(nan, device='cuda:0'), 'num_reg': 12569, 'loss': tensor(nan, device='cuda:0')}\n",
      "Epoch 0.000, lr 0.00000, time 0.00\n",
      "Wed Jul 27 08:47:18 2022\n",
      "loss nan nan nan, ade1 nan, fde1 nan, ade nan, fde nan\n",
      "\n"
     ]
    },
    {
     "name": "stderr",
     "output_type": "stream",
     "text": [
      "248it [02:47,  3.99it/s]"
     ]
    },
    {
     "name": "stdout",
     "output_type": "stream",
     "text": [
      "{'cls_loss': tensor(nan, device='cuda:0'), 'num_cls': 0, 'reg_loss': tensor(nan, device='cuda:0'), 'num_reg': 12147, 'loss': tensor(nan, device='cuda:0')}\n",
      "Epoch 0.000, lr 0.00000, time 0.00\n",
      "Wed Jul 27 08:47:18 2022\n",
      "loss nan nan nan, ade1 nan, fde1 nan, ade nan, fde nan\n",
      "\n",
      "{'cls_loss': tensor(nan, device='cuda:0'), 'num_cls': 0, 'reg_loss': tensor(nan, device='cuda:0'), 'num_reg': 11398, 'loss': tensor(nan, device='cuda:0')}\n",
      "Epoch 0.000, lr 0.00000, time 0.00\n"
     ]
    },
    {
     "name": "stderr",
     "output_type": "stream",
     "text": [
      "250it [02:47,  4.63it/s]"
     ]
    },
    {
     "name": "stdout",
     "output_type": "stream",
     "text": [
      "Wed Jul 27 08:47:18 2022\n",
      "loss nan nan nan, ade1 nan, fde1 nan, ade nan, fde nan\n",
      "\n",
      "{'cls_loss': tensor(nan, device='cuda:0'), 'num_cls': 0, 'reg_loss': tensor(nan, device='cuda:0'), 'num_reg': 12004, 'loss': tensor(nan, device='cuda:0')}\n",
      "Epoch 0.000, lr 0.00000, time 0.00\n",
      "Wed Jul 27 08:47:19 2022\n",
      "loss nan nan nan, ade1 nan, fde1 nan, ade nan, fde nan\n",
      "\n"
     ]
    },
    {
     "name": "stderr",
     "output_type": "stream",
     "text": [
      "251it [02:47,  4.80it/s]"
     ]
    },
    {
     "name": "stdout",
     "output_type": "stream",
     "text": [
      "{'cls_loss': tensor(nan, device='cuda:0'), 'num_cls': 0, 'reg_loss': tensor(nan, device='cuda:0'), 'num_reg': 11861, 'loss': tensor(nan, device='cuda:0')}\n",
      "Epoch 0.000, lr 0.00000, time 0.00\n",
      "Wed Jul 27 08:47:19 2022\n",
      "loss nan nan nan, ade1 nan, fde1 nan, ade nan, fde nan\n",
      "\n",
      "{'cls_loss': tensor(nan, device='cuda:0'), 'num_cls': 0, 'reg_loss': tensor(nan, device='cuda:0'), 'num_reg': 11916, 'loss': tensor(nan, device='cuda:0')}\n",
      "Epoch 0.000, lr 0.00000, time 0.00\n"
     ]
    },
    {
     "name": "stderr",
     "output_type": "stream",
     "text": [
      "253it [02:48,  5.02it/s]"
     ]
    },
    {
     "name": "stdout",
     "output_type": "stream",
     "text": [
      "Wed Jul 27 08:47:19 2022\n",
      "loss nan nan nan, ade1 nan, fde1 nan, ade nan, fde nan\n",
      "\n",
      "{'cls_loss': tensor(nan, device='cuda:0'), 'num_cls': 0, 'reg_loss': tensor(nan, device='cuda:0'), 'num_reg': 9450, 'loss': tensor(nan, device='cuda:0')}\n",
      "Epoch 0.000, lr 0.00000, time 0.00\n",
      "Wed Jul 27 08:47:19 2022\n",
      "loss nan nan nan, ade1 nan, fde1 nan, ade nan, fde nan\n",
      "\n"
     ]
    },
    {
     "name": "stderr",
     "output_type": "stream",
     "text": [
      "254it [02:48,  4.66it/s]"
     ]
    },
    {
     "name": "stdout",
     "output_type": "stream",
     "text": [
      "{'cls_loss': tensor(nan, device='cuda:0'), 'num_cls': 0, 'reg_loss': tensor(nan, device='cuda:0'), 'num_reg': 9683, 'loss': tensor(nan, device='cuda:0')}\n",
      "Epoch 0.000, lr 0.00000, time 0.00\n",
      "Wed Jul 27 08:47:19 2022\n",
      "loss nan nan nan, ade1 nan, fde1 nan, ade nan, fde nan\n",
      "\n"
     ]
    },
    {
     "name": "stderr",
     "output_type": "stream",
     "text": [
      "255it [02:48,  3.95it/s]"
     ]
    },
    {
     "name": "stdout",
     "output_type": "stream",
     "text": [
      "{'cls_loss': tensor(nan, device='cuda:0'), 'num_cls': 0, 'reg_loss': tensor(nan, device='cuda:0'), 'num_reg': 12988, 'loss': tensor(nan, device='cuda:0')}\n",
      "Epoch 0.000, lr 0.00000, time 0.00\n",
      "Wed Jul 27 08:47:20 2022\n",
      "loss nan nan nan, ade1 nan, fde1 nan, ade nan, fde nan\n",
      "\n",
      "{'cls_loss': tensor(nan, device='cuda:0'), 'num_cls': 0, 'reg_loss': tensor(nan, device='cuda:0'), 'num_reg': 10525, 'loss': tensor(nan, device='cuda:0')}\n",
      "Epoch 0.000, lr 0.00000, time 0.00\n"
     ]
    },
    {
     "name": "stderr",
     "output_type": "stream",
     "text": [
      "256it [02:48,  4.33it/s]"
     ]
    },
    {
     "name": "stdout",
     "output_type": "stream",
     "text": [
      "Wed Jul 27 08:47:20 2022\n",
      "loss nan nan nan, ade1 nan, fde1 nan, ade nan, fde nan\n",
      "\n"
     ]
    },
    {
     "name": "stderr",
     "output_type": "stream",
     "text": [
      "257it [02:49,  4.16it/s]"
     ]
    },
    {
     "name": "stdout",
     "output_type": "stream",
     "text": [
      "{'cls_loss': tensor(nan, device='cuda:0'), 'num_cls': 0, 'reg_loss': tensor(nan, device='cuda:0'), 'num_reg': 9337, 'loss': tensor(nan, device='cuda:0')}\n",
      "Epoch 0.000, lr 0.00000, time 0.00\n",
      "Wed Jul 27 08:47:20 2022\n",
      "loss nan nan nan, ade1 nan, fde1 nan, ade nan, fde nan\n",
      "\n"
     ]
    },
    {
     "name": "stderr",
     "output_type": "stream",
     "text": [
      "258it [02:49,  4.07it/s]"
     ]
    },
    {
     "name": "stdout",
     "output_type": "stream",
     "text": [
      "{'cls_loss': tensor(nan, device='cuda:0'), 'num_cls': 0, 'reg_loss': tensor(nan, device='cuda:0'), 'num_reg': 12690, 'loss': tensor(nan, device='cuda:0')}\n",
      "Epoch 0.000, lr 0.00000, time 0.00\n",
      "Wed Jul 27 08:47:21 2022\n",
      "loss nan nan nan, ade1 nan, fde1 nan, ade nan, fde nan\n",
      "\n",
      "{'cls_loss': tensor(nan, device='cuda:0'), 'num_cls': 0, 'reg_loss': tensor(nan, device='cuda:0'), 'num_reg': 11666, 'loss': tensor(nan, device='cuda:0')}\n",
      "Epoch 0.000, lr 0.00000, time 0.00\n"
     ]
    },
    {
     "name": "stderr",
     "output_type": "stream",
     "text": [
      "259it [02:49,  4.35it/s]"
     ]
    },
    {
     "name": "stdout",
     "output_type": "stream",
     "text": [
      "Wed Jul 27 08:47:21 2022\n",
      "loss nan nan nan, ade1 nan, fde1 nan, ade nan, fde nan\n",
      "\n"
     ]
    },
    {
     "name": "stderr",
     "output_type": "stream",
     "text": [
      "260it [02:49,  4.19it/s]"
     ]
    },
    {
     "name": "stdout",
     "output_type": "stream",
     "text": [
      "{'cls_loss': tensor(nan, device='cuda:0'), 'num_cls': 0, 'reg_loss': tensor(nan, device='cuda:0'), 'num_reg': 12209, 'loss': tensor(nan, device='cuda:0')}\n",
      "Epoch 0.000, lr 0.00000, time 0.00\n",
      "Wed Jul 27 08:47:21 2022\n",
      "loss nan nan nan, ade1 nan, fde1 nan, ade nan, fde nan\n",
      "\n",
      "{'cls_loss': tensor(nan, device='cuda:0'), 'num_cls': 0, 'reg_loss': tensor(nan, device='cuda:0'), 'num_reg': 9315, 'loss': tensor(nan, device='cuda:0')}\n",
      "Epoch 0.000, lr 0.00000, time 0.00\n"
     ]
    },
    {
     "name": "stderr",
     "output_type": "stream",
     "text": [
      "261it [02:50,  4.51it/s]"
     ]
    },
    {
     "name": "stdout",
     "output_type": "stream",
     "text": [
      "Wed Jul 27 08:47:21 2022\n",
      "loss nan nan nan, ade1 nan, fde1 nan, ade nan, fde nan\n",
      "\n"
     ]
    },
    {
     "name": "stderr",
     "output_type": "stream",
     "text": [
      "262it [02:50,  4.32it/s]"
     ]
    },
    {
     "name": "stdout",
     "output_type": "stream",
     "text": [
      "{'cls_loss': tensor(nan, device='cuda:0'), 'num_cls': 0, 'reg_loss': tensor(nan, device='cuda:0'), 'num_reg': 10033, 'loss': tensor(nan, device='cuda:0')}\n",
      "Epoch 0.000, lr 0.00000, time 0.00\n",
      "Wed Jul 27 08:47:21 2022\n",
      "loss nan nan nan, ade1 nan, fde1 nan, ade nan, fde nan\n",
      "\n"
     ]
    },
    {
     "name": "stderr",
     "output_type": "stream",
     "text": [
      "263it [02:50,  4.11it/s]"
     ]
    },
    {
     "name": "stdout",
     "output_type": "stream",
     "text": [
      "{'cls_loss': tensor(nan, device='cuda:0'), 'num_cls': 0, 'reg_loss': tensor(nan, device='cuda:0'), 'num_reg': 12866, 'loss': tensor(nan, device='cuda:0')}\n",
      "Epoch 0.000, lr 0.00000, time 0.00\n",
      "Wed Jul 27 08:47:22 2022\n",
      "loss nan nan nan, ade1 nan, fde1 nan, ade nan, fde nan\n",
      "\n",
      "{'cls_loss': tensor(nan, device='cuda:0'), 'num_cls': 0, 'reg_loss': tensor(nan, device='cuda:0'), 'num_reg': 10509, 'loss': tensor(nan, device='cuda:0')}\n",
      "Epoch 0.000, lr 0.00000, time 0.00\n"
     ]
    },
    {
     "name": "stderr",
     "output_type": "stream",
     "text": [
      "265it [02:50,  4.66it/s]"
     ]
    },
    {
     "name": "stdout",
     "output_type": "stream",
     "text": [
      "Wed Jul 27 08:47:22 2022\n",
      "loss nan nan nan, ade1 nan, fde1 nan, ade nan, fde nan\n",
      "\n",
      "{'cls_loss': tensor(nan, device='cuda:0'), 'num_cls': 0, 'reg_loss': tensor(nan, device='cuda:0'), 'num_reg': 10913, 'loss': tensor(nan, device='cuda:0')}\n",
      "Epoch 0.000, lr 0.00000, time 0.00\n",
      "Wed Jul 27 08:47:22 2022\n",
      "loss nan nan nan, ade1 nan, fde1 nan, ade nan, fde nan\n",
      "\n"
     ]
    },
    {
     "name": "stderr",
     "output_type": "stream",
     "text": [
      "266it [02:51,  4.17it/s]"
     ]
    },
    {
     "name": "stdout",
     "output_type": "stream",
     "text": [
      "{'cls_loss': tensor(nan, device='cuda:0'), 'num_cls': 0, 'reg_loss': tensor(nan, device='cuda:0'), 'num_reg': 8542, 'loss': tensor(nan, device='cuda:0')}\n",
      "Epoch 0.000, lr 0.00000, time 0.00\n",
      "Wed Jul 27 08:47:22 2022\n",
      "loss nan nan nan, ade1 nan, fde1 nan, ade nan, fde nan\n",
      "\n"
     ]
    },
    {
     "name": "stderr",
     "output_type": "stream",
     "text": [
      "267it [02:51,  3.06it/s]"
     ]
    },
    {
     "name": "stdout",
     "output_type": "stream",
     "text": [
      "{'cls_loss': tensor(nan, device='cuda:0'), 'num_cls': 0, 'reg_loss': tensor(nan, device='cuda:0'), 'num_reg': 11689, 'loss': tensor(nan, device='cuda:0')}\n",
      "Epoch 0.000, lr 0.00000, time 0.00\n",
      "Wed Jul 27 08:47:23 2022\n",
      "loss nan nan nan, ade1 nan, fde1 nan, ade nan, fde nan\n",
      "\n",
      "{'cls_loss': tensor(nan, device='cuda:0'), 'num_cls': 0, 'reg_loss': tensor(nan, device='cuda:0'), 'num_reg': 10026, 'loss': tensor(nan, device='cuda:0')}\n",
      "Epoch 0.000, lr 0.00000, time 0.00\n"
     ]
    },
    {
     "name": "stderr",
     "output_type": "stream",
     "text": [
      "269it [02:52,  3.95it/s]"
     ]
    },
    {
     "name": "stdout",
     "output_type": "stream",
     "text": [
      "Wed Jul 27 08:47:23 2022\n",
      "loss nan nan nan, ade1 nan, fde1 nan, ade nan, fde nan\n",
      "\n",
      "{'cls_loss': tensor(nan, device='cuda:0'), 'num_cls': 0, 'reg_loss': tensor(nan, device='cuda:0'), 'num_reg': 10191, 'loss': tensor(nan, device='cuda:0')}\n",
      "Epoch 0.000, lr 0.00000, time 0.00\n",
      "Wed Jul 27 08:47:23 2022\n",
      "loss nan nan nan, ade1 nan, fde1 nan, ade nan, fde nan\n",
      "\n"
     ]
    },
    {
     "name": "stderr",
     "output_type": "stream",
     "text": [
      "270it [02:52,  4.33it/s]"
     ]
    },
    {
     "name": "stdout",
     "output_type": "stream",
     "text": [
      "{'cls_loss': tensor(nan, device='cuda:0'), 'num_cls': 0, 'reg_loss': tensor(nan, device='cuda:0'), 'num_reg': 10573, 'loss': tensor(nan, device='cuda:0')}\n",
      "Epoch 0.000, lr 0.00000, time 0.00\n",
      "Wed Jul 27 08:47:23 2022\n",
      "loss nan nan nan, ade1 nan, fde1 nan, ade nan, fde nan\n",
      "\n",
      "{'cls_loss': tensor(nan, device='cuda:0'), 'num_cls': 0, 'reg_loss': tensor(nan, device='cuda:0'), 'num_reg': 11778, 'loss': tensor(nan, device='cuda:0')}\n",
      "Epoch 0.000, lr 0.00000, time 0.00\n"
     ]
    },
    {
     "name": "stderr",
     "output_type": "stream",
     "text": [
      "271it [02:52,  4.51it/s]"
     ]
    },
    {
     "name": "stdout",
     "output_type": "stream",
     "text": [
      "Wed Jul 27 08:47:24 2022\n",
      "loss nan nan nan, ade1 nan, fde1 nan, ade nan, fde nan\n",
      "\n"
     ]
    },
    {
     "name": "stderr",
     "output_type": "stream",
     "text": [
      "272it [02:52,  3.48it/s]"
     ]
    },
    {
     "name": "stdout",
     "output_type": "stream",
     "text": [
      "{'cls_loss': tensor(nan, device='cuda:0'), 'num_cls': 0, 'reg_loss': tensor(nan, device='cuda:0'), 'num_reg': 10508, 'loss': tensor(nan, device='cuda:0')}\n",
      "Epoch 0.000, lr 0.00000, time 0.00\n",
      "Wed Jul 27 08:47:24 2022\n",
      "loss nan nan nan, ade1 nan, fde1 nan, ade nan, fde nan\n",
      "\n"
     ]
    },
    {
     "name": "stderr",
     "output_type": "stream",
     "text": [
      "273it [02:53,  3.49it/s]"
     ]
    },
    {
     "name": "stdout",
     "output_type": "stream",
     "text": [
      "{'cls_loss': tensor(nan, device='cuda:0'), 'num_cls': 0, 'reg_loss': tensor(nan, device='cuda:0'), 'num_reg': 11227, 'loss': tensor(nan, device='cuda:0')}\n",
      "Epoch 0.000, lr 0.00000, time 0.00\n",
      "Wed Jul 27 08:47:24 2022\n",
      "loss nan nan nan, ade1 nan, fde1 nan, ade nan, fde nan\n",
      "\n",
      "{'cls_loss': tensor(nan, device='cuda:0'), 'num_cls': 0, 'reg_loss': tensor(nan, device='cuda:0'), 'num_reg': 10798, 'loss': tensor(nan, device='cuda:0')}\n",
      "Epoch 0.000, lr 0.00000, time 0.00\n"
     ]
    },
    {
     "name": "stderr",
     "output_type": "stream",
     "text": [
      "274it [02:53,  3.92it/s]"
     ]
    },
    {
     "name": "stdout",
     "output_type": "stream",
     "text": [
      "Wed Jul 27 08:47:25 2022\n",
      "loss nan nan nan, ade1 nan, fde1 nan, ade nan, fde nan\n",
      "\n",
      "{'cls_loss': tensor(nan, device='cuda:0'), 'num_cls': 0, 'reg_loss': tensor(nan, device='cuda:0'), 'num_reg': 11207, 'loss': tensor(nan, device='cuda:0')}\n",
      "Epoch 0.000, lr 0.00000, time 0.00\n"
     ]
    },
    {
     "name": "stderr",
     "output_type": "stream",
     "text": [
      "275it [02:53,  4.07it/s]"
     ]
    },
    {
     "name": "stdout",
     "output_type": "stream",
     "text": [
      "Wed Jul 27 08:47:25 2022\n",
      "loss nan nan nan, ade1 nan, fde1 nan, ade nan, fde nan\n",
      "\n"
     ]
    },
    {
     "name": "stderr",
     "output_type": "stream",
     "text": [
      "276it [02:53,  4.02it/s]"
     ]
    },
    {
     "name": "stdout",
     "output_type": "stream",
     "text": [
      "{'cls_loss': tensor(nan, device='cuda:0'), 'num_cls': 0, 'reg_loss': tensor(nan, device='cuda:0'), 'num_reg': 9193, 'loss': tensor(nan, device='cuda:0')}\n",
      "Epoch 0.000, lr 0.00000, time 0.00\n",
      "Wed Jul 27 08:47:25 2022\n",
      "loss nan nan nan, ade1 nan, fde1 nan, ade nan, fde nan\n",
      "\n"
     ]
    },
    {
     "name": "stderr",
     "output_type": "stream",
     "text": [
      "277it [02:54,  4.28it/s]"
     ]
    },
    {
     "name": "stdout",
     "output_type": "stream",
     "text": [
      "{'cls_loss': tensor(nan, device='cuda:0'), 'num_cls': 0, 'reg_loss': tensor(nan, device='cuda:0'), 'num_reg': 10508, 'loss': tensor(nan, device='cuda:0')}\n",
      "Epoch 0.000, lr 0.00000, time 0.00\n",
      "Wed Jul 27 08:47:25 2022\n",
      "loss nan nan nan, ade1 nan, fde1 nan, ade nan, fde nan\n",
      "\n",
      "{'cls_loss': tensor(nan, device='cuda:0'), 'num_cls': 0, 'reg_loss': tensor(nan, device='cuda:0'), 'num_reg': 9528, 'loss': tensor(nan, device='cuda:0')}\n",
      "Epoch 0.000, lr 0.00000, time 0.00\n"
     ]
    },
    {
     "name": "stderr",
     "output_type": "stream",
     "text": [
      "278it [02:54,  4.60it/s]"
     ]
    },
    {
     "name": "stdout",
     "output_type": "stream",
     "text": [
      "Wed Jul 27 08:47:25 2022\n",
      "loss nan nan nan, ade1 nan, fde1 nan, ade nan, fde nan\n",
      "\n"
     ]
    },
    {
     "name": "stderr",
     "output_type": "stream",
     "text": [
      "279it [02:54,  4.09it/s]"
     ]
    },
    {
     "name": "stdout",
     "output_type": "stream",
     "text": [
      "{'cls_loss': tensor(nan, device='cuda:0'), 'num_cls': 0, 'reg_loss': tensor(nan, device='cuda:0'), 'num_reg': 12630, 'loss': tensor(nan, device='cuda:0')}\n",
      "Epoch 0.000, lr 0.00000, time 0.00\n",
      "Wed Jul 27 08:47:26 2022\n",
      "loss nan nan nan, ade1 nan, fde1 nan, ade nan, fde nan\n",
      "\n",
      "{'cls_loss': tensor(nan, device='cuda:0'), 'num_cls': 0, 'reg_loss': tensor(nan, device='cuda:0'), 'num_reg': 12346, 'loss': tensor(nan, device='cuda:0')}\n",
      "Epoch 0.000, lr 0.00000, time 0.00\n"
     ]
    },
    {
     "name": "stderr",
     "output_type": "stream",
     "text": [
      "281it [02:54,  4.60it/s]"
     ]
    },
    {
     "name": "stdout",
     "output_type": "stream",
     "text": [
      "Wed Jul 27 08:47:26 2022\n",
      "loss nan nan nan, ade1 nan, fde1 nan, ade nan, fde nan\n",
      "\n",
      "{'cls_loss': tensor(nan, device='cuda:0'), 'num_cls': 0, 'reg_loss': tensor(nan, device='cuda:0'), 'num_reg': 10602, 'loss': tensor(nan, device='cuda:0')}\n",
      "Epoch 0.000, lr 0.00000, time 0.00\n",
      "Wed Jul 27 08:47:26 2022\n",
      "loss nan nan nan, ade1 nan, fde1 nan, ade nan, fde nan\n",
      "\n"
     ]
    },
    {
     "name": "stderr",
     "output_type": "stream",
     "text": [
      "282it [02:55,  4.33it/s]"
     ]
    },
    {
     "name": "stdout",
     "output_type": "stream",
     "text": [
      "{'cls_loss': tensor(nan, device='cuda:0'), 'num_cls': 0, 'reg_loss': tensor(nan, device='cuda:0'), 'num_reg': 10552, 'loss': tensor(nan, device='cuda:0')}\n",
      "Epoch 0.000, lr 0.00000, time 0.00\n",
      "Wed Jul 27 08:47:26 2022\n",
      "loss nan nan nan, ade1 nan, fde1 nan, ade nan, fde nan\n",
      "\n"
     ]
    },
    {
     "name": "stderr",
     "output_type": "stream",
     "text": [
      "283it [02:55,  4.31it/s]"
     ]
    },
    {
     "name": "stdout",
     "output_type": "stream",
     "text": [
      "{'cls_loss': tensor(nan, device='cuda:0'), 'num_cls': 0, 'reg_loss': tensor(nan, device='cuda:0'), 'num_reg': 10980, 'loss': tensor(nan, device='cuda:0')}\n",
      "Epoch 0.000, lr 0.00000, time 0.00\n",
      "Wed Jul 27 08:47:27 2022\n",
      "loss nan nan nan, ade1 nan, fde1 nan, ade nan, fde nan\n",
      "\n"
     ]
    },
    {
     "name": "stderr",
     "output_type": "stream",
     "text": [
      "284it [02:55,  4.14it/s]"
     ]
    },
    {
     "name": "stdout",
     "output_type": "stream",
     "text": [
      "{'cls_loss': tensor(nan, device='cuda:0'), 'num_cls': 0, 'reg_loss': tensor(nan, device='cuda:0'), 'num_reg': 12740, 'loss': tensor(nan, device='cuda:0')}\n",
      "Epoch 0.000, lr 0.00000, time 0.00\n",
      "Wed Jul 27 08:47:27 2022\n",
      "loss nan nan nan, ade1 nan, fde1 nan, ade nan, fde nan\n",
      "\n",
      "{'cls_loss': tensor(nan, device='cuda:0'), 'num_cls': 0, 'reg_loss': tensor(nan, device='cuda:0'), 'num_reg': 11137, 'loss': tensor(nan, device='cuda:0')}\n",
      "Epoch 0.000, lr 0.00000, time 0.00\n"
     ]
    },
    {
     "name": "stderr",
     "output_type": "stream",
     "text": [
      "286it [02:56,  4.61it/s]"
     ]
    },
    {
     "name": "stdout",
     "output_type": "stream",
     "text": [
      "Wed Jul 27 08:47:27 2022\n",
      "loss nan nan nan, ade1 nan, fde1 nan, ade nan, fde nan\n",
      "\n",
      "{'cls_loss': tensor(nan, device='cuda:0'), 'num_cls': 0, 'reg_loss': tensor(nan, device='cuda:0'), 'num_reg': 12227, 'loss': tensor(nan, device='cuda:0')}\n",
      "Epoch 0.000, lr 0.00000, time 0.00\n",
      "Wed Jul 27 08:47:27 2022\n",
      "loss nan nan nan, ade1 nan, fde1 nan, ade nan, fde nan\n",
      "\n"
     ]
    },
    {
     "name": "stderr",
     "output_type": "stream",
     "text": [
      "287it [02:56,  4.10it/s]"
     ]
    },
    {
     "name": "stdout",
     "output_type": "stream",
     "text": [
      "{'cls_loss': tensor(nan, device='cuda:0'), 'num_cls': 0, 'reg_loss': tensor(nan, device='cuda:0'), 'num_reg': 12456, 'loss': tensor(nan, device='cuda:0')}\n",
      "Epoch 0.000, lr 0.00000, time 0.00\n",
      "Wed Jul 27 08:47:28 2022\n",
      "loss nan nan nan, ade1 nan, fde1 nan, ade nan, fde nan\n",
      "\n"
     ]
    },
    {
     "name": "stderr",
     "output_type": "stream",
     "text": [
      "288it [02:56,  4.40it/s]"
     ]
    },
    {
     "name": "stdout",
     "output_type": "stream",
     "text": [
      "{'cls_loss': tensor(nan, device='cuda:0'), 'num_cls': 0, 'reg_loss': tensor(nan, device='cuda:0'), 'num_reg': 10526, 'loss': tensor(nan, device='cuda:0')}\n",
      "Epoch 0.000, lr 0.00000, time 0.00\n",
      "Wed Jul 27 08:47:28 2022\n",
      "loss nan nan nan, ade1 nan, fde1 nan, ade nan, fde nan\n",
      "\n",
      "{'cls_loss': tensor(nan, device='cuda:0'), 'num_cls': 0, 'reg_loss': tensor(nan, device='cuda:0'), 'num_reg': 11361, 'loss': tensor(nan, device='cuda:0')}\n",
      "Epoch 0.000, lr 0.00000, time 0.00\n"
     ]
    },
    {
     "name": "stderr",
     "output_type": "stream",
     "text": [
      "289it [02:56,  4.57it/s]"
     ]
    },
    {
     "name": "stdout",
     "output_type": "stream",
     "text": [
      "Wed Jul 27 08:47:28 2022\n",
      "loss nan nan nan, ade1 nan, fde1 nan, ade nan, fde nan\n",
      "\n"
     ]
    },
    {
     "name": "stderr",
     "output_type": "stream",
     "text": [
      "290it [02:57,  4.34it/s]"
     ]
    },
    {
     "name": "stdout",
     "output_type": "stream",
     "text": [
      "{'cls_loss': tensor(nan, device='cuda:0'), 'num_cls': 0, 'reg_loss': tensor(nan, device='cuda:0'), 'num_reg': 8486, 'loss': tensor(nan, device='cuda:0')}\n",
      "Epoch 0.000, lr 0.00000, time 0.00\n",
      "Wed Jul 27 08:47:28 2022\n",
      "loss nan nan nan, ade1 nan, fde1 nan, ade nan, fde nan\n",
      "\n"
     ]
    },
    {
     "name": "stderr",
     "output_type": "stream",
     "text": [
      "291it [02:57,  4.38it/s]"
     ]
    },
    {
     "name": "stdout",
     "output_type": "stream",
     "text": [
      "{'cls_loss': tensor(nan, device='cuda:0'), 'num_cls': 0, 'reg_loss': tensor(nan, device='cuda:0'), 'num_reg': 10521, 'loss': tensor(nan, device='cuda:0')}\n",
      "Epoch 0.000, lr 0.00000, time 0.00\n",
      "Wed Jul 27 08:47:28 2022\n",
      "loss nan nan nan, ade1 nan, fde1 nan, ade nan, fde nan\n",
      "\n"
     ]
    },
    {
     "name": "stderr",
     "output_type": "stream",
     "text": [
      "292it [02:57,  4.57it/s]"
     ]
    },
    {
     "name": "stdout",
     "output_type": "stream",
     "text": [
      "{'cls_loss': tensor(nan, device='cuda:0'), 'num_cls': 0, 'reg_loss': tensor(nan, device='cuda:0'), 'num_reg': 11177, 'loss': tensor(nan, device='cuda:0')}\n",
      "Epoch 0.000, lr 0.00000, time 0.00\n",
      "Wed Jul 27 08:47:29 2022\n",
      "loss nan nan nan, ade1 nan, fde1 nan, ade nan, fde nan\n",
      "\n",
      "{'cls_loss': tensor(nan, device='cuda:0'), 'num_cls': 0, 'reg_loss': tensor(nan, device='cuda:0'), 'num_reg': 10537, 'loss': tensor(nan, device='cuda:0')}\n",
      "Epoch 0.000, lr 0.00000, time 0.00\n"
     ]
    },
    {
     "name": "stderr",
     "output_type": "stream",
     "text": [
      "294it [02:57,  4.88it/s]"
     ]
    },
    {
     "name": "stdout",
     "output_type": "stream",
     "text": [
      "Wed Jul 27 08:47:29 2022\n",
      "loss nan nan nan, ade1 nan, fde1 nan, ade nan, fde nan\n",
      "\n",
      "{'cls_loss': tensor(nan, device='cuda:0'), 'num_cls': 0, 'reg_loss': tensor(nan, device='cuda:0'), 'num_reg': 11419, 'loss': tensor(nan, device='cuda:0')}\n",
      "Epoch 0.000, lr 0.00000, time 0.00\n",
      "Wed Jul 27 08:47:29 2022\n",
      "loss nan nan nan, ade1 nan, fde1 nan, ade nan, fde nan\n",
      "\n"
     ]
    },
    {
     "name": "stderr",
     "output_type": "stream",
     "text": [
      "295it [02:58,  4.90it/s]"
     ]
    },
    {
     "name": "stdout",
     "output_type": "stream",
     "text": [
      "{'cls_loss': tensor(nan, device='cuda:0'), 'num_cls': 0, 'reg_loss': tensor(nan, device='cuda:0'), 'num_reg': 10532, 'loss': tensor(nan, device='cuda:0')}\n",
      "Epoch 0.000, lr 0.00000, time 0.00\n",
      "Wed Jul 27 08:47:29 2022\n",
      "loss nan nan nan, ade1 nan, fde1 nan, ade nan, fde nan\n",
      "\n"
     ]
    },
    {
     "name": "stderr",
     "output_type": "stream",
     "text": [
      "296it [02:58,  4.84it/s]"
     ]
    },
    {
     "name": "stdout",
     "output_type": "stream",
     "text": [
      "{'cls_loss': tensor(nan, device='cuda:0'), 'num_cls': 0, 'reg_loss': tensor(nan, device='cuda:0'), 'num_reg': 12212, 'loss': tensor(nan, device='cuda:0')}\n",
      "Epoch 0.000, lr 0.00000, time 0.00\n",
      "Wed Jul 27 08:47:29 2022\n",
      "loss nan nan nan, ade1 nan, fde1 nan, ade nan, fde nan\n",
      "\n",
      "{'cls_loss': tensor(nan, device='cuda:0'), 'num_cls': 0, 'reg_loss': tensor(nan, device='cuda:0'), 'num_reg': 10234, 'loss': tensor(nan, device='cuda:0')}\n",
      "Epoch 0.000, lr 0.00000, time 0.00\n"
     ]
    },
    {
     "name": "stderr",
     "output_type": "stream",
     "text": [
      "298it [02:58,  5.05it/s]"
     ]
    },
    {
     "name": "stdout",
     "output_type": "stream",
     "text": [
      "Wed Jul 27 08:47:30 2022\n",
      "loss nan nan nan, ade1 nan, fde1 nan, ade nan, fde nan\n",
      "\n",
      "{'cls_loss': tensor(nan, device='cuda:0'), 'num_cls': 0, 'reg_loss': tensor(nan, device='cuda:0'), 'num_reg': 11573, 'loss': tensor(nan, device='cuda:0')}\n",
      "Epoch 0.000, lr 0.00000, time 0.00\n",
      "Wed Jul 27 08:47:30 2022\n",
      "loss nan nan nan, ade1 nan, fde1 nan, ade nan, fde nan\n",
      "\n"
     ]
    },
    {
     "name": "stderr",
     "output_type": "stream",
     "text": [
      "299it [02:58,  5.06it/s]"
     ]
    },
    {
     "name": "stdout",
     "output_type": "stream",
     "text": [
      "{'cls_loss': tensor(nan, device='cuda:0'), 'num_cls': 0, 'reg_loss': tensor(nan, device='cuda:0'), 'num_reg': 9484, 'loss': tensor(nan, device='cuda:0')}\n",
      "Epoch 0.000, lr 0.00000, time 0.00\n",
      "Wed Jul 27 08:47:30 2022\n",
      "loss nan nan nan, ade1 nan, fde1 nan, ade nan, fde nan\n",
      "\n",
      "{'cls_loss': tensor(nan, device='cuda:0'), 'num_cls': 0, 'reg_loss': tensor(nan, device='cuda:0'), 'num_reg': 10409, 'loss': tensor(nan, device='cuda:0')}\n",
      "Epoch 0.000, lr 0.00000, time 0.00\n"
     ]
    },
    {
     "name": "stderr",
     "output_type": "stream",
     "text": [
      "300it [02:59,  5.08it/s]"
     ]
    },
    {
     "name": "stdout",
     "output_type": "stream",
     "text": [
      "Wed Jul 27 08:47:30 2022\n",
      "loss nan nan nan, ade1 nan, fde1 nan, ade nan, fde nan\n",
      "\n",
      "{'cls_loss': tensor(nan, device='cuda:0'), 'num_cls': 0, 'reg_loss': tensor(nan, device='cuda:0'), 'num_reg': 10472, 'loss': tensor(nan, device='cuda:0')}\n",
      "Epoch 0.000, lr 0.00000, time 0.00\n"
     ]
    },
    {
     "name": "stderr",
     "output_type": "stream",
     "text": [
      "302it [02:59,  5.03it/s]"
     ]
    },
    {
     "name": "stdout",
     "output_type": "stream",
     "text": [
      "Wed Jul 27 08:47:30 2022\n",
      "loss nan nan nan, ade1 nan, fde1 nan, ade nan, fde nan\n",
      "\n",
      "{'cls_loss': tensor(nan, device='cuda:0'), 'num_cls': 0, 'reg_loss': tensor(nan, device='cuda:0'), 'num_reg': 10984, 'loss': tensor(nan, device='cuda:0')}\n",
      "Epoch 0.000, lr 0.00000, time 0.00\n",
      "Wed Jul 27 08:47:31 2022\n",
      "loss nan nan nan, ade1 nan, fde1 nan, ade nan, fde nan\n",
      "\n"
     ]
    },
    {
     "name": "stderr",
     "output_type": "stream",
     "text": [
      "303it [02:59,  4.96it/s]"
     ]
    },
    {
     "name": "stdout",
     "output_type": "stream",
     "text": [
      "{'cls_loss': tensor(nan, device='cuda:0'), 'num_cls': 0, 'reg_loss': tensor(nan, device='cuda:0'), 'num_reg': 12197, 'loss': tensor(nan, device='cuda:0')}\n",
      "Epoch 0.000, lr 0.00000, time 0.00\n",
      "Wed Jul 27 08:47:31 2022\n",
      "loss nan nan nan, ade1 nan, fde1 nan, ade nan, fde nan\n",
      "\n",
      "{'cls_loss': tensor(nan, device='cuda:0'), 'num_cls': 0, 'reg_loss': tensor(nan, device='cuda:0'), 'num_reg': 10423, 'loss': tensor(nan, device='cuda:0')}\n",
      "Epoch 0.000, lr 0.00000, time 0.00\n"
     ]
    },
    {
     "name": "stderr",
     "output_type": "stream",
     "text": [
      "304it [02:59,  5.10it/s]"
     ]
    },
    {
     "name": "stdout",
     "output_type": "stream",
     "text": [
      "Wed Jul 27 08:47:31 2022\n",
      "loss nan nan nan, ade1 nan, fde1 nan, ade nan, fde nan\n",
      "\n",
      "{'cls_loss': tensor(nan, device='cuda:0'), 'num_cls': 0, 'reg_loss': tensor(nan, device='cuda:0'), 'num_reg': 11827, 'loss': tensor(nan, device='cuda:0')}\n",
      "Epoch 0.000, lr 0.00000, time 0.00\n"
     ]
    },
    {
     "name": "stderr",
     "output_type": "stream",
     "text": [
      "305it [03:00,  4.81it/s]"
     ]
    },
    {
     "name": "stdout",
     "output_type": "stream",
     "text": [
      "Wed Jul 27 08:47:31 2022\n",
      "loss nan nan nan, ade1 nan, fde1 nan, ade nan, fde nan\n",
      "\n"
     ]
    },
    {
     "name": "stderr",
     "output_type": "stream",
     "text": [
      "306it [03:00,  4.42it/s]"
     ]
    },
    {
     "name": "stdout",
     "output_type": "stream",
     "text": [
      "{'cls_loss': tensor(nan, device='cuda:0'), 'num_cls': 0, 'reg_loss': tensor(nan, device='cuda:0'), 'num_reg': 9188, 'loss': tensor(nan, device='cuda:0')}\n",
      "Epoch 0.000, lr 0.00000, time 0.00\n",
      "Wed Jul 27 08:47:31 2022\n",
      "loss nan nan nan, ade1 nan, fde1 nan, ade nan, fde nan\n",
      "\n"
     ]
    },
    {
     "name": "stderr",
     "output_type": "stream",
     "text": [
      "307it [03:00,  4.51it/s]"
     ]
    },
    {
     "name": "stdout",
     "output_type": "stream",
     "text": [
      "{'cls_loss': tensor(nan, device='cuda:0'), 'num_cls': 0, 'reg_loss': tensor(nan, device='cuda:0'), 'num_reg': 10261, 'loss': tensor(nan, device='cuda:0')}\n",
      "Epoch 0.000, lr 0.00000, time 0.00\n",
      "Wed Jul 27 08:47:32 2022\n",
      "loss nan nan nan, ade1 nan, fde1 nan, ade nan, fde nan\n",
      "\n",
      "{'cls_loss': tensor(nan, device='cuda:0'), 'num_cls': 0, 'reg_loss': tensor(nan, device='cuda:0'), 'num_reg': 9243, 'loss': tensor(nan, device='cuda:0')}\n",
      "Epoch 0.000, lr 0.00000, time 0.00\n"
     ]
    },
    {
     "name": "stderr",
     "output_type": "stream",
     "text": [
      "308it [03:00,  4.75it/s]"
     ]
    },
    {
     "name": "stdout",
     "output_type": "stream",
     "text": [
      "Wed Jul 27 08:47:32 2022\n",
      "loss nan nan nan, ade1 nan, fde1 nan, ade nan, fde nan\n",
      "\n",
      "{'cls_loss': tensor(nan, device='cuda:0'), 'num_cls': 0, 'reg_loss': tensor(nan, device='cuda:0'), 'num_reg': 11102, 'loss': tensor(nan, device='cuda:0')}\n",
      "Epoch 0.000, lr 0.00000, time 0.00\n"
     ]
    },
    {
     "name": "stderr",
     "output_type": "stream",
     "text": [
      "309it [03:00,  4.65it/s]"
     ]
    },
    {
     "name": "stdout",
     "output_type": "stream",
     "text": [
      "Wed Jul 27 08:47:32 2022\n",
      "loss nan nan nan, ade1 nan, fde1 nan, ade nan, fde nan\n",
      "\n"
     ]
    },
    {
     "name": "stderr",
     "output_type": "stream",
     "text": [
      "310it [03:01,  3.03it/s]"
     ]
    },
    {
     "name": "stdout",
     "output_type": "stream",
     "text": [
      "{'cls_loss': tensor(nan, device='cuda:0'), 'num_cls': 0, 'reg_loss': tensor(nan, device='cuda:0'), 'num_reg': 12228, 'loss': tensor(nan, device='cuda:0')}\n",
      "Epoch 0.000, lr 0.00000, time 0.00\n",
      "Wed Jul 27 08:47:33 2022\n",
      "loss nan nan nan, ade1 nan, fde1 nan, ade nan, fde nan\n",
      "\n"
     ]
    },
    {
     "name": "stderr",
     "output_type": "stream",
     "text": [
      "311it [03:02,  2.81it/s]"
     ]
    },
    {
     "name": "stdout",
     "output_type": "stream",
     "text": [
      "{'cls_loss': tensor(nan, device='cuda:0'), 'num_cls': 0, 'reg_loss': tensor(nan, device='cuda:0'), 'num_reg': 12427, 'loss': tensor(nan, device='cuda:0')}\n",
      "Epoch 0.000, lr 0.00000, time 0.00\n",
      "Wed Jul 27 08:47:33 2022\n",
      "loss nan nan nan, ade1 nan, fde1 nan, ade nan, fde nan\n",
      "\n"
     ]
    },
    {
     "name": "stderr",
     "output_type": "stream",
     "text": [
      "312it [03:02,  2.37it/s]"
     ]
    },
    {
     "name": "stdout",
     "output_type": "stream",
     "text": [
      "{'cls_loss': tensor(nan, device='cuda:0'), 'num_cls': 0, 'reg_loss': tensor(nan, device='cuda:0'), 'num_reg': 10778, 'loss': tensor(nan, device='cuda:0')}\n",
      "Epoch 0.000, lr 0.00000, time 0.00\n",
      "Wed Jul 27 08:47:34 2022\n",
      "loss nan nan nan, ade1 nan, fde1 nan, ade nan, fde nan\n",
      "\n"
     ]
    },
    {
     "name": "stderr",
     "output_type": "stream",
     "text": [
      "313it [03:02,  2.79it/s]"
     ]
    },
    {
     "name": "stdout",
     "output_type": "stream",
     "text": [
      "{'cls_loss': tensor(nan, device='cuda:0'), 'num_cls': 0, 'reg_loss': tensor(nan, device='cuda:0'), 'num_reg': 10700, 'loss': tensor(nan, device='cuda:0')}\n",
      "Epoch 0.000, lr 0.00000, time 0.00\n",
      "Wed Jul 27 08:47:34 2022\n",
      "loss nan nan nan, ade1 nan, fde1 nan, ade nan, fde nan\n",
      "\n"
     ]
    },
    {
     "name": "stderr",
     "output_type": "stream",
     "text": [
      "314it [03:03,  3.05it/s]"
     ]
    },
    {
     "name": "stdout",
     "output_type": "stream",
     "text": [
      "{'cls_loss': tensor(nan, device='cuda:0'), 'num_cls': 0, 'reg_loss': tensor(nan, device='cuda:0'), 'num_reg': 11383, 'loss': tensor(nan, device='cuda:0')}\n",
      "Epoch 0.000, lr 0.00000, time 0.00\n",
      "Wed Jul 27 08:47:34 2022\n",
      "loss nan nan nan, ade1 nan, fde1 nan, ade nan, fde nan\n",
      "\n"
     ]
    },
    {
     "name": "stderr",
     "output_type": "stream",
     "text": [
      "315it [03:03,  3.36it/s]"
     ]
    },
    {
     "name": "stdout",
     "output_type": "stream",
     "text": [
      "{'cls_loss': tensor(nan, device='cuda:0'), 'num_cls': 0, 'reg_loss': tensor(nan, device='cuda:0'), 'num_reg': 10531, 'loss': tensor(nan, device='cuda:0')}\n",
      "Epoch 0.000, lr 0.00000, time 0.00\n",
      "Wed Jul 27 08:47:34 2022\n",
      "loss nan nan nan, ade1 nan, fde1 nan, ade nan, fde nan\n",
      "\n"
     ]
    },
    {
     "name": "stderr",
     "output_type": "stream",
     "text": [
      "316it [03:03,  3.71it/s]"
     ]
    },
    {
     "name": "stdout",
     "output_type": "stream",
     "text": [
      "{'cls_loss': tensor(nan, device='cuda:0'), 'num_cls': 0, 'reg_loss': tensor(nan, device='cuda:0'), 'num_reg': 12068, 'loss': tensor(nan, device='cuda:0')}\n",
      "Epoch 0.000, lr 0.00000, time 0.00\n",
      "Wed Jul 27 08:47:35 2022\n",
      "loss nan nan nan, ade1 nan, fde1 nan, ade nan, fde nan\n",
      "\n"
     ]
    },
    {
     "name": "stderr",
     "output_type": "stream",
     "text": [
      "317it [03:03,  4.02it/s]"
     ]
    },
    {
     "name": "stdout",
     "output_type": "stream",
     "text": [
      "{'cls_loss': tensor(nan, device='cuda:0'), 'num_cls': 0, 'reg_loss': tensor(nan, device='cuda:0'), 'num_reg': 12244, 'loss': tensor(nan, device='cuda:0')}\n",
      "Epoch 0.000, lr 0.00000, time 0.00\n",
      "Wed Jul 27 08:47:35 2022\n",
      "loss nan nan nan, ade1 nan, fde1 nan, ade nan, fde nan\n",
      "\n",
      "{'cls_loss': tensor(nan, device='cuda:0'), 'num_cls': 0, 'reg_loss': tensor(nan, device='cuda:0'), 'num_reg': 11109, 'loss': tensor(nan, device='cuda:0')}\n",
      "Epoch 0.000, lr 0.00000, time 0.00\n"
     ]
    },
    {
     "name": "stderr",
     "output_type": "stream",
     "text": [
      "318it [03:03,  4.31it/s]"
     ]
    },
    {
     "name": "stdout",
     "output_type": "stream",
     "text": [
      "Wed Jul 27 08:47:35 2022\n",
      "loss nan nan nan, ade1 nan, fde1 nan, ade nan, fde nan\n",
      "\n",
      "{'cls_loss': tensor(nan, device='cuda:0'), 'num_cls': 0, 'reg_loss': tensor(nan, device='cuda:0'), 'num_reg': 11662, 'loss': tensor(nan, device='cuda:0')}\n",
      "Epoch 0.000, lr 0.00000, time 0.00\n"
     ]
    },
    {
     "name": "stderr",
     "output_type": "stream",
     "text": [
      "320it [03:04,  4.67it/s]"
     ]
    },
    {
     "name": "stdout",
     "output_type": "stream",
     "text": [
      "Wed Jul 27 08:47:35 2022\n",
      "loss nan nan nan, ade1 nan, fde1 nan, ade nan, fde nan\n",
      "\n",
      "{'cls_loss': tensor(nan, device='cuda:0'), 'num_cls': 0, 'reg_loss': tensor(nan, device='cuda:0'), 'num_reg': 11253, 'loss': tensor(nan, device='cuda:0')}\n",
      "Epoch 0.000, lr 0.00000, time 0.00\n",
      "Wed Jul 27 08:47:35 2022\n",
      "loss nan nan nan, ade1 nan, fde1 nan, ade nan, fde nan\n",
      "\n"
     ]
    },
    {
     "name": "stderr",
     "output_type": "stream",
     "text": [
      "321it [03:04,  4.73it/s]"
     ]
    },
    {
     "name": "stdout",
     "output_type": "stream",
     "text": [
      "{'cls_loss': tensor(nan, device='cuda:0'), 'num_cls': 0, 'reg_loss': tensor(nan, device='cuda:0'), 'num_reg': 12472, 'loss': tensor(nan, device='cuda:0')}\n",
      "Epoch 0.000, lr 0.00000, time 0.00\n",
      "Wed Jul 27 08:47:36 2022\n",
      "loss nan nan nan, ade1 nan, fde1 nan, ade nan, fde nan\n",
      "\n",
      "{'cls_loss': tensor(nan, device='cuda:0'), 'num_cls': 0, 'reg_loss': tensor(nan, device='cuda:0'), 'num_reg': 10576, 'loss': tensor(nan, device='cuda:0')}\n",
      "Epoch 0.000, lr 0.00000, time 0.00\n"
     ]
    },
    {
     "name": "stderr",
     "output_type": "stream",
     "text": [
      "322it [03:04,  4.93it/s]"
     ]
    },
    {
     "name": "stdout",
     "output_type": "stream",
     "text": [
      "Wed Jul 27 08:47:36 2022\n",
      "loss nan nan nan, ade1 nan, fde1 nan, ade nan, fde nan\n",
      "\n",
      "{'cls_loss': tensor(nan, device='cuda:0'), 'num_cls': 0, 'reg_loss': tensor(nan, device='cuda:0'), 'num_reg': 11832, 'loss': tensor(nan, device='cuda:0')}\n",
      "Epoch 0.000, lr 0.00000, time 0.00\n"
     ]
    },
    {
     "name": "stderr",
     "output_type": "stream",
     "text": [
      "324it [03:05,  5.08it/s]"
     ]
    },
    {
     "name": "stdout",
     "output_type": "stream",
     "text": [
      "Wed Jul 27 08:47:36 2022\n",
      "loss nan nan nan, ade1 nan, fde1 nan, ade nan, fde nan\n",
      "\n",
      "{'cls_loss': tensor(nan, device='cuda:0'), 'num_cls': 0, 'reg_loss': tensor(nan, device='cuda:0'), 'num_reg': 9641, 'loss': tensor(nan, device='cuda:0')}\n",
      "Epoch 0.000, lr 0.00000, time 0.00\n",
      "Wed Jul 27 08:47:36 2022\n",
      "loss nan nan nan, ade1 nan, fde1 nan, ade nan, fde nan\n",
      "\n"
     ]
    },
    {
     "name": "stderr",
     "output_type": "stream",
     "text": [
      "325it [03:05,  3.32it/s]"
     ]
    },
    {
     "name": "stdout",
     "output_type": "stream",
     "text": [
      "{'cls_loss': tensor(nan, device='cuda:0'), 'num_cls': 0, 'reg_loss': tensor(nan, device='cuda:0'), 'num_reg': 12383, 'loss': tensor(nan, device='cuda:0')}\n",
      "Epoch 0.000, lr 0.00000, time 0.00\n",
      "Wed Jul 27 08:47:37 2022\n",
      "loss nan nan nan, ade1 nan, fde1 nan, ade nan, fde nan\n",
      "\n",
      "{'cls_loss': tensor(nan, device='cuda:0'), 'num_cls': 0, 'reg_loss': tensor(nan, device='cuda:0'), 'num_reg': 10701, 'loss': tensor(nan, device='cuda:0')}\n",
      "Epoch 0.000, lr 0.00000, time 0.00\n"
     ]
    },
    {
     "name": "stderr",
     "output_type": "stream",
     "text": [
      "327it [03:05,  4.05it/s]"
     ]
    },
    {
     "name": "stdout",
     "output_type": "stream",
     "text": [
      "Wed Jul 27 08:47:37 2022\n",
      "loss nan nan nan, ade1 nan, fde1 nan, ade nan, fde nan\n",
      "\n",
      "{'cls_loss': tensor(nan, device='cuda:0'), 'num_cls': 0, 'reg_loss': tensor(nan, device='cuda:0'), 'num_reg': 9439, 'loss': tensor(nan, device='cuda:0')}\n",
      "Epoch 0.000, lr 0.00000, time 0.00\n",
      "Wed Jul 27 08:47:37 2022\n",
      "loss nan nan nan, ade1 nan, fde1 nan, ade nan, fde nan\n",
      "\n"
     ]
    },
    {
     "name": "stderr",
     "output_type": "stream",
     "text": [
      "328it [03:06,  4.26it/s]"
     ]
    },
    {
     "name": "stdout",
     "output_type": "stream",
     "text": [
      "{'cls_loss': tensor(nan, device='cuda:0'), 'num_cls': 0, 'reg_loss': tensor(nan, device='cuda:0'), 'num_reg': 10543, 'loss': tensor(nan, device='cuda:0')}\n",
      "Epoch 0.000, lr 0.00000, time 0.00\n",
      "Wed Jul 27 08:47:37 2022\n",
      "loss nan nan nan, ade1 nan, fde1 nan, ade nan, fde nan\n",
      "\n"
     ]
    },
    {
     "name": "stderr",
     "output_type": "stream",
     "text": [
      "329it [03:06,  4.45it/s]"
     ]
    },
    {
     "name": "stdout",
     "output_type": "stream",
     "text": [
      "{'cls_loss': tensor(nan, device='cuda:0'), 'num_cls': 0, 'reg_loss': tensor(nan, device='cuda:0'), 'num_reg': 10258, 'loss': tensor(nan, device='cuda:0')}\n",
      "Epoch 0.000, lr 0.00000, time 0.00\n",
      "Wed Jul 27 08:47:37 2022\n",
      "loss nan nan nan, ade1 nan, fde1 nan, ade nan, fde nan\n",
      "\n",
      "{'cls_loss': tensor(nan, device='cuda:0'), 'num_cls': 0, 'reg_loss': tensor(nan, device='cuda:0'), 'num_reg': 12350, 'loss': tensor(nan, device='cuda:0')}\n",
      "Epoch 0.000, lr 0.00000, time 0.00\n"
     ]
    },
    {
     "name": "stderr",
     "output_type": "stream",
     "text": [
      "331it [03:06,  4.79it/s]"
     ]
    },
    {
     "name": "stdout",
     "output_type": "stream",
     "text": [
      "Wed Jul 27 08:47:38 2022\n",
      "loss nan nan nan, ade1 nan, fde1 nan, ade nan, fde nan\n",
      "\n",
      "{'cls_loss': tensor(nan, device='cuda:0'), 'num_cls': 0, 'reg_loss': tensor(nan, device='cuda:0'), 'num_reg': 10864, 'loss': tensor(nan, device='cuda:0')}\n",
      "Epoch 0.000, lr 0.00000, time 0.00\n",
      "Wed Jul 27 08:47:38 2022\n",
      "loss nan nan nan, ade1 nan, fde1 nan, ade nan, fde nan\n",
      "\n"
     ]
    },
    {
     "name": "stderr",
     "output_type": "stream",
     "text": [
      "332it [03:06,  4.77it/s]"
     ]
    },
    {
     "name": "stdout",
     "output_type": "stream",
     "text": [
      "{'cls_loss': tensor(nan, device='cuda:0'), 'num_cls': 0, 'reg_loss': tensor(nan, device='cuda:0'), 'num_reg': 10235, 'loss': tensor(nan, device='cuda:0')}\n",
      "Epoch 0.000, lr 0.00000, time 0.00\n",
      "Wed Jul 27 08:47:38 2022\n",
      "loss nan nan nan, ade1 nan, fde1 nan, ade nan, fde nan\n",
      "\n"
     ]
    },
    {
     "name": "stderr",
     "output_type": "stream",
     "text": [
      "333it [03:07,  4.72it/s]"
     ]
    },
    {
     "name": "stdout",
     "output_type": "stream",
     "text": [
      "{'cls_loss': tensor(nan, device='cuda:0'), 'num_cls': 0, 'reg_loss': tensor(nan, device='cuda:0'), 'num_reg': 10372, 'loss': tensor(nan, device='cuda:0')}\n",
      "Epoch 0.000, lr 0.00000, time 0.00\n",
      "Wed Jul 27 08:47:38 2022\n",
      "loss nan nan nan, ade1 nan, fde1 nan, ade nan, fde nan\n",
      "\n",
      "{'cls_loss': tensor(nan, device='cuda:0'), 'num_cls': 0, 'reg_loss': tensor(nan, device='cuda:0'), 'num_reg': 10436, 'loss': tensor(nan, device='cuda:0')}\n",
      "Epoch 0.000, lr 0.00000, time 0.00\n"
     ]
    },
    {
     "name": "stderr",
     "output_type": "stream",
     "text": [
      "334it [03:07,  4.88it/s]"
     ]
    },
    {
     "name": "stdout",
     "output_type": "stream",
     "text": [
      "Wed Jul 27 08:47:38 2022\n",
      "loss nan nan nan, ade1 nan, fde1 nan, ade nan, fde nan\n",
      "\n",
      "{'cls_loss': tensor(nan, device='cuda:0'), 'num_cls': 0, 'reg_loss': tensor(nan, device='cuda:0'), 'num_reg': 10265, 'loss': tensor(nan, device='cuda:0')}\n",
      "Epoch 0.000, lr 0.00000, time 0.00\n"
     ]
    },
    {
     "name": "stderr",
     "output_type": "stream",
     "text": [
      "336it [03:07,  4.81it/s]"
     ]
    },
    {
     "name": "stdout",
     "output_type": "stream",
     "text": [
      "Wed Jul 27 08:47:39 2022\n",
      "loss nan nan nan, ade1 nan, fde1 nan, ade nan, fde nan\n",
      "\n",
      "{'cls_loss': tensor(nan, device='cuda:0'), 'num_cls': 0, 'reg_loss': tensor(nan, device='cuda:0'), 'num_reg': 11820, 'loss': tensor(nan, device='cuda:0')}\n",
      "Epoch 0.000, lr 0.00000, time 0.00\n",
      "Wed Jul 27 08:47:39 2022\n",
      "loss nan nan nan, ade1 nan, fde1 nan, ade nan, fde nan\n",
      "\n"
     ]
    },
    {
     "name": "stderr",
     "output_type": "stream",
     "text": [
      "337it [03:08,  4.67it/s]"
     ]
    },
    {
     "name": "stdout",
     "output_type": "stream",
     "text": [
      "{'cls_loss': tensor(nan, device='cuda:0'), 'num_cls': 0, 'reg_loss': tensor(nan, device='cuda:0'), 'num_reg': 10097, 'loss': tensor(nan, device='cuda:0')}\n",
      "Epoch 0.000, lr 0.00000, time 0.00\n",
      "Wed Jul 27 08:47:39 2022\n",
      "loss nan nan nan, ade1 nan, fde1 nan, ade nan, fde nan\n",
      "\n",
      "{'cls_loss': tensor(nan, device='cuda:0'), 'num_cls': 0, 'reg_loss': tensor(nan, device='cuda:0'), 'num_reg': 10579, 'loss': tensor(nan, device='cuda:0')}\n",
      "Epoch 0.000, lr 0.00000, time 0.00\n"
     ]
    },
    {
     "name": "stderr",
     "output_type": "stream",
     "text": [
      "339it [03:08,  4.87it/s]"
     ]
    },
    {
     "name": "stdout",
     "output_type": "stream",
     "text": [
      "Wed Jul 27 08:47:39 2022\n",
      "loss nan nan nan, ade1 nan, fde1 nan, ade nan, fde nan\n",
      "\n",
      "{'cls_loss': tensor(nan, device='cuda:0'), 'num_cls': 0, 'reg_loss': tensor(nan, device='cuda:0'), 'num_reg': 10798, 'loss': tensor(nan, device='cuda:0')}\n",
      "Epoch 0.000, lr 0.00000, time 0.00\n",
      "Wed Jul 27 08:47:40 2022\n",
      "loss nan nan nan, ade1 nan, fde1 nan, ade nan, fde nan\n",
      "\n"
     ]
    },
    {
     "name": "stderr",
     "output_type": "stream",
     "text": [
      "340it [03:08,  4.47it/s]"
     ]
    },
    {
     "name": "stdout",
     "output_type": "stream",
     "text": [
      "{'cls_loss': tensor(nan, device='cuda:0'), 'num_cls': 0, 'reg_loss': tensor(nan, device='cuda:0'), 'num_reg': 12006, 'loss': tensor(nan, device='cuda:0')}\n",
      "Epoch 0.000, lr 0.00000, time 0.00\n",
      "Wed Jul 27 08:47:40 2022\n",
      "loss nan nan nan, ade1 nan, fde1 nan, ade nan, fde nan\n",
      "\n"
     ]
    },
    {
     "name": "stderr",
     "output_type": "stream",
     "text": [
      "341it [03:08,  4.41it/s]"
     ]
    },
    {
     "name": "stdout",
     "output_type": "stream",
     "text": [
      "{'cls_loss': tensor(nan, device='cuda:0'), 'num_cls': 0, 'reg_loss': tensor(nan, device='cuda:0'), 'num_reg': 9227, 'loss': tensor(nan, device='cuda:0')}\n",
      "Epoch 0.000, lr 0.00000, time 0.00\n",
      "Wed Jul 27 08:47:40 2022\n",
      "loss nan nan nan, ade1 nan, fde1 nan, ade nan, fde nan\n",
      "\n",
      "{'cls_loss': tensor(nan, device='cuda:0'), 'num_cls': 0, 'reg_loss': tensor(nan, device='cuda:0'), 'num_reg': 11449, 'loss': tensor(nan, device='cuda:0')}\n"
     ]
    },
    {
     "name": "stderr",
     "output_type": "stream",
     "text": [
      "342it [03:09,  4.66it/s]"
     ]
    },
    {
     "name": "stdout",
     "output_type": "stream",
     "text": [
      "Epoch 0.000, lr 0.00000, time 0.00\n",
      "Wed Jul 27 08:47:40 2022\n",
      "loss nan nan nan, ade1 nan, fde1 nan, ade nan, fde nan\n",
      "\n",
      "{'cls_loss': tensor(nan, device='cuda:0'), 'num_cls': 0, 'reg_loss': tensor(nan, device='cuda:0'), 'num_reg': 10124, 'loss': tensor(nan, device='cuda:0')}\n",
      "Epoch 0.000, lr 0.00000, time 0.00\n"
     ]
    },
    {
     "name": "stderr",
     "output_type": "stream",
     "text": [
      "344it [03:09,  4.94it/s]"
     ]
    },
    {
     "name": "stdout",
     "output_type": "stream",
     "text": [
      "Wed Jul 27 08:47:40 2022\n",
      "loss nan nan nan, ade1 nan, fde1 nan, ade nan, fde nan\n",
      "\n",
      "{'cls_loss': tensor(nan, device='cuda:0'), 'num_cls': 0, 'reg_loss': tensor(nan, device='cuda:0'), 'num_reg': 11540, 'loss': tensor(nan, device='cuda:0')}\n",
      "Epoch 0.000, lr 0.00000, time 0.00\n",
      "Wed Jul 27 08:47:41 2022\n",
      "loss nan nan nan, ade1 nan, fde1 nan, ade nan, fde nan\n",
      "\n"
     ]
    },
    {
     "name": "stderr",
     "output_type": "stream",
     "text": [
      "345it [03:09,  4.74it/s]"
     ]
    },
    {
     "name": "stdout",
     "output_type": "stream",
     "text": [
      "{'cls_loss': tensor(nan, device='cuda:0'), 'num_cls': 0, 'reg_loss': tensor(nan, device='cuda:0'), 'num_reg': 10825, 'loss': tensor(nan, device='cuda:0')}\n",
      "Epoch 0.000, lr 0.00000, time 0.00\n",
      "Wed Jul 27 08:47:41 2022\n",
      "loss nan nan nan, ade1 nan, fde1 nan, ade nan, fde nan\n",
      "\n"
     ]
    },
    {
     "name": "stderr",
     "output_type": "stream",
     "text": [
      "346it [03:09,  4.79it/s]"
     ]
    },
    {
     "name": "stdout",
     "output_type": "stream",
     "text": [
      "{'cls_loss': tensor(nan, device='cuda:0'), 'num_cls': 0, 'reg_loss': tensor(nan, device='cuda:0'), 'num_reg': 9741, 'loss': tensor(nan, device='cuda:0')}\n",
      "Epoch 0.000, lr 0.00000, time 0.00\n",
      "Wed Jul 27 08:47:41 2022\n",
      "loss nan nan nan, ade1 nan, fde1 nan, ade nan, fde nan\n",
      "\n"
     ]
    },
    {
     "name": "stderr",
     "output_type": "stream",
     "text": [
      "347it [03:10,  4.81it/s]"
     ]
    },
    {
     "name": "stdout",
     "output_type": "stream",
     "text": [
      "{'cls_loss': tensor(nan, device='cuda:0'), 'num_cls': 0, 'reg_loss': tensor(nan, device='cuda:0'), 'num_reg': 12730, 'loss': tensor(nan, device='cuda:0')}\n",
      "Epoch 0.000, lr 0.00000, time 0.00\n",
      "Wed Jul 27 08:47:41 2022\n",
      "loss nan nan nan, ade1 nan, fde1 nan, ade nan, fde nan\n",
      "\n",
      "{'cls_loss': tensor(nan, device='cuda:0'), 'num_cls': 0, 'reg_loss': tensor(nan, device='cuda:0'), 'num_reg': 11415, 'loss': tensor(nan, device='cuda:0')}\n",
      "Epoch 0.000, lr 0.00000, time 0.00\n"
     ]
    },
    {
     "name": "stderr",
     "output_type": "stream",
     "text": [
      "348it [03:10,  4.91it/s]"
     ]
    },
    {
     "name": "stdout",
     "output_type": "stream",
     "text": [
      "Wed Jul 27 08:47:41 2022\n",
      "loss nan nan nan, ade1 nan, fde1 nan, ade nan, fde nan\n",
      "\n"
     ]
    },
    {
     "name": "stderr",
     "output_type": "stream",
     "text": [
      "349it [03:10,  3.50it/s]"
     ]
    },
    {
     "name": "stdout",
     "output_type": "stream",
     "text": [
      "{'cls_loss': tensor(nan, device='cuda:0'), 'num_cls': 0, 'reg_loss': tensor(nan, device='cuda:0'), 'num_reg': 11569, 'loss': tensor(nan, device='cuda:0')}\n",
      "Epoch 0.000, lr 0.00000, time 0.00\n",
      "Wed Jul 27 08:47:42 2022\n",
      "loss nan nan nan, ade1 nan, fde1 nan, ade nan, fde nan\n",
      "\n",
      "{'cls_loss': tensor(nan, device='cuda:0'), 'num_cls': 0, 'reg_loss': tensor(nan, device='cuda:0'), 'num_reg': 11142, 'loss': tensor(nan, device='cuda:0')}\n",
      "Epoch 0.000, lr 0.00000, time 0.00\n"
     ]
    },
    {
     "name": "stderr",
     "output_type": "stream",
     "text": [
      "350it [03:11,  3.88it/s]"
     ]
    },
    {
     "name": "stdout",
     "output_type": "stream",
     "text": [
      "Wed Jul 27 08:47:42 2022\n",
      "loss nan nan nan, ade1 nan, fde1 nan, ade nan, fde nan\n",
      "\n",
      "{'cls_loss': tensor(nan, device='cuda:0'), 'num_cls': 0, 'reg_loss': tensor(nan, device='cuda:0'), 'num_reg': 10271, 'loss': tensor(nan, device='cuda:0')}\n",
      "Epoch 0.000, lr 0.00000, time 0.00\n"
     ]
    },
    {
     "name": "stderr",
     "output_type": "stream",
     "text": [
      "351it [03:11,  4.04it/s]"
     ]
    },
    {
     "name": "stdout",
     "output_type": "stream",
     "text": [
      "Wed Jul 27 08:47:42 2022\n",
      "loss nan nan nan, ade1 nan, fde1 nan, ade nan, fde nan\n",
      "\n"
     ]
    },
    {
     "name": "stderr",
     "output_type": "stream",
     "text": [
      "352it [03:11,  2.91it/s]"
     ]
    },
    {
     "name": "stdout",
     "output_type": "stream",
     "text": [
      "{'cls_loss': tensor(nan, device='cuda:0'), 'num_cls': 0, 'reg_loss': tensor(nan, device='cuda:0'), 'num_reg': 10013, 'loss': tensor(nan, device='cuda:0')}\n",
      "Epoch 0.000, lr 0.00000, time 0.00\n",
      "Wed Jul 27 08:47:43 2022\n",
      "loss nan nan nan, ade1 nan, fde1 nan, ade nan, fde nan\n",
      "\n"
     ]
    },
    {
     "name": "stderr",
     "output_type": "stream",
     "text": [
      "353it [03:11,  3.32it/s]"
     ]
    },
    {
     "name": "stdout",
     "output_type": "stream",
     "text": [
      "{'cls_loss': tensor(nan, device='cuda:0'), 'num_cls': 0, 'reg_loss': tensor(nan, device='cuda:0'), 'num_reg': 10533, 'loss': tensor(nan, device='cuda:0')}\n",
      "Epoch 0.000, lr 0.00000, time 0.00\n",
      "Wed Jul 27 08:47:43 2022\n",
      "loss nan nan nan, ade1 nan, fde1 nan, ade nan, fde nan\n",
      "\n",
      "{'cls_loss': tensor(nan, device='cuda:0'), 'num_cls': 0, 'reg_loss': tensor(nan, device='cuda:0'), 'num_reg': 11006, 'loss': tensor(nan, device='cuda:0')}\n",
      "Epoch 0.000, lr 0.00000, time 0.00\n"
     ]
    },
    {
     "name": "stderr",
     "output_type": "stream",
     "text": [
      "354it [03:12,  3.71it/s]"
     ]
    },
    {
     "name": "stdout",
     "output_type": "stream",
     "text": [
      "Wed Jul 27 08:47:43 2022\n",
      "loss nan nan nan, ade1 nan, fde1 nan, ade nan, fde nan\n",
      "\n"
     ]
    },
    {
     "name": "stderr",
     "output_type": "stream",
     "text": [
      "355it [03:12,  3.49it/s]"
     ]
    },
    {
     "name": "stdout",
     "output_type": "stream",
     "text": [
      "{'cls_loss': tensor(nan, device='cuda:0'), 'num_cls': 0, 'reg_loss': tensor(nan, device='cuda:0'), 'num_reg': 8701, 'loss': tensor(nan, device='cuda:0')}\n",
      "Epoch 0.000, lr 0.00000, time 0.00\n",
      "Wed Jul 27 08:47:44 2022\n",
      "loss nan nan nan, ade1 nan, fde1 nan, ade nan, fde nan\n",
      "\n"
     ]
    },
    {
     "name": "stderr",
     "output_type": "stream",
     "text": [
      "356it [03:12,  3.54it/s]"
     ]
    },
    {
     "name": "stdout",
     "output_type": "stream",
     "text": [
      "{'cls_loss': tensor(nan, device='cuda:0'), 'num_cls': 0, 'reg_loss': tensor(nan, device='cuda:0'), 'num_reg': 8779, 'loss': tensor(nan, device='cuda:0')}\n",
      "Epoch 0.000, lr 0.00000, time 0.00\n",
      "Wed Jul 27 08:47:44 2022\n",
      "loss nan nan nan, ade1 nan, fde1 nan, ade nan, fde nan\n",
      "\n",
      "{'cls_loss': tensor(nan, device='cuda:0'), 'num_cls': 0, 'reg_loss': tensor(nan, device='cuda:0'), 'num_reg': 11170, 'loss': tensor(nan, device='cuda:0')}\n",
      "Epoch 0.000, lr 0.00000, time 0.00\n"
     ]
    },
    {
     "name": "stderr",
     "output_type": "stream",
     "text": [
      "358it [03:13,  4.23it/s]"
     ]
    },
    {
     "name": "stdout",
     "output_type": "stream",
     "text": [
      "Wed Jul 27 08:47:44 2022\n",
      "loss nan nan nan, ade1 nan, fde1 nan, ade nan, fde nan\n",
      "\n",
      "{'cls_loss': tensor(nan, device='cuda:0'), 'num_cls': 0, 'reg_loss': tensor(nan, device='cuda:0'), 'num_reg': 9250, 'loss': tensor(nan, device='cuda:0')}\n",
      "Epoch 0.000, lr 0.00000, time 0.00\n",
      "Wed Jul 27 08:47:44 2022\n",
      "loss nan nan nan, ade1 nan, fde1 nan, ade nan, fde nan\n",
      "\n"
     ]
    },
    {
     "name": "stderr",
     "output_type": "stream",
     "text": [
      "359it [03:13,  4.34it/s]"
     ]
    },
    {
     "name": "stdout",
     "output_type": "stream",
     "text": [
      "{'cls_loss': tensor(nan, device='cuda:0'), 'num_cls': 0, 'reg_loss': tensor(nan, device='cuda:0'), 'num_reg': 9541, 'loss': tensor(nan, device='cuda:0')}\n",
      "Epoch 0.000, lr 0.00000, time 0.00\n",
      "Wed Jul 27 08:47:45 2022\n",
      "loss nan nan nan, ade1 nan, fde1 nan, ade nan, fde nan\n",
      "\n"
     ]
    },
    {
     "name": "stderr",
     "output_type": "stream",
     "text": [
      "360it [03:13,  4.44it/s]"
     ]
    },
    {
     "name": "stdout",
     "output_type": "stream",
     "text": [
      "{'cls_loss': tensor(nan, device='cuda:0'), 'num_cls': 0, 'reg_loss': tensor(nan, device='cuda:0'), 'num_reg': 12260, 'loss': tensor(nan, device='cuda:0')}\n",
      "Epoch 0.000, lr 0.00000, time 0.00\n",
      "Wed Jul 27 08:47:45 2022\n",
      "loss nan nan nan, ade1 nan, fde1 nan, ade nan, fde nan\n",
      "\n"
     ]
    },
    {
     "name": "stderr",
     "output_type": "stream",
     "text": [
      "361it [03:13,  4.57it/s]"
     ]
    },
    {
     "name": "stdout",
     "output_type": "stream",
     "text": [
      "{'cls_loss': tensor(nan, device='cuda:0'), 'num_cls': 0, 'reg_loss': tensor(nan, device='cuda:0'), 'num_reg': 10242, 'loss': tensor(nan, device='cuda:0')}\n",
      "Epoch 0.000, lr 0.00000, time 0.00\n",
      "Wed Jul 27 08:47:45 2022\n",
      "loss nan nan nan, ade1 nan, fde1 nan, ade nan, fde nan\n",
      "\n",
      "{'cls_loss': tensor(nan, device='cuda:0'), 'num_cls': 0, 'reg_loss': tensor(nan, device='cuda:0'), 'num_reg': 13044, 'loss': tensor(nan, device='cuda:0')}\n",
      "Epoch 0.000, lr 0.00000, time 0.00\n"
     ]
    },
    {
     "name": "stderr",
     "output_type": "stream",
     "text": [
      "362it [03:14,  4.71it/s]"
     ]
    },
    {
     "name": "stdout",
     "output_type": "stream",
     "text": [
      "Wed Jul 27 08:47:45 2022\n",
      "loss nan nan nan, ade1 nan, fde1 nan, ade nan, fde nan\n",
      "\n"
     ]
    },
    {
     "name": "stderr",
     "output_type": "stream",
     "text": [
      "363it [03:14,  3.40it/s]"
     ]
    },
    {
     "name": "stdout",
     "output_type": "stream",
     "text": [
      "{'cls_loss': tensor(nan, device='cuda:0'), 'num_cls': 0, 'reg_loss': tensor(nan, device='cuda:0'), 'num_reg': 10609, 'loss': tensor(nan, device='cuda:0')}\n",
      "Epoch 0.000, lr 0.00000, time 0.00\n",
      "Wed Jul 27 08:47:46 2022\n",
      "loss nan nan nan, ade1 nan, fde1 nan, ade nan, fde nan\n",
      "\n",
      "{'cls_loss': tensor(nan, device='cuda:0'), 'num_cls': 0, 'reg_loss': tensor(nan, device='cuda:0'), 'num_reg': 10206, 'loss': tensor(nan, device='cuda:0')}\n",
      "Epoch 0.000, lr 0.00000, time 0.00\n"
     ]
    },
    {
     "name": "stderr",
     "output_type": "stream",
     "text": [
      "365it [03:14,  4.10it/s]"
     ]
    },
    {
     "name": "stdout",
     "output_type": "stream",
     "text": [
      "Wed Jul 27 08:47:46 2022\n",
      "loss nan nan nan, ade1 nan, fde1 nan, ade nan, fde nan\n",
      "\n",
      "{'cls_loss': tensor(nan, device='cuda:0'), 'num_cls': 0, 'reg_loss': tensor(nan, device='cuda:0'), 'num_reg': 9898, 'loss': tensor(nan, device='cuda:0')}\n",
      "Epoch 0.000, lr 0.00000, time 0.00\n",
      "Wed Jul 27 08:47:46 2022\n",
      "loss nan nan nan, ade1 nan, fde1 nan, ade nan, fde nan\n",
      "\n"
     ]
    },
    {
     "name": "stderr",
     "output_type": "stream",
     "text": [
      "366it [03:15,  4.25it/s]"
     ]
    },
    {
     "name": "stdout",
     "output_type": "stream",
     "text": [
      "{'cls_loss': tensor(nan, device='cuda:0'), 'num_cls': 0, 'reg_loss': tensor(nan, device='cuda:0'), 'num_reg': 12372, 'loss': tensor(nan, device='cuda:0')}\n",
      "Epoch 0.000, lr 0.00000, time 0.00\n",
      "Wed Jul 27 08:47:46 2022\n",
      "loss nan nan nan, ade1 nan, fde1 nan, ade nan, fde nan\n",
      "\n"
     ]
    },
    {
     "name": "stderr",
     "output_type": "stream",
     "text": [
      "367it [03:15,  4.21it/s]"
     ]
    },
    {
     "name": "stdout",
     "output_type": "stream",
     "text": [
      "{'cls_loss': tensor(nan, device='cuda:0'), 'num_cls': 0, 'reg_loss': tensor(nan, device='cuda:0'), 'num_reg': 10958, 'loss': tensor(nan, device='cuda:0')}\n",
      "Epoch 0.000, lr 0.00000, time 0.00\n",
      "Wed Jul 27 08:47:46 2022\n",
      "loss nan nan nan, ade1 nan, fde1 nan, ade nan, fde nan\n",
      "\n"
     ]
    },
    {
     "name": "stderr",
     "output_type": "stream",
     "text": [
      "368it [03:15,  4.40it/s]"
     ]
    },
    {
     "name": "stdout",
     "output_type": "stream",
     "text": [
      "{'cls_loss': tensor(nan, device='cuda:0'), 'num_cls': 0, 'reg_loss': tensor(nan, device='cuda:0'), 'num_reg': 11003, 'loss': tensor(nan, device='cuda:0')}\n",
      "Epoch 0.000, lr 0.00000, time 0.00\n",
      "Wed Jul 27 08:47:47 2022\n",
      "loss nan nan nan, ade1 nan, fde1 nan, ade nan, fde nan\n",
      "\n"
     ]
    },
    {
     "name": "stderr",
     "output_type": "stream",
     "text": [
      "369it [03:15,  4.47it/s]"
     ]
    },
    {
     "name": "stdout",
     "output_type": "stream",
     "text": [
      "{'cls_loss': tensor(nan, device='cuda:0'), 'num_cls': 0, 'reg_loss': tensor(nan, device='cuda:0'), 'num_reg': 11375, 'loss': tensor(nan, device='cuda:0')}\n",
      "Epoch 0.000, lr 0.00000, time 0.00\n",
      "Wed Jul 27 08:47:47 2022\n",
      "loss nan nan nan, ade1 nan, fde1 nan, ade nan, fde nan\n",
      "\n"
     ]
    },
    {
     "name": "stderr",
     "output_type": "stream",
     "text": [
      "370it [03:16,  4.23it/s]"
     ]
    },
    {
     "name": "stdout",
     "output_type": "stream",
     "text": [
      "{'cls_loss': tensor(nan, device='cuda:0'), 'num_cls': 0, 'reg_loss': tensor(nan, device='cuda:0'), 'num_reg': 9746, 'loss': tensor(nan, device='cuda:0')}\n",
      "Epoch 0.000, lr 0.00000, time 0.00\n",
      "Wed Jul 27 08:47:47 2022\n",
      "loss nan nan nan, ade1 nan, fde1 nan, ade nan, fde nan\n",
      "\n"
     ]
    },
    {
     "name": "stderr",
     "output_type": "stream",
     "text": [
      "371it [03:16,  4.29it/s]"
     ]
    },
    {
     "name": "stdout",
     "output_type": "stream",
     "text": [
      "{'cls_loss': tensor(nan, device='cuda:0'), 'num_cls': 0, 'reg_loss': tensor(nan, device='cuda:0'), 'num_reg': 10230, 'loss': tensor(nan, device='cuda:0')}\n",
      "Epoch 0.000, lr 0.00000, time 0.00\n",
      "Wed Jul 27 08:47:47 2022\n",
      "loss nan nan nan, ade1 nan, fde1 nan, ade nan, fde nan\n",
      "\n"
     ]
    },
    {
     "name": "stderr",
     "output_type": "stream",
     "text": [
      "372it [03:16,  4.45it/s]"
     ]
    },
    {
     "name": "stdout",
     "output_type": "stream",
     "text": [
      "{'cls_loss': tensor(nan, device='cuda:0'), 'num_cls': 0, 'reg_loss': tensor(nan, device='cuda:0'), 'num_reg': 10766, 'loss': tensor(nan, device='cuda:0')}\n",
      "Epoch 0.000, lr 0.00000, time 0.00\n",
      "Wed Jul 27 08:47:48 2022\n",
      "loss nan nan nan, ade1 nan, fde1 nan, ade nan, fde nan\n",
      "\n"
     ]
    },
    {
     "name": "stderr",
     "output_type": "stream",
     "text": [
      "373it [03:16,  4.54it/s]"
     ]
    },
    {
     "name": "stdout",
     "output_type": "stream",
     "text": [
      "{'cls_loss': tensor(nan, device='cuda:0'), 'num_cls': 0, 'reg_loss': tensor(nan, device='cuda:0'), 'num_reg': 10973, 'loss': tensor(nan, device='cuda:0')}\n",
      "Epoch 0.000, lr 0.00000, time 0.00\n",
      "Wed Jul 27 08:47:48 2022\n",
      "loss nan nan nan, ade1 nan, fde1 nan, ade nan, fde nan\n",
      "\n"
     ]
    },
    {
     "name": "stderr",
     "output_type": "stream",
     "text": [
      "374it [03:16,  4.68it/s]"
     ]
    },
    {
     "name": "stdout",
     "output_type": "stream",
     "text": [
      "{'cls_loss': tensor(nan, device='cuda:0'), 'num_cls': 0, 'reg_loss': tensor(nan, device='cuda:0'), 'num_reg': 11840, 'loss': tensor(nan, device='cuda:0')}\n",
      "Epoch 0.000, lr 0.00000, time 0.00\n",
      "Wed Jul 27 08:47:48 2022\n",
      "loss nan nan nan, ade1 nan, fde1 nan, ade nan, fde nan\n",
      "\n"
     ]
    },
    {
     "name": "stderr",
     "output_type": "stream",
     "text": [
      "375it [03:17,  4.73it/s]"
     ]
    },
    {
     "name": "stdout",
     "output_type": "stream",
     "text": [
      "{'cls_loss': tensor(nan, device='cuda:0'), 'num_cls': 0, 'reg_loss': tensor(nan, device='cuda:0'), 'num_reg': 9786, 'loss': tensor(nan, device='cuda:0')}\n",
      "Epoch 0.000, lr 0.00000, time 0.00\n",
      "Wed Jul 27 08:47:48 2022\n",
      "loss nan nan nan, ade1 nan, fde1 nan, ade nan, fde nan\n",
      "\n"
     ]
    },
    {
     "name": "stderr",
     "output_type": "stream",
     "text": [
      "376it [03:17,  4.69it/s]"
     ]
    },
    {
     "name": "stdout",
     "output_type": "stream",
     "text": [
      "{'cls_loss': tensor(nan, device='cuda:0'), 'num_cls': 0, 'reg_loss': tensor(nan, device='cuda:0'), 'num_reg': 9108, 'loss': tensor(nan, device='cuda:0')}\n",
      "Epoch 0.000, lr 0.00000, time 0.00\n",
      "Wed Jul 27 08:47:48 2022\n",
      "loss nan nan nan, ade1 nan, fde1 nan, ade nan, fde nan\n",
      "\n"
     ]
    },
    {
     "name": "stderr",
     "output_type": "stream",
     "text": [
      "377it [03:17,  4.24it/s]"
     ]
    },
    {
     "name": "stdout",
     "output_type": "stream",
     "text": [
      "{'cls_loss': tensor(nan, device='cuda:0'), 'num_cls': 0, 'reg_loss': tensor(nan, device='cuda:0'), 'num_reg': 14079, 'loss': tensor(nan, device='cuda:0')}\n",
      "Epoch 0.000, lr 0.00000, time 0.00\n",
      "Wed Jul 27 08:47:49 2022\n",
      "loss nan nan nan, ade1 nan, fde1 nan, ade nan, fde nan\n",
      "\n",
      "{'cls_loss': tensor(nan, device='cuda:0'), 'num_cls': 0, 'reg_loss': tensor(nan, device='cuda:0'), 'num_reg': 10276, 'loss': tensor(nan, device='cuda:0')}\n",
      "Epoch 0.000, lr 0.00000, time 0.00\n"
     ]
    },
    {
     "name": "stderr",
     "output_type": "stream",
     "text": [
      "378it [03:17,  4.51it/s]"
     ]
    },
    {
     "name": "stdout",
     "output_type": "stream",
     "text": [
      "Wed Jul 27 08:47:49 2022\n",
      "loss nan nan nan, ade1 nan, fde1 nan, ade nan, fde nan\n",
      "\n",
      "{'cls_loss': tensor(nan, device='cuda:0'), 'num_cls': 0, 'reg_loss': tensor(nan, device='cuda:0'), 'num_reg': 11498, 'loss': tensor(nan, device='cuda:0')}\n",
      "Epoch 0.000, lr 0.00000, time 0.00\n"
     ]
    },
    {
     "name": "stderr",
     "output_type": "stream",
     "text": [
      "380it [03:18,  4.73it/s]"
     ]
    },
    {
     "name": "stdout",
     "output_type": "stream",
     "text": [
      "Wed Jul 27 08:47:49 2022\n",
      "loss nan nan nan, ade1 nan, fde1 nan, ade nan, fde nan\n",
      "\n",
      "{'cls_loss': tensor(nan, device='cuda:0'), 'num_cls': 0, 'reg_loss': tensor(nan, device='cuda:0'), 'num_reg': 11977, 'loss': tensor(nan, device='cuda:0')}\n",
      "Epoch 0.000, lr 0.00000, time 0.00\n",
      "Wed Jul 27 08:47:49 2022\n",
      "loss nan nan nan, ade1 nan, fde1 nan, ade nan, fde nan\n",
      "\n"
     ]
    },
    {
     "name": "stderr",
     "output_type": "stream",
     "text": [
      "381it [03:18,  4.74it/s]"
     ]
    },
    {
     "name": "stdout",
     "output_type": "stream",
     "text": [
      "{'cls_loss': tensor(nan, device='cuda:0'), 'num_cls': 0, 'reg_loss': tensor(nan, device='cuda:0'), 'num_reg': 11258, 'loss': tensor(nan, device='cuda:0')}\n",
      "Epoch 0.000, lr 0.00000, time 0.00\n",
      "Wed Jul 27 08:47:49 2022\n",
      "loss nan nan nan, ade1 nan, fde1 nan, ade nan, fde nan\n",
      "\n",
      "{'cls_loss': tensor(nan, device='cuda:0'), 'num_cls': 0, 'reg_loss': tensor(nan, device='cuda:0'), 'num_reg': 11567, 'loss': tensor(nan, device='cuda:0')}\n",
      "Epoch 0.000, lr 0.00000, time 0.00\n"
     ]
    },
    {
     "name": "stderr",
     "output_type": "stream",
     "text": [
      "382it [03:18,  4.82it/s]"
     ]
    },
    {
     "name": "stdout",
     "output_type": "stream",
     "text": [
      "Wed Jul 27 08:47:50 2022\n",
      "loss nan nan nan, ade1 nan, fde1 nan, ade nan, fde nan\n",
      "\n"
     ]
    },
    {
     "name": "stderr",
     "output_type": "stream",
     "text": [
      "383it [03:19,  3.20it/s]"
     ]
    },
    {
     "name": "stdout",
     "output_type": "stream",
     "text": [
      "{'cls_loss': tensor(nan, device='cuda:0'), 'num_cls': 0, 'reg_loss': tensor(nan, device='cuda:0'), 'num_reg': 11121, 'loss': tensor(nan, device='cuda:0')}\n",
      "Epoch 0.000, lr 0.00000, time 0.00\n",
      "Wed Jul 27 08:47:50 2022\n",
      "loss nan nan nan, ade1 nan, fde1 nan, ade nan, fde nan\n",
      "\n"
     ]
    },
    {
     "name": "stderr",
     "output_type": "stream",
     "text": [
      "384it [03:19,  3.56it/s]"
     ]
    },
    {
     "name": "stdout",
     "output_type": "stream",
     "text": [
      "{'cls_loss': tensor(nan, device='cuda:0'), 'num_cls': 0, 'reg_loss': tensor(nan, device='cuda:0'), 'num_reg': 10319, 'loss': tensor(nan, device='cuda:0')}\n",
      "Epoch 0.000, lr 0.00000, time 0.00\n",
      "Wed Jul 27 08:47:50 2022\n",
      "loss nan nan nan, ade1 nan, fde1 nan, ade nan, fde nan\n",
      "\n"
     ]
    },
    {
     "name": "stderr",
     "output_type": "stream",
     "text": [
      "385it [03:19,  3.83it/s]"
     ]
    },
    {
     "name": "stdout",
     "output_type": "stream",
     "text": [
      "{'cls_loss': tensor(nan, device='cuda:0'), 'num_cls': 0, 'reg_loss': tensor(nan, device='cuda:0'), 'num_reg': 10996, 'loss': tensor(nan, device='cuda:0')}\n",
      "Epoch 0.000, lr 0.00000, time 0.00\n",
      "Wed Jul 27 08:47:51 2022\n",
      "loss nan nan nan, ade1 nan, fde1 nan, ade nan, fde nan\n",
      "\n"
     ]
    },
    {
     "name": "stderr",
     "output_type": "stream",
     "text": [
      "386it [03:19,  4.10it/s]"
     ]
    },
    {
     "name": "stdout",
     "output_type": "stream",
     "text": [
      "{'cls_loss': tensor(nan, device='cuda:0'), 'num_cls': 0, 'reg_loss': tensor(nan, device='cuda:0'), 'num_reg': 10730, 'loss': tensor(nan, device='cuda:0')}\n",
      "Epoch 0.000, lr 0.00000, time 0.00\n",
      "Wed Jul 27 08:47:51 2022\n",
      "loss nan nan nan, ade1 nan, fde1 nan, ade nan, fde nan\n",
      "\n"
     ]
    },
    {
     "name": "stderr",
     "output_type": "stream",
     "text": [
      "387it [03:20,  4.10it/s]"
     ]
    },
    {
     "name": "stdout",
     "output_type": "stream",
     "text": [
      "{'cls_loss': tensor(nan, device='cuda:0'), 'num_cls': 0, 'reg_loss': tensor(nan, device='cuda:0'), 'num_reg': 10624, 'loss': tensor(nan, device='cuda:0')}\n",
      "Epoch 0.000, lr 0.00000, time 0.00\n",
      "Wed Jul 27 08:47:51 2022\n",
      "loss nan nan nan, ade1 nan, fde1 nan, ade nan, fde nan\n",
      "\n"
     ]
    },
    {
     "name": "stderr",
     "output_type": "stream",
     "text": [
      "388it [03:20,  4.34it/s]"
     ]
    },
    {
     "name": "stdout",
     "output_type": "stream",
     "text": [
      "{'cls_loss': tensor(nan, device='cuda:0'), 'num_cls': 0, 'reg_loss': tensor(nan, device='cuda:0'), 'num_reg': 10416, 'loss': tensor(nan, device='cuda:0')}\n",
      "Epoch 0.000, lr 0.00000, time 0.00\n",
      "Wed Jul 27 08:47:51 2022\n",
      "loss nan nan nan, ade1 nan, fde1 nan, ade nan, fde nan\n",
      "\n"
     ]
    },
    {
     "name": "stderr",
     "output_type": "stream",
     "text": [
      "389it [03:20,  4.08it/s]"
     ]
    },
    {
     "name": "stdout",
     "output_type": "stream",
     "text": [
      "{'cls_loss': tensor(nan, device='cuda:0'), 'num_cls': 0, 'reg_loss': tensor(nan, device='cuda:0'), 'num_reg': 11801, 'loss': tensor(nan, device='cuda:0')}\n",
      "Epoch 0.000, lr 0.00000, time 0.00\n",
      "Wed Jul 27 08:47:52 2022\n",
      "loss nan nan nan, ade1 nan, fde1 nan, ade nan, fde nan\n",
      "\n",
      "{'cls_loss': tensor(nan, device='cuda:0'), 'num_cls': 0, 'reg_loss': tensor(nan, device='cuda:0'), 'num_reg': 10590, 'loss': tensor(nan, device='cuda:0')}\n",
      "Epoch 0.000, lr 0.00000, time 0.00\n"
     ]
    },
    {
     "name": "stderr",
     "output_type": "stream",
     "text": [
      "390it [03:20,  4.32it/s]"
     ]
    },
    {
     "name": "stdout",
     "output_type": "stream",
     "text": [
      "Wed Jul 27 08:47:52 2022\n",
      "loss nan nan nan, ade1 nan, fde1 nan, ade nan, fde nan\n",
      "\n"
     ]
    },
    {
     "name": "stderr",
     "output_type": "stream",
     "text": [
      "391it [03:21,  2.46it/s]"
     ]
    },
    {
     "name": "stdout",
     "output_type": "stream",
     "text": [
      "{'cls_loss': tensor(nan, device='cuda:0'), 'num_cls': 0, 'reg_loss': tensor(nan, device='cuda:0'), 'num_reg': 12373, 'loss': tensor(nan, device='cuda:0')}\n",
      "Epoch 0.000, lr 0.00000, time 0.00\n",
      "Wed Jul 27 08:47:53 2022\n",
      "loss nan nan nan, ade1 nan, fde1 nan, ade nan, fde nan\n",
      "\n"
     ]
    },
    {
     "name": "stderr",
     "output_type": "stream",
     "text": [
      "392it [03:21,  2.80it/s]"
     ]
    },
    {
     "name": "stdout",
     "output_type": "stream",
     "text": [
      "{'cls_loss': tensor(nan, device='cuda:0'), 'num_cls': 0, 'reg_loss': tensor(nan, device='cuda:0'), 'num_reg': 11416, 'loss': tensor(nan, device='cuda:0')}\n",
      "Epoch 0.000, lr 0.00000, time 0.00\n",
      "Wed Jul 27 08:47:53 2022\n",
      "loss nan nan nan, ade1 nan, fde1 nan, ade nan, fde nan\n",
      "\n"
     ]
    },
    {
     "name": "stderr",
     "output_type": "stream",
     "text": [
      "393it [03:22,  2.04it/s]"
     ]
    },
    {
     "name": "stdout",
     "output_type": "stream",
     "text": [
      "{'cls_loss': tensor(nan, device='cuda:0'), 'num_cls': 0, 'reg_loss': tensor(nan, device='cuda:0'), 'num_reg': 10464, 'loss': tensor(nan, device='cuda:0')}\n",
      "Epoch 0.000, lr 0.00000, time 0.00\n",
      "Wed Jul 27 08:47:54 2022\n",
      "loss nan nan nan, ade1 nan, fde1 nan, ade nan, fde nan\n",
      "\n"
     ]
    },
    {
     "name": "stderr",
     "output_type": "stream",
     "text": [
      "394it [03:22,  2.48it/s]"
     ]
    },
    {
     "name": "stdout",
     "output_type": "stream",
     "text": [
      "{'cls_loss': tensor(nan, device='cuda:0'), 'num_cls': 0, 'reg_loss': tensor(nan, device='cuda:0'), 'num_reg': 10333, 'loss': tensor(nan, device='cuda:0')}\n",
      "Epoch 0.000, lr 0.00000, time 0.00\n",
      "Wed Jul 27 08:47:54 2022\n",
      "loss nan nan nan, ade1 nan, fde1 nan, ade nan, fde nan\n",
      "\n"
     ]
    },
    {
     "name": "stderr",
     "output_type": "stream",
     "text": [
      "395it [03:22,  2.88it/s]"
     ]
    },
    {
     "name": "stdout",
     "output_type": "stream",
     "text": [
      "{'cls_loss': tensor(nan, device='cuda:0'), 'num_cls': 0, 'reg_loss': tensor(nan, device='cuda:0'), 'num_reg': 11239, 'loss': tensor(nan, device='cuda:0')}\n",
      "Epoch 0.000, lr 0.00000, time 0.00\n",
      "Wed Jul 27 08:47:54 2022\n",
      "loss nan nan nan, ade1 nan, fde1 nan, ade nan, fde nan\n",
      "\n"
     ]
    },
    {
     "name": "stderr",
     "output_type": "stream",
     "text": [
      "396it [03:23,  3.28it/s]"
     ]
    },
    {
     "name": "stdout",
     "output_type": "stream",
     "text": [
      "{'cls_loss': tensor(nan, device='cuda:0'), 'num_cls': 0, 'reg_loss': tensor(nan, device='cuda:0'), 'num_reg': 11628, 'loss': tensor(nan, device='cuda:0')}\n",
      "Epoch 0.000, lr 0.00000, time 0.00\n",
      "Wed Jul 27 08:47:54 2022\n",
      "loss nan nan nan, ade1 nan, fde1 nan, ade nan, fde nan\n",
      "\n"
     ]
    },
    {
     "name": "stderr",
     "output_type": "stream",
     "text": [
      "397it [03:23,  3.56it/s]"
     ]
    },
    {
     "name": "stdout",
     "output_type": "stream",
     "text": [
      "{'cls_loss': tensor(nan, device='cuda:0'), 'num_cls': 0, 'reg_loss': tensor(nan, device='cuda:0'), 'num_reg': 12187, 'loss': tensor(nan, device='cuda:0')}\n",
      "Epoch 0.000, lr 0.00000, time 0.00\n",
      "Wed Jul 27 08:47:55 2022\n",
      "loss nan nan nan, ade1 nan, fde1 nan, ade nan, fde nan\n",
      "\n"
     ]
    },
    {
     "name": "stderr",
     "output_type": "stream",
     "text": [
      "398it [03:23,  3.90it/s]"
     ]
    },
    {
     "name": "stdout",
     "output_type": "stream",
     "text": [
      "{'cls_loss': tensor(nan, device='cuda:0'), 'num_cls': 0, 'reg_loss': tensor(nan, device='cuda:0'), 'num_reg': 10286, 'loss': tensor(nan, device='cuda:0')}\n",
      "Epoch 0.000, lr 0.00000, time 0.00\n",
      "Wed Jul 27 08:47:55 2022\n",
      "loss nan nan nan, ade1 nan, fde1 nan, ade nan, fde nan\n",
      "\n"
     ]
    },
    {
     "name": "stderr",
     "output_type": "stream",
     "text": [
      "399it [03:23,  4.00it/s]"
     ]
    },
    {
     "name": "stdout",
     "output_type": "stream",
     "text": [
      "{'cls_loss': tensor(nan, device='cuda:0'), 'num_cls': 0, 'reg_loss': tensor(nan, device='cuda:0'), 'num_reg': 9794, 'loss': tensor(nan, device='cuda:0')}\n",
      "Epoch 0.000, lr 0.00000, time 0.00\n",
      "Wed Jul 27 08:47:55 2022\n",
      "loss nan nan nan, ade1 nan, fde1 nan, ade nan, fde nan\n",
      "\n"
     ]
    },
    {
     "name": "stderr",
     "output_type": "stream",
     "text": [
      "400it [03:24,  4.19it/s]"
     ]
    },
    {
     "name": "stdout",
     "output_type": "stream",
     "text": [
      "{'cls_loss': tensor(nan, device='cuda:0'), 'num_cls': 0, 'reg_loss': tensor(nan, device='cuda:0'), 'num_reg': 13234, 'loss': tensor(nan, device='cuda:0')}\n",
      "Epoch 0.000, lr 0.00000, time 0.00\n",
      "Wed Jul 27 08:47:55 2022\n",
      "loss nan nan nan, ade1 nan, fde1 nan, ade nan, fde nan\n",
      "\n"
     ]
    },
    {
     "name": "stderr",
     "output_type": "stream",
     "text": [
      "401it [03:24,  4.37it/s]"
     ]
    },
    {
     "name": "stdout",
     "output_type": "stream",
     "text": [
      "{'cls_loss': tensor(nan, device='cuda:0'), 'num_cls': 0, 'reg_loss': tensor(nan, device='cuda:0'), 'num_reg': 11147, 'loss': tensor(nan, device='cuda:0')}\n",
      "Epoch 0.000, lr 0.00000, time 0.00\n",
      "Wed Jul 27 08:47:55 2022\n",
      "loss nan nan nan, ade1 nan, fde1 nan, ade nan, fde nan\n",
      "\n"
     ]
    },
    {
     "name": "stderr",
     "output_type": "stream",
     "text": [
      "402it [03:24,  4.09it/s]"
     ]
    },
    {
     "name": "stdout",
     "output_type": "stream",
     "text": [
      "{'cls_loss': tensor(nan, device='cuda:0'), 'num_cls': 0, 'reg_loss': tensor(nan, device='cuda:0'), 'num_reg': 13135, 'loss': tensor(nan, device='cuda:0')}\n",
      "Epoch 0.000, lr 0.00000, time 0.00\n",
      "Wed Jul 27 08:47:56 2022\n",
      "loss nan nan nan, ade1 nan, fde1 nan, ade nan, fde nan\n",
      "\n"
     ]
    },
    {
     "name": "stderr",
     "output_type": "stream",
     "text": [
      "403it [03:24,  4.09it/s]"
     ]
    },
    {
     "name": "stdout",
     "output_type": "stream",
     "text": [
      "{'cls_loss': tensor(nan, device='cuda:0'), 'num_cls': 0, 'reg_loss': tensor(nan, device='cuda:0'), 'num_reg': 10494, 'loss': tensor(nan, device='cuda:0')}\n",
      "Epoch 0.000, lr 0.00000, time 0.00\n",
      "Wed Jul 27 08:47:56 2022\n",
      "loss nan nan nan, ade1 nan, fde1 nan, ade nan, fde nan\n",
      "\n"
     ]
    },
    {
     "name": "stderr",
     "output_type": "stream",
     "text": [
      "404it [03:24,  4.24it/s]"
     ]
    },
    {
     "name": "stdout",
     "output_type": "stream",
     "text": [
      "{'cls_loss': tensor(nan, device='cuda:0'), 'num_cls': 0, 'reg_loss': tensor(nan, device='cuda:0'), 'num_reg': 9731, 'loss': tensor(nan, device='cuda:0')}\n",
      "Epoch 0.000, lr 0.00000, time 0.00\n",
      "Wed Jul 27 08:47:56 2022\n",
      "loss nan nan nan, ade1 nan, fde1 nan, ade nan, fde nan\n",
      "\n"
     ]
    },
    {
     "name": "stderr",
     "output_type": "stream",
     "text": [
      "405it [03:25,  4.38it/s]"
     ]
    },
    {
     "name": "stdout",
     "output_type": "stream",
     "text": [
      "{'cls_loss': tensor(nan, device='cuda:0'), 'num_cls': 0, 'reg_loss': tensor(nan, device='cuda:0'), 'num_reg': 12036, 'loss': tensor(nan, device='cuda:0')}\n",
      "Epoch 0.000, lr 0.00000, time 0.00\n",
      "Wed Jul 27 08:47:56 2022\n",
      "loss nan nan nan, ade1 nan, fde1 nan, ade nan, fde nan\n",
      "\n",
      "{'cls_loss': tensor(nan, device='cuda:0'), 'num_cls': 0, 'reg_loss': tensor(nan, device='cuda:0'), 'num_reg': 11012, 'loss': tensor(nan, device='cuda:0')}\n",
      "Epoch 0.000, lr 0.00000, time 0.00\n"
     ]
    },
    {
     "name": "stderr",
     "output_type": "stream",
     "text": [
      "406it [03:25,  4.56it/s]"
     ]
    },
    {
     "name": "stdout",
     "output_type": "stream",
     "text": [
      "Wed Jul 27 08:47:57 2022\n",
      "loss nan nan nan, ade1 nan, fde1 nan, ade nan, fde nan\n",
      "\n"
     ]
    },
    {
     "name": "stderr",
     "output_type": "stream",
     "text": [
      "407it [03:25,  4.04it/s]"
     ]
    },
    {
     "name": "stdout",
     "output_type": "stream",
     "text": [
      "{'cls_loss': tensor(nan, device='cuda:0'), 'num_cls': 0, 'reg_loss': tensor(nan, device='cuda:0'), 'num_reg': 9619, 'loss': tensor(nan, device='cuda:0')}\n",
      "Epoch 0.000, lr 0.00000, time 0.00\n",
      "Wed Jul 27 08:47:57 2022\n",
      "loss nan nan nan, ade1 nan, fde1 nan, ade nan, fde nan\n",
      "\n"
     ]
    },
    {
     "name": "stderr",
     "output_type": "stream",
     "text": [
      "408it [03:25,  4.25it/s]"
     ]
    },
    {
     "name": "stdout",
     "output_type": "stream",
     "text": [
      "{'cls_loss': tensor(nan, device='cuda:0'), 'num_cls': 0, 'reg_loss': tensor(nan, device='cuda:0'), 'num_reg': 10950, 'loss': tensor(nan, device='cuda:0')}\n",
      "Epoch 0.000, lr 0.00000, time 0.00\n",
      "Wed Jul 27 08:47:57 2022\n",
      "loss nan nan nan, ade1 nan, fde1 nan, ade nan, fde nan\n",
      "\n"
     ]
    },
    {
     "name": "stderr",
     "output_type": "stream",
     "text": [
      "409it [03:26,  4.38it/s]"
     ]
    },
    {
     "name": "stdout",
     "output_type": "stream",
     "text": [
      "{'cls_loss': tensor(nan, device='cuda:0'), 'num_cls': 0, 'reg_loss': tensor(nan, device='cuda:0'), 'num_reg': 11845, 'loss': tensor(nan, device='cuda:0')}\n",
      "Epoch 0.000, lr 0.00000, time 0.00\n",
      "Wed Jul 27 08:47:57 2022\n",
      "loss nan nan nan, ade1 nan, fde1 nan, ade nan, fde nan\n",
      "\n",
      "{'cls_loss': tensor(nan, device='cuda:0'), 'num_cls': 0, 'reg_loss': tensor(nan, device='cuda:0'), 'num_reg': 11520, 'loss': tensor(nan, device='cuda:0')}\n",
      "Epoch 0.000, lr 0.00000, time 0.00\n"
     ]
    },
    {
     "name": "stderr",
     "output_type": "stream",
     "text": [
      "410it [03:26,  4.58it/s]"
     ]
    },
    {
     "name": "stdout",
     "output_type": "stream",
     "text": [
      "Wed Jul 27 08:47:57 2022\n",
      "loss nan nan nan, ade1 nan, fde1 nan, ade nan, fde nan\n",
      "\n",
      "{'cls_loss': tensor(nan, device='cuda:0'), 'num_cls': 0, 'reg_loss': tensor(nan, device='cuda:0'), 'num_reg': 11373, 'loss': tensor(nan, device='cuda:0')}\n",
      "Epoch 0.000, lr 0.00000, time 0.00\n"
     ]
    },
    {
     "name": "stderr",
     "output_type": "stream",
     "text": [
      "411it [03:26,  4.42it/s]"
     ]
    },
    {
     "name": "stdout",
     "output_type": "stream",
     "text": [
      "Wed Jul 27 08:47:58 2022\n",
      "loss nan nan nan, ade1 nan, fde1 nan, ade nan, fde nan\n",
      "\n",
      "{'cls_loss': tensor(nan, device='cuda:0'), 'num_cls': 0, 'reg_loss': tensor(nan, device='cuda:0'), 'num_reg': 10242, 'loss': tensor(nan, device='cuda:0')}\n",
      "Epoch 0.000, lr 0.00000, time 0.00\n"
     ]
    },
    {
     "name": "stderr",
     "output_type": "stream",
     "text": [
      "412it [03:26,  4.54it/s]"
     ]
    },
    {
     "name": "stdout",
     "output_type": "stream",
     "text": [
      "Wed Jul 27 08:47:58 2022\n",
      "loss nan nan nan, ade1 nan, fde1 nan, ade nan, fde nan\n",
      "\n",
      "{'cls_loss': tensor(nan, device='cuda:0'), 'num_cls': 0, 'reg_loss': tensor(nan, device='cuda:0'), 'num_reg': 10324, 'loss': tensor(nan, device='cuda:0')}\n",
      "Epoch 0.000, lr 0.00000, time 0.00\n"
     ]
    },
    {
     "name": "stderr",
     "output_type": "stream",
     "text": [
      "414it [03:27,  4.76it/s]"
     ]
    },
    {
     "name": "stdout",
     "output_type": "stream",
     "text": [
      "Wed Jul 27 08:47:58 2022\n",
      "loss nan nan nan, ade1 nan, fde1 nan, ade nan, fde nan\n",
      "\n",
      "{'cls_loss': tensor(nan, device='cuda:0'), 'num_cls': 0, 'reg_loss': tensor(nan, device='cuda:0'), 'num_reg': 10260, 'loss': tensor(nan, device='cuda:0')}\n",
      "Epoch 0.000, lr 0.00000, time 0.00\n",
      "Wed Jul 27 08:47:58 2022\n",
      "loss nan nan nan, ade1 nan, fde1 nan, ade nan, fde nan\n",
      "\n"
     ]
    },
    {
     "name": "stderr",
     "output_type": "stream",
     "text": [
      "415it [03:27,  4.73it/s]"
     ]
    },
    {
     "name": "stdout",
     "output_type": "stream",
     "text": [
      "{'cls_loss': tensor(nan, device='cuda:0'), 'num_cls': 0, 'reg_loss': tensor(nan, device='cuda:0'), 'num_reg': 10350, 'loss': tensor(nan, device='cuda:0')}\n",
      "Epoch 0.000, lr 0.00000, time 0.00\n",
      "Wed Jul 27 08:47:59 2022\n",
      "loss nan nan nan, ade1 nan, fde1 nan, ade nan, fde nan\n",
      "\n"
     ]
    },
    {
     "name": "stderr",
     "output_type": "stream",
     "text": [
      "416it [03:27,  4.61it/s]"
     ]
    },
    {
     "name": "stdout",
     "output_type": "stream",
     "text": [
      "{'cls_loss': tensor(nan, device='cuda:0'), 'num_cls': 0, 'reg_loss': tensor(nan, device='cuda:0'), 'num_reg': 11520, 'loss': tensor(nan, device='cuda:0')}\n",
      "Epoch 0.000, lr 0.00000, time 0.00\n",
      "Wed Jul 27 08:47:59 2022\n",
      "loss nan nan nan, ade1 nan, fde1 nan, ade nan, fde nan\n",
      "\n"
     ]
    },
    {
     "name": "stderr",
     "output_type": "stream",
     "text": [
      "417it [03:27,  4.66it/s]"
     ]
    },
    {
     "name": "stdout",
     "output_type": "stream",
     "text": [
      "{'cls_loss': tensor(nan, device='cuda:0'), 'num_cls': 0, 'reg_loss': tensor(nan, device='cuda:0'), 'num_reg': 11244, 'loss': tensor(nan, device='cuda:0')}\n",
      "Epoch 0.000, lr 0.00000, time 0.00\n",
      "Wed Jul 27 08:47:59 2022\n",
      "loss nan nan nan, ade1 nan, fde1 nan, ade nan, fde nan\n",
      "\n",
      "{'cls_loss': tensor(nan, device='cuda:0'), 'num_cls': 0, 'reg_loss': tensor(nan, device='cuda:0'), 'num_reg': 11833, 'loss': tensor(nan, device='cuda:0')}\n",
      "Epoch 0.000, lr 0.00000, time 0.00\n"
     ]
    },
    {
     "name": "stderr",
     "output_type": "stream",
     "text": [
      "418it [03:28,  4.76it/s]"
     ]
    },
    {
     "name": "stdout",
     "output_type": "stream",
     "text": [
      "Wed Jul 27 08:47:59 2022\n",
      "loss nan nan nan, ade1 nan, fde1 nan, ade nan, fde nan\n",
      "\n",
      "{'cls_loss': tensor(nan, device='cuda:0'), 'num_cls': 0, 'reg_loss': tensor(nan, device='cuda:0'), 'num_reg': 11823, 'loss': tensor(nan, device='cuda:0')}\n",
      "Epoch 0.000, lr 0.00000, time 0.00\n"
     ]
    },
    {
     "name": "stderr",
     "output_type": "stream",
     "text": [
      "419it [03:28,  4.77it/s]"
     ]
    },
    {
     "name": "stdout",
     "output_type": "stream",
     "text": [
      "Wed Jul 27 08:47:59 2022\n",
      "loss nan nan nan, ade1 nan, fde1 nan, ade nan, fde nan\n",
      "\n",
      "{'cls_loss': tensor(nan, device='cuda:0'), 'num_cls': 0, 'reg_loss': tensor(nan, device='cuda:0'), 'num_reg': 10101, 'loss': tensor(nan, device='cuda:0')}\n",
      "Epoch 0.000, lr 0.00000, time 0.00\n"
     ]
    },
    {
     "name": "stderr",
     "output_type": "stream",
     "text": [
      "420it [03:28,  4.60it/s]"
     ]
    },
    {
     "name": "stdout",
     "output_type": "stream",
     "text": [
      "Wed Jul 27 08:48:00 2022\n",
      "loss nan nan nan, ade1 nan, fde1 nan, ade nan, fde nan\n",
      "\n",
      "{'cls_loss': tensor(nan, device='cuda:0'), 'num_cls': 0, 'reg_loss': tensor(nan, device='cuda:0'), 'num_reg': 11423, 'loss': tensor(nan, device='cuda:0')}\n",
      "Epoch 0.000, lr 0.00000, time 0.00\n"
     ]
    },
    {
     "name": "stderr",
     "output_type": "stream",
     "text": [
      "422it [03:28,  4.73it/s]"
     ]
    },
    {
     "name": "stdout",
     "output_type": "stream",
     "text": [
      "Wed Jul 27 08:48:00 2022\n",
      "loss nan nan nan, ade1 nan, fde1 nan, ade nan, fde nan\n",
      "\n",
      "{'cls_loss': tensor(nan, device='cuda:0'), 'num_cls': 0, 'reg_loss': tensor(nan, device='cuda:0'), 'num_reg': 9674, 'loss': tensor(nan, device='cuda:0')}\n",
      "Epoch 0.000, lr 0.00000, time 0.00\n",
      "Wed Jul 27 08:48:00 2022\n",
      "loss nan nan nan, ade1 nan, fde1 nan, ade nan, fde nan\n",
      "\n"
     ]
    },
    {
     "name": "stderr",
     "output_type": "stream",
     "text": [
      "423it [03:29,  4.63it/s]"
     ]
    },
    {
     "name": "stdout",
     "output_type": "stream",
     "text": [
      "{'cls_loss': tensor(nan, device='cuda:0'), 'num_cls': 0, 'reg_loss': tensor(nan, device='cuda:0'), 'num_reg': 10239, 'loss': tensor(nan, device='cuda:0')}\n",
      "Epoch 0.000, lr 0.00000, time 0.00\n",
      "Wed Jul 27 08:48:00 2022\n",
      "loss nan nan nan, ade1 nan, fde1 nan, ade nan, fde nan\n",
      "\n"
     ]
    },
    {
     "name": "stderr",
     "output_type": "stream",
     "text": [
      "424it [03:29,  4.55it/s]"
     ]
    },
    {
     "name": "stdout",
     "output_type": "stream",
     "text": [
      "{'cls_loss': tensor(nan, device='cuda:0'), 'num_cls': 0, 'reg_loss': tensor(nan, device='cuda:0'), 'num_reg': 12284, 'loss': tensor(nan, device='cuda:0')}\n",
      "Epoch 0.000, lr 0.00000, time 0.00\n",
      "Wed Jul 27 08:48:00 2022\n",
      "loss nan nan nan, ade1 nan, fde1 nan, ade nan, fde nan\n",
      "\n"
     ]
    },
    {
     "name": "stderr",
     "output_type": "stream",
     "text": [
      "425it [03:29,  4.19it/s]"
     ]
    },
    {
     "name": "stdout",
     "output_type": "stream",
     "text": [
      "{'cls_loss': tensor(nan, device='cuda:0'), 'num_cls': 0, 'reg_loss': tensor(nan, device='cuda:0'), 'num_reg': 9108, 'loss': tensor(nan, device='cuda:0')}\n",
      "Epoch 0.000, lr 0.00000, time 0.00\n",
      "Wed Jul 27 08:48:01 2022\n",
      "loss nan nan nan, ade1 nan, fde1 nan, ade nan, fde nan\n",
      "\n",
      "{'cls_loss': tensor(nan, device='cuda:0'), 'num_cls': 0, 'reg_loss': tensor(nan, device='cuda:0'), 'num_reg': 9520, 'loss': tensor(nan, device='cuda:0')}\n",
      "Epoch 0.000, lr 0.00000, time 0.00\n"
     ]
    },
    {
     "name": "stderr",
     "output_type": "stream",
     "text": [
      "426it [03:29,  4.41it/s]"
     ]
    },
    {
     "name": "stdout",
     "output_type": "stream",
     "text": [
      "Wed Jul 27 08:48:01 2022\n",
      "loss nan nan nan, ade1 nan, fde1 nan, ade nan, fde nan\n",
      "\n"
     ]
    },
    {
     "name": "stderr",
     "output_type": "stream",
     "text": [
      "427it [03:30,  2.97it/s]"
     ]
    },
    {
     "name": "stdout",
     "output_type": "stream",
     "text": [
      "{'cls_loss': tensor(nan, device='cuda:0'), 'num_cls': 0, 'reg_loss': tensor(nan, device='cuda:0'), 'num_reg': 9500, 'loss': tensor(nan, device='cuda:0')}\n",
      "Epoch 0.000, lr 0.00000, time 0.00\n",
      "Wed Jul 27 08:48:02 2022\n",
      "loss nan nan nan, ade1 nan, fde1 nan, ade nan, fde nan\n",
      "\n"
     ]
    },
    {
     "name": "stderr",
     "output_type": "stream",
     "text": [
      "428it [03:30,  3.16it/s]"
     ]
    },
    {
     "name": "stdout",
     "output_type": "stream",
     "text": [
      "{'cls_loss': tensor(nan, device='cuda:0'), 'num_cls': 0, 'reg_loss': tensor(nan, device='cuda:0'), 'num_reg': 11948, 'loss': tensor(nan, device='cuda:0')}\n",
      "Epoch 0.000, lr 0.00000, time 0.00\n",
      "Wed Jul 27 08:48:02 2022\n",
      "loss nan nan nan, ade1 nan, fde1 nan, ade nan, fde nan\n",
      "\n"
     ]
    },
    {
     "name": "stderr",
     "output_type": "stream",
     "text": [
      "429it [03:30,  3.50it/s]"
     ]
    },
    {
     "name": "stdout",
     "output_type": "stream",
     "text": [
      "{'cls_loss': tensor(nan, device='cuda:0'), 'num_cls': 0, 'reg_loss': tensor(nan, device='cuda:0'), 'num_reg': 11196, 'loss': tensor(nan, device='cuda:0')}\n",
      "Epoch 0.000, lr 0.00000, time 0.00\n",
      "Wed Jul 27 08:48:02 2022\n",
      "loss nan nan nan, ade1 nan, fde1 nan, ade nan, fde nan\n",
      "\n"
     ]
    },
    {
     "name": "stderr",
     "output_type": "stream",
     "text": [
      "430it [03:31,  3.82it/s]"
     ]
    },
    {
     "name": "stdout",
     "output_type": "stream",
     "text": [
      "{'cls_loss': tensor(nan, device='cuda:0'), 'num_cls': 0, 'reg_loss': tensor(nan, device='cuda:0'), 'num_reg': 12205, 'loss': tensor(nan, device='cuda:0')}\n",
      "Epoch 0.000, lr 0.00000, time 0.00\n",
      "Wed Jul 27 08:48:02 2022\n",
      "loss nan nan nan, ade1 nan, fde1 nan, ade nan, fde nan\n",
      "\n"
     ]
    },
    {
     "name": "stderr",
     "output_type": "stream",
     "text": [
      "431it [03:31,  3.85it/s]"
     ]
    },
    {
     "name": "stdout",
     "output_type": "stream",
     "text": [
      "{'cls_loss': tensor(nan, device='cuda:0'), 'num_cls': 0, 'reg_loss': tensor(nan, device='cuda:0'), 'num_reg': 10199, 'loss': tensor(nan, device='cuda:0')}\n",
      "Epoch 0.000, lr 0.00000, time 0.00\n",
      "Wed Jul 27 08:48:02 2022\n",
      "loss nan nan nan, ade1 nan, fde1 nan, ade nan, fde nan\n",
      "\n"
     ]
    },
    {
     "name": "stderr",
     "output_type": "stream",
     "text": [
      "432it [03:31,  3.22it/s]"
     ]
    },
    {
     "name": "stdout",
     "output_type": "stream",
     "text": [
      "{'cls_loss': tensor(nan, device='cuda:0'), 'num_cls': 0, 'reg_loss': tensor(nan, device='cuda:0'), 'num_reg': 12397, 'loss': tensor(nan, device='cuda:0')}\n",
      "Epoch 0.000, lr 0.00000, time 0.00\n",
      "Wed Jul 27 08:48:03 2022\n",
      "loss nan nan nan, ade1 nan, fde1 nan, ade nan, fde nan\n",
      "\n"
     ]
    },
    {
     "name": "stderr",
     "output_type": "stream",
     "text": [
      "433it [03:32,  3.53it/s]"
     ]
    },
    {
     "name": "stdout",
     "output_type": "stream",
     "text": [
      "{'cls_loss': tensor(nan, device='cuda:0'), 'num_cls': 0, 'reg_loss': tensor(nan, device='cuda:0'), 'num_reg': 13510, 'loss': tensor(nan, device='cuda:0')}\n",
      "Epoch 0.000, lr 0.00000, time 0.00\n",
      "Wed Jul 27 08:48:03 2022\n",
      "loss nan nan nan, ade1 nan, fde1 nan, ade nan, fde nan\n",
      "\n"
     ]
    },
    {
     "name": "stderr",
     "output_type": "stream",
     "text": [
      "434it [03:32,  3.68it/s]"
     ]
    },
    {
     "name": "stdout",
     "output_type": "stream",
     "text": [
      "{'cls_loss': tensor(nan, device='cuda:0'), 'num_cls': 0, 'reg_loss': tensor(nan, device='cuda:0'), 'num_reg': 12281, 'loss': tensor(nan, device='cuda:0')}\n",
      "Epoch 0.000, lr 0.00000, time 0.00\n",
      "Wed Jul 27 08:48:03 2022\n",
      "loss nan nan nan, ade1 nan, fde1 nan, ade nan, fde nan\n",
      "\n"
     ]
    },
    {
     "name": "stderr",
     "output_type": "stream",
     "text": [
      "435it [03:32,  3.97it/s]"
     ]
    },
    {
     "name": "stdout",
     "output_type": "stream",
     "text": [
      "{'cls_loss': tensor(nan, device='cuda:0'), 'num_cls': 0, 'reg_loss': tensor(nan, device='cuda:0'), 'num_reg': 10022, 'loss': tensor(nan, device='cuda:0')}\n",
      "Epoch 0.000, lr 0.00000, time 0.00\n",
      "Wed Jul 27 08:48:04 2022\n",
      "loss nan nan nan, ade1 nan, fde1 nan, ade nan, fde nan\n",
      "\n"
     ]
    },
    {
     "name": "stderr",
     "output_type": "stream",
     "text": [
      "436it [03:32,  3.86it/s]"
     ]
    },
    {
     "name": "stdout",
     "output_type": "stream",
     "text": [
      "{'cls_loss': tensor(nan, device='cuda:0'), 'num_cls': 0, 'reg_loss': tensor(nan, device='cuda:0'), 'num_reg': 7969, 'loss': tensor(nan, device='cuda:0')}\n",
      "Epoch 0.000, lr 0.00000, time 0.00\n",
      "Wed Jul 27 08:48:04 2022\n",
      "loss nan nan nan, ade1 nan, fde1 nan, ade nan, fde nan\n",
      "\n"
     ]
    },
    {
     "name": "stderr",
     "output_type": "stream",
     "text": [
      "437it [03:33,  3.65it/s]"
     ]
    },
    {
     "name": "stdout",
     "output_type": "stream",
     "text": [
      "{'cls_loss': tensor(nan, device='cuda:0'), 'num_cls': 0, 'reg_loss': tensor(nan, device='cuda:0'), 'num_reg': 12103, 'loss': tensor(nan, device='cuda:0')}\n",
      "Epoch 0.000, lr 0.00000, time 0.00\n",
      "Wed Jul 27 08:48:04 2022\n",
      "loss nan nan nan, ade1 nan, fde1 nan, ade nan, fde nan\n",
      "\n"
     ]
    },
    {
     "name": "stderr",
     "output_type": "stream",
     "text": [
      "438it [03:33,  3.90it/s]"
     ]
    },
    {
     "name": "stdout",
     "output_type": "stream",
     "text": [
      "{'cls_loss': tensor(nan, device='cuda:0'), 'num_cls': 0, 'reg_loss': tensor(nan, device='cuda:0'), 'num_reg': 10528, 'loss': tensor(nan, device='cuda:0')}\n",
      "Epoch 0.000, lr 0.00000, time 0.00\n",
      "Wed Jul 27 08:48:04 2022\n",
      "loss nan nan nan, ade1 nan, fde1 nan, ade nan, fde nan\n",
      "\n"
     ]
    },
    {
     "name": "stderr",
     "output_type": "stream",
     "text": [
      "439it [03:33,  4.08it/s]"
     ]
    },
    {
     "name": "stdout",
     "output_type": "stream",
     "text": [
      "{'cls_loss': tensor(nan, device='cuda:0'), 'num_cls': 0, 'reg_loss': tensor(nan, device='cuda:0'), 'num_reg': 12715, 'loss': tensor(nan, device='cuda:0')}\n",
      "Epoch 0.000, lr 0.00000, time 0.00\n",
      "Wed Jul 27 08:48:05 2022\n",
      "loss nan nan nan, ade1 nan, fde1 nan, ade nan, fde nan\n",
      "\n"
     ]
    },
    {
     "name": "stderr",
     "output_type": "stream",
     "text": [
      "440it [03:33,  4.31it/s]"
     ]
    },
    {
     "name": "stdout",
     "output_type": "stream",
     "text": [
      "{'cls_loss': tensor(nan, device='cuda:0'), 'num_cls': 0, 'reg_loss': tensor(nan, device='cuda:0'), 'num_reg': 9413, 'loss': tensor(nan, device='cuda:0')}\n",
      "Epoch 0.000, lr 0.00000, time 0.00\n",
      "Wed Jul 27 08:48:05 2022\n",
      "loss nan nan nan, ade1 nan, fde1 nan, ade nan, fde nan\n",
      "\n"
     ]
    },
    {
     "name": "stderr",
     "output_type": "stream",
     "text": [
      "441it [03:33,  4.39it/s]"
     ]
    },
    {
     "name": "stdout",
     "output_type": "stream",
     "text": [
      "{'cls_loss': tensor(nan, device='cuda:0'), 'num_cls': 0, 'reg_loss': tensor(nan, device='cuda:0'), 'num_reg': 11063, 'loss': tensor(nan, device='cuda:0')}\n",
      "Epoch 0.000, lr 0.00000, time 0.00\n",
      "Wed Jul 27 08:48:05 2022\n",
      "loss nan nan nan, ade1 nan, fde1 nan, ade nan, fde nan\n",
      "\n"
     ]
    },
    {
     "name": "stderr",
     "output_type": "stream",
     "text": [
      "442it [03:34,  4.43it/s]"
     ]
    },
    {
     "name": "stdout",
     "output_type": "stream",
     "text": [
      "{'cls_loss': tensor(nan, device='cuda:0'), 'num_cls': 0, 'reg_loss': tensor(nan, device='cuda:0'), 'num_reg': 9724, 'loss': tensor(nan, device='cuda:0')}\n",
      "Epoch 0.000, lr 0.00000, time 0.00\n",
      "Wed Jul 27 08:48:05 2022\n",
      "loss nan nan nan, ade1 nan, fde1 nan, ade nan, fde nan\n",
      "\n"
     ]
    },
    {
     "name": "stderr",
     "output_type": "stream",
     "text": [
      "443it [03:34,  4.51it/s]"
     ]
    },
    {
     "name": "stdout",
     "output_type": "stream",
     "text": [
      "{'cls_loss': tensor(nan, device='cuda:0'), 'num_cls': 0, 'reg_loss': tensor(nan, device='cuda:0'), 'num_reg': 10737, 'loss': tensor(nan, device='cuda:0')}\n",
      "Epoch 0.000, lr 0.00000, time 0.00\n",
      "Wed Jul 27 08:48:05 2022\n",
      "loss nan nan nan, ade1 nan, fde1 nan, ade nan, fde nan\n",
      "\n",
      "{'cls_loss': tensor(nan, device='cuda:0'), 'num_cls': 0, 'reg_loss': tensor(nan, device='cuda:0'), 'num_reg': 10558, 'loss': tensor(nan, device='cuda:0')}\n",
      "Epoch 0.000, lr 0.00000, time 0.00\n"
     ]
    },
    {
     "name": "stderr",
     "output_type": "stream",
     "text": [
      "444it [03:34,  4.63it/s]"
     ]
    },
    {
     "name": "stdout",
     "output_type": "stream",
     "text": [
      "Wed Jul 27 08:48:06 2022\n",
      "loss nan nan nan, ade1 nan, fde1 nan, ade nan, fde nan\n",
      "\n",
      "{'cls_loss': tensor(nan, device='cuda:0'), 'num_cls': 0, 'reg_loss': tensor(nan, device='cuda:0'), 'num_reg': 11562, 'loss': tensor(nan, device='cuda:0')}\n",
      "Epoch 0.000, lr 0.00000, time 0.00\n"
     ]
    },
    {
     "name": "stderr",
     "output_type": "stream",
     "text": [
      "445it [03:34,  4.63it/s]"
     ]
    },
    {
     "name": "stdout",
     "output_type": "stream",
     "text": [
      "Wed Jul 27 08:48:06 2022\n",
      "loss nan nan nan, ade1 nan, fde1 nan, ade nan, fde nan\n",
      "\n",
      "{'cls_loss': tensor(nan, device='cuda:0'), 'num_cls': 0, 'reg_loss': tensor(nan, device='cuda:0'), 'num_reg': 11191, 'loss': tensor(nan, device='cuda:0')}\n",
      "Epoch 0.000, lr 0.00000, time 0.00\n"
     ]
    },
    {
     "name": "stderr",
     "output_type": "stream",
     "text": [
      "446it [03:34,  4.47it/s]"
     ]
    },
    {
     "name": "stdout",
     "output_type": "stream",
     "text": [
      "Wed Jul 27 08:48:06 2022\n",
      "loss nan nan nan, ade1 nan, fde1 nan, ade nan, fde nan\n",
      "\n",
      "{'cls_loss': tensor(nan, device='cuda:0'), 'num_cls': 0, 'reg_loss': tensor(nan, device='cuda:0'), 'num_reg': 12918, 'loss': tensor(nan, device='cuda:0')}\n",
      "Epoch 0.000, lr 0.00000, time 0.00\n"
     ]
    },
    {
     "name": "stderr",
     "output_type": "stream",
     "text": [
      "448it [03:35,  4.68it/s]"
     ]
    },
    {
     "name": "stdout",
     "output_type": "stream",
     "text": [
      "Wed Jul 27 08:48:06 2022\n",
      "loss nan nan nan, ade1 nan, fde1 nan, ade nan, fde nan\n",
      "\n",
      "{'cls_loss': tensor(nan, device='cuda:0'), 'num_cls': 0, 'reg_loss': tensor(nan, device='cuda:0'), 'num_reg': 9855, 'loss': tensor(nan, device='cuda:0')}\n",
      "Epoch 0.000, lr 0.00000, time 0.00\n",
      "Wed Jul 27 08:48:07 2022\n",
      "loss nan nan nan, ade1 nan, fde1 nan, ade nan, fde nan\n",
      "\n"
     ]
    },
    {
     "name": "stderr",
     "output_type": "stream",
     "text": [
      "449it [03:35,  4.69it/s]"
     ]
    },
    {
     "name": "stdout",
     "output_type": "stream",
     "text": [
      "{'cls_loss': tensor(nan, device='cuda:0'), 'num_cls': 0, 'reg_loss': tensor(nan, device='cuda:0'), 'num_reg': 11377, 'loss': tensor(nan, device='cuda:0')}\n",
      "Epoch 0.000, lr 0.00000, time 0.00\n",
      "Wed Jul 27 08:48:07 2022\n",
      "loss nan nan nan, ade1 nan, fde1 nan, ade nan, fde nan\n",
      "\n"
     ]
    },
    {
     "name": "stderr",
     "output_type": "stream",
     "text": [
      "450it [03:35,  4.26it/s]"
     ]
    },
    {
     "name": "stdout",
     "output_type": "stream",
     "text": [
      "{'cls_loss': tensor(nan, device='cuda:0'), 'num_cls': 0, 'reg_loss': tensor(nan, device='cuda:0'), 'num_reg': 11979, 'loss': tensor(nan, device='cuda:0')}\n",
      "Epoch 0.000, lr 0.00000, time 0.00\n",
      "Wed Jul 27 08:48:07 2022\n",
      "loss nan nan nan, ade1 nan, fde1 nan, ade nan, fde nan\n",
      "\n"
     ]
    },
    {
     "name": "stderr",
     "output_type": "stream",
     "text": [
      "451it [03:36,  4.39it/s]"
     ]
    },
    {
     "name": "stdout",
     "output_type": "stream",
     "text": [
      "{'cls_loss': tensor(nan, device='cuda:0'), 'num_cls': 0, 'reg_loss': tensor(nan, device='cuda:0'), 'num_reg': 10899, 'loss': tensor(nan, device='cuda:0')}\n",
      "Epoch 0.000, lr 0.00000, time 0.00\n",
      "Wed Jul 27 08:48:07 2022\n",
      "loss nan nan nan, ade1 nan, fde1 nan, ade nan, fde nan\n",
      "\n"
     ]
    },
    {
     "name": "stderr",
     "output_type": "stream",
     "text": [
      "452it [03:36,  4.50it/s]"
     ]
    },
    {
     "name": "stdout",
     "output_type": "stream",
     "text": [
      "{'cls_loss': tensor(nan, device='cuda:0'), 'num_cls': 0, 'reg_loss': tensor(nan, device='cuda:0'), 'num_reg': 12453, 'loss': tensor(nan, device='cuda:0')}\n",
      "Epoch 0.000, lr 0.00000, time 0.00\n",
      "Wed Jul 27 08:48:07 2022\n",
      "loss nan nan nan, ade1 nan, fde1 nan, ade nan, fde nan\n",
      "\n"
     ]
    },
    {
     "name": "stderr",
     "output_type": "stream",
     "text": [
      "453it [03:36,  4.58it/s]"
     ]
    },
    {
     "name": "stdout",
     "output_type": "stream",
     "text": [
      "{'cls_loss': tensor(nan, device='cuda:0'), 'num_cls': 0, 'reg_loss': tensor(nan, device='cuda:0'), 'num_reg': 10625, 'loss': tensor(nan, device='cuda:0')}\n",
      "Epoch 0.000, lr 0.00000, time 0.00\n",
      "Wed Jul 27 08:48:08 2022\n",
      "loss nan nan nan, ade1 nan, fde1 nan, ade nan, fde nan\n",
      "\n",
      "{'cls_loss': tensor(nan, device='cuda:0'), 'num_cls': 0, 'reg_loss': tensor(nan, device='cuda:0'), 'num_reg': 10374, 'loss': tensor(nan, device='cuda:0')}\n",
      "Epoch 0.000, lr 0.00000, time 0.00\n"
     ]
    },
    {
     "name": "stderr",
     "output_type": "stream",
     "text": [
      "454it [03:36,  4.68it/s]"
     ]
    },
    {
     "name": "stdout",
     "output_type": "stream",
     "text": [
      "Wed Jul 27 08:48:08 2022\n",
      "loss nan nan nan, ade1 nan, fde1 nan, ade nan, fde nan\n",
      "\n",
      "{'cls_loss': tensor(nan, device='cuda:0'), 'num_cls': 0, 'reg_loss': tensor(nan, device='cuda:0'), 'num_reg': 9295, 'loss': tensor(nan, device='cuda:0')}\n",
      "Epoch 0.000, lr 0.00000, time 0.00\n"
     ]
    },
    {
     "name": "stderr",
     "output_type": "stream",
     "text": [
      "456it [03:37,  4.82it/s]"
     ]
    },
    {
     "name": "stdout",
     "output_type": "stream",
     "text": [
      "Wed Jul 27 08:48:08 2022\n",
      "loss nan nan nan, ade1 nan, fde1 nan, ade nan, fde nan\n",
      "\n",
      "{'cls_loss': tensor(nan, device='cuda:0'), 'num_cls': 0, 'reg_loss': tensor(nan, device='cuda:0'), 'num_reg': 11162, 'loss': tensor(nan, device='cuda:0')}\n",
      "Epoch 0.000, lr 0.00000, time 0.00\n",
      "Wed Jul 27 08:48:08 2022\n",
      "loss nan nan nan, ade1 nan, fde1 nan, ade nan, fde nan\n",
      "\n"
     ]
    },
    {
     "name": "stderr",
     "output_type": "stream",
     "text": [
      "457it [03:37,  3.72it/s]"
     ]
    },
    {
     "name": "stdout",
     "output_type": "stream",
     "text": [
      "{'cls_loss': tensor(nan, device='cuda:0'), 'num_cls': 0, 'reg_loss': tensor(nan, device='cuda:0'), 'num_reg': 9952, 'loss': tensor(nan, device='cuda:0')}\n",
      "Epoch 0.000, lr 0.00000, time 0.00\n",
      "Wed Jul 27 08:48:09 2022\n",
      "loss nan nan nan, ade1 nan, fde1 nan, ade nan, fde nan\n",
      "\n"
     ]
    },
    {
     "name": "stderr",
     "output_type": "stream",
     "text": [
      "458it [03:37,  3.98it/s]"
     ]
    },
    {
     "name": "stdout",
     "output_type": "stream",
     "text": [
      "{'cls_loss': tensor(nan, device='cuda:0'), 'num_cls': 0, 'reg_loss': tensor(nan, device='cuda:0'), 'num_reg': 10174, 'loss': tensor(nan, device='cuda:0')}\n",
      "Epoch 0.000, lr 0.00000, time 0.00\n",
      "Wed Jul 27 08:48:09 2022\n",
      "loss nan nan nan, ade1 nan, fde1 nan, ade nan, fde nan\n",
      "\n"
     ]
    },
    {
     "name": "stderr",
     "output_type": "stream",
     "text": [
      "459it [03:37,  4.18it/s]"
     ]
    },
    {
     "name": "stdout",
     "output_type": "stream",
     "text": [
      "{'cls_loss': tensor(nan, device='cuda:0'), 'num_cls': 0, 'reg_loss': tensor(nan, device='cuda:0'), 'num_reg': 10275, 'loss': tensor(nan, device='cuda:0')}\n",
      "Epoch 0.000, lr 0.00000, time 0.00\n",
      "Wed Jul 27 08:48:09 2022\n",
      "loss nan nan nan, ade1 nan, fde1 nan, ade nan, fde nan\n",
      "\n"
     ]
    },
    {
     "name": "stderr",
     "output_type": "stream",
     "text": [
      "460it [03:38,  4.38it/s]"
     ]
    },
    {
     "name": "stdout",
     "output_type": "stream",
     "text": [
      "{'cls_loss': tensor(nan, device='cuda:0'), 'num_cls': 0, 'reg_loss': tensor(nan, device='cuda:0'), 'num_reg': 10983, 'loss': tensor(nan, device='cuda:0')}\n",
      "Epoch 0.000, lr 0.00000, time 0.00\n",
      "Wed Jul 27 08:48:09 2022\n",
      "loss nan nan nan, ade1 nan, fde1 nan, ade nan, fde nan\n",
      "\n"
     ]
    },
    {
     "name": "stderr",
     "output_type": "stream",
     "text": [
      "461it [03:38,  4.46it/s]"
     ]
    },
    {
     "name": "stdout",
     "output_type": "stream",
     "text": [
      "{'cls_loss': tensor(nan, device='cuda:0'), 'num_cls': 0, 'reg_loss': tensor(nan, device='cuda:0'), 'num_reg': 12097, 'loss': tensor(nan, device='cuda:0')}\n",
      "Epoch 0.000, lr 0.00000, time 0.00\n",
      "Wed Jul 27 08:48:10 2022\n",
      "loss nan nan nan, ade1 nan, fde1 nan, ade nan, fde nan\n",
      "\n"
     ]
    },
    {
     "name": "stderr",
     "output_type": "stream",
     "text": [
      "462it [03:38,  4.54it/s]"
     ]
    },
    {
     "name": "stdout",
     "output_type": "stream",
     "text": [
      "{'cls_loss': tensor(nan, device='cuda:0'), 'num_cls': 0, 'reg_loss': tensor(nan, device='cuda:0'), 'num_reg': 11977, 'loss': tensor(nan, device='cuda:0')}\n",
      "Epoch 0.000, lr 0.00000, time 0.00\n",
      "Wed Jul 27 08:48:10 2022\n",
      "loss nan nan nan, ade1 nan, fde1 nan, ade nan, fde nan\n",
      "\n"
     ]
    },
    {
     "name": "stderr",
     "output_type": "stream",
     "text": [
      "463it [03:38,  4.53it/s]"
     ]
    },
    {
     "name": "stdout",
     "output_type": "stream",
     "text": [
      "{'cls_loss': tensor(nan, device='cuda:0'), 'num_cls': 0, 'reg_loss': tensor(nan, device='cuda:0'), 'num_reg': 11633, 'loss': tensor(nan, device='cuda:0')}\n",
      "Epoch 0.000, lr 0.00000, time 0.00\n",
      "Wed Jul 27 08:48:10 2022\n",
      "loss nan nan nan, ade1 nan, fde1 nan, ade nan, fde nan\n",
      "\n",
      "{'cls_loss': tensor(nan, device='cuda:0'), 'num_cls': 0, 'reg_loss': tensor(nan, device='cuda:0'), 'num_reg': 10234, 'loss': tensor(nan, device='cuda:0')}\n",
      "Epoch 0.000, lr 0.00000, time 0.00\n"
     ]
    },
    {
     "name": "stderr",
     "output_type": "stream",
     "text": [
      "464it [03:39,  4.68it/s]"
     ]
    },
    {
     "name": "stdout",
     "output_type": "stream",
     "text": [
      "Wed Jul 27 08:48:10 2022\n",
      "loss nan nan nan, ade1 nan, fde1 nan, ade nan, fde nan\n",
      "\n"
     ]
    },
    {
     "name": "stderr",
     "output_type": "stream",
     "text": [
      "465it [03:39,  4.23it/s]"
     ]
    },
    {
     "name": "stdout",
     "output_type": "stream",
     "text": [
      "{'cls_loss': tensor(nan, device='cuda:0'), 'num_cls': 0, 'reg_loss': tensor(nan, device='cuda:0'), 'num_reg': 10309, 'loss': tensor(nan, device='cuda:0')}\n",
      "Epoch 0.000, lr 0.00000, time 0.00\n",
      "Wed Jul 27 08:48:10 2022\n",
      "loss nan nan nan, ade1 nan, fde1 nan, ade nan, fde nan\n",
      "\n"
     ]
    },
    {
     "name": "stderr",
     "output_type": "stream",
     "text": [
      "466it [03:39,  4.39it/s]"
     ]
    },
    {
     "name": "stdout",
     "output_type": "stream",
     "text": [
      "{'cls_loss': tensor(nan, device='cuda:0'), 'num_cls': 0, 'reg_loss': tensor(nan, device='cuda:0'), 'num_reg': 11360, 'loss': tensor(nan, device='cuda:0')}\n",
      "Epoch 0.000, lr 0.00000, time 0.00\n",
      "Wed Jul 27 08:48:11 2022\n",
      "loss nan nan nan, ade1 nan, fde1 nan, ade nan, fde nan\n",
      "\n"
     ]
    },
    {
     "name": "stderr",
     "output_type": "stream",
     "text": [
      "467it [03:39,  4.49it/s]"
     ]
    },
    {
     "name": "stdout",
     "output_type": "stream",
     "text": [
      "{'cls_loss': tensor(nan, device='cuda:0'), 'num_cls': 0, 'reg_loss': tensor(nan, device='cuda:0'), 'num_reg': 10783, 'loss': tensor(nan, device='cuda:0')}\n",
      "Epoch 0.000, lr 0.00000, time 0.00\n",
      "Wed Jul 27 08:48:11 2022\n",
      "loss nan nan nan, ade1 nan, fde1 nan, ade nan, fde nan\n",
      "\n"
     ]
    },
    {
     "name": "stderr",
     "output_type": "stream",
     "text": [
      "468it [03:39,  4.61it/s]"
     ]
    },
    {
     "name": "stdout",
     "output_type": "stream",
     "text": [
      "{'cls_loss': tensor(nan, device='cuda:0'), 'num_cls': 0, 'reg_loss': tensor(nan, device='cuda:0'), 'num_reg': 10526, 'loss': tensor(nan, device='cuda:0')}\n",
      "Epoch 0.000, lr 0.00000, time 0.00\n",
      "Wed Jul 27 08:48:11 2022\n",
      "loss nan nan nan, ade1 nan, fde1 nan, ade nan, fde nan\n",
      "\n"
     ]
    },
    {
     "name": "stderr",
     "output_type": "stream",
     "text": [
      "469it [03:40,  4.56it/s]"
     ]
    },
    {
     "name": "stdout",
     "output_type": "stream",
     "text": [
      "{'cls_loss': tensor(nan, device='cuda:0'), 'num_cls': 0, 'reg_loss': tensor(nan, device='cuda:0'), 'num_reg': 10453, 'loss': tensor(nan, device='cuda:0')}\n",
      "Epoch 0.000, lr 0.00000, time 0.00\n",
      "Wed Jul 27 08:48:11 2022\n",
      "loss nan nan nan, ade1 nan, fde1 nan, ade nan, fde nan\n",
      "\n"
     ]
    },
    {
     "name": "stderr",
     "output_type": "stream",
     "text": [
      "470it [03:40,  4.67it/s]"
     ]
    },
    {
     "name": "stdout",
     "output_type": "stream",
     "text": [
      "{'cls_loss': tensor(nan, device='cuda:0'), 'num_cls': 0, 'reg_loss': tensor(nan, device='cuda:0'), 'num_reg': 10415, 'loss': tensor(nan, device='cuda:0')}\n",
      "Epoch 0.000, lr 0.00000, time 0.00\n",
      "Wed Jul 27 08:48:11 2022\n",
      "loss nan nan nan, ade1 nan, fde1 nan, ade nan, fde nan\n",
      "\n"
     ]
    },
    {
     "name": "stderr",
     "output_type": "stream",
     "text": [
      "471it [03:40,  4.64it/s]"
     ]
    },
    {
     "name": "stdout",
     "output_type": "stream",
     "text": [
      "{'cls_loss': tensor(nan, device='cuda:0'), 'num_cls': 0, 'reg_loss': tensor(nan, device='cuda:0'), 'num_reg': 10197, 'loss': tensor(nan, device='cuda:0')}\n",
      "Epoch 0.000, lr 0.00000, time 0.00\n",
      "Wed Jul 27 08:48:12 2022\n",
      "loss nan nan nan, ade1 nan, fde1 nan, ade nan, fde nan\n",
      "\n"
     ]
    },
    {
     "name": "stderr",
     "output_type": "stream",
     "text": [
      "472it [03:40,  4.71it/s]"
     ]
    },
    {
     "name": "stdout",
     "output_type": "stream",
     "text": [
      "{'cls_loss': tensor(nan, device='cuda:0'), 'num_cls': 0, 'reg_loss': tensor(nan, device='cuda:0'), 'num_reg': 11788, 'loss': tensor(nan, device='cuda:0')}\n",
      "Epoch 0.000, lr 0.00000, time 0.00\n",
      "Wed Jul 27 08:48:12 2022\n",
      "loss nan nan nan, ade1 nan, fde1 nan, ade nan, fde nan\n",
      "\n"
     ]
    },
    {
     "name": "stderr",
     "output_type": "stream",
     "text": [
      "473it [03:40,  4.70it/s]"
     ]
    },
    {
     "name": "stdout",
     "output_type": "stream",
     "text": [
      "{'cls_loss': tensor(nan, device='cuda:0'), 'num_cls': 0, 'reg_loss': tensor(nan, device='cuda:0'), 'num_reg': 9491, 'loss': tensor(nan, device='cuda:0')}\n",
      "Epoch 0.000, lr 0.00000, time 0.00\n",
      "Wed Jul 27 08:48:12 2022\n",
      "loss nan nan nan, ade1 nan, fde1 nan, ade nan, fde nan\n",
      "\n"
     ]
    },
    {
     "name": "stderr",
     "output_type": "stream",
     "text": [
      "474it [03:41,  2.60it/s]"
     ]
    },
    {
     "name": "stdout",
     "output_type": "stream",
     "text": [
      "{'cls_loss': tensor(nan, device='cuda:0'), 'num_cls': 0, 'reg_loss': tensor(nan, device='cuda:0'), 'num_reg': 11850, 'loss': tensor(nan, device='cuda:0')}\n",
      "Epoch 0.000, lr 0.00000, time 0.00\n",
      "Wed Jul 27 08:48:13 2022\n",
      "loss nan nan nan, ade1 nan, fde1 nan, ade nan, fde nan\n",
      "\n"
     ]
    },
    {
     "name": "stderr",
     "output_type": "stream",
     "text": [
      "475it [03:42,  2.98it/s]"
     ]
    },
    {
     "name": "stdout",
     "output_type": "stream",
     "text": [
      "{'cls_loss': tensor(nan, device='cuda:0'), 'num_cls': 0, 'reg_loss': tensor(nan, device='cuda:0'), 'num_reg': 10998, 'loss': tensor(nan, device='cuda:0')}\n",
      "Epoch 0.000, lr 0.00000, time 0.00\n",
      "Wed Jul 27 08:48:13 2022\n",
      "loss nan nan nan, ade1 nan, fde1 nan, ade nan, fde nan\n",
      "\n"
     ]
    },
    {
     "name": "stderr",
     "output_type": "stream",
     "text": [
      "476it [03:42,  3.37it/s]"
     ]
    },
    {
     "name": "stdout",
     "output_type": "stream",
     "text": [
      "{'cls_loss': tensor(nan, device='cuda:0'), 'num_cls': 0, 'reg_loss': tensor(nan, device='cuda:0'), 'num_reg': 10244, 'loss': tensor(nan, device='cuda:0')}\n",
      "Epoch 0.000, lr 0.00000, time 0.00\n",
      "Wed Jul 27 08:48:13 2022\n",
      "loss nan nan nan, ade1 nan, fde1 nan, ade nan, fde nan\n",
      "\n"
     ]
    },
    {
     "name": "stderr",
     "output_type": "stream",
     "text": [
      "477it [03:42,  3.00it/s]"
     ]
    },
    {
     "name": "stdout",
     "output_type": "stream",
     "text": [
      "{'cls_loss': tensor(nan, device='cuda:0'), 'num_cls': 0, 'reg_loss': tensor(nan, device='cuda:0'), 'num_reg': 8963, 'loss': tensor(nan, device='cuda:0')}\n",
      "Epoch 0.000, lr 0.00000, time 0.00\n",
      "Wed Jul 27 08:48:14 2022\n",
      "loss nan nan nan, ade1 nan, fde1 nan, ade nan, fde nan\n",
      "\n"
     ]
    },
    {
     "name": "stderr",
     "output_type": "stream",
     "text": [
      "478it [03:42,  3.35it/s]"
     ]
    },
    {
     "name": "stdout",
     "output_type": "stream",
     "text": [
      "{'cls_loss': tensor(nan, device='cuda:0'), 'num_cls': 0, 'reg_loss': tensor(nan, device='cuda:0'), 'num_reg': 10529, 'loss': tensor(nan, device='cuda:0')}\n",
      "Epoch 0.000, lr 0.00000, time 0.00\n",
      "Wed Jul 27 08:48:14 2022\n",
      "loss nan nan nan, ade1 nan, fde1 nan, ade nan, fde nan\n",
      "\n"
     ]
    },
    {
     "name": "stderr",
     "output_type": "stream",
     "text": [
      "479it [03:43,  3.37it/s]"
     ]
    },
    {
     "name": "stdout",
     "output_type": "stream",
     "text": [
      "{'cls_loss': tensor(nan, device='cuda:0'), 'num_cls': 0, 'reg_loss': tensor(nan, device='cuda:0'), 'num_reg': 9368, 'loss': tensor(nan, device='cuda:0')}\n",
      "Epoch 0.000, lr 0.00000, time 0.00\n",
      "Wed Jul 27 08:48:14 2022\n",
      "loss nan nan nan, ade1 nan, fde1 nan, ade nan, fde nan\n",
      "\n"
     ]
    },
    {
     "name": "stderr",
     "output_type": "stream",
     "text": [
      "480it [03:43,  3.68it/s]"
     ]
    },
    {
     "name": "stdout",
     "output_type": "stream",
     "text": [
      "{'cls_loss': tensor(nan, device='cuda:0'), 'num_cls': 0, 'reg_loss': tensor(nan, device='cuda:0'), 'num_reg': 12621, 'loss': tensor(nan, device='cuda:0')}\n",
      "Epoch 0.000, lr 0.00000, time 0.00\n",
      "Wed Jul 27 08:48:14 2022\n",
      "loss nan nan nan, ade1 nan, fde1 nan, ade nan, fde nan\n",
      "\n"
     ]
    },
    {
     "name": "stderr",
     "output_type": "stream",
     "text": [
      "481it [03:43,  3.89it/s]"
     ]
    },
    {
     "name": "stdout",
     "output_type": "stream",
     "text": [
      "{'cls_loss': tensor(nan, device='cuda:0'), 'num_cls': 0, 'reg_loss': tensor(nan, device='cuda:0'), 'num_reg': 11269, 'loss': tensor(nan, device='cuda:0')}\n",
      "Epoch 0.000, lr 0.00000, time 0.00\n",
      "Wed Jul 27 08:48:15 2022\n",
      "loss nan nan nan, ade1 nan, fde1 nan, ade nan, fde nan\n",
      "\n"
     ]
    },
    {
     "name": "stderr",
     "output_type": "stream",
     "text": [
      "482it [03:43,  3.75it/s]"
     ]
    },
    {
     "name": "stdout",
     "output_type": "stream",
     "text": [
      "{'cls_loss': tensor(nan, device='cuda:0'), 'num_cls': 0, 'reg_loss': tensor(nan, device='cuda:0'), 'num_reg': 13086, 'loss': tensor(nan, device='cuda:0')}\n",
      "Epoch 0.000, lr 0.00000, time 0.00\n",
      "Wed Jul 27 08:48:15 2022\n",
      "loss nan nan nan, ade1 nan, fde1 nan, ade nan, fde nan\n",
      "\n"
     ]
    },
    {
     "name": "stderr",
     "output_type": "stream",
     "text": [
      "483it [03:44,  3.89it/s]"
     ]
    },
    {
     "name": "stdout",
     "output_type": "stream",
     "text": [
      "{'cls_loss': tensor(nan, device='cuda:0'), 'num_cls': 0, 'reg_loss': tensor(nan, device='cuda:0'), 'num_reg': 11951, 'loss': tensor(nan, device='cuda:0')}\n",
      "Epoch 0.000, lr 0.00000, time 0.00\n",
      "Wed Jul 27 08:48:15 2022\n",
      "loss nan nan nan, ade1 nan, fde1 nan, ade nan, fde nan\n",
      "\n"
     ]
    },
    {
     "name": "stderr",
     "output_type": "stream",
     "text": [
      "484it [03:44,  4.08it/s]"
     ]
    },
    {
     "name": "stdout",
     "output_type": "stream",
     "text": [
      "{'cls_loss': tensor(nan, device='cuda:0'), 'num_cls': 0, 'reg_loss': tensor(nan, device='cuda:0'), 'num_reg': 11323, 'loss': tensor(nan, device='cuda:0')}\n",
      "Epoch 0.000, lr 0.00000, time 0.00\n",
      "Wed Jul 27 08:48:15 2022\n",
      "loss nan nan nan, ade1 nan, fde1 nan, ade nan, fde nan\n",
      "\n"
     ]
    },
    {
     "name": "stderr",
     "output_type": "stream",
     "text": [
      "485it [03:44,  3.86it/s]"
     ]
    },
    {
     "name": "stdout",
     "output_type": "stream",
     "text": [
      "{'cls_loss': tensor(nan, device='cuda:0'), 'num_cls': 0, 'reg_loss': tensor(nan, device='cuda:0'), 'num_reg': 11386, 'loss': tensor(nan, device='cuda:0')}\n",
      "Epoch 0.000, lr 0.00000, time 0.00\n",
      "Wed Jul 27 08:48:16 2022\n",
      "loss nan nan nan, ade1 nan, fde1 nan, ade nan, fde nan\n",
      "\n"
     ]
    },
    {
     "name": "stderr",
     "output_type": "stream",
     "text": [
      "486it [03:44,  3.77it/s]"
     ]
    },
    {
     "name": "stdout",
     "output_type": "stream",
     "text": [
      "{'cls_loss': tensor(nan, device='cuda:0'), 'num_cls': 0, 'reg_loss': tensor(nan, device='cuda:0'), 'num_reg': 9786, 'loss': tensor(nan, device='cuda:0')}\n",
      "Epoch 0.000, lr 0.00000, time 0.00\n",
      "Wed Jul 27 08:48:16 2022\n",
      "loss nan nan nan, ade1 nan, fde1 nan, ade nan, fde nan\n",
      "\n"
     ]
    },
    {
     "name": "stderr",
     "output_type": "stream",
     "text": [
      "487it [03:45,  3.94it/s]"
     ]
    },
    {
     "name": "stdout",
     "output_type": "stream",
     "text": [
      "{'cls_loss': tensor(nan, device='cuda:0'), 'num_cls': 0, 'reg_loss': tensor(nan, device='cuda:0'), 'num_reg': 12541, 'loss': tensor(nan, device='cuda:0')}\n",
      "Epoch 0.000, lr 0.00000, time 0.00\n",
      "Wed Jul 27 08:48:16 2022\n",
      "loss nan nan nan, ade1 nan, fde1 nan, ade nan, fde nan\n",
      "\n"
     ]
    },
    {
     "name": "stderr",
     "output_type": "stream",
     "text": [
      "488it [03:45,  4.15it/s]"
     ]
    },
    {
     "name": "stdout",
     "output_type": "stream",
     "text": [
      "{'cls_loss': tensor(nan, device='cuda:0'), 'num_cls': 0, 'reg_loss': tensor(nan, device='cuda:0'), 'num_reg': 12525, 'loss': tensor(nan, device='cuda:0')}\n",
      "Epoch 0.000, lr 0.00000, time 0.00\n",
      "Wed Jul 27 08:48:16 2022\n",
      "loss nan nan nan, ade1 nan, fde1 nan, ade nan, fde nan\n",
      "\n"
     ]
    },
    {
     "name": "stderr",
     "output_type": "stream",
     "text": [
      "489it [03:45,  4.19it/s]"
     ]
    },
    {
     "name": "stdout",
     "output_type": "stream",
     "text": [
      "{'cls_loss': tensor(nan, device='cuda:0'), 'num_cls': 0, 'reg_loss': tensor(nan, device='cuda:0'), 'num_reg': 11049, 'loss': tensor(nan, device='cuda:0')}\n",
      "Epoch 0.000, lr 0.00000, time 0.00\n",
      "Wed Jul 27 08:48:17 2022\n",
      "loss nan nan nan, ade1 nan, fde1 nan, ade nan, fde nan\n",
      "\n"
     ]
    },
    {
     "name": "stderr",
     "output_type": "stream",
     "text": [
      "490it [03:45,  4.37it/s]"
     ]
    },
    {
     "name": "stdout",
     "output_type": "stream",
     "text": [
      "{'cls_loss': tensor(nan, device='cuda:0'), 'num_cls': 0, 'reg_loss': tensor(nan, device='cuda:0'), 'num_reg': 11816, 'loss': tensor(nan, device='cuda:0')}\n",
      "Epoch 0.000, lr 0.00000, time 0.00\n",
      "Wed Jul 27 08:48:17 2022\n",
      "loss nan nan nan, ade1 nan, fde1 nan, ade nan, fde nan\n",
      "\n"
     ]
    },
    {
     "name": "stderr",
     "output_type": "stream",
     "text": [
      "491it [03:45,  4.39it/s]"
     ]
    },
    {
     "name": "stdout",
     "output_type": "stream",
     "text": [
      "{'cls_loss': tensor(nan, device='cuda:0'), 'num_cls': 0, 'reg_loss': tensor(nan, device='cuda:0'), 'num_reg': 11504, 'loss': tensor(nan, device='cuda:0')}\n",
      "Epoch 0.000, lr 0.00000, time 0.00\n",
      "Wed Jul 27 08:48:17 2022\n",
      "loss nan nan nan, ade1 nan, fde1 nan, ade nan, fde nan\n",
      "\n"
     ]
    },
    {
     "name": "stderr",
     "output_type": "stream",
     "text": [
      "492it [03:46,  4.53it/s]"
     ]
    },
    {
     "name": "stdout",
     "output_type": "stream",
     "text": [
      "{'cls_loss': tensor(nan, device='cuda:0'), 'num_cls': 0, 'reg_loss': tensor(nan, device='cuda:0'), 'num_reg': 11095, 'loss': tensor(nan, device='cuda:0')}\n",
      "Epoch 0.000, lr 0.00000, time 0.00\n",
      "Wed Jul 27 08:48:17 2022\n",
      "loss nan nan nan, ade1 nan, fde1 nan, ade nan, fde nan\n",
      "\n"
     ]
    },
    {
     "name": "stderr",
     "output_type": "stream",
     "text": [
      "493it [03:46,  4.51it/s]"
     ]
    },
    {
     "name": "stdout",
     "output_type": "stream",
     "text": [
      "{'cls_loss': tensor(nan, device='cuda:0'), 'num_cls': 0, 'reg_loss': tensor(nan, device='cuda:0'), 'num_reg': 11605, 'loss': tensor(nan, device='cuda:0')}\n",
      "Epoch 0.000, lr 0.00000, time 0.00\n",
      "Wed Jul 27 08:48:18 2022\n",
      "loss nan nan nan, ade1 nan, fde1 nan, ade nan, fde nan\n",
      "\n"
     ]
    },
    {
     "name": "stderr",
     "output_type": "stream",
     "text": [
      "494it [03:46,  4.63it/s]"
     ]
    },
    {
     "name": "stdout",
     "output_type": "stream",
     "text": [
      "{'cls_loss': tensor(nan, device='cuda:0'), 'num_cls': 0, 'reg_loss': tensor(nan, device='cuda:0'), 'num_reg': 10182, 'loss': tensor(nan, device='cuda:0')}\n",
      "Epoch 0.000, lr 0.00000, time 0.00\n",
      "Wed Jul 27 08:48:18 2022\n",
      "loss nan nan nan, ade1 nan, fde1 nan, ade nan, fde nan\n",
      "\n"
     ]
    },
    {
     "name": "stderr",
     "output_type": "stream",
     "text": [
      "495it [03:46,  4.60it/s]"
     ]
    },
    {
     "name": "stdout",
     "output_type": "stream",
     "text": [
      "{'cls_loss': tensor(nan, device='cuda:0'), 'num_cls': 0, 'reg_loss': tensor(nan, device='cuda:0'), 'num_reg': 12331, 'loss': tensor(nan, device='cuda:0')}\n",
      "Epoch 0.000, lr 0.00000, time 0.00\n",
      "Wed Jul 27 08:48:18 2022\n",
      "loss nan nan nan, ade1 nan, fde1 nan, ade nan, fde nan\n",
      "\n"
     ]
    },
    {
     "name": "stderr",
     "output_type": "stream",
     "text": [
      "496it [03:47,  4.66it/s]"
     ]
    },
    {
     "name": "stdout",
     "output_type": "stream",
     "text": [
      "{'cls_loss': tensor(nan, device='cuda:0'), 'num_cls': 0, 'reg_loss': tensor(nan, device='cuda:0'), 'num_reg': 11787, 'loss': tensor(nan, device='cuda:0')}\n",
      "Epoch 0.000, lr 0.00000, time 0.00\n",
      "Wed Jul 27 08:48:18 2022\n",
      "loss nan nan nan, ade1 nan, fde1 nan, ade nan, fde nan\n",
      "\n"
     ]
    },
    {
     "name": "stderr",
     "output_type": "stream",
     "text": [
      "497it [03:47,  3.26it/s]"
     ]
    },
    {
     "name": "stdout",
     "output_type": "stream",
     "text": [
      "{'cls_loss': tensor(nan, device='cuda:0'), 'num_cls': 0, 'reg_loss': tensor(nan, device='cuda:0'), 'num_reg': 9842, 'loss': tensor(nan, device='cuda:0')}\n",
      "Epoch 0.000, lr 0.00000, time 0.00\n",
      "Wed Jul 27 08:48:19 2022\n",
      "loss nan nan nan, ade1 nan, fde1 nan, ade nan, fde nan\n",
      "\n"
     ]
    },
    {
     "name": "stderr",
     "output_type": "stream",
     "text": [
      "498it [03:47,  3.32it/s]"
     ]
    },
    {
     "name": "stdout",
     "output_type": "stream",
     "text": [
      "{'cls_loss': tensor(nan, device='cuda:0'), 'num_cls': 0, 'reg_loss': tensor(nan, device='cuda:0'), 'num_reg': 13362, 'loss': tensor(nan, device='cuda:0')}\n",
      "Epoch 0.000, lr 0.00000, time 0.00\n",
      "Wed Jul 27 08:48:19 2022\n",
      "loss nan nan nan, ade1 nan, fde1 nan, ade nan, fde nan\n",
      "\n"
     ]
    },
    {
     "name": "stderr",
     "output_type": "stream",
     "text": [
      "499it [03:48,  3.62it/s]"
     ]
    },
    {
     "name": "stdout",
     "output_type": "stream",
     "text": [
      "{'cls_loss': tensor(nan, device='cuda:0'), 'num_cls': 0, 'reg_loss': tensor(nan, device='cuda:0'), 'num_reg': 11372, 'loss': tensor(nan, device='cuda:0')}\n",
      "Epoch 0.000, lr 0.00000, time 0.00\n",
      "Wed Jul 27 08:48:19 2022\n",
      "loss nan nan nan, ade1 nan, fde1 nan, ade nan, fde nan\n",
      "\n"
     ]
    },
    {
     "name": "stderr",
     "output_type": "stream",
     "text": [
      "500it [03:48,  3.72it/s]"
     ]
    },
    {
     "name": "stdout",
     "output_type": "stream",
     "text": [
      "{'cls_loss': tensor(nan, device='cuda:0'), 'num_cls': 0, 'reg_loss': tensor(nan, device='cuda:0'), 'num_reg': 11008, 'loss': tensor(nan, device='cuda:0')}\n",
      "Epoch 0.000, lr 0.00000, time 0.00\n",
      "Wed Jul 27 08:48:19 2022\n",
      "loss nan nan nan, ade1 nan, fde1 nan, ade nan, fde nan\n",
      "\n"
     ]
    },
    {
     "name": "stderr",
     "output_type": "stream",
     "text": [
      "501it [03:48,  3.92it/s]"
     ]
    },
    {
     "name": "stdout",
     "output_type": "stream",
     "text": [
      "{'cls_loss': tensor(nan, device='cuda:0'), 'num_cls': 0, 'reg_loss': tensor(nan, device='cuda:0'), 'num_reg': 11134, 'loss': tensor(nan, device='cuda:0')}\n",
      "Epoch 0.000, lr 0.00000, time 0.00\n",
      "Wed Jul 27 08:48:20 2022\n",
      "loss nan nan nan, ade1 nan, fde1 nan, ade nan, fde nan\n",
      "\n"
     ]
    },
    {
     "name": "stderr",
     "output_type": "stream",
     "text": [
      "502it [03:48,  4.17it/s]"
     ]
    },
    {
     "name": "stdout",
     "output_type": "stream",
     "text": [
      "{'cls_loss': tensor(nan, device='cuda:0'), 'num_cls': 0, 'reg_loss': tensor(nan, device='cuda:0'), 'num_reg': 9958, 'loss': tensor(nan, device='cuda:0')}\n",
      "Epoch 0.000, lr 0.00000, time 0.00\n",
      "Wed Jul 27 08:48:20 2022\n",
      "loss nan nan nan, ade1 nan, fde1 nan, ade nan, fde nan\n",
      "\n"
     ]
    },
    {
     "name": "stderr",
     "output_type": "stream",
     "text": [
      "503it [03:49,  3.91it/s]"
     ]
    },
    {
     "name": "stdout",
     "output_type": "stream",
     "text": [
      "{'cls_loss': tensor(nan, device='cuda:0'), 'num_cls': 0, 'reg_loss': tensor(nan, device='cuda:0'), 'num_reg': 9180, 'loss': tensor(nan, device='cuda:0')}\n",
      "Epoch 0.000, lr 0.00000, time 0.00\n",
      "Wed Jul 27 08:48:20 2022\n",
      "loss nan nan nan, ade1 nan, fde1 nan, ade nan, fde nan\n",
      "\n"
     ]
    },
    {
     "name": "stderr",
     "output_type": "stream",
     "text": [
      "504it [03:49,  3.96it/s]"
     ]
    },
    {
     "name": "stdout",
     "output_type": "stream",
     "text": [
      "{'cls_loss': tensor(nan, device='cuda:0'), 'num_cls': 0, 'reg_loss': tensor(nan, device='cuda:0'), 'num_reg': 11908, 'loss': tensor(nan, device='cuda:0')}\n",
      "Epoch 0.000, lr 0.00000, time 0.00\n",
      "Wed Jul 27 08:48:20 2022\n",
      "loss nan nan nan, ade1 nan, fde1 nan, ade nan, fde nan\n",
      "\n"
     ]
    },
    {
     "name": "stderr",
     "output_type": "stream",
     "text": [
      "505it [03:49,  4.10it/s]"
     ]
    },
    {
     "name": "stdout",
     "output_type": "stream",
     "text": [
      "{'cls_loss': tensor(nan, device='cuda:0'), 'num_cls': 0, 'reg_loss': tensor(nan, device='cuda:0'), 'num_reg': 10970, 'loss': tensor(nan, device='cuda:0')}\n",
      "Epoch 0.000, lr 0.00000, time 0.00\n",
      "Wed Jul 27 08:48:21 2022\n",
      "loss nan nan nan, ade1 nan, fde1 nan, ade nan, fde nan\n",
      "\n"
     ]
    },
    {
     "name": "stderr",
     "output_type": "stream",
     "text": [
      "506it [03:49,  3.93it/s]"
     ]
    },
    {
     "name": "stdout",
     "output_type": "stream",
     "text": [
      "{'cls_loss': tensor(nan, device='cuda:0'), 'num_cls': 0, 'reg_loss': tensor(nan, device='cuda:0'), 'num_reg': 9659, 'loss': tensor(nan, device='cuda:0')}\n",
      "Epoch 0.000, lr 0.00000, time 0.00\n",
      "Wed Jul 27 08:48:21 2022\n",
      "loss nan nan nan, ade1 nan, fde1 nan, ade nan, fde nan\n",
      "\n"
     ]
    },
    {
     "name": "stderr",
     "output_type": "stream",
     "text": [
      "507it [03:50,  4.03it/s]"
     ]
    },
    {
     "name": "stdout",
     "output_type": "stream",
     "text": [
      "{'cls_loss': tensor(nan, device='cuda:0'), 'num_cls': 0, 'reg_loss': tensor(nan, device='cuda:0'), 'num_reg': 10443, 'loss': tensor(nan, device='cuda:0')}\n",
      "Epoch 0.000, lr 0.00000, time 0.00\n",
      "Wed Jul 27 08:48:21 2022\n",
      "loss nan nan nan, ade1 nan, fde1 nan, ade nan, fde nan\n",
      "\n"
     ]
    },
    {
     "name": "stderr",
     "output_type": "stream",
     "text": [
      "508it [03:50,  4.09it/s]"
     ]
    },
    {
     "name": "stdout",
     "output_type": "stream",
     "text": [
      "{'cls_loss': tensor(nan, device='cuda:0'), 'num_cls': 0, 'reg_loss': tensor(nan, device='cuda:0'), 'num_reg': 12262, 'loss': tensor(nan, device='cuda:0')}\n",
      "Epoch 0.000, lr 0.00000, time 0.00\n",
      "Wed Jul 27 08:48:21 2022\n",
      "loss nan nan nan, ade1 nan, fde1 nan, ade nan, fde nan\n",
      "\n"
     ]
    },
    {
     "name": "stderr",
     "output_type": "stream",
     "text": [
      "509it [03:50,  4.18it/s]"
     ]
    },
    {
     "name": "stdout",
     "output_type": "stream",
     "text": [
      "{'cls_loss': tensor(nan, device='cuda:0'), 'num_cls': 0, 'reg_loss': tensor(nan, device='cuda:0'), 'num_reg': 10784, 'loss': tensor(nan, device='cuda:0')}\n",
      "Epoch 0.000, lr 0.00000, time 0.00\n",
      "Wed Jul 27 08:48:22 2022\n",
      "loss nan nan nan, ade1 nan, fde1 nan, ade nan, fde nan\n",
      "\n"
     ]
    },
    {
     "name": "stderr",
     "output_type": "stream",
     "text": [
      "510it [03:50,  4.31it/s]"
     ]
    },
    {
     "name": "stdout",
     "output_type": "stream",
     "text": [
      "{'cls_loss': tensor(nan, device='cuda:0'), 'num_cls': 0, 'reg_loss': tensor(nan, device='cuda:0'), 'num_reg': 10494, 'loss': tensor(nan, device='cuda:0')}\n",
      "Epoch 0.000, lr 0.00000, time 0.00\n",
      "Wed Jul 27 08:48:22 2022\n",
      "loss nan nan nan, ade1 nan, fde1 nan, ade nan, fde nan\n",
      "\n"
     ]
    },
    {
     "name": "stderr",
     "output_type": "stream",
     "text": [
      "511it [03:50,  4.33it/s]"
     ]
    },
    {
     "name": "stdout",
     "output_type": "stream",
     "text": [
      "{'cls_loss': tensor(nan, device='cuda:0'), 'num_cls': 0, 'reg_loss': tensor(nan, device='cuda:0'), 'num_reg': 10100, 'loss': tensor(nan, device='cuda:0')}\n",
      "Epoch 0.000, lr 0.00000, time 0.00\n",
      "Wed Jul 27 08:48:22 2022\n",
      "loss nan nan nan, ade1 nan, fde1 nan, ade nan, fde nan\n",
      "\n"
     ]
    },
    {
     "name": "stderr",
     "output_type": "stream",
     "text": [
      "512it [03:51,  4.32it/s]"
     ]
    },
    {
     "name": "stdout",
     "output_type": "stream",
     "text": [
      "{'cls_loss': tensor(nan, device='cuda:0'), 'num_cls': 0, 'reg_loss': tensor(nan, device='cuda:0'), 'num_reg': 11651, 'loss': tensor(nan, device='cuda:0')}\n",
      "Epoch 0.000, lr 0.00000, time 0.00\n",
      "Wed Jul 27 08:48:22 2022\n",
      "loss nan nan nan, ade1 nan, fde1 nan, ade nan, fde nan\n",
      "\n"
     ]
    },
    {
     "name": "stderr",
     "output_type": "stream",
     "text": [
      "513it [03:51,  4.24it/s]"
     ]
    },
    {
     "name": "stdout",
     "output_type": "stream",
     "text": [
      "{'cls_loss': tensor(nan, device='cuda:0'), 'num_cls': 0, 'reg_loss': tensor(nan, device='cuda:0'), 'num_reg': 11710, 'loss': tensor(nan, device='cuda:0')}\n",
      "Epoch 0.000, lr 0.00000, time 0.00\n",
      "Wed Jul 27 08:48:23 2022\n",
      "loss nan nan nan, ade1 nan, fde1 nan, ade nan, fde nan\n",
      "\n"
     ]
    },
    {
     "name": "stderr",
     "output_type": "stream",
     "text": [
      "514it [03:51,  4.36it/s]"
     ]
    },
    {
     "name": "stdout",
     "output_type": "stream",
     "text": [
      "{'cls_loss': tensor(nan, device='cuda:0'), 'num_cls': 0, 'reg_loss': tensor(nan, device='cuda:0'), 'num_reg': 12203, 'loss': tensor(nan, device='cuda:0')}\n",
      "Epoch 0.000, lr 0.00000, time 0.00\n",
      "Wed Jul 27 08:48:23 2022\n",
      "loss nan nan nan, ade1 nan, fde1 nan, ade nan, fde nan\n",
      "\n"
     ]
    },
    {
     "name": "stderr",
     "output_type": "stream",
     "text": [
      "515it [03:52,  2.82it/s]"
     ]
    },
    {
     "name": "stdout",
     "output_type": "stream",
     "text": [
      "{'cls_loss': tensor(nan, device='cuda:0'), 'num_cls': 0, 'reg_loss': tensor(nan, device='cuda:0'), 'num_reg': 10984, 'loss': tensor(nan, device='cuda:0')}\n",
      "Epoch 0.000, lr 0.00000, time 0.00\n",
      "Wed Jul 27 08:48:23 2022\n",
      "loss nan nan nan, ade1 nan, fde1 nan, ade nan, fde nan\n",
      "\n"
     ]
    },
    {
     "name": "stderr",
     "output_type": "stream",
     "text": [
      "516it [03:52,  3.15it/s]"
     ]
    },
    {
     "name": "stdout",
     "output_type": "stream",
     "text": [
      "{'cls_loss': tensor(nan, device='cuda:0'), 'num_cls': 0, 'reg_loss': tensor(nan, device='cuda:0'), 'num_reg': 11727, 'loss': tensor(nan, device='cuda:0')}\n",
      "Epoch 0.000, lr 0.00000, time 0.00\n",
      "Wed Jul 27 08:48:24 2022\n",
      "loss nan nan nan, ade1 nan, fde1 nan, ade nan, fde nan\n",
      "\n"
     ]
    },
    {
     "name": "stderr",
     "output_type": "stream",
     "text": [
      "517it [03:52,  3.47it/s]"
     ]
    },
    {
     "name": "stdout",
     "output_type": "stream",
     "text": [
      "{'cls_loss': tensor(nan, device='cuda:0'), 'num_cls': 0, 'reg_loss': tensor(nan, device='cuda:0'), 'num_reg': 10754, 'loss': tensor(nan, device='cuda:0')}\n",
      "Epoch 0.000, lr 0.00000, time 0.00\n",
      "Wed Jul 27 08:48:24 2022\n",
      "loss nan nan nan, ade1 nan, fde1 nan, ade nan, fde nan\n",
      "\n"
     ]
    },
    {
     "name": "stderr",
     "output_type": "stream",
     "text": [
      "518it [03:52,  3.79it/s]"
     ]
    },
    {
     "name": "stdout",
     "output_type": "stream",
     "text": [
      "{'cls_loss': tensor(nan, device='cuda:0'), 'num_cls': 0, 'reg_loss': tensor(nan, device='cuda:0'), 'num_reg': 9159, 'loss': tensor(nan, device='cuda:0')}\n",
      "Epoch 0.000, lr 0.00000, time 0.00\n",
      "Wed Jul 27 08:48:24 2022\n",
      "loss nan nan nan, ade1 nan, fde1 nan, ade nan, fde nan\n",
      "\n"
     ]
    },
    {
     "name": "stderr",
     "output_type": "stream",
     "text": [
      "519it [03:53,  2.86it/s]"
     ]
    },
    {
     "name": "stdout",
     "output_type": "stream",
     "text": [
      "{'cls_loss': tensor(nan, device='cuda:0'), 'num_cls': 0, 'reg_loss': tensor(nan, device='cuda:0'), 'num_reg': 11379, 'loss': tensor(nan, device='cuda:0')}\n",
      "Epoch 0.000, lr 0.00000, time 0.00\n",
      "Wed Jul 27 08:48:25 2022\n",
      "loss nan nan nan, ade1 nan, fde1 nan, ade nan, fde nan\n",
      "\n"
     ]
    },
    {
     "name": "stderr",
     "output_type": "stream",
     "text": [
      "520it [03:53,  2.67it/s]"
     ]
    },
    {
     "name": "stdout",
     "output_type": "stream",
     "text": [
      "{'cls_loss': tensor(nan, device='cuda:0'), 'num_cls': 0, 'reg_loss': tensor(nan, device='cuda:0'), 'num_reg': 8613, 'loss': tensor(nan, device='cuda:0')}\n",
      "Epoch 0.000, lr 0.00000, time 0.00\n",
      "Wed Jul 27 08:48:25 2022\n",
      "loss nan nan nan, ade1 nan, fde1 nan, ade nan, fde nan\n",
      "\n"
     ]
    },
    {
     "name": "stderr",
     "output_type": "stream",
     "text": [
      "521it [03:54,  2.87it/s]"
     ]
    },
    {
     "name": "stdout",
     "output_type": "stream",
     "text": [
      "{'cls_loss': tensor(nan, device='cuda:0'), 'num_cls': 0, 'reg_loss': tensor(nan, device='cuda:0'), 'num_reg': 12244, 'loss': tensor(nan, device='cuda:0')}\n",
      "Epoch 0.000, lr 0.00000, time 0.00\n",
      "Wed Jul 27 08:48:25 2022\n",
      "loss nan nan nan, ade1 nan, fde1 nan, ade nan, fde nan\n",
      "\n"
     ]
    },
    {
     "name": "stderr",
     "output_type": "stream",
     "text": [
      "522it [03:54,  3.15it/s]"
     ]
    },
    {
     "name": "stdout",
     "output_type": "stream",
     "text": [
      "{'cls_loss': tensor(nan, device='cuda:0'), 'num_cls': 0, 'reg_loss': tensor(nan, device='cuda:0'), 'num_reg': 11861, 'loss': tensor(nan, device='cuda:0')}\n",
      "Epoch 0.000, lr 0.00000, time 0.00\n",
      "Wed Jul 27 08:48:26 2022\n",
      "loss nan nan nan, ade1 nan, fde1 nan, ade nan, fde nan\n",
      "\n"
     ]
    },
    {
     "name": "stderr",
     "output_type": "stream",
     "text": [
      "523it [03:54,  3.43it/s]"
     ]
    },
    {
     "name": "stdout",
     "output_type": "stream",
     "text": [
      "{'cls_loss': tensor(nan, device='cuda:0'), 'num_cls': 0, 'reg_loss': tensor(nan, device='cuda:0'), 'num_reg': 11154, 'loss': tensor(nan, device='cuda:0')}\n",
      "Epoch 0.000, lr 0.00000, time 0.00\n",
      "Wed Jul 27 08:48:26 2022\n",
      "loss nan nan nan, ade1 nan, fde1 nan, ade nan, fde nan\n",
      "\n"
     ]
    },
    {
     "name": "stderr",
     "output_type": "stream",
     "text": [
      "524it [03:54,  3.56it/s]"
     ]
    },
    {
     "name": "stdout",
     "output_type": "stream",
     "text": [
      "{'cls_loss': tensor(nan, device='cuda:0'), 'num_cls': 0, 'reg_loss': tensor(nan, device='cuda:0'), 'num_reg': 11500, 'loss': tensor(nan, device='cuda:0')}\n",
      "Epoch 0.000, lr 0.00000, time 0.00\n",
      "Wed Jul 27 08:48:26 2022\n",
      "loss nan nan nan, ade1 nan, fde1 nan, ade nan, fde nan\n",
      "\n"
     ]
    },
    {
     "name": "stderr",
     "output_type": "stream",
     "text": [
      "525it [03:55,  3.47it/s]"
     ]
    },
    {
     "name": "stdout",
     "output_type": "stream",
     "text": [
      "{'cls_loss': tensor(nan, device='cuda:0'), 'num_cls': 0, 'reg_loss': tensor(nan, device='cuda:0'), 'num_reg': 14220, 'loss': tensor(nan, device='cuda:0')}\n",
      "Epoch 0.000, lr 0.00000, time 0.00\n",
      "Wed Jul 27 08:48:26 2022\n",
      "loss nan nan nan, ade1 nan, fde1 nan, ade nan, fde nan\n",
      "\n"
     ]
    },
    {
     "name": "stderr",
     "output_type": "stream",
     "text": [
      "526it [03:55,  3.79it/s]"
     ]
    },
    {
     "name": "stdout",
     "output_type": "stream",
     "text": [
      "{'cls_loss': tensor(nan, device='cuda:0'), 'num_cls': 0, 'reg_loss': tensor(nan, device='cuda:0'), 'num_reg': 9278, 'loss': tensor(nan, device='cuda:0')}\n",
      "Epoch 0.000, lr 0.00000, time 0.00\n",
      "Wed Jul 27 08:48:27 2022\n",
      "loss nan nan nan, ade1 nan, fde1 nan, ade nan, fde nan\n",
      "\n"
     ]
    },
    {
     "name": "stderr",
     "output_type": "stream",
     "text": [
      "527it [03:55,  3.95it/s]"
     ]
    },
    {
     "name": "stdout",
     "output_type": "stream",
     "text": [
      "{'cls_loss': tensor(nan, device='cuda:0'), 'num_cls': 0, 'reg_loss': tensor(nan, device='cuda:0'), 'num_reg': 9398, 'loss': tensor(nan, device='cuda:0')}\n",
      "Epoch 0.000, lr 0.00000, time 0.00\n",
      "Wed Jul 27 08:48:27 2022\n",
      "loss nan nan nan, ade1 nan, fde1 nan, ade nan, fde nan\n",
      "\n"
     ]
    },
    {
     "name": "stderr",
     "output_type": "stream",
     "text": [
      "528it [03:55,  4.03it/s]"
     ]
    },
    {
     "name": "stdout",
     "output_type": "stream",
     "text": [
      "{'cls_loss': tensor(nan, device='cuda:0'), 'num_cls': 0, 'reg_loss': tensor(nan, device='cuda:0'), 'num_reg': 9974, 'loss': tensor(nan, device='cuda:0')}\n",
      "Epoch 0.000, lr 0.00000, time 0.00\n",
      "Wed Jul 27 08:48:27 2022\n",
      "loss nan nan nan, ade1 nan, fde1 nan, ade nan, fde nan\n",
      "\n"
     ]
    },
    {
     "name": "stderr",
     "output_type": "stream",
     "text": [
      "529it [03:56,  2.97it/s]"
     ]
    },
    {
     "name": "stdout",
     "output_type": "stream",
     "text": [
      "{'cls_loss': tensor(nan, device='cuda:0'), 'num_cls': 0, 'reg_loss': tensor(nan, device='cuda:0'), 'num_reg': 10722, 'loss': tensor(nan, device='cuda:0')}\n",
      "Epoch 0.000, lr 0.00000, time 0.00\n",
      "Wed Jul 27 08:48:28 2022\n",
      "loss nan nan nan, ade1 nan, fde1 nan, ade nan, fde nan\n",
      "\n"
     ]
    },
    {
     "name": "stderr",
     "output_type": "stream",
     "text": [
      "530it [03:56,  3.28it/s]"
     ]
    },
    {
     "name": "stdout",
     "output_type": "stream",
     "text": [
      "{'cls_loss': tensor(nan, device='cuda:0'), 'num_cls': 0, 'reg_loss': tensor(nan, device='cuda:0'), 'num_reg': 12231, 'loss': tensor(nan, device='cuda:0')}\n",
      "Epoch 0.000, lr 0.00000, time 0.00\n",
      "Wed Jul 27 08:48:28 2022\n",
      "loss nan nan nan, ade1 nan, fde1 nan, ade nan, fde nan\n",
      "\n"
     ]
    },
    {
     "name": "stderr",
     "output_type": "stream",
     "text": [
      "531it [03:56,  3.28it/s]"
     ]
    },
    {
     "name": "stdout",
     "output_type": "stream",
     "text": [
      "{'cls_loss': tensor(nan, device='cuda:0'), 'num_cls': 0, 'reg_loss': tensor(nan, device='cuda:0'), 'num_reg': 13903, 'loss': tensor(nan, device='cuda:0')}\n",
      "Epoch 0.000, lr 0.00000, time 0.00\n",
      "Wed Jul 27 08:48:28 2022\n",
      "loss nan nan nan, ade1 nan, fde1 nan, ade nan, fde nan\n",
      "\n"
     ]
    },
    {
     "name": "stderr",
     "output_type": "stream",
     "text": [
      "532it [03:57,  3.59it/s]"
     ]
    },
    {
     "name": "stdout",
     "output_type": "stream",
     "text": [
      "{'cls_loss': tensor(nan, device='cuda:0'), 'num_cls': 0, 'reg_loss': tensor(nan, device='cuda:0'), 'num_reg': 11406, 'loss': tensor(nan, device='cuda:0')}\n",
      "Epoch 0.000, lr 0.00000, time 0.00\n",
      "Wed Jul 27 08:48:28 2022\n",
      "loss nan nan nan, ade1 nan, fde1 nan, ade nan, fde nan\n",
      "\n"
     ]
    },
    {
     "name": "stderr",
     "output_type": "stream",
     "text": [
      "533it [03:57,  3.81it/s]"
     ]
    },
    {
     "name": "stdout",
     "output_type": "stream",
     "text": [
      "{'cls_loss': tensor(nan, device='cuda:0'), 'num_cls': 0, 'reg_loss': tensor(nan, device='cuda:0'), 'num_reg': 12206, 'loss': tensor(nan, device='cuda:0')}\n",
      "Epoch 0.000, lr 0.00000, time 0.00\n",
      "Wed Jul 27 08:48:29 2022\n",
      "loss nan nan nan, ade1 nan, fde1 nan, ade nan, fde nan\n",
      "\n"
     ]
    },
    {
     "name": "stderr",
     "output_type": "stream",
     "text": [
      "534it [03:57,  3.81it/s]"
     ]
    },
    {
     "name": "stdout",
     "output_type": "stream",
     "text": [
      "{'cls_loss': tensor(nan, device='cuda:0'), 'num_cls': 0, 'reg_loss': tensor(nan, device='cuda:0'), 'num_reg': 11025, 'loss': tensor(nan, device='cuda:0')}\n",
      "Epoch 0.000, lr 0.00000, time 0.00\n",
      "Wed Jul 27 08:48:29 2022\n",
      "loss nan nan nan, ade1 nan, fde1 nan, ade nan, fde nan\n",
      "\n"
     ]
    },
    {
     "name": "stderr",
     "output_type": "stream",
     "text": [
      "535it [03:58,  3.64it/s]"
     ]
    },
    {
     "name": "stdout",
     "output_type": "stream",
     "text": [
      "{'cls_loss': tensor(nan, device='cuda:0'), 'num_cls': 0, 'reg_loss': tensor(nan, device='cuda:0'), 'num_reg': 12862, 'loss': tensor(nan, device='cuda:0')}\n",
      "Epoch 0.000, lr 0.00000, time 0.00\n",
      "Wed Jul 27 08:48:29 2022\n",
      "loss nan nan nan, ade1 nan, fde1 nan, ade nan, fde nan\n",
      "\n"
     ]
    },
    {
     "name": "stderr",
     "output_type": "stream",
     "text": [
      "536it [03:58,  3.86it/s]"
     ]
    },
    {
     "name": "stdout",
     "output_type": "stream",
     "text": [
      "{'cls_loss': tensor(nan, device='cuda:0'), 'num_cls': 0, 'reg_loss': tensor(nan, device='cuda:0'), 'num_reg': 11138, 'loss': tensor(nan, device='cuda:0')}\n",
      "Epoch 0.000, lr 0.00000, time 0.00\n",
      "Wed Jul 27 08:48:29 2022\n",
      "loss nan nan nan, ade1 nan, fde1 nan, ade nan, fde nan\n",
      "\n"
     ]
    },
    {
     "name": "stderr",
     "output_type": "stream",
     "text": [
      "537it [03:58,  3.87it/s]"
     ]
    },
    {
     "name": "stdout",
     "output_type": "stream",
     "text": [
      "{'cls_loss': tensor(nan, device='cuda:0'), 'num_cls': 0, 'reg_loss': tensor(nan, device='cuda:0'), 'num_reg': 10820, 'loss': tensor(nan, device='cuda:0')}\n",
      "Epoch 0.000, lr 0.00000, time 0.00\n",
      "Wed Jul 27 08:48:30 2022\n",
      "loss nan nan nan, ade1 nan, fde1 nan, ade nan, fde nan\n",
      "\n"
     ]
    },
    {
     "name": "stderr",
     "output_type": "stream",
     "text": [
      "538it [03:58,  3.97it/s]"
     ]
    },
    {
     "name": "stdout",
     "output_type": "stream",
     "text": [
      "{'cls_loss': tensor(nan, device='cuda:0'), 'num_cls': 0, 'reg_loss': tensor(nan, device='cuda:0'), 'num_reg': 11425, 'loss': tensor(nan, device='cuda:0')}\n",
      "Epoch 0.000, lr 0.00000, time 0.00\n",
      "Wed Jul 27 08:48:30 2022\n",
      "loss nan nan nan, ade1 nan, fde1 nan, ade nan, fde nan\n",
      "\n"
     ]
    },
    {
     "name": "stderr",
     "output_type": "stream",
     "text": [
      "539it [03:58,  4.06it/s]"
     ]
    },
    {
     "name": "stdout",
     "output_type": "stream",
     "text": [
      "{'cls_loss': tensor(nan, device='cuda:0'), 'num_cls': 0, 'reg_loss': tensor(nan, device='cuda:0'), 'num_reg': 10570, 'loss': tensor(nan, device='cuda:0')}\n",
      "Epoch 0.000, lr 0.00000, time 0.00\n",
      "Wed Jul 27 08:48:30 2022\n",
      "loss nan nan nan, ade1 nan, fde1 nan, ade nan, fde nan\n",
      "\n"
     ]
    },
    {
     "name": "stderr",
     "output_type": "stream",
     "text": [
      "540it [03:59,  4.17it/s]"
     ]
    },
    {
     "name": "stdout",
     "output_type": "stream",
     "text": [
      "{'cls_loss': tensor(nan, device='cuda:0'), 'num_cls': 0, 'reg_loss': tensor(nan, device='cuda:0'), 'num_reg': 10957, 'loss': tensor(nan, device='cuda:0')}\n",
      "Epoch 0.000, lr 0.00000, time 0.00\n",
      "Wed Jul 27 08:48:30 2022\n",
      "loss nan nan nan, ade1 nan, fde1 nan, ade nan, fde nan\n",
      "\n"
     ]
    },
    {
     "name": "stderr",
     "output_type": "stream",
     "text": [
      "541it [03:59,  4.07it/s]"
     ]
    },
    {
     "name": "stdout",
     "output_type": "stream",
     "text": [
      "{'cls_loss': tensor(nan, device='cuda:0'), 'num_cls': 0, 'reg_loss': tensor(nan, device='cuda:0'), 'num_reg': 9902, 'loss': tensor(nan, device='cuda:0')}\n",
      "Epoch 0.000, lr 0.00000, time 0.00\n",
      "Wed Jul 27 08:48:31 2022\n",
      "loss nan nan nan, ade1 nan, fde1 nan, ade nan, fde nan\n",
      "\n"
     ]
    },
    {
     "name": "stderr",
     "output_type": "stream",
     "text": [
      "542it [03:59,  4.23it/s]"
     ]
    },
    {
     "name": "stdout",
     "output_type": "stream",
     "text": [
      "{'cls_loss': tensor(nan, device='cuda:0'), 'num_cls': 0, 'reg_loss': tensor(nan, device='cuda:0'), 'num_reg': 11080, 'loss': tensor(nan, device='cuda:0')}\n",
      "Epoch 0.000, lr 0.00000, time 0.00\n",
      "Wed Jul 27 08:48:31 2022\n",
      "loss nan nan nan, ade1 nan, fde1 nan, ade nan, fde nan\n",
      "\n"
     ]
    },
    {
     "name": "stderr",
     "output_type": "stream",
     "text": [
      "543it [03:59,  4.26it/s]"
     ]
    },
    {
     "name": "stdout",
     "output_type": "stream",
     "text": [
      "{'cls_loss': tensor(nan, device='cuda:0'), 'num_cls': 0, 'reg_loss': tensor(nan, device='cuda:0'), 'num_reg': 10836, 'loss': tensor(nan, device='cuda:0')}\n",
      "Epoch 0.000, lr 0.00000, time 0.00\n",
      "Wed Jul 27 08:48:31 2022\n",
      "loss nan nan nan, ade1 nan, fde1 nan, ade nan, fde nan\n",
      "\n"
     ]
    },
    {
     "name": "stderr",
     "output_type": "stream",
     "text": [
      "544it [04:00,  4.33it/s]"
     ]
    },
    {
     "name": "stdout",
     "output_type": "stream",
     "text": [
      "{'cls_loss': tensor(nan, device='cuda:0'), 'num_cls': 0, 'reg_loss': tensor(nan, device='cuda:0'), 'num_reg': 10194, 'loss': tensor(nan, device='cuda:0')}\n",
      "Epoch 0.000, lr 0.00000, time 0.00\n",
      "Wed Jul 27 08:48:31 2022\n",
      "loss nan nan nan, ade1 nan, fde1 nan, ade nan, fde nan\n",
      "\n"
     ]
    },
    {
     "name": "stderr",
     "output_type": "stream",
     "text": [
      "545it [04:00,  4.32it/s]"
     ]
    },
    {
     "name": "stdout",
     "output_type": "stream",
     "text": [
      "{'cls_loss': tensor(nan, device='cuda:0'), 'num_cls': 0, 'reg_loss': tensor(nan, device='cuda:0'), 'num_reg': 10625, 'loss': tensor(nan, device='cuda:0')}\n",
      "Epoch 0.000, lr 0.00000, time 0.00\n",
      "Wed Jul 27 08:48:31 2022\n",
      "loss nan nan nan, ade1 nan, fde1 nan, ade nan, fde nan\n",
      "\n"
     ]
    },
    {
     "name": "stderr",
     "output_type": "stream",
     "text": [
      "546it [04:00,  4.27it/s]"
     ]
    },
    {
     "name": "stdout",
     "output_type": "stream",
     "text": [
      "{'cls_loss': tensor(nan, device='cuda:0'), 'num_cls': 0, 'reg_loss': tensor(nan, device='cuda:0'), 'num_reg': 12931, 'loss': tensor(nan, device='cuda:0')}\n",
      "Epoch 0.000, lr 0.00000, time 0.00\n",
      "Wed Jul 27 08:48:32 2022\n",
      "loss nan nan nan, ade1 nan, fde1 nan, ade nan, fde nan\n",
      "\n"
     ]
    },
    {
     "name": "stderr",
     "output_type": "stream",
     "text": [
      "547it [04:00,  4.19it/s]"
     ]
    },
    {
     "name": "stdout",
     "output_type": "stream",
     "text": [
      "{'cls_loss': tensor(nan, device='cuda:0'), 'num_cls': 0, 'reg_loss': tensor(nan, device='cuda:0'), 'num_reg': 12438, 'loss': tensor(nan, device='cuda:0')}\n",
      "Epoch 0.000, lr 0.00000, time 0.00\n",
      "Wed Jul 27 08:48:32 2022\n",
      "loss nan nan nan, ade1 nan, fde1 nan, ade nan, fde nan\n",
      "\n"
     ]
    },
    {
     "name": "stderr",
     "output_type": "stream",
     "text": [
      "548it [04:01,  3.92it/s]"
     ]
    },
    {
     "name": "stdout",
     "output_type": "stream",
     "text": [
      "{'cls_loss': tensor(nan, device='cuda:0'), 'num_cls': 0, 'reg_loss': tensor(nan, device='cuda:0'), 'num_reg': 11730, 'loss': tensor(nan, device='cuda:0')}\n",
      "Epoch 0.000, lr 0.00000, time 0.00\n",
      "Wed Jul 27 08:48:32 2022\n",
      "loss nan nan nan, ade1 nan, fde1 nan, ade nan, fde nan\n",
      "\n"
     ]
    },
    {
     "name": "stderr",
     "output_type": "stream",
     "text": [
      "549it [04:01,  3.13it/s]"
     ]
    },
    {
     "name": "stdout",
     "output_type": "stream",
     "text": [
      "{'cls_loss': tensor(nan, device='cuda:0'), 'num_cls': 0, 'reg_loss': tensor(nan, device='cuda:0'), 'num_reg': 9803, 'loss': tensor(nan, device='cuda:0')}\n",
      "Epoch 0.000, lr 0.00000, time 0.00\n",
      "Wed Jul 27 08:48:33 2022\n",
      "loss nan nan nan, ade1 nan, fde1 nan, ade nan, fde nan\n",
      "\n"
     ]
    },
    {
     "name": "stderr",
     "output_type": "stream",
     "text": [
      "550it [04:01,  3.33it/s]"
     ]
    },
    {
     "name": "stdout",
     "output_type": "stream",
     "text": [
      "{'cls_loss': tensor(nan, device='cuda:0'), 'num_cls': 0, 'reg_loss': tensor(nan, device='cuda:0'), 'num_reg': 10946, 'loss': tensor(nan, device='cuda:0')}\n",
      "Epoch 0.000, lr 0.00000, time 0.00\n",
      "Wed Jul 27 08:48:33 2022\n",
      "loss nan nan nan, ade1 nan, fde1 nan, ade nan, fde nan\n",
      "\n"
     ]
    },
    {
     "name": "stderr",
     "output_type": "stream",
     "text": [
      "551it [04:02,  3.57it/s]"
     ]
    },
    {
     "name": "stdout",
     "output_type": "stream",
     "text": [
      "{'cls_loss': tensor(nan, device='cuda:0'), 'num_cls': 0, 'reg_loss': tensor(nan, device='cuda:0'), 'num_reg': 12445, 'loss': tensor(nan, device='cuda:0')}\n",
      "Epoch 0.000, lr 0.00000, time 0.00\n",
      "Wed Jul 27 08:48:33 2022\n",
      "loss nan nan nan, ade1 nan, fde1 nan, ade nan, fde nan\n",
      "\n"
     ]
    },
    {
     "name": "stderr",
     "output_type": "stream",
     "text": [
      "552it [04:02,  3.80it/s]"
     ]
    },
    {
     "name": "stdout",
     "output_type": "stream",
     "text": [
      "{'cls_loss': tensor(nan, device='cuda:0'), 'num_cls': 0, 'reg_loss': tensor(nan, device='cuda:0'), 'num_reg': 10827, 'loss': tensor(nan, device='cuda:0')}\n",
      "Epoch 0.000, lr 0.00000, time 0.00\n",
      "Wed Jul 27 08:48:33 2022\n",
      "loss nan nan nan, ade1 nan, fde1 nan, ade nan, fde nan\n",
      "\n"
     ]
    },
    {
     "name": "stderr",
     "output_type": "stream",
     "text": [
      "553it [04:02,  3.93it/s]"
     ]
    },
    {
     "name": "stdout",
     "output_type": "stream",
     "text": [
      "{'cls_loss': tensor(nan, device='cuda:0'), 'num_cls': 0, 'reg_loss': tensor(nan, device='cuda:0'), 'num_reg': 10686, 'loss': tensor(nan, device='cuda:0')}\n",
      "Epoch 0.000, lr 0.00000, time 0.00\n",
      "Wed Jul 27 08:48:34 2022\n",
      "loss nan nan nan, ade1 nan, fde1 nan, ade nan, fde nan\n",
      "\n"
     ]
    },
    {
     "name": "stderr",
     "output_type": "stream",
     "text": [
      "554it [04:02,  4.11it/s]"
     ]
    },
    {
     "name": "stdout",
     "output_type": "stream",
     "text": [
      "{'cls_loss': tensor(nan, device='cuda:0'), 'num_cls': 0, 'reg_loss': tensor(nan, device='cuda:0'), 'num_reg': 11631, 'loss': tensor(nan, device='cuda:0')}\n",
      "Epoch 0.000, lr 0.00000, time 0.00\n",
      "Wed Jul 27 08:48:34 2022\n",
      "loss nan nan nan, ade1 nan, fde1 nan, ade nan, fde nan\n",
      "\n"
     ]
    },
    {
     "name": "stderr",
     "output_type": "stream",
     "text": [
      "555it [04:02,  4.14it/s]"
     ]
    },
    {
     "name": "stdout",
     "output_type": "stream",
     "text": [
      "{'cls_loss': tensor(nan, device='cuda:0'), 'num_cls': 0, 'reg_loss': tensor(nan, device='cuda:0'), 'num_reg': 12721, 'loss': tensor(nan, device='cuda:0')}\n",
      "Epoch 0.000, lr 0.00000, time 0.00\n",
      "Wed Jul 27 08:48:34 2022\n",
      "loss nan nan nan, ade1 nan, fde1 nan, ade nan, fde nan\n",
      "\n"
     ]
    },
    {
     "name": "stderr",
     "output_type": "stream",
     "text": [
      "556it [04:03,  2.84it/s]"
     ]
    },
    {
     "name": "stdout",
     "output_type": "stream",
     "text": [
      "{'cls_loss': tensor(nan, device='cuda:0'), 'num_cls': 0, 'reg_loss': tensor(nan, device='cuda:0'), 'num_reg': 10588, 'loss': tensor(nan, device='cuda:0')}\n",
      "Epoch 0.000, lr 0.00000, time 0.00\n",
      "Wed Jul 27 08:48:35 2022\n",
      "loss nan nan nan, ade1 nan, fde1 nan, ade nan, fde nan\n",
      "\n"
     ]
    },
    {
     "name": "stderr",
     "output_type": "stream",
     "text": [
      "557it [04:03,  3.16it/s]"
     ]
    },
    {
     "name": "stdout",
     "output_type": "stream",
     "text": [
      "{'cls_loss': tensor(nan, device='cuda:0'), 'num_cls': 0, 'reg_loss': tensor(nan, device='cuda:0'), 'num_reg': 11438, 'loss': tensor(nan, device='cuda:0')}\n",
      "Epoch 0.000, lr 0.00000, time 0.00\n",
      "Wed Jul 27 08:48:35 2022\n",
      "loss nan nan nan, ade1 nan, fde1 nan, ade nan, fde nan\n",
      "\n"
     ]
    },
    {
     "name": "stderr",
     "output_type": "stream",
     "text": [
      "558it [04:04,  3.49it/s]"
     ]
    },
    {
     "name": "stdout",
     "output_type": "stream",
     "text": [
      "{'cls_loss': tensor(nan, device='cuda:0'), 'num_cls': 0, 'reg_loss': tensor(nan, device='cuda:0'), 'num_reg': 10102, 'loss': tensor(nan, device='cuda:0')}\n",
      "Epoch 0.000, lr 0.00000, time 0.00\n",
      "Wed Jul 27 08:48:35 2022\n",
      "loss nan nan nan, ade1 nan, fde1 nan, ade nan, fde nan\n",
      "\n"
     ]
    },
    {
     "name": "stderr",
     "output_type": "stream",
     "text": [
      "559it [04:04,  3.69it/s]"
     ]
    },
    {
     "name": "stdout",
     "output_type": "stream",
     "text": [
      "{'cls_loss': tensor(nan, device='cuda:0'), 'num_cls': 0, 'reg_loss': tensor(nan, device='cuda:0'), 'num_reg': 9030, 'loss': tensor(nan, device='cuda:0')}\n",
      "Epoch 0.000, lr 0.00000, time 0.00\n",
      "Wed Jul 27 08:48:35 2022\n",
      "loss nan nan nan, ade1 nan, fde1 nan, ade nan, fde nan\n",
      "\n"
     ]
    },
    {
     "name": "stderr",
     "output_type": "stream",
     "text": [
      "560it [04:04,  3.87it/s]"
     ]
    },
    {
     "name": "stdout",
     "output_type": "stream",
     "text": [
      "{'cls_loss': tensor(nan, device='cuda:0'), 'num_cls': 0, 'reg_loss': tensor(nan, device='cuda:0'), 'num_reg': 11866, 'loss': tensor(nan, device='cuda:0')}\n",
      "Epoch 0.000, lr 0.00000, time 0.00\n",
      "Wed Jul 27 08:48:36 2022\n",
      "loss nan nan nan, ade1 nan, fde1 nan, ade nan, fde nan\n",
      "\n"
     ]
    },
    {
     "name": "stderr",
     "output_type": "stream",
     "text": [
      "561it [04:04,  4.03it/s]"
     ]
    },
    {
     "name": "stdout",
     "output_type": "stream",
     "text": [
      "{'cls_loss': tensor(nan, device='cuda:0'), 'num_cls': 0, 'reg_loss': tensor(nan, device='cuda:0'), 'num_reg': 9571, 'loss': tensor(nan, device='cuda:0')}\n",
      "Epoch 0.000, lr 0.00000, time 0.00\n",
      "Wed Jul 27 08:48:36 2022\n",
      "loss nan nan nan, ade1 nan, fde1 nan, ade nan, fde nan\n",
      "\n"
     ]
    },
    {
     "name": "stderr",
     "output_type": "stream",
     "text": [
      "562it [04:04,  4.16it/s]"
     ]
    },
    {
     "name": "stdout",
     "output_type": "stream",
     "text": [
      "{'cls_loss': tensor(nan, device='cuda:0'), 'num_cls': 0, 'reg_loss': tensor(nan, device='cuda:0'), 'num_reg': 10335, 'loss': tensor(nan, device='cuda:0')}\n",
      "Epoch 0.000, lr 0.00000, time 0.00\n",
      "Wed Jul 27 08:48:36 2022\n",
      "loss nan nan nan, ade1 nan, fde1 nan, ade nan, fde nan\n",
      "\n"
     ]
    },
    {
     "name": "stderr",
     "output_type": "stream",
     "text": [
      "563it [04:05,  3.05it/s]"
     ]
    },
    {
     "name": "stdout",
     "output_type": "stream",
     "text": [
      "{'cls_loss': tensor(nan, device='cuda:0'), 'num_cls': 0, 'reg_loss': tensor(nan, device='cuda:0'), 'num_reg': 12421, 'loss': tensor(nan, device='cuda:0')}\n",
      "Epoch 0.000, lr 0.00000, time 0.00\n",
      "Wed Jul 27 08:48:37 2022\n",
      "loss nan nan nan, ade1 nan, fde1 nan, ade nan, fde nan\n",
      "\n"
     ]
    },
    {
     "name": "stderr",
     "output_type": "stream",
     "text": [
      "564it [04:05,  3.10it/s]"
     ]
    },
    {
     "name": "stdout",
     "output_type": "stream",
     "text": [
      "{'cls_loss': tensor(nan, device='cuda:0'), 'num_cls': 0, 'reg_loss': tensor(nan, device='cuda:0'), 'num_reg': 12823, 'loss': tensor(nan, device='cuda:0')}\n",
      "Epoch 0.000, lr 0.00000, time 0.00\n",
      "Wed Jul 27 08:48:37 2022\n",
      "loss nan nan nan, ade1 nan, fde1 nan, ade nan, fde nan\n",
      "\n"
     ]
    },
    {
     "name": "stderr",
     "output_type": "stream",
     "text": [
      "565it [04:06,  3.31it/s]"
     ]
    },
    {
     "name": "stdout",
     "output_type": "stream",
     "text": [
      "{'cls_loss': tensor(nan, device='cuda:0'), 'num_cls': 0, 'reg_loss': tensor(nan, device='cuda:0'), 'num_reg': 11200, 'loss': tensor(nan, device='cuda:0')}\n",
      "Epoch 0.000, lr 0.00000, time 0.00\n",
      "Wed Jul 27 08:48:37 2022\n",
      "loss nan nan nan, ade1 nan, fde1 nan, ade nan, fde nan\n",
      "\n"
     ]
    },
    {
     "name": "stderr",
     "output_type": "stream",
     "text": [
      "566it [04:06,  3.54it/s]"
     ]
    },
    {
     "name": "stdout",
     "output_type": "stream",
     "text": [
      "{'cls_loss': tensor(nan, device='cuda:0'), 'num_cls': 0, 'reg_loss': tensor(nan, device='cuda:0'), 'num_reg': 11597, 'loss': tensor(nan, device='cuda:0')}\n",
      "Epoch 0.000, lr 0.00000, time 0.00\n",
      "Wed Jul 27 08:48:37 2022\n",
      "loss nan nan nan, ade1 nan, fde1 nan, ade nan, fde nan\n",
      "\n"
     ]
    },
    {
     "name": "stderr",
     "output_type": "stream",
     "text": [
      "567it [04:06,  2.81it/s]"
     ]
    },
    {
     "name": "stdout",
     "output_type": "stream",
     "text": [
      "{'cls_loss': tensor(nan, device='cuda:0'), 'num_cls': 0, 'reg_loss': tensor(nan, device='cuda:0'), 'num_reg': 11313, 'loss': tensor(nan, device='cuda:0')}\n",
      "Epoch 0.000, lr 0.00000, time 0.00\n",
      "Wed Jul 27 08:48:38 2022\n",
      "loss nan nan nan, ade1 nan, fde1 nan, ade nan, fde nan\n",
      "\n"
     ]
    },
    {
     "name": "stderr",
     "output_type": "stream",
     "text": [
      "568it [04:07,  3.16it/s]"
     ]
    },
    {
     "name": "stdout",
     "output_type": "stream",
     "text": [
      "{'cls_loss': tensor(nan, device='cuda:0'), 'num_cls': 0, 'reg_loss': tensor(nan, device='cuda:0'), 'num_reg': 11006, 'loss': tensor(nan, device='cuda:0')}\n",
      "Epoch 0.000, lr 0.00000, time 0.00\n",
      "Wed Jul 27 08:48:38 2022\n",
      "loss nan nan nan, ade1 nan, fde1 nan, ade nan, fde nan\n",
      "\n"
     ]
    },
    {
     "name": "stderr",
     "output_type": "stream",
     "text": [
      "569it [04:07,  3.20it/s]"
     ]
    },
    {
     "name": "stdout",
     "output_type": "stream",
     "text": [
      "{'cls_loss': tensor(nan, device='cuda:0'), 'num_cls': 0, 'reg_loss': tensor(nan, device='cuda:0'), 'num_reg': 9413, 'loss': tensor(nan, device='cuda:0')}\n",
      "Epoch 0.000, lr 0.00000, time 0.00\n",
      "Wed Jul 27 08:48:38 2022\n",
      "loss nan nan nan, ade1 nan, fde1 nan, ade nan, fde nan\n",
      "\n"
     ]
    },
    {
     "name": "stderr",
     "output_type": "stream",
     "text": [
      "570it [04:07,  3.50it/s]"
     ]
    },
    {
     "name": "stdout",
     "output_type": "stream",
     "text": [
      "{'cls_loss': tensor(nan, device='cuda:0'), 'num_cls': 0, 'reg_loss': tensor(nan, device='cuda:0'), 'num_reg': 10871, 'loss': tensor(nan, device='cuda:0')}\n",
      "Epoch 0.000, lr 0.00000, time 0.00\n",
      "Wed Jul 27 08:48:39 2022\n",
      "loss nan nan nan, ade1 nan, fde1 nan, ade nan, fde nan\n",
      "\n"
     ]
    },
    {
     "name": "stderr",
     "output_type": "stream",
     "text": [
      "571it [04:07,  3.66it/s]"
     ]
    },
    {
     "name": "stdout",
     "output_type": "stream",
     "text": [
      "{'cls_loss': tensor(nan, device='cuda:0'), 'num_cls': 0, 'reg_loss': tensor(nan, device='cuda:0'), 'num_reg': 12202, 'loss': tensor(nan, device='cuda:0')}\n",
      "Epoch 0.000, lr 0.00000, time 0.00\n",
      "Wed Jul 27 08:48:39 2022\n",
      "loss nan nan nan, ade1 nan, fde1 nan, ade nan, fde nan\n",
      "\n"
     ]
    },
    {
     "name": "stderr",
     "output_type": "stream",
     "text": [
      "572it [04:08,  3.84it/s]"
     ]
    },
    {
     "name": "stdout",
     "output_type": "stream",
     "text": [
      "{'cls_loss': tensor(nan, device='cuda:0'), 'num_cls': 0, 'reg_loss': tensor(nan, device='cuda:0'), 'num_reg': 11666, 'loss': tensor(nan, device='cuda:0')}\n",
      "Epoch 0.000, lr 0.00000, time 0.00\n",
      "Wed Jul 27 08:48:39 2022\n",
      "loss nan nan nan, ade1 nan, fde1 nan, ade nan, fde nan\n",
      "\n"
     ]
    },
    {
     "name": "stderr",
     "output_type": "stream",
     "text": [
      "573it [04:08,  4.00it/s]"
     ]
    },
    {
     "name": "stdout",
     "output_type": "stream",
     "text": [
      "{'cls_loss': tensor(nan, device='cuda:0'), 'num_cls': 0, 'reg_loss': tensor(nan, device='cuda:0'), 'num_reg': 10403, 'loss': tensor(nan, device='cuda:0')}\n",
      "Epoch 0.000, lr 0.00000, time 0.00\n",
      "Wed Jul 27 08:48:39 2022\n",
      "loss nan nan nan, ade1 nan, fde1 nan, ade nan, fde nan\n",
      "\n"
     ]
    },
    {
     "name": "stderr",
     "output_type": "stream",
     "text": [
      "574it [04:08,  4.17it/s]"
     ]
    },
    {
     "name": "stdout",
     "output_type": "stream",
     "text": [
      "{'cls_loss': tensor(nan, device='cuda:0'), 'num_cls': 0, 'reg_loss': tensor(nan, device='cuda:0'), 'num_reg': 9716, 'loss': tensor(nan, device='cuda:0')}\n",
      "Epoch 0.000, lr 0.00000, time 0.00\n",
      "Wed Jul 27 08:48:40 2022\n",
      "loss nan nan nan, ade1 nan, fde1 nan, ade nan, fde nan\n",
      "\n"
     ]
    },
    {
     "name": "stderr",
     "output_type": "stream",
     "text": [
      "575it [04:08,  4.20it/s]"
     ]
    },
    {
     "name": "stdout",
     "output_type": "stream",
     "text": [
      "{'cls_loss': tensor(nan, device='cuda:0'), 'num_cls': 0, 'reg_loss': tensor(nan, device='cuda:0'), 'num_reg': 11197, 'loss': tensor(nan, device='cuda:0')}\n",
      "Epoch 0.000, lr 0.00000, time 0.00\n",
      "Wed Jul 27 08:48:40 2022\n",
      "loss nan nan nan, ade1 nan, fde1 nan, ade nan, fde nan\n",
      "\n"
     ]
    },
    {
     "name": "stderr",
     "output_type": "stream",
     "text": [
      "576it [04:08,  4.26it/s]"
     ]
    },
    {
     "name": "stdout",
     "output_type": "stream",
     "text": [
      "{'cls_loss': tensor(nan, device='cuda:0'), 'num_cls': 0, 'reg_loss': tensor(nan, device='cuda:0'), 'num_reg': 11147, 'loss': tensor(nan, device='cuda:0')}\n",
      "Epoch 0.000, lr 0.00000, time 0.00\n",
      "Wed Jul 27 08:48:40 2022\n",
      "loss nan nan nan, ade1 nan, fde1 nan, ade nan, fde nan\n",
      "\n"
     ]
    },
    {
     "name": "stderr",
     "output_type": "stream",
     "text": [
      "577it [04:09,  4.28it/s]"
     ]
    },
    {
     "name": "stdout",
     "output_type": "stream",
     "text": [
      "{'cls_loss': tensor(nan, device='cuda:0'), 'num_cls': 0, 'reg_loss': tensor(nan, device='cuda:0'), 'num_reg': 10144, 'loss': tensor(nan, device='cuda:0')}\n",
      "Epoch 0.000, lr 0.00000, time 0.00\n",
      "Wed Jul 27 08:48:40 2022\n",
      "loss nan nan nan, ade1 nan, fde1 nan, ade nan, fde nan\n",
      "\n"
     ]
    },
    {
     "name": "stderr",
     "output_type": "stream",
     "text": [
      "578it [04:09,  4.34it/s]"
     ]
    },
    {
     "name": "stdout",
     "output_type": "stream",
     "text": [
      "{'cls_loss': tensor(nan, device='cuda:0'), 'num_cls': 0, 'reg_loss': tensor(nan, device='cuda:0'), 'num_reg': 11093, 'loss': tensor(nan, device='cuda:0')}\n",
      "Epoch 0.000, lr 0.00000, time 0.00\n",
      "Wed Jul 27 08:48:41 2022\n",
      "loss nan nan nan, ade1 nan, fde1 nan, ade nan, fde nan\n",
      "\n"
     ]
    },
    {
     "name": "stderr",
     "output_type": "stream",
     "text": [
      "579it [04:09,  4.34it/s]"
     ]
    },
    {
     "name": "stdout",
     "output_type": "stream",
     "text": [
      "{'cls_loss': tensor(nan, device='cuda:0'), 'num_cls': 0, 'reg_loss': tensor(nan, device='cuda:0'), 'num_reg': 10241, 'loss': tensor(nan, device='cuda:0')}\n",
      "Epoch 0.000, lr 0.00000, time 0.00\n",
      "Wed Jul 27 08:48:41 2022\n",
      "loss nan nan nan, ade1 nan, fde1 nan, ade nan, fde nan\n",
      "\n"
     ]
    },
    {
     "name": "stderr",
     "output_type": "stream",
     "text": [
      "580it [04:09,  4.34it/s]"
     ]
    },
    {
     "name": "stdout",
     "output_type": "stream",
     "text": [
      "{'cls_loss': tensor(nan, device='cuda:0'), 'num_cls': 0, 'reg_loss': tensor(nan, device='cuda:0'), 'num_reg': 12452, 'loss': tensor(nan, device='cuda:0')}\n",
      "Epoch 0.000, lr 0.00000, time 0.00\n",
      "Wed Jul 27 08:48:41 2022\n",
      "loss nan nan nan, ade1 nan, fde1 nan, ade nan, fde nan\n",
      "\n"
     ]
    },
    {
     "name": "stderr",
     "output_type": "stream",
     "text": [
      "581it [04:10,  4.30it/s]"
     ]
    },
    {
     "name": "stdout",
     "output_type": "stream",
     "text": [
      "{'cls_loss': tensor(nan, device='cuda:0'), 'num_cls': 0, 'reg_loss': tensor(nan, device='cuda:0'), 'num_reg': 10911, 'loss': tensor(nan, device='cuda:0')}\n",
      "Epoch 0.000, lr 0.00000, time 0.00\n",
      "Wed Jul 27 08:48:41 2022\n",
      "loss nan nan nan, ade1 nan, fde1 nan, ade nan, fde nan\n",
      "\n"
     ]
    },
    {
     "name": "stderr",
     "output_type": "stream",
     "text": [
      "582it [04:10,  4.33it/s]"
     ]
    },
    {
     "name": "stdout",
     "output_type": "stream",
     "text": [
      "{'cls_loss': tensor(nan, device='cuda:0'), 'num_cls': 0, 'reg_loss': tensor(nan, device='cuda:0'), 'num_reg': 12599, 'loss': tensor(nan, device='cuda:0')}\n",
      "Epoch 0.000, lr 0.00000, time 0.00\n",
      "Wed Jul 27 08:48:41 2022\n",
      "loss nan nan nan, ade1 nan, fde1 nan, ade nan, fde nan\n",
      "\n"
     ]
    },
    {
     "name": "stderr",
     "output_type": "stream",
     "text": [
      "583it [04:10,  4.29it/s]"
     ]
    },
    {
     "name": "stdout",
     "output_type": "stream",
     "text": [
      "{'cls_loss': tensor(nan, device='cuda:0'), 'num_cls': 0, 'reg_loss': tensor(nan, device='cuda:0'), 'num_reg': 11791, 'loss': tensor(nan, device='cuda:0')}\n",
      "Epoch 0.000, lr 0.00000, time 0.00\n",
      "Wed Jul 27 08:48:42 2022\n",
      "loss nan nan nan, ade1 nan, fde1 nan, ade nan, fde nan\n",
      "\n"
     ]
    },
    {
     "name": "stderr",
     "output_type": "stream",
     "text": [
      "584it [04:10,  4.34it/s]"
     ]
    },
    {
     "name": "stdout",
     "output_type": "stream",
     "text": [
      "{'cls_loss': tensor(nan, device='cuda:0'), 'num_cls': 0, 'reg_loss': tensor(nan, device='cuda:0'), 'num_reg': 10937, 'loss': tensor(nan, device='cuda:0')}\n",
      "Epoch 0.000, lr 0.00000, time 0.00\n",
      "Wed Jul 27 08:48:42 2022\n",
      "loss nan nan nan, ade1 nan, fde1 nan, ade nan, fde nan\n",
      "\n"
     ]
    },
    {
     "name": "stderr",
     "output_type": "stream",
     "text": [
      "585it [04:11,  3.95it/s]"
     ]
    },
    {
     "name": "stdout",
     "output_type": "stream",
     "text": [
      "{'cls_loss': tensor(nan, device='cuda:0'), 'num_cls': 0, 'reg_loss': tensor(nan, device='cuda:0'), 'num_reg': 11328, 'loss': tensor(nan, device='cuda:0')}\n",
      "Epoch 0.000, lr 0.00000, time 0.00\n",
      "Wed Jul 27 08:48:42 2022\n",
      "loss nan nan nan, ade1 nan, fde1 nan, ade nan, fde nan\n",
      "\n"
     ]
    },
    {
     "name": "stderr",
     "output_type": "stream",
     "text": [
      "586it [04:11,  3.37it/s]"
     ]
    },
    {
     "name": "stdout",
     "output_type": "stream",
     "text": [
      "{'cls_loss': tensor(nan, device='cuda:0'), 'num_cls': 0, 'reg_loss': tensor(nan, device='cuda:0'), 'num_reg': 10368, 'loss': tensor(nan, device='cuda:0')}\n",
      "Epoch 0.000, lr 0.00000, time 0.00\n",
      "Wed Jul 27 08:48:43 2022\n",
      "loss nan nan nan, ade1 nan, fde1 nan, ade nan, fde nan\n",
      "\n"
     ]
    },
    {
     "name": "stderr",
     "output_type": "stream",
     "text": [
      "587it [04:11,  3.58it/s]"
     ]
    },
    {
     "name": "stdout",
     "output_type": "stream",
     "text": [
      "{'cls_loss': tensor(nan, device='cuda:0'), 'num_cls': 0, 'reg_loss': tensor(nan, device='cuda:0'), 'num_reg': 9337, 'loss': tensor(nan, device='cuda:0')}\n",
      "Epoch 0.000, lr 0.00000, time 0.00\n",
      "Wed Jul 27 08:48:43 2022\n",
      "loss nan nan nan, ade1 nan, fde1 nan, ade nan, fde nan\n",
      "\n"
     ]
    },
    {
     "name": "stderr",
     "output_type": "stream",
     "text": [
      "588it [04:11,  3.81it/s]"
     ]
    },
    {
     "name": "stdout",
     "output_type": "stream",
     "text": [
      "{'cls_loss': tensor(nan, device='cuda:0'), 'num_cls': 0, 'reg_loss': tensor(nan, device='cuda:0'), 'num_reg': 11761, 'loss': tensor(nan, device='cuda:0')}\n",
      "Epoch 0.000, lr 0.00000, time 0.00\n",
      "Wed Jul 27 08:48:43 2022\n",
      "loss nan nan nan, ade1 nan, fde1 nan, ade nan, fde nan\n",
      "\n"
     ]
    },
    {
     "name": "stderr",
     "output_type": "stream",
     "text": [
      "589it [04:12,  3.93it/s]"
     ]
    },
    {
     "name": "stdout",
     "output_type": "stream",
     "text": [
      "{'cls_loss': tensor(nan, device='cuda:0'), 'num_cls': 0, 'reg_loss': tensor(nan, device='cuda:0'), 'num_reg': 11673, 'loss': tensor(nan, device='cuda:0')}\n",
      "Epoch 0.000, lr 0.00000, time 0.00\n",
      "Wed Jul 27 08:48:43 2022\n",
      "loss nan nan nan, ade1 nan, fde1 nan, ade nan, fde nan\n",
      "\n"
     ]
    },
    {
     "name": "stderr",
     "output_type": "stream",
     "text": [
      "590it [04:12,  4.06it/s]"
     ]
    },
    {
     "name": "stdout",
     "output_type": "stream",
     "text": [
      "{'cls_loss': tensor(nan, device='cuda:0'), 'num_cls': 0, 'reg_loss': tensor(nan, device='cuda:0'), 'num_reg': 10906, 'loss': tensor(nan, device='cuda:0')}\n",
      "Epoch 0.000, lr 0.00000, time 0.00\n",
      "Wed Jul 27 08:48:44 2022\n",
      "loss nan nan nan, ade1 nan, fde1 nan, ade nan, fde nan\n",
      "\n"
     ]
    },
    {
     "name": "stderr",
     "output_type": "stream",
     "text": [
      "591it [04:12,  4.09it/s]"
     ]
    },
    {
     "name": "stdout",
     "output_type": "stream",
     "text": [
      "{'cls_loss': tensor(nan, device='cuda:0'), 'num_cls': 0, 'reg_loss': tensor(nan, device='cuda:0'), 'num_reg': 11122, 'loss': tensor(nan, device='cuda:0')}\n",
      "Epoch 0.000, lr 0.00000, time 0.00\n",
      "Wed Jul 27 08:48:44 2022\n",
      "loss nan nan nan, ade1 nan, fde1 nan, ade nan, fde nan\n",
      "\n"
     ]
    },
    {
     "name": "stderr",
     "output_type": "stream",
     "text": [
      "592it [04:12,  4.19it/s]"
     ]
    },
    {
     "name": "stdout",
     "output_type": "stream",
     "text": [
      "{'cls_loss': tensor(nan, device='cuda:0'), 'num_cls': 0, 'reg_loss': tensor(nan, device='cuda:0'), 'num_reg': 12376, 'loss': tensor(nan, device='cuda:0')}\n",
      "Epoch 0.000, lr 0.00000, time 0.00\n",
      "Wed Jul 27 08:48:44 2022\n",
      "loss nan nan nan, ade1 nan, fde1 nan, ade nan, fde nan\n",
      "\n"
     ]
    },
    {
     "name": "stderr",
     "output_type": "stream",
     "text": [
      "593it [04:13,  4.18it/s]"
     ]
    },
    {
     "name": "stdout",
     "output_type": "stream",
     "text": [
      "{'cls_loss': tensor(nan, device='cuda:0'), 'num_cls': 0, 'reg_loss': tensor(nan, device='cuda:0'), 'num_reg': 10904, 'loss': tensor(nan, device='cuda:0')}\n",
      "Epoch 0.000, lr 0.00000, time 0.00\n",
      "Wed Jul 27 08:48:44 2022\n",
      "loss nan nan nan, ade1 nan, fde1 nan, ade nan, fde nan\n",
      "\n"
     ]
    },
    {
     "name": "stderr",
     "output_type": "stream",
     "text": [
      "594it [04:13,  4.26it/s]"
     ]
    },
    {
     "name": "stdout",
     "output_type": "stream",
     "text": [
      "{'cls_loss': tensor(nan, device='cuda:0'), 'num_cls': 0, 'reg_loss': tensor(nan, device='cuda:0'), 'num_reg': 11639, 'loss': tensor(nan, device='cuda:0')}\n",
      "Epoch 0.000, lr 0.00000, time 0.00\n",
      "Wed Jul 27 08:48:44 2022\n",
      "loss nan nan nan, ade1 nan, fde1 nan, ade nan, fde nan\n",
      "\n"
     ]
    },
    {
     "name": "stderr",
     "output_type": "stream",
     "text": [
      "595it [04:13,  4.08it/s]"
     ]
    },
    {
     "name": "stdout",
     "output_type": "stream",
     "text": [
      "{'cls_loss': tensor(nan, device='cuda:0'), 'num_cls': 0, 'reg_loss': tensor(nan, device='cuda:0'), 'num_reg': 10741, 'loss': tensor(nan, device='cuda:0')}\n",
      "Epoch 0.000, lr 0.00000, time 0.00\n",
      "Wed Jul 27 08:48:45 2022\n",
      "loss nan nan nan, ade1 nan, fde1 nan, ade nan, fde nan\n",
      "\n"
     ]
    },
    {
     "name": "stderr",
     "output_type": "stream",
     "text": [
      "596it [04:13,  4.24it/s]"
     ]
    },
    {
     "name": "stdout",
     "output_type": "stream",
     "text": [
      "{'cls_loss': tensor(nan, device='cuda:0'), 'num_cls': 0, 'reg_loss': tensor(nan, device='cuda:0'), 'num_reg': 9653, 'loss': tensor(nan, device='cuda:0')}\n",
      "Epoch 0.000, lr 0.00000, time 0.00\n",
      "Wed Jul 27 08:48:45 2022\n",
      "loss nan nan nan, ade1 nan, fde1 nan, ade nan, fde nan\n",
      "\n"
     ]
    },
    {
     "name": "stderr",
     "output_type": "stream",
     "text": [
      "597it [04:14,  4.21it/s]"
     ]
    },
    {
     "name": "stdout",
     "output_type": "stream",
     "text": [
      "{'cls_loss': tensor(nan, device='cuda:0'), 'num_cls': 0, 'reg_loss': tensor(nan, device='cuda:0'), 'num_reg': 10020, 'loss': tensor(nan, device='cuda:0')}\n",
      "Epoch 0.000, lr 0.00000, time 0.00\n",
      "Wed Jul 27 08:48:45 2022\n",
      "loss nan nan nan, ade1 nan, fde1 nan, ade nan, fde nan\n",
      "\n"
     ]
    },
    {
     "name": "stderr",
     "output_type": "stream",
     "text": [
      "598it [04:14,  2.58it/s]"
     ]
    },
    {
     "name": "stdout",
     "output_type": "stream",
     "text": [
      "{'cls_loss': tensor(nan, device='cuda:0'), 'num_cls': 0, 'reg_loss': tensor(nan, device='cuda:0'), 'num_reg': 11377, 'loss': tensor(nan, device='cuda:0')}\n",
      "Epoch 0.000, lr 0.00000, time 0.00\n",
      "Wed Jul 27 08:48:46 2022\n",
      "loss nan nan nan, ade1 nan, fde1 nan, ade nan, fde nan\n",
      "\n"
     ]
    },
    {
     "name": "stderr",
     "output_type": "stream",
     "text": [
      "599it [04:15,  2.92it/s]"
     ]
    },
    {
     "name": "stdout",
     "output_type": "stream",
     "text": [
      "{'cls_loss': tensor(nan, device='cuda:0'), 'num_cls': 0, 'reg_loss': tensor(nan, device='cuda:0'), 'num_reg': 12245, 'loss': tensor(nan, device='cuda:0')}\n",
      "Epoch 0.000, lr 0.00000, time 0.00\n",
      "Wed Jul 27 08:48:46 2022\n",
      "loss nan nan nan, ade1 nan, fde1 nan, ade nan, fde nan\n",
      "\n"
     ]
    },
    {
     "name": "stderr",
     "output_type": "stream",
     "text": [
      "600it [04:15,  3.25it/s]"
     ]
    },
    {
     "name": "stdout",
     "output_type": "stream",
     "text": [
      "{'cls_loss': tensor(nan, device='cuda:0'), 'num_cls': 0, 'reg_loss': tensor(nan, device='cuda:0'), 'num_reg': 10151, 'loss': tensor(nan, device='cuda:0')}\n",
      "Epoch 0.000, lr 0.00000, time 0.00\n",
      "Wed Jul 27 08:48:46 2022\n",
      "loss nan nan nan, ade1 nan, fde1 nan, ade nan, fde nan\n",
      "\n"
     ]
    },
    {
     "name": "stderr",
     "output_type": "stream",
     "text": [
      "601it [04:15,  3.32it/s]"
     ]
    },
    {
     "name": "stdout",
     "output_type": "stream",
     "text": [
      "{'cls_loss': tensor(nan, device='cuda:0'), 'num_cls': 0, 'reg_loss': tensor(nan, device='cuda:0'), 'num_reg': 11294, 'loss': tensor(nan, device='cuda:0')}\n",
      "Epoch 0.000, lr 0.00000, time 0.00\n",
      "Wed Jul 27 08:48:47 2022\n",
      "loss nan nan nan, ade1 nan, fde1 nan, ade nan, fde nan\n",
      "\n"
     ]
    },
    {
     "name": "stderr",
     "output_type": "stream",
     "text": [
      "602it [04:15,  3.59it/s]"
     ]
    },
    {
     "name": "stdout",
     "output_type": "stream",
     "text": [
      "{'cls_loss': tensor(nan, device='cuda:0'), 'num_cls': 0, 'reg_loss': tensor(nan, device='cuda:0'), 'num_reg': 9724, 'loss': tensor(nan, device='cuda:0')}\n",
      "Epoch 0.000, lr 0.00000, time 0.00\n",
      "Wed Jul 27 08:48:47 2022\n",
      "loss nan nan nan, ade1 nan, fde1 nan, ade nan, fde nan\n",
      "\n"
     ]
    },
    {
     "name": "stderr",
     "output_type": "stream",
     "text": [
      "603it [04:16,  3.80it/s]"
     ]
    },
    {
     "name": "stdout",
     "output_type": "stream",
     "text": [
      "{'cls_loss': tensor(nan, device='cuda:0'), 'num_cls': 0, 'reg_loss': tensor(nan, device='cuda:0'), 'num_reg': 9274, 'loss': tensor(nan, device='cuda:0')}\n",
      "Epoch 0.000, lr 0.00000, time 0.00\n",
      "Wed Jul 27 08:48:47 2022\n",
      "loss nan nan nan, ade1 nan, fde1 nan, ade nan, fde nan\n",
      "\n"
     ]
    },
    {
     "name": "stderr",
     "output_type": "stream",
     "text": [
      "604it [04:16,  3.98it/s]"
     ]
    },
    {
     "name": "stdout",
     "output_type": "stream",
     "text": [
      "{'cls_loss': tensor(nan, device='cuda:0'), 'num_cls': 0, 'reg_loss': tensor(nan, device='cuda:0'), 'num_reg': 11797, 'loss': tensor(nan, device='cuda:0')}\n",
      "Epoch 0.000, lr 0.00000, time 0.00\n",
      "Wed Jul 27 08:48:47 2022\n",
      "loss nan nan nan, ade1 nan, fde1 nan, ade nan, fde nan\n",
      "\n"
     ]
    },
    {
     "name": "stderr",
     "output_type": "stream",
     "text": [
      "605it [04:16,  3.86it/s]"
     ]
    },
    {
     "name": "stdout",
     "output_type": "stream",
     "text": [
      "{'cls_loss': tensor(nan, device='cuda:0'), 'num_cls': 0, 'reg_loss': tensor(nan, device='cuda:0'), 'num_reg': 10643, 'loss': tensor(nan, device='cuda:0')}\n",
      "Epoch 0.000, lr 0.00000, time 0.00\n",
      "Wed Jul 27 08:48:48 2022\n",
      "loss nan nan nan, ade1 nan, fde1 nan, ade nan, fde nan\n",
      "\n"
     ]
    },
    {
     "name": "stderr",
     "output_type": "stream",
     "text": [
      "606it [04:16,  4.01it/s]"
     ]
    },
    {
     "name": "stdout",
     "output_type": "stream",
     "text": [
      "{'cls_loss': tensor(nan, device='cuda:0'), 'num_cls': 0, 'reg_loss': tensor(nan, device='cuda:0'), 'num_reg': 11845, 'loss': tensor(nan, device='cuda:0')}\n",
      "Epoch 0.000, lr 0.00000, time 0.00\n",
      "Wed Jul 27 08:48:48 2022\n",
      "loss nan nan nan, ade1 nan, fde1 nan, ade nan, fde nan\n",
      "\n"
     ]
    },
    {
     "name": "stderr",
     "output_type": "stream",
     "text": [
      "607it [04:16,  4.08it/s]"
     ]
    },
    {
     "name": "stdout",
     "output_type": "stream",
     "text": [
      "{'cls_loss': tensor(nan, device='cuda:0'), 'num_cls': 0, 'reg_loss': tensor(nan, device='cuda:0'), 'num_reg': 11088, 'loss': tensor(nan, device='cuda:0')}\n",
      "Epoch 0.000, lr 0.00000, time 0.00\n",
      "Wed Jul 27 08:48:48 2022\n",
      "loss nan nan nan, ade1 nan, fde1 nan, ade nan, fde nan\n",
      "\n"
     ]
    },
    {
     "name": "stderr",
     "output_type": "stream",
     "text": [
      "608it [04:17,  4.18it/s]"
     ]
    },
    {
     "name": "stdout",
     "output_type": "stream",
     "text": [
      "{'cls_loss': tensor(nan, device='cuda:0'), 'num_cls': 0, 'reg_loss': tensor(nan, device='cuda:0'), 'num_reg': 10438, 'loss': tensor(nan, device='cuda:0')}\n",
      "Epoch 0.000, lr 0.00000, time 0.00\n",
      "Wed Jul 27 08:48:48 2022\n",
      "loss nan nan nan, ade1 nan, fde1 nan, ade nan, fde nan\n",
      "\n"
     ]
    },
    {
     "name": "stderr",
     "output_type": "stream",
     "text": [
      "609it [04:17,  4.07it/s]"
     ]
    },
    {
     "name": "stdout",
     "output_type": "stream",
     "text": [
      "{'cls_loss': tensor(nan, device='cuda:0'), 'num_cls': 0, 'reg_loss': tensor(nan, device='cuda:0'), 'num_reg': 9918, 'loss': tensor(nan, device='cuda:0')}\n",
      "Epoch 0.000, lr 0.00000, time 0.00\n",
      "Wed Jul 27 08:48:49 2022\n",
      "loss nan nan nan, ade1 nan, fde1 nan, ade nan, fde nan\n",
      "\n"
     ]
    },
    {
     "name": "stderr",
     "output_type": "stream",
     "text": [
      "610it [04:17,  4.19it/s]"
     ]
    },
    {
     "name": "stdout",
     "output_type": "stream",
     "text": [
      "{'cls_loss': tensor(nan, device='cuda:0'), 'num_cls': 0, 'reg_loss': tensor(nan, device='cuda:0'), 'num_reg': 10505, 'loss': tensor(nan, device='cuda:0')}\n",
      "Epoch 0.000, lr 0.00000, time 0.00\n",
      "Wed Jul 27 08:48:49 2022\n",
      "loss nan nan nan, ade1 nan, fde1 nan, ade nan, fde nan\n",
      "\n"
     ]
    },
    {
     "name": "stderr",
     "output_type": "stream",
     "text": [
      "611it [04:17,  4.18it/s]"
     ]
    },
    {
     "name": "stdout",
     "output_type": "stream",
     "text": [
      "{'cls_loss': tensor(nan, device='cuda:0'), 'num_cls': 0, 'reg_loss': tensor(nan, device='cuda:0'), 'num_reg': 12061, 'loss': tensor(nan, device='cuda:0')}\n",
      "Epoch 0.000, lr 0.00000, time 0.00\n",
      "Wed Jul 27 08:48:49 2022\n",
      "loss nan nan nan, ade1 nan, fde1 nan, ade nan, fde nan\n",
      "\n"
     ]
    },
    {
     "name": "stderr",
     "output_type": "stream",
     "text": [
      "612it [04:18,  4.22it/s]"
     ]
    },
    {
     "name": "stdout",
     "output_type": "stream",
     "text": [
      "{'cls_loss': tensor(nan, device='cuda:0'), 'num_cls': 0, 'reg_loss': tensor(nan, device='cuda:0'), 'num_reg': 10880, 'loss': tensor(nan, device='cuda:0')}\n",
      "Epoch 0.000, lr 0.00000, time 0.00\n",
      "Wed Jul 27 08:48:49 2022\n",
      "loss nan nan nan, ade1 nan, fde1 nan, ade nan, fde nan\n",
      "\n"
     ]
    },
    {
     "name": "stderr",
     "output_type": "stream",
     "text": [
      "613it [04:18,  4.10it/s]"
     ]
    },
    {
     "name": "stdout",
     "output_type": "stream",
     "text": [
      "{'cls_loss': tensor(nan, device='cuda:0'), 'num_cls': 0, 'reg_loss': tensor(nan, device='cuda:0'), 'num_reg': 9687, 'loss': tensor(nan, device='cuda:0')}\n",
      "Epoch 0.000, lr 0.00000, time 0.00\n",
      "Wed Jul 27 08:48:50 2022\n",
      "loss nan nan nan, ade1 nan, fde1 nan, ade nan, fde nan\n",
      "\n"
     ]
    },
    {
     "name": "stderr",
     "output_type": "stream",
     "text": [
      "614it [04:18,  4.21it/s]"
     ]
    },
    {
     "name": "stdout",
     "output_type": "stream",
     "text": [
      "{'cls_loss': tensor(nan, device='cuda:0'), 'num_cls': 0, 'reg_loss': tensor(nan, device='cuda:0'), 'num_reg': 9895, 'loss': tensor(nan, device='cuda:0')}\n",
      "Epoch 0.000, lr 0.00000, time 0.00\n",
      "Wed Jul 27 08:48:50 2022\n",
      "loss nan nan nan, ade1 nan, fde1 nan, ade nan, fde nan\n",
      "\n"
     ]
    },
    {
     "name": "stderr",
     "output_type": "stream",
     "text": [
      "615it [04:18,  3.74it/s]"
     ]
    },
    {
     "name": "stdout",
     "output_type": "stream",
     "text": [
      "{'cls_loss': tensor(nan, device='cuda:0'), 'num_cls': 0, 'reg_loss': tensor(nan, device='cuda:0'), 'num_reg': 12982, 'loss': tensor(nan, device='cuda:0')}\n",
      "Epoch 0.000, lr 0.00000, time 0.00\n",
      "Wed Jul 27 08:48:50 2022\n",
      "loss nan nan nan, ade1 nan, fde1 nan, ade nan, fde nan\n",
      "\n"
     ]
    },
    {
     "name": "stderr",
     "output_type": "stream",
     "text": [
      "616it [04:19,  3.76it/s]"
     ]
    },
    {
     "name": "stdout",
     "output_type": "stream",
     "text": [
      "{'cls_loss': tensor(nan, device='cuda:0'), 'num_cls': 0, 'reg_loss': tensor(nan, device='cuda:0'), 'num_reg': 10445, 'loss': tensor(nan, device='cuda:0')}\n",
      "Epoch 0.000, lr 0.00000, time 0.00\n",
      "Wed Jul 27 08:48:50 2022\n",
      "loss nan nan nan, ade1 nan, fde1 nan, ade nan, fde nan\n",
      "\n"
     ]
    },
    {
     "name": "stderr",
     "output_type": "stream",
     "text": [
      "617it [04:19,  2.75it/s]"
     ]
    },
    {
     "name": "stdout",
     "output_type": "stream",
     "text": [
      "{'cls_loss': tensor(nan, device='cuda:0'), 'num_cls': 0, 'reg_loss': tensor(nan, device='cuda:0'), 'num_reg': 10775, 'loss': tensor(nan, device='cuda:0')}\n",
      "Epoch 0.000, lr 0.00000, time 0.00\n",
      "Wed Jul 27 08:48:51 2022\n",
      "loss nan nan nan, ade1 nan, fde1 nan, ade nan, fde nan\n",
      "\n"
     ]
    },
    {
     "name": "stderr",
     "output_type": "stream",
     "text": [
      "618it [04:20,  3.00it/s]"
     ]
    },
    {
     "name": "stdout",
     "output_type": "stream",
     "text": [
      "{'cls_loss': tensor(nan, device='cuda:0'), 'num_cls': 0, 'reg_loss': tensor(nan, device='cuda:0'), 'num_reg': 10892, 'loss': tensor(nan, device='cuda:0')}\n",
      "Epoch 0.000, lr 0.00000, time 0.00\n",
      "Wed Jul 27 08:48:51 2022\n",
      "loss nan nan nan, ade1 nan, fde1 nan, ade nan, fde nan\n",
      "\n"
     ]
    },
    {
     "name": "stderr",
     "output_type": "stream",
     "text": [
      "619it [04:20,  3.25it/s]"
     ]
    },
    {
     "name": "stdout",
     "output_type": "stream",
     "text": [
      "{'cls_loss': tensor(nan, device='cuda:0'), 'num_cls': 0, 'reg_loss': tensor(nan, device='cuda:0'), 'num_reg': 10652, 'loss': tensor(nan, device='cuda:0')}\n",
      "Epoch 0.000, lr 0.00000, time 0.00\n",
      "Wed Jul 27 08:48:51 2022\n",
      "loss nan nan nan, ade1 nan, fde1 nan, ade nan, fde nan\n",
      "\n"
     ]
    },
    {
     "name": "stderr",
     "output_type": "stream",
     "text": [
      "620it [04:20,  3.53it/s]"
     ]
    },
    {
     "name": "stdout",
     "output_type": "stream",
     "text": [
      "{'cls_loss': tensor(nan, device='cuda:0'), 'num_cls': 0, 'reg_loss': tensor(nan, device='cuda:0'), 'num_reg': 10577, 'loss': tensor(nan, device='cuda:0')}\n",
      "Epoch 0.000, lr 0.00000, time 0.00\n",
      "Wed Jul 27 08:48:52 2022\n",
      "loss nan nan nan, ade1 nan, fde1 nan, ade nan, fde nan\n",
      "\n"
     ]
    },
    {
     "name": "stderr",
     "output_type": "stream",
     "text": [
      "621it [04:20,  3.71it/s]"
     ]
    },
    {
     "name": "stdout",
     "output_type": "stream",
     "text": [
      "{'cls_loss': tensor(nan, device='cuda:0'), 'num_cls': 0, 'reg_loss': tensor(nan, device='cuda:0'), 'num_reg': 10724, 'loss': tensor(nan, device='cuda:0')}\n",
      "Epoch 0.000, lr 0.00000, time 0.00\n",
      "Wed Jul 27 08:48:52 2022\n",
      "loss nan nan nan, ade1 nan, fde1 nan, ade nan, fde nan\n",
      "\n"
     ]
    },
    {
     "name": "stderr",
     "output_type": "stream",
     "text": [
      "622it [04:21,  3.45it/s]"
     ]
    },
    {
     "name": "stdout",
     "output_type": "stream",
     "text": [
      "{'cls_loss': tensor(nan, device='cuda:0'), 'num_cls': 0, 'reg_loss': tensor(nan, device='cuda:0'), 'num_reg': 13675, 'loss': tensor(nan, device='cuda:0')}\n",
      "Epoch 0.000, lr 0.00000, time 0.00\n",
      "Wed Jul 27 08:48:52 2022\n",
      "loss nan nan nan, ade1 nan, fde1 nan, ade nan, fde nan\n",
      "\n"
     ]
    },
    {
     "name": "stderr",
     "output_type": "stream",
     "text": [
      "623it [04:21,  2.70it/s]"
     ]
    },
    {
     "name": "stdout",
     "output_type": "stream",
     "text": [
      "{'cls_loss': tensor(nan, device='cuda:0'), 'num_cls': 0, 'reg_loss': tensor(nan, device='cuda:0'), 'num_reg': 12680, 'loss': tensor(nan, device='cuda:0')}\n",
      "Epoch 0.000, lr 0.00000, time 0.00\n",
      "Wed Jul 27 08:48:53 2022\n",
      "loss nan nan nan, ade1 nan, fde1 nan, ade nan, fde nan\n",
      "\n"
     ]
    },
    {
     "name": "stderr",
     "output_type": "stream",
     "text": [
      "624it [04:21,  2.91it/s]"
     ]
    },
    {
     "name": "stdout",
     "output_type": "stream",
     "text": [
      "{'cls_loss': tensor(nan, device='cuda:0'), 'num_cls': 0, 'reg_loss': tensor(nan, device='cuda:0'), 'num_reg': 11924, 'loss': tensor(nan, device='cuda:0')}\n",
      "Epoch 0.000, lr 0.00000, time 0.00\n",
      "Wed Jul 27 08:48:53 2022\n",
      "loss nan nan nan, ade1 nan, fde1 nan, ade nan, fde nan\n",
      "\n"
     ]
    },
    {
     "name": "stderr",
     "output_type": "stream",
     "text": [
      "625it [04:22,  3.14it/s]"
     ]
    },
    {
     "name": "stdout",
     "output_type": "stream",
     "text": [
      "{'cls_loss': tensor(nan, device='cuda:0'), 'num_cls': 0, 'reg_loss': tensor(nan, device='cuda:0'), 'num_reg': 13342, 'loss': tensor(nan, device='cuda:0')}\n",
      "Epoch 0.000, lr 0.00000, time 0.00\n",
      "Wed Jul 27 08:48:53 2022\n",
      "loss nan nan nan, ade1 nan, fde1 nan, ade nan, fde nan\n",
      "\n"
     ]
    },
    {
     "name": "stderr",
     "output_type": "stream",
     "text": [
      "626it [04:22,  3.43it/s]"
     ]
    },
    {
     "name": "stdout",
     "output_type": "stream",
     "text": [
      "{'cls_loss': tensor(nan, device='cuda:0'), 'num_cls': 0, 'reg_loss': tensor(nan, device='cuda:0'), 'num_reg': 11538, 'loss': tensor(nan, device='cuda:0')}\n",
      "Epoch 0.000, lr 0.00000, time 0.00\n",
      "Wed Jul 27 08:48:54 2022\n",
      "loss nan nan nan, ade1 nan, fde1 nan, ade nan, fde nan\n",
      "\n"
     ]
    },
    {
     "name": "stderr",
     "output_type": "stream",
     "text": [
      "627it [04:22,  3.64it/s]"
     ]
    },
    {
     "name": "stdout",
     "output_type": "stream",
     "text": [
      "{'cls_loss': tensor(nan, device='cuda:0'), 'num_cls': 0, 'reg_loss': tensor(nan, device='cuda:0'), 'num_reg': 10264, 'loss': tensor(nan, device='cuda:0')}\n",
      "Epoch 0.000, lr 0.00000, time 0.00\n",
      "Wed Jul 27 08:48:54 2022\n",
      "loss nan nan nan, ade1 nan, fde1 nan, ade nan, fde nan\n",
      "\n"
     ]
    },
    {
     "name": "stderr",
     "output_type": "stream",
     "text": [
      "628it [04:22,  3.68it/s]"
     ]
    },
    {
     "name": "stdout",
     "output_type": "stream",
     "text": [
      "{'cls_loss': tensor(nan, device='cuda:0'), 'num_cls': 0, 'reg_loss': tensor(nan, device='cuda:0'), 'num_reg': 11607, 'loss': tensor(nan, device='cuda:0')}\n",
      "Epoch 0.000, lr 0.00000, time 0.00\n",
      "Wed Jul 27 08:48:54 2022\n",
      "loss nan nan nan, ade1 nan, fde1 nan, ade nan, fde nan\n",
      "\n"
     ]
    },
    {
     "name": "stderr",
     "output_type": "stream",
     "text": [
      "629it [04:23,  2.74it/s]"
     ]
    },
    {
     "name": "stdout",
     "output_type": "stream",
     "text": [
      "{'cls_loss': tensor(nan, device='cuda:0'), 'num_cls': 0, 'reg_loss': tensor(nan, device='cuda:0'), 'num_reg': 12685, 'loss': tensor(nan, device='cuda:0')}\n",
      "Epoch 0.000, lr 0.00000, time 0.00\n",
      "Wed Jul 27 08:48:55 2022\n",
      "loss nan nan nan, ade1 nan, fde1 nan, ade nan, fde nan\n",
      "\n"
     ]
    },
    {
     "name": "stderr",
     "output_type": "stream",
     "text": [
      "630it [04:23,  3.08it/s]"
     ]
    },
    {
     "name": "stdout",
     "output_type": "stream",
     "text": [
      "{'cls_loss': tensor(nan, device='cuda:0'), 'num_cls': 0, 'reg_loss': tensor(nan, device='cuda:0'), 'num_reg': 11560, 'loss': tensor(nan, device='cuda:0')}\n",
      "Epoch 0.000, lr 0.00000, time 0.00\n",
      "Wed Jul 27 08:48:55 2022\n",
      "loss nan nan nan, ade1 nan, fde1 nan, ade nan, fde nan\n",
      "\n"
     ]
    },
    {
     "name": "stderr",
     "output_type": "stream",
     "text": [
      "631it [04:24,  3.26it/s]"
     ]
    },
    {
     "name": "stdout",
     "output_type": "stream",
     "text": [
      "{'cls_loss': tensor(nan, device='cuda:0'), 'num_cls': 0, 'reg_loss': tensor(nan, device='cuda:0'), 'num_reg': 11058, 'loss': tensor(nan, device='cuda:0')}\n",
      "Epoch 0.000, lr 0.00000, time 0.00\n",
      "Wed Jul 27 08:48:55 2022\n",
      "loss nan nan nan, ade1 nan, fde1 nan, ade nan, fde nan\n",
      "\n"
     ]
    },
    {
     "name": "stderr",
     "output_type": "stream",
     "text": [
      "632it [04:24,  3.53it/s]"
     ]
    },
    {
     "name": "stdout",
     "output_type": "stream",
     "text": [
      "{'cls_loss': tensor(nan, device='cuda:0'), 'num_cls': 0, 'reg_loss': tensor(nan, device='cuda:0'), 'num_reg': 11949, 'loss': tensor(nan, device='cuda:0')}\n",
      "Epoch 0.000, lr 0.00000, time 0.00\n",
      "Wed Jul 27 08:48:55 2022\n",
      "loss nan nan nan, ade1 nan, fde1 nan, ade nan, fde nan\n",
      "\n"
     ]
    },
    {
     "name": "stderr",
     "output_type": "stream",
     "text": [
      "633it [04:24,  3.68it/s]"
     ]
    },
    {
     "name": "stdout",
     "output_type": "stream",
     "text": [
      "{'cls_loss': tensor(nan, device='cuda:0'), 'num_cls': 0, 'reg_loss': tensor(nan, device='cuda:0'), 'num_reg': 10526, 'loss': tensor(nan, device='cuda:0')}\n",
      "Epoch 0.000, lr 0.00000, time 0.00\n",
      "Wed Jul 27 08:48:56 2022\n",
      "loss nan nan nan, ade1 nan, fde1 nan, ade nan, fde nan\n",
      "\n"
     ]
    },
    {
     "name": "stderr",
     "output_type": "stream",
     "text": [
      "634it [04:24,  3.74it/s]"
     ]
    },
    {
     "name": "stdout",
     "output_type": "stream",
     "text": [
      "{'cls_loss': tensor(nan, device='cuda:0'), 'num_cls': 0, 'reg_loss': tensor(nan, device='cuda:0'), 'num_reg': 11017, 'loss': tensor(nan, device='cuda:0')}\n",
      "Epoch 0.000, lr 0.00000, time 0.00\n",
      "Wed Jul 27 08:48:56 2022\n",
      "loss nan nan nan, ade1 nan, fde1 nan, ade nan, fde nan\n",
      "\n"
     ]
    },
    {
     "name": "stderr",
     "output_type": "stream",
     "text": [
      "635it [04:25,  3.73it/s]"
     ]
    },
    {
     "name": "stdout",
     "output_type": "stream",
     "text": [
      "{'cls_loss': tensor(nan, device='cuda:0'), 'num_cls': 0, 'reg_loss': tensor(nan, device='cuda:0'), 'num_reg': 12289, 'loss': tensor(nan, device='cuda:0')}\n",
      "Epoch 0.000, lr 0.00000, time 0.00\n",
      "Wed Jul 27 08:48:56 2022\n",
      "loss nan nan nan, ade1 nan, fde1 nan, ade nan, fde nan\n",
      "\n"
     ]
    },
    {
     "name": "stderr",
     "output_type": "stream",
     "text": [
      "636it [04:25,  3.94it/s]"
     ]
    },
    {
     "name": "stdout",
     "output_type": "stream",
     "text": [
      "{'cls_loss': tensor(nan, device='cuda:0'), 'num_cls': 0, 'reg_loss': tensor(nan, device='cuda:0'), 'num_reg': 9753, 'loss': tensor(nan, device='cuda:0')}\n",
      "Epoch 0.000, lr 0.00000, time 0.00\n",
      "Wed Jul 27 08:48:56 2022\n",
      "loss nan nan nan, ade1 nan, fde1 nan, ade nan, fde nan\n",
      "\n"
     ]
    },
    {
     "name": "stderr",
     "output_type": "stream",
     "text": [
      "637it [04:25,  3.97it/s]"
     ]
    },
    {
     "name": "stdout",
     "output_type": "stream",
     "text": [
      "{'cls_loss': tensor(nan, device='cuda:0'), 'num_cls': 0, 'reg_loss': tensor(nan, device='cuda:0'), 'num_reg': 11558, 'loss': tensor(nan, device='cuda:0')}\n",
      "Epoch 0.000, lr 0.00000, time 0.00\n",
      "Wed Jul 27 08:48:57 2022\n",
      "loss nan nan nan, ade1 nan, fde1 nan, ade nan, fde nan\n",
      "\n"
     ]
    },
    {
     "name": "stderr",
     "output_type": "stream",
     "text": [
      "638it [04:25,  3.90it/s]"
     ]
    },
    {
     "name": "stdout",
     "output_type": "stream",
     "text": [
      "{'cls_loss': tensor(nan, device='cuda:0'), 'num_cls': 0, 'reg_loss': tensor(nan, device='cuda:0'), 'num_reg': 9643, 'loss': tensor(nan, device='cuda:0')}\n",
      "Epoch 0.000, lr 0.00000, time 0.00\n",
      "Wed Jul 27 08:48:57 2022\n",
      "loss nan nan nan, ade1 nan, fde1 nan, ade nan, fde nan\n",
      "\n"
     ]
    },
    {
     "name": "stderr",
     "output_type": "stream",
     "text": [
      "639it [04:26,  3.98it/s]"
     ]
    },
    {
     "name": "stdout",
     "output_type": "stream",
     "text": [
      "{'cls_loss': tensor(nan, device='cuda:0'), 'num_cls': 0, 'reg_loss': tensor(nan, device='cuda:0'), 'num_reg': 10952, 'loss': tensor(nan, device='cuda:0')}\n",
      "Epoch 0.000, lr 0.00000, time 0.00\n",
      "Wed Jul 27 08:48:57 2022\n",
      "loss nan nan nan, ade1 nan, fde1 nan, ade nan, fde nan\n",
      "\n"
     ]
    },
    {
     "name": "stderr",
     "output_type": "stream",
     "text": [
      "640it [04:26,  4.11it/s]"
     ]
    },
    {
     "name": "stdout",
     "output_type": "stream",
     "text": [
      "{'cls_loss': tensor(nan, device='cuda:0'), 'num_cls': 0, 'reg_loss': tensor(nan, device='cuda:0'), 'num_reg': 10785, 'loss': tensor(nan, device='cuda:0')}\n",
      "Epoch 0.000, lr 0.00000, time 0.00\n",
      "Wed Jul 27 08:48:57 2022\n",
      "loss nan nan nan, ade1 nan, fde1 nan, ade nan, fde nan\n",
      "\n"
     ]
    },
    {
     "name": "stderr",
     "output_type": "stream",
     "text": [
      "641it [04:26,  2.73it/s]"
     ]
    },
    {
     "name": "stdout",
     "output_type": "stream",
     "text": [
      "{'cls_loss': tensor(nan, device='cuda:0'), 'num_cls': 0, 'reg_loss': tensor(nan, device='cuda:0'), 'num_reg': 10964, 'loss': tensor(nan, device='cuda:0')}\n",
      "Epoch 0.000, lr 0.00000, time 0.00\n",
      "Wed Jul 27 08:48:58 2022\n",
      "loss nan nan nan, ade1 nan, fde1 nan, ade nan, fde nan\n",
      "\n"
     ]
    },
    {
     "name": "stderr",
     "output_type": "stream",
     "text": [
      "642it [04:27,  3.07it/s]"
     ]
    },
    {
     "name": "stdout",
     "output_type": "stream",
     "text": [
      "{'cls_loss': tensor(nan, device='cuda:0'), 'num_cls': 0, 'reg_loss': tensor(nan, device='cuda:0'), 'num_reg': 10231, 'loss': tensor(nan, device='cuda:0')}\n",
      "Epoch 0.000, lr 0.00000, time 0.00\n",
      "Wed Jul 27 08:48:58 2022\n",
      "loss nan nan nan, ade1 nan, fde1 nan, ade nan, fde nan\n",
      "\n"
     ]
    },
    {
     "name": "stderr",
     "output_type": "stream",
     "text": [
      "643it [04:27,  2.75it/s]"
     ]
    },
    {
     "name": "stdout",
     "output_type": "stream",
     "text": [
      "{'cls_loss': tensor(nan, device='cuda:0'), 'num_cls': 0, 'reg_loss': tensor(nan, device='cuda:0'), 'num_reg': 9116, 'loss': tensor(nan, device='cuda:0')}\n",
      "Epoch 0.000, lr 0.00000, time 0.00\n",
      "Wed Jul 27 08:48:59 2022\n",
      "loss nan nan nan, ade1 nan, fde1 nan, ade nan, fde nan\n",
      "\n"
     ]
    },
    {
     "name": "stderr",
     "output_type": "stream",
     "text": [
      "644it [04:27,  3.09it/s]"
     ]
    },
    {
     "name": "stdout",
     "output_type": "stream",
     "text": [
      "{'cls_loss': tensor(nan, device='cuda:0'), 'num_cls': 0, 'reg_loss': tensor(nan, device='cuda:0'), 'num_reg': 11080, 'loss': tensor(nan, device='cuda:0')}\n",
      "Epoch 0.000, lr 0.00000, time 0.00\n",
      "Wed Jul 27 08:48:59 2022\n",
      "loss nan nan nan, ade1 nan, fde1 nan, ade nan, fde nan\n",
      "\n"
     ]
    },
    {
     "name": "stderr",
     "output_type": "stream",
     "text": [
      "645it [04:28,  3.36it/s]"
     ]
    },
    {
     "name": "stdout",
     "output_type": "stream",
     "text": [
      "{'cls_loss': tensor(nan, device='cuda:0'), 'num_cls': 0, 'reg_loss': tensor(nan, device='cuda:0'), 'num_reg': 10492, 'loss': tensor(nan, device='cuda:0')}\n",
      "Epoch 0.000, lr 0.00000, time 0.00\n",
      "Wed Jul 27 08:48:59 2022\n",
      "loss nan nan nan, ade1 nan, fde1 nan, ade nan, fde nan\n",
      "\n"
     ]
    },
    {
     "name": "stderr",
     "output_type": "stream",
     "text": [
      "646it [04:28,  3.65it/s]"
     ]
    },
    {
     "name": "stdout",
     "output_type": "stream",
     "text": [
      "{'cls_loss': tensor(nan, device='cuda:0'), 'num_cls': 0, 'reg_loss': tensor(nan, device='cuda:0'), 'num_reg': 9158, 'loss': tensor(nan, device='cuda:0')}\n",
      "Epoch 0.000, lr 0.00000, time 0.00\n",
      "Wed Jul 27 08:48:59 2022\n",
      "loss nan nan nan, ade1 nan, fde1 nan, ade nan, fde nan\n",
      "\n"
     ]
    },
    {
     "name": "stderr",
     "output_type": "stream",
     "text": [
      "647it [04:28,  3.72it/s]"
     ]
    },
    {
     "name": "stdout",
     "output_type": "stream",
     "text": [
      "{'cls_loss': tensor(nan, device='cuda:0'), 'num_cls': 0, 'reg_loss': tensor(nan, device='cuda:0'), 'num_reg': 8950, 'loss': tensor(nan, device='cuda:0')}\n",
      "Epoch 0.000, lr 0.00000, time 0.00\n",
      "Wed Jul 27 08:49:00 2022\n",
      "loss nan nan nan, ade1 nan, fde1 nan, ade nan, fde nan\n",
      "\n"
     ]
    },
    {
     "name": "stderr",
     "output_type": "stream",
     "text": [
      "648it [04:28,  3.88it/s]"
     ]
    },
    {
     "name": "stdout",
     "output_type": "stream",
     "text": [
      "{'cls_loss': tensor(nan, device='cuda:0'), 'num_cls': 0, 'reg_loss': tensor(nan, device='cuda:0'), 'num_reg': 11992, 'loss': tensor(nan, device='cuda:0')}\n",
      "Epoch 0.000, lr 0.00000, time 0.00\n",
      "Wed Jul 27 08:49:00 2022\n",
      "loss nan nan nan, ade1 nan, fde1 nan, ade nan, fde nan\n",
      "\n"
     ]
    },
    {
     "name": "stderr",
     "output_type": "stream",
     "text": [
      "649it [04:28,  3.95it/s]"
     ]
    },
    {
     "name": "stdout",
     "output_type": "stream",
     "text": [
      "{'cls_loss': tensor(nan, device='cuda:0'), 'num_cls': 0, 'reg_loss': tensor(nan, device='cuda:0'), 'num_reg': 11597, 'loss': tensor(nan, device='cuda:0')}\n",
      "Epoch 0.000, lr 0.00000, time 0.00\n",
      "Wed Jul 27 08:49:00 2022\n",
      "loss nan nan nan, ade1 nan, fde1 nan, ade nan, fde nan\n",
      "\n"
     ]
    },
    {
     "name": "stderr",
     "output_type": "stream",
     "text": [
      "650it [04:29,  4.08it/s]"
     ]
    },
    {
     "name": "stdout",
     "output_type": "stream",
     "text": [
      "{'cls_loss': tensor(nan, device='cuda:0'), 'num_cls': 0, 'reg_loss': tensor(nan, device='cuda:0'), 'num_reg': 10885, 'loss': tensor(nan, device='cuda:0')}\n",
      "Epoch 0.000, lr 0.00000, time 0.00\n",
      "Wed Jul 27 08:49:00 2022\n",
      "loss nan nan nan, ade1 nan, fde1 nan, ade nan, fde nan\n",
      "\n"
     ]
    },
    {
     "name": "stderr",
     "output_type": "stream",
     "text": [
      "651it [04:29,  3.86it/s]"
     ]
    },
    {
     "name": "stdout",
     "output_type": "stream",
     "text": [
      "{'cls_loss': tensor(nan, device='cuda:0'), 'num_cls': 0, 'reg_loss': tensor(nan, device='cuda:0'), 'num_reg': 11033, 'loss': tensor(nan, device='cuda:0')}\n",
      "Epoch 0.000, lr 0.00000, time 0.00\n",
      "Wed Jul 27 08:49:01 2022\n",
      "loss nan nan nan, ade1 nan, fde1 nan, ade nan, fde nan\n",
      "\n"
     ]
    },
    {
     "name": "stderr",
     "output_type": "stream",
     "text": [
      "652it [04:29,  3.95it/s]"
     ]
    },
    {
     "name": "stdout",
     "output_type": "stream",
     "text": [
      "{'cls_loss': tensor(nan, device='cuda:0'), 'num_cls': 0, 'reg_loss': tensor(nan, device='cuda:0'), 'num_reg': 12114, 'loss': tensor(nan, device='cuda:0')}\n",
      "Epoch 0.000, lr 0.00000, time 0.00\n",
      "Wed Jul 27 08:49:01 2022\n",
      "loss nan nan nan, ade1 nan, fde1 nan, ade nan, fde nan\n",
      "\n"
     ]
    },
    {
     "name": "stderr",
     "output_type": "stream",
     "text": [
      "653it [04:29,  4.02it/s]"
     ]
    },
    {
     "name": "stdout",
     "output_type": "stream",
     "text": [
      "{'cls_loss': tensor(nan, device='cuda:0'), 'num_cls': 0, 'reg_loss': tensor(nan, device='cuda:0'), 'num_reg': 10230, 'loss': tensor(nan, device='cuda:0')}\n",
      "Epoch 0.000, lr 0.00000, time 0.00\n",
      "Wed Jul 27 08:49:01 2022\n",
      "loss nan nan nan, ade1 nan, fde1 nan, ade nan, fde nan\n",
      "\n"
     ]
    },
    {
     "name": "stderr",
     "output_type": "stream",
     "text": [
      "654it [04:30,  4.07it/s]"
     ]
    },
    {
     "name": "stdout",
     "output_type": "stream",
     "text": [
      "{'cls_loss': tensor(nan, device='cuda:0'), 'num_cls': 0, 'reg_loss': tensor(nan, device='cuda:0'), 'num_reg': 12203, 'loss': tensor(nan, device='cuda:0')}\n",
      "Epoch 0.000, lr 0.00000, time 0.00\n",
      "Wed Jul 27 08:49:01 2022\n",
      "loss nan nan nan, ade1 nan, fde1 nan, ade nan, fde nan\n",
      "\n"
     ]
    },
    {
     "name": "stderr",
     "output_type": "stream",
     "text": [
      "655it [04:30,  3.95it/s]"
     ]
    },
    {
     "name": "stdout",
     "output_type": "stream",
     "text": [
      "{'cls_loss': tensor(nan, device='cuda:0'), 'num_cls': 0, 'reg_loss': tensor(nan, device='cuda:0'), 'num_reg': 9150, 'loss': tensor(nan, device='cuda:0')}\n",
      "Epoch 0.000, lr 0.00000, time 0.00\n",
      "Wed Jul 27 08:49:02 2022\n",
      "loss nan nan nan, ade1 nan, fde1 nan, ade nan, fde nan\n",
      "\n"
     ]
    },
    {
     "name": "stderr",
     "output_type": "stream",
     "text": [
      "656it [04:30,  4.04it/s]"
     ]
    },
    {
     "name": "stdout",
     "output_type": "stream",
     "text": [
      "{'cls_loss': tensor(nan, device='cuda:0'), 'num_cls': 0, 'reg_loss': tensor(nan, device='cuda:0'), 'num_reg': 12798, 'loss': tensor(nan, device='cuda:0')}\n",
      "Epoch 0.000, lr 0.00000, time 0.00\n",
      "Wed Jul 27 08:49:02 2022\n",
      "loss nan nan nan, ade1 nan, fde1 nan, ade nan, fde nan\n",
      "\n"
     ]
    },
    {
     "name": "stderr",
     "output_type": "stream",
     "text": [
      "657it [04:30,  4.05it/s]"
     ]
    },
    {
     "name": "stdout",
     "output_type": "stream",
     "text": [
      "{'cls_loss': tensor(nan, device='cuda:0'), 'num_cls': 0, 'reg_loss': tensor(nan, device='cuda:0'), 'num_reg': 11725, 'loss': tensor(nan, device='cuda:0')}\n",
      "Epoch 0.000, lr 0.00000, time 0.00\n",
      "Wed Jul 27 08:49:02 2022\n",
      "loss nan nan nan, ade1 nan, fde1 nan, ade nan, fde nan\n",
      "\n"
     ]
    },
    {
     "name": "stderr",
     "output_type": "stream",
     "text": [
      "658it [04:31,  4.10it/s]"
     ]
    },
    {
     "name": "stdout",
     "output_type": "stream",
     "text": [
      "{'cls_loss': tensor(nan, device='cuda:0'), 'num_cls': 0, 'reg_loss': tensor(nan, device='cuda:0'), 'num_reg': 10353, 'loss': tensor(nan, device='cuda:0')}\n",
      "Epoch 0.000, lr 0.00000, time 0.00\n",
      "Wed Jul 27 08:49:02 2022\n",
      "loss nan nan nan, ade1 nan, fde1 nan, ade nan, fde nan\n",
      "\n"
     ]
    },
    {
     "name": "stderr",
     "output_type": "stream",
     "text": [
      "659it [04:31,  3.84it/s]"
     ]
    },
    {
     "name": "stdout",
     "output_type": "stream",
     "text": [
      "{'cls_loss': tensor(nan, device='cuda:0'), 'num_cls': 0, 'reg_loss': tensor(nan, device='cuda:0'), 'num_reg': 11652, 'loss': tensor(nan, device='cuda:0')}\n",
      "Epoch 0.000, lr 0.00000, time 0.00\n",
      "Wed Jul 27 08:49:03 2022\n",
      "loss nan nan nan, ade1 nan, fde1 nan, ade nan, fde nan\n",
      "\n"
     ]
    },
    {
     "name": "stderr",
     "output_type": "stream",
     "text": [
      "660it [04:31,  3.98it/s]"
     ]
    },
    {
     "name": "stdout",
     "output_type": "stream",
     "text": [
      "{'cls_loss': tensor(nan, device='cuda:0'), 'num_cls': 0, 'reg_loss': tensor(nan, device='cuda:0'), 'num_reg': 10227, 'loss': tensor(nan, device='cuda:0')}\n",
      "Epoch 0.000, lr 0.00000, time 0.00\n",
      "Wed Jul 27 08:49:03 2022\n",
      "loss nan nan nan, ade1 nan, fde1 nan, ade nan, fde nan\n",
      "\n"
     ]
    },
    {
     "name": "stderr",
     "output_type": "stream",
     "text": [
      "661it [04:32,  2.99it/s]"
     ]
    },
    {
     "name": "stdout",
     "output_type": "stream",
     "text": [
      "{'cls_loss': tensor(nan, device='cuda:0'), 'num_cls': 0, 'reg_loss': tensor(nan, device='cuda:0'), 'num_reg': 10599, 'loss': tensor(nan, device='cuda:0')}\n",
      "Epoch 0.000, lr 0.00000, time 0.00\n",
      "Wed Jul 27 08:49:03 2022\n",
      "loss nan nan nan, ade1 nan, fde1 nan, ade nan, fde nan\n",
      "\n"
     ]
    },
    {
     "name": "stderr",
     "output_type": "stream",
     "text": [
      "662it [04:32,  2.94it/s]"
     ]
    },
    {
     "name": "stdout",
     "output_type": "stream",
     "text": [
      "{'cls_loss': tensor(nan, device='cuda:0'), 'num_cls': 0, 'reg_loss': tensor(nan, device='cuda:0'), 'num_reg': 13864, 'loss': tensor(nan, device='cuda:0')}\n",
      "Epoch 0.000, lr 0.00000, time 0.00\n",
      "Wed Jul 27 08:49:04 2022\n",
      "loss nan nan nan, ade1 nan, fde1 nan, ade nan, fde nan\n",
      "\n"
     ]
    },
    {
     "name": "stderr",
     "output_type": "stream",
     "text": [
      "663it [04:32,  3.21it/s]"
     ]
    },
    {
     "name": "stdout",
     "output_type": "stream",
     "text": [
      "{'cls_loss': tensor(nan, device='cuda:0'), 'num_cls': 0, 'reg_loss': tensor(nan, device='cuda:0'), 'num_reg': 12363, 'loss': tensor(nan, device='cuda:0')}\n",
      "Epoch 0.000, lr 0.00000, time 0.00\n",
      "Wed Jul 27 08:49:04 2022\n",
      "loss nan nan nan, ade1 nan, fde1 nan, ade nan, fde nan\n",
      "\n"
     ]
    },
    {
     "name": "stderr",
     "output_type": "stream",
     "text": [
      "664it [04:33,  3.39it/s]"
     ]
    },
    {
     "name": "stdout",
     "output_type": "stream",
     "text": [
      "{'cls_loss': tensor(nan, device='cuda:0'), 'num_cls': 0, 'reg_loss': tensor(nan, device='cuda:0'), 'num_reg': 10057, 'loss': tensor(nan, device='cuda:0')}\n",
      "Epoch 0.000, lr 0.00000, time 0.00\n",
      "Wed Jul 27 08:49:04 2022\n",
      "loss nan nan nan, ade1 nan, fde1 nan, ade nan, fde nan\n",
      "\n"
     ]
    },
    {
     "name": "stderr",
     "output_type": "stream",
     "text": [
      "665it [04:33,  3.28it/s]"
     ]
    },
    {
     "name": "stdout",
     "output_type": "stream",
     "text": [
      "{'cls_loss': tensor(nan, device='cuda:0'), 'num_cls': 0, 'reg_loss': tensor(nan, device='cuda:0'), 'num_reg': 8716, 'loss': tensor(nan, device='cuda:0')}\n",
      "Epoch 0.000, lr 0.00000, time 0.00\n",
      "Wed Jul 27 08:49:05 2022\n",
      "loss nan nan nan, ade1 nan, fde1 nan, ade nan, fde nan\n",
      "\n"
     ]
    },
    {
     "name": "stderr",
     "output_type": "stream",
     "text": [
      "666it [04:33,  3.55it/s]"
     ]
    },
    {
     "name": "stdout",
     "output_type": "stream",
     "text": [
      "{'cls_loss': tensor(nan, device='cuda:0'), 'num_cls': 0, 'reg_loss': tensor(nan, device='cuda:0'), 'num_reg': 10904, 'loss': tensor(nan, device='cuda:0')}\n",
      "Epoch 0.000, lr 0.00000, time 0.00\n",
      "Wed Jul 27 08:49:05 2022\n",
      "loss nan nan nan, ade1 nan, fde1 nan, ade nan, fde nan\n",
      "\n"
     ]
    },
    {
     "name": "stderr",
     "output_type": "stream",
     "text": [
      "667it [04:33,  3.74it/s]"
     ]
    },
    {
     "name": "stdout",
     "output_type": "stream",
     "text": [
      "{'cls_loss': tensor(nan, device='cuda:0'), 'num_cls': 0, 'reg_loss': tensor(nan, device='cuda:0'), 'num_reg': 10498, 'loss': tensor(nan, device='cuda:0')}\n",
      "Epoch 0.000, lr 0.00000, time 0.00\n",
      "Wed Jul 27 08:49:05 2022\n",
      "loss nan nan nan, ade1 nan, fde1 nan, ade nan, fde nan\n",
      "\n"
     ]
    },
    {
     "name": "stderr",
     "output_type": "stream",
     "text": [
      "668it [04:34,  3.71it/s]"
     ]
    },
    {
     "name": "stdout",
     "output_type": "stream",
     "text": [
      "{'cls_loss': tensor(nan, device='cuda:0'), 'num_cls': 0, 'reg_loss': tensor(nan, device='cuda:0'), 'num_reg': 10482, 'loss': tensor(nan, device='cuda:0')}\n",
      "Epoch 0.000, lr 0.00000, time 0.00\n",
      "Wed Jul 27 08:49:05 2022\n",
      "loss nan nan nan, ade1 nan, fde1 nan, ade nan, fde nan\n",
      "\n"
     ]
    },
    {
     "name": "stderr",
     "output_type": "stream",
     "text": [
      "669it [04:34,  3.86it/s]"
     ]
    },
    {
     "name": "stdout",
     "output_type": "stream",
     "text": [
      "{'cls_loss': tensor(nan, device='cuda:0'), 'num_cls': 0, 'reg_loss': tensor(nan, device='cuda:0'), 'num_reg': 10268, 'loss': tensor(nan, device='cuda:0')}\n",
      "Epoch 0.000, lr 0.00000, time 0.00\n",
      "Wed Jul 27 08:49:06 2022\n",
      "loss nan nan nan, ade1 nan, fde1 nan, ade nan, fde nan\n",
      "\n"
     ]
    },
    {
     "name": "stderr",
     "output_type": "stream",
     "text": [
      "670it [04:34,  3.99it/s]"
     ]
    },
    {
     "name": "stdout",
     "output_type": "stream",
     "text": [
      "{'cls_loss': tensor(nan, device='cuda:0'), 'num_cls': 0, 'reg_loss': tensor(nan, device='cuda:0'), 'num_reg': 11383, 'loss': tensor(nan, device='cuda:0')}\n",
      "Epoch 0.000, lr 0.00000, time 0.00\n",
      "Wed Jul 27 08:49:06 2022\n",
      "loss nan nan nan, ade1 nan, fde1 nan, ade nan, fde nan\n",
      "\n"
     ]
    },
    {
     "name": "stderr",
     "output_type": "stream",
     "text": [
      "671it [04:35,  2.88it/s]"
     ]
    },
    {
     "name": "stdout",
     "output_type": "stream",
     "text": [
      "{'cls_loss': tensor(nan, device='cuda:0'), 'num_cls': 0, 'reg_loss': tensor(nan, device='cuda:0'), 'num_reg': 12573, 'loss': tensor(nan, device='cuda:0')}\n",
      "Epoch 0.000, lr 0.00000, time 0.00\n",
      "Wed Jul 27 08:49:06 2022\n",
      "loss nan nan nan, ade1 nan, fde1 nan, ade nan, fde nan\n",
      "\n"
     ]
    },
    {
     "name": "stderr",
     "output_type": "stream",
     "text": [
      "672it [04:35,  3.17it/s]"
     ]
    },
    {
     "name": "stdout",
     "output_type": "stream",
     "text": [
      "{'cls_loss': tensor(nan, device='cuda:0'), 'num_cls': 0, 'reg_loss': tensor(nan, device='cuda:0'), 'num_reg': 10602, 'loss': tensor(nan, device='cuda:0')}\n",
      "Epoch 0.000, lr 0.00000, time 0.00\n",
      "Wed Jul 27 08:49:07 2022\n",
      "loss nan nan nan, ade1 nan, fde1 nan, ade nan, fde nan\n",
      "\n"
     ]
    },
    {
     "name": "stderr",
     "output_type": "stream",
     "text": [
      "673it [04:35,  3.09it/s]"
     ]
    },
    {
     "name": "stdout",
     "output_type": "stream",
     "text": [
      "{'cls_loss': tensor(nan, device='cuda:0'), 'num_cls': 0, 'reg_loss': tensor(nan, device='cuda:0'), 'num_reg': 14166, 'loss': tensor(nan, device='cuda:0')}\n",
      "Epoch 0.000, lr 0.00000, time 0.00\n",
      "Wed Jul 27 08:49:07 2022\n",
      "loss nan nan nan, ade1 nan, fde1 nan, ade nan, fde nan\n",
      "\n"
     ]
    },
    {
     "name": "stderr",
     "output_type": "stream",
     "text": [
      "674it [04:36,  3.09it/s]"
     ]
    },
    {
     "name": "stdout",
     "output_type": "stream",
     "text": [
      "{'cls_loss': tensor(nan, device='cuda:0'), 'num_cls': 0, 'reg_loss': tensor(nan, device='cuda:0'), 'num_reg': 9379, 'loss': tensor(nan, device='cuda:0')}\n",
      "Epoch 0.000, lr 0.00000, time 0.00\n",
      "Wed Jul 27 08:49:07 2022\n",
      "loss nan nan nan, ade1 nan, fde1 nan, ade nan, fde nan\n",
      "\n"
     ]
    },
    {
     "name": "stderr",
     "output_type": "stream",
     "text": [
      "675it [04:36,  3.28it/s]"
     ]
    },
    {
     "name": "stdout",
     "output_type": "stream",
     "text": [
      "{'cls_loss': tensor(nan, device='cuda:0'), 'num_cls': 0, 'reg_loss': tensor(nan, device='cuda:0'), 'num_reg': 11441, 'loss': tensor(nan, device='cuda:0')}\n",
      "Epoch 0.000, lr 0.00000, time 0.00\n",
      "Wed Jul 27 08:49:08 2022\n",
      "loss nan nan nan, ade1 nan, fde1 nan, ade nan, fde nan\n",
      "\n"
     ]
    },
    {
     "name": "stderr",
     "output_type": "stream",
     "text": [
      "676it [04:36,  3.48it/s]"
     ]
    },
    {
     "name": "stdout",
     "output_type": "stream",
     "text": [
      "{'cls_loss': tensor(nan, device='cuda:0'), 'num_cls': 0, 'reg_loss': tensor(nan, device='cuda:0'), 'num_reg': 10038, 'loss': tensor(nan, device='cuda:0')}\n",
      "Epoch 0.000, lr 0.00000, time 0.00\n",
      "Wed Jul 27 08:49:08 2022\n",
      "loss nan nan nan, ade1 nan, fde1 nan, ade nan, fde nan\n",
      "\n"
     ]
    },
    {
     "name": "stderr",
     "output_type": "stream",
     "text": [
      "677it [04:36,  3.58it/s]"
     ]
    },
    {
     "name": "stdout",
     "output_type": "stream",
     "text": [
      "{'cls_loss': tensor(nan, device='cuda:0'), 'num_cls': 0, 'reg_loss': tensor(nan, device='cuda:0'), 'num_reg': 10554, 'loss': tensor(nan, device='cuda:0')}\n",
      "Epoch 0.000, lr 0.00000, time 0.00\n",
      "Wed Jul 27 08:49:08 2022\n",
      "loss nan nan nan, ade1 nan, fde1 nan, ade nan, fde nan\n",
      "\n"
     ]
    },
    {
     "name": "stderr",
     "output_type": "stream",
     "text": [
      "678it [04:37,  3.76it/s]"
     ]
    },
    {
     "name": "stdout",
     "output_type": "stream",
     "text": [
      "{'cls_loss': tensor(nan, device='cuda:0'), 'num_cls': 0, 'reg_loss': tensor(nan, device='cuda:0'), 'num_reg': 10376, 'loss': tensor(nan, device='cuda:0')}\n",
      "Epoch 0.000, lr 0.00000, time 0.00\n",
      "Wed Jul 27 08:49:08 2022\n",
      "loss nan nan nan, ade1 nan, fde1 nan, ade nan, fde nan\n",
      "\n"
     ]
    },
    {
     "name": "stderr",
     "output_type": "stream",
     "text": [
      "679it [04:37,  3.86it/s]"
     ]
    },
    {
     "name": "stdout",
     "output_type": "stream",
     "text": [
      "{'cls_loss': tensor(nan, device='cuda:0'), 'num_cls': 0, 'reg_loss': tensor(nan, device='cuda:0'), 'num_reg': 10641, 'loss': tensor(nan, device='cuda:0')}\n",
      "Epoch 0.000, lr 0.00000, time 0.00\n",
      "Wed Jul 27 08:49:09 2022\n",
      "loss nan nan nan, ade1 nan, fde1 nan, ade nan, fde nan\n",
      "\n"
     ]
    },
    {
     "name": "stderr",
     "output_type": "stream",
     "text": [
      "680it [04:37,  3.96it/s]"
     ]
    },
    {
     "name": "stdout",
     "output_type": "stream",
     "text": [
      "{'cls_loss': tensor(nan, device='cuda:0'), 'num_cls': 0, 'reg_loss': tensor(nan, device='cuda:0'), 'num_reg': 11486, 'loss': tensor(nan, device='cuda:0')}\n",
      "Epoch 0.000, lr 0.00000, time 0.00\n",
      "Wed Jul 27 08:49:09 2022\n",
      "loss nan nan nan, ade1 nan, fde1 nan, ade nan, fde nan\n",
      "\n"
     ]
    },
    {
     "name": "stderr",
     "output_type": "stream",
     "text": [
      "681it [04:37,  3.98it/s]"
     ]
    },
    {
     "name": "stdout",
     "output_type": "stream",
     "text": [
      "{'cls_loss': tensor(nan, device='cuda:0'), 'num_cls': 0, 'reg_loss': tensor(nan, device='cuda:0'), 'num_reg': 10954, 'loss': tensor(nan, device='cuda:0')}\n",
      "Epoch 0.000, lr 0.00000, time 0.00\n",
      "Wed Jul 27 08:49:09 2022\n",
      "loss nan nan nan, ade1 nan, fde1 nan, ade nan, fde nan\n",
      "\n"
     ]
    },
    {
     "name": "stderr",
     "output_type": "stream",
     "text": [
      "682it [04:38,  4.04it/s]"
     ]
    },
    {
     "name": "stdout",
     "output_type": "stream",
     "text": [
      "{'cls_loss': tensor(nan, device='cuda:0'), 'num_cls': 0, 'reg_loss': tensor(nan, device='cuda:0'), 'num_reg': 10942, 'loss': tensor(nan, device='cuda:0')}\n",
      "Epoch 0.000, lr 0.00000, time 0.00\n",
      "Wed Jul 27 08:49:09 2022\n",
      "loss nan nan nan, ade1 nan, fde1 nan, ade nan, fde nan\n",
      "\n"
     ]
    },
    {
     "name": "stderr",
     "output_type": "stream",
     "text": [
      "683it [04:38,  3.97it/s]"
     ]
    },
    {
     "name": "stdout",
     "output_type": "stream",
     "text": [
      "{'cls_loss': tensor(nan, device='cuda:0'), 'num_cls': 0, 'reg_loss': tensor(nan, device='cuda:0'), 'num_reg': 12788, 'loss': tensor(nan, device='cuda:0')}\n",
      "Epoch 0.000, lr 0.00000, time 0.00\n",
      "Wed Jul 27 08:49:09 2022\n",
      "loss nan nan nan, ade1 nan, fde1 nan, ade nan, fde nan\n",
      "\n"
     ]
    },
    {
     "name": "stderr",
     "output_type": "stream",
     "text": [
      "684it [04:39,  2.11it/s]"
     ]
    },
    {
     "name": "stdout",
     "output_type": "stream",
     "text": [
      "{'cls_loss': tensor(nan, device='cuda:0'), 'num_cls': 0, 'reg_loss': tensor(nan, device='cuda:0'), 'num_reg': 11627, 'loss': tensor(nan, device='cuda:0')}\n",
      "Epoch 0.000, lr 0.00000, time 0.00\n",
      "Wed Jul 27 08:49:10 2022\n",
      "loss nan nan nan, ade1 nan, fde1 nan, ade nan, fde nan\n",
      "\n"
     ]
    },
    {
     "name": "stderr",
     "output_type": "stream",
     "text": [
      "685it [04:39,  2.44it/s]"
     ]
    },
    {
     "name": "stdout",
     "output_type": "stream",
     "text": [
      "{'cls_loss': tensor(nan, device='cuda:0'), 'num_cls': 0, 'reg_loss': tensor(nan, device='cuda:0'), 'num_reg': 12071, 'loss': tensor(nan, device='cuda:0')}\n",
      "Epoch 0.000, lr 0.00000, time 0.00\n",
      "Wed Jul 27 08:49:11 2022\n",
      "loss nan nan nan, ade1 nan, fde1 nan, ade nan, fde nan\n",
      "\n"
     ]
    },
    {
     "name": "stderr",
     "output_type": "stream",
     "text": [
      "686it [04:39,  2.75it/s]"
     ]
    },
    {
     "name": "stdout",
     "output_type": "stream",
     "text": [
      "{'cls_loss': tensor(nan, device='cuda:0'), 'num_cls': 0, 'reg_loss': tensor(nan, device='cuda:0'), 'num_reg': 12374, 'loss': tensor(nan, device='cuda:0')}\n",
      "Epoch 0.000, lr 0.00000, time 0.00\n",
      "Wed Jul 27 08:49:11 2022\n",
      "loss nan nan nan, ade1 nan, fde1 nan, ade nan, fde nan\n",
      "\n"
     ]
    },
    {
     "name": "stderr",
     "output_type": "stream",
     "text": [
      "687it [04:40,  3.05it/s]"
     ]
    },
    {
     "name": "stdout",
     "output_type": "stream",
     "text": [
      "{'cls_loss': tensor(nan, device='cuda:0'), 'num_cls': 0, 'reg_loss': tensor(nan, device='cuda:0'), 'num_reg': 9393, 'loss': tensor(nan, device='cuda:0')}\n",
      "Epoch 0.000, lr 0.00000, time 0.00\n",
      "Wed Jul 27 08:49:11 2022\n",
      "loss nan nan nan, ade1 nan, fde1 nan, ade nan, fde nan\n",
      "\n"
     ]
    },
    {
     "name": "stderr",
     "output_type": "stream",
     "text": [
      "688it [04:40,  2.86it/s]"
     ]
    },
    {
     "name": "stdout",
     "output_type": "stream",
     "text": [
      "{'cls_loss': tensor(nan, device='cuda:0'), 'num_cls': 0, 'reg_loss': tensor(nan, device='cuda:0'), 'num_reg': 13119, 'loss': tensor(nan, device='cuda:0')}\n",
      "Epoch 0.000, lr 0.00000, time 0.00\n",
      "Wed Jul 27 08:49:12 2022\n",
      "loss nan nan nan, ade1 nan, fde1 nan, ade nan, fde nan\n",
      "\n"
     ]
    },
    {
     "name": "stderr",
     "output_type": "stream",
     "text": [
      "689it [04:40,  3.05it/s]"
     ]
    },
    {
     "name": "stdout",
     "output_type": "stream",
     "text": [
      "{'cls_loss': tensor(nan, device='cuda:0'), 'num_cls': 0, 'reg_loss': tensor(nan, device='cuda:0'), 'num_reg': 11001, 'loss': tensor(nan, device='cuda:0')}\n",
      "Epoch 0.000, lr 0.00000, time 0.00\n",
      "Wed Jul 27 08:49:12 2022\n",
      "loss nan nan nan, ade1 nan, fde1 nan, ade nan, fde nan\n",
      "\n"
     ]
    },
    {
     "name": "stderr",
     "output_type": "stream",
     "text": [
      "690it [04:41,  3.32it/s]"
     ]
    },
    {
     "name": "stdout",
     "output_type": "stream",
     "text": [
      "{'cls_loss': tensor(nan, device='cuda:0'), 'num_cls': 0, 'reg_loss': tensor(nan, device='cuda:0'), 'num_reg': 13898, 'loss': tensor(nan, device='cuda:0')}\n",
      "Epoch 0.000, lr 0.00000, time 0.00\n",
      "Wed Jul 27 08:49:12 2022\n",
      "loss nan nan nan, ade1 nan, fde1 nan, ade nan, fde nan\n",
      "\n"
     ]
    },
    {
     "name": "stderr",
     "output_type": "stream",
     "text": [
      "691it [04:41,  3.39it/s]"
     ]
    },
    {
     "name": "stdout",
     "output_type": "stream",
     "text": [
      "{'cls_loss': tensor(nan, device='cuda:0'), 'num_cls': 0, 'reg_loss': tensor(nan, device='cuda:0'), 'num_reg': 11345, 'loss': tensor(nan, device='cuda:0')}\n",
      "Epoch 0.000, lr 0.00000, time 0.00\n",
      "Wed Jul 27 08:49:12 2022\n",
      "loss nan nan nan, ade1 nan, fde1 nan, ade nan, fde nan\n",
      "\n"
     ]
    },
    {
     "name": "stderr",
     "output_type": "stream",
     "text": [
      "692it [04:41,  3.42it/s]"
     ]
    },
    {
     "name": "stdout",
     "output_type": "stream",
     "text": [
      "{'cls_loss': tensor(nan, device='cuda:0'), 'num_cls': 0, 'reg_loss': tensor(nan, device='cuda:0'), 'num_reg': 11708, 'loss': tensor(nan, device='cuda:0')}\n",
      "Epoch 0.000, lr 0.00000, time 0.00\n",
      "Wed Jul 27 08:49:13 2022\n",
      "loss nan nan nan, ade1 nan, fde1 nan, ade nan, fde nan\n",
      "\n"
     ]
    },
    {
     "name": "stderr",
     "output_type": "stream",
     "text": [
      "693it [04:41,  3.46it/s]"
     ]
    },
    {
     "name": "stdout",
     "output_type": "stream",
     "text": [
      "{'cls_loss': tensor(nan, device='cuda:0'), 'num_cls': 0, 'reg_loss': tensor(nan, device='cuda:0'), 'num_reg': 11944, 'loss': tensor(nan, device='cuda:0')}\n",
      "Epoch 0.000, lr 0.00000, time 0.00\n",
      "Wed Jul 27 08:49:13 2022\n",
      "loss nan nan nan, ade1 nan, fde1 nan, ade nan, fde nan\n",
      "\n"
     ]
    },
    {
     "name": "stderr",
     "output_type": "stream",
     "text": [
      "694it [04:42,  3.64it/s]"
     ]
    },
    {
     "name": "stdout",
     "output_type": "stream",
     "text": [
      "{'cls_loss': tensor(nan, device='cuda:0'), 'num_cls': 0, 'reg_loss': tensor(nan, device='cuda:0'), 'num_reg': 11716, 'loss': tensor(nan, device='cuda:0')}\n",
      "Epoch 0.000, lr 0.00000, time 0.00\n",
      "Wed Jul 27 08:49:13 2022\n",
      "loss nan nan nan, ade1 nan, fde1 nan, ade nan, fde nan\n",
      "\n"
     ]
    },
    {
     "name": "stderr",
     "output_type": "stream",
     "text": [
      "695it [04:42,  3.73it/s]"
     ]
    },
    {
     "name": "stdout",
     "output_type": "stream",
     "text": [
      "{'cls_loss': tensor(nan, device='cuda:0'), 'num_cls': 0, 'reg_loss': tensor(nan, device='cuda:0'), 'num_reg': 11632, 'loss': tensor(nan, device='cuda:0')}\n",
      "Epoch 0.000, lr 0.00000, time 0.00\n",
      "Wed Jul 27 08:49:14 2022\n",
      "loss nan nan nan, ade1 nan, fde1 nan, ade nan, fde nan\n",
      "\n"
     ]
    },
    {
     "name": "stderr",
     "output_type": "stream",
     "text": [
      "696it [04:42,  3.85it/s]"
     ]
    },
    {
     "name": "stdout",
     "output_type": "stream",
     "text": [
      "{'cls_loss': tensor(nan, device='cuda:0'), 'num_cls': 0, 'reg_loss': tensor(nan, device='cuda:0'), 'num_reg': 10445, 'loss': tensor(nan, device='cuda:0')}\n",
      "Epoch 0.000, lr 0.00000, time 0.00\n",
      "Wed Jul 27 08:49:14 2022\n",
      "loss nan nan nan, ade1 nan, fde1 nan, ade nan, fde nan\n",
      "\n"
     ]
    },
    {
     "name": "stderr",
     "output_type": "stream",
     "text": [
      "697it [04:42,  3.78it/s]"
     ]
    },
    {
     "name": "stdout",
     "output_type": "stream",
     "text": [
      "{'cls_loss': tensor(nan, device='cuda:0'), 'num_cls': 0, 'reg_loss': tensor(nan, device='cuda:0'), 'num_reg': 11016, 'loss': tensor(nan, device='cuda:0')}\n",
      "Epoch 0.000, lr 0.00000, time 0.00\n",
      "Wed Jul 27 08:49:14 2022\n",
      "loss nan nan nan, ade1 nan, fde1 nan, ade nan, fde nan\n",
      "\n"
     ]
    },
    {
     "name": "stderr",
     "output_type": "stream",
     "text": [
      "698it [04:43,  3.88it/s]"
     ]
    },
    {
     "name": "stdout",
     "output_type": "stream",
     "text": [
      "{'cls_loss': tensor(nan, device='cuda:0'), 'num_cls': 0, 'reg_loss': tensor(nan, device='cuda:0'), 'num_reg': 12524, 'loss': tensor(nan, device='cuda:0')}\n",
      "Epoch 0.000, lr 0.00000, time 0.00\n",
      "Wed Jul 27 08:49:14 2022\n",
      "loss nan nan nan, ade1 nan, fde1 nan, ade nan, fde nan\n",
      "\n"
     ]
    },
    {
     "name": "stderr",
     "output_type": "stream",
     "text": [
      "699it [04:43,  3.88it/s]"
     ]
    },
    {
     "name": "stdout",
     "output_type": "stream",
     "text": [
      "{'cls_loss': tensor(nan, device='cuda:0'), 'num_cls': 0, 'reg_loss': tensor(nan, device='cuda:0'), 'num_reg': 12352, 'loss': tensor(nan, device='cuda:0')}\n",
      "Epoch 0.000, lr 0.00000, time 0.00\n",
      "Wed Jul 27 08:49:15 2022\n",
      "loss nan nan nan, ade1 nan, fde1 nan, ade nan, fde nan\n",
      "\n"
     ]
    },
    {
     "name": "stderr",
     "output_type": "stream",
     "text": [
      "700it [04:43,  3.65it/s]"
     ]
    },
    {
     "name": "stdout",
     "output_type": "stream",
     "text": [
      "{'cls_loss': tensor(nan, device='cuda:0'), 'num_cls': 0, 'reg_loss': tensor(nan, device='cuda:0'), 'num_reg': 12791, 'loss': tensor(nan, device='cuda:0')}\n",
      "Epoch 0.000, lr 0.00000, time 0.00\n",
      "Wed Jul 27 08:49:15 2022\n",
      "loss nan nan nan, ade1 nan, fde1 nan, ade nan, fde nan\n",
      "\n"
     ]
    },
    {
     "name": "stderr",
     "output_type": "stream",
     "text": [
      "701it [04:43,  3.69it/s]"
     ]
    },
    {
     "name": "stdout",
     "output_type": "stream",
     "text": [
      "{'cls_loss': tensor(nan, device='cuda:0'), 'num_cls': 0, 'reg_loss': tensor(nan, device='cuda:0'), 'num_reg': 9924, 'loss': tensor(nan, device='cuda:0')}\n",
      "Epoch 0.000, lr 0.00000, time 0.00\n",
      "Wed Jul 27 08:49:15 2022\n",
      "loss nan nan nan, ade1 nan, fde1 nan, ade nan, fde nan\n",
      "\n"
     ]
    },
    {
     "name": "stderr",
     "output_type": "stream",
     "text": [
      "702it [04:44,  3.82it/s]"
     ]
    },
    {
     "name": "stdout",
     "output_type": "stream",
     "text": [
      "{'cls_loss': tensor(nan, device='cuda:0'), 'num_cls': 0, 'reg_loss': tensor(nan, device='cuda:0'), 'num_reg': 9791, 'loss': tensor(nan, device='cuda:0')}\n",
      "Epoch 0.000, lr 0.00000, time 0.00\n",
      "Wed Jul 27 08:49:15 2022\n",
      "loss nan nan nan, ade1 nan, fde1 nan, ade nan, fde nan\n",
      "\n"
     ]
    },
    {
     "name": "stderr",
     "output_type": "stream",
     "text": [
      "703it [04:44,  3.71it/s]"
     ]
    },
    {
     "name": "stdout",
     "output_type": "stream",
     "text": [
      "{'cls_loss': tensor(nan, device='cuda:0'), 'num_cls': 0, 'reg_loss': tensor(nan, device='cuda:0'), 'num_reg': 11451, 'loss': tensor(nan, device='cuda:0')}\n",
      "Epoch 0.000, lr 0.00000, time 0.00\n",
      "Wed Jul 27 08:49:16 2022\n",
      "loss nan nan nan, ade1 nan, fde1 nan, ade nan, fde nan\n",
      "\n"
     ]
    },
    {
     "name": "stderr",
     "output_type": "stream",
     "text": [
      "704it [04:44,  3.72it/s]"
     ]
    },
    {
     "name": "stdout",
     "output_type": "stream",
     "text": [
      "{'cls_loss': tensor(nan, device='cuda:0'), 'num_cls': 0, 'reg_loss': tensor(nan, device='cuda:0'), 'num_reg': 13278, 'loss': tensor(nan, device='cuda:0')}\n",
      "Epoch 0.000, lr 0.00000, time 0.00\n",
      "Wed Jul 27 08:49:16 2022\n",
      "loss nan nan nan, ade1 nan, fde1 nan, ade nan, fde nan\n",
      "\n"
     ]
    },
    {
     "name": "stderr",
     "output_type": "stream",
     "text": [
      "705it [04:45,  3.75it/s]"
     ]
    },
    {
     "name": "stdout",
     "output_type": "stream",
     "text": [
      "{'cls_loss': tensor(nan, device='cuda:0'), 'num_cls': 0, 'reg_loss': tensor(nan, device='cuda:0'), 'num_reg': 12258, 'loss': tensor(nan, device='cuda:0')}\n",
      "Epoch 0.000, lr 0.00000, time 0.00\n",
      "Wed Jul 27 08:49:16 2022\n",
      "loss nan nan nan, ade1 nan, fde1 nan, ade nan, fde nan\n",
      "\n"
     ]
    },
    {
     "name": "stderr",
     "output_type": "stream",
     "text": [
      "706it [04:45,  3.86it/s]"
     ]
    },
    {
     "name": "stdout",
     "output_type": "stream",
     "text": [
      "{'cls_loss': tensor(nan, device='cuda:0'), 'num_cls': 0, 'reg_loss': tensor(nan, device='cuda:0'), 'num_reg': 10678, 'loss': tensor(nan, device='cuda:0')}\n",
      "Epoch 0.000, lr 0.00000, time 0.00\n",
      "Wed Jul 27 08:49:16 2022\n",
      "loss nan nan nan, ade1 nan, fde1 nan, ade nan, fde nan\n",
      "\n"
     ]
    },
    {
     "name": "stderr",
     "output_type": "stream",
     "text": [
      "707it [04:45,  3.39it/s]"
     ]
    },
    {
     "name": "stdout",
     "output_type": "stream",
     "text": [
      "{'cls_loss': tensor(nan, device='cuda:0'), 'num_cls': 0, 'reg_loss': tensor(nan, device='cuda:0'), 'num_reg': 9647, 'loss': tensor(nan, device='cuda:0')}\n",
      "Epoch 0.000, lr 0.00000, time 0.00\n",
      "Wed Jul 27 08:49:17 2022\n",
      "loss nan nan nan, ade1 nan, fde1 nan, ade nan, fde nan\n",
      "\n"
     ]
    },
    {
     "name": "stderr",
     "output_type": "stream",
     "text": [
      "708it [04:45,  3.58it/s]"
     ]
    },
    {
     "name": "stdout",
     "output_type": "stream",
     "text": [
      "{'cls_loss': tensor(nan, device='cuda:0'), 'num_cls': 0, 'reg_loss': tensor(nan, device='cuda:0'), 'num_reg': 10695, 'loss': tensor(nan, device='cuda:0')}\n",
      "Epoch 0.000, lr 0.00000, time 0.00\n",
      "Wed Jul 27 08:49:17 2022\n",
      "loss nan nan nan, ade1 nan, fde1 nan, ade nan, fde nan\n",
      "\n"
     ]
    },
    {
     "name": "stderr",
     "output_type": "stream",
     "text": [
      "709it [04:46,  3.69it/s]"
     ]
    },
    {
     "name": "stdout",
     "output_type": "stream",
     "text": [
      "{'cls_loss': tensor(nan, device='cuda:0'), 'num_cls': 0, 'reg_loss': tensor(nan, device='cuda:0'), 'num_reg': 11568, 'loss': tensor(nan, device='cuda:0')}\n",
      "Epoch 0.000, lr 0.00000, time 0.00\n",
      "Wed Jul 27 08:49:17 2022\n",
      "loss nan nan nan, ade1 nan, fde1 nan, ade nan, fde nan\n",
      "\n"
     ]
    },
    {
     "name": "stderr",
     "output_type": "stream",
     "text": [
      "710it [04:46,  3.68it/s]"
     ]
    },
    {
     "name": "stdout",
     "output_type": "stream",
     "text": [
      "{'cls_loss': tensor(nan, device='cuda:0'), 'num_cls': 0, 'reg_loss': tensor(nan, device='cuda:0'), 'num_reg': 11112, 'loss': tensor(nan, device='cuda:0')}\n",
      "Epoch 0.000, lr 0.00000, time 0.00\n",
      "Wed Jul 27 08:49:18 2022\n",
      "loss nan nan nan, ade1 nan, fde1 nan, ade nan, fde nan\n",
      "\n"
     ]
    },
    {
     "name": "stderr",
     "output_type": "stream",
     "text": [
      "711it [04:46,  3.74it/s]"
     ]
    },
    {
     "name": "stdout",
     "output_type": "stream",
     "text": [
      "{'cls_loss': tensor(nan, device='cuda:0'), 'num_cls': 0, 'reg_loss': tensor(nan, device='cuda:0'), 'num_reg': 10137, 'loss': tensor(nan, device='cuda:0')}\n",
      "Epoch 0.000, lr 0.00000, time 0.00\n",
      "Wed Jul 27 08:49:18 2022\n",
      "loss nan nan nan, ade1 nan, fde1 nan, ade nan, fde nan\n",
      "\n"
     ]
    },
    {
     "name": "stderr",
     "output_type": "stream",
     "text": [
      "712it [04:46,  3.87it/s]"
     ]
    },
    {
     "name": "stdout",
     "output_type": "stream",
     "text": [
      "{'cls_loss': tensor(nan, device='cuda:0'), 'num_cls': 0, 'reg_loss': tensor(nan, device='cuda:0'), 'num_reg': 11048, 'loss': tensor(nan, device='cuda:0')}\n",
      "Epoch 0.000, lr 0.00000, time 0.00\n",
      "Wed Jul 27 08:49:18 2022\n",
      "loss nan nan nan, ade1 nan, fde1 nan, ade nan, fde nan\n",
      "\n"
     ]
    },
    {
     "name": "stderr",
     "output_type": "stream",
     "text": [
      "713it [04:47,  3.90it/s]"
     ]
    },
    {
     "name": "stdout",
     "output_type": "stream",
     "text": [
      "{'cls_loss': tensor(nan, device='cuda:0'), 'num_cls': 0, 'reg_loss': tensor(nan, device='cuda:0'), 'num_reg': 10245, 'loss': tensor(nan, device='cuda:0')}\n",
      "Epoch 0.000, lr 0.00000, time 0.00\n",
      "Wed Jul 27 08:49:18 2022\n",
      "loss nan nan nan, ade1 nan, fde1 nan, ade nan, fde nan\n",
      "\n"
     ]
    },
    {
     "name": "stderr",
     "output_type": "stream",
     "text": [
      "714it [04:47,  3.91it/s]"
     ]
    },
    {
     "name": "stdout",
     "output_type": "stream",
     "text": [
      "{'cls_loss': tensor(nan, device='cuda:0'), 'num_cls': 0, 'reg_loss': tensor(nan, device='cuda:0'), 'num_reg': 10096, 'loss': tensor(nan, device='cuda:0')}\n",
      "Epoch 0.000, lr 0.00000, time 0.00\n",
      "Wed Jul 27 08:49:19 2022\n",
      "loss nan nan nan, ade1 nan, fde1 nan, ade nan, fde nan\n",
      "\n"
     ]
    },
    {
     "name": "stderr",
     "output_type": "stream",
     "text": [
      "715it [04:47,  3.91it/s]"
     ]
    },
    {
     "name": "stdout",
     "output_type": "stream",
     "text": [
      "{'cls_loss': tensor(nan, device='cuda:0'), 'num_cls': 0, 'reg_loss': tensor(nan, device='cuda:0'), 'num_reg': 10354, 'loss': tensor(nan, device='cuda:0')}\n",
      "Epoch 0.000, lr 0.00000, time 0.00\n",
      "Wed Jul 27 08:49:19 2022\n",
      "loss nan nan nan, ade1 nan, fde1 nan, ade nan, fde nan\n",
      "\n"
     ]
    },
    {
     "name": "stderr",
     "output_type": "stream",
     "text": [
      "716it [04:47,  4.01it/s]"
     ]
    },
    {
     "name": "stdout",
     "output_type": "stream",
     "text": [
      "{'cls_loss': tensor(nan, device='cuda:0'), 'num_cls': 0, 'reg_loss': tensor(nan, device='cuda:0'), 'num_reg': 10616, 'loss': tensor(nan, device='cuda:0')}\n",
      "Epoch 0.000, lr 0.00000, time 0.00\n",
      "Wed Jul 27 08:49:19 2022\n",
      "loss nan nan nan, ade1 nan, fde1 nan, ade nan, fde nan\n",
      "\n"
     ]
    },
    {
     "name": "stderr",
     "output_type": "stream",
     "text": [
      "717it [04:48,  3.99it/s]"
     ]
    },
    {
     "name": "stdout",
     "output_type": "stream",
     "text": [
      "{'cls_loss': tensor(nan, device='cuda:0'), 'num_cls': 0, 'reg_loss': tensor(nan, device='cuda:0'), 'num_reg': 11970, 'loss': tensor(nan, device='cuda:0')}\n",
      "Epoch 0.000, lr 0.00000, time 0.00\n",
      "Wed Jul 27 08:49:19 2022\n",
      "loss nan nan nan, ade1 nan, fde1 nan, ade nan, fde nan\n",
      "\n"
     ]
    },
    {
     "name": "stderr",
     "output_type": "stream",
     "text": [
      "718it [04:48,  3.90it/s]"
     ]
    },
    {
     "name": "stdout",
     "output_type": "stream",
     "text": [
      "{'cls_loss': tensor(nan, device='cuda:0'), 'num_cls': 0, 'reg_loss': tensor(nan, device='cuda:0'), 'num_reg': 11073, 'loss': tensor(nan, device='cuda:0')}\n",
      "Epoch 0.000, lr 0.00000, time 0.00\n",
      "Wed Jul 27 08:49:20 2022\n",
      "loss nan nan nan, ade1 nan, fde1 nan, ade nan, fde nan\n",
      "\n"
     ]
    },
    {
     "name": "stderr",
     "output_type": "stream",
     "text": [
      "719it [04:48,  3.91it/s]"
     ]
    },
    {
     "name": "stdout",
     "output_type": "stream",
     "text": [
      "{'cls_loss': tensor(nan, device='cuda:0'), 'num_cls': 0, 'reg_loss': tensor(nan, device='cuda:0'), 'num_reg': 12715, 'loss': tensor(nan, device='cuda:0')}\n",
      "Epoch 0.000, lr 0.00000, time 0.00\n",
      "Wed Jul 27 08:49:20 2022\n",
      "loss nan nan nan, ade1 nan, fde1 nan, ade nan, fde nan\n",
      "\n"
     ]
    },
    {
     "name": "stderr",
     "output_type": "stream",
     "text": [
      "720it [04:48,  4.03it/s]"
     ]
    },
    {
     "name": "stdout",
     "output_type": "stream",
     "text": [
      "{'cls_loss': tensor(nan, device='cuda:0'), 'num_cls': 0, 'reg_loss': tensor(nan, device='cuda:0'), 'num_reg': 9418, 'loss': tensor(nan, device='cuda:0')}\n",
      "Epoch 0.000, lr 0.00000, time 0.00\n",
      "Wed Jul 27 08:49:20 2022\n",
      "loss nan nan nan, ade1 nan, fde1 nan, ade nan, fde nan\n",
      "\n"
     ]
    },
    {
     "name": "stderr",
     "output_type": "stream",
     "text": [
      "721it [04:49,  3.06it/s]"
     ]
    },
    {
     "name": "stdout",
     "output_type": "stream",
     "text": [
      "{'cls_loss': tensor(nan, device='cuda:0'), 'num_cls': 0, 'reg_loss': tensor(nan, device='cuda:0'), 'num_reg': 9700, 'loss': tensor(nan, device='cuda:0')}\n",
      "Epoch 0.000, lr 0.00000, time 0.00\n",
      "Wed Jul 27 08:49:21 2022\n",
      "loss nan nan nan, ade1 nan, fde1 nan, ade nan, fde nan\n",
      "\n"
     ]
    },
    {
     "name": "stderr",
     "output_type": "stream",
     "text": [
      "722it [04:49,  3.33it/s]"
     ]
    },
    {
     "name": "stdout",
     "output_type": "stream",
     "text": [
      "{'cls_loss': tensor(nan, device='cuda:0'), 'num_cls': 0, 'reg_loss': tensor(nan, device='cuda:0'), 'num_reg': 9119, 'loss': tensor(nan, device='cuda:0')}\n",
      "Epoch 0.000, lr 0.00000, time 0.00\n",
      "Wed Jul 27 08:49:21 2022\n",
      "loss nan nan nan, ade1 nan, fde1 nan, ade nan, fde nan\n",
      "\n"
     ]
    },
    {
     "name": "stderr",
     "output_type": "stream",
     "text": [
      "723it [04:49,  3.47it/s]"
     ]
    },
    {
     "name": "stdout",
     "output_type": "stream",
     "text": [
      "{'cls_loss': tensor(nan, device='cuda:0'), 'num_cls': 0, 'reg_loss': tensor(nan, device='cuda:0'), 'num_reg': 12087, 'loss': tensor(nan, device='cuda:0')}\n",
      "Epoch 0.000, lr 0.00000, time 0.00\n",
      "Wed Jul 27 08:49:21 2022\n",
      "loss nan nan nan, ade1 nan, fde1 nan, ade nan, fde nan\n",
      "\n"
     ]
    },
    {
     "name": "stderr",
     "output_type": "stream",
     "text": [
      "724it [04:50,  3.46it/s]"
     ]
    },
    {
     "name": "stdout",
     "output_type": "stream",
     "text": [
      "{'cls_loss': tensor(nan, device='cuda:0'), 'num_cls': 0, 'reg_loss': tensor(nan, device='cuda:0'), 'num_reg': 11236, 'loss': tensor(nan, device='cuda:0')}\n",
      "Epoch 0.000, lr 0.00000, time 0.00\n",
      "Wed Jul 27 08:49:21 2022\n",
      "loss nan nan nan, ade1 nan, fde1 nan, ade nan, fde nan\n",
      "\n"
     ]
    },
    {
     "name": "stderr",
     "output_type": "stream",
     "text": [
      "725it [04:50,  3.53it/s]"
     ]
    },
    {
     "name": "stdout",
     "output_type": "stream",
     "text": [
      "{'cls_loss': tensor(nan, device='cuda:0'), 'num_cls': 0, 'reg_loss': tensor(nan, device='cuda:0'), 'num_reg': 13018, 'loss': tensor(nan, device='cuda:0')}\n",
      "Epoch 0.000, lr 0.00000, time 0.00\n",
      "Wed Jul 27 08:49:22 2022\n",
      "loss nan nan nan, ade1 nan, fde1 nan, ade nan, fde nan\n",
      "\n"
     ]
    },
    {
     "name": "stderr",
     "output_type": "stream",
     "text": [
      "726it [04:50,  3.68it/s]"
     ]
    },
    {
     "name": "stdout",
     "output_type": "stream",
     "text": [
      "{'cls_loss': tensor(nan, device='cuda:0'), 'num_cls': 0, 'reg_loss': tensor(nan, device='cuda:0'), 'num_reg': 10313, 'loss': tensor(nan, device='cuda:0')}\n",
      "Epoch 0.000, lr 0.00000, time 0.00\n",
      "Wed Jul 27 08:49:22 2022\n",
      "loss nan nan nan, ade1 nan, fde1 nan, ade nan, fde nan\n",
      "\n"
     ]
    },
    {
     "name": "stderr",
     "output_type": "stream",
     "text": [
      "727it [04:51,  2.05it/s]"
     ]
    },
    {
     "name": "stdout",
     "output_type": "stream",
     "text": [
      "{'cls_loss': tensor(nan, device='cuda:0'), 'num_cls': 0, 'reg_loss': tensor(nan, device='cuda:0'), 'num_reg': 10946, 'loss': tensor(nan, device='cuda:0')}\n",
      "Epoch 0.000, lr 0.00000, time 0.00\n",
      "Wed Jul 27 08:49:23 2022\n",
      "loss nan nan nan, ade1 nan, fde1 nan, ade nan, fde nan\n",
      "\n"
     ]
    },
    {
     "name": "stderr",
     "output_type": "stream",
     "text": [
      "728it [04:52,  2.32it/s]"
     ]
    },
    {
     "name": "stdout",
     "output_type": "stream",
     "text": [
      "{'cls_loss': tensor(nan, device='cuda:0'), 'num_cls': 0, 'reg_loss': tensor(nan, device='cuda:0'), 'num_reg': 10980, 'loss': tensor(nan, device='cuda:0')}\n",
      "Epoch 0.000, lr 0.00000, time 0.00\n",
      "Wed Jul 27 08:49:23 2022\n",
      "loss nan nan nan, ade1 nan, fde1 nan, ade nan, fde nan\n",
      "\n"
     ]
    },
    {
     "name": "stderr",
     "output_type": "stream",
     "text": [
      "729it [04:52,  2.62it/s]"
     ]
    },
    {
     "name": "stdout",
     "output_type": "stream",
     "text": [
      "{'cls_loss': tensor(nan, device='cuda:0'), 'num_cls': 0, 'reg_loss': tensor(nan, device='cuda:0'), 'num_reg': 11085, 'loss': tensor(nan, device='cuda:0')}\n",
      "Epoch 0.000, lr 0.00000, time 0.00\n",
      "Wed Jul 27 08:49:23 2022\n",
      "loss nan nan nan, ade1 nan, fde1 nan, ade nan, fde nan\n",
      "\n"
     ]
    },
    {
     "name": "stderr",
     "output_type": "stream",
     "text": [
      "730it [04:52,  2.93it/s]"
     ]
    },
    {
     "name": "stdout",
     "output_type": "stream",
     "text": [
      "{'cls_loss': tensor(nan, device='cuda:0'), 'num_cls': 0, 'reg_loss': tensor(nan, device='cuda:0'), 'num_reg': 11968, 'loss': tensor(nan, device='cuda:0')}\n",
      "Epoch 0.000, lr 0.00000, time 0.00\n",
      "Wed Jul 27 08:49:24 2022\n",
      "loss nan nan nan, ade1 nan, fde1 nan, ade nan, fde nan\n",
      "\n"
     ]
    },
    {
     "name": "stderr",
     "output_type": "stream",
     "text": [
      "731it [04:53,  2.39it/s]"
     ]
    },
    {
     "name": "stdout",
     "output_type": "stream",
     "text": [
      "{'cls_loss': tensor(nan, device='cuda:0'), 'num_cls': 0, 'reg_loss': tensor(nan, device='cuda:0'), 'num_reg': 9703, 'loss': tensor(nan, device='cuda:0')}\n",
      "Epoch 0.000, lr 0.00000, time 0.00\n",
      "Wed Jul 27 08:49:24 2022\n",
      "loss nan nan nan, ade1 nan, fde1 nan, ade nan, fde nan\n",
      "\n"
     ]
    },
    {
     "name": "stderr",
     "output_type": "stream",
     "text": [
      "732it [04:53,  2.72it/s]"
     ]
    },
    {
     "name": "stdout",
     "output_type": "stream",
     "text": [
      "{'cls_loss': tensor(nan, device='cuda:0'), 'num_cls': 0, 'reg_loss': tensor(nan, device='cuda:0'), 'num_reg': 11362, 'loss': tensor(nan, device='cuda:0')}\n",
      "Epoch 0.000, lr 0.00000, time 0.00\n",
      "Wed Jul 27 08:49:25 2022\n",
      "loss nan nan nan, ade1 nan, fde1 nan, ade nan, fde nan\n",
      "\n"
     ]
    },
    {
     "name": "stderr",
     "output_type": "stream",
     "text": [
      "733it [04:53,  3.01it/s]"
     ]
    },
    {
     "name": "stdout",
     "output_type": "stream",
     "text": [
      "{'cls_loss': tensor(nan, device='cuda:0'), 'num_cls': 0, 'reg_loss': tensor(nan, device='cuda:0'), 'num_reg': 9738, 'loss': tensor(nan, device='cuda:0')}\n",
      "Epoch 0.000, lr 0.00000, time 0.00\n",
      "Wed Jul 27 08:49:25 2022\n",
      "loss nan nan nan, ade1 nan, fde1 nan, ade nan, fde nan\n",
      "\n"
     ]
    },
    {
     "name": "stderr",
     "output_type": "stream",
     "text": [
      "734it [04:53,  3.18it/s]"
     ]
    },
    {
     "name": "stdout",
     "output_type": "stream",
     "text": [
      "{'cls_loss': tensor(nan, device='cuda:0'), 'num_cls': 0, 'reg_loss': tensor(nan, device='cuda:0'), 'num_reg': 11662, 'loss': tensor(nan, device='cuda:0')}\n",
      "Epoch 0.000, lr 0.00000, time 0.00\n",
      "Wed Jul 27 08:49:25 2022\n",
      "loss nan nan nan, ade1 nan, fde1 nan, ade nan, fde nan\n",
      "\n"
     ]
    },
    {
     "name": "stderr",
     "output_type": "stream",
     "text": [
      "735it [04:54,  3.33it/s]"
     ]
    },
    {
     "name": "stdout",
     "output_type": "stream",
     "text": [
      "{'cls_loss': tensor(nan, device='cuda:0'), 'num_cls': 0, 'reg_loss': tensor(nan, device='cuda:0'), 'num_reg': 10802, 'loss': tensor(nan, device='cuda:0')}\n",
      "Epoch 0.000, lr 0.00000, time 0.00\n",
      "Wed Jul 27 08:49:25 2022\n",
      "loss nan nan nan, ade1 nan, fde1 nan, ade nan, fde nan\n",
      "\n"
     ]
    },
    {
     "name": "stderr",
     "output_type": "stream",
     "text": [
      "736it [04:54,  3.52it/s]"
     ]
    },
    {
     "name": "stdout",
     "output_type": "stream",
     "text": [
      "{'cls_loss': tensor(nan, device='cuda:0'), 'num_cls': 0, 'reg_loss': tensor(nan, device='cuda:0'), 'num_reg': 11112, 'loss': tensor(nan, device='cuda:0')}\n",
      "Epoch 0.000, lr 0.00000, time 0.00\n",
      "Wed Jul 27 08:49:26 2022\n",
      "loss nan nan nan, ade1 nan, fde1 nan, ade nan, fde nan\n",
      "\n"
     ]
    },
    {
     "name": "stderr",
     "output_type": "stream",
     "text": [
      "737it [04:54,  3.63it/s]"
     ]
    },
    {
     "name": "stdout",
     "output_type": "stream",
     "text": [
      "{'cls_loss': tensor(nan, device='cuda:0'), 'num_cls': 0, 'reg_loss': tensor(nan, device='cuda:0'), 'num_reg': 11980, 'loss': tensor(nan, device='cuda:0')}\n",
      "Epoch 0.000, lr 0.00000, time 0.00\n",
      "Wed Jul 27 08:49:26 2022\n",
      "loss nan nan nan, ade1 nan, fde1 nan, ade nan, fde nan\n",
      "\n"
     ]
    },
    {
     "name": "stderr",
     "output_type": "stream",
     "text": [
      "738it [04:54,  3.57it/s]"
     ]
    },
    {
     "name": "stdout",
     "output_type": "stream",
     "text": [
      "{'cls_loss': tensor(nan, device='cuda:0'), 'num_cls': 0, 'reg_loss': tensor(nan, device='cuda:0'), 'num_reg': 11248, 'loss': tensor(nan, device='cuda:0')}\n",
      "Epoch 0.000, lr 0.00000, time 0.00\n",
      "Wed Jul 27 08:49:26 2022\n",
      "loss nan nan nan, ade1 nan, fde1 nan, ade nan, fde nan\n",
      "\n"
     ]
    },
    {
     "name": "stderr",
     "output_type": "stream",
     "text": [
      "739it [04:55,  3.71it/s]"
     ]
    },
    {
     "name": "stdout",
     "output_type": "stream",
     "text": [
      "{'cls_loss': tensor(nan, device='cuda:0'), 'num_cls': 0, 'reg_loss': tensor(nan, device='cuda:0'), 'num_reg': 9321, 'loss': tensor(nan, device='cuda:0')}\n",
      "Epoch 0.000, lr 0.00000, time 0.00\n",
      "Wed Jul 27 08:49:26 2022\n",
      "loss nan nan nan, ade1 nan, fde1 nan, ade nan, fde nan\n",
      "\n"
     ]
    },
    {
     "name": "stderr",
     "output_type": "stream",
     "text": [
      "740it [04:55,  3.87it/s]"
     ]
    },
    {
     "name": "stdout",
     "output_type": "stream",
     "text": [
      "{'cls_loss': tensor(nan, device='cuda:0'), 'num_cls': 0, 'reg_loss': tensor(nan, device='cuda:0'), 'num_reg': 10330, 'loss': tensor(nan, device='cuda:0')}\n",
      "Epoch 0.000, lr 0.00000, time 0.00\n",
      "Wed Jul 27 08:49:27 2022\n",
      "loss nan nan nan, ade1 nan, fde1 nan, ade nan, fde nan\n",
      "\n"
     ]
    },
    {
     "name": "stderr",
     "output_type": "stream",
     "text": [
      "741it [04:55,  3.87it/s]"
     ]
    },
    {
     "name": "stdout",
     "output_type": "stream",
     "text": [
      "{'cls_loss': tensor(nan, device='cuda:0'), 'num_cls': 0, 'reg_loss': tensor(nan, device='cuda:0'), 'num_reg': 11265, 'loss': tensor(nan, device='cuda:0')}\n",
      "Epoch 0.000, lr 0.00000, time 0.00\n",
      "Wed Jul 27 08:49:27 2022\n",
      "loss nan nan nan, ade1 nan, fde1 nan, ade nan, fde nan\n",
      "\n"
     ]
    },
    {
     "name": "stderr",
     "output_type": "stream",
     "text": [
      "742it [04:55,  3.92it/s]"
     ]
    },
    {
     "name": "stdout",
     "output_type": "stream",
     "text": [
      "{'cls_loss': tensor(nan, device='cuda:0'), 'num_cls': 0, 'reg_loss': tensor(nan, device='cuda:0'), 'num_reg': 11021, 'loss': tensor(nan, device='cuda:0')}\n",
      "Epoch 0.000, lr 0.00000, time 0.00\n",
      "Wed Jul 27 08:49:27 2022\n",
      "loss nan nan nan, ade1 nan, fde1 nan, ade nan, fde nan\n",
      "\n"
     ]
    },
    {
     "name": "stderr",
     "output_type": "stream",
     "text": [
      "743it [04:56,  3.90it/s]"
     ]
    },
    {
     "name": "stdout",
     "output_type": "stream",
     "text": [
      "{'cls_loss': tensor(nan, device='cuda:0'), 'num_cls': 0, 'reg_loss': tensor(nan, device='cuda:0'), 'num_reg': 10550, 'loss': tensor(nan, device='cuda:0')}\n",
      "Epoch 0.000, lr 0.00000, time 0.00\n",
      "Wed Jul 27 08:49:27 2022\n",
      "loss nan nan nan, ade1 nan, fde1 nan, ade nan, fde nan\n",
      "\n"
     ]
    },
    {
     "name": "stderr",
     "output_type": "stream",
     "text": [
      "744it [04:56,  3.23it/s]"
     ]
    },
    {
     "name": "stdout",
     "output_type": "stream",
     "text": [
      "{'cls_loss': tensor(nan, device='cuda:0'), 'num_cls': 0, 'reg_loss': tensor(nan, device='cuda:0'), 'num_reg': 14238, 'loss': tensor(nan, device='cuda:0')}\n",
      "Epoch 0.000, lr 0.00000, time 0.00\n",
      "Wed Jul 27 08:49:28 2022\n",
      "loss nan nan nan, ade1 nan, fde1 nan, ade nan, fde nan\n",
      "\n"
     ]
    },
    {
     "name": "stderr",
     "output_type": "stream",
     "text": [
      "745it [04:56,  3.32it/s]"
     ]
    },
    {
     "name": "stdout",
     "output_type": "stream",
     "text": [
      "{'cls_loss': tensor(nan, device='cuda:0'), 'num_cls': 0, 'reg_loss': tensor(nan, device='cuda:0'), 'num_reg': 10216, 'loss': tensor(nan, device='cuda:0')}\n",
      "Epoch 0.000, lr 0.00000, time 0.00\n",
      "Wed Jul 27 08:49:28 2022\n",
      "loss nan nan nan, ade1 nan, fde1 nan, ade nan, fde nan\n",
      "\n"
     ]
    },
    {
     "name": "stderr",
     "output_type": "stream",
     "text": [
      "746it [04:57,  3.51it/s]"
     ]
    },
    {
     "name": "stdout",
     "output_type": "stream",
     "text": [
      "{'cls_loss': tensor(nan, device='cuda:0'), 'num_cls': 0, 'reg_loss': tensor(nan, device='cuda:0'), 'num_reg': 12134, 'loss': tensor(nan, device='cuda:0')}\n",
      "Epoch 0.000, lr 0.00000, time 0.00\n",
      "Wed Jul 27 08:49:28 2022\n",
      "loss nan nan nan, ade1 nan, fde1 nan, ade nan, fde nan\n",
      "\n"
     ]
    },
    {
     "name": "stderr",
     "output_type": "stream",
     "text": [
      "747it [04:57,  3.60it/s]"
     ]
    },
    {
     "name": "stdout",
     "output_type": "stream",
     "text": [
      "{'cls_loss': tensor(nan, device='cuda:0'), 'num_cls': 0, 'reg_loss': tensor(nan, device='cuda:0'), 'num_reg': 11621, 'loss': tensor(nan, device='cuda:0')}\n",
      "Epoch 0.000, lr 0.00000, time 0.00\n",
      "Wed Jul 27 08:49:29 2022\n",
      "loss nan nan nan, ade1 nan, fde1 nan, ade nan, fde nan\n",
      "\n"
     ]
    },
    {
     "name": "stderr",
     "output_type": "stream",
     "text": [
      "748it [04:57,  3.61it/s]"
     ]
    },
    {
     "name": "stdout",
     "output_type": "stream",
     "text": [
      "{'cls_loss': tensor(nan, device='cuda:0'), 'num_cls': 0, 'reg_loss': tensor(nan, device='cuda:0'), 'num_reg': 10375, 'loss': tensor(nan, device='cuda:0')}\n",
      "Epoch 0.000, lr 0.00000, time 0.00\n",
      "Wed Jul 27 08:49:29 2022\n",
      "loss nan nan nan, ade1 nan, fde1 nan, ade nan, fde nan\n",
      "\n"
     ]
    },
    {
     "name": "stderr",
     "output_type": "stream",
     "text": [
      "749it [04:57,  3.68it/s]"
     ]
    },
    {
     "name": "stdout",
     "output_type": "stream",
     "text": [
      "{'cls_loss': tensor(nan, device='cuda:0'), 'num_cls': 0, 'reg_loss': tensor(nan, device='cuda:0'), 'num_reg': 11139, 'loss': tensor(nan, device='cuda:0')}\n",
      "Epoch 0.000, lr 0.00000, time 0.00\n",
      "Wed Jul 27 08:49:29 2022\n",
      "loss nan nan nan, ade1 nan, fde1 nan, ade nan, fde nan\n",
      "\n"
     ]
    },
    {
     "name": "stderr",
     "output_type": "stream",
     "text": [
      "750it [04:58,  3.77it/s]"
     ]
    },
    {
     "name": "stdout",
     "output_type": "stream",
     "text": [
      "{'cls_loss': tensor(nan, device='cuda:0'), 'num_cls': 0, 'reg_loss': tensor(nan, device='cuda:0'), 'num_reg': 12041, 'loss': tensor(nan, device='cuda:0')}\n",
      "Epoch 0.000, lr 0.00000, time 0.00\n",
      "Wed Jul 27 08:49:29 2022\n",
      "loss nan nan nan, ade1 nan, fde1 nan, ade nan, fde nan\n",
      "\n"
     ]
    },
    {
     "name": "stderr",
     "output_type": "stream",
     "text": [
      "751it [04:58,  3.75it/s]"
     ]
    },
    {
     "name": "stdout",
     "output_type": "stream",
     "text": [
      "{'cls_loss': tensor(nan, device='cuda:0'), 'num_cls': 0, 'reg_loss': tensor(nan, device='cuda:0'), 'num_reg': 12490, 'loss': tensor(nan, device='cuda:0')}\n",
      "Epoch 0.000, lr 0.00000, time 0.00\n",
      "Wed Jul 27 08:49:30 2022\n",
      "loss nan nan nan, ade1 nan, fde1 nan, ade nan, fde nan\n",
      "\n"
     ]
    },
    {
     "name": "stderr",
     "output_type": "stream",
     "text": [
      "752it [04:58,  3.77it/s]"
     ]
    },
    {
     "name": "stdout",
     "output_type": "stream",
     "text": [
      "{'cls_loss': tensor(nan, device='cuda:0'), 'num_cls': 0, 'reg_loss': tensor(nan, device='cuda:0'), 'num_reg': 10366, 'loss': tensor(nan, device='cuda:0')}\n",
      "Epoch 0.000, lr 0.00000, time 0.00\n",
      "Wed Jul 27 08:49:30 2022\n",
      "loss nan nan nan, ade1 nan, fde1 nan, ade nan, fde nan\n",
      "\n"
     ]
    },
    {
     "name": "stderr",
     "output_type": "stream",
     "text": [
      "753it [04:59,  3.80it/s]"
     ]
    },
    {
     "name": "stdout",
     "output_type": "stream",
     "text": [
      "{'cls_loss': tensor(nan, device='cuda:0'), 'num_cls': 0, 'reg_loss': tensor(nan, device='cuda:0'), 'num_reg': 10852, 'loss': tensor(nan, device='cuda:0')}\n",
      "Epoch 0.000, lr 0.00000, time 0.00\n",
      "Wed Jul 27 08:49:30 2022\n",
      "loss nan nan nan, ade1 nan, fde1 nan, ade nan, fde nan\n",
      "\n"
     ]
    },
    {
     "name": "stderr",
     "output_type": "stream",
     "text": [
      "754it [04:59,  3.88it/s]"
     ]
    },
    {
     "name": "stdout",
     "output_type": "stream",
     "text": [
      "{'cls_loss': tensor(nan, device='cuda:0'), 'num_cls': 0, 'reg_loss': tensor(nan, device='cuda:0'), 'num_reg': 11843, 'loss': tensor(nan, device='cuda:0')}\n",
      "Epoch 0.000, lr 0.00000, time 0.00\n",
      "Wed Jul 27 08:49:30 2022\n",
      "loss nan nan nan, ade1 nan, fde1 nan, ade nan, fde nan\n",
      "\n"
     ]
    },
    {
     "name": "stderr",
     "output_type": "stream",
     "text": [
      "755it [04:59,  2.84it/s]"
     ]
    },
    {
     "name": "stdout",
     "output_type": "stream",
     "text": [
      "{'cls_loss': tensor(nan, device='cuda:0'), 'num_cls': 0, 'reg_loss': tensor(nan, device='cuda:0'), 'num_reg': 10258, 'loss': tensor(nan, device='cuda:0')}\n",
      "Epoch 0.000, lr 0.00000, time 0.00\n",
      "Wed Jul 27 08:49:31 2022\n",
      "loss nan nan nan, ade1 nan, fde1 nan, ade nan, fde nan\n",
      "\n"
     ]
    },
    {
     "name": "stderr",
     "output_type": "stream",
     "text": [
      "756it [05:00,  3.14it/s]"
     ]
    },
    {
     "name": "stdout",
     "output_type": "stream",
     "text": [
      "{'cls_loss': tensor(nan, device='cuda:0'), 'num_cls': 0, 'reg_loss': tensor(nan, device='cuda:0'), 'num_reg': 9578, 'loss': tensor(nan, device='cuda:0')}\n",
      "Epoch 0.000, lr 0.00000, time 0.00\n",
      "Wed Jul 27 08:49:31 2022\n",
      "loss nan nan nan, ade1 nan, fde1 nan, ade nan, fde nan\n",
      "\n"
     ]
    },
    {
     "name": "stderr",
     "output_type": "stream",
     "text": [
      "757it [05:00,  3.32it/s]"
     ]
    },
    {
     "name": "stdout",
     "output_type": "stream",
     "text": [
      "{'cls_loss': tensor(nan, device='cuda:0'), 'num_cls': 0, 'reg_loss': tensor(nan, device='cuda:0'), 'num_reg': 12614, 'loss': tensor(nan, device='cuda:0')}\n",
      "Epoch 0.000, lr 0.00000, time 0.00\n",
      "Wed Jul 27 08:49:31 2022\n",
      "loss nan nan nan, ade1 nan, fde1 nan, ade nan, fde nan\n",
      "\n"
     ]
    },
    {
     "name": "stderr",
     "output_type": "stream",
     "text": [
      "758it [05:00,  3.36it/s]"
     ]
    },
    {
     "name": "stdout",
     "output_type": "stream",
     "text": [
      "{'cls_loss': tensor(nan, device='cuda:0'), 'num_cls': 0, 'reg_loss': tensor(nan, device='cuda:0'), 'num_reg': 10006, 'loss': tensor(nan, device='cuda:0')}\n",
      "Epoch 0.000, lr 0.00000, time 0.00\n",
      "Wed Jul 27 08:49:32 2022\n",
      "loss nan nan nan, ade1 nan, fde1 nan, ade nan, fde nan\n",
      "\n"
     ]
    },
    {
     "name": "stderr",
     "output_type": "stream",
     "text": [
      "759it [05:00,  3.51it/s]"
     ]
    },
    {
     "name": "stdout",
     "output_type": "stream",
     "text": [
      "{'cls_loss': tensor(nan, device='cuda:0'), 'num_cls': 0, 'reg_loss': tensor(nan, device='cuda:0'), 'num_reg': 11095, 'loss': tensor(nan, device='cuda:0')}\n",
      "Epoch 0.000, lr 0.00000, time 0.00\n",
      "Wed Jul 27 08:49:32 2022\n",
      "loss nan nan nan, ade1 nan, fde1 nan, ade nan, fde nan\n",
      "\n"
     ]
    },
    {
     "name": "stderr",
     "output_type": "stream",
     "text": [
      "760it [05:01,  3.68it/s]"
     ]
    },
    {
     "name": "stdout",
     "output_type": "stream",
     "text": [
      "{'cls_loss': tensor(nan, device='cuda:0'), 'num_cls': 0, 'reg_loss': tensor(nan, device='cuda:0'), 'num_reg': 11225, 'loss': tensor(nan, device='cuda:0')}\n",
      "Epoch 0.000, lr 0.00000, time 0.00\n",
      "Wed Jul 27 08:49:32 2022\n",
      "loss nan nan nan, ade1 nan, fde1 nan, ade nan, fde nan\n",
      "\n"
     ]
    },
    {
     "name": "stderr",
     "output_type": "stream",
     "text": [
      "761it [05:01,  3.38it/s]"
     ]
    },
    {
     "name": "stdout",
     "output_type": "stream",
     "text": [
      "{'cls_loss': tensor(nan, device='cuda:0'), 'num_cls': 0, 'reg_loss': tensor(nan, device='cuda:0'), 'num_reg': 10856, 'loss': tensor(nan, device='cuda:0')}\n",
      "Epoch 0.000, lr 0.00000, time 0.00\n",
      "Wed Jul 27 08:49:33 2022\n",
      "loss nan nan nan, ade1 nan, fde1 nan, ade nan, fde nan\n",
      "\n"
     ]
    },
    {
     "name": "stderr",
     "output_type": "stream",
     "text": [
      "762it [05:01,  3.37it/s]"
     ]
    },
    {
     "name": "stdout",
     "output_type": "stream",
     "text": [
      "{'cls_loss': tensor(nan, device='cuda:0'), 'num_cls': 0, 'reg_loss': tensor(nan, device='cuda:0'), 'num_reg': 10383, 'loss': tensor(nan, device='cuda:0')}\n",
      "Epoch 0.000, lr 0.00000, time 0.00\n",
      "Wed Jul 27 08:49:33 2022\n",
      "loss nan nan nan, ade1 nan, fde1 nan, ade nan, fde nan\n",
      "\n"
     ]
    },
    {
     "name": "stderr",
     "output_type": "stream",
     "text": [
      "763it [05:02,  3.11it/s]"
     ]
    },
    {
     "name": "stdout",
     "output_type": "stream",
     "text": [
      "{'cls_loss': tensor(nan, device='cuda:0'), 'num_cls': 0, 'reg_loss': tensor(nan, device='cuda:0'), 'num_reg': 12513, 'loss': tensor(nan, device='cuda:0')}\n",
      "Epoch 0.000, lr 0.00000, time 0.00\n",
      "Wed Jul 27 08:49:33 2022\n",
      "loss nan nan nan, ade1 nan, fde1 nan, ade nan, fde nan\n",
      "\n"
     ]
    },
    {
     "name": "stderr",
     "output_type": "stream",
     "text": [
      "764it [05:02,  3.39it/s]"
     ]
    },
    {
     "name": "stdout",
     "output_type": "stream",
     "text": [
      "{'cls_loss': tensor(nan, device='cuda:0'), 'num_cls': 0, 'reg_loss': tensor(nan, device='cuda:0'), 'num_reg': 10462, 'loss': tensor(nan, device='cuda:0')}\n",
      "Epoch 0.000, lr 0.00000, time 0.00\n",
      "Wed Jul 27 08:49:34 2022\n",
      "loss nan nan nan, ade1 nan, fde1 nan, ade nan, fde nan\n",
      "\n"
     ]
    },
    {
     "name": "stderr",
     "output_type": "stream",
     "text": [
      "765it [05:02,  3.36it/s]"
     ]
    },
    {
     "name": "stdout",
     "output_type": "stream",
     "text": [
      "{'cls_loss': tensor(nan, device='cuda:0'), 'num_cls': 0, 'reg_loss': tensor(nan, device='cuda:0'), 'num_reg': 11481, 'loss': tensor(nan, device='cuda:0')}\n",
      "Epoch 0.000, lr 0.00000, time 0.00\n",
      "Wed Jul 27 08:49:34 2022\n",
      "loss nan nan nan, ade1 nan, fde1 nan, ade nan, fde nan\n",
      "\n"
     ]
    },
    {
     "name": "stderr",
     "output_type": "stream",
     "text": [
      "766it [05:02,  3.49it/s]"
     ]
    },
    {
     "name": "stdout",
     "output_type": "stream",
     "text": [
      "{'cls_loss': tensor(nan, device='cuda:0'), 'num_cls': 0, 'reg_loss': tensor(nan, device='cuda:0'), 'num_reg': 13333, 'loss': tensor(nan, device='cuda:0')}\n",
      "Epoch 0.000, lr 0.00000, time 0.00\n",
      "Wed Jul 27 08:49:34 2022\n",
      "loss nan nan nan, ade1 nan, fde1 nan, ade nan, fde nan\n",
      "\n"
     ]
    },
    {
     "name": "stderr",
     "output_type": "stream",
     "text": [
      "767it [05:03,  3.59it/s]"
     ]
    },
    {
     "name": "stdout",
     "output_type": "stream",
     "text": [
      "{'cls_loss': tensor(nan, device='cuda:0'), 'num_cls': 0, 'reg_loss': tensor(nan, device='cuda:0'), 'num_reg': 11103, 'loss': tensor(nan, device='cuda:0')}\n",
      "Epoch 0.000, lr 0.00000, time 0.00\n",
      "Wed Jul 27 08:49:34 2022\n",
      "loss nan nan nan, ade1 nan, fde1 nan, ade nan, fde nan\n",
      "\n"
     ]
    },
    {
     "name": "stderr",
     "output_type": "stream",
     "text": [
      "768it [05:03,  3.73it/s]"
     ]
    },
    {
     "name": "stdout",
     "output_type": "stream",
     "text": [
      "{'cls_loss': tensor(nan, device='cuda:0'), 'num_cls': 0, 'reg_loss': tensor(nan, device='cuda:0'), 'num_reg': 9167, 'loss': tensor(nan, device='cuda:0')}\n",
      "Epoch 0.000, lr 0.00000, time 0.00\n",
      "Wed Jul 27 08:49:35 2022\n",
      "loss nan nan nan, ade1 nan, fde1 nan, ade nan, fde nan\n",
      "\n"
     ]
    },
    {
     "name": "stderr",
     "output_type": "stream",
     "text": [
      "769it [05:03,  3.74it/s]"
     ]
    },
    {
     "name": "stdout",
     "output_type": "stream",
     "text": [
      "{'cls_loss': tensor(nan, device='cuda:0'), 'num_cls': 0, 'reg_loss': tensor(nan, device='cuda:0'), 'num_reg': 12297, 'loss': tensor(nan, device='cuda:0')}\n",
      "Epoch 0.000, lr 0.00000, time 0.00\n",
      "Wed Jul 27 08:49:35 2022\n",
      "loss nan nan nan, ade1 nan, fde1 nan, ade nan, fde nan\n",
      "\n"
     ]
    },
    {
     "name": "stderr",
     "output_type": "stream",
     "text": [
      "770it [05:04,  2.40it/s]"
     ]
    },
    {
     "name": "stdout",
     "output_type": "stream",
     "text": [
      "{'cls_loss': tensor(nan, device='cuda:0'), 'num_cls': 0, 'reg_loss': tensor(nan, device='cuda:0'), 'num_reg': 11073, 'loss': tensor(nan, device='cuda:0')}\n",
      "Epoch 0.000, lr 0.00000, time 0.00\n",
      "Wed Jul 27 08:49:36 2022\n",
      "loss nan nan nan, ade1 nan, fde1 nan, ade nan, fde nan\n",
      "\n"
     ]
    },
    {
     "name": "stderr",
     "output_type": "stream",
     "text": [
      "771it [05:04,  2.73it/s]"
     ]
    },
    {
     "name": "stdout",
     "output_type": "stream",
     "text": [
      "{'cls_loss': tensor(nan, device='cuda:0'), 'num_cls': 0, 'reg_loss': tensor(nan, device='cuda:0'), 'num_reg': 10039, 'loss': tensor(nan, device='cuda:0')}\n",
      "Epoch 0.000, lr 0.00000, time 0.00\n",
      "Wed Jul 27 08:49:36 2022\n",
      "loss nan nan nan, ade1 nan, fde1 nan, ade nan, fde nan\n",
      "\n"
     ]
    },
    {
     "name": "stderr",
     "output_type": "stream",
     "text": [
      "772it [05:04,  3.04it/s]"
     ]
    },
    {
     "name": "stdout",
     "output_type": "stream",
     "text": [
      "{'cls_loss': tensor(nan, device='cuda:0'), 'num_cls': 0, 'reg_loss': tensor(nan, device='cuda:0'), 'num_reg': 10321, 'loss': tensor(nan, device='cuda:0')}\n",
      "Epoch 0.000, lr 0.00000, time 0.00\n",
      "Wed Jul 27 08:49:36 2022\n",
      "loss nan nan nan, ade1 nan, fde1 nan, ade nan, fde nan\n",
      "\n"
     ]
    },
    {
     "name": "stderr",
     "output_type": "stream",
     "text": [
      "773it [05:05,  3.26it/s]"
     ]
    },
    {
     "name": "stdout",
     "output_type": "stream",
     "text": [
      "{'cls_loss': tensor(nan, device='cuda:0'), 'num_cls': 0, 'reg_loss': tensor(nan, device='cuda:0'), 'num_reg': 12567, 'loss': tensor(nan, device='cuda:0')}\n",
      "Epoch 0.000, lr 0.00000, time 0.00\n",
      "Wed Jul 27 08:49:36 2022\n",
      "loss nan nan nan, ade1 nan, fde1 nan, ade nan, fde nan\n",
      "\n"
     ]
    },
    {
     "name": "stderr",
     "output_type": "stream",
     "text": [
      "774it [05:05,  3.20it/s]"
     ]
    },
    {
     "name": "stdout",
     "output_type": "stream",
     "text": [
      "{'cls_loss': tensor(nan, device='cuda:0'), 'num_cls': 0, 'reg_loss': tensor(nan, device='cuda:0'), 'num_reg': 13325, 'loss': tensor(nan, device='cuda:0')}\n",
      "Epoch 0.000, lr 0.00000, time 0.00\n",
      "Wed Jul 27 08:49:37 2022\n",
      "loss nan nan nan, ade1 nan, fde1 nan, ade nan, fde nan\n",
      "\n"
     ]
    },
    {
     "name": "stderr",
     "output_type": "stream",
     "text": [
      "775it [05:05,  3.37it/s]"
     ]
    },
    {
     "name": "stdout",
     "output_type": "stream",
     "text": [
      "{'cls_loss': tensor(nan, device='cuda:0'), 'num_cls': 0, 'reg_loss': tensor(nan, device='cuda:0'), 'num_reg': 11202, 'loss': tensor(nan, device='cuda:0')}\n",
      "Epoch 0.000, lr 0.00000, time 0.00\n",
      "Wed Jul 27 08:49:37 2022\n",
      "loss nan nan nan, ade1 nan, fde1 nan, ade nan, fde nan\n",
      "\n"
     ]
    },
    {
     "name": "stderr",
     "output_type": "stream",
     "text": [
      "776it [05:06,  3.55it/s]"
     ]
    },
    {
     "name": "stdout",
     "output_type": "stream",
     "text": [
      "{'cls_loss': tensor(nan, device='cuda:0'), 'num_cls': 0, 'reg_loss': tensor(nan, device='cuda:0'), 'num_reg': 11195, 'loss': tensor(nan, device='cuda:0')}\n",
      "Epoch 0.000, lr 0.00000, time 0.00\n",
      "Wed Jul 27 08:49:37 2022\n",
      "loss nan nan nan, ade1 nan, fde1 nan, ade nan, fde nan\n",
      "\n"
     ]
    },
    {
     "name": "stderr",
     "output_type": "stream",
     "text": [
      "777it [05:06,  3.64it/s]"
     ]
    },
    {
     "name": "stdout",
     "output_type": "stream",
     "text": [
      "{'cls_loss': tensor(nan, device='cuda:0'), 'num_cls': 0, 'reg_loss': tensor(nan, device='cuda:0'), 'num_reg': 11763, 'loss': tensor(nan, device='cuda:0')}\n",
      "Epoch 0.000, lr 0.00000, time 0.00\n",
      "Wed Jul 27 08:49:37 2022\n",
      "loss nan nan nan, ade1 nan, fde1 nan, ade nan, fde nan\n",
      "\n"
     ]
    },
    {
     "name": "stderr",
     "output_type": "stream",
     "text": [
      "778it [05:06,  3.61it/s]"
     ]
    },
    {
     "name": "stdout",
     "output_type": "stream",
     "text": [
      "{'cls_loss': tensor(nan, device='cuda:0'), 'num_cls': 0, 'reg_loss': tensor(nan, device='cuda:0'), 'num_reg': 11865, 'loss': tensor(nan, device='cuda:0')}\n",
      "Epoch 0.000, lr 0.00000, time 0.00\n",
      "Wed Jul 27 08:49:38 2022\n",
      "loss nan nan nan, ade1 nan, fde1 nan, ade nan, fde nan\n",
      "\n"
     ]
    },
    {
     "name": "stderr",
     "output_type": "stream",
     "text": [
      "779it [05:07,  2.84it/s]"
     ]
    },
    {
     "name": "stdout",
     "output_type": "stream",
     "text": [
      "{'cls_loss': tensor(nan, device='cuda:0'), 'num_cls': 0, 'reg_loss': tensor(nan, device='cuda:0'), 'num_reg': 10802, 'loss': tensor(nan, device='cuda:0')}\n",
      "Epoch 0.000, lr 0.00000, time 0.00\n",
      "Wed Jul 27 08:49:38 2022\n",
      "loss nan nan nan, ade1 nan, fde1 nan, ade nan, fde nan\n",
      "\n"
     ]
    },
    {
     "name": "stderr",
     "output_type": "stream",
     "text": [
      "780it [05:07,  3.03it/s]"
     ]
    },
    {
     "name": "stdout",
     "output_type": "stream",
     "text": [
      "{'cls_loss': tensor(nan, device='cuda:0'), 'num_cls': 0, 'reg_loss': tensor(nan, device='cuda:0'), 'num_reg': 11791, 'loss': tensor(nan, device='cuda:0')}\n",
      "Epoch 0.000, lr 0.00000, time 0.00\n",
      "Wed Jul 27 08:49:39 2022\n",
      "loss nan nan nan, ade1 nan, fde1 nan, ade nan, fde nan\n",
      "\n"
     ]
    },
    {
     "name": "stderr",
     "output_type": "stream",
     "text": [
      "781it [05:07,  3.21it/s]"
     ]
    },
    {
     "name": "stdout",
     "output_type": "stream",
     "text": [
      "{'cls_loss': tensor(nan, device='cuda:0'), 'num_cls': 0, 'reg_loss': tensor(nan, device='cuda:0'), 'num_reg': 9630, 'loss': tensor(nan, device='cuda:0')}\n",
      "Epoch 0.000, lr 0.00000, time 0.00\n",
      "Wed Jul 27 08:49:39 2022\n",
      "loss nan nan nan, ade1 nan, fde1 nan, ade nan, fde nan\n",
      "\n"
     ]
    },
    {
     "name": "stderr",
     "output_type": "stream",
     "text": [
      "782it [05:07,  3.44it/s]"
     ]
    },
    {
     "name": "stdout",
     "output_type": "stream",
     "text": [
      "{'cls_loss': tensor(nan, device='cuda:0'), 'num_cls': 0, 'reg_loss': tensor(nan, device='cuda:0'), 'num_reg': 11365, 'loss': tensor(nan, device='cuda:0')}\n",
      "Epoch 0.000, lr 0.00000, time 0.00\n",
      "Wed Jul 27 08:49:39 2022\n",
      "loss nan nan nan, ade1 nan, fde1 nan, ade nan, fde nan\n",
      "\n"
     ]
    },
    {
     "name": "stderr",
     "output_type": "stream",
     "text": [
      "783it [05:08,  3.57it/s]"
     ]
    },
    {
     "name": "stdout",
     "output_type": "stream",
     "text": [
      "{'cls_loss': tensor(nan, device='cuda:0'), 'num_cls': 0, 'reg_loss': tensor(nan, device='cuda:0'), 'num_reg': 9419, 'loss': tensor(nan, device='cuda:0')}\n",
      "Epoch 0.000, lr 0.00000, time 0.00\n",
      "Wed Jul 27 08:49:39 2022\n",
      "loss nan nan nan, ade1 nan, fde1 nan, ade nan, fde nan\n",
      "\n"
     ]
    },
    {
     "name": "stderr",
     "output_type": "stream",
     "text": [
      "784it [05:08,  3.71it/s]"
     ]
    },
    {
     "name": "stdout",
     "output_type": "stream",
     "text": [
      "{'cls_loss': tensor(nan, device='cuda:0'), 'num_cls': 0, 'reg_loss': tensor(nan, device='cuda:0'), 'num_reg': 10265, 'loss': tensor(nan, device='cuda:0')}\n",
      "Epoch 0.000, lr 0.00000, time 0.00\n",
      "Wed Jul 27 08:49:40 2022\n",
      "loss nan nan nan, ade1 nan, fde1 nan, ade nan, fde nan\n",
      "\n"
     ]
    },
    {
     "name": "stderr",
     "output_type": "stream",
     "text": [
      "785it [05:08,  3.75it/s]"
     ]
    },
    {
     "name": "stdout",
     "output_type": "stream",
     "text": [
      "{'cls_loss': tensor(nan, device='cuda:0'), 'num_cls': 0, 'reg_loss': tensor(nan, device='cuda:0'), 'num_reg': 11022, 'loss': tensor(nan, device='cuda:0')}\n",
      "Epoch 0.000, lr 0.00000, time 0.00\n",
      "Wed Jul 27 08:49:40 2022\n",
      "loss nan nan nan, ade1 nan, fde1 nan, ade nan, fde nan\n",
      "\n"
     ]
    },
    {
     "name": "stderr",
     "output_type": "stream",
     "text": [
      "786it [05:08,  3.84it/s]"
     ]
    },
    {
     "name": "stdout",
     "output_type": "stream",
     "text": [
      "{'cls_loss': tensor(nan, device='cuda:0'), 'num_cls': 0, 'reg_loss': tensor(nan, device='cuda:0'), 'num_reg': 10191, 'loss': tensor(nan, device='cuda:0')}\n",
      "Epoch 0.000, lr 0.00000, time 0.00\n",
      "Wed Jul 27 08:49:40 2022\n",
      "loss nan nan nan, ade1 nan, fde1 nan, ade nan, fde nan\n",
      "\n"
     ]
    },
    {
     "name": "stderr",
     "output_type": "stream",
     "text": [
      "787it [05:09,  3.87it/s]"
     ]
    },
    {
     "name": "stdout",
     "output_type": "stream",
     "text": [
      "{'cls_loss': tensor(nan, device='cuda:0'), 'num_cls': 0, 'reg_loss': tensor(nan, device='cuda:0'), 'num_reg': 10606, 'loss': tensor(nan, device='cuda:0')}\n",
      "Epoch 0.000, lr 0.00000, time 0.00\n",
      "Wed Jul 27 08:49:40 2022\n",
      "loss nan nan nan, ade1 nan, fde1 nan, ade nan, fde nan\n",
      "\n"
     ]
    },
    {
     "name": "stderr",
     "output_type": "stream",
     "text": [
      "788it [05:09,  3.92it/s]"
     ]
    },
    {
     "name": "stdout",
     "output_type": "stream",
     "text": [
      "{'cls_loss': tensor(nan, device='cuda:0'), 'num_cls': 0, 'reg_loss': tensor(nan, device='cuda:0'), 'num_reg': 10468, 'loss': tensor(nan, device='cuda:0')}\n",
      "Epoch 0.000, lr 0.00000, time 0.00\n",
      "Wed Jul 27 08:49:41 2022\n",
      "loss nan nan nan, ade1 nan, fde1 nan, ade nan, fde nan\n",
      "\n"
     ]
    },
    {
     "name": "stderr",
     "output_type": "stream",
     "text": [
      "789it [05:09,  3.94it/s]"
     ]
    },
    {
     "name": "stdout",
     "output_type": "stream",
     "text": [
      "{'cls_loss': tensor(nan, device='cuda:0'), 'num_cls': 0, 'reg_loss': tensor(nan, device='cuda:0'), 'num_reg': 11271, 'loss': tensor(nan, device='cuda:0')}\n",
      "Epoch 0.000, lr 0.00000, time 0.00\n",
      "Wed Jul 27 08:49:41 2022\n",
      "loss nan nan nan, ade1 nan, fde1 nan, ade nan, fde nan\n",
      "\n"
     ]
    },
    {
     "name": "stderr",
     "output_type": "stream",
     "text": [
      "790it [05:09,  4.00it/s]"
     ]
    },
    {
     "name": "stdout",
     "output_type": "stream",
     "text": [
      "{'cls_loss': tensor(nan, device='cuda:0'), 'num_cls': 0, 'reg_loss': tensor(nan, device='cuda:0'), 'num_reg': 10655, 'loss': tensor(nan, device='cuda:0')}\n",
      "Epoch 0.000, lr 0.00000, time 0.00\n",
      "Wed Jul 27 08:49:41 2022\n",
      "loss nan nan nan, ade1 nan, fde1 nan, ade nan, fde nan\n",
      "\n"
     ]
    },
    {
     "name": "stderr",
     "output_type": "stream",
     "text": [
      "791it [05:10,  3.76it/s]"
     ]
    },
    {
     "name": "stdout",
     "output_type": "stream",
     "text": [
      "{'cls_loss': tensor(nan, device='cuda:0'), 'num_cls': 0, 'reg_loss': tensor(nan, device='cuda:0'), 'num_reg': 10660, 'loss': tensor(nan, device='cuda:0')}\n",
      "Epoch 0.000, lr 0.00000, time 0.00\n",
      "Wed Jul 27 08:49:41 2022\n",
      "loss nan nan nan, ade1 nan, fde1 nan, ade nan, fde nan\n",
      "\n"
     ]
    },
    {
     "name": "stderr",
     "output_type": "stream",
     "text": [
      "792it [05:10,  3.81it/s]"
     ]
    },
    {
     "name": "stdout",
     "output_type": "stream",
     "text": [
      "{'cls_loss': tensor(nan, device='cuda:0'), 'num_cls': 0, 'reg_loss': tensor(nan, device='cuda:0'), 'num_reg': 12695, 'loss': tensor(nan, device='cuda:0')}\n",
      "Epoch 0.000, lr 0.00000, time 0.00\n",
      "Wed Jul 27 08:49:42 2022\n",
      "loss nan nan nan, ade1 nan, fde1 nan, ade nan, fde nan\n",
      "\n"
     ]
    },
    {
     "name": "stderr",
     "output_type": "stream",
     "text": [
      "793it [05:10,  3.83it/s]"
     ]
    },
    {
     "name": "stdout",
     "output_type": "stream",
     "text": [
      "{'cls_loss': tensor(nan, device='cuda:0'), 'num_cls': 0, 'reg_loss': tensor(nan, device='cuda:0'), 'num_reg': 13186, 'loss': tensor(nan, device='cuda:0')}\n",
      "Epoch 0.000, lr 0.00000, time 0.00\n",
      "Wed Jul 27 08:49:42 2022\n",
      "loss nan nan nan, ade1 nan, fde1 nan, ade nan, fde nan\n",
      "\n"
     ]
    },
    {
     "name": "stderr",
     "output_type": "stream",
     "text": [
      "794it [05:10,  3.87it/s]"
     ]
    },
    {
     "name": "stdout",
     "output_type": "stream",
     "text": [
      "{'cls_loss': tensor(nan, device='cuda:0'), 'num_cls': 0, 'reg_loss': tensor(nan, device='cuda:0'), 'num_reg': 11442, 'loss': tensor(nan, device='cuda:0')}\n",
      "Epoch 0.000, lr 0.00000, time 0.00\n",
      "Wed Jul 27 08:49:42 2022\n",
      "loss nan nan nan, ade1 nan, fde1 nan, ade nan, fde nan\n",
      "\n"
     ]
    },
    {
     "name": "stderr",
     "output_type": "stream",
     "text": [
      "795it [05:11,  3.86it/s]"
     ]
    },
    {
     "name": "stdout",
     "output_type": "stream",
     "text": [
      "{'cls_loss': tensor(nan, device='cuda:0'), 'num_cls': 0, 'reg_loss': tensor(nan, device='cuda:0'), 'num_reg': 11802, 'loss': tensor(nan, device='cuda:0')}\n",
      "Epoch 0.000, lr 0.00000, time 0.00\n",
      "Wed Jul 27 08:49:42 2022\n",
      "loss nan nan nan, ade1 nan, fde1 nan, ade nan, fde nan\n",
      "\n"
     ]
    },
    {
     "name": "stderr",
     "output_type": "stream",
     "text": [
      "796it [05:11,  3.33it/s]"
     ]
    },
    {
     "name": "stdout",
     "output_type": "stream",
     "text": [
      "{'cls_loss': tensor(nan, device='cuda:0'), 'num_cls': 0, 'reg_loss': tensor(nan, device='cuda:0'), 'num_reg': 10040, 'loss': tensor(nan, device='cuda:0')}\n",
      "Epoch 0.000, lr 0.00000, time 0.00\n",
      "Wed Jul 27 08:49:43 2022\n",
      "loss nan nan nan, ade1 nan, fde1 nan, ade nan, fde nan\n",
      "\n"
     ]
    },
    {
     "name": "stderr",
     "output_type": "stream",
     "text": [
      "797it [05:11,  3.36it/s]"
     ]
    },
    {
     "name": "stdout",
     "output_type": "stream",
     "text": [
      "{'cls_loss': tensor(nan, device='cuda:0'), 'num_cls': 0, 'reg_loss': tensor(nan, device='cuda:0'), 'num_reg': 11569, 'loss': tensor(nan, device='cuda:0')}\n",
      "Epoch 0.000, lr 0.00000, time 0.00\n",
      "Wed Jul 27 08:49:43 2022\n",
      "loss nan nan nan, ade1 nan, fde1 nan, ade nan, fde nan\n",
      "\n"
     ]
    },
    {
     "name": "stderr",
     "output_type": "stream",
     "text": [
      "798it [05:12,  3.56it/s]"
     ]
    },
    {
     "name": "stdout",
     "output_type": "stream",
     "text": [
      "{'cls_loss': tensor(nan, device='cuda:0'), 'num_cls': 0, 'reg_loss': tensor(nan, device='cuda:0'), 'num_reg': 10053, 'loss': tensor(nan, device='cuda:0')}\n",
      "Epoch 0.000, lr 0.00000, time 0.00\n",
      "Wed Jul 27 08:49:43 2022\n",
      "loss nan nan nan, ade1 nan, fde1 nan, ade nan, fde nan\n",
      "\n"
     ]
    },
    {
     "name": "stderr",
     "output_type": "stream",
     "text": [
      "799it [05:12,  3.63it/s]"
     ]
    },
    {
     "name": "stdout",
     "output_type": "stream",
     "text": [
      "{'cls_loss': tensor(nan, device='cuda:0'), 'num_cls': 0, 'reg_loss': tensor(nan, device='cuda:0'), 'num_reg': 11585, 'loss': tensor(nan, device='cuda:0')}\n",
      "Epoch 0.000, lr 0.00000, time 0.00\n",
      "Wed Jul 27 08:49:44 2022\n",
      "loss nan nan nan, ade1 nan, fde1 nan, ade nan, fde nan\n",
      "\n"
     ]
    },
    {
     "name": "stderr",
     "output_type": "stream",
     "text": [
      "800it [05:12,  3.75it/s]"
     ]
    },
    {
     "name": "stdout",
     "output_type": "stream",
     "text": [
      "{'cls_loss': tensor(nan, device='cuda:0'), 'num_cls': 0, 'reg_loss': tensor(nan, device='cuda:0'), 'num_reg': 10601, 'loss': tensor(nan, device='cuda:0')}\n",
      "Epoch 0.000, lr 0.00000, time 0.00\n",
      "Wed Jul 27 08:49:44 2022\n",
      "loss nan nan nan, ade1 nan, fde1 nan, ade nan, fde nan\n",
      "\n"
     ]
    },
    {
     "name": "stderr",
     "output_type": "stream",
     "text": [
      "801it [05:12,  3.75it/s]"
     ]
    },
    {
     "name": "stdout",
     "output_type": "stream",
     "text": [
      "{'cls_loss': tensor(nan, device='cuda:0'), 'num_cls': 0, 'reg_loss': tensor(nan, device='cuda:0'), 'num_reg': 12640, 'loss': tensor(nan, device='cuda:0')}\n",
      "Epoch 0.000, lr 0.00000, time 0.00\n",
      "Wed Jul 27 08:49:44 2022\n",
      "loss nan nan nan, ade1 nan, fde1 nan, ade nan, fde nan\n",
      "\n"
     ]
    },
    {
     "name": "stderr",
     "output_type": "stream",
     "text": [
      "802it [05:13,  3.78it/s]"
     ]
    },
    {
     "name": "stdout",
     "output_type": "stream",
     "text": [
      "{'cls_loss': tensor(nan, device='cuda:0'), 'num_cls': 0, 'reg_loss': tensor(nan, device='cuda:0'), 'num_reg': 12743, 'loss': tensor(nan, device='cuda:0')}\n",
      "Epoch 0.000, lr 0.00000, time 0.00\n",
      "Wed Jul 27 08:49:44 2022\n",
      "loss nan nan nan, ade1 nan, fde1 nan, ade nan, fde nan\n",
      "\n"
     ]
    },
    {
     "name": "stderr",
     "output_type": "stream",
     "text": [
      "803it [05:13,  2.82it/s]"
     ]
    },
    {
     "name": "stdout",
     "output_type": "stream",
     "text": [
      "{'cls_loss': tensor(nan, device='cuda:0'), 'num_cls': 0, 'reg_loss': tensor(nan, device='cuda:0'), 'num_reg': 10816, 'loss': tensor(nan, device='cuda:0')}\n",
      "Epoch 0.000, lr 0.00000, time 0.00\n",
      "Wed Jul 27 08:49:45 2022\n",
      "loss nan nan nan, ade1 nan, fde1 nan, ade nan, fde nan\n",
      "\n"
     ]
    },
    {
     "name": "stderr",
     "output_type": "stream",
     "text": [
      "804it [05:14,  3.08it/s]"
     ]
    },
    {
     "name": "stdout",
     "output_type": "stream",
     "text": [
      "{'cls_loss': tensor(nan, device='cuda:0'), 'num_cls': 0, 'reg_loss': tensor(nan, device='cuda:0'), 'num_reg': 11452, 'loss': tensor(nan, device='cuda:0')}\n",
      "Epoch 0.000, lr 0.00000, time 0.00\n",
      "Wed Jul 27 08:49:45 2022\n",
      "loss nan nan nan, ade1 nan, fde1 nan, ade nan, fde nan\n",
      "\n"
     ]
    },
    {
     "name": "stderr",
     "output_type": "stream",
     "text": [
      "805it [05:14,  2.69it/s]"
     ]
    },
    {
     "name": "stdout",
     "output_type": "stream",
     "text": [
      "{'cls_loss': tensor(nan, device='cuda:0'), 'num_cls': 0, 'reg_loss': tensor(nan, device='cuda:0'), 'num_reg': 9462, 'loss': tensor(nan, device='cuda:0')}\n",
      "Epoch 0.000, lr 0.00000, time 0.00\n",
      "Wed Jul 27 08:49:46 2022\n",
      "loss nan nan nan, ade1 nan, fde1 nan, ade nan, fde nan\n",
      "\n"
     ]
    },
    {
     "name": "stderr",
     "output_type": "stream",
     "text": [
      "806it [05:14,  2.91it/s]"
     ]
    },
    {
     "name": "stdout",
     "output_type": "stream",
     "text": [
      "{'cls_loss': tensor(nan, device='cuda:0'), 'num_cls': 0, 'reg_loss': tensor(nan, device='cuda:0'), 'num_reg': 10140, 'loss': tensor(nan, device='cuda:0')}\n",
      "Epoch 0.000, lr 0.00000, time 0.00\n",
      "Wed Jul 27 08:49:46 2022\n",
      "loss nan nan nan, ade1 nan, fde1 nan, ade nan, fde nan\n",
      "\n"
     ]
    },
    {
     "name": "stderr",
     "output_type": "stream",
     "text": [
      "807it [05:15,  3.14it/s]"
     ]
    },
    {
     "name": "stdout",
     "output_type": "stream",
     "text": [
      "{'cls_loss': tensor(nan, device='cuda:0'), 'num_cls': 0, 'reg_loss': tensor(nan, device='cuda:0'), 'num_reg': 10754, 'loss': tensor(nan, device='cuda:0')}\n",
      "Epoch 0.000, lr 0.00000, time 0.00\n",
      "Wed Jul 27 08:49:46 2022\n",
      "loss nan nan nan, ade1 nan, fde1 nan, ade nan, fde nan\n",
      "\n"
     ]
    },
    {
     "name": "stderr",
     "output_type": "stream",
     "text": [
      "808it [05:15,  3.36it/s]"
     ]
    },
    {
     "name": "stdout",
     "output_type": "stream",
     "text": [
      "{'cls_loss': tensor(nan, device='cuda:0'), 'num_cls': 0, 'reg_loss': tensor(nan, device='cuda:0'), 'num_reg': 8825, 'loss': tensor(nan, device='cuda:0')}\n",
      "Epoch 0.000, lr 0.00000, time 0.00\n",
      "Wed Jul 27 08:49:46 2022\n",
      "loss nan nan nan, ade1 nan, fde1 nan, ade nan, fde nan\n",
      "\n"
     ]
    },
    {
     "name": "stderr",
     "output_type": "stream",
     "text": [
      "809it [05:15,  3.47it/s]"
     ]
    },
    {
     "name": "stdout",
     "output_type": "stream",
     "text": [
      "{'cls_loss': tensor(nan, device='cuda:0'), 'num_cls': 0, 'reg_loss': tensor(nan, device='cuda:0'), 'num_reg': 11471, 'loss': tensor(nan, device='cuda:0')}\n",
      "Epoch 0.000, lr 0.00000, time 0.00\n",
      "Wed Jul 27 08:49:47 2022\n",
      "loss nan nan nan, ade1 nan, fde1 nan, ade nan, fde nan\n",
      "\n"
     ]
    },
    {
     "name": "stderr",
     "output_type": "stream",
     "text": [
      "810it [05:15,  3.60it/s]"
     ]
    },
    {
     "name": "stdout",
     "output_type": "stream",
     "text": [
      "{'cls_loss': tensor(nan, device='cuda:0'), 'num_cls': 0, 'reg_loss': tensor(nan, device='cuda:0'), 'num_reg': 12283, 'loss': tensor(nan, device='cuda:0')}\n",
      "Epoch 0.000, lr 0.00000, time 0.00\n",
      "Wed Jul 27 08:49:47 2022\n",
      "loss nan nan nan, ade1 nan, fde1 nan, ade nan, fde nan\n",
      "\n"
     ]
    },
    {
     "name": "stderr",
     "output_type": "stream",
     "text": [
      "811it [05:16,  3.66it/s]"
     ]
    },
    {
     "name": "stdout",
     "output_type": "stream",
     "text": [
      "{'cls_loss': tensor(nan, device='cuda:0'), 'num_cls': 0, 'reg_loss': tensor(nan, device='cuda:0'), 'num_reg': 10276, 'loss': tensor(nan, device='cuda:0')}\n",
      "Epoch 0.000, lr 0.00000, time 0.00\n",
      "Wed Jul 27 08:49:47 2022\n",
      "loss nan nan nan, ade1 nan, fde1 nan, ade nan, fde nan\n",
      "\n"
     ]
    },
    {
     "name": "stderr",
     "output_type": "stream",
     "text": [
      "812it [05:16,  3.44it/s]"
     ]
    },
    {
     "name": "stdout",
     "output_type": "stream",
     "text": [
      "{'cls_loss': tensor(nan, device='cuda:0'), 'num_cls': 0, 'reg_loss': tensor(nan, device='cuda:0'), 'num_reg': 12415, 'loss': tensor(nan, device='cuda:0')}\n",
      "Epoch 0.000, lr 0.00000, time 0.00\n",
      "Wed Jul 27 08:49:48 2022\n",
      "loss nan nan nan, ade1 nan, fde1 nan, ade nan, fde nan\n",
      "\n"
     ]
    },
    {
     "name": "stderr",
     "output_type": "stream",
     "text": [
      "813it [05:16,  2.70it/s]"
     ]
    },
    {
     "name": "stdout",
     "output_type": "stream",
     "text": [
      "{'cls_loss': tensor(nan, device='cuda:0'), 'num_cls': 0, 'reg_loss': tensor(nan, device='cuda:0'), 'num_reg': 10893, 'loss': tensor(nan, device='cuda:0')}\n",
      "Epoch 0.000, lr 0.00000, time 0.00\n",
      "Wed Jul 27 08:49:48 2022\n",
      "loss nan nan nan, ade1 nan, fde1 nan, ade nan, fde nan\n",
      "\n"
     ]
    },
    {
     "name": "stderr",
     "output_type": "stream",
     "text": [
      "814it [05:17,  2.08it/s]"
     ]
    },
    {
     "name": "stdout",
     "output_type": "stream",
     "text": [
      "{'cls_loss': tensor(nan, device='cuda:0'), 'num_cls': 0, 'reg_loss': tensor(nan, device='cuda:0'), 'num_reg': 11670, 'loss': tensor(nan, device='cuda:0')}\n",
      "Epoch 0.000, lr 0.00000, time 0.00\n",
      "Wed Jul 27 08:49:49 2022\n",
      "loss nan nan nan, ade1 nan, fde1 nan, ade nan, fde nan\n",
      "\n"
     ]
    },
    {
     "name": "stderr",
     "output_type": "stream",
     "text": [
      "815it [05:17,  2.38it/s]"
     ]
    },
    {
     "name": "stdout",
     "output_type": "stream",
     "text": [
      "{'cls_loss': tensor(nan, device='cuda:0'), 'num_cls': 0, 'reg_loss': tensor(nan, device='cuda:0'), 'num_reg': 11230, 'loss': tensor(nan, device='cuda:0')}\n",
      "Epoch 0.000, lr 0.00000, time 0.00\n",
      "Wed Jul 27 08:49:49 2022\n",
      "loss nan nan nan, ade1 nan, fde1 nan, ade nan, fde nan\n",
      "\n"
     ]
    },
    {
     "name": "stderr",
     "output_type": "stream",
     "text": [
      "816it [05:18,  2.71it/s]"
     ]
    },
    {
     "name": "stdout",
     "output_type": "stream",
     "text": [
      "{'cls_loss': tensor(nan, device='cuda:0'), 'num_cls': 0, 'reg_loss': tensor(nan, device='cuda:0'), 'num_reg': 10153, 'loss': tensor(nan, device='cuda:0')}\n",
      "Epoch 0.000, lr 0.00000, time 0.00\n",
      "Wed Jul 27 08:49:49 2022\n",
      "loss nan nan nan, ade1 nan, fde1 nan, ade nan, fde nan\n",
      "\n"
     ]
    },
    {
     "name": "stderr",
     "output_type": "stream",
     "text": [
      "817it [05:18,  2.95it/s]"
     ]
    },
    {
     "name": "stdout",
     "output_type": "stream",
     "text": [
      "{'cls_loss': tensor(nan, device='cuda:0'), 'num_cls': 0, 'reg_loss': tensor(nan, device='cuda:0'), 'num_reg': 10207, 'loss': tensor(nan, device='cuda:0')}\n",
      "Epoch 0.000, lr 0.00000, time 0.00\n",
      "Wed Jul 27 08:49:50 2022\n",
      "loss nan nan nan, ade1 nan, fde1 nan, ade nan, fde nan\n",
      "\n"
     ]
    },
    {
     "name": "stderr",
     "output_type": "stream",
     "text": [
      "818it [05:18,  3.18it/s]"
     ]
    },
    {
     "name": "stdout",
     "output_type": "stream",
     "text": [
      "{'cls_loss': tensor(nan, device='cuda:0'), 'num_cls': 0, 'reg_loss': tensor(nan, device='cuda:0'), 'num_reg': 11734, 'loss': tensor(nan, device='cuda:0')}\n",
      "Epoch 0.000, lr 0.00000, time 0.00\n",
      "Wed Jul 27 08:49:50 2022\n",
      "loss nan nan nan, ade1 nan, fde1 nan, ade nan, fde nan\n",
      "\n"
     ]
    },
    {
     "name": "stderr",
     "output_type": "stream",
     "text": [
      "819it [05:19,  3.32it/s]"
     ]
    },
    {
     "name": "stdout",
     "output_type": "stream",
     "text": [
      "{'cls_loss': tensor(nan, device='cuda:0'), 'num_cls': 0, 'reg_loss': tensor(nan, device='cuda:0'), 'num_reg': 11125, 'loss': tensor(nan, device='cuda:0')}\n",
      "Epoch 0.000, lr 0.00000, time 0.00\n",
      "Wed Jul 27 08:49:50 2022\n",
      "loss nan nan nan, ade1 nan, fde1 nan, ade nan, fde nan\n",
      "\n"
     ]
    },
    {
     "name": "stderr",
     "output_type": "stream",
     "text": [
      "820it [05:19,  3.49it/s]"
     ]
    },
    {
     "name": "stdout",
     "output_type": "stream",
     "text": [
      "{'cls_loss': tensor(nan, device='cuda:0'), 'num_cls': 0, 'reg_loss': tensor(nan, device='cuda:0'), 'num_reg': 9891, 'loss': tensor(nan, device='cuda:0')}\n",
      "Epoch 0.000, lr 0.00000, time 0.00\n",
      "Wed Jul 27 08:49:50 2022\n",
      "loss nan nan nan, ade1 nan, fde1 nan, ade nan, fde nan\n",
      "\n"
     ]
    },
    {
     "name": "stderr",
     "output_type": "stream",
     "text": [
      "821it [05:19,  3.56it/s]"
     ]
    },
    {
     "name": "stdout",
     "output_type": "stream",
     "text": [
      "{'cls_loss': tensor(nan, device='cuda:0'), 'num_cls': 0, 'reg_loss': tensor(nan, device='cuda:0'), 'num_reg': 11260, 'loss': tensor(nan, device='cuda:0')}\n",
      "Epoch 0.000, lr 0.00000, time 0.00\n",
      "Wed Jul 27 08:49:51 2022\n",
      "loss nan nan nan, ade1 nan, fde1 nan, ade nan, fde nan\n",
      "\n"
     ]
    },
    {
     "name": "stderr",
     "output_type": "stream",
     "text": [
      "822it [05:19,  3.68it/s]"
     ]
    },
    {
     "name": "stdout",
     "output_type": "stream",
     "text": [
      "{'cls_loss': tensor(nan, device='cuda:0'), 'num_cls': 0, 'reg_loss': tensor(nan, device='cuda:0'), 'num_reg': 10342, 'loss': tensor(nan, device='cuda:0')}\n",
      "Epoch 0.000, lr 0.00000, time 0.00\n",
      "Wed Jul 27 08:49:51 2022\n",
      "loss nan nan nan, ade1 nan, fde1 nan, ade nan, fde nan\n",
      "\n"
     ]
    },
    {
     "name": "stderr",
     "output_type": "stream",
     "text": [
      "823it [05:20,  3.70it/s]"
     ]
    },
    {
     "name": "stdout",
     "output_type": "stream",
     "text": [
      "{'cls_loss': tensor(nan, device='cuda:0'), 'num_cls': 0, 'reg_loss': tensor(nan, device='cuda:0'), 'num_reg': 10602, 'loss': tensor(nan, device='cuda:0')}\n",
      "Epoch 0.000, lr 0.00000, time 0.00\n",
      "Wed Jul 27 08:49:51 2022\n",
      "loss nan nan nan, ade1 nan, fde1 nan, ade nan, fde nan\n",
      "\n"
     ]
    },
    {
     "name": "stderr",
     "output_type": "stream",
     "text": [
      "824it [05:20,  3.76it/s]"
     ]
    },
    {
     "name": "stdout",
     "output_type": "stream",
     "text": [
      "{'cls_loss': tensor(nan, device='cuda:0'), 'num_cls': 0, 'reg_loss': tensor(nan, device='cuda:0'), 'num_reg': 11353, 'loss': tensor(nan, device='cuda:0')}\n",
      "Epoch 0.000, lr 0.00000, time 0.00\n",
      "Wed Jul 27 08:49:51 2022\n",
      "loss nan nan nan, ade1 nan, fde1 nan, ade nan, fde nan\n",
      "\n"
     ]
    },
    {
     "name": "stderr",
     "output_type": "stream",
     "text": [
      "825it [05:20,  3.74it/s]"
     ]
    },
    {
     "name": "stdout",
     "output_type": "stream",
     "text": [
      "{'cls_loss': tensor(nan, device='cuda:0'), 'num_cls': 0, 'reg_loss': tensor(nan, device='cuda:0'), 'num_reg': 11717, 'loss': tensor(nan, device='cuda:0')}\n",
      "Epoch 0.000, lr 0.00000, time 0.00\n",
      "Wed Jul 27 08:49:52 2022\n",
      "loss nan nan nan, ade1 nan, fde1 nan, ade nan, fde nan\n",
      "\n"
     ]
    },
    {
     "name": "stderr",
     "output_type": "stream",
     "text": [
      "826it [05:20,  3.79it/s]"
     ]
    },
    {
     "name": "stdout",
     "output_type": "stream",
     "text": [
      "{'cls_loss': tensor(nan, device='cuda:0'), 'num_cls': 0, 'reg_loss': tensor(nan, device='cuda:0'), 'num_reg': 9674, 'loss': tensor(nan, device='cuda:0')}\n",
      "Epoch 0.000, lr 0.00000, time 0.00\n",
      "Wed Jul 27 08:49:52 2022\n",
      "loss nan nan nan, ade1 nan, fde1 nan, ade nan, fde nan\n",
      "\n"
     ]
    },
    {
     "name": "stderr",
     "output_type": "stream",
     "text": [
      "827it [05:21,  3.76it/s]"
     ]
    },
    {
     "name": "stdout",
     "output_type": "stream",
     "text": [
      "{'cls_loss': tensor(nan, device='cuda:0'), 'num_cls': 0, 'reg_loss': tensor(nan, device='cuda:0'), 'num_reg': 10036, 'loss': tensor(nan, device='cuda:0')}\n",
      "Epoch 0.000, lr 0.00000, time 0.00\n",
      "Wed Jul 27 08:49:52 2022\n",
      "loss nan nan nan, ade1 nan, fde1 nan, ade nan, fde nan\n",
      "\n"
     ]
    },
    {
     "name": "stderr",
     "output_type": "stream",
     "text": [
      "828it [05:21,  3.59it/s]"
     ]
    },
    {
     "name": "stdout",
     "output_type": "stream",
     "text": [
      "{'cls_loss': tensor(nan, device='cuda:0'), 'num_cls': 0, 'reg_loss': tensor(nan, device='cuda:0'), 'num_reg': 10073, 'loss': tensor(nan, device='cuda:0')}\n",
      "Epoch 0.000, lr 0.00000, time 0.00\n",
      "Wed Jul 27 08:49:53 2022\n",
      "loss nan nan nan, ade1 nan, fde1 nan, ade nan, fde nan\n",
      "\n"
     ]
    },
    {
     "name": "stderr",
     "output_type": "stream",
     "text": [
      "829it [05:21,  3.41it/s]"
     ]
    },
    {
     "name": "stdout",
     "output_type": "stream",
     "text": [
      "{'cls_loss': tensor(nan, device='cuda:0'), 'num_cls': 0, 'reg_loss': tensor(nan, device='cuda:0'), 'num_reg': 13095, 'loss': tensor(nan, device='cuda:0')}\n",
      "Epoch 0.000, lr 0.00000, time 0.00\n",
      "Wed Jul 27 08:49:53 2022\n",
      "loss nan nan nan, ade1 nan, fde1 nan, ade nan, fde nan\n",
      "\n"
     ]
    },
    {
     "name": "stderr",
     "output_type": "stream",
     "text": [
      "830it [05:22,  3.52it/s]"
     ]
    },
    {
     "name": "stdout",
     "output_type": "stream",
     "text": [
      "{'cls_loss': tensor(nan, device='cuda:0'), 'num_cls': 0, 'reg_loss': tensor(nan, device='cuda:0'), 'num_reg': 13038, 'loss': tensor(nan, device='cuda:0')}\n",
      "Epoch 0.000, lr 0.00000, time 0.00\n",
      "Wed Jul 27 08:49:53 2022\n",
      "loss nan nan nan, ade1 nan, fde1 nan, ade nan, fde nan\n",
      "\n"
     ]
    },
    {
     "name": "stderr",
     "output_type": "stream",
     "text": [
      "831it [05:22,  3.52it/s]"
     ]
    },
    {
     "name": "stdout",
     "output_type": "stream",
     "text": [
      "{'cls_loss': tensor(nan, device='cuda:0'), 'num_cls': 0, 'reg_loss': tensor(nan, device='cuda:0'), 'num_reg': 10010, 'loss': tensor(nan, device='cuda:0')}\n",
      "Epoch 0.000, lr 0.00000, time 0.00\n",
      "Wed Jul 27 08:49:53 2022\n",
      "loss nan nan nan, ade1 nan, fde1 nan, ade nan, fde nan\n",
      "\n"
     ]
    },
    {
     "name": "stderr",
     "output_type": "stream",
     "text": [
      "832it [05:22,  3.54it/s]"
     ]
    },
    {
     "name": "stdout",
     "output_type": "stream",
     "text": [
      "{'cls_loss': tensor(nan, device='cuda:0'), 'num_cls': 0, 'reg_loss': tensor(nan, device='cuda:0'), 'num_reg': 11016, 'loss': tensor(nan, device='cuda:0')}\n",
      "Epoch 0.000, lr 0.00000, time 0.00\n",
      "Wed Jul 27 08:49:54 2022\n",
      "loss nan nan nan, ade1 nan, fde1 nan, ade nan, fde nan\n",
      "\n"
     ]
    },
    {
     "name": "stderr",
     "output_type": "stream",
     "text": [
      "833it [05:22,  3.54it/s]"
     ]
    },
    {
     "name": "stdout",
     "output_type": "stream",
     "text": [
      "{'cls_loss': tensor(nan, device='cuda:0'), 'num_cls': 0, 'reg_loss': tensor(nan, device='cuda:0'), 'num_reg': 11521, 'loss': tensor(nan, device='cuda:0')}\n",
      "Epoch 0.000, lr 0.00000, time 0.00\n",
      "Wed Jul 27 08:49:54 2022\n",
      "loss nan nan nan, ade1 nan, fde1 nan, ade nan, fde nan\n",
      "\n"
     ]
    },
    {
     "name": "stderr",
     "output_type": "stream",
     "text": [
      "834it [05:23,  3.59it/s]"
     ]
    },
    {
     "name": "stdout",
     "output_type": "stream",
     "text": [
      "{'cls_loss': tensor(nan, device='cuda:0'), 'num_cls': 0, 'reg_loss': tensor(nan, device='cuda:0'), 'num_reg': 10604, 'loss': tensor(nan, device='cuda:0')}\n",
      "Epoch 0.000, lr 0.00000, time 0.00\n",
      "Wed Jul 27 08:49:54 2022\n",
      "loss nan nan nan, ade1 nan, fde1 nan, ade nan, fde nan\n",
      "\n"
     ]
    },
    {
     "name": "stderr",
     "output_type": "stream",
     "text": [
      "835it [05:23,  3.62it/s]"
     ]
    },
    {
     "name": "stdout",
     "output_type": "stream",
     "text": [
      "{'cls_loss': tensor(nan, device='cuda:0'), 'num_cls': 0, 'reg_loss': tensor(nan, device='cuda:0'), 'num_reg': 11208, 'loss': tensor(nan, device='cuda:0')}\n",
      "Epoch 0.000, lr 0.00000, time 0.00\n",
      "Wed Jul 27 08:49:55 2022\n",
      "loss nan nan nan, ade1 nan, fde1 nan, ade nan, fde nan\n",
      "\n"
     ]
    },
    {
     "name": "stderr",
     "output_type": "stream",
     "text": [
      "836it [05:23,  3.68it/s]"
     ]
    },
    {
     "name": "stdout",
     "output_type": "stream",
     "text": [
      "{'cls_loss': tensor(nan, device='cuda:0'), 'num_cls': 0, 'reg_loss': tensor(nan, device='cuda:0'), 'num_reg': 11511, 'loss': tensor(nan, device='cuda:0')}\n",
      "Epoch 0.000, lr 0.00000, time 0.00\n",
      "Wed Jul 27 08:49:55 2022\n",
      "loss nan nan nan, ade1 nan, fde1 nan, ade nan, fde nan\n",
      "\n"
     ]
    },
    {
     "name": "stderr",
     "output_type": "stream",
     "text": [
      "837it [05:24,  2.80it/s]"
     ]
    },
    {
     "name": "stdout",
     "output_type": "stream",
     "text": [
      "{'cls_loss': tensor(nan, device='cuda:0'), 'num_cls': 0, 'reg_loss': tensor(nan, device='cuda:0'), 'num_reg': 11370, 'loss': tensor(nan, device='cuda:0')}\n",
      "Epoch 0.000, lr 0.00000, time 0.00\n",
      "Wed Jul 27 08:49:55 2022\n",
      "loss nan nan nan, ade1 nan, fde1 nan, ade nan, fde nan\n",
      "\n"
     ]
    },
    {
     "name": "stderr",
     "output_type": "stream",
     "text": [
      "838it [05:24,  3.06it/s]"
     ]
    },
    {
     "name": "stdout",
     "output_type": "stream",
     "text": [
      "{'cls_loss': tensor(nan, device='cuda:0'), 'num_cls': 0, 'reg_loss': tensor(nan, device='cuda:0'), 'num_reg': 10332, 'loss': tensor(nan, device='cuda:0')}\n",
      "Epoch 0.000, lr 0.00000, time 0.00\n",
      "Wed Jul 27 08:49:56 2022\n",
      "loss nan nan nan, ade1 nan, fde1 nan, ade nan, fde nan\n",
      "\n"
     ]
    },
    {
     "name": "stderr",
     "output_type": "stream",
     "text": [
      "839it [05:24,  2.90it/s]"
     ]
    },
    {
     "name": "stdout",
     "output_type": "stream",
     "text": [
      "{'cls_loss': tensor(nan, device='cuda:0'), 'num_cls': 0, 'reg_loss': tensor(nan, device='cuda:0'), 'num_reg': 8762, 'loss': tensor(nan, device='cuda:0')}\n",
      "Epoch 0.000, lr 0.00000, time 0.00\n",
      "Wed Jul 27 08:49:56 2022\n",
      "loss nan nan nan, ade1 nan, fde1 nan, ade nan, fde nan\n",
      "\n"
     ]
    },
    {
     "name": "stderr",
     "output_type": "stream",
     "text": [
      "840it [05:25,  3.14it/s]"
     ]
    },
    {
     "name": "stdout",
     "output_type": "stream",
     "text": [
      "{'cls_loss': tensor(nan, device='cuda:0'), 'num_cls': 0, 'reg_loss': tensor(nan, device='cuda:0'), 'num_reg': 11482, 'loss': tensor(nan, device='cuda:0')}\n",
      "Epoch 0.000, lr 0.00000, time 0.00\n",
      "Wed Jul 27 08:49:56 2022\n",
      "loss nan nan nan, ade1 nan, fde1 nan, ade nan, fde nan\n",
      "\n"
     ]
    },
    {
     "name": "stderr",
     "output_type": "stream",
     "text": [
      "841it [05:25,  3.30it/s]"
     ]
    },
    {
     "name": "stdout",
     "output_type": "stream",
     "text": [
      "{'cls_loss': tensor(nan, device='cuda:0'), 'num_cls': 0, 'reg_loss': tensor(nan, device='cuda:0'), 'num_reg': 10052, 'loss': tensor(nan, device='cuda:0')}\n",
      "Epoch 0.000, lr 0.00000, time 0.00\n",
      "Wed Jul 27 08:49:57 2022\n",
      "loss nan nan nan, ade1 nan, fde1 nan, ade nan, fde nan\n",
      "\n"
     ]
    },
    {
     "name": "stderr",
     "output_type": "stream",
     "text": [
      "842it [05:25,  3.18it/s]"
     ]
    },
    {
     "name": "stdout",
     "output_type": "stream",
     "text": [
      "{'cls_loss': tensor(nan, device='cuda:0'), 'num_cls': 0, 'reg_loss': tensor(nan, device='cuda:0'), 'num_reg': 12520, 'loss': tensor(nan, device='cuda:0')}\n",
      "Epoch 0.000, lr 0.00000, time 0.00\n",
      "Wed Jul 27 08:49:57 2022\n",
      "loss nan nan nan, ade1 nan, fde1 nan, ade nan, fde nan\n",
      "\n"
     ]
    },
    {
     "name": "stderr",
     "output_type": "stream",
     "text": [
      "843it [05:26,  3.29it/s]"
     ]
    },
    {
     "name": "stdout",
     "output_type": "stream",
     "text": [
      "{'cls_loss': tensor(nan, device='cuda:0'), 'num_cls': 0, 'reg_loss': tensor(nan, device='cuda:0'), 'num_reg': 13035, 'loss': tensor(nan, device='cuda:0')}\n",
      "Epoch 0.000, lr 0.00000, time 0.00\n",
      "Wed Jul 27 08:49:57 2022\n",
      "loss nan nan nan, ade1 nan, fde1 nan, ade nan, fde nan\n",
      "\n"
     ]
    },
    {
     "name": "stderr",
     "output_type": "stream",
     "text": [
      "844it [05:26,  3.42it/s]"
     ]
    },
    {
     "name": "stdout",
     "output_type": "stream",
     "text": [
      "{'cls_loss': tensor(nan, device='cuda:0'), 'num_cls': 0, 'reg_loss': tensor(nan, device='cuda:0'), 'num_reg': 11044, 'loss': tensor(nan, device='cuda:0')}\n",
      "Epoch 0.000, lr 0.00000, time 0.00\n",
      "Wed Jul 27 08:49:57 2022\n",
      "loss nan nan nan, ade1 nan, fde1 nan, ade nan, fde nan\n",
      "\n"
     ]
    },
    {
     "name": "stderr",
     "output_type": "stream",
     "text": [
      "845it [05:26,  3.49it/s]"
     ]
    },
    {
     "name": "stdout",
     "output_type": "stream",
     "text": [
      "{'cls_loss': tensor(nan, device='cuda:0'), 'num_cls': 0, 'reg_loss': tensor(nan, device='cuda:0'), 'num_reg': 9904, 'loss': tensor(nan, device='cuda:0')}\n",
      "Epoch 0.000, lr 0.00000, time 0.00\n",
      "Wed Jul 27 08:49:58 2022\n",
      "loss nan nan nan, ade1 nan, fde1 nan, ade nan, fde nan\n",
      "\n"
     ]
    },
    {
     "name": "stderr",
     "output_type": "stream",
     "text": [
      "846it [05:26,  3.57it/s]"
     ]
    },
    {
     "name": "stdout",
     "output_type": "stream",
     "text": [
      "{'cls_loss': tensor(nan, device='cuda:0'), 'num_cls': 0, 'reg_loss': tensor(nan, device='cuda:0'), 'num_reg': 11588, 'loss': tensor(nan, device='cuda:0')}\n",
      "Epoch 0.000, lr 0.00000, time 0.00\n",
      "Wed Jul 27 08:49:58 2022\n",
      "loss nan nan nan, ade1 nan, fde1 nan, ade nan, fde nan\n",
      "\n"
     ]
    },
    {
     "name": "stderr",
     "output_type": "stream",
     "text": [
      "847it [05:27,  3.60it/s]"
     ]
    },
    {
     "name": "stdout",
     "output_type": "stream",
     "text": [
      "{'cls_loss': tensor(nan, device='cuda:0'), 'num_cls': 0, 'reg_loss': tensor(nan, device='cuda:0'), 'num_reg': 11228, 'loss': tensor(nan, device='cuda:0')}\n",
      "Epoch 0.000, lr 0.00000, time 0.00\n",
      "Wed Jul 27 08:49:58 2022\n",
      "loss nan nan nan, ade1 nan, fde1 nan, ade nan, fde nan\n",
      "\n"
     ]
    },
    {
     "name": "stderr",
     "output_type": "stream",
     "text": [
      "848it [05:27,  3.65it/s]"
     ]
    },
    {
     "name": "stdout",
     "output_type": "stream",
     "text": [
      "{'cls_loss': tensor(nan, device='cuda:0'), 'num_cls': 0, 'reg_loss': tensor(nan, device='cuda:0'), 'num_reg': 12040, 'loss': tensor(nan, device='cuda:0')}\n",
      "Epoch 0.000, lr 0.00000, time 0.00\n",
      "Wed Jul 27 08:49:58 2022\n",
      "loss nan nan nan, ade1 nan, fde1 nan, ade nan, fde nan\n",
      "\n"
     ]
    },
    {
     "name": "stderr",
     "output_type": "stream",
     "text": [
      "849it [05:27,  3.25it/s]"
     ]
    },
    {
     "name": "stdout",
     "output_type": "stream",
     "text": [
      "{'cls_loss': tensor(nan, device='cuda:0'), 'num_cls': 0, 'reg_loss': tensor(nan, device='cuda:0'), 'num_reg': 12264, 'loss': tensor(nan, device='cuda:0')}\n",
      "Epoch 0.000, lr 0.00000, time 0.00\n",
      "Wed Jul 27 08:49:59 2022\n",
      "loss nan nan nan, ade1 nan, fde1 nan, ade nan, fde nan\n",
      "\n"
     ]
    },
    {
     "name": "stderr",
     "output_type": "stream",
     "text": [
      "850it [05:27,  3.42it/s]"
     ]
    },
    {
     "name": "stdout",
     "output_type": "stream",
     "text": [
      "{'cls_loss': tensor(nan, device='cuda:0'), 'num_cls': 0, 'reg_loss': tensor(nan, device='cuda:0'), 'num_reg': 9386, 'loss': tensor(nan, device='cuda:0')}\n",
      "Epoch 0.000, lr 0.00000, time 0.00\n",
      "Wed Jul 27 08:49:59 2022\n",
      "loss nan nan nan, ade1 nan, fde1 nan, ade nan, fde nan\n",
      "\n"
     ]
    },
    {
     "name": "stderr",
     "output_type": "stream",
     "text": [
      "851it [05:28,  3.47it/s]"
     ]
    },
    {
     "name": "stdout",
     "output_type": "stream",
     "text": [
      "{'cls_loss': tensor(nan, device='cuda:0'), 'num_cls': 0, 'reg_loss': tensor(nan, device='cuda:0'), 'num_reg': 10630, 'loss': tensor(nan, device='cuda:0')}\n",
      "Epoch 0.000, lr 0.00000, time 0.00\n",
      "Wed Jul 27 08:49:59 2022\n",
      "loss nan nan nan, ade1 nan, fde1 nan, ade nan, fde nan\n",
      "\n"
     ]
    },
    {
     "name": "stderr",
     "output_type": "stream",
     "text": [
      "852it [05:28,  3.53it/s]"
     ]
    },
    {
     "name": "stdout",
     "output_type": "stream",
     "text": [
      "{'cls_loss': tensor(nan, device='cuda:0'), 'num_cls': 0, 'reg_loss': tensor(nan, device='cuda:0'), 'num_reg': 10872, 'loss': tensor(nan, device='cuda:0')}\n",
      "Epoch 0.000, lr 0.00000, time 0.00\n",
      "Wed Jul 27 08:50:00 2022\n",
      "loss nan nan nan, ade1 nan, fde1 nan, ade nan, fde nan\n",
      "\n"
     ]
    },
    {
     "name": "stderr",
     "output_type": "stream",
     "text": [
      "853it [05:28,  3.54it/s]"
     ]
    },
    {
     "name": "stdout",
     "output_type": "stream",
     "text": [
      "{'cls_loss': tensor(nan, device='cuda:0'), 'num_cls': 0, 'reg_loss': tensor(nan, device='cuda:0'), 'num_reg': 10020, 'loss': tensor(nan, device='cuda:0')}\n",
      "Epoch 0.000, lr 0.00000, time 0.00\n",
      "Wed Jul 27 08:50:00 2022\n",
      "loss nan nan nan, ade1 nan, fde1 nan, ade nan, fde nan\n",
      "\n"
     ]
    },
    {
     "name": "stderr",
     "output_type": "stream",
     "text": [
      "854it [05:29,  3.57it/s]"
     ]
    },
    {
     "name": "stdout",
     "output_type": "stream",
     "text": [
      "{'cls_loss': tensor(nan, device='cuda:0'), 'num_cls': 0, 'reg_loss': tensor(nan, device='cuda:0'), 'num_reg': 10820, 'loss': tensor(nan, device='cuda:0')}\n",
      "Epoch 0.000, lr 0.00000, time 0.00\n",
      "Wed Jul 27 08:50:00 2022\n",
      "loss nan nan nan, ade1 nan, fde1 nan, ade nan, fde nan\n",
      "\n"
     ]
    },
    {
     "name": "stderr",
     "output_type": "stream",
     "text": [
      "855it [05:29,  3.59it/s]"
     ]
    },
    {
     "name": "stdout",
     "output_type": "stream",
     "text": [
      "{'cls_loss': tensor(nan, device='cuda:0'), 'num_cls': 0, 'reg_loss': tensor(nan, device='cuda:0'), 'num_reg': 11178, 'loss': tensor(nan, device='cuda:0')}\n",
      "Epoch 0.000, lr 0.00000, time 0.00\n",
      "Wed Jul 27 08:50:00 2022\n",
      "loss nan nan nan, ade1 nan, fde1 nan, ade nan, fde nan\n",
      "\n"
     ]
    },
    {
     "name": "stderr",
     "output_type": "stream",
     "text": [
      "856it [05:29,  3.60it/s]"
     ]
    },
    {
     "name": "stdout",
     "output_type": "stream",
     "text": [
      "{'cls_loss': tensor(nan, device='cuda:0'), 'num_cls': 0, 'reg_loss': tensor(nan, device='cuda:0'), 'num_reg': 11108, 'loss': tensor(nan, device='cuda:0')}\n",
      "Epoch 0.000, lr 0.00000, time 0.00\n",
      "Wed Jul 27 08:50:01 2022\n",
      "loss nan nan nan, ade1 nan, fde1 nan, ade nan, fde nan\n",
      "\n"
     ]
    },
    {
     "name": "stderr",
     "output_type": "stream",
     "text": [
      "857it [05:30,  2.77it/s]"
     ]
    },
    {
     "name": "stdout",
     "output_type": "stream",
     "text": [
      "{'cls_loss': tensor(nan, device='cuda:0'), 'num_cls': 0, 'reg_loss': tensor(nan, device='cuda:0'), 'num_reg': 8994, 'loss': tensor(nan, device='cuda:0')}\n",
      "Epoch 0.000, lr 0.00000, time 0.00\n",
      "Wed Jul 27 08:50:01 2022\n",
      "loss nan nan nan, ade1 nan, fde1 nan, ade nan, fde nan\n",
      "\n"
     ]
    },
    {
     "name": "stderr",
     "output_type": "stream",
     "text": [
      "858it [05:30,  2.93it/s]"
     ]
    },
    {
     "name": "stdout",
     "output_type": "stream",
     "text": [
      "{'cls_loss': tensor(nan, device='cuda:0'), 'num_cls': 0, 'reg_loss': tensor(nan, device='cuda:0'), 'num_reg': 10991, 'loss': tensor(nan, device='cuda:0')}\n",
      "Epoch 0.000, lr 0.00000, time 0.00\n",
      "Wed Jul 27 08:50:02 2022\n",
      "loss nan nan nan, ade1 nan, fde1 nan, ade nan, fde nan\n",
      "\n"
     ]
    },
    {
     "name": "stderr",
     "output_type": "stream",
     "text": [
      "859it [05:31,  2.15it/s]"
     ]
    },
    {
     "name": "stdout",
     "output_type": "stream",
     "text": [
      "{'cls_loss': tensor(nan, device='cuda:0'), 'num_cls': 0, 'reg_loss': tensor(nan, device='cuda:0'), 'num_reg': 9759, 'loss': tensor(nan, device='cuda:0')}\n",
      "Epoch 0.000, lr 0.00000, time 0.00\n",
      "Wed Jul 27 08:50:02 2022\n",
      "loss nan nan nan, ade1 nan, fde1 nan, ade nan, fde nan\n",
      "\n"
     ]
    },
    {
     "name": "stderr",
     "output_type": "stream",
     "text": [
      "860it [05:31,  2.43it/s]"
     ]
    },
    {
     "name": "stdout",
     "output_type": "stream",
     "text": [
      "{'cls_loss': tensor(nan, device='cuda:0'), 'num_cls': 0, 'reg_loss': tensor(nan, device='cuda:0'), 'num_reg': 9325, 'loss': tensor(nan, device='cuda:0')}\n",
      "Epoch 0.000, lr 0.00000, time 0.00\n",
      "Wed Jul 27 08:50:03 2022\n",
      "loss nan nan nan, ade1 nan, fde1 nan, ade nan, fde nan\n",
      "\n"
     ]
    },
    {
     "name": "stderr",
     "output_type": "stream",
     "text": [
      "861it [05:31,  2.70it/s]"
     ]
    },
    {
     "name": "stdout",
     "output_type": "stream",
     "text": [
      "{'cls_loss': tensor(nan, device='cuda:0'), 'num_cls': 0, 'reg_loss': tensor(nan, device='cuda:0'), 'num_reg': 11780, 'loss': tensor(nan, device='cuda:0')}\n",
      "Epoch 0.000, lr 0.00000, time 0.00\n",
      "Wed Jul 27 08:50:03 2022\n",
      "loss nan nan nan, ade1 nan, fde1 nan, ade nan, fde nan\n",
      "\n"
     ]
    },
    {
     "name": "stderr",
     "output_type": "stream",
     "text": [
      "862it [05:32,  2.98it/s]"
     ]
    },
    {
     "name": "stdout",
     "output_type": "stream",
     "text": [
      "{'cls_loss': tensor(nan, device='cuda:0'), 'num_cls': 0, 'reg_loss': tensor(nan, device='cuda:0'), 'num_reg': 11540, 'loss': tensor(nan, device='cuda:0')}\n",
      "Epoch 0.000, lr 0.00000, time 0.00\n",
      "Wed Jul 27 08:50:03 2022\n",
      "loss nan nan nan, ade1 nan, fde1 nan, ade nan, fde nan\n",
      "\n"
     ]
    },
    {
     "name": "stderr",
     "output_type": "stream",
     "text": [
      "863it [05:32,  2.48it/s]"
     ]
    },
    {
     "name": "stdout",
     "output_type": "stream",
     "text": [
      "{'cls_loss': tensor(nan, device='cuda:0'), 'num_cls': 0, 'reg_loss': tensor(nan, device='cuda:0'), 'num_reg': 11575, 'loss': tensor(nan, device='cuda:0')}\n",
      "Epoch 0.000, lr 0.00000, time 0.00\n",
      "Wed Jul 27 08:50:04 2022\n",
      "loss nan nan nan, ade1 nan, fde1 nan, ade nan, fde nan\n",
      "\n"
     ]
    },
    {
     "name": "stderr",
     "output_type": "stream",
     "text": [
      "864it [05:32,  2.76it/s]"
     ]
    },
    {
     "name": "stdout",
     "output_type": "stream",
     "text": [
      "{'cls_loss': tensor(nan, device='cuda:0'), 'num_cls': 0, 'reg_loss': tensor(nan, device='cuda:0'), 'num_reg': 9888, 'loss': tensor(nan, device='cuda:0')}\n",
      "Epoch 0.000, lr 0.00000, time 0.00\n",
      "Wed Jul 27 08:50:04 2022\n",
      "loss nan nan nan, ade1 nan, fde1 nan, ade nan, fde nan\n",
      "\n"
     ]
    },
    {
     "name": "stderr",
     "output_type": "stream",
     "text": [
      "865it [05:33,  2.99it/s]"
     ]
    },
    {
     "name": "stdout",
     "output_type": "stream",
     "text": [
      "{'cls_loss': tensor(nan, device='cuda:0'), 'num_cls': 0, 'reg_loss': tensor(nan, device='cuda:0'), 'num_reg': 10733, 'loss': tensor(nan, device='cuda:0')}\n",
      "Epoch 0.000, lr 0.00000, time 0.00\n",
      "Wed Jul 27 08:50:04 2022\n",
      "loss nan nan nan, ade1 nan, fde1 nan, ade nan, fde nan\n",
      "\n"
     ]
    },
    {
     "name": "stderr",
     "output_type": "stream",
     "text": [
      "866it [05:33,  3.17it/s]"
     ]
    },
    {
     "name": "stdout",
     "output_type": "stream",
     "text": [
      "{'cls_loss': tensor(nan, device='cuda:0'), 'num_cls': 0, 'reg_loss': tensor(nan, device='cuda:0'), 'num_reg': 11240, 'loss': tensor(nan, device='cuda:0')}\n",
      "Epoch 0.000, lr 0.00000, time 0.00\n",
      "Wed Jul 27 08:50:05 2022\n",
      "loss nan nan nan, ade1 nan, fde1 nan, ade nan, fde nan\n",
      "\n"
     ]
    },
    {
     "name": "stderr",
     "output_type": "stream",
     "text": [
      "867it [05:33,  2.60it/s]"
     ]
    },
    {
     "name": "stdout",
     "output_type": "stream",
     "text": [
      "{'cls_loss': tensor(nan, device='cuda:0'), 'num_cls': 0, 'reg_loss': tensor(nan, device='cuda:0'), 'num_reg': 11899, 'loss': tensor(nan, device='cuda:0')}\n",
      "Epoch 0.000, lr 0.00000, time 0.00\n",
      "Wed Jul 27 08:50:05 2022\n",
      "loss nan nan nan, ade1 nan, fde1 nan, ade nan, fde nan\n",
      "\n"
     ]
    },
    {
     "name": "stderr",
     "output_type": "stream",
     "text": [
      "868it [05:34,  2.88it/s]"
     ]
    },
    {
     "name": "stdout",
     "output_type": "stream",
     "text": [
      "{'cls_loss': tensor(nan, device='cuda:0'), 'num_cls': 0, 'reg_loss': tensor(nan, device='cuda:0'), 'num_reg': 11314, 'loss': tensor(nan, device='cuda:0')}\n",
      "Epoch 0.000, lr 0.00000, time 0.00\n",
      "Wed Jul 27 08:50:05 2022\n",
      "loss nan nan nan, ade1 nan, fde1 nan, ade nan, fde nan\n",
      "\n"
     ]
    },
    {
     "name": "stderr",
     "output_type": "stream",
     "text": [
      "869it [05:34,  3.08it/s]"
     ]
    },
    {
     "name": "stdout",
     "output_type": "stream",
     "text": [
      "{'cls_loss': tensor(nan, device='cuda:0'), 'num_cls': 0, 'reg_loss': tensor(nan, device='cuda:0'), 'num_reg': 12178, 'loss': tensor(nan, device='cuda:0')}\n",
      "Epoch 0.000, lr 0.00000, time 0.00\n",
      "Wed Jul 27 08:50:06 2022\n",
      "loss nan nan nan, ade1 nan, fde1 nan, ade nan, fde nan\n",
      "\n"
     ]
    },
    {
     "name": "stderr",
     "output_type": "stream",
     "text": [
      "870it [05:34,  3.26it/s]"
     ]
    },
    {
     "name": "stdout",
     "output_type": "stream",
     "text": [
      "{'cls_loss': tensor(nan, device='cuda:0'), 'num_cls': 0, 'reg_loss': tensor(nan, device='cuda:0'), 'num_reg': 11404, 'loss': tensor(nan, device='cuda:0')}\n",
      "Epoch 0.000, lr 0.00000, time 0.00\n",
      "Wed Jul 27 08:50:06 2022\n",
      "loss nan nan nan, ade1 nan, fde1 nan, ade nan, fde nan\n",
      "\n"
     ]
    },
    {
     "name": "stderr",
     "output_type": "stream",
     "text": [
      "871it [05:35,  3.36it/s]"
     ]
    },
    {
     "name": "stdout",
     "output_type": "stream",
     "text": [
      "{'cls_loss': tensor(nan, device='cuda:0'), 'num_cls': 0, 'reg_loss': tensor(nan, device='cuda:0'), 'num_reg': 11026, 'loss': tensor(nan, device='cuda:0')}\n",
      "Epoch 0.000, lr 0.00000, time 0.00\n",
      "Wed Jul 27 08:50:06 2022\n",
      "loss nan nan nan, ade1 nan, fde1 nan, ade nan, fde nan\n",
      "\n"
     ]
    },
    {
     "name": "stderr",
     "output_type": "stream",
     "text": [
      "872it [05:35,  3.51it/s]"
     ]
    },
    {
     "name": "stdout",
     "output_type": "stream",
     "text": [
      "{'cls_loss': tensor(nan, device='cuda:0'), 'num_cls': 0, 'reg_loss': tensor(nan, device='cuda:0'), 'num_reg': 10868, 'loss': tensor(nan, device='cuda:0')}\n",
      "Epoch 0.000, lr 0.00000, time 0.00\n",
      "Wed Jul 27 08:50:06 2022\n",
      "loss nan nan nan, ade1 nan, fde1 nan, ade nan, fde nan\n",
      "\n"
     ]
    },
    {
     "name": "stderr",
     "output_type": "stream",
     "text": [
      "873it [05:35,  3.54it/s]"
     ]
    },
    {
     "name": "stdout",
     "output_type": "stream",
     "text": [
      "{'cls_loss': tensor(nan, device='cuda:0'), 'num_cls': 0, 'reg_loss': tensor(nan, device='cuda:0'), 'num_reg': 11450, 'loss': tensor(nan, device='cuda:0')}\n",
      "Epoch 0.000, lr 0.00000, time 0.00\n",
      "Wed Jul 27 08:50:07 2022\n",
      "loss nan nan nan, ade1 nan, fde1 nan, ade nan, fde nan\n",
      "\n"
     ]
    },
    {
     "name": "stderr",
     "output_type": "stream",
     "text": [
      "874it [05:35,  3.67it/s]"
     ]
    },
    {
     "name": "stdout",
     "output_type": "stream",
     "text": [
      "{'cls_loss': tensor(nan, device='cuda:0'), 'num_cls': 0, 'reg_loss': tensor(nan, device='cuda:0'), 'num_reg': 10454, 'loss': tensor(nan, device='cuda:0')}\n",
      "Epoch 0.000, lr 0.00000, time 0.00\n",
      "Wed Jul 27 08:50:07 2022\n",
      "loss nan nan nan, ade1 nan, fde1 nan, ade nan, fde nan\n",
      "\n"
     ]
    },
    {
     "name": "stderr",
     "output_type": "stream",
     "text": [
      "875it [05:36,  3.69it/s]"
     ]
    },
    {
     "name": "stdout",
     "output_type": "stream",
     "text": [
      "{'cls_loss': tensor(nan, device='cuda:0'), 'num_cls': 0, 'reg_loss': tensor(nan, device='cuda:0'), 'num_reg': 9886, 'loss': tensor(nan, device='cuda:0')}\n",
      "Epoch 0.000, lr 0.00000, time 0.00\n",
      "Wed Jul 27 08:50:07 2022\n",
      "loss nan nan nan, ade1 nan, fde1 nan, ade nan, fde nan\n",
      "\n"
     ]
    },
    {
     "name": "stderr",
     "output_type": "stream",
     "text": [
      "876it [05:36,  3.72it/s]"
     ]
    },
    {
     "name": "stdout",
     "output_type": "stream",
     "text": [
      "{'cls_loss': tensor(nan, device='cuda:0'), 'num_cls': 0, 'reg_loss': tensor(nan, device='cuda:0'), 'num_reg': 12280, 'loss': tensor(nan, device='cuda:0')}\n",
      "Epoch 0.000, lr 0.00000, time 0.00\n",
      "Wed Jul 27 08:50:07 2022\n",
      "loss nan nan nan, ade1 nan, fde1 nan, ade nan, fde nan\n",
      "\n"
     ]
    },
    {
     "name": "stderr",
     "output_type": "stream",
     "text": [
      "877it [05:36,  3.72it/s]"
     ]
    },
    {
     "name": "stdout",
     "output_type": "stream",
     "text": [
      "{'cls_loss': tensor(nan, device='cuda:0'), 'num_cls': 0, 'reg_loss': tensor(nan, device='cuda:0'), 'num_reg': 10500, 'loss': tensor(nan, device='cuda:0')}\n",
      "Epoch 0.000, lr 0.00000, time 0.00\n",
      "Wed Jul 27 08:50:08 2022\n",
      "loss nan nan nan, ade1 nan, fde1 nan, ade nan, fde nan\n",
      "\n"
     ]
    },
    {
     "name": "stderr",
     "output_type": "stream",
     "text": [
      "878it [05:36,  3.77it/s]"
     ]
    },
    {
     "name": "stdout",
     "output_type": "stream",
     "text": [
      "{'cls_loss': tensor(nan, device='cuda:0'), 'num_cls': 0, 'reg_loss': tensor(nan, device='cuda:0'), 'num_reg': 11502, 'loss': tensor(nan, device='cuda:0')}\n",
      "Epoch 0.000, lr 0.00000, time 0.00\n",
      "Wed Jul 27 08:50:08 2022\n",
      "loss nan nan nan, ade1 nan, fde1 nan, ade nan, fde nan\n",
      "\n"
     ]
    },
    {
     "name": "stderr",
     "output_type": "stream",
     "text": [
      "879it [05:37,  3.00it/s]"
     ]
    },
    {
     "name": "stdout",
     "output_type": "stream",
     "text": [
      "{'cls_loss': tensor(nan, device='cuda:0'), 'num_cls': 0, 'reg_loss': tensor(nan, device='cuda:0'), 'num_reg': 10978, 'loss': tensor(nan, device='cuda:0')}\n",
      "Epoch 0.000, lr 0.00000, time 0.00\n",
      "Wed Jul 27 08:50:09 2022\n",
      "loss nan nan nan, ade1 nan, fde1 nan, ade nan, fde nan\n",
      "\n"
     ]
    },
    {
     "name": "stderr",
     "output_type": "stream",
     "text": [
      "880it [05:37,  3.23it/s]"
     ]
    },
    {
     "name": "stdout",
     "output_type": "stream",
     "text": [
      "{'cls_loss': tensor(nan, device='cuda:0'), 'num_cls': 0, 'reg_loss': tensor(nan, device='cuda:0'), 'num_reg': 10915, 'loss': tensor(nan, device='cuda:0')}\n",
      "Epoch 0.000, lr 0.00000, time 0.00\n",
      "Wed Jul 27 08:50:09 2022\n",
      "loss nan nan nan, ade1 nan, fde1 nan, ade nan, fde nan\n",
      "\n"
     ]
    },
    {
     "name": "stderr",
     "output_type": "stream",
     "text": [
      "881it [05:37,  3.35it/s]"
     ]
    },
    {
     "name": "stdout",
     "output_type": "stream",
     "text": [
      "{'cls_loss': tensor(nan, device='cuda:0'), 'num_cls': 0, 'reg_loss': tensor(nan, device='cuda:0'), 'num_reg': 10457, 'loss': tensor(nan, device='cuda:0')}\n",
      "Epoch 0.000, lr 0.00000, time 0.00\n",
      "Wed Jul 27 08:50:09 2022\n",
      "loss nan nan nan, ade1 nan, fde1 nan, ade nan, fde nan\n",
      "\n"
     ]
    },
    {
     "name": "stderr",
     "output_type": "stream",
     "text": [
      "882it [05:38,  3.49it/s]"
     ]
    },
    {
     "name": "stdout",
     "output_type": "stream",
     "text": [
      "{'cls_loss': tensor(nan, device='cuda:0'), 'num_cls': 0, 'reg_loss': tensor(nan, device='cuda:0'), 'num_reg': 10844, 'loss': tensor(nan, device='cuda:0')}\n",
      "Epoch 0.000, lr 0.00000, time 0.00\n",
      "Wed Jul 27 08:50:09 2022\n",
      "loss nan nan nan, ade1 nan, fde1 nan, ade nan, fde nan\n",
      "\n"
     ]
    },
    {
     "name": "stderr",
     "output_type": "stream",
     "text": [
      "883it [05:38,  3.57it/s]"
     ]
    },
    {
     "name": "stdout",
     "output_type": "stream",
     "text": [
      "{'cls_loss': tensor(nan, device='cuda:0'), 'num_cls': 0, 'reg_loss': tensor(nan, device='cuda:0'), 'num_reg': 9971, 'loss': tensor(nan, device='cuda:0')}\n",
      "Epoch 0.000, lr 0.00000, time 0.00\n",
      "Wed Jul 27 08:50:10 2022\n",
      "loss nan nan nan, ade1 nan, fde1 nan, ade nan, fde nan\n",
      "\n"
     ]
    },
    {
     "name": "stderr",
     "output_type": "stream",
     "text": [
      "884it [05:38,  3.64it/s]"
     ]
    },
    {
     "name": "stdout",
     "output_type": "stream",
     "text": [
      "{'cls_loss': tensor(nan, device='cuda:0'), 'num_cls': 0, 'reg_loss': tensor(nan, device='cuda:0'), 'num_reg': 9809, 'loss': tensor(nan, device='cuda:0')}\n",
      "Epoch 0.000, lr 0.00000, time 0.00\n",
      "Wed Jul 27 08:50:10 2022\n",
      "loss nan nan nan, ade1 nan, fde1 nan, ade nan, fde nan\n",
      "\n"
     ]
    },
    {
     "name": "stderr",
     "output_type": "stream",
     "text": [
      "885it [05:39,  3.17it/s]"
     ]
    },
    {
     "name": "stdout",
     "output_type": "stream",
     "text": [
      "{'cls_loss': tensor(nan, device='cuda:0'), 'num_cls': 0, 'reg_loss': tensor(nan, device='cuda:0'), 'num_reg': 13116, 'loss': tensor(nan, device='cuda:0')}\n",
      "Epoch 0.000, lr 0.00000, time 0.00\n",
      "Wed Jul 27 08:50:10 2022\n",
      "loss nan nan nan, ade1 nan, fde1 nan, ade nan, fde nan\n",
      "\n"
     ]
    },
    {
     "name": "stderr",
     "output_type": "stream",
     "text": [
      "886it [05:39,  3.36it/s]"
     ]
    },
    {
     "name": "stdout",
     "output_type": "stream",
     "text": [
      "{'cls_loss': tensor(nan, device='cuda:0'), 'num_cls': 0, 'reg_loss': tensor(nan, device='cuda:0'), 'num_reg': 9704, 'loss': tensor(nan, device='cuda:0')}\n",
      "Epoch 0.000, lr 0.00000, time 0.00\n",
      "Wed Jul 27 08:50:10 2022\n",
      "loss nan nan nan, ade1 nan, fde1 nan, ade nan, fde nan\n",
      "\n"
     ]
    },
    {
     "name": "stderr",
     "output_type": "stream",
     "text": [
      "887it [05:39,  3.47it/s]"
     ]
    },
    {
     "name": "stdout",
     "output_type": "stream",
     "text": [
      "{'cls_loss': tensor(nan, device='cuda:0'), 'num_cls': 0, 'reg_loss': tensor(nan, device='cuda:0'), 'num_reg': 9326, 'loss': tensor(nan, device='cuda:0')}\n",
      "Epoch 0.000, lr 0.00000, time 0.00\n",
      "Wed Jul 27 08:50:11 2022\n",
      "loss nan nan nan, ade1 nan, fde1 nan, ade nan, fde nan\n",
      "\n"
     ]
    },
    {
     "name": "stderr",
     "output_type": "stream",
     "text": [
      "888it [05:39,  3.53it/s]"
     ]
    },
    {
     "name": "stdout",
     "output_type": "stream",
     "text": [
      "{'cls_loss': tensor(nan, device='cuda:0'), 'num_cls': 0, 'reg_loss': tensor(nan, device='cuda:0'), 'num_reg': 10417, 'loss': tensor(nan, device='cuda:0')}\n",
      "Epoch 0.000, lr 0.00000, time 0.00\n",
      "Wed Jul 27 08:50:11 2022\n",
      "loss nan nan nan, ade1 nan, fde1 nan, ade nan, fde nan\n",
      "\n"
     ]
    },
    {
     "name": "stderr",
     "output_type": "stream",
     "text": [
      "889it [05:40,  3.56it/s]"
     ]
    },
    {
     "name": "stdout",
     "output_type": "stream",
     "text": [
      "{'cls_loss': tensor(nan, device='cuda:0'), 'num_cls': 0, 'reg_loss': tensor(nan, device='cuda:0'), 'num_reg': 12462, 'loss': tensor(nan, device='cuda:0')}\n",
      "Epoch 0.000, lr 0.00000, time 0.00\n",
      "Wed Jul 27 08:50:11 2022\n",
      "loss nan nan nan, ade1 nan, fde1 nan, ade nan, fde nan\n",
      "\n"
     ]
    },
    {
     "name": "stderr",
     "output_type": "stream",
     "text": [
      "890it [05:40,  3.60it/s]"
     ]
    },
    {
     "name": "stdout",
     "output_type": "stream",
     "text": [
      "{'cls_loss': tensor(nan, device='cuda:0'), 'num_cls': 0, 'reg_loss': tensor(nan, device='cuda:0'), 'num_reg': 11745, 'loss': tensor(nan, device='cuda:0')}\n",
      "Epoch 0.000, lr 0.00000, time 0.00\n",
      "Wed Jul 27 08:50:12 2022\n",
      "loss nan nan nan, ade1 nan, fde1 nan, ade nan, fde nan\n",
      "\n"
     ]
    },
    {
     "name": "stderr",
     "output_type": "stream",
     "text": [
      "891it [05:41,  2.77it/s]"
     ]
    },
    {
     "name": "stdout",
     "output_type": "stream",
     "text": [
      "{'cls_loss': tensor(nan, device='cuda:0'), 'num_cls': 0, 'reg_loss': tensor(nan, device='cuda:0'), 'num_reg': 10669, 'loss': tensor(nan, device='cuda:0')}\n",
      "Epoch 0.000, lr 0.00000, time 0.00\n",
      "Wed Jul 27 08:50:12 2022\n",
      "loss nan nan nan, ade1 nan, fde1 nan, ade nan, fde nan\n",
      "\n"
     ]
    },
    {
     "name": "stderr",
     "output_type": "stream",
     "text": [
      "892it [05:41,  3.04it/s]"
     ]
    },
    {
     "name": "stdout",
     "output_type": "stream",
     "text": [
      "{'cls_loss': tensor(nan, device='cuda:0'), 'num_cls': 0, 'reg_loss': tensor(nan, device='cuda:0'), 'num_reg': 9196, 'loss': tensor(nan, device='cuda:0')}\n",
      "Epoch 0.000, lr 0.00000, time 0.00\n",
      "Wed Jul 27 08:50:12 2022\n",
      "loss nan nan nan, ade1 nan, fde1 nan, ade nan, fde nan\n",
      "\n"
     ]
    },
    {
     "name": "stderr",
     "output_type": "stream",
     "text": [
      "893it [05:41,  2.77it/s]"
     ]
    },
    {
     "name": "stdout",
     "output_type": "stream",
     "text": [
      "{'cls_loss': tensor(nan, device='cuda:0'), 'num_cls': 0, 'reg_loss': tensor(nan, device='cuda:0'), 'num_reg': 10481, 'loss': tensor(nan, device='cuda:0')}\n",
      "Epoch 0.000, lr 0.00000, time 0.00\n",
      "Wed Jul 27 08:50:13 2022\n",
      "loss nan nan nan, ade1 nan, fde1 nan, ade nan, fde nan\n",
      "\n"
     ]
    },
    {
     "name": "stderr",
     "output_type": "stream",
     "text": [
      "894it [05:41,  2.97it/s]"
     ]
    },
    {
     "name": "stdout",
     "output_type": "stream",
     "text": [
      "{'cls_loss': tensor(nan, device='cuda:0'), 'num_cls': 0, 'reg_loss': tensor(nan, device='cuda:0'), 'num_reg': 11012, 'loss': tensor(nan, device='cuda:0')}\n",
      "Epoch 0.000, lr 0.00000, time 0.00\n",
      "Wed Jul 27 08:50:13 2022\n",
      "loss nan nan nan, ade1 nan, fde1 nan, ade nan, fde nan\n",
      "\n"
     ]
    },
    {
     "name": "stderr",
     "output_type": "stream",
     "text": [
      "895it [05:42,  3.11it/s]"
     ]
    },
    {
     "name": "stdout",
     "output_type": "stream",
     "text": [
      "{'cls_loss': tensor(nan, device='cuda:0'), 'num_cls': 0, 'reg_loss': tensor(nan, device='cuda:0'), 'num_reg': 13338, 'loss': tensor(nan, device='cuda:0')}\n",
      "Epoch 0.000, lr 0.00000, time 0.00\n",
      "Wed Jul 27 08:50:13 2022\n",
      "loss nan nan nan, ade1 nan, fde1 nan, ade nan, fde nan\n",
      "\n"
     ]
    },
    {
     "name": "stderr",
     "output_type": "stream",
     "text": [
      "896it [05:42,  3.27it/s]"
     ]
    },
    {
     "name": "stdout",
     "output_type": "stream",
     "text": [
      "{'cls_loss': tensor(nan, device='cuda:0'), 'num_cls': 0, 'reg_loss': tensor(nan, device='cuda:0'), 'num_reg': 11639, 'loss': tensor(nan, device='cuda:0')}\n",
      "Epoch 0.000, lr 0.00000, time 0.00\n",
      "Wed Jul 27 08:50:14 2022\n",
      "loss nan nan nan, ade1 nan, fde1 nan, ade nan, fde nan\n",
      "\n"
     ]
    },
    {
     "name": "stderr",
     "output_type": "stream",
     "text": [
      "897it [05:42,  3.39it/s]"
     ]
    },
    {
     "name": "stdout",
     "output_type": "stream",
     "text": [
      "{'cls_loss': tensor(nan, device='cuda:0'), 'num_cls': 0, 'reg_loss': tensor(nan, device='cuda:0'), 'num_reg': 10574, 'loss': tensor(nan, device='cuda:0')}\n",
      "Epoch 0.000, lr 0.00000, time 0.00\n",
      "Wed Jul 27 08:50:14 2022\n",
      "loss nan nan nan, ade1 nan, fde1 nan, ade nan, fde nan\n",
      "\n"
     ]
    },
    {
     "name": "stderr",
     "output_type": "stream",
     "text": [
      "898it [05:43,  3.48it/s]"
     ]
    },
    {
     "name": "stdout",
     "output_type": "stream",
     "text": [
      "{'cls_loss': tensor(nan, device='cuda:0'), 'num_cls': 0, 'reg_loss': tensor(nan, device='cuda:0'), 'num_reg': 12314, 'loss': tensor(nan, device='cuda:0')}\n",
      "Epoch 0.000, lr 0.00000, time 0.00\n",
      "Wed Jul 27 08:50:14 2022\n",
      "loss nan nan nan, ade1 nan, fde1 nan, ade nan, fde nan\n",
      "\n"
     ]
    },
    {
     "name": "stderr",
     "output_type": "stream",
     "text": [
      "899it [05:43,  3.54it/s]"
     ]
    },
    {
     "name": "stdout",
     "output_type": "stream",
     "text": [
      "{'cls_loss': tensor(nan, device='cuda:0'), 'num_cls': 0, 'reg_loss': tensor(nan, device='cuda:0'), 'num_reg': 10956, 'loss': tensor(nan, device='cuda:0')}\n",
      "Epoch 0.000, lr 0.00000, time 0.00\n",
      "Wed Jul 27 08:50:14 2022\n",
      "loss nan nan nan, ade1 nan, fde1 nan, ade nan, fde nan\n",
      "\n"
     ]
    },
    {
     "name": "stderr",
     "output_type": "stream",
     "text": [
      "900it [05:43,  3.59it/s]"
     ]
    },
    {
     "name": "stdout",
     "output_type": "stream",
     "text": [
      "{'cls_loss': tensor(nan, device='cuda:0'), 'num_cls': 0, 'reg_loss': tensor(nan, device='cuda:0'), 'num_reg': 12159, 'loss': tensor(nan, device='cuda:0')}\n",
      "Epoch 0.000, lr 0.00000, time 0.00\n",
      "Wed Jul 27 08:50:15 2022\n",
      "loss nan nan nan, ade1 nan, fde1 nan, ade nan, fde nan\n",
      "\n"
     ]
    },
    {
     "name": "stderr",
     "output_type": "stream",
     "text": [
      "901it [05:43,  3.59it/s]"
     ]
    },
    {
     "name": "stdout",
     "output_type": "stream",
     "text": [
      "{'cls_loss': tensor(nan, device='cuda:0'), 'num_cls': 0, 'reg_loss': tensor(nan, device='cuda:0'), 'num_reg': 10512, 'loss': tensor(nan, device='cuda:0')}\n",
      "Epoch 0.000, lr 0.00000, time 0.00\n",
      "Wed Jul 27 08:50:15 2022\n",
      "loss nan nan nan, ade1 nan, fde1 nan, ade nan, fde nan\n",
      "\n"
     ]
    },
    {
     "name": "stderr",
     "output_type": "stream",
     "text": [
      "902it [05:44,  3.61it/s]"
     ]
    },
    {
     "name": "stdout",
     "output_type": "stream",
     "text": [
      "{'cls_loss': tensor(nan, device='cuda:0'), 'num_cls': 0, 'reg_loss': tensor(nan, device='cuda:0'), 'num_reg': 12086, 'loss': tensor(nan, device='cuda:0')}\n",
      "Epoch 0.000, lr 0.00000, time 0.00\n",
      "Wed Jul 27 08:50:15 2022\n",
      "loss nan nan nan, ade1 nan, fde1 nan, ade nan, fde nan\n",
      "\n"
     ]
    },
    {
     "name": "stderr",
     "output_type": "stream",
     "text": [
      "903it [05:44,  3.62it/s]"
     ]
    },
    {
     "name": "stdout",
     "output_type": "stream",
     "text": [
      "{'cls_loss': tensor(nan, device='cuda:0'), 'num_cls': 0, 'reg_loss': tensor(nan, device='cuda:0'), 'num_reg': 10606, 'loss': tensor(nan, device='cuda:0')}\n",
      "Epoch 0.000, lr 0.00000, time 0.00\n",
      "Wed Jul 27 08:50:16 2022\n",
      "loss nan nan nan, ade1 nan, fde1 nan, ade nan, fde nan\n",
      "\n"
     ]
    },
    {
     "name": "stderr",
     "output_type": "stream",
     "text": [
      "904it [05:44,  3.69it/s]"
     ]
    },
    {
     "name": "stdout",
     "output_type": "stream",
     "text": [
      "{'cls_loss': tensor(nan, device='cuda:0'), 'num_cls': 0, 'reg_loss': tensor(nan, device='cuda:0'), 'num_reg': 11188, 'loss': tensor(nan, device='cuda:0')}\n",
      "Epoch 0.000, lr 0.00000, time 0.00\n",
      "Wed Jul 27 08:50:16 2022\n",
      "loss nan nan nan, ade1 nan, fde1 nan, ade nan, fde nan\n",
      "\n"
     ]
    },
    {
     "name": "stderr",
     "output_type": "stream",
     "text": [
      "905it [05:45,  2.32it/s]"
     ]
    },
    {
     "name": "stdout",
     "output_type": "stream",
     "text": [
      "{'cls_loss': tensor(nan, device='cuda:0'), 'num_cls': 0, 'reg_loss': tensor(nan, device='cuda:0'), 'num_reg': 10718, 'loss': tensor(nan, device='cuda:0')}\n",
      "Epoch 0.000, lr 0.00000, time 0.00\n",
      "Wed Jul 27 08:50:17 2022\n",
      "loss nan nan nan, ade1 nan, fde1 nan, ade nan, fde nan\n",
      "\n"
     ]
    },
    {
     "name": "stderr",
     "output_type": "stream",
     "text": [
      "906it [05:45,  2.62it/s]"
     ]
    },
    {
     "name": "stdout",
     "output_type": "stream",
     "text": [
      "{'cls_loss': tensor(nan, device='cuda:0'), 'num_cls': 0, 'reg_loss': tensor(nan, device='cuda:0'), 'num_reg': 10709, 'loss': tensor(nan, device='cuda:0')}\n",
      "Epoch 0.000, lr 0.00000, time 0.00\n",
      "Wed Jul 27 08:50:17 2022\n",
      "loss nan nan nan, ade1 nan, fde1 nan, ade nan, fde nan\n",
      "\n"
     ]
    },
    {
     "name": "stderr",
     "output_type": "stream",
     "text": [
      "907it [05:46,  2.87it/s]"
     ]
    },
    {
     "name": "stdout",
     "output_type": "stream",
     "text": [
      "{'cls_loss': tensor(nan, device='cuda:0'), 'num_cls': 0, 'reg_loss': tensor(nan, device='cuda:0'), 'num_reg': 11492, 'loss': tensor(nan, device='cuda:0')}\n",
      "Epoch 0.000, lr 0.00000, time 0.00\n",
      "Wed Jul 27 08:50:17 2022\n",
      "loss nan nan nan, ade1 nan, fde1 nan, ade nan, fde nan\n",
      "\n"
     ]
    },
    {
     "name": "stderr",
     "output_type": "stream",
     "text": [
      "908it [05:46,  3.07it/s]"
     ]
    },
    {
     "name": "stdout",
     "output_type": "stream",
     "text": [
      "{'cls_loss': tensor(nan, device='cuda:0'), 'num_cls': 0, 'reg_loss': tensor(nan, device='cuda:0'), 'num_reg': 12209, 'loss': tensor(nan, device='cuda:0')}\n",
      "Epoch 0.000, lr 0.00000, time 0.00\n",
      "Wed Jul 27 08:50:17 2022\n",
      "loss nan nan nan, ade1 nan, fde1 nan, ade nan, fde nan\n",
      "\n"
     ]
    },
    {
     "name": "stderr",
     "output_type": "stream",
     "text": [
      "909it [05:46,  3.24it/s]"
     ]
    },
    {
     "name": "stdout",
     "output_type": "stream",
     "text": [
      "{'cls_loss': tensor(nan, device='cuda:0'), 'num_cls': 0, 'reg_loss': tensor(nan, device='cuda:0'), 'num_reg': 11597, 'loss': tensor(nan, device='cuda:0')}\n",
      "Epoch 0.000, lr 0.00000, time 0.00\n",
      "Wed Jul 27 08:50:18 2022\n",
      "loss nan nan nan, ade1 nan, fde1 nan, ade nan, fde nan\n",
      "\n"
     ]
    },
    {
     "name": "stderr",
     "output_type": "stream",
     "text": [
      "910it [05:46,  3.38it/s]"
     ]
    },
    {
     "name": "stdout",
     "output_type": "stream",
     "text": [
      "{'cls_loss': tensor(nan, device='cuda:0'), 'num_cls': 0, 'reg_loss': tensor(nan, device='cuda:0'), 'num_reg': 11575, 'loss': tensor(nan, device='cuda:0')}\n",
      "Epoch 0.000, lr 0.00000, time 0.00\n",
      "Wed Jul 27 08:50:18 2022\n",
      "loss nan nan nan, ade1 nan, fde1 nan, ade nan, fde nan\n",
      "\n"
     ]
    },
    {
     "name": "stderr",
     "output_type": "stream",
     "text": [
      "911it [05:47,  3.44it/s]"
     ]
    },
    {
     "name": "stdout",
     "output_type": "stream",
     "text": [
      "{'cls_loss': tensor(nan, device='cuda:0'), 'num_cls': 0, 'reg_loss': tensor(nan, device='cuda:0'), 'num_reg': 12174, 'loss': tensor(nan, device='cuda:0')}\n",
      "Epoch 0.000, lr 0.00000, time 0.00\n",
      "Wed Jul 27 08:50:18 2022\n",
      "loss nan nan nan, ade1 nan, fde1 nan, ade nan, fde nan\n",
      "\n"
     ]
    },
    {
     "name": "stderr",
     "output_type": "stream",
     "text": [
      "912it [05:47,  3.54it/s]"
     ]
    },
    {
     "name": "stdout",
     "output_type": "stream",
     "text": [
      "{'cls_loss': tensor(nan, device='cuda:0'), 'num_cls': 0, 'reg_loss': tensor(nan, device='cuda:0'), 'num_reg': 12058, 'loss': tensor(nan, device='cuda:0')}\n",
      "Epoch 0.000, lr 0.00000, time 0.00\n",
      "Wed Jul 27 08:50:19 2022\n",
      "loss nan nan nan, ade1 nan, fde1 nan, ade nan, fde nan\n",
      "\n"
     ]
    },
    {
     "name": "stderr",
     "output_type": "stream",
     "text": [
      "913it [05:47,  3.56it/s]"
     ]
    },
    {
     "name": "stdout",
     "output_type": "stream",
     "text": [
      "{'cls_loss': tensor(nan, device='cuda:0'), 'num_cls': 0, 'reg_loss': tensor(nan, device='cuda:0'), 'num_reg': 11524, 'loss': tensor(nan, device='cuda:0')}\n",
      "Epoch 0.000, lr 0.00000, time 0.00\n",
      "Wed Jul 27 08:50:19 2022\n",
      "loss nan nan nan, ade1 nan, fde1 nan, ade nan, fde nan\n",
      "\n"
     ]
    },
    {
     "name": "stderr",
     "output_type": "stream",
     "text": [
      "914it [05:47,  3.63it/s]"
     ]
    },
    {
     "name": "stdout",
     "output_type": "stream",
     "text": [
      "{'cls_loss': tensor(nan, device='cuda:0'), 'num_cls': 0, 'reg_loss': tensor(nan, device='cuda:0'), 'num_reg': 10567, 'loss': tensor(nan, device='cuda:0')}\n",
      "Epoch 0.000, lr 0.00000, time 0.00\n",
      "Wed Jul 27 08:50:19 2022\n",
      "loss nan nan nan, ade1 nan, fde1 nan, ade nan, fde nan\n",
      "\n"
     ]
    },
    {
     "name": "stderr",
     "output_type": "stream",
     "text": [
      "915it [05:48,  3.64it/s]"
     ]
    },
    {
     "name": "stdout",
     "output_type": "stream",
     "text": [
      "{'cls_loss': tensor(nan, device='cuda:0'), 'num_cls': 0, 'reg_loss': tensor(nan, device='cuda:0'), 'num_reg': 10986, 'loss': tensor(nan, device='cuda:0')}\n",
      "Epoch 0.000, lr 0.00000, time 0.00\n",
      "Wed Jul 27 08:50:19 2022\n",
      "loss nan nan nan, ade1 nan, fde1 nan, ade nan, fde nan\n",
      "\n"
     ]
    },
    {
     "name": "stderr",
     "output_type": "stream",
     "text": [
      "916it [05:48,  3.67it/s]"
     ]
    },
    {
     "name": "stdout",
     "output_type": "stream",
     "text": [
      "{'cls_loss': tensor(nan, device='cuda:0'), 'num_cls': 0, 'reg_loss': tensor(nan, device='cuda:0'), 'num_reg': 10728, 'loss': tensor(nan, device='cuda:0')}\n",
      "Epoch 0.000, lr 0.00000, time 0.00\n",
      "Wed Jul 27 08:50:20 2022\n",
      "loss nan nan nan, ade1 nan, fde1 nan, ade nan, fde nan\n",
      "\n"
     ]
    },
    {
     "name": "stderr",
     "output_type": "stream",
     "text": [
      "917it [05:48,  3.68it/s]"
     ]
    },
    {
     "name": "stdout",
     "output_type": "stream",
     "text": [
      "{'cls_loss': tensor(nan, device='cuda:0'), 'num_cls': 0, 'reg_loss': tensor(nan, device='cuda:0'), 'num_reg': 10524, 'loss': tensor(nan, device='cuda:0')}\n",
      "Epoch 0.000, lr 0.00000, time 0.00\n",
      "Wed Jul 27 08:50:20 2022\n",
      "loss nan nan nan, ade1 nan, fde1 nan, ade nan, fde nan\n",
      "\n"
     ]
    },
    {
     "name": "stderr",
     "output_type": "stream",
     "text": [
      "918it [05:48,  3.72it/s]"
     ]
    },
    {
     "name": "stdout",
     "output_type": "stream",
     "text": [
      "{'cls_loss': tensor(nan, device='cuda:0'), 'num_cls': 0, 'reg_loss': tensor(nan, device='cuda:0'), 'num_reg': 10601, 'loss': tensor(nan, device='cuda:0')}\n",
      "Epoch 0.000, lr 0.00000, time 0.00\n",
      "Wed Jul 27 08:50:20 2022\n",
      "loss nan nan nan, ade1 nan, fde1 nan, ade nan, fde nan\n",
      "\n"
     ]
    },
    {
     "name": "stderr",
     "output_type": "stream",
     "text": [
      "919it [05:49,  3.66it/s]"
     ]
    },
    {
     "name": "stdout",
     "output_type": "stream",
     "text": [
      "{'cls_loss': tensor(nan, device='cuda:0'), 'num_cls': 0, 'reg_loss': tensor(nan, device='cuda:0'), 'num_reg': 12205, 'loss': tensor(nan, device='cuda:0')}\n",
      "Epoch 0.000, lr 0.00000, time 0.00\n",
      "Wed Jul 27 08:50:20 2022\n",
      "loss nan nan nan, ade1 nan, fde1 nan, ade nan, fde nan\n",
      "\n"
     ]
    },
    {
     "name": "stderr",
     "output_type": "stream",
     "text": [
      "920it [05:49,  3.71it/s]"
     ]
    },
    {
     "name": "stdout",
     "output_type": "stream",
     "text": [
      "{'cls_loss': tensor(nan, device='cuda:0'), 'num_cls': 0, 'reg_loss': tensor(nan, device='cuda:0'), 'num_reg': 10868, 'loss': tensor(nan, device='cuda:0')}\n",
      "Epoch 0.000, lr 0.00000, time 0.00\n",
      "Wed Jul 27 08:50:21 2022\n",
      "loss nan nan nan, ade1 nan, fde1 nan, ade nan, fde nan\n",
      "\n"
     ]
    },
    {
     "name": "stderr",
     "output_type": "stream",
     "text": [
      "921it [05:50,  2.84it/s]"
     ]
    },
    {
     "name": "stdout",
     "output_type": "stream",
     "text": [
      "{'cls_loss': tensor(nan, device='cuda:0'), 'num_cls': 0, 'reg_loss': tensor(nan, device='cuda:0'), 'num_reg': 12237, 'loss': tensor(nan, device='cuda:0')}\n",
      "Epoch 0.000, lr 0.00000, time 0.00\n",
      "Wed Jul 27 08:50:21 2022\n",
      "loss nan nan nan, ade1 nan, fde1 nan, ade nan, fde nan\n",
      "\n"
     ]
    },
    {
     "name": "stderr",
     "output_type": "stream",
     "text": [
      "922it [05:50,  3.07it/s]"
     ]
    },
    {
     "name": "stdout",
     "output_type": "stream",
     "text": [
      "{'cls_loss': tensor(nan, device='cuda:0'), 'num_cls': 0, 'reg_loss': tensor(nan, device='cuda:0'), 'num_reg': 10403, 'loss': tensor(nan, device='cuda:0')}\n",
      "Epoch 0.000, lr 0.00000, time 0.00\n",
      "Wed Jul 27 08:50:21 2022\n",
      "loss nan nan nan, ade1 nan, fde1 nan, ade nan, fde nan\n",
      "\n"
     ]
    },
    {
     "name": "stderr",
     "output_type": "stream",
     "text": [
      "923it [05:50,  3.20it/s]"
     ]
    },
    {
     "name": "stdout",
     "output_type": "stream",
     "text": [
      "{'cls_loss': tensor(nan, device='cuda:0'), 'num_cls': 0, 'reg_loss': tensor(nan, device='cuda:0'), 'num_reg': 10540, 'loss': tensor(nan, device='cuda:0')}\n",
      "Epoch 0.000, lr 0.00000, time 0.00\n",
      "Wed Jul 27 08:50:22 2022\n",
      "loss nan nan nan, ade1 nan, fde1 nan, ade nan, fde nan\n",
      "\n"
     ]
    },
    {
     "name": "stderr",
     "output_type": "stream",
     "text": [
      "924it [05:50,  3.33it/s]"
     ]
    },
    {
     "name": "stdout",
     "output_type": "stream",
     "text": [
      "{'cls_loss': tensor(nan, device='cuda:0'), 'num_cls': 0, 'reg_loss': tensor(nan, device='cuda:0'), 'num_reg': 12782, 'loss': tensor(nan, device='cuda:0')}\n",
      "Epoch 0.000, lr 0.00000, time 0.00\n",
      "Wed Jul 27 08:50:22 2022\n",
      "loss nan nan nan, ade1 nan, fde1 nan, ade nan, fde nan\n",
      "\n"
     ]
    },
    {
     "name": "stderr",
     "output_type": "stream",
     "text": [
      "925it [05:51,  3.42it/s]"
     ]
    },
    {
     "name": "stdout",
     "output_type": "stream",
     "text": [
      "{'cls_loss': tensor(nan, device='cuda:0'), 'num_cls': 0, 'reg_loss': tensor(nan, device='cuda:0'), 'num_reg': 11006, 'loss': tensor(nan, device='cuda:0')}\n",
      "Epoch 0.000, lr 0.00000, time 0.00\n",
      "Wed Jul 27 08:50:22 2022\n",
      "loss nan nan nan, ade1 nan, fde1 nan, ade nan, fde nan\n",
      "\n"
     ]
    },
    {
     "name": "stderr",
     "output_type": "stream",
     "text": [
      "926it [05:51,  3.49it/s]"
     ]
    },
    {
     "name": "stdout",
     "output_type": "stream",
     "text": [
      "{'cls_loss': tensor(nan, device='cuda:0'), 'num_cls': 0, 'reg_loss': tensor(nan, device='cuda:0'), 'num_reg': 12230, 'loss': tensor(nan, device='cuda:0')}\n",
      "Epoch 0.000, lr 0.00000, time 0.00\n",
      "Wed Jul 27 08:50:23 2022\n",
      "loss nan nan nan, ade1 nan, fde1 nan, ade nan, fde nan\n",
      "\n"
     ]
    },
    {
     "name": "stderr",
     "output_type": "stream",
     "text": [
      "927it [05:51,  2.85it/s]"
     ]
    },
    {
     "name": "stdout",
     "output_type": "stream",
     "text": [
      "{'cls_loss': tensor(nan, device='cuda:0'), 'num_cls': 0, 'reg_loss': tensor(nan, device='cuda:0'), 'num_reg': 12858, 'loss': tensor(nan, device='cuda:0')}\n",
      "Epoch 0.000, lr 0.00000, time 0.00\n",
      "Wed Jul 27 08:50:23 2022\n",
      "loss nan nan nan, ade1 nan, fde1 nan, ade nan, fde nan\n",
      "\n"
     ]
    },
    {
     "name": "stderr",
     "output_type": "stream",
     "text": [
      "928it [05:52,  3.07it/s]"
     ]
    },
    {
     "name": "stdout",
     "output_type": "stream",
     "text": [
      "{'cls_loss': tensor(nan, device='cuda:0'), 'num_cls': 0, 'reg_loss': tensor(nan, device='cuda:0'), 'num_reg': 10427, 'loss': tensor(nan, device='cuda:0')}\n",
      "Epoch 0.000, lr 0.00000, time 0.00\n",
      "Wed Jul 27 08:50:23 2022\n",
      "loss nan nan nan, ade1 nan, fde1 nan, ade nan, fde nan\n",
      "\n"
     ]
    },
    {
     "name": "stderr",
     "output_type": "stream",
     "text": [
      "929it [05:52,  3.22it/s]"
     ]
    },
    {
     "name": "stdout",
     "output_type": "stream",
     "text": [
      "{'cls_loss': tensor(nan, device='cuda:0'), 'num_cls': 0, 'reg_loss': tensor(nan, device='cuda:0'), 'num_reg': 10929, 'loss': tensor(nan, device='cuda:0')}\n",
      "Epoch 0.000, lr 0.00000, time 0.00\n",
      "Wed Jul 27 08:50:24 2022\n",
      "loss nan nan nan, ade1 nan, fde1 nan, ade nan, fde nan\n",
      "\n"
     ]
    },
    {
     "name": "stderr",
     "output_type": "stream",
     "text": [
      "930it [05:52,  3.35it/s]"
     ]
    },
    {
     "name": "stdout",
     "output_type": "stream",
     "text": [
      "{'cls_loss': tensor(nan, device='cuda:0'), 'num_cls': 0, 'reg_loss': tensor(nan, device='cuda:0'), 'num_reg': 11565, 'loss': tensor(nan, device='cuda:0')}\n",
      "Epoch 0.000, lr 0.00000, time 0.00\n",
      "Wed Jul 27 08:50:24 2022\n",
      "loss nan nan nan, ade1 nan, fde1 nan, ade nan, fde nan\n",
      "\n"
     ]
    },
    {
     "name": "stderr",
     "output_type": "stream",
     "text": [
      "931it [05:53,  3.38it/s]"
     ]
    },
    {
     "name": "stdout",
     "output_type": "stream",
     "text": [
      "{'cls_loss': tensor(nan, device='cuda:0'), 'num_cls': 0, 'reg_loss': tensor(nan, device='cuda:0'), 'num_reg': 13696, 'loss': tensor(nan, device='cuda:0')}\n",
      "Epoch 0.000, lr 0.00000, time 0.00\n",
      "Wed Jul 27 08:50:24 2022\n",
      "loss nan nan nan, ade1 nan, fde1 nan, ade nan, fde nan\n",
      "\n"
     ]
    },
    {
     "name": "stderr",
     "output_type": "stream",
     "text": [
      "932it [05:53,  3.45it/s]"
     ]
    },
    {
     "name": "stdout",
     "output_type": "stream",
     "text": [
      "{'cls_loss': tensor(nan, device='cuda:0'), 'num_cls': 0, 'reg_loss': tensor(nan, device='cuda:0'), 'num_reg': 10932, 'loss': tensor(nan, device='cuda:0')}\n",
      "Epoch 0.000, lr 0.00000, time 0.00\n",
      "Wed Jul 27 08:50:24 2022\n",
      "loss nan nan nan, ade1 nan, fde1 nan, ade nan, fde nan\n",
      "\n"
     ]
    },
    {
     "name": "stderr",
     "output_type": "stream",
     "text": [
      "933it [05:53,  3.48it/s]"
     ]
    },
    {
     "name": "stdout",
     "output_type": "stream",
     "text": [
      "{'cls_loss': tensor(nan, device='cuda:0'), 'num_cls': 0, 'reg_loss': tensor(nan, device='cuda:0'), 'num_reg': 13395, 'loss': tensor(nan, device='cuda:0')}\n",
      "Epoch 0.000, lr 0.00000, time 0.00\n",
      "Wed Jul 27 08:50:25 2022\n",
      "loss nan nan nan, ade1 nan, fde1 nan, ade nan, fde nan\n",
      "\n"
     ]
    },
    {
     "name": "stderr",
     "output_type": "stream",
     "text": [
      "934it [05:53,  3.54it/s]"
     ]
    },
    {
     "name": "stdout",
     "output_type": "stream",
     "text": [
      "{'cls_loss': tensor(nan, device='cuda:0'), 'num_cls': 0, 'reg_loss': tensor(nan, device='cuda:0'), 'num_reg': 11159, 'loss': tensor(nan, device='cuda:0')}\n",
      "Epoch 0.000, lr 0.00000, time 0.00\n",
      "Wed Jul 27 08:50:25 2022\n",
      "loss nan nan nan, ade1 nan, fde1 nan, ade nan, fde nan\n",
      "\n"
     ]
    },
    {
     "name": "stderr",
     "output_type": "stream",
     "text": [
      "935it [05:54,  3.55it/s]"
     ]
    },
    {
     "name": "stdout",
     "output_type": "stream",
     "text": [
      "{'cls_loss': tensor(nan, device='cuda:0'), 'num_cls': 0, 'reg_loss': tensor(nan, device='cuda:0'), 'num_reg': 11724, 'loss': tensor(nan, device='cuda:0')}\n",
      "Epoch 0.000, lr 0.00000, time 0.00\n",
      "Wed Jul 27 08:50:25 2022\n",
      "loss nan nan nan, ade1 nan, fde1 nan, ade nan, fde nan\n",
      "\n"
     ]
    },
    {
     "name": "stderr",
     "output_type": "stream",
     "text": [
      "936it [05:54,  3.62it/s]"
     ]
    },
    {
     "name": "stdout",
     "output_type": "stream",
     "text": [
      "{'cls_loss': tensor(nan, device='cuda:0'), 'num_cls': 0, 'reg_loss': tensor(nan, device='cuda:0'), 'num_reg': 11117, 'loss': tensor(nan, device='cuda:0')}\n",
      "Epoch 0.000, lr 0.00000, time 0.00\n",
      "Wed Jul 27 08:50:26 2022\n",
      "loss nan nan nan, ade1 nan, fde1 nan, ade nan, fde nan\n",
      "\n"
     ]
    },
    {
     "name": "stderr",
     "output_type": "stream",
     "text": [
      "937it [05:54,  2.85it/s]"
     ]
    },
    {
     "name": "stdout",
     "output_type": "stream",
     "text": [
      "{'cls_loss': tensor(nan, device='cuda:0'), 'num_cls': 0, 'reg_loss': tensor(nan, device='cuda:0'), 'num_reg': 8247, 'loss': tensor(nan, device='cuda:0')}\n",
      "Epoch 0.000, lr 0.00000, time 0.00\n",
      "Wed Jul 27 08:50:26 2022\n",
      "loss nan nan nan, ade1 nan, fde1 nan, ade nan, fde nan\n",
      "\n"
     ]
    },
    {
     "name": "stderr",
     "output_type": "stream",
     "text": [
      "938it [05:55,  3.07it/s]"
     ]
    },
    {
     "name": "stdout",
     "output_type": "stream",
     "text": [
      "{'cls_loss': tensor(nan, device='cuda:0'), 'num_cls': 0, 'reg_loss': tensor(nan, device='cuda:0'), 'num_reg': 10537, 'loss': tensor(nan, device='cuda:0')}\n",
      "Epoch 0.000, lr 0.00000, time 0.00\n",
      "Wed Jul 27 08:50:26 2022\n",
      "loss nan nan nan, ade1 nan, fde1 nan, ade nan, fde nan\n",
      "\n"
     ]
    },
    {
     "name": "stderr",
     "output_type": "stream",
     "text": [
      "939it [05:55,  3.19it/s]"
     ]
    },
    {
     "name": "stdout",
     "output_type": "stream",
     "text": [
      "{'cls_loss': tensor(nan, device='cuda:0'), 'num_cls': 0, 'reg_loss': tensor(nan, device='cuda:0'), 'num_reg': 12991, 'loss': tensor(nan, device='cuda:0')}\n",
      "Epoch 0.000, lr 0.00000, time 0.00\n",
      "Wed Jul 27 08:50:27 2022\n",
      "loss nan nan nan, ade1 nan, fde1 nan, ade nan, fde nan\n",
      "\n"
     ]
    },
    {
     "name": "stderr",
     "output_type": "stream",
     "text": [
      "940it [05:55,  3.32it/s]"
     ]
    },
    {
     "name": "stdout",
     "output_type": "stream",
     "text": [
      "{'cls_loss': tensor(nan, device='cuda:0'), 'num_cls': 0, 'reg_loss': tensor(nan, device='cuda:0'), 'num_reg': 11693, 'loss': tensor(nan, device='cuda:0')}\n",
      "Epoch 0.000, lr 0.00000, time 0.00\n",
      "Wed Jul 27 08:50:27 2022\n",
      "loss nan nan nan, ade1 nan, fde1 nan, ade nan, fde nan\n",
      "\n"
     ]
    },
    {
     "name": "stderr",
     "output_type": "stream",
     "text": [
      "941it [05:56,  3.40it/s]"
     ]
    },
    {
     "name": "stdout",
     "output_type": "stream",
     "text": [
      "{'cls_loss': tensor(nan, device='cuda:0'), 'num_cls': 0, 'reg_loss': tensor(nan, device='cuda:0'), 'num_reg': 9403, 'loss': tensor(nan, device='cuda:0')}\n",
      "Epoch 0.000, lr 0.00000, time 0.00\n",
      "Wed Jul 27 08:50:27 2022\n",
      "loss nan nan nan, ade1 nan, fde1 nan, ade nan, fde nan\n",
      "\n"
     ]
    },
    {
     "name": "stderr",
     "output_type": "stream",
     "text": [
      "942it [05:56,  3.47it/s]"
     ]
    },
    {
     "name": "stdout",
     "output_type": "stream",
     "text": [
      "{'cls_loss': tensor(nan, device='cuda:0'), 'num_cls': 0, 'reg_loss': tensor(nan, device='cuda:0'), 'num_reg': 11663, 'loss': tensor(nan, device='cuda:0')}\n",
      "Epoch 0.000, lr 0.00000, time 0.00\n",
      "Wed Jul 27 08:50:27 2022\n",
      "loss nan nan nan, ade1 nan, fde1 nan, ade nan, fde nan\n",
      "\n"
     ]
    },
    {
     "name": "stderr",
     "output_type": "stream",
     "text": [
      "943it [05:56,  3.52it/s]"
     ]
    },
    {
     "name": "stdout",
     "output_type": "stream",
     "text": [
      "{'cls_loss': tensor(nan, device='cuda:0'), 'num_cls': 0, 'reg_loss': tensor(nan, device='cuda:0'), 'num_reg': 9587, 'loss': tensor(nan, device='cuda:0')}\n",
      "Epoch 0.000, lr 0.00000, time 0.00\n",
      "Wed Jul 27 08:50:28 2022\n",
      "loss nan nan nan, ade1 nan, fde1 nan, ade nan, fde nan\n",
      "\n"
     ]
    },
    {
     "name": "stderr",
     "output_type": "stream",
     "text": [
      "944it [05:56,  3.59it/s]"
     ]
    },
    {
     "name": "stdout",
     "output_type": "stream",
     "text": [
      "{'cls_loss': tensor(nan, device='cuda:0'), 'num_cls': 0, 'reg_loss': tensor(nan, device='cuda:0'), 'num_reg': 10322, 'loss': tensor(nan, device='cuda:0')}\n",
      "Epoch 0.000, lr 0.00000, time 0.00\n",
      "Wed Jul 27 08:50:28 2022\n",
      "loss nan nan nan, ade1 nan, fde1 nan, ade nan, fde nan\n",
      "\n"
     ]
    },
    {
     "name": "stderr",
     "output_type": "stream",
     "text": [
      "945it [05:57,  3.60it/s]"
     ]
    },
    {
     "name": "stdout",
     "output_type": "stream",
     "text": [
      "{'cls_loss': tensor(nan, device='cuda:0'), 'num_cls': 0, 'reg_loss': tensor(nan, device='cuda:0'), 'num_reg': 10355, 'loss': tensor(nan, device='cuda:0')}\n",
      "Epoch 0.000, lr 0.00000, time 0.00\n",
      "Wed Jul 27 08:50:28 2022\n",
      "loss nan nan nan, ade1 nan, fde1 nan, ade nan, fde nan\n",
      "\n"
     ]
    },
    {
     "name": "stderr",
     "output_type": "stream",
     "text": [
      "946it [05:57,  3.55it/s]"
     ]
    },
    {
     "name": "stdout",
     "output_type": "stream",
     "text": [
      "{'cls_loss': tensor(nan, device='cuda:0'), 'num_cls': 0, 'reg_loss': tensor(nan, device='cuda:0'), 'num_reg': 10042, 'loss': tensor(nan, device='cuda:0')}\n",
      "Epoch 0.000, lr 0.00000, time 0.00\n",
      "Wed Jul 27 08:50:29 2022\n",
      "loss nan nan nan, ade1 nan, fde1 nan, ade nan, fde nan\n",
      "\n"
     ]
    },
    {
     "name": "stderr",
     "output_type": "stream",
     "text": [
      "947it [05:57,  3.58it/s]"
     ]
    },
    {
     "name": "stdout",
     "output_type": "stream",
     "text": [
      "{'cls_loss': tensor(nan, device='cuda:0'), 'num_cls': 0, 'reg_loss': tensor(nan, device='cuda:0'), 'num_reg': 10972, 'loss': tensor(nan, device='cuda:0')}\n",
      "Epoch 0.000, lr 0.00000, time 0.00\n",
      "Wed Jul 27 08:50:29 2022\n",
      "loss nan nan nan, ade1 nan, fde1 nan, ade nan, fde nan\n",
      "\n"
     ]
    },
    {
     "name": "stderr",
     "output_type": "stream",
     "text": [
      "948it [05:57,  3.64it/s]"
     ]
    },
    {
     "name": "stdout",
     "output_type": "stream",
     "text": [
      "{'cls_loss': tensor(nan, device='cuda:0'), 'num_cls': 0, 'reg_loss': tensor(nan, device='cuda:0'), 'num_reg': 9806, 'loss': tensor(nan, device='cuda:0')}\n",
      "Epoch 0.000, lr 0.00000, time 0.00\n",
      "Wed Jul 27 08:50:29 2022\n",
      "loss nan nan nan, ade1 nan, fde1 nan, ade nan, fde nan\n",
      "\n"
     ]
    },
    {
     "name": "stderr",
     "output_type": "stream",
     "text": [
      "949it [05:58,  3.45it/s]"
     ]
    },
    {
     "name": "stdout",
     "output_type": "stream",
     "text": [
      "{'cls_loss': tensor(nan, device='cuda:0'), 'num_cls': 0, 'reg_loss': tensor(nan, device='cuda:0'), 'num_reg': 11376, 'loss': tensor(nan, device='cuda:0')}\n",
      "Epoch 0.000, lr 0.00000, time 0.00\n",
      "Wed Jul 27 08:50:29 2022\n",
      "loss nan nan nan, ade1 nan, fde1 nan, ade nan, fde nan\n",
      "\n"
     ]
    },
    {
     "name": "stderr",
     "output_type": "stream",
     "text": [
      "950it [05:58,  2.51it/s]"
     ]
    },
    {
     "name": "stdout",
     "output_type": "stream",
     "text": [
      "{'cls_loss': tensor(nan, device='cuda:0'), 'num_cls': 0, 'reg_loss': tensor(nan, device='cuda:0'), 'num_reg': 11566, 'loss': tensor(nan, device='cuda:0')}\n",
      "Epoch 0.000, lr 0.00000, time 0.00\n",
      "Wed Jul 27 08:50:30 2022\n",
      "loss nan nan nan, ade1 nan, fde1 nan, ade nan, fde nan\n",
      "\n"
     ]
    },
    {
     "name": "stderr",
     "output_type": "stream",
     "text": [
      "951it [05:59,  2.75it/s]"
     ]
    },
    {
     "name": "stdout",
     "output_type": "stream",
     "text": [
      "{'cls_loss': tensor(nan, device='cuda:0'), 'num_cls': 0, 'reg_loss': tensor(nan, device='cuda:0'), 'num_reg': 9821, 'loss': tensor(nan, device='cuda:0')}\n",
      "Epoch 0.000, lr 0.00000, time 0.00\n",
      "Wed Jul 27 08:50:30 2022\n",
      "loss nan nan nan, ade1 nan, fde1 nan, ade nan, fde nan\n",
      "\n"
     ]
    },
    {
     "name": "stderr",
     "output_type": "stream",
     "text": [
      "952it [05:59,  2.84it/s]"
     ]
    },
    {
     "name": "stdout",
     "output_type": "stream",
     "text": [
      "{'cls_loss': tensor(nan, device='cuda:0'), 'num_cls': 0, 'reg_loss': tensor(nan, device='cuda:0'), 'num_reg': 10515, 'loss': tensor(nan, device='cuda:0')}\n",
      "Epoch 0.000, lr 0.00000, time 0.00\n",
      "Wed Jul 27 08:50:31 2022\n",
      "loss nan nan nan, ade1 nan, fde1 nan, ade nan, fde nan\n",
      "\n"
     ]
    },
    {
     "name": "stderr",
     "output_type": "stream",
     "text": [
      "953it [05:59,  2.95it/s]"
     ]
    },
    {
     "name": "stdout",
     "output_type": "stream",
     "text": [
      "{'cls_loss': tensor(nan, device='cuda:0'), 'num_cls': 0, 'reg_loss': tensor(nan, device='cuda:0'), 'num_reg': 11378, 'loss': tensor(nan, device='cuda:0')}\n",
      "Epoch 0.000, lr 0.00000, time 0.00\n",
      "Wed Jul 27 08:50:31 2022\n",
      "loss nan nan nan, ade1 nan, fde1 nan, ade nan, fde nan\n",
      "\n"
     ]
    },
    {
     "name": "stderr",
     "output_type": "stream",
     "text": [
      "954it [06:00,  3.10it/s]"
     ]
    },
    {
     "name": "stdout",
     "output_type": "stream",
     "text": [
      "{'cls_loss': tensor(nan, device='cuda:0'), 'num_cls': 0, 'reg_loss': tensor(nan, device='cuda:0'), 'num_reg': 11975, 'loss': tensor(nan, device='cuda:0')}\n",
      "Epoch 0.000, lr 0.00000, time 0.00\n",
      "Wed Jul 27 08:50:31 2022\n",
      "loss nan nan nan, ade1 nan, fde1 nan, ade nan, fde nan\n",
      "\n"
     ]
    },
    {
     "name": "stderr",
     "output_type": "stream",
     "text": [
      "955it [06:00,  3.17it/s]"
     ]
    },
    {
     "name": "stdout",
     "output_type": "stream",
     "text": [
      "{'cls_loss': tensor(nan, device='cuda:0'), 'num_cls': 0, 'reg_loss': tensor(nan, device='cuda:0'), 'num_reg': 11224, 'loss': tensor(nan, device='cuda:0')}\n",
      "Epoch 0.000, lr 0.00000, time 0.00\n",
      "Wed Jul 27 08:50:32 2022\n",
      "loss nan nan nan, ade1 nan, fde1 nan, ade nan, fde nan\n",
      "\n"
     ]
    },
    {
     "name": "stderr",
     "output_type": "stream",
     "text": [
      "956it [06:00,  3.27it/s]"
     ]
    },
    {
     "name": "stdout",
     "output_type": "stream",
     "text": [
      "{'cls_loss': tensor(nan, device='cuda:0'), 'num_cls': 0, 'reg_loss': tensor(nan, device='cuda:0'), 'num_reg': 12107, 'loss': tensor(nan, device='cuda:0')}\n",
      "Epoch 0.000, lr 0.00000, time 0.00\n",
      "Wed Jul 27 08:50:32 2022\n",
      "loss nan nan nan, ade1 nan, fde1 nan, ade nan, fde nan\n",
      "\n"
     ]
    },
    {
     "name": "stderr",
     "output_type": "stream",
     "text": [
      "957it [06:01,  3.33it/s]"
     ]
    },
    {
     "name": "stdout",
     "output_type": "stream",
     "text": [
      "{'cls_loss': tensor(nan, device='cuda:0'), 'num_cls': 0, 'reg_loss': tensor(nan, device='cuda:0'), 'num_reg': 10505, 'loss': tensor(nan, device='cuda:0')}\n",
      "Epoch 0.000, lr 0.00000, time 0.00\n",
      "Wed Jul 27 08:50:32 2022\n",
      "loss nan nan nan, ade1 nan, fde1 nan, ade nan, fde nan\n",
      "\n"
     ]
    },
    {
     "name": "stderr",
     "output_type": "stream",
     "text": [
      "958it [06:01,  3.45it/s]"
     ]
    },
    {
     "name": "stdout",
     "output_type": "stream",
     "text": [
      "{'cls_loss': tensor(nan, device='cuda:0'), 'num_cls': 0, 'reg_loss': tensor(nan, device='cuda:0'), 'num_reg': 11119, 'loss': tensor(nan, device='cuda:0')}\n",
      "Epoch 0.000, lr 0.00000, time 0.00\n",
      "Wed Jul 27 08:50:32 2022\n",
      "loss nan nan nan, ade1 nan, fde1 nan, ade nan, fde nan\n",
      "\n"
     ]
    },
    {
     "name": "stderr",
     "output_type": "stream",
     "text": [
      "959it [06:01,  3.31it/s]"
     ]
    },
    {
     "name": "stdout",
     "output_type": "stream",
     "text": [
      "{'cls_loss': tensor(nan, device='cuda:0'), 'num_cls': 0, 'reg_loss': tensor(nan, device='cuda:0'), 'num_reg': 9698, 'loss': tensor(nan, device='cuda:0')}\n",
      "Epoch 0.000, lr 0.00000, time 0.00\n",
      "Wed Jul 27 08:50:33 2022\n",
      "loss nan nan nan, ade1 nan, fde1 nan, ade nan, fde nan\n",
      "\n"
     ]
    },
    {
     "name": "stderr",
     "output_type": "stream",
     "text": [
      "960it [06:01,  3.42it/s]"
     ]
    },
    {
     "name": "stdout",
     "output_type": "stream",
     "text": [
      "{'cls_loss': tensor(nan, device='cuda:0'), 'num_cls': 0, 'reg_loss': tensor(nan, device='cuda:0'), 'num_reg': 11623, 'loss': tensor(nan, device='cuda:0')}\n",
      "Epoch 0.000, lr 0.00000, time 0.00\n",
      "Wed Jul 27 08:50:33 2022\n",
      "loss nan nan nan, ade1 nan, fde1 nan, ade nan, fde nan\n",
      "\n"
     ]
    },
    {
     "name": "stderr",
     "output_type": "stream",
     "text": [
      "961it [06:02,  3.49it/s]"
     ]
    },
    {
     "name": "stdout",
     "output_type": "stream",
     "text": [
      "{'cls_loss': tensor(nan, device='cuda:0'), 'num_cls': 0, 'reg_loss': tensor(nan, device='cuda:0'), 'num_reg': 10968, 'loss': tensor(nan, device='cuda:0')}\n",
      "Epoch 0.000, lr 0.00000, time 0.00\n",
      "Wed Jul 27 08:50:33 2022\n",
      "loss nan nan nan, ade1 nan, fde1 nan, ade nan, fde nan\n",
      "\n"
     ]
    },
    {
     "name": "stderr",
     "output_type": "stream",
     "text": [
      "962it [06:02,  3.56it/s]"
     ]
    },
    {
     "name": "stdout",
     "output_type": "stream",
     "text": [
      "{'cls_loss': tensor(nan, device='cuda:0'), 'num_cls': 0, 'reg_loss': tensor(nan, device='cuda:0'), 'num_reg': 9951, 'loss': tensor(nan, device='cuda:0')}\n",
      "Epoch 0.000, lr 0.00000, time 0.00\n",
      "Wed Jul 27 08:50:34 2022\n",
      "loss nan nan nan, ade1 nan, fde1 nan, ade nan, fde nan\n",
      "\n"
     ]
    },
    {
     "name": "stderr",
     "output_type": "stream",
     "text": [
      "963it [06:02,  3.56it/s]"
     ]
    },
    {
     "name": "stdout",
     "output_type": "stream",
     "text": [
      "{'cls_loss': tensor(nan, device='cuda:0'), 'num_cls': 0, 'reg_loss': tensor(nan, device='cuda:0'), 'num_reg': 11630, 'loss': tensor(nan, device='cuda:0')}\n",
      "Epoch 0.000, lr 0.00000, time 0.00\n",
      "Wed Jul 27 08:50:34 2022\n",
      "loss nan nan nan, ade1 nan, fde1 nan, ade nan, fde nan\n",
      "\n"
     ]
    },
    {
     "name": "stderr",
     "output_type": "stream",
     "text": [
      "964it [06:02,  3.63it/s]"
     ]
    },
    {
     "name": "stdout",
     "output_type": "stream",
     "text": [
      "{'cls_loss': tensor(nan, device='cuda:0'), 'num_cls': 0, 'reg_loss': tensor(nan, device='cuda:0'), 'num_reg': 10300, 'loss': tensor(nan, device='cuda:0')}\n",
      "Epoch 0.000, lr 0.00000, time 0.00\n",
      "Wed Jul 27 08:50:34 2022\n",
      "loss nan nan nan, ade1 nan, fde1 nan, ade nan, fde nan\n",
      "\n"
     ]
    },
    {
     "name": "stderr",
     "output_type": "stream",
     "text": [
      "965it [06:03,  3.62it/s]"
     ]
    },
    {
     "name": "stdout",
     "output_type": "stream",
     "text": [
      "{'cls_loss': tensor(nan, device='cuda:0'), 'num_cls': 0, 'reg_loss': tensor(nan, device='cuda:0'), 'num_reg': 9855, 'loss': tensor(nan, device='cuda:0')}\n",
      "Epoch 0.000, lr 0.00000, time 0.00\n",
      "Wed Jul 27 08:50:34 2022\n",
      "loss nan nan nan, ade1 nan, fde1 nan, ade nan, fde nan\n",
      "\n"
     ]
    },
    {
     "name": "stderr",
     "output_type": "stream",
     "text": [
      "966it [06:03,  3.63it/s]"
     ]
    },
    {
     "name": "stdout",
     "output_type": "stream",
     "text": [
      "{'cls_loss': tensor(nan, device='cuda:0'), 'num_cls': 0, 'reg_loss': tensor(nan, device='cuda:0'), 'num_reg': 11886, 'loss': tensor(nan, device='cuda:0')}\n",
      "Epoch 0.000, lr 0.00000, time 0.00\n",
      "Wed Jul 27 08:50:35 2022\n",
      "loss nan nan nan, ade1 nan, fde1 nan, ade nan, fde nan\n",
      "\n"
     ]
    },
    {
     "name": "stderr",
     "output_type": "stream",
     "text": [
      "967it [06:03,  3.49it/s]"
     ]
    },
    {
     "name": "stdout",
     "output_type": "stream",
     "text": [
      "{'cls_loss': tensor(nan, device='cuda:0'), 'num_cls': 0, 'reg_loss': tensor(nan, device='cuda:0'), 'num_reg': 9915, 'loss': tensor(nan, device='cuda:0')}\n",
      "Epoch 0.000, lr 0.00000, time 0.00\n",
      "Wed Jul 27 08:50:35 2022\n",
      "loss nan nan nan, ade1 nan, fde1 nan, ade nan, fde nan\n",
      "\n"
     ]
    },
    {
     "name": "stderr",
     "output_type": "stream",
     "text": [
      "968it [06:04,  3.49it/s]"
     ]
    },
    {
     "name": "stdout",
     "output_type": "stream",
     "text": [
      "{'cls_loss': tensor(nan, device='cuda:0'), 'num_cls': 0, 'reg_loss': tensor(nan, device='cuda:0'), 'num_reg': 10293, 'loss': tensor(nan, device='cuda:0')}\n",
      "Epoch 0.000, lr 0.00000, time 0.00\n",
      "Wed Jul 27 08:50:35 2022\n",
      "loss nan nan nan, ade1 nan, fde1 nan, ade nan, fde nan\n",
      "\n"
     ]
    },
    {
     "name": "stderr",
     "output_type": "stream",
     "text": [
      "969it [06:04,  3.43it/s]"
     ]
    },
    {
     "name": "stdout",
     "output_type": "stream",
     "text": [
      "{'cls_loss': tensor(nan, device='cuda:0'), 'num_cls': 0, 'reg_loss': tensor(nan, device='cuda:0'), 'num_reg': 12562, 'loss': tensor(nan, device='cuda:0')}\n",
      "Epoch 0.000, lr 0.00000, time 0.00\n",
      "Wed Jul 27 08:50:36 2022\n",
      "loss nan nan nan, ade1 nan, fde1 nan, ade nan, fde nan\n",
      "\n"
     ]
    },
    {
     "name": "stderr",
     "output_type": "stream",
     "text": [
      "970it [06:04,  3.48it/s]"
     ]
    },
    {
     "name": "stdout",
     "output_type": "stream",
     "text": [
      "{'cls_loss': tensor(nan, device='cuda:0'), 'num_cls': 0, 'reg_loss': tensor(nan, device='cuda:0'), 'num_reg': 11566, 'loss': tensor(nan, device='cuda:0')}\n",
      "Epoch 0.000, lr 0.00000, time 0.00\n",
      "Wed Jul 27 08:50:36 2022\n",
      "loss nan nan nan, ade1 nan, fde1 nan, ade nan, fde nan\n",
      "\n"
     ]
    },
    {
     "name": "stderr",
     "output_type": "stream",
     "text": [
      "971it [06:05,  2.45it/s]"
     ]
    },
    {
     "name": "stdout",
     "output_type": "stream",
     "text": [
      "{'cls_loss': tensor(nan, device='cuda:0'), 'num_cls': 0, 'reg_loss': tensor(nan, device='cuda:0'), 'num_reg': 9516, 'loss': tensor(nan, device='cuda:0')}\n",
      "Epoch 0.000, lr 0.00000, time 0.00\n",
      "Wed Jul 27 08:50:37 2022\n",
      "loss nan nan nan, ade1 nan, fde1 nan, ade nan, fde nan\n",
      "\n"
     ]
    },
    {
     "name": "stderr",
     "output_type": "stream",
     "text": [
      "972it [06:05,  2.60it/s]"
     ]
    },
    {
     "name": "stdout",
     "output_type": "stream",
     "text": [
      "{'cls_loss': tensor(nan, device='cuda:0'), 'num_cls': 0, 'reg_loss': tensor(nan, device='cuda:0'), 'num_reg': 11471, 'loss': tensor(nan, device='cuda:0')}\n",
      "Epoch 0.000, lr 0.00000, time 0.00\n",
      "Wed Jul 27 08:50:37 2022\n",
      "loss nan nan nan, ade1 nan, fde1 nan, ade nan, fde nan\n",
      "\n"
     ]
    },
    {
     "name": "stderr",
     "output_type": "stream",
     "text": [
      "973it [06:06,  2.82it/s]"
     ]
    },
    {
     "name": "stdout",
     "output_type": "stream",
     "text": [
      "{'cls_loss': tensor(nan, device='cuda:0'), 'num_cls': 0, 'reg_loss': tensor(nan, device='cuda:0'), 'num_reg': 11948, 'loss': tensor(nan, device='cuda:0')}\n",
      "Epoch 0.000, lr 0.00000, time 0.00\n",
      "Wed Jul 27 08:50:37 2022\n",
      "loss nan nan nan, ade1 nan, fde1 nan, ade nan, fde nan\n",
      "\n"
     ]
    },
    {
     "name": "stderr",
     "output_type": "stream",
     "text": [
      "974it [06:06,  3.02it/s]"
     ]
    },
    {
     "name": "stdout",
     "output_type": "stream",
     "text": [
      "{'cls_loss': tensor(nan, device='cuda:0'), 'num_cls': 0, 'reg_loss': tensor(nan, device='cuda:0'), 'num_reg': 10504, 'loss': tensor(nan, device='cuda:0')}\n",
      "Epoch 0.000, lr 0.00000, time 0.00\n",
      "Wed Jul 27 08:50:37 2022\n",
      "loss nan nan nan, ade1 nan, fde1 nan, ade nan, fde nan\n",
      "\n"
     ]
    },
    {
     "name": "stderr",
     "output_type": "stream",
     "text": [
      "975it [06:06,  3.15it/s]"
     ]
    },
    {
     "name": "stdout",
     "output_type": "stream",
     "text": [
      "{'cls_loss': tensor(nan, device='cuda:0'), 'num_cls': 0, 'reg_loss': tensor(nan, device='cuda:0'), 'num_reg': 11333, 'loss': tensor(nan, device='cuda:0')}\n",
      "Epoch 0.000, lr 0.00000, time 0.00\n",
      "Wed Jul 27 08:50:38 2022\n",
      "loss nan nan nan, ade1 nan, fde1 nan, ade nan, fde nan\n",
      "\n"
     ]
    },
    {
     "name": "stderr",
     "output_type": "stream",
     "text": [
      "976it [06:06,  3.30it/s]"
     ]
    },
    {
     "name": "stdout",
     "output_type": "stream",
     "text": [
      "{'cls_loss': tensor(nan, device='cuda:0'), 'num_cls': 0, 'reg_loss': tensor(nan, device='cuda:0'), 'num_reg': 10510, 'loss': tensor(nan, device='cuda:0')}\n",
      "Epoch 0.000, lr 0.00000, time 0.00\n",
      "Wed Jul 27 08:50:38 2022\n",
      "loss nan nan nan, ade1 nan, fde1 nan, ade nan, fde nan\n",
      "\n"
     ]
    },
    {
     "name": "stderr",
     "output_type": "stream",
     "text": [
      "977it [06:07,  3.33it/s]"
     ]
    },
    {
     "name": "stdout",
     "output_type": "stream",
     "text": [
      "{'cls_loss': tensor(nan, device='cuda:0'), 'num_cls': 0, 'reg_loss': tensor(nan, device='cuda:0'), 'num_reg': 13298, 'loss': tensor(nan, device='cuda:0')}\n",
      "Epoch 0.000, lr 0.00000, time 0.00\n",
      "Wed Jul 27 08:50:38 2022\n",
      "loss nan nan nan, ade1 nan, fde1 nan, ade nan, fde nan\n",
      "\n"
     ]
    },
    {
     "name": "stderr",
     "output_type": "stream",
     "text": [
      "978it [06:07,  3.42it/s]"
     ]
    },
    {
     "name": "stdout",
     "output_type": "stream",
     "text": [
      "{'cls_loss': tensor(nan, device='cuda:0'), 'num_cls': 0, 'reg_loss': tensor(nan, device='cuda:0'), 'num_reg': 11295, 'loss': tensor(nan, device='cuda:0')}\n",
      "Epoch 0.000, lr 0.00000, time 0.00\n",
      "Wed Jul 27 08:50:39 2022\n",
      "loss nan nan nan, ade1 nan, fde1 nan, ade nan, fde nan\n",
      "\n"
     ]
    },
    {
     "name": "stderr",
     "output_type": "stream",
     "text": [
      "979it [06:07,  3.34it/s]"
     ]
    },
    {
     "name": "stdout",
     "output_type": "stream",
     "text": [
      "{'cls_loss': tensor(nan, device='cuda:0'), 'num_cls': 0, 'reg_loss': tensor(nan, device='cuda:0'), 'num_reg': 11966, 'loss': tensor(nan, device='cuda:0')}\n",
      "Epoch 0.000, lr 0.00000, time 0.00\n",
      "Wed Jul 27 08:50:39 2022\n",
      "loss nan nan nan, ade1 nan, fde1 nan, ade nan, fde nan\n",
      "\n"
     ]
    },
    {
     "name": "stderr",
     "output_type": "stream",
     "text": [
      "980it [06:08,  3.41it/s]"
     ]
    },
    {
     "name": "stdout",
     "output_type": "stream",
     "text": [
      "{'cls_loss': tensor(nan, device='cuda:0'), 'num_cls': 0, 'reg_loss': tensor(nan, device='cuda:0'), 'num_reg': 11761, 'loss': tensor(nan, device='cuda:0')}\n",
      "Epoch 0.000, lr 0.00000, time 0.00\n",
      "Wed Jul 27 08:50:39 2022\n",
      "loss nan nan nan, ade1 nan, fde1 nan, ade nan, fde nan\n",
      "\n"
     ]
    },
    {
     "name": "stderr",
     "output_type": "stream",
     "text": [
      "981it [06:08,  3.39it/s]"
     ]
    },
    {
     "name": "stdout",
     "output_type": "stream",
     "text": [
      "{'cls_loss': tensor(nan, device='cuda:0'), 'num_cls': 0, 'reg_loss': tensor(nan, device='cuda:0'), 'num_reg': 11524, 'loss': tensor(nan, device='cuda:0')}\n",
      "Epoch 0.000, lr 0.00000, time 0.00\n",
      "Wed Jul 27 08:50:39 2022\n",
      "loss nan nan nan, ade1 nan, fde1 nan, ade nan, fde nan\n",
      "\n"
     ]
    },
    {
     "name": "stderr",
     "output_type": "stream",
     "text": [
      "982it [06:08,  3.48it/s]"
     ]
    },
    {
     "name": "stdout",
     "output_type": "stream",
     "text": [
      "{'cls_loss': tensor(nan, device='cuda:0'), 'num_cls': 0, 'reg_loss': tensor(nan, device='cuda:0'), 'num_reg': 10901, 'loss': tensor(nan, device='cuda:0')}\n",
      "Epoch 0.000, lr 0.00000, time 0.00\n",
      "Wed Jul 27 08:50:40 2022\n",
      "loss nan nan nan, ade1 nan, fde1 nan, ade nan, fde nan\n",
      "\n"
     ]
    },
    {
     "name": "stderr",
     "output_type": "stream",
     "text": [
      "983it [06:08,  3.48it/s]"
     ]
    },
    {
     "name": "stdout",
     "output_type": "stream",
     "text": [
      "{'cls_loss': tensor(nan, device='cuda:0'), 'num_cls': 0, 'reg_loss': tensor(nan, device='cuda:0'), 'num_reg': 10410, 'loss': tensor(nan, device='cuda:0')}\n",
      "Epoch 0.000, lr 0.00000, time 0.00\n",
      "Wed Jul 27 08:50:40 2022\n",
      "loss nan nan nan, ade1 nan, fde1 nan, ade nan, fde nan\n",
      "\n"
     ]
    },
    {
     "name": "stderr",
     "output_type": "stream",
     "text": [
      "984it [06:09,  3.47it/s]"
     ]
    },
    {
     "name": "stdout",
     "output_type": "stream",
     "text": [
      "{'cls_loss': tensor(nan, device='cuda:0'), 'num_cls': 0, 'reg_loss': tensor(nan, device='cuda:0'), 'num_reg': 11977, 'loss': tensor(nan, device='cuda:0')}\n",
      "Epoch 0.000, lr 0.00000, time 0.00\n",
      "Wed Jul 27 08:50:40 2022\n",
      "loss nan nan nan, ade1 nan, fde1 nan, ade nan, fde nan\n",
      "\n"
     ]
    },
    {
     "name": "stderr",
     "output_type": "stream",
     "text": [
      "985it [06:09,  3.37it/s]"
     ]
    },
    {
     "name": "stdout",
     "output_type": "stream",
     "text": [
      "{'cls_loss': tensor(nan, device='cuda:0'), 'num_cls': 0, 'reg_loss': tensor(nan, device='cuda:0'), 'num_reg': 11053, 'loss': tensor(nan, device='cuda:0')}\n",
      "Epoch 0.000, lr 0.00000, time 0.00\n",
      "Wed Jul 27 08:50:41 2022\n",
      "loss nan nan nan, ade1 nan, fde1 nan, ade nan, fde nan\n",
      "\n"
     ]
    },
    {
     "name": "stderr",
     "output_type": "stream",
     "text": [
      "986it [06:09,  3.41it/s]"
     ]
    },
    {
     "name": "stdout",
     "output_type": "stream",
     "text": [
      "{'cls_loss': tensor(nan, device='cuda:0'), 'num_cls': 0, 'reg_loss': tensor(nan, device='cuda:0'), 'num_reg': 11149, 'loss': tensor(nan, device='cuda:0')}\n",
      "Epoch 0.000, lr 0.00000, time 0.00\n",
      "Wed Jul 27 08:50:41 2022\n",
      "loss nan nan nan, ade1 nan, fde1 nan, ade nan, fde nan\n",
      "\n"
     ]
    },
    {
     "name": "stderr",
     "output_type": "stream",
     "text": [
      "987it [06:10,  3.44it/s]"
     ]
    },
    {
     "name": "stdout",
     "output_type": "stream",
     "text": [
      "{'cls_loss': tensor(nan, device='cuda:0'), 'num_cls': 0, 'reg_loss': tensor(nan, device='cuda:0'), 'num_reg': 10528, 'loss': tensor(nan, device='cuda:0')}\n",
      "Epoch 0.000, lr 0.00000, time 0.00\n",
      "Wed Jul 27 08:50:41 2022\n",
      "loss nan nan nan, ade1 nan, fde1 nan, ade nan, fde nan\n",
      "\n"
     ]
    },
    {
     "name": "stderr",
     "output_type": "stream",
     "text": [
      "988it [06:10,  3.53it/s]"
     ]
    },
    {
     "name": "stdout",
     "output_type": "stream",
     "text": [
      "{'cls_loss': tensor(nan, device='cuda:0'), 'num_cls': 0, 'reg_loss': tensor(nan, device='cuda:0'), 'num_reg': 9618, 'loss': tensor(nan, device='cuda:0')}\n",
      "Epoch 0.000, lr 0.00000, time 0.00\n",
      "Wed Jul 27 08:50:41 2022\n",
      "loss nan nan nan, ade1 nan, fde1 nan, ade nan, fde nan\n",
      "\n"
     ]
    },
    {
     "name": "stderr",
     "output_type": "stream",
     "text": [
      "989it [06:10,  3.51it/s]"
     ]
    },
    {
     "name": "stdout",
     "output_type": "stream",
     "text": [
      "{'cls_loss': tensor(nan, device='cuda:0'), 'num_cls': 0, 'reg_loss': tensor(nan, device='cuda:0'), 'num_reg': 11113, 'loss': tensor(nan, device='cuda:0')}\n",
      "Epoch 0.000, lr 0.00000, time 0.00\n",
      "Wed Jul 27 08:50:42 2022\n",
      "loss nan nan nan, ade1 nan, fde1 nan, ade nan, fde nan\n",
      "\n"
     ]
    },
    {
     "name": "stderr",
     "output_type": "stream",
     "text": [
      "990it [06:10,  3.45it/s]"
     ]
    },
    {
     "name": "stdout",
     "output_type": "stream",
     "text": [
      "{'cls_loss': tensor(nan, device='cuda:0'), 'num_cls': 0, 'reg_loss': tensor(nan, device='cuda:0'), 'num_reg': 12998, 'loss': tensor(nan, device='cuda:0')}\n",
      "Epoch 0.000, lr 0.00000, time 0.00\n",
      "Wed Jul 27 08:50:42 2022\n",
      "loss nan nan nan, ade1 nan, fde1 nan, ade nan, fde nan\n",
      "\n"
     ]
    },
    {
     "name": "stderr",
     "output_type": "stream",
     "text": [
      "991it [06:11,  3.40it/s]"
     ]
    },
    {
     "name": "stdout",
     "output_type": "stream",
     "text": [
      "{'cls_loss': tensor(nan, device='cuda:0'), 'num_cls': 0, 'reg_loss': tensor(nan, device='cuda:0'), 'num_reg': 11341, 'loss': tensor(nan, device='cuda:0')}\n",
      "Epoch 0.000, lr 0.00000, time 0.00\n",
      "Wed Jul 27 08:50:42 2022\n",
      "loss nan nan nan, ade1 nan, fde1 nan, ade nan, fde nan\n",
      "\n",
      "{'cls_loss': tensor(nan, device='cuda:0'), 'num_cls': 0, 'reg_loss': tensor(nan, device='cuda:0'), 'num_reg': 11674, 'loss': tensor(nan, device='cuda:0')}\n",
      "Epoch 0.000, lr 0.00000, time 0.00\n"
     ]
    },
    {
     "name": "stderr",
     "output_type": "stream",
     "text": [
      "992it [06:11,  3.11it/s]"
     ]
    },
    {
     "name": "stdout",
     "output_type": "stream",
     "text": [
      "Wed Jul 27 08:50:43 2022\n",
      "loss nan nan nan, ade1 nan, fde1 nan, ade nan, fde nan\n",
      "\n"
     ]
    },
    {
     "name": "stderr",
     "output_type": "stream",
     "text": [
      "993it [06:12,  2.52it/s]"
     ]
    },
    {
     "name": "stdout",
     "output_type": "stream",
     "text": [
      "{'cls_loss': tensor(nan, device='cuda:0'), 'num_cls': 0, 'reg_loss': tensor(nan, device='cuda:0'), 'num_reg': 12718, 'loss': tensor(nan, device='cuda:0')}\n",
      "Epoch 0.000, lr 0.00000, time 0.00\n",
      "Wed Jul 27 08:50:43 2022\n",
      "loss nan nan nan, ade1 nan, fde1 nan, ade nan, fde nan\n",
      "\n"
     ]
    },
    {
     "name": "stderr",
     "output_type": "stream",
     "text": [
      "994it [06:12,  2.76it/s]"
     ]
    },
    {
     "name": "stdout",
     "output_type": "stream",
     "text": [
      "{'cls_loss': tensor(nan, device='cuda:0'), 'num_cls': 0, 'reg_loss': tensor(nan, device='cuda:0'), 'num_reg': 11989, 'loss': tensor(nan, device='cuda:0')}\n",
      "Epoch 0.000, lr 0.00000, time 0.00\n",
      "Wed Jul 27 08:50:44 2022\n",
      "loss nan nan nan, ade1 nan, fde1 nan, ade nan, fde nan\n",
      "\n"
     ]
    },
    {
     "name": "stderr",
     "output_type": "stream",
     "text": [
      "995it [06:12,  2.93it/s]"
     ]
    },
    {
     "name": "stdout",
     "output_type": "stream",
     "text": [
      "{'cls_loss': tensor(nan, device='cuda:0'), 'num_cls': 0, 'reg_loss': tensor(nan, device='cuda:0'), 'num_reg': 11829, 'loss': tensor(nan, device='cuda:0')}\n",
      "Epoch 0.000, lr 0.00000, time 0.00\n",
      "Wed Jul 27 08:50:44 2022\n",
      "loss nan nan nan, ade1 nan, fde1 nan, ade nan, fde nan\n",
      "\n"
     ]
    },
    {
     "name": "stderr",
     "output_type": "stream",
     "text": [
      "996it [06:13,  3.11it/s]"
     ]
    },
    {
     "name": "stdout",
     "output_type": "stream",
     "text": [
      "{'cls_loss': tensor(nan, device='cuda:0'), 'num_cls': 0, 'reg_loss': tensor(nan, device='cuda:0'), 'num_reg': 12098, 'loss': tensor(nan, device='cuda:0')}\n",
      "Epoch 0.000, lr 0.00000, time 0.00\n",
      "Wed Jul 27 08:50:44 2022\n",
      "loss nan nan nan, ade1 nan, fde1 nan, ade nan, fde nan\n",
      "\n"
     ]
    },
    {
     "name": "stderr",
     "output_type": "stream",
     "text": [
      "997it [06:13,  2.13it/s]"
     ]
    },
    {
     "name": "stdout",
     "output_type": "stream",
     "text": [
      "{'cls_loss': tensor(nan, device='cuda:0'), 'num_cls': 0, 'reg_loss': tensor(nan, device='cuda:0'), 'num_reg': 11710, 'loss': tensor(nan, device='cuda:0')}\n",
      "Epoch 0.000, lr 0.00000, time 0.00\n",
      "Wed Jul 27 08:50:45 2022\n",
      "loss nan nan nan, ade1 nan, fde1 nan, ade nan, fde nan\n",
      "\n"
     ]
    },
    {
     "name": "stderr",
     "output_type": "stream",
     "text": [
      "998it [06:14,  2.42it/s]"
     ]
    },
    {
     "name": "stdout",
     "output_type": "stream",
     "text": [
      "{'cls_loss': tensor(nan, device='cuda:0'), 'num_cls': 0, 'reg_loss': tensor(nan, device='cuda:0'), 'num_reg': 11815, 'loss': tensor(nan, device='cuda:0')}\n",
      "Epoch 0.000, lr 0.00000, time 0.00\n",
      "Wed Jul 27 08:50:45 2022\n",
      "loss nan nan nan, ade1 nan, fde1 nan, ade nan, fde nan\n",
      "\n"
     ]
    },
    {
     "name": "stderr",
     "output_type": "stream",
     "text": [
      "999it [06:14,  2.65it/s]"
     ]
    },
    {
     "name": "stdout",
     "output_type": "stream",
     "text": [
      "{'cls_loss': tensor(nan, device='cuda:0'), 'num_cls': 0, 'reg_loss': tensor(nan, device='cuda:0'), 'num_reg': 10951, 'loss': tensor(nan, device='cuda:0')}\n",
      "Epoch 0.000, lr 0.00000, time 0.00\n",
      "Wed Jul 27 08:50:46 2022\n",
      "loss nan nan nan, ade1 nan, fde1 nan, ade nan, fde nan\n",
      "\n"
     ]
    },
    {
     "name": "stderr",
     "output_type": "stream",
     "text": [
      "1000it [06:14,  2.84it/s]"
     ]
    },
    {
     "name": "stdout",
     "output_type": "stream",
     "text": [
      "{'cls_loss': tensor(nan, device='cuda:0'), 'num_cls': 0, 'reg_loss': tensor(nan, device='cuda:0'), 'num_reg': 9782, 'loss': tensor(nan, device='cuda:0')}\n",
      "Epoch 0.000, lr 0.00000, time 0.00\n",
      "Wed Jul 27 08:50:46 2022\n",
      "loss nan nan nan, ade1 nan, fde1 nan, ade nan, fde nan\n",
      "\n"
     ]
    },
    {
     "name": "stderr",
     "output_type": "stream",
     "text": [
      "1001it [06:14,  3.00it/s]"
     ]
    },
    {
     "name": "stdout",
     "output_type": "stream",
     "text": [
      "{'cls_loss': tensor(nan, device='cuda:0'), 'num_cls': 0, 'reg_loss': tensor(nan, device='cuda:0'), 'num_reg': 10482, 'loss': tensor(nan, device='cuda:0')}\n",
      "Epoch 0.000, lr 0.00000, time 0.00\n",
      "Wed Jul 27 08:50:46 2022\n",
      "loss nan nan nan, ade1 nan, fde1 nan, ade nan, fde nan\n",
      "\n"
     ]
    },
    {
     "name": "stderr",
     "output_type": "stream",
     "text": [
      "1002it [06:15,  3.17it/s]"
     ]
    },
    {
     "name": "stdout",
     "output_type": "stream",
     "text": [
      "{'cls_loss': tensor(nan, device='cuda:0'), 'num_cls': 0, 'reg_loss': tensor(nan, device='cuda:0'), 'num_reg': 9835, 'loss': tensor(nan, device='cuda:0')}\n",
      "Epoch 0.000, lr 0.00000, time 0.00\n",
      "Wed Jul 27 08:50:46 2022\n",
      "loss nan nan nan, ade1 nan, fde1 nan, ade nan, fde nan\n",
      "\n"
     ]
    },
    {
     "name": "stderr",
     "output_type": "stream",
     "text": [
      "1003it [06:15,  3.21it/s]"
     ]
    },
    {
     "name": "stdout",
     "output_type": "stream",
     "text": [
      "{'cls_loss': tensor(nan, device='cuda:0'), 'num_cls': 0, 'reg_loss': tensor(nan, device='cuda:0'), 'num_reg': 9915, 'loss': tensor(nan, device='cuda:0')}\n",
      "Epoch 0.000, lr 0.00000, time 0.00\n",
      "Wed Jul 27 08:50:47 2022\n",
      "loss nan nan nan, ade1 nan, fde1 nan, ade nan, fde nan\n",
      "\n"
     ]
    },
    {
     "name": "stderr",
     "output_type": "stream",
     "text": [
      "1004it [06:15,  3.25it/s]"
     ]
    },
    {
     "name": "stdout",
     "output_type": "stream",
     "text": [
      "{'cls_loss': tensor(nan, device='cuda:0'), 'num_cls': 0, 'reg_loss': tensor(nan, device='cuda:0'), 'num_reg': 10564, 'loss': tensor(nan, device='cuda:0')}\n",
      "Epoch 0.000, lr 0.00000, time 0.00\n",
      "Wed Jul 27 08:50:47 2022\n",
      "loss nan nan nan, ade1 nan, fde1 nan, ade nan, fde nan\n",
      "\n"
     ]
    },
    {
     "name": "stderr",
     "output_type": "stream",
     "text": [
      "1005it [06:16,  3.33it/s]"
     ]
    },
    {
     "name": "stdout",
     "output_type": "stream",
     "text": [
      "{'cls_loss': tensor(nan, device='cuda:0'), 'num_cls': 0, 'reg_loss': tensor(nan, device='cuda:0'), 'num_reg': 10446, 'loss': tensor(nan, device='cuda:0')}\n",
      "Epoch 0.000, lr 0.00000, time 0.00\n",
      "Wed Jul 27 08:50:47 2022\n",
      "loss nan nan nan, ade1 nan, fde1 nan, ade nan, fde nan\n",
      "\n"
     ]
    },
    {
     "name": "stderr",
     "output_type": "stream",
     "text": [
      "1006it [06:16,  3.42it/s]"
     ]
    },
    {
     "name": "stdout",
     "output_type": "stream",
     "text": [
      "{'cls_loss': tensor(nan, device='cuda:0'), 'num_cls': 0, 'reg_loss': tensor(nan, device='cuda:0'), 'num_reg': 10796, 'loss': tensor(nan, device='cuda:0')}\n",
      "Epoch 0.000, lr 0.00000, time 0.00\n",
      "Wed Jul 27 08:50:48 2022\n",
      "loss nan nan nan, ade1 nan, fde1 nan, ade nan, fde nan\n",
      "\n"
     ]
    },
    {
     "name": "stderr",
     "output_type": "stream",
     "text": [
      "1007it [06:16,  3.44it/s]"
     ]
    },
    {
     "name": "stdout",
     "output_type": "stream",
     "text": [
      "{'cls_loss': tensor(nan, device='cuda:0'), 'num_cls': 0, 'reg_loss': tensor(nan, device='cuda:0'), 'num_reg': 10662, 'loss': tensor(nan, device='cuda:0')}\n",
      "Epoch 0.000, lr 0.00000, time 0.00\n",
      "Wed Jul 27 08:50:48 2022\n",
      "loss nan nan nan, ade1 nan, fde1 nan, ade nan, fde nan\n",
      "\n"
     ]
    },
    {
     "name": "stderr",
     "output_type": "stream",
     "text": [
      "1008it [06:16,  3.49it/s]"
     ]
    },
    {
     "name": "stdout",
     "output_type": "stream",
     "text": [
      "{'cls_loss': tensor(nan, device='cuda:0'), 'num_cls': 0, 'reg_loss': tensor(nan, device='cuda:0'), 'num_reg': 10964, 'loss': tensor(nan, device='cuda:0')}\n",
      "Epoch 0.000, lr 0.00000, time 0.00\n",
      "Wed Jul 27 08:50:48 2022\n",
      "loss nan nan nan, ade1 nan, fde1 nan, ade nan, fde nan\n",
      "\n"
     ]
    },
    {
     "name": "stderr",
     "output_type": "stream",
     "text": [
      "1009it [06:17,  3.47it/s]"
     ]
    },
    {
     "name": "stdout",
     "output_type": "stream",
     "text": [
      "{'cls_loss': tensor(nan, device='cuda:0'), 'num_cls': 0, 'reg_loss': tensor(nan, device='cuda:0'), 'num_reg': 13329, 'loss': tensor(nan, device='cuda:0')}\n",
      "Epoch 0.000, lr 0.00000, time 0.00\n",
      "Wed Jul 27 08:50:48 2022\n",
      "loss nan nan nan, ade1 nan, fde1 nan, ade nan, fde nan\n",
      "\n"
     ]
    },
    {
     "name": "stderr",
     "output_type": "stream",
     "text": [
      "1010it [06:17,  3.48it/s]"
     ]
    },
    {
     "name": "stdout",
     "output_type": "stream",
     "text": [
      "{'cls_loss': tensor(nan, device='cuda:0'), 'num_cls': 0, 'reg_loss': tensor(nan, device='cuda:0'), 'num_reg': 10504, 'loss': tensor(nan, device='cuda:0')}\n",
      "Epoch 0.000, lr 0.00000, time 0.00\n",
      "Wed Jul 27 08:50:49 2022\n",
      "loss nan nan nan, ade1 nan, fde1 nan, ade nan, fde nan\n",
      "\n"
     ]
    },
    {
     "name": "stderr",
     "output_type": "stream",
     "text": [
      "1011it [06:17,  3.38it/s]"
     ]
    },
    {
     "name": "stdout",
     "output_type": "stream",
     "text": [
      "{'cls_loss': tensor(nan, device='cuda:0'), 'num_cls': 0, 'reg_loss': tensor(nan, device='cuda:0'), 'num_reg': 9931, 'loss': tensor(nan, device='cuda:0')}\n",
      "Epoch 0.000, lr 0.00000, time 0.00\n",
      "Wed Jul 27 08:50:49 2022\n",
      "loss nan nan nan, ade1 nan, fde1 nan, ade nan, fde nan\n",
      "\n"
     ]
    },
    {
     "name": "stderr",
     "output_type": "stream",
     "text": [
      "1012it [06:18,  3.44it/s]"
     ]
    },
    {
     "name": "stdout",
     "output_type": "stream",
     "text": [
      "{'cls_loss': tensor(nan, device='cuda:0'), 'num_cls': 0, 'reg_loss': tensor(nan, device='cuda:0'), 'num_reg': 11098, 'loss': tensor(nan, device='cuda:0')}\n",
      "Epoch 0.000, lr 0.00000, time 0.00\n",
      "Wed Jul 27 08:50:49 2022\n",
      "loss nan nan nan, ade1 nan, fde1 nan, ade nan, fde nan\n",
      "\n"
     ]
    },
    {
     "name": "stderr",
     "output_type": "stream",
     "text": [
      "1013it [06:18,  2.85it/s]"
     ]
    },
    {
     "name": "stdout",
     "output_type": "stream",
     "text": [
      "{'cls_loss': tensor(nan, device='cuda:0'), 'num_cls': 0, 'reg_loss': tensor(nan, device='cuda:0'), 'num_reg': 13264, 'loss': tensor(nan, device='cuda:0')}\n",
      "Epoch 0.000, lr 0.00000, time 0.00\n",
      "Wed Jul 27 08:50:50 2022\n",
      "loss nan nan nan, ade1 nan, fde1 nan, ade nan, fde nan\n",
      "\n"
     ]
    },
    {
     "name": "stderr",
     "output_type": "stream",
     "text": [
      "1014it [06:18,  3.00it/s]"
     ]
    },
    {
     "name": "stdout",
     "output_type": "stream",
     "text": [
      "{'cls_loss': tensor(nan, device='cuda:0'), 'num_cls': 0, 'reg_loss': tensor(nan, device='cuda:0'), 'num_reg': 11685, 'loss': tensor(nan, device='cuda:0')}\n",
      "Epoch 0.000, lr 0.00000, time 0.00\n",
      "Wed Jul 27 08:50:50 2022\n",
      "loss nan nan nan, ade1 nan, fde1 nan, ade nan, fde nan\n",
      "\n"
     ]
    },
    {
     "name": "stderr",
     "output_type": "stream",
     "text": [
      "1015it [06:19,  3.03it/s]"
     ]
    },
    {
     "name": "stdout",
     "output_type": "stream",
     "text": [
      "{'cls_loss': tensor(nan, device='cuda:0'), 'num_cls': 0, 'reg_loss': tensor(nan, device='cuda:0'), 'num_reg': 10634, 'loss': tensor(nan, device='cuda:0')}\n",
      "Epoch 0.000, lr 0.00000, time 0.00\n",
      "Wed Jul 27 08:50:50 2022\n",
      "loss nan nan nan, ade1 nan, fde1 nan, ade nan, fde nan\n",
      "\n"
     ]
    },
    {
     "name": "stderr",
     "output_type": "stream",
     "text": [
      "1016it [06:19,  3.15it/s]"
     ]
    },
    {
     "name": "stdout",
     "output_type": "stream",
     "text": [
      "{'cls_loss': tensor(nan, device='cuda:0'), 'num_cls': 0, 'reg_loss': tensor(nan, device='cuda:0'), 'num_reg': 12264, 'loss': tensor(nan, device='cuda:0')}\n",
      "Epoch 0.000, lr 0.00000, time 0.00\n",
      "Wed Jul 27 08:50:51 2022\n",
      "loss nan nan nan, ade1 nan, fde1 nan, ade nan, fde nan\n",
      "\n"
     ]
    },
    {
     "name": "stderr",
     "output_type": "stream",
     "text": [
      "1017it [06:19,  3.12it/s]"
     ]
    },
    {
     "name": "stdout",
     "output_type": "stream",
     "text": [
      "{'cls_loss': tensor(nan, device='cuda:0'), 'num_cls': 0, 'reg_loss': tensor(nan, device='cuda:0'), 'num_reg': 10220, 'loss': tensor(nan, device='cuda:0')}\n",
      "Epoch 0.000, lr 0.00000, time 0.00\n",
      "Wed Jul 27 08:50:51 2022\n",
      "loss nan nan nan, ade1 nan, fde1 nan, ade nan, fde nan\n",
      "\n"
     ]
    },
    {
     "name": "stderr",
     "output_type": "stream",
     "text": [
      "1018it [06:20,  3.26it/s]"
     ]
    },
    {
     "name": "stdout",
     "output_type": "stream",
     "text": [
      "{'cls_loss': tensor(nan, device='cuda:0'), 'num_cls': 0, 'reg_loss': tensor(nan, device='cuda:0'), 'num_reg': 9116, 'loss': tensor(nan, device='cuda:0')}\n",
      "Epoch 0.000, lr 0.00000, time 0.00\n",
      "Wed Jul 27 08:50:51 2022\n",
      "loss nan nan nan, ade1 nan, fde1 nan, ade nan, fde nan\n",
      "\n"
     ]
    },
    {
     "name": "stderr",
     "output_type": "stream",
     "text": [
      "1019it [06:20,  3.29it/s]"
     ]
    },
    {
     "name": "stdout",
     "output_type": "stream",
     "text": [
      "{'cls_loss': tensor(nan, device='cuda:0'), 'num_cls': 0, 'reg_loss': tensor(nan, device='cuda:0'), 'num_reg': 11246, 'loss': tensor(nan, device='cuda:0')}\n",
      "Epoch 0.000, lr 0.00000, time 0.00\n",
      "Wed Jul 27 08:50:52 2022\n",
      "loss nan nan nan, ade1 nan, fde1 nan, ade nan, fde nan\n",
      "\n"
     ]
    },
    {
     "name": "stderr",
     "output_type": "stream",
     "text": [
      "1020it [06:20,  3.36it/s]"
     ]
    },
    {
     "name": "stdout",
     "output_type": "stream",
     "text": [
      "{'cls_loss': tensor(nan, device='cuda:0'), 'num_cls': 0, 'reg_loss': tensor(nan, device='cuda:0'), 'num_reg': 12424, 'loss': tensor(nan, device='cuda:0')}\n",
      "Epoch 0.000, lr 0.00000, time 0.00\n",
      "Wed Jul 27 08:50:52 2022\n",
      "loss nan nan nan, ade1 nan, fde1 nan, ade nan, fde nan\n",
      "\n"
     ]
    },
    {
     "name": "stderr",
     "output_type": "stream",
     "text": [
      "1021it [06:21,  3.14it/s]"
     ]
    },
    {
     "name": "stdout",
     "output_type": "stream",
     "text": [
      "{'cls_loss': tensor(nan, device='cuda:0'), 'num_cls': 0, 'reg_loss': tensor(nan, device='cuda:0'), 'num_reg': 12933, 'loss': tensor(nan, device='cuda:0')}\n",
      "Epoch 0.000, lr 0.00000, time 0.00\n",
      "Wed Jul 27 08:50:52 2022\n",
      "loss nan nan nan, ade1 nan, fde1 nan, ade nan, fde nan\n",
      "\n"
     ]
    },
    {
     "name": "stderr",
     "output_type": "stream",
     "text": [
      "1022it [06:21,  3.28it/s]"
     ]
    },
    {
     "name": "stdout",
     "output_type": "stream",
     "text": [
      "{'cls_loss': tensor(nan, device='cuda:0'), 'num_cls': 0, 'reg_loss': tensor(nan, device='cuda:0'), 'num_reg': 10102, 'loss': tensor(nan, device='cuda:0')}\n",
      "Epoch 0.000, lr 0.00000, time 0.00\n",
      "Wed Jul 27 08:50:52 2022\n",
      "loss nan nan nan, ade1 nan, fde1 nan, ade nan, fde nan\n",
      "\n"
     ]
    },
    {
     "name": "stderr",
     "output_type": "stream",
     "text": [
      "1023it [06:21,  3.30it/s]"
     ]
    },
    {
     "name": "stdout",
     "output_type": "stream",
     "text": [
      "{'cls_loss': tensor(nan, device='cuda:0'), 'num_cls': 0, 'reg_loss': tensor(nan, device='cuda:0'), 'num_reg': 11335, 'loss': tensor(nan, device='cuda:0')}\n",
      "Epoch 0.000, lr 0.00000, time 0.00\n",
      "Wed Jul 27 08:50:53 2022\n",
      "loss nan nan nan, ade1 nan, fde1 nan, ade nan, fde nan\n",
      "\n"
     ]
    },
    {
     "name": "stderr",
     "output_type": "stream",
     "text": [
      "1024it [06:21,  3.32it/s]"
     ]
    },
    {
     "name": "stdout",
     "output_type": "stream",
     "text": [
      "{'cls_loss': tensor(nan, device='cuda:0'), 'num_cls': 0, 'reg_loss': tensor(nan, device='cuda:0'), 'num_reg': 9580, 'loss': tensor(nan, device='cuda:0')}\n",
      "Epoch 0.000, lr 0.00000, time 0.00\n",
      "Wed Jul 27 08:50:53 2022\n",
      "loss nan nan nan, ade1 nan, fde1 nan, ade nan, fde nan\n",
      "\n"
     ]
    },
    {
     "name": "stderr",
     "output_type": "stream",
     "text": [
      "1025it [06:22,  2.62it/s]"
     ]
    },
    {
     "name": "stdout",
     "output_type": "stream",
     "text": [
      "{'cls_loss': tensor(nan, device='cuda:0'), 'num_cls': 0, 'reg_loss': tensor(nan, device='cuda:0'), 'num_reg': 10059, 'loss': tensor(nan, device='cuda:0')}\n",
      "Epoch 0.000, lr 0.00000, time 0.00\n",
      "Wed Jul 27 08:50:54 2022\n",
      "loss nan nan nan, ade1 nan, fde1 nan, ade nan, fde nan\n",
      "\n"
     ]
    },
    {
     "name": "stderr",
     "output_type": "stream",
     "text": [
      "1026it [06:22,  2.82it/s]"
     ]
    },
    {
     "name": "stdout",
     "output_type": "stream",
     "text": [
      "{'cls_loss': tensor(nan, device='cuda:0'), 'num_cls': 0, 'reg_loss': tensor(nan, device='cuda:0'), 'num_reg': 12089, 'loss': tensor(nan, device='cuda:0')}\n",
      "Epoch 0.000, lr 0.00000, time 0.00\n",
      "Wed Jul 27 08:50:54 2022\n",
      "loss nan nan nan, ade1 nan, fde1 nan, ade nan, fde nan\n",
      "\n"
     ]
    },
    {
     "name": "stderr",
     "output_type": "stream",
     "text": [
      "1027it [06:23,  2.98it/s]"
     ]
    },
    {
     "name": "stdout",
     "output_type": "stream",
     "text": [
      "{'cls_loss': tensor(nan, device='cuda:0'), 'num_cls': 0, 'reg_loss': tensor(nan, device='cuda:0'), 'num_reg': 10438, 'loss': tensor(nan, device='cuda:0')}\n",
      "Epoch 0.000, lr 0.00000, time 0.00\n",
      "Wed Jul 27 08:50:54 2022\n",
      "loss nan nan nan, ade1 nan, fde1 nan, ade nan, fde nan\n",
      "\n"
     ]
    },
    {
     "name": "stderr",
     "output_type": "stream",
     "text": [
      "1028it [06:23,  3.13it/s]"
     ]
    },
    {
     "name": "stdout",
     "output_type": "stream",
     "text": [
      "{'cls_loss': tensor(nan, device='cuda:0'), 'num_cls': 0, 'reg_loss': tensor(nan, device='cuda:0'), 'num_reg': 9939, 'loss': tensor(nan, device='cuda:0')}\n",
      "Epoch 0.000, lr 0.00000, time 0.00\n",
      "Wed Jul 27 08:50:55 2022\n",
      "loss nan nan nan, ade1 nan, fde1 nan, ade nan, fde nan\n",
      "\n"
     ]
    },
    {
     "name": "stderr",
     "output_type": "stream",
     "text": [
      "1029it [06:23,  3.19it/s]"
     ]
    },
    {
     "name": "stdout",
     "output_type": "stream",
     "text": [
      "{'cls_loss': tensor(nan, device='cuda:0'), 'num_cls': 0, 'reg_loss': tensor(nan, device='cuda:0'), 'num_reg': 11162, 'loss': tensor(nan, device='cuda:0')}\n",
      "Epoch 0.000, lr 0.00000, time 0.00\n",
      "Wed Jul 27 08:50:55 2022\n",
      "loss nan nan nan, ade1 nan, fde1 nan, ade nan, fde nan\n",
      "\n"
     ]
    },
    {
     "name": "stderr",
     "output_type": "stream",
     "text": [
      "1030it [06:24,  3.19it/s]"
     ]
    },
    {
     "name": "stdout",
     "output_type": "stream",
     "text": [
      "{'cls_loss': tensor(nan, device='cuda:0'), 'num_cls': 0, 'reg_loss': tensor(nan, device='cuda:0'), 'num_reg': 11515, 'loss': tensor(nan, device='cuda:0')}\n",
      "Epoch 0.000, lr 0.00000, time 0.00\n",
      "Wed Jul 27 08:50:55 2022\n",
      "loss nan nan nan, ade1 nan, fde1 nan, ade nan, fde nan\n",
      "\n"
     ]
    },
    {
     "name": "stderr",
     "output_type": "stream",
     "text": [
      "1031it [06:24,  2.89it/s]"
     ]
    },
    {
     "name": "stdout",
     "output_type": "stream",
     "text": [
      "{'cls_loss': tensor(nan, device='cuda:0'), 'num_cls': 0, 'reg_loss': tensor(nan, device='cuda:0'), 'num_reg': 13284, 'loss': tensor(nan, device='cuda:0')}\n",
      "Epoch 0.000, lr 0.00000, time 0.00\n",
      "Wed Jul 27 08:50:56 2022\n",
      "loss nan nan nan, ade1 nan, fde1 nan, ade nan, fde nan\n",
      "\n"
     ]
    },
    {
     "name": "stderr",
     "output_type": "stream",
     "text": [
      "1032it [06:24,  3.06it/s]"
     ]
    },
    {
     "name": "stdout",
     "output_type": "stream",
     "text": [
      "{'cls_loss': tensor(nan, device='cuda:0'), 'num_cls': 0, 'reg_loss': tensor(nan, device='cuda:0'), 'num_reg': 10017, 'loss': tensor(nan, device='cuda:0')}\n",
      "Epoch 0.000, lr 0.00000, time 0.00\n",
      "Wed Jul 27 08:50:56 2022\n",
      "loss nan nan nan, ade1 nan, fde1 nan, ade nan, fde nan\n",
      "\n"
     ]
    },
    {
     "name": "stderr",
     "output_type": "stream",
     "text": [
      "1033it [06:24,  3.16it/s]"
     ]
    },
    {
     "name": "stdout",
     "output_type": "stream",
     "text": [
      "{'cls_loss': tensor(nan, device='cuda:0'), 'num_cls': 0, 'reg_loss': tensor(nan, device='cuda:0'), 'num_reg': 11999, 'loss': tensor(nan, device='cuda:0')}\n",
      "Epoch 0.000, lr 0.00000, time 0.00\n",
      "Wed Jul 27 08:50:56 2022\n",
      "loss nan nan nan, ade1 nan, fde1 nan, ade nan, fde nan\n",
      "\n"
     ]
    },
    {
     "name": "stderr",
     "output_type": "stream",
     "text": [
      "1034it [06:25,  3.25it/s]"
     ]
    },
    {
     "name": "stdout",
     "output_type": "stream",
     "text": [
      "{'cls_loss': tensor(nan, device='cuda:0'), 'num_cls': 0, 'reg_loss': tensor(nan, device='cuda:0'), 'num_reg': 12230, 'loss': tensor(nan, device='cuda:0')}\n",
      "Epoch 0.000, lr 0.00000, time 0.00\n",
      "Wed Jul 27 08:50:56 2022\n",
      "loss nan nan nan, ade1 nan, fde1 nan, ade nan, fde nan\n",
      "\n"
     ]
    },
    {
     "name": "stderr",
     "output_type": "stream",
     "text": [
      "1035it [06:25,  3.13it/s]"
     ]
    },
    {
     "name": "stdout",
     "output_type": "stream",
     "text": [
      "{'cls_loss': tensor(nan, device='cuda:0'), 'num_cls': 0, 'reg_loss': tensor(nan, device='cuda:0'), 'num_reg': 11298, 'loss': tensor(nan, device='cuda:0')}\n",
      "Epoch 0.000, lr 0.00000, time 0.00\n",
      "Wed Jul 27 08:50:57 2022\n",
      "loss nan nan nan, ade1 nan, fde1 nan, ade nan, fde nan\n",
      "\n"
     ]
    },
    {
     "name": "stderr",
     "output_type": "stream",
     "text": [
      "1036it [06:25,  3.19it/s]"
     ]
    },
    {
     "name": "stdout",
     "output_type": "stream",
     "text": [
      "{'cls_loss': tensor(nan, device='cuda:0'), 'num_cls': 0, 'reg_loss': tensor(nan, device='cuda:0'), 'num_reg': 9767, 'loss': tensor(nan, device='cuda:0')}\n",
      "Epoch 0.000, lr 0.00000, time 0.00\n",
      "Wed Jul 27 08:50:57 2022\n",
      "loss nan nan nan, ade1 nan, fde1 nan, ade nan, fde nan\n",
      "\n"
     ]
    },
    {
     "name": "stderr",
     "output_type": "stream",
     "text": [
      "1037it [06:26,  3.27it/s]"
     ]
    },
    {
     "name": "stdout",
     "output_type": "stream",
     "text": [
      "{'cls_loss': tensor(nan, device='cuda:0'), 'num_cls': 0, 'reg_loss': tensor(nan, device='cuda:0'), 'num_reg': 9370, 'loss': tensor(nan, device='cuda:0')}\n",
      "Epoch 0.000, lr 0.00000, time 0.00\n",
      "Wed Jul 27 08:50:57 2022\n",
      "loss nan nan nan, ade1 nan, fde1 nan, ade nan, fde nan\n",
      "\n"
     ]
    },
    {
     "name": "stderr",
     "output_type": "stream",
     "text": [
      "1038it [06:26,  3.34it/s]"
     ]
    },
    {
     "name": "stdout",
     "output_type": "stream",
     "text": [
      "{'cls_loss': tensor(nan, device='cuda:0'), 'num_cls': 0, 'reg_loss': tensor(nan, device='cuda:0'), 'num_reg': 12324, 'loss': tensor(nan, device='cuda:0')}\n",
      "Epoch 0.000, lr 0.00000, time 0.00\n",
      "Wed Jul 27 08:50:58 2022\n",
      "loss nan nan nan, ade1 nan, fde1 nan, ade nan, fde nan\n",
      "\n"
     ]
    },
    {
     "name": "stderr",
     "output_type": "stream",
     "text": [
      "1039it [06:26,  3.35it/s]"
     ]
    },
    {
     "name": "stdout",
     "output_type": "stream",
     "text": [
      "{'cls_loss': tensor(nan, device='cuda:0'), 'num_cls': 0, 'reg_loss': tensor(nan, device='cuda:0'), 'num_reg': 11697, 'loss': tensor(nan, device='cuda:0')}\n",
      "Epoch 0.000, lr 0.00000, time 0.00\n",
      "Wed Jul 27 08:50:58 2022\n",
      "loss nan nan nan, ade1 nan, fde1 nan, ade nan, fde nan\n",
      "\n"
     ]
    },
    {
     "name": "stderr",
     "output_type": "stream",
     "text": [
      "1040it [06:27,  3.40it/s]"
     ]
    },
    {
     "name": "stdout",
     "output_type": "stream",
     "text": [
      "{'cls_loss': tensor(nan, device='cuda:0'), 'num_cls': 0, 'reg_loss': tensor(nan, device='cuda:0'), 'num_reg': 9789, 'loss': tensor(nan, device='cuda:0')}\n",
      "Epoch 0.000, lr 0.00000, time 0.00\n",
      "Wed Jul 27 08:50:58 2022\n",
      "loss nan nan nan, ade1 nan, fde1 nan, ade nan, fde nan\n",
      "\n"
     ]
    },
    {
     "name": "stderr",
     "output_type": "stream",
     "text": [
      "1041it [06:27,  2.32it/s]"
     ]
    },
    {
     "name": "stdout",
     "output_type": "stream",
     "text": [
      "{'cls_loss': tensor(nan, device='cuda:0'), 'num_cls': 0, 'reg_loss': tensor(nan, device='cuda:0'), 'num_reg': 11047, 'loss': tensor(nan, device='cuda:0')}\n",
      "Epoch 0.000, lr 0.00000, time 0.00\n",
      "Wed Jul 27 08:50:59 2022\n",
      "loss nan nan nan, ade1 nan, fde1 nan, ade nan, fde nan\n",
      "\n"
     ]
    },
    {
     "name": "stderr",
     "output_type": "stream",
     "text": [
      "1042it [06:28,  2.58it/s]"
     ]
    },
    {
     "name": "stdout",
     "output_type": "stream",
     "text": [
      "{'cls_loss': tensor(nan, device='cuda:0'), 'num_cls': 0, 'reg_loss': tensor(nan, device='cuda:0'), 'num_reg': 11708, 'loss': tensor(nan, device='cuda:0')}\n",
      "Epoch 0.000, lr 0.00000, time 0.00\n",
      "Wed Jul 27 08:50:59 2022\n",
      "loss nan nan nan, ade1 nan, fde1 nan, ade nan, fde nan\n",
      "\n"
     ]
    },
    {
     "name": "stderr",
     "output_type": "stream",
     "text": [
      "1043it [06:28,  2.78it/s]"
     ]
    },
    {
     "name": "stdout",
     "output_type": "stream",
     "text": [
      "{'cls_loss': tensor(nan, device='cuda:0'), 'num_cls': 0, 'reg_loss': tensor(nan, device='cuda:0'), 'num_reg': 9863, 'loss': tensor(nan, device='cuda:0')}\n",
      "Epoch 0.000, lr 0.00000, time 0.00\n",
      "Wed Jul 27 08:51:00 2022\n",
      "loss nan nan nan, ade1 nan, fde1 nan, ade nan, fde nan\n",
      "\n"
     ]
    },
    {
     "name": "stderr",
     "output_type": "stream",
     "text": [
      "1044it [06:28,  2.97it/s]"
     ]
    },
    {
     "name": "stdout",
     "output_type": "stream",
     "text": [
      "{'cls_loss': tensor(nan, device='cuda:0'), 'num_cls': 0, 'reg_loss': tensor(nan, device='cuda:0'), 'num_reg': 9542, 'loss': tensor(nan, device='cuda:0')}\n",
      "Epoch 0.000, lr 0.00000, time 0.00\n",
      "Wed Jul 27 08:51:00 2022\n",
      "loss nan nan nan, ade1 nan, fde1 nan, ade nan, fde nan\n",
      "\n"
     ]
    },
    {
     "name": "stderr",
     "output_type": "stream",
     "text": [
      "1045it [06:28,  3.07it/s]"
     ]
    },
    {
     "name": "stdout",
     "output_type": "stream",
     "text": [
      "{'cls_loss': tensor(nan, device='cuda:0'), 'num_cls': 0, 'reg_loss': tensor(nan, device='cuda:0'), 'num_reg': 10349, 'loss': tensor(nan, device='cuda:0')}\n",
      "Epoch 0.000, lr 0.00000, time 0.00\n",
      "Wed Jul 27 08:51:00 2022\n",
      "loss nan nan nan, ade1 nan, fde1 nan, ade nan, fde nan\n",
      "\n"
     ]
    },
    {
     "name": "stderr",
     "output_type": "stream",
     "text": [
      "1046it [06:29,  3.18it/s]"
     ]
    },
    {
     "name": "stdout",
     "output_type": "stream",
     "text": [
      "{'cls_loss': tensor(nan, device='cuda:0'), 'num_cls': 0, 'reg_loss': tensor(nan, device='cuda:0'), 'num_reg': 11487, 'loss': tensor(nan, device='cuda:0')}\n",
      "Epoch 0.000, lr 0.00000, time 0.00\n",
      "Wed Jul 27 08:51:00 2022\n",
      "loss nan nan nan, ade1 nan, fde1 nan, ade nan, fde nan\n",
      "\n"
     ]
    },
    {
     "name": "stderr",
     "output_type": "stream",
     "text": [
      "1047it [06:29,  2.47it/s]"
     ]
    },
    {
     "name": "stdout",
     "output_type": "stream",
     "text": [
      "{'cls_loss': tensor(nan, device='cuda:0'), 'num_cls': 0, 'reg_loss': tensor(nan, device='cuda:0'), 'num_reg': 9928, 'loss': tensor(nan, device='cuda:0')}\n",
      "Epoch 0.000, lr 0.00000, time 0.00\n",
      "Wed Jul 27 08:51:01 2022\n",
      "loss nan nan nan, ade1 nan, fde1 nan, ade nan, fde nan\n",
      "\n"
     ]
    },
    {
     "name": "stderr",
     "output_type": "stream",
     "text": [
      "1048it [06:30,  2.64it/s]"
     ]
    },
    {
     "name": "stdout",
     "output_type": "stream",
     "text": [
      "{'cls_loss': tensor(nan, device='cuda:0'), 'num_cls': 0, 'reg_loss': tensor(nan, device='cuda:0'), 'num_reg': 10346, 'loss': tensor(nan, device='cuda:0')}\n",
      "Epoch 0.000, lr 0.00000, time 0.00\n",
      "Wed Jul 27 08:51:01 2022\n",
      "loss nan nan nan, ade1 nan, fde1 nan, ade nan, fde nan\n",
      "\n"
     ]
    },
    {
     "name": "stderr",
     "output_type": "stream",
     "text": [
      "1049it [06:30,  2.78it/s]"
     ]
    },
    {
     "name": "stdout",
     "output_type": "stream",
     "text": [
      "{'cls_loss': tensor(nan, device='cuda:0'), 'num_cls': 0, 'reg_loss': tensor(nan, device='cuda:0'), 'num_reg': 11077, 'loss': tensor(nan, device='cuda:0')}\n",
      "Epoch 0.000, lr 0.00000, time 0.00\n",
      "Wed Jul 27 08:51:02 2022\n",
      "loss nan nan nan, ade1 nan, fde1 nan, ade nan, fde nan\n",
      "\n"
     ]
    },
    {
     "name": "stderr",
     "output_type": "stream",
     "text": [
      "1050it [06:30,  2.97it/s]"
     ]
    },
    {
     "name": "stdout",
     "output_type": "stream",
     "text": [
      "{'cls_loss': tensor(nan, device='cuda:0'), 'num_cls': 0, 'reg_loss': tensor(nan, device='cuda:0'), 'num_reg': 9960, 'loss': tensor(nan, device='cuda:0')}\n",
      "Epoch 0.000, lr 0.00000, time 0.00\n",
      "Wed Jul 27 08:51:02 2022\n",
      "loss nan nan nan, ade1 nan, fde1 nan, ade nan, fde nan\n",
      "\n"
     ]
    },
    {
     "name": "stderr",
     "output_type": "stream",
     "text": [
      "1051it [06:31,  3.08it/s]"
     ]
    },
    {
     "name": "stdout",
     "output_type": "stream",
     "text": [
      "{'cls_loss': tensor(nan, device='cuda:0'), 'num_cls': 0, 'reg_loss': tensor(nan, device='cuda:0'), 'num_reg': 11142, 'loss': tensor(nan, device='cuda:0')}\n",
      "Epoch 0.000, lr 0.00000, time 0.00\n",
      "Wed Jul 27 08:51:02 2022\n",
      "loss nan nan nan, ade1 nan, fde1 nan, ade nan, fde nan\n",
      "\n"
     ]
    },
    {
     "name": "stderr",
     "output_type": "stream",
     "text": [
      "1052it [06:31,  3.18it/s]"
     ]
    },
    {
     "name": "stdout",
     "output_type": "stream",
     "text": [
      "{'cls_loss': tensor(nan, device='cuda:0'), 'num_cls': 0, 'reg_loss': tensor(nan, device='cuda:0'), 'num_reg': 10671, 'loss': tensor(nan, device='cuda:0')}\n",
      "Epoch 0.000, lr 0.00000, time 0.00\n",
      "Wed Jul 27 08:51:03 2022\n",
      "loss nan nan nan, ade1 nan, fde1 nan, ade nan, fde nan\n",
      "\n",
      "{'cls_loss': tensor(nan, device='cuda:0'), 'num_cls': 0, 'reg_loss': tensor(nan, device='cuda:0'), 'num_reg': 11151, 'loss': tensor(nan, device='cuda:0')}\n",
      "Epoch 0.000, lr 0.00000, time 0.00\n"
     ]
    },
    {
     "name": "stderr",
     "output_type": "stream",
     "text": [
      "1053it [06:32,  2.30it/s]"
     ]
    },
    {
     "name": "stdout",
     "output_type": "stream",
     "text": [
      "Wed Jul 27 08:51:03 2022\n",
      "loss nan nan nan, ade1 nan, fde1 nan, ade nan, fde nan\n",
      "\n",
      "{'cls_loss': tensor(nan, device='cuda:0'), 'num_cls': 0, 'reg_loss': tensor(nan, device='cuda:0'), 'num_reg': 11607, 'loss': tensor(nan, device='cuda:0')}\n",
      "Epoch 0.000, lr 0.00000, time 0.00\n"
     ]
    },
    {
     "name": "stderr",
     "output_type": "stream",
     "text": [
      "1054it [06:32,  2.51it/s]"
     ]
    },
    {
     "name": "stdout",
     "output_type": "stream",
     "text": [
      "Wed Jul 27 08:51:04 2022\n",
      "loss nan nan nan, ade1 nan, fde1 nan, ade nan, fde nan\n",
      "\n",
      "{'cls_loss': tensor(nan, device='cuda:0'), 'num_cls': 0, 'reg_loss': tensor(nan, device='cuda:0'), 'num_reg': 10262, 'loss': tensor(nan, device='cuda:0')}\n",
      "Epoch 0.000, lr 0.00000, time 0.00\n"
     ]
    },
    {
     "name": "stderr",
     "output_type": "stream",
     "text": [
      "1055it [06:32,  2.73it/s]"
     ]
    },
    {
     "name": "stdout",
     "output_type": "stream",
     "text": [
      "Wed Jul 27 08:51:04 2022\n",
      "loss nan nan nan, ade1 nan, fde1 nan, ade nan, fde nan\n",
      "\n",
      "{'cls_loss': tensor(nan, device='cuda:0'), 'num_cls': 0, 'reg_loss': tensor(nan, device='cuda:0'), 'num_reg': 10721, 'loss': tensor(nan, device='cuda:0')}\n",
      "Epoch 0.000, lr 0.00000, time 0.00\n"
     ]
    },
    {
     "name": "stderr",
     "output_type": "stream",
     "text": [
      "1056it [06:33,  2.93it/s]"
     ]
    },
    {
     "name": "stdout",
     "output_type": "stream",
     "text": [
      "Wed Jul 27 08:51:04 2022\n",
      "loss nan nan nan, ade1 nan, fde1 nan, ade nan, fde nan\n",
      "\n",
      "{'cls_loss': tensor(nan, device='cuda:0'), 'num_cls': 0, 'reg_loss': tensor(nan, device='cuda:0'), 'num_reg': 9598, 'loss': tensor(nan, device='cuda:0')}\n",
      "Epoch 0.000, lr 0.00000, time 0.00\n"
     ]
    },
    {
     "name": "stderr",
     "output_type": "stream",
     "text": [
      "1057it [06:33,  3.05it/s]"
     ]
    },
    {
     "name": "stdout",
     "output_type": "stream",
     "text": [
      "Wed Jul 27 08:51:04 2022\n",
      "loss nan nan nan, ade1 nan, fde1 nan, ade nan, fde nan\n",
      "\n",
      "{'cls_loss': tensor(nan, device='cuda:0'), 'num_cls': 0, 'reg_loss': tensor(nan, device='cuda:0'), 'num_reg': 12055, 'loss': tensor(nan, device='cuda:0')}\n",
      "Epoch 0.000, lr 0.00000, time 0.00\n"
     ]
    },
    {
     "name": "stderr",
     "output_type": "stream",
     "text": [
      "1058it [06:33,  3.14it/s]"
     ]
    },
    {
     "name": "stdout",
     "output_type": "stream",
     "text": [
      "Wed Jul 27 08:51:05 2022\n",
      "loss nan nan nan, ade1 nan, fde1 nan, ade nan, fde nan\n",
      "\n",
      "{'cls_loss': tensor(nan, device='cuda:0'), 'num_cls': 0, 'reg_loss': tensor(nan, device='cuda:0'), 'num_reg': 11194, 'loss': tensor(nan, device='cuda:0')}\n",
      "Epoch 0.000, lr 0.00000, time 0.00\n"
     ]
    },
    {
     "name": "stderr",
     "output_type": "stream",
     "text": [
      "1059it [06:33,  3.20it/s]"
     ]
    },
    {
     "name": "stdout",
     "output_type": "stream",
     "text": [
      "Wed Jul 27 08:51:05 2022\n",
      "loss nan nan nan, ade1 nan, fde1 nan, ade nan, fde nan\n",
      "\n"
     ]
    },
    {
     "name": "stderr",
     "output_type": "stream",
     "text": [
      "1060it [06:34,  2.69it/s]"
     ]
    },
    {
     "name": "stdout",
     "output_type": "stream",
     "text": [
      "{'cls_loss': tensor(nan, device='cuda:0'), 'num_cls': 0, 'reg_loss': tensor(nan, device='cuda:0'), 'num_reg': 12560, 'loss': tensor(nan, device='cuda:0')}\n",
      "Epoch 0.000, lr 0.00000, time 0.00\n",
      "Wed Jul 27 08:51:06 2022\n",
      "loss nan nan nan, ade1 nan, fde1 nan, ade nan, fde nan\n",
      "\n"
     ]
    },
    {
     "name": "stderr",
     "output_type": "stream",
     "text": [
      "1061it [06:34,  2.87it/s]"
     ]
    },
    {
     "name": "stdout",
     "output_type": "stream",
     "text": [
      "{'cls_loss': tensor(nan, device='cuda:0'), 'num_cls': 0, 'reg_loss': tensor(nan, device='cuda:0'), 'num_reg': 11171, 'loss': tensor(nan, device='cuda:0')}\n",
      "Epoch 0.000, lr 0.00000, time 0.00\n",
      "Wed Jul 27 08:51:06 2022\n",
      "loss nan nan nan, ade1 nan, fde1 nan, ade nan, fde nan\n",
      "\n"
     ]
    },
    {
     "name": "stderr",
     "output_type": "stream",
     "text": [
      "1062it [06:34,  3.07it/s]"
     ]
    },
    {
     "name": "stdout",
     "output_type": "stream",
     "text": [
      "{'cls_loss': tensor(nan, device='cuda:0'), 'num_cls': 0, 'reg_loss': tensor(nan, device='cuda:0'), 'num_reg': 10949, 'loss': tensor(nan, device='cuda:0')}\n",
      "Epoch 0.000, lr 0.00000, time 0.00\n",
      "Wed Jul 27 08:51:06 2022\n",
      "loss nan nan nan, ade1 nan, fde1 nan, ade nan, fde nan\n",
      "\n"
     ]
    },
    {
     "name": "stderr",
     "output_type": "stream",
     "text": [
      "1063it [06:35,  3.14it/s]"
     ]
    },
    {
     "name": "stdout",
     "output_type": "stream",
     "text": [
      "{'cls_loss': tensor(nan, device='cuda:0'), 'num_cls': 0, 'reg_loss': tensor(nan, device='cuda:0'), 'num_reg': 12564, 'loss': tensor(nan, device='cuda:0')}\n",
      "Epoch 0.000, lr 0.00000, time 0.00\n",
      "Wed Jul 27 08:51:06 2022\n",
      "loss nan nan nan, ade1 nan, fde1 nan, ade nan, fde nan\n",
      "\n"
     ]
    },
    {
     "name": "stderr",
     "output_type": "stream",
     "text": [
      "1064it [06:35,  3.25it/s]"
     ]
    },
    {
     "name": "stdout",
     "output_type": "stream",
     "text": [
      "{'cls_loss': tensor(nan, device='cuda:0'), 'num_cls': 0, 'reg_loss': tensor(nan, device='cuda:0'), 'num_reg': 9679, 'loss': tensor(nan, device='cuda:0')}\n",
      "Epoch 0.000, lr 0.00000, time 0.00\n",
      "Wed Jul 27 08:51:07 2022\n",
      "loss nan nan nan, ade1 nan, fde1 nan, ade nan, fde nan\n",
      "\n"
     ]
    },
    {
     "name": "stderr",
     "output_type": "stream",
     "text": [
      "1065it [06:35,  3.28it/s]"
     ]
    },
    {
     "name": "stdout",
     "output_type": "stream",
     "text": [
      "{'cls_loss': tensor(nan, device='cuda:0'), 'num_cls': 0, 'reg_loss': tensor(nan, device='cuda:0'), 'num_reg': 10493, 'loss': tensor(nan, device='cuda:0')}\n",
      "Epoch 0.000, lr 0.00000, time 0.00\n",
      "Wed Jul 27 08:51:07 2022\n",
      "loss nan nan nan, ade1 nan, fde1 nan, ade nan, fde nan\n",
      "\n"
     ]
    },
    {
     "name": "stderr",
     "output_type": "stream",
     "text": [
      "1066it [06:36,  3.29it/s]"
     ]
    },
    {
     "name": "stdout",
     "output_type": "stream",
     "text": [
      "{'cls_loss': tensor(nan, device='cuda:0'), 'num_cls': 0, 'reg_loss': tensor(nan, device='cuda:0'), 'num_reg': 11118, 'loss': tensor(nan, device='cuda:0')}\n",
      "Epoch 0.000, lr 0.00000, time 0.00\n",
      "Wed Jul 27 08:51:07 2022\n",
      "loss nan nan nan, ade1 nan, fde1 nan, ade nan, fde nan\n",
      "\n"
     ]
    },
    {
     "name": "stderr",
     "output_type": "stream",
     "text": [
      "1067it [06:36,  3.30it/s]"
     ]
    },
    {
     "name": "stdout",
     "output_type": "stream",
     "text": [
      "{'cls_loss': tensor(nan, device='cuda:0'), 'num_cls': 0, 'reg_loss': tensor(nan, device='cuda:0'), 'num_reg': 9646, 'loss': tensor(nan, device='cuda:0')}\n",
      "Epoch 0.000, lr 0.00000, time 0.00\n",
      "Wed Jul 27 08:51:08 2022\n",
      "loss nan nan nan, ade1 nan, fde1 nan, ade nan, fde nan\n",
      "\n"
     ]
    },
    {
     "name": "stderr",
     "output_type": "stream",
     "text": [
      "1068it [06:36,  3.16it/s]"
     ]
    },
    {
     "name": "stdout",
     "output_type": "stream",
     "text": [
      "{'cls_loss': tensor(nan, device='cuda:0'), 'num_cls': 0, 'reg_loss': tensor(nan, device='cuda:0'), 'num_reg': 9121, 'loss': tensor(nan, device='cuda:0')}\n",
      "Epoch 0.000, lr 0.00000, time 0.00\n",
      "Wed Jul 27 08:51:08 2022\n",
      "loss nan nan nan, ade1 nan, fde1 nan, ade nan, fde nan\n",
      "\n"
     ]
    },
    {
     "name": "stderr",
     "output_type": "stream",
     "text": [
      "1069it [06:37,  3.21it/s]"
     ]
    },
    {
     "name": "stdout",
     "output_type": "stream",
     "text": [
      "{'cls_loss': tensor(nan, device='cuda:0'), 'num_cls': 0, 'reg_loss': tensor(nan, device='cuda:0'), 'num_reg': 12090, 'loss': tensor(nan, device='cuda:0')}\n",
      "Epoch 0.000, lr 0.00000, time 0.00\n",
      "Wed Jul 27 08:51:08 2022\n",
      "loss nan nan nan, ade1 nan, fde1 nan, ade nan, fde nan\n",
      "\n"
     ]
    },
    {
     "name": "stderr",
     "output_type": "stream",
     "text": [
      "1070it [06:37,  3.25it/s]"
     ]
    },
    {
     "name": "stdout",
     "output_type": "stream",
     "text": [
      "{'cls_loss': tensor(nan, device='cuda:0'), 'num_cls': 0, 'reg_loss': tensor(nan, device='cuda:0'), 'num_reg': 12412, 'loss': tensor(nan, device='cuda:0')}\n",
      "Epoch 0.000, lr 0.00000, time 0.00\n",
      "Wed Jul 27 08:51:09 2022\n",
      "loss nan nan nan, ade1 nan, fde1 nan, ade nan, fde nan\n",
      "\n"
     ]
    },
    {
     "name": "stderr",
     "output_type": "stream",
     "text": [
      "1071it [06:37,  3.27it/s]"
     ]
    },
    {
     "name": "stdout",
     "output_type": "stream",
     "text": [
      "{'cls_loss': tensor(nan, device='cuda:0'), 'num_cls': 0, 'reg_loss': tensor(nan, device='cuda:0'), 'num_reg': 11699, 'loss': tensor(nan, device='cuda:0')}\n",
      "Epoch 0.000, lr 0.00000, time 0.00\n",
      "Wed Jul 27 08:51:09 2022\n",
      "loss nan nan nan, ade1 nan, fde1 nan, ade nan, fde nan\n",
      "\n"
     ]
    },
    {
     "name": "stderr",
     "output_type": "stream",
     "text": [
      "1072it [06:38,  3.19it/s]"
     ]
    },
    {
     "name": "stdout",
     "output_type": "stream",
     "text": [
      "{'cls_loss': tensor(nan, device='cuda:0'), 'num_cls': 0, 'reg_loss': tensor(nan, device='cuda:0'), 'num_reg': 11804, 'loss': tensor(nan, device='cuda:0')}\n",
      "Epoch 0.000, lr 0.00000, time 0.00\n",
      "Wed Jul 27 08:51:09 2022\n",
      "loss nan nan nan, ade1 nan, fde1 nan, ade nan, fde nan\n",
      "\n"
     ]
    },
    {
     "name": "stderr",
     "output_type": "stream",
     "text": [
      "1073it [06:38,  3.24it/s]"
     ]
    },
    {
     "name": "stdout",
     "output_type": "stream",
     "text": [
      "{'cls_loss': tensor(nan, device='cuda:0'), 'num_cls': 0, 'reg_loss': tensor(nan, device='cuda:0'), 'num_reg': 11061, 'loss': tensor(nan, device='cuda:0')}\n",
      "Epoch 0.000, lr 0.00000, time 0.00\n",
      "Wed Jul 27 08:51:09 2022\n",
      "loss nan nan nan, ade1 nan, fde1 nan, ade nan, fde nan\n",
      "\n"
     ]
    },
    {
     "name": "stderr",
     "output_type": "stream",
     "text": [
      "1074it [06:38,  3.30it/s]"
     ]
    },
    {
     "name": "stdout",
     "output_type": "stream",
     "text": [
      "{'cls_loss': tensor(nan, device='cuda:0'), 'num_cls': 0, 'reg_loss': tensor(nan, device='cuda:0'), 'num_reg': 10842, 'loss': tensor(nan, device='cuda:0')}\n",
      "Epoch 0.000, lr 0.00000, time 0.00\n",
      "Wed Jul 27 08:51:10 2022\n",
      "loss nan nan nan, ade1 nan, fde1 nan, ade nan, fde nan\n",
      "\n"
     ]
    },
    {
     "name": "stderr",
     "output_type": "stream",
     "text": [
      "1075it [06:38,  3.32it/s]"
     ]
    },
    {
     "name": "stdout",
     "output_type": "stream",
     "text": [
      "{'cls_loss': tensor(nan, device='cuda:0'), 'num_cls': 0, 'reg_loss': tensor(nan, device='cuda:0'), 'num_reg': 12109, 'loss': tensor(nan, device='cuda:0')}\n",
      "Epoch 0.000, lr 0.00000, time 0.00\n",
      "Wed Jul 27 08:51:10 2022\n",
      "loss nan nan nan, ade1 nan, fde1 nan, ade nan, fde nan\n",
      "\n"
     ]
    },
    {
     "name": "stderr",
     "output_type": "stream",
     "text": [
      "1076it [06:39,  3.38it/s]"
     ]
    },
    {
     "name": "stdout",
     "output_type": "stream",
     "text": [
      "{'cls_loss': tensor(nan, device='cuda:0'), 'num_cls': 0, 'reg_loss': tensor(nan, device='cuda:0'), 'num_reg': 12012, 'loss': tensor(nan, device='cuda:0')}\n",
      "Epoch 0.000, lr 0.00000, time 0.00\n",
      "Wed Jul 27 08:51:10 2022\n",
      "loss nan nan nan, ade1 nan, fde1 nan, ade nan, fde nan\n",
      "\n"
     ]
    },
    {
     "name": "stderr",
     "output_type": "stream",
     "text": [
      "1077it [06:39,  3.34it/s]"
     ]
    },
    {
     "name": "stdout",
     "output_type": "stream",
     "text": [
      "{'cls_loss': tensor(nan, device='cuda:0'), 'num_cls': 0, 'reg_loss': tensor(nan, device='cuda:0'), 'num_reg': 12032, 'loss': tensor(nan, device='cuda:0')}\n",
      "Epoch 0.000, lr 0.00000, time 0.00\n",
      "Wed Jul 27 08:51:11 2022\n",
      "loss nan nan nan, ade1 nan, fde1 nan, ade nan, fde nan\n",
      "\n"
     ]
    },
    {
     "name": "stderr",
     "output_type": "stream",
     "text": [
      "1078it [06:39,  3.38it/s]"
     ]
    },
    {
     "name": "stdout",
     "output_type": "stream",
     "text": [
      "{'cls_loss': tensor(nan, device='cuda:0'), 'num_cls': 0, 'reg_loss': tensor(nan, device='cuda:0'), 'num_reg': 10408, 'loss': tensor(nan, device='cuda:0')}\n",
      "Epoch 0.000, lr 0.00000, time 0.00\n",
      "Wed Jul 27 08:51:11 2022\n",
      "loss nan nan nan, ade1 nan, fde1 nan, ade nan, fde nan\n",
      "\n"
     ]
    },
    {
     "name": "stderr",
     "output_type": "stream",
     "text": [
      "1079it [06:40,  3.33it/s]"
     ]
    },
    {
     "name": "stdout",
     "output_type": "stream",
     "text": [
      "{'cls_loss': tensor(nan, device='cuda:0'), 'num_cls': 0, 'reg_loss': tensor(nan, device='cuda:0'), 'num_reg': 12341, 'loss': tensor(nan, device='cuda:0')}\n",
      "Epoch 0.000, lr 0.00000, time 0.00\n",
      "Wed Jul 27 08:51:11 2022\n",
      "loss nan nan nan, ade1 nan, fde1 nan, ade nan, fde nan\n",
      "\n"
     ]
    },
    {
     "name": "stderr",
     "output_type": "stream",
     "text": [
      "1080it [06:40,  3.37it/s]"
     ]
    },
    {
     "name": "stdout",
     "output_type": "stream",
     "text": [
      "{'cls_loss': tensor(nan, device='cuda:0'), 'num_cls': 0, 'reg_loss': tensor(nan, device='cuda:0'), 'num_reg': 10299, 'loss': tensor(nan, device='cuda:0')}\n",
      "Epoch 0.000, lr 0.00000, time 0.00\n",
      "Wed Jul 27 08:51:12 2022\n",
      "loss nan nan nan, ade1 nan, fde1 nan, ade nan, fde nan\n",
      "\n"
     ]
    },
    {
     "name": "stderr",
     "output_type": "stream",
     "text": [
      "1081it [06:40,  3.36it/s]"
     ]
    },
    {
     "name": "stdout",
     "output_type": "stream",
     "text": [
      "{'cls_loss': tensor(nan, device='cuda:0'), 'num_cls': 0, 'reg_loss': tensor(nan, device='cuda:0'), 'num_reg': 10117, 'loss': tensor(nan, device='cuda:0')}\n",
      "Epoch 0.000, lr 0.00000, time 0.00\n",
      "Wed Jul 27 08:51:12 2022\n",
      "loss nan nan nan, ade1 nan, fde1 nan, ade nan, fde nan\n",
      "\n"
     ]
    },
    {
     "name": "stderr",
     "output_type": "stream",
     "text": [
      "1082it [06:40,  3.40it/s]"
     ]
    },
    {
     "name": "stdout",
     "output_type": "stream",
     "text": [
      "{'cls_loss': tensor(nan, device='cuda:0'), 'num_cls': 0, 'reg_loss': tensor(nan, device='cuda:0'), 'num_reg': 10118, 'loss': tensor(nan, device='cuda:0')}\n",
      "Epoch 0.000, lr 0.00000, time 0.00\n",
      "Wed Jul 27 08:51:12 2022\n",
      "loss nan nan nan, ade1 nan, fde1 nan, ade nan, fde nan\n",
      "\n"
     ]
    },
    {
     "name": "stderr",
     "output_type": "stream",
     "text": [
      "1083it [06:41,  3.35it/s]"
     ]
    },
    {
     "name": "stdout",
     "output_type": "stream",
     "text": [
      "{'cls_loss': tensor(nan, device='cuda:0'), 'num_cls': 0, 'reg_loss': tensor(nan, device='cuda:0'), 'num_reg': 12122, 'loss': tensor(nan, device='cuda:0')}\n",
      "Epoch 0.000, lr 0.00000, time 0.00\n",
      "Wed Jul 27 08:51:12 2022\n",
      "loss nan nan nan, ade1 nan, fde1 nan, ade nan, fde nan\n",
      "\n"
     ]
    },
    {
     "name": "stderr",
     "output_type": "stream",
     "text": [
      "1084it [06:41,  3.31it/s]"
     ]
    },
    {
     "name": "stdout",
     "output_type": "stream",
     "text": [
      "{'cls_loss': tensor(nan, device='cuda:0'), 'num_cls': 0, 'reg_loss': tensor(nan, device='cuda:0'), 'num_reg': 9898, 'loss': tensor(nan, device='cuda:0')}\n",
      "Epoch 0.000, lr 0.00000, time 0.00\n",
      "Wed Jul 27 08:51:13 2022\n",
      "loss nan nan nan, ade1 nan, fde1 nan, ade nan, fde nan\n",
      "\n"
     ]
    },
    {
     "name": "stderr",
     "output_type": "stream",
     "text": [
      "1085it [06:41,  3.26it/s]"
     ]
    },
    {
     "name": "stdout",
     "output_type": "stream",
     "text": [
      "{'cls_loss': tensor(nan, device='cuda:0'), 'num_cls': 0, 'reg_loss': tensor(nan, device='cuda:0'), 'num_reg': 12521, 'loss': tensor(nan, device='cuda:0')}\n",
      "Epoch 0.000, lr 0.00000, time 0.00\n",
      "Wed Jul 27 08:51:13 2022\n",
      "loss nan nan nan, ade1 nan, fde1 nan, ade nan, fde nan\n",
      "\n"
     ]
    },
    {
     "name": "stderr",
     "output_type": "stream",
     "text": [
      "1086it [06:42,  3.25it/s]"
     ]
    },
    {
     "name": "stdout",
     "output_type": "stream",
     "text": [
      "{'cls_loss': tensor(nan, device='cuda:0'), 'num_cls': 0, 'reg_loss': tensor(nan, device='cuda:0'), 'num_reg': 10992, 'loss': tensor(nan, device='cuda:0')}\n",
      "Epoch 0.000, lr 0.00000, time 0.00\n",
      "Wed Jul 27 08:51:13 2022\n",
      "loss nan nan nan, ade1 nan, fde1 nan, ade nan, fde nan\n",
      "\n"
     ]
    },
    {
     "name": "stderr",
     "output_type": "stream",
     "text": [
      "1087it [06:42,  3.27it/s]"
     ]
    },
    {
     "name": "stdout",
     "output_type": "stream",
     "text": [
      "{'cls_loss': tensor(nan, device='cuda:0'), 'num_cls': 0, 'reg_loss': tensor(nan, device='cuda:0'), 'num_reg': 10157, 'loss': tensor(nan, device='cuda:0')}\n",
      "Epoch 0.000, lr 0.00000, time 0.00\n",
      "Wed Jul 27 08:51:14 2022\n",
      "loss nan nan nan, ade1 nan, fde1 nan, ade nan, fde nan\n",
      "\n",
      "{'cls_loss': tensor(nan, device='cuda:0'), 'num_cls': 0, 'reg_loss': tensor(nan, device='cuda:0'), 'num_reg': 9912, 'loss': tensor(nan, device='cuda:0')}\n",
      "Epoch 0.000, lr 0.00000, time 0.00\n"
     ]
    },
    {
     "name": "stderr",
     "output_type": "stream",
     "text": [
      "1088it [06:43,  2.18it/s]"
     ]
    },
    {
     "name": "stdout",
     "output_type": "stream",
     "text": [
      "Wed Jul 27 08:51:14 2022\n",
      "loss nan nan nan, ade1 nan, fde1 nan, ade nan, fde nan\n",
      "\n",
      "{'cls_loss': tensor(nan, device='cuda:0'), 'num_cls': 0, 'reg_loss': tensor(nan, device='cuda:0'), 'num_reg': 9873, 'loss': tensor(nan, device='cuda:0')}\n",
      "Epoch 0.000, lr 0.00000, time 0.00\n"
     ]
    },
    {
     "name": "stderr",
     "output_type": "stream",
     "text": [
      "1089it [06:43,  2.04it/s]"
     ]
    },
    {
     "name": "stdout",
     "output_type": "stream",
     "text": [
      "Wed Jul 27 08:51:15 2022\n",
      "loss nan nan nan, ade1 nan, fde1 nan, ade nan, fde nan\n",
      "\n",
      "{'cls_loss': tensor(nan, device='cuda:0'), 'num_cls': 0, 'reg_loss': tensor(nan, device='cuda:0'), 'num_reg': 10556, 'loss': tensor(nan, device='cuda:0')}\n",
      "Epoch 0.000, lr 0.00000, time 0.00\n"
     ]
    },
    {
     "name": "stderr",
     "output_type": "stream",
     "text": [
      "1090it [06:44,  2.30it/s]"
     ]
    },
    {
     "name": "stdout",
     "output_type": "stream",
     "text": [
      "Wed Jul 27 08:51:15 2022\n",
      "loss nan nan nan, ade1 nan, fde1 nan, ade nan, fde nan\n",
      "\n",
      "{'cls_loss': tensor(nan, device='cuda:0'), 'num_cls': 0, 'reg_loss': tensor(nan, device='cuda:0'), 'num_reg': 11497, 'loss': tensor(nan, device='cuda:0')}\n",
      "Epoch 0.000, lr 0.00000, time 0.00\n"
     ]
    },
    {
     "name": "stderr",
     "output_type": "stream",
     "text": [
      "1091it [06:44,  2.51it/s]"
     ]
    },
    {
     "name": "stdout",
     "output_type": "stream",
     "text": [
      "Wed Jul 27 08:51:16 2022\n",
      "loss nan nan nan, ade1 nan, fde1 nan, ade nan, fde nan\n",
      "\n",
      "{'cls_loss': tensor(nan, device='cuda:0'), 'num_cls': 0, 'reg_loss': tensor(nan, device='cuda:0'), 'num_reg': 8814, 'loss': tensor(nan, device='cuda:0')}\n",
      "Epoch 0.000, lr 0.00000, time 0.00\n"
     ]
    },
    {
     "name": "stderr",
     "output_type": "stream",
     "text": [
      "1092it [06:44,  2.74it/s]"
     ]
    },
    {
     "name": "stdout",
     "output_type": "stream",
     "text": [
      "Wed Jul 27 08:51:16 2022\n",
      "loss nan nan nan, ade1 nan, fde1 nan, ade nan, fde nan\n",
      "\n",
      "{'cls_loss': tensor(nan, device='cuda:0'), 'num_cls': 0, 'reg_loss': tensor(nan, device='cuda:0'), 'num_reg': 11232, 'loss': tensor(nan, device='cuda:0')}\n",
      "Epoch 0.000, lr 0.00000, time 0.00\n"
     ]
    },
    {
     "name": "stderr",
     "output_type": "stream",
     "text": [
      "1093it [06:45,  2.87it/s]"
     ]
    },
    {
     "name": "stdout",
     "output_type": "stream",
     "text": [
      "Wed Jul 27 08:51:16 2022\n",
      "loss nan nan nan, ade1 nan, fde1 nan, ade nan, fde nan\n",
      "\n",
      "{'cls_loss': tensor(nan, device='cuda:0'), 'num_cls': 0, 'reg_loss': tensor(nan, device='cuda:0'), 'num_reg': 12266, 'loss': tensor(nan, device='cuda:0')}\n",
      "Epoch 0.000, lr 0.00000, time 0.00\n"
     ]
    },
    {
     "name": "stderr",
     "output_type": "stream",
     "text": [
      "1094it [06:45,  2.94it/s]"
     ]
    },
    {
     "name": "stdout",
     "output_type": "stream",
     "text": [
      "Wed Jul 27 08:51:17 2022\n",
      "loss nan nan nan, ade1 nan, fde1 nan, ade nan, fde nan\n",
      "\n",
      "{'cls_loss': tensor(nan, device='cuda:0'), 'num_cls': 0, 'reg_loss': tensor(nan, device='cuda:0'), 'num_reg': 12107, 'loss': tensor(nan, device='cuda:0')}\n",
      "Epoch 0.000, lr 0.00000, time 0.00\n"
     ]
    },
    {
     "name": "stderr",
     "output_type": "stream",
     "text": [
      "1095it [06:45,  2.82it/s]"
     ]
    },
    {
     "name": "stdout",
     "output_type": "stream",
     "text": [
      "Wed Jul 27 08:51:17 2022\n",
      "loss nan nan nan, ade1 nan, fde1 nan, ade nan, fde nan\n",
      "\n",
      "{'cls_loss': tensor(nan, device='cuda:0'), 'num_cls': 0, 'reg_loss': tensor(nan, device='cuda:0'), 'num_reg': 11849, 'loss': tensor(nan, device='cuda:0')}\n",
      "Epoch 0.000, lr 0.00000, time 0.00\n"
     ]
    },
    {
     "name": "stderr",
     "output_type": "stream",
     "text": [
      "1096it [06:46,  2.94it/s]"
     ]
    },
    {
     "name": "stdout",
     "output_type": "stream",
     "text": [
      "Wed Jul 27 08:51:17 2022\n",
      "loss nan nan nan, ade1 nan, fde1 nan, ade nan, fde nan\n",
      "\n"
     ]
    },
    {
     "name": "stderr",
     "output_type": "stream",
     "text": [
      "1097it [06:46,  2.48it/s]"
     ]
    },
    {
     "name": "stdout",
     "output_type": "stream",
     "text": [
      "{'cls_loss': tensor(nan, device='cuda:0'), 'num_cls': 0, 'reg_loss': tensor(nan, device='cuda:0'), 'num_reg': 11440, 'loss': tensor(nan, device='cuda:0')}\n",
      "Epoch 0.000, lr 0.00000, time 0.00\n",
      "Wed Jul 27 08:51:18 2022\n",
      "loss nan nan nan, ade1 nan, fde1 nan, ade nan, fde nan\n",
      "\n"
     ]
    },
    {
     "name": "stderr",
     "output_type": "stream",
     "text": [
      "1098it [06:46,  2.71it/s]"
     ]
    },
    {
     "name": "stdout",
     "output_type": "stream",
     "text": [
      "{'cls_loss': tensor(nan, device='cuda:0'), 'num_cls': 0, 'reg_loss': tensor(nan, device='cuda:0'), 'num_reg': 10327, 'loss': tensor(nan, device='cuda:0')}\n",
      "Epoch 0.000, lr 0.00000, time 0.00\n",
      "Wed Jul 27 08:51:18 2022\n",
      "loss nan nan nan, ade1 nan, fde1 nan, ade nan, fde nan\n",
      "\n"
     ]
    },
    {
     "name": "stderr",
     "output_type": "stream",
     "text": [
      "1099it [06:47,  2.85it/s]"
     ]
    },
    {
     "name": "stdout",
     "output_type": "stream",
     "text": [
      "{'cls_loss': tensor(nan, device='cuda:0'), 'num_cls': 0, 'reg_loss': tensor(nan, device='cuda:0'), 'num_reg': 11289, 'loss': tensor(nan, device='cuda:0')}\n",
      "Epoch 0.000, lr 0.00000, time 0.00\n",
      "Wed Jul 27 08:51:18 2022\n",
      "loss nan nan nan, ade1 nan, fde1 nan, ade nan, fde nan\n",
      "\n"
     ]
    },
    {
     "name": "stderr",
     "output_type": "stream",
     "text": [
      "1100it [06:47,  3.00it/s]"
     ]
    },
    {
     "name": "stdout",
     "output_type": "stream",
     "text": [
      "{'cls_loss': tensor(nan, device='cuda:0'), 'num_cls': 0, 'reg_loss': tensor(nan, device='cuda:0'), 'num_reg': 11319, 'loss': tensor(nan, device='cuda:0')}\n",
      "Epoch 0.000, lr 0.00000, time 0.00\n",
      "Wed Jul 27 08:51:19 2022\n",
      "loss nan nan nan, ade1 nan, fde1 nan, ade nan, fde nan\n",
      "\n"
     ]
    },
    {
     "name": "stderr",
     "output_type": "stream",
     "text": [
      "1101it [06:47,  2.90it/s]"
     ]
    },
    {
     "name": "stdout",
     "output_type": "stream",
     "text": [
      "{'cls_loss': tensor(nan, device='cuda:0'), 'num_cls': 0, 'reg_loss': tensor(nan, device='cuda:0'), 'num_reg': 9941, 'loss': tensor(nan, device='cuda:0')}\n",
      "Epoch 0.000, lr 0.00000, time 0.00\n",
      "Wed Jul 27 08:51:19 2022\n",
      "loss nan nan nan, ade1 nan, fde1 nan, ade nan, fde nan\n",
      "\n"
     ]
    },
    {
     "name": "stderr",
     "output_type": "stream",
     "text": [
      "1102it [06:48,  3.02it/s]"
     ]
    },
    {
     "name": "stdout",
     "output_type": "stream",
     "text": [
      "{'cls_loss': tensor(nan, device='cuda:0'), 'num_cls': 0, 'reg_loss': tensor(nan, device='cuda:0'), 'num_reg': 13040, 'loss': tensor(nan, device='cuda:0')}\n",
      "Epoch 0.000, lr 0.00000, time 0.00\n",
      "Wed Jul 27 08:51:19 2022\n",
      "loss nan nan nan, ade1 nan, fde1 nan, ade nan, fde nan\n",
      "\n"
     ]
    },
    {
     "name": "stderr",
     "output_type": "stream",
     "text": [
      "1103it [06:48,  3.06it/s]"
     ]
    },
    {
     "name": "stdout",
     "output_type": "stream",
     "text": [
      "{'cls_loss': tensor(nan, device='cuda:0'), 'num_cls': 0, 'reg_loss': tensor(nan, device='cuda:0'), 'num_reg': 13002, 'loss': tensor(nan, device='cuda:0')}\n",
      "Epoch 0.000, lr 0.00000, time 0.00\n",
      "Wed Jul 27 08:51:20 2022\n",
      "loss nan nan nan, ade1 nan, fde1 nan, ade nan, fde nan\n",
      "\n"
     ]
    },
    {
     "name": "stderr",
     "output_type": "stream",
     "text": [
      "1104it [06:48,  3.10it/s]"
     ]
    },
    {
     "name": "stdout",
     "output_type": "stream",
     "text": [
      "{'cls_loss': tensor(nan, device='cuda:0'), 'num_cls': 0, 'reg_loss': tensor(nan, device='cuda:0'), 'num_reg': 9180, 'loss': tensor(nan, device='cuda:0')}\n",
      "Epoch 0.000, lr 0.00000, time 0.00\n",
      "Wed Jul 27 08:51:20 2022\n",
      "loss nan nan nan, ade1 nan, fde1 nan, ade nan, fde nan\n",
      "\n"
     ]
    },
    {
     "name": "stderr",
     "output_type": "stream",
     "text": [
      "1105it [06:49,  3.14it/s]"
     ]
    },
    {
     "name": "stdout",
     "output_type": "stream",
     "text": [
      "{'cls_loss': tensor(nan, device='cuda:0'), 'num_cls': 0, 'reg_loss': tensor(nan, device='cuda:0'), 'num_reg': 11860, 'loss': tensor(nan, device='cuda:0')}\n",
      "Epoch 0.000, lr 0.00000, time 0.00\n",
      "Wed Jul 27 08:51:20 2022\n",
      "loss nan nan nan, ade1 nan, fde1 nan, ade nan, fde nan\n",
      "\n"
     ]
    },
    {
     "name": "stderr",
     "output_type": "stream",
     "text": [
      "1106it [06:49,  3.21it/s]"
     ]
    },
    {
     "name": "stdout",
     "output_type": "stream",
     "text": [
      "{'cls_loss': tensor(nan, device='cuda:0'), 'num_cls': 0, 'reg_loss': tensor(nan, device='cuda:0'), 'num_reg': 11445, 'loss': tensor(nan, device='cuda:0')}\n",
      "Epoch 0.000, lr 0.00000, time 0.00\n",
      "Wed Jul 27 08:51:21 2022\n",
      "loss nan nan nan, ade1 nan, fde1 nan, ade nan, fde nan\n",
      "\n"
     ]
    },
    {
     "name": "stderr",
     "output_type": "stream",
     "text": [
      "1107it [06:49,  3.16it/s]"
     ]
    },
    {
     "name": "stdout",
     "output_type": "stream",
     "text": [
      "{'cls_loss': tensor(nan, device='cuda:0'), 'num_cls': 0, 'reg_loss': tensor(nan, device='cuda:0'), 'num_reg': 11879, 'loss': tensor(nan, device='cuda:0')}\n",
      "Epoch 0.000, lr 0.00000, time 0.00\n",
      "Wed Jul 27 08:51:21 2022\n",
      "loss nan nan nan, ade1 nan, fde1 nan, ade nan, fde nan\n",
      "\n"
     ]
    },
    {
     "name": "stderr",
     "output_type": "stream",
     "text": [
      "1108it [06:50,  3.07it/s]"
     ]
    },
    {
     "name": "stdout",
     "output_type": "stream",
     "text": [
      "{'cls_loss': tensor(nan, device='cuda:0'), 'num_cls': 0, 'reg_loss': tensor(nan, device='cuda:0'), 'num_reg': 13456, 'loss': tensor(nan, device='cuda:0')}\n",
      "Epoch 0.000, lr 0.00000, time 0.00\n",
      "Wed Jul 27 08:51:21 2022\n",
      "loss nan nan nan, ade1 nan, fde1 nan, ade nan, fde nan\n",
      "\n"
     ]
    },
    {
     "name": "stderr",
     "output_type": "stream",
     "text": [
      "1109it [06:50,  3.16it/s]"
     ]
    },
    {
     "name": "stdout",
     "output_type": "stream",
     "text": [
      "{'cls_loss': tensor(nan, device='cuda:0'), 'num_cls': 0, 'reg_loss': tensor(nan, device='cuda:0'), 'num_reg': 10198, 'loss': tensor(nan, device='cuda:0')}\n",
      "Epoch 0.000, lr 0.00000, time 0.00\n",
      "Wed Jul 27 08:51:22 2022\n",
      "loss nan nan nan, ade1 nan, fde1 nan, ade nan, fde nan\n",
      "\n"
     ]
    },
    {
     "name": "stderr",
     "output_type": "stream",
     "text": [
      "1110it [06:50,  2.95it/s]"
     ]
    },
    {
     "name": "stdout",
     "output_type": "stream",
     "text": [
      "{'cls_loss': tensor(nan, device='cuda:0'), 'num_cls': 0, 'reg_loss': tensor(nan, device='cuda:0'), 'num_reg': 13663, 'loss': tensor(nan, device='cuda:0')}\n",
      "Epoch 0.000, lr 0.00000, time 0.00\n",
      "Wed Jul 27 08:51:22 2022\n",
      "loss nan nan nan, ade1 nan, fde1 nan, ade nan, fde nan\n",
      "\n"
     ]
    },
    {
     "name": "stderr",
     "output_type": "stream",
     "text": [
      "1111it [06:51,  3.01it/s]"
     ]
    },
    {
     "name": "stdout",
     "output_type": "stream",
     "text": [
      "{'cls_loss': tensor(nan, device='cuda:0'), 'num_cls': 0, 'reg_loss': tensor(nan, device='cuda:0'), 'num_reg': 13052, 'loss': tensor(nan, device='cuda:0')}\n",
      "Epoch 0.000, lr 0.00000, time 0.00\n",
      "Wed Jul 27 08:51:22 2022\n",
      "loss nan nan nan, ade1 nan, fde1 nan, ade nan, fde nan\n",
      "\n"
     ]
    },
    {
     "name": "stderr",
     "output_type": "stream",
     "text": [
      "1112it [06:51,  3.13it/s]"
     ]
    },
    {
     "name": "stdout",
     "output_type": "stream",
     "text": [
      "{'cls_loss': tensor(nan, device='cuda:0'), 'num_cls': 0, 'reg_loss': tensor(nan, device='cuda:0'), 'num_reg': 12164, 'loss': tensor(nan, device='cuda:0')}\n",
      "Epoch 0.000, lr 0.00000, time 0.00\n",
      "Wed Jul 27 08:51:23 2022\n",
      "loss nan nan nan, ade1 nan, fde1 nan, ade nan, fde nan\n",
      "\n",
      "{'cls_loss': tensor(nan, device='cuda:0'), 'num_cls': 0, 'reg_loss': tensor(nan, device='cuda:0'), 'num_reg': 8398, 'loss': tensor(nan, device='cuda:0')}\n",
      "Epoch 0.000, lr 0.00000, time 0.00\n"
     ]
    },
    {
     "name": "stderr",
     "output_type": "stream",
     "text": [
      "1113it [06:52,  2.58it/s]"
     ]
    },
    {
     "name": "stdout",
     "output_type": "stream",
     "text": [
      "Wed Jul 27 08:51:23 2022\n",
      "loss nan nan nan, ade1 nan, fde1 nan, ade nan, fde nan\n",
      "\n",
      "{'cls_loss': tensor(nan, device='cuda:0'), 'num_cls': 0, 'reg_loss': tensor(nan, device='cuda:0'), 'num_reg': 13163, 'loss': tensor(nan, device='cuda:0')}\n",
      "Epoch 0.000, lr 0.00000, time 0.00\n"
     ]
    },
    {
     "name": "stderr",
     "output_type": "stream",
     "text": [
      "1114it [06:52,  2.76it/s]"
     ]
    },
    {
     "name": "stdout",
     "output_type": "stream",
     "text": [
      "Wed Jul 27 08:51:23 2022\n",
      "loss nan nan nan, ade1 nan, fde1 nan, ade nan, fde nan\n",
      "\n",
      "{'cls_loss': tensor(nan, device='cuda:0'), 'num_cls': 0, 'reg_loss': tensor(nan, device='cuda:0'), 'num_reg': 10345, 'loss': tensor(nan, device='cuda:0')}\n",
      "Epoch 0.000, lr 0.00000, time 0.00\n"
     ]
    },
    {
     "name": "stderr",
     "output_type": "stream",
     "text": [
      "1115it [06:52,  2.92it/s]"
     ]
    },
    {
     "name": "stdout",
     "output_type": "stream",
     "text": [
      "Wed Jul 27 08:51:24 2022\n",
      "loss nan nan nan, ade1 nan, fde1 nan, ade nan, fde nan\n",
      "\n",
      "{'cls_loss': tensor(nan, device='cuda:0'), 'num_cls': 0, 'reg_loss': tensor(nan, device='cuda:0'), 'num_reg': 9675, 'loss': tensor(nan, device='cuda:0')}\n",
      "Epoch 0.000, lr 0.00000, time 0.00\n"
     ]
    },
    {
     "name": "stderr",
     "output_type": "stream",
     "text": [
      "1116it [06:52,  3.06it/s]"
     ]
    },
    {
     "name": "stdout",
     "output_type": "stream",
     "text": [
      "Wed Jul 27 08:51:24 2022\n",
      "loss nan nan nan, ade1 nan, fde1 nan, ade nan, fde nan\n",
      "\n",
      "{'cls_loss': tensor(nan, device='cuda:0'), 'num_cls': 0, 'reg_loss': tensor(nan, device='cuda:0'), 'num_reg': 13339, 'loss': tensor(nan, device='cuda:0')}\n",
      "Epoch 0.000, lr 0.00000, time 0.00\n"
     ]
    },
    {
     "name": "stderr",
     "output_type": "stream",
     "text": [
      "1117it [06:53,  3.10it/s]"
     ]
    },
    {
     "name": "stdout",
     "output_type": "stream",
     "text": [
      "Wed Jul 27 08:51:24 2022\n",
      "loss nan nan nan, ade1 nan, fde1 nan, ade nan, fde nan\n",
      "\n",
      "{'cls_loss': tensor(nan, device='cuda:0'), 'num_cls': 0, 'reg_loss': tensor(nan, device='cuda:0'), 'num_reg': 11975, 'loss': tensor(nan, device='cuda:0')}\n",
      "Epoch 0.000, lr 0.00000, time 0.00\n"
     ]
    },
    {
     "name": "stderr",
     "output_type": "stream",
     "text": [
      "1118it [06:53,  3.17it/s]"
     ]
    },
    {
     "name": "stdout",
     "output_type": "stream",
     "text": [
      "Wed Jul 27 08:51:25 2022\n",
      "loss nan nan nan, ade1 nan, fde1 nan, ade nan, fde nan\n",
      "\n",
      "{'cls_loss': tensor(nan, device='cuda:0'), 'num_cls': 0, 'reg_loss': tensor(nan, device='cuda:0'), 'num_reg': 11225, 'loss': tensor(nan, device='cuda:0')}\n",
      "Epoch 0.000, lr 0.00000, time 0.00\n"
     ]
    },
    {
     "name": "stderr",
     "output_type": "stream",
     "text": [
      "1119it [06:53,  3.20it/s]"
     ]
    },
    {
     "name": "stdout",
     "output_type": "stream",
     "text": [
      "Wed Jul 27 08:51:25 2022\n",
      "loss nan nan nan, ade1 nan, fde1 nan, ade nan, fde nan\n",
      "\n",
      "{'cls_loss': tensor(nan, device='cuda:0'), 'num_cls': 0, 'reg_loss': tensor(nan, device='cuda:0'), 'num_reg': 9949, 'loss': tensor(nan, device='cuda:0')}\n",
      "Epoch 0.000, lr 0.00000, time 0.00\n"
     ]
    },
    {
     "name": "stderr",
     "output_type": "stream",
     "text": [
      "1120it [06:54,  3.22it/s]"
     ]
    },
    {
     "name": "stdout",
     "output_type": "stream",
     "text": [
      "Wed Jul 27 08:51:25 2022\n",
      "loss nan nan nan, ade1 nan, fde1 nan, ade nan, fde nan\n",
      "\n",
      "{'cls_loss': tensor(nan, device='cuda:0'), 'num_cls': 0, 'reg_loss': tensor(nan, device='cuda:0'), 'num_reg': 9963, 'loss': tensor(nan, device='cuda:0')}\n",
      "Epoch 0.000, lr 0.00000, time 0.00\n"
     ]
    },
    {
     "name": "stderr",
     "output_type": "stream",
     "text": [
      "1121it [06:54,  3.21it/s]"
     ]
    },
    {
     "name": "stdout",
     "output_type": "stream",
     "text": [
      "Wed Jul 27 08:51:26 2022\n",
      "loss nan nan nan, ade1 nan, fde1 nan, ade nan, fde nan\n",
      "\n",
      "{'cls_loss': tensor(nan, device='cuda:0'), 'num_cls': 0, 'reg_loss': tensor(nan, device='cuda:0'), 'num_reg': 11792, 'loss': tensor(nan, device='cuda:0')}\n",
      "Epoch 0.000, lr 0.00000, time 0.00\n"
     ]
    },
    {
     "name": "stderr",
     "output_type": "stream",
     "text": [
      "1122it [06:54,  3.28it/s]"
     ]
    },
    {
     "name": "stdout",
     "output_type": "stream",
     "text": [
      "Wed Jul 27 08:51:26 2022\n",
      "loss nan nan nan, ade1 nan, fde1 nan, ade nan, fde nan\n",
      "\n",
      "{'cls_loss': tensor(nan, device='cuda:0'), 'num_cls': 0, 'reg_loss': tensor(nan, device='cuda:0'), 'num_reg': 12207, 'loss': tensor(nan, device='cuda:0')}\n",
      "Epoch 0.000, lr 0.00000, time 0.00\n"
     ]
    },
    {
     "name": "stderr",
     "output_type": "stream",
     "text": [
      "1123it [06:55,  3.27it/s]"
     ]
    },
    {
     "name": "stdout",
     "output_type": "stream",
     "text": [
      "Wed Jul 27 08:51:26 2022\n",
      "loss nan nan nan, ade1 nan, fde1 nan, ade nan, fde nan\n",
      "\n",
      "{'cls_loss': tensor(nan, device='cuda:0'), 'num_cls': 0, 'reg_loss': tensor(nan, device='cuda:0'), 'num_reg': 11259, 'loss': tensor(nan, device='cuda:0')}\n",
      "Epoch 0.000, lr 0.00000, time 0.00\n"
     ]
    },
    {
     "name": "stderr",
     "output_type": "stream",
     "text": [
      "1124it [06:55,  3.32it/s]"
     ]
    },
    {
     "name": "stdout",
     "output_type": "stream",
     "text": [
      "Wed Jul 27 08:51:26 2022\n",
      "loss nan nan nan, ade1 nan, fde1 nan, ade nan, fde nan\n",
      "\n",
      "{'cls_loss': tensor(nan, device='cuda:0'), 'num_cls': 0, 'reg_loss': tensor(nan, device='cuda:0'), 'num_reg': 10713, 'loss': tensor(nan, device='cuda:0')}\n",
      "Epoch 0.000, lr 0.00000, time 0.00\n"
     ]
    },
    {
     "name": "stderr",
     "output_type": "stream",
     "text": [
      "1125it [06:55,  3.29it/s]"
     ]
    },
    {
     "name": "stdout",
     "output_type": "stream",
     "text": [
      "Wed Jul 27 08:51:27 2022\n",
      "loss nan nan nan, ade1 nan, fde1 nan, ade nan, fde nan\n",
      "\n",
      "{'cls_loss': tensor(nan, device='cuda:0'), 'num_cls': 0, 'reg_loss': tensor(nan, device='cuda:0'), 'num_reg': 9457, 'loss': tensor(nan, device='cuda:0')}\n",
      "Epoch 0.000, lr 0.00000, time 0.00\n"
     ]
    },
    {
     "name": "stderr",
     "output_type": "stream",
     "text": [
      "1126it [06:55,  3.16it/s]"
     ]
    },
    {
     "name": "stdout",
     "output_type": "stream",
     "text": [
      "Wed Jul 27 08:51:27 2022\n",
      "loss nan nan nan, ade1 nan, fde1 nan, ade nan, fde nan\n",
      "\n",
      "{'cls_loss': tensor(nan, device='cuda:0'), 'num_cls': 0, 'reg_loss': tensor(nan, device='cuda:0'), 'num_reg': 10371, 'loss': tensor(nan, device='cuda:0')}\n",
      "Epoch 0.000, lr 0.00000, time 0.00\n"
     ]
    },
    {
     "name": "stderr",
     "output_type": "stream",
     "text": [
      "1127it [06:56,  3.08it/s]"
     ]
    },
    {
     "name": "stdout",
     "output_type": "stream",
     "text": [
      "Wed Jul 27 08:51:27 2022\n",
      "loss nan nan nan, ade1 nan, fde1 nan, ade nan, fde nan\n",
      "\n",
      "{'cls_loss': tensor(nan, device='cuda:0'), 'num_cls': 0, 'reg_loss': tensor(nan, device='cuda:0'), 'num_reg': 9481, 'loss': tensor(nan, device='cuda:0')}\n",
      "Epoch 0.000, lr 0.00000, time 0.00\n"
     ]
    },
    {
     "name": "stderr",
     "output_type": "stream",
     "text": [
      "1128it [06:56,  3.20it/s]"
     ]
    },
    {
     "name": "stdout",
     "output_type": "stream",
     "text": [
      "Wed Jul 27 08:51:28 2022\n",
      "loss nan nan nan, ade1 nan, fde1 nan, ade nan, fde nan\n",
      "\n"
     ]
    },
    {
     "name": "stderr",
     "output_type": "stream",
     "text": [
      "1129it [06:57,  2.59it/s]"
     ]
    },
    {
     "name": "stdout",
     "output_type": "stream",
     "text": [
      "{'cls_loss': tensor(nan, device='cuda:0'), 'num_cls': 0, 'reg_loss': tensor(nan, device='cuda:0'), 'num_reg': 12152, 'loss': tensor(nan, device='cuda:0')}\n",
      "Epoch 0.000, lr 0.00000, time 0.00\n",
      "Wed Jul 27 08:51:28 2022\n",
      "loss nan nan nan, ade1 nan, fde1 nan, ade nan, fde nan\n",
      "\n"
     ]
    },
    {
     "name": "stderr",
     "output_type": "stream",
     "text": [
      "1130it [06:57,  2.77it/s]"
     ]
    },
    {
     "name": "stdout",
     "output_type": "stream",
     "text": [
      "{'cls_loss': tensor(nan, device='cuda:0'), 'num_cls': 0, 'reg_loss': tensor(nan, device='cuda:0'), 'num_reg': 12267, 'loss': tensor(nan, device='cuda:0')}\n",
      "Epoch 0.000, lr 0.00000, time 0.00\n",
      "Wed Jul 27 08:51:29 2022\n",
      "loss nan nan nan, ade1 nan, fde1 nan, ade nan, fde nan\n",
      "\n"
     ]
    },
    {
     "name": "stderr",
     "output_type": "stream",
     "text": [
      "1131it [06:57,  2.88it/s]"
     ]
    },
    {
     "name": "stdout",
     "output_type": "stream",
     "text": [
      "{'cls_loss': tensor(nan, device='cuda:0'), 'num_cls': 0, 'reg_loss': tensor(nan, device='cuda:0'), 'num_reg': 13165, 'loss': tensor(nan, device='cuda:0')}\n",
      "Epoch 0.000, lr 0.00000, time 0.00\n",
      "Wed Jul 27 08:51:29 2022\n",
      "loss nan nan nan, ade1 nan, fde1 nan, ade nan, fde nan\n",
      "\n"
     ]
    },
    {
     "name": "stderr",
     "output_type": "stream",
     "text": [
      "1132it [06:58,  2.91it/s]"
     ]
    },
    {
     "name": "stdout",
     "output_type": "stream",
     "text": [
      "{'cls_loss': tensor(nan, device='cuda:0'), 'num_cls': 0, 'reg_loss': tensor(nan, device='cuda:0'), 'num_reg': 12134, 'loss': tensor(nan, device='cuda:0')}\n",
      "Epoch 0.000, lr 0.00000, time 0.00\n",
      "Wed Jul 27 08:51:29 2022\n",
      "loss nan nan nan, ade1 nan, fde1 nan, ade nan, fde nan\n",
      "\n"
     ]
    },
    {
     "name": "stderr",
     "output_type": "stream",
     "text": [
      "1133it [06:58,  3.01it/s]"
     ]
    },
    {
     "name": "stdout",
     "output_type": "stream",
     "text": [
      "{'cls_loss': tensor(nan, device='cuda:0'), 'num_cls': 0, 'reg_loss': tensor(nan, device='cuda:0'), 'num_reg': 11242, 'loss': tensor(nan, device='cuda:0')}\n",
      "Epoch 0.000, lr 0.00000, time 0.00\n",
      "Wed Jul 27 08:51:30 2022\n",
      "loss nan nan nan, ade1 nan, fde1 nan, ade nan, fde nan\n",
      "\n"
     ]
    },
    {
     "name": "stderr",
     "output_type": "stream",
     "text": [
      "1134it [06:59,  2.15it/s]"
     ]
    },
    {
     "name": "stdout",
     "output_type": "stream",
     "text": [
      "{'cls_loss': tensor(nan, device='cuda:0'), 'num_cls': 0, 'reg_loss': tensor(nan, device='cuda:0'), 'num_reg': 11462, 'loss': tensor(nan, device='cuda:0')}\n",
      "Epoch 0.000, lr 0.00000, time 0.00\n",
      "Wed Jul 27 08:51:30 2022\n",
      "loss nan nan nan, ade1 nan, fde1 nan, ade nan, fde nan\n",
      "\n"
     ]
    },
    {
     "name": "stderr",
     "output_type": "stream",
     "text": [
      "1135it [06:59,  2.41it/s]"
     ]
    },
    {
     "name": "stdout",
     "output_type": "stream",
     "text": [
      "{'cls_loss': tensor(nan, device='cuda:0'), 'num_cls': 0, 'reg_loss': tensor(nan, device='cuda:0'), 'num_reg': 8269, 'loss': tensor(nan, device='cuda:0')}\n",
      "Epoch 0.000, lr 0.00000, time 0.00\n",
      "Wed Jul 27 08:51:31 2022\n",
      "loss nan nan nan, ade1 nan, fde1 nan, ade nan, fde nan\n",
      "\n"
     ]
    },
    {
     "name": "stderr",
     "output_type": "stream",
     "text": [
      "1136it [06:59,  2.62it/s]"
     ]
    },
    {
     "name": "stdout",
     "output_type": "stream",
     "text": [
      "{'cls_loss': tensor(nan, device='cuda:0'), 'num_cls': 0, 'reg_loss': tensor(nan, device='cuda:0'), 'num_reg': 11416, 'loss': tensor(nan, device='cuda:0')}\n",
      "Epoch 0.000, lr 0.00000, time 0.00\n",
      "Wed Jul 27 08:51:31 2022\n",
      "loss nan nan nan, ade1 nan, fde1 nan, ade nan, fde nan\n",
      "\n"
     ]
    },
    {
     "name": "stderr",
     "output_type": "stream",
     "text": [
      "1137it [07:00,  2.72it/s]"
     ]
    },
    {
     "name": "stdout",
     "output_type": "stream",
     "text": [
      "{'cls_loss': tensor(nan, device='cuda:0'), 'num_cls': 0, 'reg_loss': tensor(nan, device='cuda:0'), 'num_reg': 11694, 'loss': tensor(nan, device='cuda:0')}\n",
      "Epoch 0.000, lr 0.00000, time 0.00\n",
      "Wed Jul 27 08:51:31 2022\n",
      "loss nan nan nan, ade1 nan, fde1 nan, ade nan, fde nan\n",
      "\n"
     ]
    },
    {
     "name": "stderr",
     "output_type": "stream",
     "text": [
      "1138it [07:00,  2.87it/s]"
     ]
    },
    {
     "name": "stdout",
     "output_type": "stream",
     "text": [
      "{'cls_loss': tensor(nan, device='cuda:0'), 'num_cls': 0, 'reg_loss': tensor(nan, device='cuda:0'), 'num_reg': 9503, 'loss': tensor(nan, device='cuda:0')}\n",
      "Epoch 0.000, lr 0.00000, time 0.00\n",
      "Wed Jul 27 08:51:32 2022\n",
      "loss nan nan nan, ade1 nan, fde1 nan, ade nan, fde nan\n",
      "\n"
     ]
    },
    {
     "name": "stderr",
     "output_type": "stream",
     "text": [
      "1139it [07:01,  2.39it/s]"
     ]
    },
    {
     "name": "stdout",
     "output_type": "stream",
     "text": [
      "{'cls_loss': tensor(nan, device='cuda:0'), 'num_cls': 0, 'reg_loss': tensor(nan, device='cuda:0'), 'num_reg': 13195, 'loss': tensor(nan, device='cuda:0')}\n",
      "Epoch 0.000, lr 0.00000, time 0.00\n",
      "Wed Jul 27 08:51:32 2022\n",
      "loss nan nan nan, ade1 nan, fde1 nan, ade nan, fde nan\n",
      "\n"
     ]
    },
    {
     "name": "stderr",
     "output_type": "stream",
     "text": [
      "1140it [07:01,  2.62it/s]"
     ]
    },
    {
     "name": "stdout",
     "output_type": "stream",
     "text": [
      "{'cls_loss': tensor(nan, device='cuda:0'), 'num_cls': 0, 'reg_loss': tensor(nan, device='cuda:0'), 'num_reg': 11547, 'loss': tensor(nan, device='cuda:0')}\n",
      "Epoch 0.000, lr 0.00000, time 0.00\n",
      "Wed Jul 27 08:51:32 2022\n",
      "loss nan nan nan, ade1 nan, fde1 nan, ade nan, fde nan\n",
      "\n",
      "{'cls_loss': tensor(nan, device='cuda:0'), 'num_cls': 0, 'reg_loss': tensor(nan, device='cuda:0'), 'num_reg': 11860, 'loss': tensor(nan, device='cuda:0')}\n",
      "Epoch 0.000, lr 0.00000, time 0.00\n"
     ]
    },
    {
     "name": "stderr",
     "output_type": "stream",
     "text": [
      "1141it [07:01,  2.58it/s]"
     ]
    },
    {
     "name": "stdout",
     "output_type": "stream",
     "text": [
      "Wed Jul 27 08:51:33 2022\n",
      "loss nan nan nan, ade1 nan, fde1 nan, ade nan, fde nan\n",
      "\n",
      "{'cls_loss': tensor(nan, device='cuda:0'), 'num_cls': 0, 'reg_loss': tensor(nan, device='cuda:0'), 'num_reg': 13289, 'loss': tensor(nan, device='cuda:0')}\n",
      "Epoch 0.000, lr 0.00000, time 0.00\n"
     ]
    },
    {
     "name": "stderr",
     "output_type": "stream",
     "text": [
      "1142it [07:02,  2.62it/s]"
     ]
    },
    {
     "name": "stdout",
     "output_type": "stream",
     "text": [
      "Wed Jul 27 08:51:33 2022\n",
      "loss nan nan nan, ade1 nan, fde1 nan, ade nan, fde nan\n",
      "\n",
      "{'cls_loss': tensor(nan, device='cuda:0'), 'num_cls': 0, 'reg_loss': tensor(nan, device='cuda:0'), 'num_reg': 10756, 'loss': tensor(nan, device='cuda:0')}\n",
      "Epoch 0.000, lr 0.00000, time 0.00\n"
     ]
    },
    {
     "name": "stderr",
     "output_type": "stream",
     "text": [
      "1143it [07:02,  2.79it/s]"
     ]
    },
    {
     "name": "stdout",
     "output_type": "stream",
     "text": [
      "Wed Jul 27 08:51:34 2022\n",
      "loss nan nan nan, ade1 nan, fde1 nan, ade nan, fde nan\n",
      "\n",
      "{'cls_loss': tensor(nan, device='cuda:0'), 'num_cls': 0, 'reg_loss': tensor(nan, device='cuda:0'), 'num_reg': 9865, 'loss': tensor(nan, device='cuda:0')}\n",
      "Epoch 0.000, lr 0.00000, time 0.00\n"
     ]
    },
    {
     "name": "stderr",
     "output_type": "stream",
     "text": [
      "1144it [07:02,  2.95it/s]"
     ]
    },
    {
     "name": "stdout",
     "output_type": "stream",
     "text": [
      "Wed Jul 27 08:51:34 2022\n",
      "loss nan nan nan, ade1 nan, fde1 nan, ade nan, fde nan\n",
      "\n",
      "{'cls_loss': tensor(nan, device='cuda:0'), 'num_cls': 0, 'reg_loss': tensor(nan, device='cuda:0'), 'num_reg': 9247, 'loss': tensor(nan, device='cuda:0')}\n",
      "Epoch 0.000, lr 0.00000, time 0.00\n"
     ]
    },
    {
     "name": "stderr",
     "output_type": "stream",
     "text": [
      "1145it [07:02,  3.07it/s]"
     ]
    },
    {
     "name": "stdout",
     "output_type": "stream",
     "text": [
      "Wed Jul 27 08:51:34 2022\n",
      "loss nan nan nan, ade1 nan, fde1 nan, ade nan, fde nan\n",
      "\n",
      "{'cls_loss': tensor(nan, device='cuda:0'), 'num_cls': 0, 'reg_loss': tensor(nan, device='cuda:0'), 'num_reg': 10249, 'loss': tensor(nan, device='cuda:0')}\n",
      "Epoch 0.000, lr 0.00000, time 0.00\n"
     ]
    },
    {
     "name": "stderr",
     "output_type": "stream",
     "text": [
      "1146it [07:03,  3.15it/s]"
     ]
    },
    {
     "name": "stdout",
     "output_type": "stream",
     "text": [
      "Wed Jul 27 08:51:34 2022\n",
      "loss nan nan nan, ade1 nan, fde1 nan, ade nan, fde nan\n",
      "\n",
      "{'cls_loss': tensor(nan, device='cuda:0'), 'num_cls': 0, 'reg_loss': tensor(nan, device='cuda:0'), 'num_reg': 10414, 'loss': tensor(nan, device='cuda:0')}\n",
      "Epoch 0.000, lr 0.00000, time 0.00\n"
     ]
    },
    {
     "name": "stderr",
     "output_type": "stream",
     "text": [
      "1147it [07:03,  3.15it/s]"
     ]
    },
    {
     "name": "stdout",
     "output_type": "stream",
     "text": [
      "Wed Jul 27 08:51:35 2022\n",
      "loss nan nan nan, ade1 nan, fde1 nan, ade nan, fde nan\n",
      "\n",
      "{'cls_loss': tensor(nan, device='cuda:0'), 'num_cls': 0, 'reg_loss': tensor(nan, device='cuda:0'), 'num_reg': 11889, 'loss': tensor(nan, device='cuda:0')}\n",
      "Epoch 0.000, lr 0.00000, time 0.00\n"
     ]
    },
    {
     "name": "stderr",
     "output_type": "stream",
     "text": [
      "1148it [07:03,  3.20it/s]"
     ]
    },
    {
     "name": "stdout",
     "output_type": "stream",
     "text": [
      "Wed Jul 27 08:51:35 2022\n",
      "loss nan nan nan, ade1 nan, fde1 nan, ade nan, fde nan\n",
      "\n",
      "{'cls_loss': tensor(nan, device='cuda:0'), 'num_cls': 0, 'reg_loss': tensor(nan, device='cuda:0'), 'num_reg': 11931, 'loss': tensor(nan, device='cuda:0')}\n",
      "Epoch 0.000, lr 0.00000, time 0.00\n"
     ]
    },
    {
     "name": "stderr",
     "output_type": "stream",
     "text": [
      "1149it [07:04,  3.16it/s]"
     ]
    },
    {
     "name": "stdout",
     "output_type": "stream",
     "text": [
      "Wed Jul 27 08:51:35 2022\n",
      "loss nan nan nan, ade1 nan, fde1 nan, ade nan, fde nan\n",
      "\n",
      "{'cls_loss': tensor(nan, device='cuda:0'), 'num_cls': 0, 'reg_loss': tensor(nan, device='cuda:0'), 'num_reg': 11008, 'loss': tensor(nan, device='cuda:0')}\n",
      "Epoch 0.000, lr 0.00000, time 0.00\n"
     ]
    },
    {
     "name": "stderr",
     "output_type": "stream",
     "text": [
      "1150it [07:04,  3.22it/s]"
     ]
    },
    {
     "name": "stdout",
     "output_type": "stream",
     "text": [
      "Wed Jul 27 08:51:36 2022\n",
      "loss nan nan nan, ade1 nan, fde1 nan, ade nan, fde nan\n",
      "\n",
      "{'cls_loss': tensor(nan, device='cuda:0'), 'num_cls': 0, 'reg_loss': tensor(nan, device='cuda:0'), 'num_reg': 9187, 'loss': tensor(nan, device='cuda:0')}\n",
      "Epoch 0.000, lr 0.00000, time 0.00\n"
     ]
    },
    {
     "name": "stderr",
     "output_type": "stream",
     "text": [
      "1151it [07:04,  3.25it/s]"
     ]
    },
    {
     "name": "stdout",
     "output_type": "stream",
     "text": [
      "Wed Jul 27 08:51:36 2022\n",
      "loss nan nan nan, ade1 nan, fde1 nan, ade nan, fde nan\n",
      "\n",
      "{'cls_loss': tensor(nan, device='cuda:0'), 'num_cls': 0, 'reg_loss': tensor(nan, device='cuda:0'), 'num_reg': 11091, 'loss': tensor(nan, device='cuda:0')}\n",
      "Epoch 0.000, lr 0.00000, time 0.00\n"
     ]
    },
    {
     "name": "stderr",
     "output_type": "stream",
     "text": [
      "1152it [07:05,  3.30it/s]"
     ]
    },
    {
     "name": "stdout",
     "output_type": "stream",
     "text": [
      "Wed Jul 27 08:51:36 2022\n",
      "loss nan nan nan, ade1 nan, fde1 nan, ade nan, fde nan\n",
      "\n",
      "{'cls_loss': tensor(nan, device='cuda:0'), 'num_cls': 0, 'reg_loss': tensor(nan, device='cuda:0'), 'num_reg': 10120, 'loss': tensor(nan, device='cuda:0')}\n",
      "Epoch 0.000, lr 0.00000, time 0.00\n"
     ]
    },
    {
     "name": "stderr",
     "output_type": "stream",
     "text": [
      "1153it [07:05,  3.28it/s]"
     ]
    },
    {
     "name": "stdout",
     "output_type": "stream",
     "text": [
      "Wed Jul 27 08:51:37 2022\n",
      "loss nan nan nan, ade1 nan, fde1 nan, ade nan, fde nan\n",
      "\n",
      "{'cls_loss': tensor(nan, device='cuda:0'), 'num_cls': 0, 'reg_loss': tensor(nan, device='cuda:0'), 'num_reg': 11528, 'loss': tensor(nan, device='cuda:0')}\n",
      "Epoch 0.000, lr 0.00000, time 0.00\n"
     ]
    },
    {
     "name": "stderr",
     "output_type": "stream",
     "text": [
      "1154it [07:05,  3.28it/s]"
     ]
    },
    {
     "name": "stdout",
     "output_type": "stream",
     "text": [
      "Wed Jul 27 08:51:37 2022\n",
      "loss nan nan nan, ade1 nan, fde1 nan, ade nan, fde nan\n",
      "\n",
      "{'cls_loss': tensor(nan, device='cuda:0'), 'num_cls': 0, 'reg_loss': tensor(nan, device='cuda:0'), 'num_reg': 11669, 'loss': tensor(nan, device='cuda:0')}\n",
      "Epoch 0.000, lr 0.00000, time 0.00\n"
     ]
    },
    {
     "name": "stderr",
     "output_type": "stream",
     "text": [
      "1155it [07:06,  3.03it/s]"
     ]
    },
    {
     "name": "stdout",
     "output_type": "stream",
     "text": [
      "Wed Jul 27 08:51:37 2022\n",
      "loss nan nan nan, ade1 nan, fde1 nan, ade nan, fde nan\n",
      "\n",
      "{'cls_loss': tensor(nan, device='cuda:0'), 'num_cls': 0, 'reg_loss': tensor(nan, device='cuda:0'), 'num_reg': 9967, 'loss': tensor(nan, device='cuda:0')}\n",
      "Epoch 0.000, lr 0.00000, time 0.00\n"
     ]
    },
    {
     "name": "stderr",
     "output_type": "stream",
     "text": [
      "1156it [07:06,  3.12it/s]"
     ]
    },
    {
     "name": "stdout",
     "output_type": "stream",
     "text": [
      "Wed Jul 27 08:51:38 2022\n",
      "loss nan nan nan, ade1 nan, fde1 nan, ade nan, fde nan\n",
      "\n",
      "{'cls_loss': tensor(nan, device='cuda:0'), 'num_cls': 0, 'reg_loss': tensor(nan, device='cuda:0'), 'num_reg': 9515, 'loss': tensor(nan, device='cuda:0')}\n",
      "Epoch 0.000, lr 0.00000, time 0.00\n"
     ]
    },
    {
     "name": "stderr",
     "output_type": "stream",
     "text": [
      "1157it [07:06,  3.18it/s]"
     ]
    },
    {
     "name": "stdout",
     "output_type": "stream",
     "text": [
      "Wed Jul 27 08:51:38 2022\n",
      "loss nan nan nan, ade1 nan, fde1 nan, ade nan, fde nan\n",
      "\n",
      "{'cls_loss': tensor(nan, device='cuda:0'), 'num_cls': 0, 'reg_loss': tensor(nan, device='cuda:0'), 'num_reg': 9718, 'loss': tensor(nan, device='cuda:0')}\n",
      "Epoch 0.000, lr 0.00000, time 0.00\n"
     ]
    },
    {
     "name": "stderr",
     "output_type": "stream",
     "text": [
      "1158it [07:07,  3.25it/s]"
     ]
    },
    {
     "name": "stdout",
     "output_type": "stream",
     "text": [
      "Wed Jul 27 08:51:38 2022\n",
      "loss nan nan nan, ade1 nan, fde1 nan, ade nan, fde nan\n",
      "\n",
      "{'cls_loss': tensor(nan, device='cuda:0'), 'num_cls': 0, 'reg_loss': tensor(nan, device='cuda:0'), 'num_reg': 10588, 'loss': tensor(nan, device='cuda:0')}\n",
      "Epoch 0.000, lr 0.00000, time 0.00\n"
     ]
    },
    {
     "name": "stderr",
     "output_type": "stream",
     "text": [
      "1159it [07:07,  3.25it/s]"
     ]
    },
    {
     "name": "stdout",
     "output_type": "stream",
     "text": [
      "Wed Jul 27 08:51:38 2022\n",
      "loss nan nan nan, ade1 nan, fde1 nan, ade nan, fde nan\n",
      "\n",
      "{'cls_loss': tensor(nan, device='cuda:0'), 'num_cls': 0, 'reg_loss': tensor(nan, device='cuda:0'), 'num_reg': 10218, 'loss': tensor(nan, device='cuda:0')}\n",
      "Epoch 0.000, lr 0.00000, time 0.00\n"
     ]
    },
    {
     "name": "stderr",
     "output_type": "stream",
     "text": [
      "1160it [07:07,  3.28it/s]"
     ]
    },
    {
     "name": "stdout",
     "output_type": "stream",
     "text": [
      "Wed Jul 27 08:51:39 2022\n",
      "loss nan nan nan, ade1 nan, fde1 nan, ade nan, fde nan\n",
      "\n",
      "{'cls_loss': tensor(nan, device='cuda:0'), 'num_cls': 0, 'reg_loss': tensor(nan, device='cuda:0'), 'num_reg': 11308, 'loss': tensor(nan, device='cuda:0')}\n",
      "Epoch 0.000, lr 0.00000, time 0.00\n"
     ]
    },
    {
     "name": "stderr",
     "output_type": "stream",
     "text": [
      "1161it [07:07,  3.17it/s]"
     ]
    },
    {
     "name": "stdout",
     "output_type": "stream",
     "text": [
      "Wed Jul 27 08:51:39 2022\n",
      "loss nan nan nan, ade1 nan, fde1 nan, ade nan, fde nan\n",
      "\n",
      "{'cls_loss': tensor(nan, device='cuda:0'), 'num_cls': 0, 'reg_loss': tensor(nan, device='cuda:0'), 'num_reg': 10823, 'loss': tensor(nan, device='cuda:0')}\n",
      "Epoch 0.000, lr 0.00000, time 0.00\n"
     ]
    },
    {
     "name": "stderr",
     "output_type": "stream",
     "text": [
      "1162it [07:08,  3.22it/s]"
     ]
    },
    {
     "name": "stdout",
     "output_type": "stream",
     "text": [
      "Wed Jul 27 08:51:39 2022\n",
      "loss nan nan nan, ade1 nan, fde1 nan, ade nan, fde nan\n",
      "\n",
      "{'cls_loss': tensor(nan, device='cuda:0'), 'num_cls': 0, 'reg_loss': tensor(nan, device='cuda:0'), 'num_reg': 11452, 'loss': tensor(nan, device='cuda:0')}\n",
      "Epoch 0.000, lr 0.00000, time 0.00\n"
     ]
    },
    {
     "name": "stderr",
     "output_type": "stream",
     "text": [
      "1163it [07:08,  3.17it/s]"
     ]
    },
    {
     "name": "stdout",
     "output_type": "stream",
     "text": [
      "Wed Jul 27 08:51:40 2022\n",
      "loss nan nan nan, ade1 nan, fde1 nan, ade nan, fde nan\n",
      "\n",
      "{'cls_loss': tensor(nan, device='cuda:0'), 'num_cls': 0, 'reg_loss': tensor(nan, device='cuda:0'), 'num_reg': 12155, 'loss': tensor(nan, device='cuda:0')}\n",
      "Epoch 0.000, lr 0.00000, time 0.00\n"
     ]
    },
    {
     "name": "stderr",
     "output_type": "stream",
     "text": [
      "1164it [07:08,  3.19it/s]"
     ]
    },
    {
     "name": "stdout",
     "output_type": "stream",
     "text": [
      "Wed Jul 27 08:51:40 2022\n",
      "loss nan nan nan, ade1 nan, fde1 nan, ade nan, fde nan\n",
      "\n",
      "{'cls_loss': tensor(nan, device='cuda:0'), 'num_cls': 0, 'reg_loss': tensor(nan, device='cuda:0'), 'num_reg': 12100, 'loss': tensor(nan, device='cuda:0')}\n",
      "Epoch 0.000, lr 0.00000, time 0.00\n"
     ]
    },
    {
     "name": "stderr",
     "output_type": "stream",
     "text": [
      "1165it [07:09,  3.10it/s]"
     ]
    },
    {
     "name": "stdout",
     "output_type": "stream",
     "text": [
      "Wed Jul 27 08:51:40 2022\n",
      "loss nan nan nan, ade1 nan, fde1 nan, ade nan, fde nan\n",
      "\n",
      "{'cls_loss': tensor(nan, device='cuda:0'), 'num_cls': 0, 'reg_loss': tensor(nan, device='cuda:0'), 'num_reg': 10540, 'loss': tensor(nan, device='cuda:0')}\n",
      "Epoch 0.000, lr 0.00000, time 0.00\n"
     ]
    },
    {
     "name": "stderr",
     "output_type": "stream",
     "text": [
      "1166it [07:09,  3.16it/s]"
     ]
    },
    {
     "name": "stdout",
     "output_type": "stream",
     "text": [
      "Wed Jul 27 08:51:41 2022\n",
      "loss nan nan nan, ade1 nan, fde1 nan, ade nan, fde nan\n",
      "\n",
      "{'cls_loss': tensor(nan, device='cuda:0'), 'num_cls': 0, 'reg_loss': tensor(nan, device='cuda:0'), 'num_reg': 11994, 'loss': tensor(nan, device='cuda:0')}\n",
      "Epoch 0.000, lr 0.00000, time 0.00\n"
     ]
    },
    {
     "name": "stderr",
     "output_type": "stream",
     "text": [
      "1167it [07:09,  3.08it/s]"
     ]
    },
    {
     "name": "stdout",
     "output_type": "stream",
     "text": [
      "Wed Jul 27 08:51:41 2022\n",
      "loss nan nan nan, ade1 nan, fde1 nan, ade nan, fde nan\n",
      "\n",
      "{'cls_loss': tensor(nan, device='cuda:0'), 'num_cls': 0, 'reg_loss': tensor(nan, device='cuda:0'), 'num_reg': 12522, 'loss': tensor(nan, device='cuda:0')}\n",
      "Epoch 0.000, lr 0.00000, time 0.00\n"
     ]
    },
    {
     "name": "stderr",
     "output_type": "stream",
     "text": [
      "1168it [07:10,  3.12it/s]"
     ]
    },
    {
     "name": "stdout",
     "output_type": "stream",
     "text": [
      "Wed Jul 27 08:51:41 2022\n",
      "loss nan nan nan, ade1 nan, fde1 nan, ade nan, fde nan\n",
      "\n",
      "{'cls_loss': tensor(nan, device='cuda:0'), 'num_cls': 0, 'reg_loss': tensor(nan, device='cuda:0'), 'num_reg': 11103, 'loss': tensor(nan, device='cuda:0')}\n",
      "Epoch 0.000, lr 0.00000, time 0.00\n"
     ]
    },
    {
     "name": "stderr",
     "output_type": "stream",
     "text": [
      "1169it [07:10,  3.16it/s]"
     ]
    },
    {
     "name": "stdout",
     "output_type": "stream",
     "text": [
      "Wed Jul 27 08:51:42 2022\n",
      "loss nan nan nan, ade1 nan, fde1 nan, ade nan, fde nan\n",
      "\n",
      "{'cls_loss': tensor(nan, device='cuda:0'), 'num_cls': 0, 'reg_loss': tensor(nan, device='cuda:0'), 'num_reg': 11593, 'loss': tensor(nan, device='cuda:0')}\n",
      "Epoch 0.000, lr 0.00000, time 0.00\n"
     ]
    },
    {
     "name": "stderr",
     "output_type": "stream",
     "text": [
      "1170it [07:10,  3.20it/s]"
     ]
    },
    {
     "name": "stdout",
     "output_type": "stream",
     "text": [
      "Wed Jul 27 08:51:42 2022\n",
      "loss nan nan nan, ade1 nan, fde1 nan, ade nan, fde nan\n",
      "\n",
      "{'cls_loss': tensor(nan, device='cuda:0'), 'num_cls': 0, 'reg_loss': tensor(nan, device='cuda:0'), 'num_reg': 11518, 'loss': tensor(nan, device='cuda:0')}\n",
      "Epoch 0.000, lr 0.00000, time 0.00\n"
     ]
    },
    {
     "name": "stderr",
     "output_type": "stream",
     "text": [
      "1171it [07:11,  3.15it/s]"
     ]
    },
    {
     "name": "stdout",
     "output_type": "stream",
     "text": [
      "Wed Jul 27 08:51:42 2022\n",
      "loss nan nan nan, ade1 nan, fde1 nan, ade nan, fde nan\n",
      "\n",
      "{'cls_loss': tensor(nan, device='cuda:0'), 'num_cls': 0, 'reg_loss': tensor(nan, device='cuda:0'), 'num_reg': 10318, 'loss': tensor(nan, device='cuda:0')}\n",
      "Epoch 0.000, lr 0.00000, time 0.00\n"
     ]
    },
    {
     "name": "stderr",
     "output_type": "stream",
     "text": [
      "1172it [07:11,  3.22it/s]"
     ]
    },
    {
     "name": "stdout",
     "output_type": "stream",
     "text": [
      "Wed Jul 27 08:51:43 2022\n",
      "loss nan nan nan, ade1 nan, fde1 nan, ade nan, fde nan\n",
      "\n",
      "{'cls_loss': tensor(nan, device='cuda:0'), 'num_cls': 0, 'reg_loss': tensor(nan, device='cuda:0'), 'num_reg': 12385, 'loss': tensor(nan, device='cuda:0')}\n",
      "Epoch 0.000, lr 0.00000, time 0.00\n"
     ]
    },
    {
     "name": "stderr",
     "output_type": "stream",
     "text": [
      "1173it [07:12,  2.47it/s]"
     ]
    },
    {
     "name": "stdout",
     "output_type": "stream",
     "text": [
      "Wed Jul 27 08:51:43 2022\n",
      "loss nan nan nan, ade1 nan, fde1 nan, ade nan, fde nan\n",
      "\n",
      "{'cls_loss': tensor(nan, device='cuda:0'), 'num_cls': 0, 'reg_loss': tensor(nan, device='cuda:0'), 'num_reg': 10819, 'loss': tensor(nan, device='cuda:0')}\n",
      "Epoch 0.000, lr 0.00000, time 0.00\n"
     ]
    },
    {
     "name": "stderr",
     "output_type": "stream",
     "text": [
      "1174it [07:12,  2.63it/s]"
     ]
    },
    {
     "name": "stdout",
     "output_type": "stream",
     "text": [
      "Wed Jul 27 08:51:43 2022\n",
      "loss nan nan nan, ade1 nan, fde1 nan, ade nan, fde nan\n",
      "\n",
      "{'cls_loss': tensor(nan, device='cuda:0'), 'num_cls': 0, 'reg_loss': tensor(nan, device='cuda:0'), 'num_reg': 11632, 'loss': tensor(nan, device='cuda:0')}\n",
      "Epoch 0.000, lr 0.00000, time 0.00\n"
     ]
    },
    {
     "name": "stderr",
     "output_type": "stream",
     "text": [
      "1175it [07:12,  2.79it/s]"
     ]
    },
    {
     "name": "stdout",
     "output_type": "stream",
     "text": [
      "Wed Jul 27 08:51:44 2022\n",
      "loss nan nan nan, ade1 nan, fde1 nan, ade nan, fde nan\n",
      "\n",
      "{'cls_loss': tensor(nan, device='cuda:0'), 'num_cls': 0, 'reg_loss': tensor(nan, device='cuda:0'), 'num_reg': 11261, 'loss': tensor(nan, device='cuda:0')}\n",
      "Epoch 0.000, lr 0.00000, time 0.00\n"
     ]
    },
    {
     "name": "stderr",
     "output_type": "stream",
     "text": [
      "1176it [07:12,  2.91it/s]"
     ]
    },
    {
     "name": "stdout",
     "output_type": "stream",
     "text": [
      "Wed Jul 27 08:51:44 2022\n",
      "loss nan nan nan, ade1 nan, fde1 nan, ade nan, fde nan\n",
      "\n",
      "{'cls_loss': tensor(nan, device='cuda:0'), 'num_cls': 0, 'reg_loss': tensor(nan, device='cuda:0'), 'num_reg': 11889, 'loss': tensor(nan, device='cuda:0')}\n",
      "Epoch 0.000, lr 0.00000, time 0.00\n"
     ]
    },
    {
     "name": "stderr",
     "output_type": "stream",
     "text": [
      "1177it [07:13,  2.99it/s]"
     ]
    },
    {
     "name": "stdout",
     "output_type": "stream",
     "text": [
      "Wed Jul 27 08:51:44 2022\n",
      "loss nan nan nan, ade1 nan, fde1 nan, ade nan, fde nan\n",
      "\n",
      "{'cls_loss': tensor(nan, device='cuda:0'), 'num_cls': 0, 'reg_loss': tensor(nan, device='cuda:0'), 'num_reg': 11468, 'loss': tensor(nan, device='cuda:0')}\n",
      "Epoch 0.000, lr 0.00000, time 0.00\n"
     ]
    },
    {
     "name": "stderr",
     "output_type": "stream",
     "text": [
      "1178it [07:13,  3.07it/s]"
     ]
    },
    {
     "name": "stdout",
     "output_type": "stream",
     "text": [
      "Wed Jul 27 08:51:45 2022\n",
      "loss nan nan nan, ade1 nan, fde1 nan, ade nan, fde nan\n",
      "\n",
      "{'cls_loss': tensor(nan, device='cuda:0'), 'num_cls': 0, 'reg_loss': tensor(nan, device='cuda:0'), 'num_reg': 10714, 'loss': tensor(nan, device='cuda:0')}\n",
      "Epoch 0.000, lr 0.00000, time 0.00\n"
     ]
    },
    {
     "name": "stderr",
     "output_type": "stream",
     "text": [
      "1179it [07:13,  3.02it/s]"
     ]
    },
    {
     "name": "stdout",
     "output_type": "stream",
     "text": [
      "Wed Jul 27 08:51:45 2022\n",
      "loss nan nan nan, ade1 nan, fde1 nan, ade nan, fde nan\n",
      "\n"
     ]
    },
    {
     "name": "stderr",
     "output_type": "stream",
     "text": [
      "1180it [07:14,  2.44it/s]"
     ]
    },
    {
     "name": "stdout",
     "output_type": "stream",
     "text": [
      "{'cls_loss': tensor(nan, device='cuda:0'), 'num_cls': 0, 'reg_loss': tensor(nan, device='cuda:0'), 'num_reg': 9009, 'loss': tensor(nan, device='cuda:0')}\n",
      "Epoch 0.000, lr 0.00000, time 0.00\n",
      "Wed Jul 27 08:51:46 2022\n",
      "loss nan nan nan, ade1 nan, fde1 nan, ade nan, fde nan\n",
      "\n"
     ]
    },
    {
     "name": "stderr",
     "output_type": "stream",
     "text": [
      "1181it [07:14,  2.63it/s]"
     ]
    },
    {
     "name": "stdout",
     "output_type": "stream",
     "text": [
      "{'cls_loss': tensor(nan, device='cuda:0'), 'num_cls': 0, 'reg_loss': tensor(nan, device='cuda:0'), 'num_reg': 10399, 'loss': tensor(nan, device='cuda:0')}\n",
      "Epoch 0.000, lr 0.00000, time 0.00\n",
      "Wed Jul 27 08:51:46 2022\n",
      "loss nan nan nan, ade1 nan, fde1 nan, ade nan, fde nan\n",
      "\n"
     ]
    },
    {
     "name": "stderr",
     "output_type": "stream",
     "text": [
      "1182it [07:15,  2.00it/s]"
     ]
    },
    {
     "name": "stdout",
     "output_type": "stream",
     "text": [
      "{'cls_loss': tensor(nan, device='cuda:0'), 'num_cls': 0, 'reg_loss': tensor(nan, device='cuda:0'), 'num_reg': 12506, 'loss': tensor(nan, device='cuda:0')}\n",
      "Epoch 0.000, lr 0.00000, time 0.00\n",
      "Wed Jul 27 08:51:47 2022\n",
      "loss nan nan nan, ade1 nan, fde1 nan, ade nan, fde nan\n",
      "\n",
      "{'cls_loss': tensor(nan, device='cuda:0'), 'num_cls': 0, 'reg_loss': tensor(nan, device='cuda:0'), 'num_reg': 11250, 'loss': tensor(nan, device='cuda:0')}\n",
      "Epoch 0.000, lr 0.00000, time 0.00\n"
     ]
    },
    {
     "name": "stderr",
     "output_type": "stream",
     "text": [
      "1183it [07:16,  2.15it/s]"
     ]
    },
    {
     "name": "stdout",
     "output_type": "stream",
     "text": [
      "Wed Jul 27 08:51:47 2022\n",
      "loss nan nan nan, ade1 nan, fde1 nan, ade nan, fde nan\n",
      "\n",
      "{'cls_loss': tensor(nan, device='cuda:0'), 'num_cls': 0, 'reg_loss': tensor(nan, device='cuda:0'), 'num_reg': 12127, 'loss': tensor(nan, device='cuda:0')}\n",
      "Epoch 0.000, lr 0.00000, time 0.00\n"
     ]
    },
    {
     "name": "stderr",
     "output_type": "stream",
     "text": [
      "1184it [07:16,  2.38it/s]"
     ]
    },
    {
     "name": "stdout",
     "output_type": "stream",
     "text": [
      "Wed Jul 27 08:51:47 2022\n",
      "loss nan nan nan, ade1 nan, fde1 nan, ade nan, fde nan\n",
      "\n",
      "{'cls_loss': tensor(nan, device='cuda:0'), 'num_cls': 0, 'reg_loss': tensor(nan, device='cuda:0'), 'num_reg': 10950, 'loss': tensor(nan, device='cuda:0')}\n",
      "Epoch 0.000, lr 0.00000, time 0.00\n"
     ]
    },
    {
     "name": "stderr",
     "output_type": "stream",
     "text": [
      "1185it [07:16,  2.59it/s]"
     ]
    },
    {
     "name": "stdout",
     "output_type": "stream",
     "text": [
      "Wed Jul 27 08:51:48 2022\n",
      "loss nan nan nan, ade1 nan, fde1 nan, ade nan, fde nan\n",
      "\n",
      "{'cls_loss': tensor(nan, device='cuda:0'), 'num_cls': 0, 'reg_loss': tensor(nan, device='cuda:0'), 'num_reg': 10996, 'loss': tensor(nan, device='cuda:0')}\n",
      "Epoch 0.000, lr 0.00000, time 0.00\n"
     ]
    },
    {
     "name": "stderr",
     "output_type": "stream",
     "text": [
      "1186it [07:16,  2.78it/s]"
     ]
    },
    {
     "name": "stdout",
     "output_type": "stream",
     "text": [
      "Wed Jul 27 08:51:48 2022\n",
      "loss nan nan nan, ade1 nan, fde1 nan, ade nan, fde nan\n",
      "\n",
      "{'cls_loss': tensor(nan, device='cuda:0'), 'num_cls': 0, 'reg_loss': tensor(nan, device='cuda:0'), 'num_reg': 9707, 'loss': tensor(nan, device='cuda:0')}\n",
      "Epoch 0.000, lr 0.00000, time 0.00\n"
     ]
    },
    {
     "name": "stderr",
     "output_type": "stream",
     "text": [
      "1187it [07:17,  2.91it/s]"
     ]
    },
    {
     "name": "stdout",
     "output_type": "stream",
     "text": [
      "Wed Jul 27 08:51:48 2022\n",
      "loss nan nan nan, ade1 nan, fde1 nan, ade nan, fde nan\n",
      "\n",
      "{'cls_loss': tensor(nan, device='cuda:0'), 'num_cls': 0, 'reg_loss': tensor(nan, device='cuda:0'), 'num_reg': 9288, 'loss': tensor(nan, device='cuda:0')}\n",
      "Epoch 0.000, lr 0.00000, time 0.00\n"
     ]
    },
    {
     "name": "stderr",
     "output_type": "stream",
     "text": [
      "1188it [07:17,  3.04it/s]"
     ]
    },
    {
     "name": "stdout",
     "output_type": "stream",
     "text": [
      "Wed Jul 27 08:51:49 2022\n",
      "loss nan nan nan, ade1 nan, fde1 nan, ade nan, fde nan\n",
      "\n",
      "{'cls_loss': tensor(nan, device='cuda:0'), 'num_cls': 0, 'reg_loss': tensor(nan, device='cuda:0'), 'num_reg': 10591, 'loss': tensor(nan, device='cuda:0')}\n",
      "Epoch 0.000, lr 0.00000, time 0.00\n"
     ]
    },
    {
     "name": "stderr",
     "output_type": "stream",
     "text": [
      "1189it [07:17,  2.94it/s]"
     ]
    },
    {
     "name": "stdout",
     "output_type": "stream",
     "text": [
      "Wed Jul 27 08:51:49 2022\n",
      "loss nan nan nan, ade1 nan, fde1 nan, ade nan, fde nan\n",
      "\n",
      "{'cls_loss': tensor(nan, device='cuda:0'), 'num_cls': 0, 'reg_loss': tensor(nan, device='cuda:0'), 'num_reg': 11674, 'loss': tensor(nan, device='cuda:0')}\n",
      "Epoch 0.000, lr 0.00000, time 0.00\n"
     ]
    },
    {
     "name": "stderr",
     "output_type": "stream",
     "text": [
      "1190it [07:18,  3.01it/s]"
     ]
    },
    {
     "name": "stdout",
     "output_type": "stream",
     "text": [
      "Wed Jul 27 08:51:49 2022\n",
      "loss nan nan nan, ade1 nan, fde1 nan, ade nan, fde nan\n",
      "\n",
      "{'cls_loss': tensor(nan, device='cuda:0'), 'num_cls': 0, 'reg_loss': tensor(nan, device='cuda:0'), 'num_reg': 10348, 'loss': tensor(nan, device='cuda:0')}\n",
      "Epoch 0.000, lr 0.00000, time 0.00\n"
     ]
    },
    {
     "name": "stderr",
     "output_type": "stream",
     "text": [
      "1191it [07:18,  3.07it/s]"
     ]
    },
    {
     "name": "stdout",
     "output_type": "stream",
     "text": [
      "Wed Jul 27 08:51:50 2022\n",
      "loss nan nan nan, ade1 nan, fde1 nan, ade nan, fde nan\n",
      "\n",
      "{'cls_loss': tensor(nan, device='cuda:0'), 'num_cls': 0, 'reg_loss': tensor(nan, device='cuda:0'), 'num_reg': 11562, 'loss': tensor(nan, device='cuda:0')}\n",
      "Epoch 0.000, lr 0.00000, time 0.00\n"
     ]
    },
    {
     "name": "stderr",
     "output_type": "stream",
     "text": [
      "1192it [07:18,  3.16it/s]"
     ]
    },
    {
     "name": "stdout",
     "output_type": "stream",
     "text": [
      "Wed Jul 27 08:51:50 2022\n",
      "loss nan nan nan, ade1 nan, fde1 nan, ade nan, fde nan\n",
      "\n",
      "{'cls_loss': tensor(nan, device='cuda:0'), 'num_cls': 0, 'reg_loss': tensor(nan, device='cuda:0'), 'num_reg': 10436, 'loss': tensor(nan, device='cuda:0')}\n",
      "Epoch 0.000, lr 0.00000, time 0.00\n"
     ]
    },
    {
     "name": "stderr",
     "output_type": "stream",
     "text": [
      "1193it [07:19,  3.15it/s]"
     ]
    },
    {
     "name": "stdout",
     "output_type": "stream",
     "text": [
      "Wed Jul 27 08:51:50 2022\n",
      "loss nan nan nan, ade1 nan, fde1 nan, ade nan, fde nan\n",
      "\n"
     ]
    },
    {
     "name": "stderr",
     "output_type": "stream",
     "text": [
      "1194it [07:19,  2.98it/s]"
     ]
    },
    {
     "name": "stdout",
     "output_type": "stream",
     "text": [
      "{'cls_loss': tensor(nan, device='cuda:0'), 'num_cls': 0, 'reg_loss': tensor(nan, device='cuda:0'), 'num_reg': 8068, 'loss': tensor(nan, device='cuda:0')}\n",
      "Epoch 0.000, lr 0.00000, time 0.00\n",
      "Wed Jul 27 08:51:51 2022\n",
      "loss nan nan nan, ade1 nan, fde1 nan, ade nan, fde nan\n",
      "\n",
      "{'cls_loss': tensor(nan, device='cuda:0'), 'num_cls': 0, 'reg_loss': tensor(nan, device='cuda:0'), 'num_reg': 11373, 'loss': tensor(nan, device='cuda:0')}\n",
      "Epoch 0.000, lr 0.00000, time 0.00\n"
     ]
    },
    {
     "name": "stderr",
     "output_type": "stream",
     "text": [
      "1195it [07:19,  2.83it/s]"
     ]
    },
    {
     "name": "stdout",
     "output_type": "stream",
     "text": [
      "Wed Jul 27 08:51:51 2022\n",
      "loss nan nan nan, ade1 nan, fde1 nan, ade nan, fde nan\n",
      "\n",
      "{'cls_loss': tensor(nan, device='cuda:0'), 'num_cls': 0, 'reg_loss': tensor(nan, device='cuda:0'), 'num_reg': 9370, 'loss': tensor(nan, device='cuda:0')}\n",
      "Epoch 0.000, lr 0.00000, time 0.00\n"
     ]
    },
    {
     "name": "stderr",
     "output_type": "stream",
     "text": [
      "1196it [07:20,  2.92it/s]"
     ]
    },
    {
     "name": "stdout",
     "output_type": "stream",
     "text": [
      "Wed Jul 27 08:51:51 2022\n",
      "loss nan nan nan, ade1 nan, fde1 nan, ade nan, fde nan\n",
      "\n",
      "{'cls_loss': tensor(nan, device='cuda:0'), 'num_cls': 0, 'reg_loss': tensor(nan, device='cuda:0'), 'num_reg': 10543, 'loss': tensor(nan, device='cuda:0')}\n",
      "Epoch 0.000, lr 0.00000, time 0.00\n"
     ]
    },
    {
     "name": "stderr",
     "output_type": "stream",
     "text": [
      "1197it [07:20,  2.92it/s]"
     ]
    },
    {
     "name": "stdout",
     "output_type": "stream",
     "text": [
      "Wed Jul 27 08:51:52 2022\n",
      "loss nan nan nan, ade1 nan, fde1 nan, ade nan, fde nan\n",
      "\n",
      "{'cls_loss': tensor(nan, device='cuda:0'), 'num_cls': 0, 'reg_loss': tensor(nan, device='cuda:0'), 'num_reg': 11144, 'loss': tensor(nan, device='cuda:0')}\n",
      "Epoch 0.000, lr 0.00000, time 0.00\n"
     ]
    },
    {
     "name": "stderr",
     "output_type": "stream",
     "text": [
      "1198it [07:20,  3.04it/s]"
     ]
    },
    {
     "name": "stdout",
     "output_type": "stream",
     "text": [
      "Wed Jul 27 08:51:52 2022\n",
      "loss nan nan nan, ade1 nan, fde1 nan, ade nan, fde nan\n",
      "\n",
      "{'cls_loss': tensor(nan, device='cuda:0'), 'num_cls': 0, 'reg_loss': tensor(nan, device='cuda:0'), 'num_reg': 10058, 'loss': tensor(nan, device='cuda:0')}\n",
      "Epoch 0.000, lr 0.00000, time 0.00\n"
     ]
    },
    {
     "name": "stderr",
     "output_type": "stream",
     "text": [
      "1199it [07:21,  3.10it/s]"
     ]
    },
    {
     "name": "stdout",
     "output_type": "stream",
     "text": [
      "Wed Jul 27 08:51:52 2022\n",
      "loss nan nan nan, ade1 nan, fde1 nan, ade nan, fde nan\n",
      "\n",
      "{'cls_loss': tensor(nan, device='cuda:0'), 'num_cls': 0, 'reg_loss': tensor(nan, device='cuda:0'), 'num_reg': 11909, 'loss': tensor(nan, device='cuda:0')}\n",
      "Epoch 0.000, lr 0.00000, time 0.00\n"
     ]
    },
    {
     "name": "stderr",
     "output_type": "stream",
     "text": [
      "1200it [07:21,  3.15it/s]"
     ]
    },
    {
     "name": "stdout",
     "output_type": "stream",
     "text": [
      "Wed Jul 27 08:51:53 2022\n",
      "loss nan nan nan, ade1 nan, fde1 nan, ade nan, fde nan\n",
      "\n"
     ]
    },
    {
     "name": "stderr",
     "output_type": "stream",
     "text": [
      "1201it [07:22,  2.40it/s]"
     ]
    },
    {
     "name": "stdout",
     "output_type": "stream",
     "text": [
      "{'cls_loss': tensor(nan, device='cuda:0'), 'num_cls': 0, 'reg_loss': tensor(nan, device='cuda:0'), 'num_reg': 11215, 'loss': tensor(nan, device='cuda:0')}\n",
      "Epoch 0.000, lr 0.00000, time 0.00\n",
      "Wed Jul 27 08:51:53 2022\n",
      "loss nan nan nan, ade1 nan, fde1 nan, ade nan, fde nan\n",
      "\n"
     ]
    },
    {
     "name": "stderr",
     "output_type": "stream",
     "text": [
      "1202it [07:22,  2.62it/s]"
     ]
    },
    {
     "name": "stdout",
     "output_type": "stream",
     "text": [
      "{'cls_loss': tensor(nan, device='cuda:0'), 'num_cls': 0, 'reg_loss': tensor(nan, device='cuda:0'), 'num_reg': 11093, 'loss': tensor(nan, device='cuda:0')}\n",
      "Epoch 0.000, lr 0.00000, time 0.00\n",
      "Wed Jul 27 08:51:54 2022\n",
      "loss nan nan nan, ade1 nan, fde1 nan, ade nan, fde nan\n",
      "\n"
     ]
    },
    {
     "name": "stderr",
     "output_type": "stream",
     "text": [
      "1203it [07:22,  2.78it/s]"
     ]
    },
    {
     "name": "stdout",
     "output_type": "stream",
     "text": [
      "{'cls_loss': tensor(nan, device='cuda:0'), 'num_cls': 0, 'reg_loss': tensor(nan, device='cuda:0'), 'num_reg': 11472, 'loss': tensor(nan, device='cuda:0')}\n",
      "Epoch 0.000, lr 0.00000, time 0.00\n",
      "Wed Jul 27 08:51:54 2022\n",
      "loss nan nan nan, ade1 nan, fde1 nan, ade nan, fde nan\n",
      "\n"
     ]
    },
    {
     "name": "stderr",
     "output_type": "stream",
     "text": [
      "1204it [07:23,  2.77it/s]"
     ]
    },
    {
     "name": "stdout",
     "output_type": "stream",
     "text": [
      "{'cls_loss': tensor(nan, device='cuda:0'), 'num_cls': 0, 'reg_loss': tensor(nan, device='cuda:0'), 'num_reg': 9044, 'loss': tensor(nan, device='cuda:0')}\n",
      "Epoch 0.000, lr 0.00000, time 0.00\n",
      "Wed Jul 27 08:51:54 2022\n",
      "loss nan nan nan, ade1 nan, fde1 nan, ade nan, fde nan\n",
      "\n"
     ]
    },
    {
     "name": "stderr",
     "output_type": "stream",
     "text": [
      "1205it [07:23,  2.89it/s]"
     ]
    },
    {
     "name": "stdout",
     "output_type": "stream",
     "text": [
      "{'cls_loss': tensor(nan, device='cuda:0'), 'num_cls': 0, 'reg_loss': tensor(nan, device='cuda:0'), 'num_reg': 10519, 'loss': tensor(nan, device='cuda:0')}\n",
      "Epoch 0.000, lr 0.00000, time 0.00\n",
      "Wed Jul 27 08:51:55 2022\n",
      "loss nan nan nan, ade1 nan, fde1 nan, ade nan, fde nan\n",
      "\n"
     ]
    },
    {
     "name": "stderr",
     "output_type": "stream",
     "text": [
      "1206it [07:23,  2.97it/s]"
     ]
    },
    {
     "name": "stdout",
     "output_type": "stream",
     "text": [
      "{'cls_loss': tensor(nan, device='cuda:0'), 'num_cls': 0, 'reg_loss': tensor(nan, device='cuda:0'), 'num_reg': 11460, 'loss': tensor(nan, device='cuda:0')}\n",
      "Epoch 0.000, lr 0.00000, time 0.00\n",
      "Wed Jul 27 08:51:55 2022\n",
      "loss nan nan nan, ade1 nan, fde1 nan, ade nan, fde nan\n",
      "\n"
     ]
    },
    {
     "name": "stderr",
     "output_type": "stream",
     "text": [
      "1207it [07:24,  2.95it/s]"
     ]
    },
    {
     "name": "stdout",
     "output_type": "stream",
     "text": [
      "{'cls_loss': tensor(nan, device='cuda:0'), 'num_cls': 0, 'reg_loss': tensor(nan, device='cuda:0'), 'num_reg': 11550, 'loss': tensor(nan, device='cuda:0')}\n",
      "Epoch 0.000, lr 0.00000, time 0.00\n",
      "Wed Jul 27 08:51:55 2022\n",
      "loss nan nan nan, ade1 nan, fde1 nan, ade nan, fde nan\n",
      "\n"
     ]
    },
    {
     "name": "stderr",
     "output_type": "stream",
     "text": [
      "1208it [07:24,  3.06it/s]"
     ]
    },
    {
     "name": "stdout",
     "output_type": "stream",
     "text": [
      "{'cls_loss': tensor(nan, device='cuda:0'), 'num_cls': 0, 'reg_loss': tensor(nan, device='cuda:0'), 'num_reg': 10593, 'loss': tensor(nan, device='cuda:0')}\n",
      "Epoch 0.000, lr 0.00000, time 0.00\n",
      "Wed Jul 27 08:51:55 2022\n",
      "loss nan nan nan, ade1 nan, fde1 nan, ade nan, fde nan\n",
      "\n"
     ]
    },
    {
     "name": "stderr",
     "output_type": "stream",
     "text": [
      "1209it [07:24,  3.10it/s]"
     ]
    },
    {
     "name": "stdout",
     "output_type": "stream",
     "text": [
      "{'cls_loss': tensor(nan, device='cuda:0'), 'num_cls': 0, 'reg_loss': tensor(nan, device='cuda:0'), 'num_reg': 11615, 'loss': tensor(nan, device='cuda:0')}\n",
      "Epoch 0.000, lr 0.00000, time 0.00\n",
      "Wed Jul 27 08:51:56 2022\n",
      "loss nan nan nan, ade1 nan, fde1 nan, ade nan, fde nan\n",
      "\n"
     ]
    },
    {
     "name": "stderr",
     "output_type": "stream",
     "text": [
      "1210it [07:24,  3.16it/s]"
     ]
    },
    {
     "name": "stdout",
     "output_type": "stream",
     "text": [
      "{'cls_loss': tensor(nan, device='cuda:0'), 'num_cls': 0, 'reg_loss': tensor(nan, device='cuda:0'), 'num_reg': 11166, 'loss': tensor(nan, device='cuda:0')}\n",
      "Epoch 0.000, lr 0.00000, time 0.00\n",
      "Wed Jul 27 08:51:56 2022\n",
      "loss nan nan nan, ade1 nan, fde1 nan, ade nan, fde nan\n",
      "\n"
     ]
    },
    {
     "name": "stderr",
     "output_type": "stream",
     "text": [
      "1211it [07:25,  2.52it/s]"
     ]
    },
    {
     "name": "stdout",
     "output_type": "stream",
     "text": [
      "{'cls_loss': tensor(nan, device='cuda:0'), 'num_cls': 0, 'reg_loss': tensor(nan, device='cuda:0'), 'num_reg': 11077, 'loss': tensor(nan, device='cuda:0')}\n",
      "Epoch 0.000, lr 0.00000, time 0.00\n",
      "Wed Jul 27 08:51:57 2022\n",
      "loss nan nan nan, ade1 nan, fde1 nan, ade nan, fde nan\n",
      "\n"
     ]
    },
    {
     "name": "stderr",
     "output_type": "stream",
     "text": [
      "1212it [07:25,  2.71it/s]"
     ]
    },
    {
     "name": "stdout",
     "output_type": "stream",
     "text": [
      "{'cls_loss': tensor(nan, device='cuda:0'), 'num_cls': 0, 'reg_loss': tensor(nan, device='cuda:0'), 'num_reg': 9531, 'loss': tensor(nan, device='cuda:0')}\n",
      "Epoch 0.000, lr 0.00000, time 0.00\n",
      "Wed Jul 27 08:51:57 2022\n",
      "loss nan nan nan, ade1 nan, fde1 nan, ade nan, fde nan\n",
      "\n"
     ]
    },
    {
     "name": "stderr",
     "output_type": "stream",
     "text": [
      "1213it [07:26,  2.79it/s]"
     ]
    },
    {
     "name": "stdout",
     "output_type": "stream",
     "text": [
      "{'cls_loss': tensor(nan, device='cuda:0'), 'num_cls': 0, 'reg_loss': tensor(nan, device='cuda:0'), 'num_reg': 9650, 'loss': tensor(nan, device='cuda:0')}\n",
      "Epoch 0.000, lr 0.00000, time 0.00\n",
      "Wed Jul 27 08:51:57 2022\n",
      "loss nan nan nan, ade1 nan, fde1 nan, ade nan, fde nan\n",
      "\n"
     ]
    },
    {
     "name": "stderr",
     "output_type": "stream",
     "text": [
      "1214it [07:26,  2.94it/s]"
     ]
    },
    {
     "name": "stdout",
     "output_type": "stream",
     "text": [
      "{'cls_loss': tensor(nan, device='cuda:0'), 'num_cls': 0, 'reg_loss': tensor(nan, device='cuda:0'), 'num_reg': 11218, 'loss': tensor(nan, device='cuda:0')}\n",
      "Epoch 0.000, lr 0.00000, time 0.00\n",
      "Wed Jul 27 08:51:58 2022\n",
      "loss nan nan nan, ade1 nan, fde1 nan, ade nan, fde nan\n",
      "\n"
     ]
    },
    {
     "name": "stderr",
     "output_type": "stream",
     "text": [
      "1215it [07:26,  3.02it/s]"
     ]
    },
    {
     "name": "stdout",
     "output_type": "stream",
     "text": [
      "{'cls_loss': tensor(nan, device='cuda:0'), 'num_cls': 0, 'reg_loss': tensor(nan, device='cuda:0'), 'num_reg': 8648, 'loss': tensor(nan, device='cuda:0')}\n",
      "Epoch 0.000, lr 0.00000, time 0.00\n",
      "Wed Jul 27 08:51:58 2022\n",
      "loss nan nan nan, ade1 nan, fde1 nan, ade nan, fde nan\n",
      "\n"
     ]
    },
    {
     "name": "stderr",
     "output_type": "stream",
     "text": [
      "1216it [07:27,  3.10it/s]"
     ]
    },
    {
     "name": "stdout",
     "output_type": "stream",
     "text": [
      "{'cls_loss': tensor(nan, device='cuda:0'), 'num_cls': 0, 'reg_loss': tensor(nan, device='cuda:0'), 'num_reg': 10882, 'loss': tensor(nan, device='cuda:0')}\n",
      "Epoch 0.000, lr 0.00000, time 0.00\n",
      "Wed Jul 27 08:51:58 2022\n",
      "loss nan nan nan, ade1 nan, fde1 nan, ade nan, fde nan\n",
      "\n"
     ]
    },
    {
     "name": "stderr",
     "output_type": "stream",
     "text": [
      "1217it [07:27,  3.12it/s]"
     ]
    },
    {
     "name": "stdout",
     "output_type": "stream",
     "text": [
      "{'cls_loss': tensor(nan, device='cuda:0'), 'num_cls': 0, 'reg_loss': tensor(nan, device='cuda:0'), 'num_reg': 10703, 'loss': tensor(nan, device='cuda:0')}\n",
      "Epoch 0.000, lr 0.00000, time 0.00\n",
      "Wed Jul 27 08:51:59 2022\n",
      "loss nan nan nan, ade1 nan, fde1 nan, ade nan, fde nan\n",
      "\n"
     ]
    },
    {
     "name": "stderr",
     "output_type": "stream",
     "text": [
      "1218it [07:27,  3.18it/s]"
     ]
    },
    {
     "name": "stdout",
     "output_type": "stream",
     "text": [
      "{'cls_loss': tensor(nan, device='cuda:0'), 'num_cls': 0, 'reg_loss': tensor(nan, device='cuda:0'), 'num_reg': 9683, 'loss': tensor(nan, device='cuda:0')}\n",
      "Epoch 0.000, lr 0.00000, time 0.00\n",
      "Wed Jul 27 08:51:59 2022\n",
      "loss nan nan nan, ade1 nan, fde1 nan, ade nan, fde nan\n",
      "\n"
     ]
    },
    {
     "name": "stderr",
     "output_type": "stream",
     "text": [
      "1219it [07:28,  3.03it/s]"
     ]
    },
    {
     "name": "stdout",
     "output_type": "stream",
     "text": [
      "{'cls_loss': tensor(nan, device='cuda:0'), 'num_cls': 0, 'reg_loss': tensor(nan, device='cuda:0'), 'num_reg': 10094, 'loss': tensor(nan, device='cuda:0')}\n",
      "Epoch 0.000, lr 0.00000, time 0.00\n",
      "Wed Jul 27 08:51:59 2022\n",
      "loss nan nan nan, ade1 nan, fde1 nan, ade nan, fde nan\n",
      "\n"
     ]
    },
    {
     "name": "stderr",
     "output_type": "stream",
     "text": [
      "1220it [07:28,  3.09it/s]"
     ]
    },
    {
     "name": "stdout",
     "output_type": "stream",
     "text": [
      "{'cls_loss': tensor(nan, device='cuda:0'), 'num_cls': 0, 'reg_loss': tensor(nan, device='cuda:0'), 'num_reg': 9982, 'loss': tensor(nan, device='cuda:0')}\n",
      "Epoch 0.000, lr 0.00000, time 0.00\n",
      "Wed Jul 27 08:52:00 2022\n",
      "loss nan nan nan, ade1 nan, fde1 nan, ade nan, fde nan\n",
      "\n"
     ]
    },
    {
     "name": "stderr",
     "output_type": "stream",
     "text": [
      "1221it [07:28,  3.11it/s]"
     ]
    },
    {
     "name": "stdout",
     "output_type": "stream",
     "text": [
      "{'cls_loss': tensor(nan, device='cuda:0'), 'num_cls': 0, 'reg_loss': tensor(nan, device='cuda:0'), 'num_reg': 11160, 'loss': tensor(nan, device='cuda:0')}\n",
      "Epoch 0.000, lr 0.00000, time 0.00\n",
      "Wed Jul 27 08:52:00 2022\n",
      "loss nan nan nan, ade1 nan, fde1 nan, ade nan, fde nan\n",
      "\n"
     ]
    },
    {
     "name": "stderr",
     "output_type": "stream",
     "text": [
      "1222it [07:29,  3.14it/s]"
     ]
    },
    {
     "name": "stdout",
     "output_type": "stream",
     "text": [
      "{'cls_loss': tensor(nan, device='cuda:0'), 'num_cls': 0, 'reg_loss': tensor(nan, device='cuda:0'), 'num_reg': 11736, 'loss': tensor(nan, device='cuda:0')}\n",
      "Epoch 0.000, lr 0.00000, time 0.00\n",
      "Wed Jul 27 08:52:00 2022\n",
      "loss nan nan nan, ade1 nan, fde1 nan, ade nan, fde nan\n",
      "\n"
     ]
    },
    {
     "name": "stderr",
     "output_type": "stream",
     "text": [
      "1223it [07:29,  3.05it/s]"
     ]
    },
    {
     "name": "stdout",
     "output_type": "stream",
     "text": [
      "{'cls_loss': tensor(nan, device='cuda:0'), 'num_cls': 0, 'reg_loss': tensor(nan, device='cuda:0'), 'num_reg': 12661, 'loss': tensor(nan, device='cuda:0')}\n",
      "Epoch 0.000, lr 0.00000, time 0.00\n",
      "Wed Jul 27 08:52:01 2022\n",
      "loss nan nan nan, ade1 nan, fde1 nan, ade nan, fde nan\n",
      "\n"
     ]
    },
    {
     "name": "stderr",
     "output_type": "stream",
     "text": [
      "1224it [07:29,  3.12it/s]"
     ]
    },
    {
     "name": "stdout",
     "output_type": "stream",
     "text": [
      "{'cls_loss': tensor(nan, device='cuda:0'), 'num_cls': 0, 'reg_loss': tensor(nan, device='cuda:0'), 'num_reg': 9641, 'loss': tensor(nan, device='cuda:0')}\n",
      "Epoch 0.000, lr 0.00000, time 0.00\n",
      "Wed Jul 27 08:52:01 2022\n",
      "loss nan nan nan, ade1 nan, fde1 nan, ade nan, fde nan\n",
      "\n"
     ]
    },
    {
     "name": "stderr",
     "output_type": "stream",
     "text": [
      "1225it [07:30,  3.02it/s]"
     ]
    },
    {
     "name": "stdout",
     "output_type": "stream",
     "text": [
      "{'cls_loss': tensor(nan, device='cuda:0'), 'num_cls': 0, 'reg_loss': tensor(nan, device='cuda:0'), 'num_reg': 11136, 'loss': tensor(nan, device='cuda:0')}\n",
      "Epoch 0.000, lr 0.00000, time 0.00\n",
      "Wed Jul 27 08:52:01 2022\n",
      "loss nan nan nan, ade1 nan, fde1 nan, ade nan, fde nan\n",
      "\n"
     ]
    },
    {
     "name": "stderr",
     "output_type": "stream",
     "text": [
      "1226it [07:30,  3.10it/s]"
     ]
    },
    {
     "name": "stdout",
     "output_type": "stream",
     "text": [
      "{'cls_loss': tensor(nan, device='cuda:0'), 'num_cls': 0, 'reg_loss': tensor(nan, device='cuda:0'), 'num_reg': 11628, 'loss': tensor(nan, device='cuda:0')}\n",
      "Epoch 0.000, lr 0.00000, time 0.00\n",
      "Wed Jul 27 08:52:01 2022\n",
      "loss nan nan nan, ade1 nan, fde1 nan, ade nan, fde nan\n",
      "\n"
     ]
    },
    {
     "name": "stderr",
     "output_type": "stream",
     "text": [
      "1227it [07:30,  3.12it/s]"
     ]
    },
    {
     "name": "stdout",
     "output_type": "stream",
     "text": [
      "{'cls_loss': tensor(nan, device='cuda:0'), 'num_cls': 0, 'reg_loss': tensor(nan, device='cuda:0'), 'num_reg': 11130, 'loss': tensor(nan, device='cuda:0')}\n",
      "Epoch 0.000, lr 0.00000, time 0.00\n",
      "Wed Jul 27 08:52:02 2022\n",
      "loss nan nan nan, ade1 nan, fde1 nan, ade nan, fde nan\n",
      "\n"
     ]
    },
    {
     "name": "stderr",
     "output_type": "stream",
     "text": [
      "1228it [07:30,  3.18it/s]"
     ]
    },
    {
     "name": "stdout",
     "output_type": "stream",
     "text": [
      "{'cls_loss': tensor(nan, device='cuda:0'), 'num_cls': 0, 'reg_loss': tensor(nan, device='cuda:0'), 'num_reg': 9357, 'loss': tensor(nan, device='cuda:0')}\n",
      "Epoch 0.000, lr 0.00000, time 0.00\n",
      "Wed Jul 27 08:52:02 2022\n",
      "loss nan nan nan, ade1 nan, fde1 nan, ade nan, fde nan\n",
      "\n",
      "{'cls_loss': tensor(nan, device='cuda:0'), 'num_cls': 0, 'reg_loss': tensor(nan, device='cuda:0'), 'num_reg': 10687, 'loss': tensor(nan, device='cuda:0')}\n",
      "Epoch 0.000, lr 0.00000, time 0.00\n"
     ]
    },
    {
     "name": "stderr",
     "output_type": "stream",
     "text": [
      "1229it [07:32,  1.86it/s]"
     ]
    },
    {
     "name": "stdout",
     "output_type": "stream",
     "text": [
      "Wed Jul 27 08:52:03 2022\n",
      "loss nan nan nan, ade1 nan, fde1 nan, ade nan, fde nan\n",
      "\n",
      "{'cls_loss': tensor(nan, device='cuda:0'), 'num_cls': 0, 'reg_loss': tensor(nan, device='cuda:0'), 'num_reg': 11489, 'loss': tensor(nan, device='cuda:0')}\n",
      "Epoch 0.000, lr 0.00000, time 0.00\n"
     ]
    },
    {
     "name": "stderr",
     "output_type": "stream",
     "text": [
      "1230it [07:32,  2.08it/s]"
     ]
    },
    {
     "name": "stdout",
     "output_type": "stream",
     "text": [
      "Wed Jul 27 08:52:03 2022\n",
      "loss nan nan nan, ade1 nan, fde1 nan, ade nan, fde nan\n",
      "\n",
      "{'cls_loss': tensor(nan, device='cuda:0'), 'num_cls': 0, 'reg_loss': tensor(nan, device='cuda:0'), 'num_reg': 10105, 'loss': tensor(nan, device='cuda:0')}\n",
      "Epoch 0.000, lr 0.00000, time 0.00\n"
     ]
    },
    {
     "name": "stderr",
     "output_type": "stream",
     "text": [
      "1231it [07:32,  2.33it/s]"
     ]
    },
    {
     "name": "stdout",
     "output_type": "stream",
     "text": [
      "Wed Jul 27 08:52:04 2022\n",
      "loss nan nan nan, ade1 nan, fde1 nan, ade nan, fde nan\n",
      "\n",
      "{'cls_loss': tensor(nan, device='cuda:0'), 'num_cls': 0, 'reg_loss': tensor(nan, device='cuda:0'), 'num_reg': 9652, 'loss': tensor(nan, device='cuda:0')}\n",
      "Epoch 0.000, lr 0.00000, time 0.00\n"
     ]
    },
    {
     "name": "stderr",
     "output_type": "stream",
     "text": [
      "1232it [07:32,  2.56it/s]"
     ]
    },
    {
     "name": "stdout",
     "output_type": "stream",
     "text": [
      "Wed Jul 27 08:52:04 2022\n",
      "loss nan nan nan, ade1 nan, fde1 nan, ade nan, fde nan\n",
      "\n",
      "{'cls_loss': tensor(nan, device='cuda:0'), 'num_cls': 0, 'reg_loss': tensor(nan, device='cuda:0'), 'num_reg': 11425, 'loss': tensor(nan, device='cuda:0')}\n",
      "Epoch 0.000, lr 0.00000, time 0.00\n"
     ]
    },
    {
     "name": "stderr",
     "output_type": "stream",
     "text": [
      "1233it [07:33,  2.71it/s]"
     ]
    },
    {
     "name": "stdout",
     "output_type": "stream",
     "text": [
      "Wed Jul 27 08:52:04 2022\n",
      "loss nan nan nan, ade1 nan, fde1 nan, ade nan, fde nan\n",
      "\n"
     ]
    },
    {
     "name": "stderr",
     "output_type": "stream",
     "text": [
      "1234it [07:33,  2.72it/s]"
     ]
    },
    {
     "name": "stdout",
     "output_type": "stream",
     "text": [
      "{'cls_loss': tensor(nan, device='cuda:0'), 'num_cls': 0, 'reg_loss': tensor(nan, device='cuda:0'), 'num_reg': 4518, 'loss': tensor(nan, device='cuda:0')}\n",
      "Epoch 0.000, lr 0.00000, time 0.00\n",
      "Wed Jul 27 08:52:05 2022\n",
      "loss nan nan nan, ade1 nan, fde1 nan, ade nan, fde nan\n",
      "\n"
     ]
    },
    {
     "name": "stderr",
     "output_type": "stream",
     "text": [
      "\n"
     ]
    }
   ],
   "source": [
    "#val\n",
    "preds = {}\n",
    "gts = {}\n",
    "cities = {}\n",
    "net.cuda()\n",
    "metrics = dict()\n",
    "for ii, data in tqdm(enumerate(val_loader)):\n",
    "    data = dict(data)\n",
    "    with torch.no_grad():\n",
    "        output = net(data)\n",
    "        results = [x[0:1].detach().cpu().numpy() for x in output[\"reg\"]]\n",
    "\n",
    "        loss_out = loss(output, data)\n",
    "        print(loss_out)\n",
    "        post_out = post_process(output, data)\n",
    "        post_process.append(metrics, loss_out, post_out)\n",
    "        post_process.display(metrics, 0, 0, 0)\n",
    "\n",
    "    # for i, (argo_idx, pred_traj) in enumerate(zip(data[\"argo_id\"], results)):\n",
    "    #     preds[argo_idx] = pred_traj.squeeze()\n",
    "    #     cities[argo_idx] = data[\"city\"][i]\n",
    "    #     gts[argo_idx] = data[\"gt_preds\"][i][0] if \"gt_preds\" in data else None"
   ]
  },
  {
   "cell_type": "code",
   "execution_count": null,
   "id": "305901d2-3428-40fb-b97c-a6ee8e4ec4e6",
   "metadata": {},
   "outputs": [],
   "source": [
    "output = net(data)"
   ]
  },
  {
   "cell_type": "code",
   "execution_count": null,
   "id": "f47c0183-0ede-40ac-80bd-d30ce53c3c9a",
   "metadata": {},
   "outputs": [],
   "source": [
    "\n",
    "val_out=output\n",
    "val_data=data\n",
    "val_out.keys()\n",
    "len(val_data['orig']) #dict_keys(['city', 'orig', 'gt_preds', 'has_preds', 'theta', 'rot', 'feats', 'ctrs', 'graph'])\n",
    "\n",
    "cls,reg=val_out[\"cls\"], val_out[\"reg\"]\n",
    "reg = torch.cat([x for x in reg], 0)\n",
    "print(f\"reg shape{reg.shape}\")\n",
    "gt_preds=torch.cat([x for x in val_data['gt_preds']], 0)\n",
    "print(f\"gt_preds.shape{gt_preds.shape}\")\n",
    "\n",
    "print(f\"reg_e.g.{reg[0][0]}\")\n",
    "print(f\"gt_e.g.{gt_preds[0]}\")\n",
    "\n"
   ]
  },
  {
   "cell_type": "code",
   "execution_count": null,
   "id": "b5c6fc89-b381-4212-8399-8a1ba0b7674d",
   "metadata": {},
   "outputs": [],
   "source": [
    "# val_data[\"orig\"]\n",
    "# orig = torch.cat([x for x in val_data[\"orig\"]], 0)\n",
    "\n",
    "# has_preds=val_data[\"has_preds\"]\n",
    "# has_preds=torch.cat([x for x in val_data[\"orig\"]], 0)\n",
    "# has_preds.shape\n",
    "\n",
    "graph=val_data[\"graph\"]\n",
    "graph[0].keys()"
   ]
  },
  {
   "cell_type": "code",
   "execution_count": null,
   "id": "77b9f4a9-830c-49fd-a99d-ddcb1fb936b3",
   "metadata": {},
   "outputs": [],
   "source": [
    "# begin inference\n",
    "preds = {}\n",
    "gts = {}\n",
    "cities = {}\n",
    "net.cuda()\n",
    "metrics = dict()\n",
    "for ii, data in tqdm(enumerate(data_loader)):\n",
    "    data = dict(data)\n",
    "    with torch.no_grad():\n",
    "        output = net(data)\n",
    "        results = [x[0:1].detach().cpu().numpy() for x in output[\"reg\"]]\n",
    "\n",
    "\n",
    "    for i, (argo_idx, pred_traj) in enumerate(zip(data[\"argo_id\"], results)):\n",
    "        preds[argo_idx] = pred_traj.squeeze()\n",
    "        cities[argo_idx] = data[\"city\"][i]\n",
    "        gts[argo_idx] = data[\"gt_preds\"][i][0] if \"gt_preds\" in data else None\n",
    "\n",
    "# save for further visualization\n",
    "res = dict(\n",
    "    preds = preds,\n",
    "    gts = gts,\n",
    "    cities = cities,\n",
    ")\n",
    "# torch.save(res,f\"{config['save_dir']}/results.pkl\")\n",
    "\n",
    "# evaluate or submit\n",
    "if args.split == \"val\":\n",
    "    # for val set: compute metric\n",
    "    from argoverse.evaluation.eval_forecasting import (\n",
    "        compute_forecasting_metrics,\n",
    "    )\n",
    "    # Max #guesses (K): 6\n",
    "    _ = compute_forecasting_metrics(preds, gts, cities, 6, 30, 2)\n",
    "    # Max #guesses (K): 1\n",
    "    _ = compute_forecasting_metrics(preds, gts, cities, 1, 30, 2)\n",
    "else:\n",
    "    # for test set: save as h5 for submission in evaluation server\n",
    "    from argoverse.evaluation.competition_util import generate_forecasting_h5\n",
    "    generate_forecasting_h5(preds, f\"{config['save_dir']}/submit.h5\")  # this might take awhile\n",
    "    print(\"----------------finish generate---------------\")"
   ]
  },
  {
   "cell_type": "code",
   "execution_count": null,
   "id": "0eca9270-092f-417c-90c9-91d32a11e63f",
   "metadata": {},
   "outputs": [],
   "source": []
  }
 ],
 "metadata": {
  "kernelspec": {
   "display_name": "Python 3 (ipykernel)",
   "language": "python",
   "name": "python3"
  },
  "language_info": {
   "codemirror_mode": {
    "name": "ipython",
    "version": 3
   },
   "file_extension": ".py",
   "mimetype": "text/x-python",
   "name": "python",
   "nbconvert_exporter": "python",
   "pygments_lexer": "ipython3",
   "version": "3.7.13"
  }
 },
 "nbformat": 4,
 "nbformat_minor": 5
}
