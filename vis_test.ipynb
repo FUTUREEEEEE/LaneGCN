{
 "cells": [
  {
   "cell_type": "code",
   "execution_count": 3,
   "id": "423d8f28-9b24-4592-bfd9-c9863fc1c673",
   "metadata": {},
   "outputs": [],
   "source": [
    "from importlib import import_module\n",
    "import pickle\n",
    "import sys\n",
    "from data import ArgoTestDataset\n",
    "import os\n",
    "from utils import Logger, load_pretrain\n",
    "\n",
    "import torch\n",
    "from torch.utils.data import DataLoader, Sampler\n",
    "from torch.utils.data.distributed import DistributedSampler\n",
    "from tqdm import tqdm"
   ]
  },
  {
   "cell_type": "code",
   "execution_count": 14,
   "id": "9afeb6de-55cb-44b2-a835-cf993d5e829d",
   "metadata": {},
   "outputs": [],
   "source": [
    "from collections import defaultdict\n",
    "from typing import Dict, List, Optional\n",
    "\n",
    "import matplotlib.lines as mlines\n",
    "import matplotlib.pyplot as plt\n",
    "import numpy as np\n",
    "import pandas as pd\n",
    "import scipy.interpolate as interp\n",
    "\n",
    "from argoverse.map_representation.map_api import ArgoverseMap\n",
    "\n",
    "_ZORDER = {\"AGENT\": 15, \"AV\": 10, \"OTHERS\": 5}\n",
    "\n",
    "\n",
    "def interpolate_polyline(polyline: np.ndarray, num_points: int) -> np.ndarray:\n",
    "    duplicates = []\n",
    "    for i in range(1, len(polyline)):\n",
    "        if np.allclose(polyline[i], polyline[i - 1]):\n",
    "            duplicates.append(i)\n",
    "    if polyline.shape[0] - len(duplicates) < 4:\n",
    "        return polyline\n",
    "    if duplicates:\n",
    "        polyline = np.delete(polyline, duplicates, axis=0)\n",
    "    tck, u = interp.splprep(polyline.T, s=0)\n",
    "    u = np.linspace(0.0, 1.0, num_points)\n",
    "    return np.column_stack(interp.splev(u, tck))\n",
    "\n",
    "\n",
    "def viz_sequence(\n",
    "    df: pd.DataFrame,\n",
    "    lane_centerlines: Optional[List[np.ndarray]] = None,\n",
    "    show: bool = True,\n",
    "    smoothen: bool = False,\n",
    "    ax=None\n",
    ") -> None:\n",
    "\n",
    "    # Seq data\n",
    "    city_name = df[\"CITY_NAME\"].values[0]\n",
    "\n",
    "    if lane_centerlines is None:\n",
    "        # Get API for Argo Dataset map\n",
    "        avm = ArgoverseMap()\n",
    "        seq_lane_props = avm.city_lane_centerlines_dict[city_name]\n",
    "\n",
    "    \n",
    "\n",
    "    x_min = min(df[\"X\"])\n",
    "    x_max = max(df[\"X\"])\n",
    "    y_min = min(df[\"Y\"])\n",
    "    y_max = max(df[\"Y\"])\n",
    "\n",
    "    if lane_centerlines is None:\n",
    "\n",
    "        ax.axis(xmin=x_min,xmax=x_max,ymin=y_min,ymax=y_max)\n",
    "\n",
    "        lane_centerlines = []\n",
    "        # Get lane centerlines which lie within the range of trajectories\n",
    "        for lane_id, lane_props in seq_lane_props.items():\n",
    "\n",
    "            lane_cl = lane_props.centerline\n",
    "\n",
    "            if (\n",
    "                np.min(lane_cl[:, 0]) < x_max\n",
    "                and np.min(lane_cl[:, 1]) < y_max\n",
    "                and np.max(lane_cl[:, 0]) > x_min\n",
    "                and np.max(lane_cl[:, 1]) > y_min\n",
    "            ):\n",
    "                lane_centerlines.append(lane_cl)\n",
    "\n",
    "    for lane_cl in lane_centerlines:\n",
    "        ax.plot(\n",
    "            lane_cl[:, 0],\n",
    "            lane_cl[:, 1],\n",
    "            \"--\",\n",
    "            color=\"grey\",\n",
    "            alpha=1,\n",
    "            linewidth=1,\n",
    "            zorder=0,\n",
    "        )\n",
    "    frames = df.groupby(\"TRACK_ID\")\n",
    "\n",
    "    ax.set_xlabel(\"Map X\")\n",
    "    ax.set_ylabel(\"Map Y\")\n",
    "\n",
    "    color_dict = {\"AGENT\": \"#d33e4c\", \"OTHERS\": \"#d3e8ef\", \"AV\": \"#007672\"}\n",
    "    object_type_tracker: Dict[int, int] = defaultdict(int)\n",
    "\n",
    "    # Plot all the tracks up till current frame\n",
    "    for group_name, group_data in frames:\n",
    "        object_type = group_data[\"OBJECT_TYPE\"].values[0]\n",
    "\n",
    "        cor_x = group_data[\"X\"].values\n",
    "        cor_y = group_data[\"Y\"].values\n",
    "\n",
    "        if smoothen:\n",
    "            polyline = np.column_stack((cor_x, cor_y))\n",
    "            num_points = cor_x.shape[0] * 3\n",
    "            smooth_polyline = interpolate_polyline(polyline, num_points)\n",
    "            cor_x = smooth_polyline[:, 0]\n",
    "            cor_y = smooth_polyline[:, 1]\n",
    "\n",
    "        ax.plot(\n",
    "            cor_x,\n",
    "            cor_y,\n",
    "            \"-\",\n",
    "            color=color_dict[object_type],\n",
    "            label=object_type if not object_type_tracker[object_type] else \"\",\n",
    "            alpha=1,\n",
    "            linewidth=1,\n",
    "            zorder=_ZORDER[object_type],\n",
    "        )\n",
    "\n",
    "        final_x = cor_x[-1]\n",
    "        final_y = cor_y[-1]\n",
    "\n",
    "        if object_type == \"AGENT\":\n",
    "            marker_type = \"o\"\n",
    "            marker_size = 7\n",
    "        elif object_type == \"OTHERS\":\n",
    "            marker_type = \"o\"\n",
    "            marker_size = 7\n",
    "        elif object_type == \"AV\":\n",
    "            marker_type = \"o\"\n",
    "            marker_size = 7\n",
    "\n",
    "        ax.plot(\n",
    "            final_x,\n",
    "            final_y,\n",
    "            marker_type,\n",
    "            color=color_dict[object_type],\n",
    "            label=object_type if not object_type_tracker[object_type] else \"\",\n",
    "            alpha=1,\n",
    "            markersize=marker_size,\n",
    "            zorder=_ZORDER[object_type],\n",
    "        )\n",
    "\n",
    "        object_type_tracker[object_type] += 1\n",
    "\n",
    "    red_star = mlines.Line2D([], [], color=\"red\", marker=\"*\", linestyle=\"None\", markersize=7, label=\"Agent\")\n",
    "    green_circle = mlines.Line2D(\n",
    "        [],\n",
    "        [],\n",
    "        color=\"green\",\n",
    "        marker=\"o\",\n",
    "        linestyle=\"None\",\n",
    "        markersize=7,\n",
    "        label=\"Others\",\n",
    "    )\n",
    "    black_triangle = mlines.Line2D([], [], color=\"black\", marker=\"^\", linestyle=\"None\", markersize=7, label=\"AV\")\n",
    "\n",
    "    ax.grid()\n",
    "    #ax.axis(\"off\")\n",
    "    return ax\n",
    "\n",
    "def fde(trajs,gt_traj):\n",
    "  trajs=np.array(trajs)\n",
    "  fdes=trajs[:,-1]-gt_traj[-1]\n",
    "  return np.min(np.abs(fdes))\n"
   ]
  },
  {
   "cell_type": "code",
   "execution_count": 53,
   "id": "b4c71c01-874e-4dd5-a093-5b63d9b7d48b",
   "metadata": {},
   "outputs": [
    {
     "data": {
      "text/plain": [
       "<All keys matched successfully>"
      ]
     },
     "execution_count": 53,
     "metadata": {},
     "output_type": "execute_result"
    }
   ],
   "source": [
    "model = import_module(\"lanegcn\")\n",
    "config, _, collate_fn, net, loss, post_process, opt = model.get_model()\n",
    "\n",
    "ckpt_path = \"results/lanegcnWed Jul 20 17:34:12 2022/36.000.ckpt\"\n",
    "ckpt=torch.load(ckpt_path)\n",
    "    \n",
    "from collections import OrderedDict\n",
    "new_state_dict = OrderedDict()  \n",
    "for k, v in ckpt[\"state_dict\"].items():\n",
    "    name = k[7:] # remove `module.`\n",
    "    new_state_dict[name] = v\n",
    "net.load_state_dict(new_state_dict,strict=True)"
   ]
  },
  {
   "cell_type": "code",
   "execution_count": 5,
   "id": "0864480b-afe6-439e-899f-cebd9b496774",
   "metadata": {},
   "outputs": [],
   "source": [
    "\n",
    "\n",
    "\n",
    "dataset = ArgoTestDataset(\"test\", config, train=False)\n",
    "test_loader = DataLoader(\n",
    "    dataset,\n",
    "    batch_size=128,#config[\"val_batch_size\"],\n",
    "    num_workers=config[\"val_workers\"],\n",
    "    collate_fn=collate_fn,\n",
    "    shuffle=True,\n",
    "    pin_memory=True,\n",
    ")\n",
    "\n"
   ]
  },
  {
   "cell_type": "code",
   "execution_count": null,
   "id": "bffdccc4-dc01-47e4-8328-8338178c129a",
   "metadata": {},
   "outputs": [],
   "source": [
    "net.cuda()\n",
    "net.eval()"
   ]
  },
  {
   "cell_type": "code",
   "execution_count": 7,
   "id": "b5274f37-fd17-4af1-b1d1-d238926f4ab5",
   "metadata": {},
   "outputs": [],
   "source": [
    "from argoverse.data_loading.argoverse_forecasting_loader import ArgoverseForecastingLoader\n",
    "root_dir = \"/mnt/lustre/tangxiaqiang/Code/LaneGCN/dataset/test_obs/data\"\n",
    "afl = ArgoverseForecastingLoader(root_dir)"
   ]
  },
  {
   "cell_type": "code",
   "execution_count": 37,
   "id": "8aa46477-74ca-431d-aba9-2db9c749f6cc",
   "metadata": {},
   "outputs": [],
   "source": [
    "batch=next(iter(test_loader))"
   ]
  },
  {
   "cell_type": "code",
   "execution_count": 57,
   "id": "e180a8d2-ff4e-47b8-a585-031426602fae",
   "metadata": {},
   "outputs": [],
   "source": [
    "output = net(batch)\n",
    "\n",
    "trajs_list = [x[0:1].detach().cpu().numpy() for x in output[\"reg\"]]\n",
    "probs_list=[x[0:1].detach().cpu().numpy() for x in output[\"cls\"]]"
   ]
  },
  {
   "cell_type": "code",
   "execution_count": null,
   "id": "889ce495-e730-434c-a9a7-48e39a18c5a5",
   "metadata": {},
   "outputs": [],
   "source": [
    "\n",
    "\n",
    "for trajs,probs,key in zip(trajs_list,probs_list,batch[\"argo_id\"]):\n",
    "    \n",
    "    seq_path = f\"{root_dir}/\"+str(key)+\".csv\"\n",
    "    \n",
    "    fig,ax = plt.subplots(figsize=(16, 14),dpi=100)\n",
    "    ax=viz_sequence(afl.get(seq_path).seq_df,ax=ax)\n",
    "    \n",
    "    for traj,prob in zip(trajs.squeeze(),probs.squeeze()):\n",
    "        ax.plot(traj[:,0],traj[:,1])\n",
    "        ax.text(traj[-1,0],traj[-1,1],str(round(prob,2)))\n",
    "    \n",
    "    # plt.savefig(\"pic1/\"+str(key)+\".jpg\")\n",
    "    "
   ]
  },
  {
   "cell_type": "code",
   "execution_count": 46,
   "id": "d56ed220-ba16-4b2a-a7c6-85989c2aa924",
   "metadata": {},
   "outputs": [
    {
     "data": {
      "text/plain": [
       "128"
      ]
     },
     "execution_count": 46,
     "metadata": {},
     "output_type": "execute_result"
    }
   ],
   "source": [
    "len(batch[\"argo_id\"])"
   ]
  },
  {
   "cell_type": "code",
   "execution_count": 43,
   "id": "3b1cc640-11d0-44dc-b96f-01d6ceddbcd5",
   "metadata": {},
   "outputs": [
    {
     "data": {
      "text/plain": [
       "128"
      ]
     },
     "execution_count": 43,
     "metadata": {},
     "output_type": "execute_result"
    }
   ],
   "source": [
    "len(trajs_list)"
   ]
  },
  {
   "cell_type": "code",
   "execution_count": 59,
   "id": "1c07bace-fa20-4a7d-8342-fb6b3a8e5c18",
   "metadata": {},
   "outputs": [
    {
     "data": {
      "text/plain": [
       "(1, 6)"
      ]
     },
     "execution_count": 59,
     "metadata": {},
     "output_type": "execute_result"
    }
   ],
   "source": [
    "probs_list[0].shape"
   ]
  },
  {
   "cell_type": "code",
   "execution_count": 60,
   "id": "91cd36e8-b4f0-4a95-9a3e-6e3f0944f0ba",
   "metadata": {},
   "outputs": [
    {
     "data": {
      "text/plain": [
       "array([-2.9008076, -2.9183996, -2.9690464, -3.0066352, -3.1625133,\n",
       "       -3.2031138], dtype=float32)"
      ]
     },
     "execution_count": 60,
     "metadata": {},
     "output_type": "execute_result"
    }
   ],
   "source": [
    "sum(probs_list[0])\n"
   ]
  },
  {
   "cell_type": "code",
   "execution_count": 61,
   "id": "ddd5be16-d7dd-4075-a4e9-3ceacff8c6c1",
   "metadata": {},
   "outputs": [
    {
     "data": {
      "text/plain": [
       "dict_keys(['cls', 'reg'])"
      ]
     },
     "execution_count": 61,
     "metadata": {},
     "output_type": "execute_result"
    }
   ],
   "source": [
    "output.keys()"
   ]
  },
  {
   "cell_type": "code",
   "execution_count": null,
   "id": "91d6855a-e69c-44c1-91c1-a33ca0d32b6d",
   "metadata": {},
   "outputs": [],
   "source": []
  }
 ],
 "metadata": {
  "kernelspec": {
   "display_name": "Python 3 (ipykernel)",
   "language": "python",
   "name": "python3"
  },
  "language_info": {
   "codemirror_mode": {
    "name": "ipython",
    "version": 3
   },
   "file_extension": ".py",
   "mimetype": "text/x-python",
   "name": "python",
   "nbconvert_exporter": "python",
   "pygments_lexer": "ipython3",
   "version": "3.7.13"
  }
 },
 "nbformat": 4,
 "nbformat_minor": 5
}
